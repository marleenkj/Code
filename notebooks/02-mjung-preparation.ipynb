{
 "cells": [
  {
   "cell_type": "code",
   "execution_count": 17,
   "metadata": {},
   "outputs": [
    {
     "name": "stdout",
     "output_type": "stream",
     "text": [
      "The autoreload extension is already loaded. To reload it, use:\n",
      "  %reload_ext autoreload\n"
     ]
    }
   ],
   "source": [
    "import json\n",
    "import logging\n",
    "import os\n",
    "import sys\n",
    "\n",
    "from geopy.geocoders import Bing\n",
    "\n",
    "from dotenv import load_dotenv\n",
    "from loguru import logger\n",
    "import numpy as np\n",
    "import pandas as pd\n",
    "import s3fs\n",
    "import sqlalchemy\n",
    "from sqlalchemy import text\n",
    "\n",
    "import geopandas as gpd\n",
    "from shapely.geometry import LineString\n",
    "\n",
    "sys.path.append('..')\n",
    "\n",
    "from src.preprocessing import data_preprocessing_bridge\n",
    "\n",
    "pd.set_option('display.max_columns', None)\n",
    "\n",
    "%load_ext autoreload\n",
    "%autoreload 2\n",
    "\n",
    "project_path = 's3://sfgdata/projects/sustainable-transport'\n",
    "dataset_name = 'sql_poc4'\n",
    "dict_column_names = 'bridge_names'"
   ]
  },
  {
   "cell_type": "code",
   "execution_count": 6,
   "metadata": {},
   "outputs": [],
   "source": [
    "df = pd.read_csv(f'{project_path}/raw/{dataset_name}.csv')"
   ]
  },
  {
   "cell_type": "code",
   "execution_count": 9,
   "metadata": {},
   "outputs": [
    {
     "name": "stderr",
     "output_type": "stream",
     "text": [
      "2023-03-27 10:52:29.584 | INFO     | __main__:<module>:8 - Import done\n",
      "c:\\Users\\SESA667490\\Documents\\GitHub\\sustainable-transport\\notebooks\\..\\src\\preprocessing.py:41: SettingWithCopyWarning: \n",
      "A value is trying to be set on a copy of a slice from a DataFrame.\n",
      "Try using .loc[row_indexer,col_indexer] = value instead\n",
      "\n",
      "See the caveats in the documentation: https://pandas.pydata.org/pandas-docs/stable/user_guide/indexing.html#returning-a-view-versus-a-copy\n",
      "  df[i] = df[i].str.upper()\n",
      "c:\\Users\\SESA667490\\Documents\\GitHub\\sustainable-transport\\notebooks\\..\\src\\preprocessing.py:42: SettingWithCopyWarning: \n",
      "A value is trying to be set on a copy of a slice from a DataFrame.\n",
      "Try using .loc[row_indexer,col_indexer] = value instead\n",
      "\n",
      "See the caveats in the documentation: https://pandas.pydata.org/pandas-docs/stable/user_guide/indexing.html#returning-a-view-versus-a-copy\n",
      "  df[i] = df[i].apply(lambda x: clean_string(x))\n",
      "c:\\Users\\SESA667490\\Documents\\GitHub\\sustainable-transport\\notebooks\\..\\src\\preprocessing.py:53: SettingWithCopyWarning: \n",
      "A value is trying to be set on a copy of a slice from a DataFrame.\n",
      "Try using .loc[row_indexer,col_indexer] = value instead\n",
      "\n",
      "See the caveats in the documentation: https://pandas.pydata.org/pandas-docs/stable/user_guide/indexing.html#returning-a-view-versus-a-copy\n",
      "  df['YYBTGEW'] = np.where(df['YYGEWEI']=='LB', df['YYBTGEW']*0.45359237, df['YYBTGEW'])\n",
      "c:\\Users\\SESA667490\\Documents\\GitHub\\sustainable-transport\\notebooks\\..\\src\\preprocessing.py:54: SettingWithCopyWarning: \n",
      "A value is trying to be set on a copy of a slice from a DataFrame.\n",
      "Try using .loc[row_indexer,col_indexer] = value instead\n",
      "\n",
      "See the caveats in the documentation: https://pandas.pydata.org/pandas-docs/stable/user_guide/indexing.html#returning-a-view-versus-a-copy\n",
      "  df['YYBTGEW'] = np.where(df['YYGEWEI']=='G', df['YYBTGEW']/1000, df['YYBTGEW'])\n"
     ]
    }
   ],
   "source": [
    "# Dict for column names\n",
    "s3 = s3fs.S3FileSystem()\n",
    "with s3.open(f'{project_path}/external/{dict_column_names}.json', 'r') as fp:\n",
    "    dict_names = json.load(fp)\n",
    "dict_names['Shipment id'] = 'TKNUM'\n",
    "dict_names['IG'] = 'IG'\n",
    "\n",
    "logger.info('Import done')\n",
    "\n",
    "# Cleaning df_raw\n",
    "df = data_preprocessing_bridge(df, dict_names)"
   ]
  },
  {
   "attachments": {},
   "cell_type": "markdown",
   "metadata": {},
   "source": [
    "## From country codes to countries"
   ]
  },
  {
   "cell_type": "code",
   "execution_count": 10,
   "metadata": {},
   "outputs": [
    {
     "data": {
      "text/html": [
       "<div>\n",
       "<style scoped>\n",
       "    .dataframe tbody tr th:only-of-type {\n",
       "        vertical-align: middle;\n",
       "    }\n",
       "\n",
       "    .dataframe tbody tr th {\n",
       "        vertical-align: top;\n",
       "    }\n",
       "\n",
       "    .dataframe thead th {\n",
       "        text-align: right;\n",
       "    }\n",
       "</style>\n",
       "<table border=\"1\" class=\"dataframe\">\n",
       "  <thead>\n",
       "    <tr style=\"text-align: right;\">\n",
       "      <th></th>\n",
       "      <th>Pickup date</th>\n",
       "      <th>DC code</th>\n",
       "      <th>DC name</th>\n",
       "      <th>Client no</th>\n",
       "      <th>Client name</th>\n",
       "      <th>Address</th>\n",
       "      <th>Zip</th>\n",
       "      <th>City</th>\n",
       "      <th>Country code</th>\n",
       "      <th>Shipping type</th>\n",
       "      <th>Carrier name</th>\n",
       "      <th>Sender weight (kg)</th>\n",
       "      <th>Volume (m3)</th>\n",
       "      <th>Nb of packages</th>\n",
       "      <th>Shipment id</th>\n",
       "      <th>IG</th>\n",
       "      <th>Country</th>\n",
       "    </tr>\n",
       "  </thead>\n",
       "  <tbody>\n",
       "    <tr>\n",
       "      <th>0</th>\n",
       "      <td>2022-01-04 07:44:00</td>\n",
       "      <td>FR45</td>\n",
       "      <td>DC Evreux</td>\n",
       "      <td>1000072718</td>\n",
       "      <td>ENEDIS</td>\n",
       "      <td>46/48 BD DEQUEVAUVILLIERS</td>\n",
       "      <td>92230</td>\n",
       "      <td>GENNEVILLIERS</td>\n",
       "      <td>FR</td>\n",
       "      <td>49</td>\n",
       "      <td>TRANS SERVICE</td>\n",
       "      <td>117.000</td>\n",
       "      <td>0.720</td>\n",
       "      <td>NaN</td>\n",
       "      <td>CV01208211</td>\n",
       "      <td>0</td>\n",
       "      <td>France</td>\n",
       "    </tr>\n",
       "    <tr>\n",
       "      <th>1</th>\n",
       "      <td>2022-01-10 11:19:00</td>\n",
       "      <td>FR43</td>\n",
       "      <td>DC Newlog</td>\n",
       "      <td>1000053993</td>\n",
       "      <td>SALENTEY AGENCE BEAUVAIS</td>\n",
       "      <td>1 RUE DU WAGE</td>\n",
       "      <td>60000</td>\n",
       "      <td>BEAUVAIS</td>\n",
       "      <td>FR</td>\n",
       "      <td>49</td>\n",
       "      <td>KUEHNE &amp; NAGEL ROAD</td>\n",
       "      <td>138.360</td>\n",
       "      <td>6.768</td>\n",
       "      <td>NaN</td>\n",
       "      <td>CS01167139</td>\n",
       "      <td>0</td>\n",
       "      <td>France</td>\n",
       "    </tr>\n",
       "    <tr>\n",
       "      <th>2</th>\n",
       "      <td>2022-01-05 18:05:00</td>\n",
       "      <td>HU07</td>\n",
       "      <td>HU08-TPP RDC Cent.</td>\n",
       "      <td>1500013142</td>\n",
       "      <td>23</td>\n",
       "      <td>12</td>\n",
       "      <td>1612</td>\n",
       "      <td></td>\n",
       "      <td>BG</td>\n",
       "      <td>49</td>\n",
       "      <td>Gebrüder Weiss Szállítmányozási</td>\n",
       "      <td>6.700</td>\n",
       "      <td>0.108</td>\n",
       "      <td>NaN</td>\n",
       "      <td>0001262428</td>\n",
       "      <td>0</td>\n",
       "      <td>Bulgaria</td>\n",
       "    </tr>\n",
       "    <tr>\n",
       "      <th>3</th>\n",
       "      <td>2022-01-05 10:59:00</td>\n",
       "      <td>FR45</td>\n",
       "      <td>DC Evreux</td>\n",
       "      <td>1000064589</td>\n",
       "      <td>POWER PANELS SA</td>\n",
       "      <td>12 RUE DE BITBOURG</td>\n",
       "      <td>1273</td>\n",
       "      <td>LUXEMBOURG</td>\n",
       "      <td>LU</td>\n",
       "      <td>49</td>\n",
       "      <td>SCHENKER FRANCE</td>\n",
       "      <td>285.002</td>\n",
       "      <td>2.377</td>\n",
       "      <td>NaN</td>\n",
       "      <td>CV01212761</td>\n",
       "      <td>1</td>\n",
       "      <td>Luxembourg</td>\n",
       "    </tr>\n",
       "    <tr>\n",
       "      <th>4</th>\n",
       "      <td>2022-01-03 11:16:00</td>\n",
       "      <td>FR43</td>\n",
       "      <td>DC Newlog</td>\n",
       "      <td>1000058890</td>\n",
       "      <td>ITEC PRODUCTION</td>\n",
       "      <td>10 AVENUE DES CARREAUX  ZI LES FOU</td>\n",
       "      <td>49480</td>\n",
       "      <td>VERRIERES EN ANJOU</td>\n",
       "      <td>FR</td>\n",
       "      <td>49</td>\n",
       "      <td>KUEHNE &amp; NAGEL ROAD</td>\n",
       "      <td>50.948</td>\n",
       "      <td>3.438</td>\n",
       "      <td>NaN</td>\n",
       "      <td>CS01162594</td>\n",
       "      <td>0</td>\n",
       "      <td>France</td>\n",
       "    </tr>\n",
       "    <tr>\n",
       "      <th>...</th>\n",
       "      <td>...</td>\n",
       "      <td>...</td>\n",
       "      <td>...</td>\n",
       "      <td>...</td>\n",
       "      <td>...</td>\n",
       "      <td>...</td>\n",
       "      <td>...</td>\n",
       "      <td>...</td>\n",
       "      <td>...</td>\n",
       "      <td>...</td>\n",
       "      <td>...</td>\n",
       "      <td>...</td>\n",
       "      <td>...</td>\n",
       "      <td>...</td>\n",
       "      <td>...</td>\n",
       "      <td>...</td>\n",
       "      <td>...</td>\n",
       "    </tr>\n",
       "    <tr>\n",
       "      <th>634116</th>\n",
       "      <td>2022-10-07 16:52:00</td>\n",
       "      <td>HU07</td>\n",
       "      <td>HU08-TPP RDC Cent.</td>\n",
       "      <td>VFR02531</td>\n",
       "      <td>SCHNEIDER ELECTRIC INDUSTRIES SAS</td>\n",
       "      <td>RUE DES GARINNES</td>\n",
       "      <td>38070</td>\n",
       "      <td>SAINT QUENTIN FALLAVIER</td>\n",
       "      <td>FR</td>\n",
       "      <td>42</td>\n",
       "      <td>Gebrüder Weiss Szállítmányozási</td>\n",
       "      <td>271.000</td>\n",
       "      <td>1.728</td>\n",
       "      <td>NaN</td>\n",
       "      <td>0001360655</td>\n",
       "      <td>0</td>\n",
       "      <td>France</td>\n",
       "    </tr>\n",
       "    <tr>\n",
       "      <th>634117</th>\n",
       "      <td>2022-08-11 17:48:00</td>\n",
       "      <td>HU07</td>\n",
       "      <td>HU08-TPP RDC Cent.</td>\n",
       "      <td>VFR02531</td>\n",
       "      <td>SCHNEIDER ELECTRIC INDUSTRIES SAS</td>\n",
       "      <td>RUE DES GARINNES</td>\n",
       "      <td>38070</td>\n",
       "      <td>SAINT QUENTIN FALLAVIER</td>\n",
       "      <td>FR</td>\n",
       "      <td>42</td>\n",
       "      <td>Gebrüder Weiss Szállítmányozási</td>\n",
       "      <td>1586.769</td>\n",
       "      <td>19.749</td>\n",
       "      <td>NaN</td>\n",
       "      <td>0001340692</td>\n",
       "      <td>0</td>\n",
       "      <td>France</td>\n",
       "    </tr>\n",
       "    <tr>\n",
       "      <th>634118</th>\n",
       "      <td>2022-09-14 17:33:00</td>\n",
       "      <td>HU07</td>\n",
       "      <td>HU08-TPP RDC Cent.</td>\n",
       "      <td>VFR08021</td>\n",
       "      <td>SCHNEIDER ELECTRIC INDUSTRIES SAS</td>\n",
       "      <td>RUE ROLLAND GARROS</td>\n",
       "      <td>27930</td>\n",
       "      <td>GUICHAINVILLE</td>\n",
       "      <td>FR</td>\n",
       "      <td>42</td>\n",
       "      <td>Gebrüder Weiss Szállítmányozási</td>\n",
       "      <td>5.000</td>\n",
       "      <td>0.108</td>\n",
       "      <td>NaN</td>\n",
       "      <td>0001352109</td>\n",
       "      <td>0</td>\n",
       "      <td>France</td>\n",
       "    </tr>\n",
       "    <tr>\n",
       "      <th>634119</th>\n",
       "      <td>2022-12-14 11:23:00</td>\n",
       "      <td>HU07</td>\n",
       "      <td>HU08-TPP RDC Cent.</td>\n",
       "      <td>VFR08021</td>\n",
       "      <td>SCHNEIDER ELECTRIC INDUSTRIES SAS</td>\n",
       "      <td>RUE ROLLAND GARROS</td>\n",
       "      <td>27930</td>\n",
       "      <td>GUICHAINVILLE</td>\n",
       "      <td>FR</td>\n",
       "      <td>42</td>\n",
       "      <td>Gebrüder Weiss Szállítmányozási</td>\n",
       "      <td>62.010</td>\n",
       "      <td>0.634</td>\n",
       "      <td>NaN</td>\n",
       "      <td>0001383910</td>\n",
       "      <td>0</td>\n",
       "      <td>France</td>\n",
       "    </tr>\n",
       "    <tr>\n",
       "      <th>634120</th>\n",
       "      <td>2022-06-10 11:18:00</td>\n",
       "      <td>HU07</td>\n",
       "      <td>HU08-TPP RDC Cent.</td>\n",
       "      <td>VFR08021</td>\n",
       "      <td>SCHNEIDER ELECTRIC INDUSTRIES SAS</td>\n",
       "      <td>RUE ROLLAND GARROS</td>\n",
       "      <td>27930</td>\n",
       "      <td>GUICHAINVILLE</td>\n",
       "      <td>FR</td>\n",
       "      <td>42</td>\n",
       "      <td>Gebrüder Weiss Szállítmányozási</td>\n",
       "      <td>52.999</td>\n",
       "      <td>0.216</td>\n",
       "      <td>NaN</td>\n",
       "      <td>0001318882</td>\n",
       "      <td>0</td>\n",
       "      <td>France</td>\n",
       "    </tr>\n",
       "  </tbody>\n",
       "</table>\n",
       "<p>633851 rows × 17 columns</p>\n",
       "</div>"
      ],
      "text/plain": [
       "                Pickup date DC code             DC name   Client no  \\\n",
       "0       2022-01-04 07:44:00    FR45           DC Evreux  1000072718   \n",
       "1       2022-01-10 11:19:00    FR43           DC Newlog  1000053993   \n",
       "2       2022-01-05 18:05:00    HU07  HU08-TPP RDC Cent.  1500013142   \n",
       "3       2022-01-05 10:59:00    FR45           DC Evreux  1000064589   \n",
       "4       2022-01-03 11:16:00    FR43           DC Newlog  1000058890   \n",
       "...                     ...     ...                 ...         ...   \n",
       "634116  2022-10-07 16:52:00    HU07  HU08-TPP RDC Cent.    VFR02531   \n",
       "634117  2022-08-11 17:48:00    HU07  HU08-TPP RDC Cent.    VFR02531   \n",
       "634118  2022-09-14 17:33:00    HU07  HU08-TPP RDC Cent.    VFR08021   \n",
       "634119  2022-12-14 11:23:00    HU07  HU08-TPP RDC Cent.    VFR08021   \n",
       "634120  2022-06-10 11:18:00    HU07  HU08-TPP RDC Cent.    VFR08021   \n",
       "\n",
       "                              Client name                             Address  \\\n",
       "0                                  ENEDIS           46/48 BD DEQUEVAUVILLIERS   \n",
       "1                SALENTEY AGENCE BEAUVAIS                       1 RUE DU WAGE   \n",
       "2                                 23                                       12   \n",
       "3                         POWER PANELS SA                  12 RUE DE BITBOURG   \n",
       "4                         ITEC PRODUCTION  10 AVENUE DES CARREAUX  ZI LES FOU   \n",
       "...                                   ...                                 ...   \n",
       "634116  SCHNEIDER ELECTRIC INDUSTRIES SAS                    RUE DES GARINNES   \n",
       "634117  SCHNEIDER ELECTRIC INDUSTRIES SAS                    RUE DES GARINNES   \n",
       "634118  SCHNEIDER ELECTRIC INDUSTRIES SAS                  RUE ROLLAND GARROS   \n",
       "634119  SCHNEIDER ELECTRIC INDUSTRIES SAS                  RUE ROLLAND GARROS   \n",
       "634120  SCHNEIDER ELECTRIC INDUSTRIES SAS                  RUE ROLLAND GARROS   \n",
       "\n",
       "          Zip                     City Country code  Shipping type  \\\n",
       "0       92230            GENNEVILLIERS           FR             49   \n",
       "1       60000                 BEAUVAIS           FR             49   \n",
       "2        1612                                    BG             49   \n",
       "3        1273               LUXEMBOURG           LU             49   \n",
       "4       49480       VERRIERES EN ANJOU           FR             49   \n",
       "...       ...                      ...          ...            ...   \n",
       "634116  38070  SAINT QUENTIN FALLAVIER           FR             42   \n",
       "634117  38070  SAINT QUENTIN FALLAVIER           FR             42   \n",
       "634118  27930            GUICHAINVILLE           FR             42   \n",
       "634119  27930            GUICHAINVILLE           FR             42   \n",
       "634120  27930            GUICHAINVILLE           FR             42   \n",
       "\n",
       "                           Carrier name  Sender weight (kg)  Volume (m3)  \\\n",
       "0                         TRANS SERVICE             117.000        0.720   \n",
       "1                   KUEHNE & NAGEL ROAD             138.360        6.768   \n",
       "2       Gebrüder Weiss Szállítmányozási               6.700        0.108   \n",
       "3                       SCHENKER FRANCE             285.002        2.377   \n",
       "4                   KUEHNE & NAGEL ROAD              50.948        3.438   \n",
       "...                                 ...                 ...          ...   \n",
       "634116  Gebrüder Weiss Szállítmányozási             271.000        1.728   \n",
       "634117  Gebrüder Weiss Szállítmányozási            1586.769       19.749   \n",
       "634118  Gebrüder Weiss Szállítmányozási               5.000        0.108   \n",
       "634119  Gebrüder Weiss Szállítmányozási              62.010        0.634   \n",
       "634120  Gebrüder Weiss Szállítmányozási              52.999        0.216   \n",
       "\n",
       "        Nb of packages Shipment id  IG     Country  \n",
       "0                  NaN  CV01208211   0      France  \n",
       "1                  NaN  CS01167139   0      France  \n",
       "2                  NaN  0001262428   0    Bulgaria  \n",
       "3                  NaN  CV01212761   1  Luxembourg  \n",
       "4                  NaN  CS01162594   0      France  \n",
       "...                ...         ...  ..         ...  \n",
       "634116             NaN  0001360655   0      France  \n",
       "634117             NaN  0001340692   0      France  \n",
       "634118             NaN  0001352109   0      France  \n",
       "634119             NaN  0001383910   0      France  \n",
       "634120             NaN  0001318882   0      France  \n",
       "\n",
       "[633851 rows x 17 columns]"
      ]
     },
     "execution_count": 10,
     "metadata": {},
     "output_type": "execute_result"
    }
   ],
   "source": [
    "from src.preprocessing import get_country_name\n",
    "get_country_name(df)"
   ]
  },
  {
   "cell_type": "markdown",
   "metadata": {},
   "source": [
    "* for better results integrating country code"
   ]
  },
  {
   "attachments": {},
   "cell_type": "markdown",
   "metadata": {},
   "source": [
    "## Get geolocation"
   ]
  },
  {
   "cell_type": "code",
   "execution_count": 11,
   "metadata": {},
   "outputs": [],
   "source": [
    "df = pd.read_csv(f'{project_path}/processed/{dataset_name}_routes.csv')"
   ]
  },
  {
   "cell_type": "code",
   "execution_count": 14,
   "metadata": {},
   "outputs": [
    {
     "data": {
      "text/html": [
       "<div>\n",
       "<style scoped>\n",
       "    .dataframe tbody tr th:only-of-type {\n",
       "        vertical-align: middle;\n",
       "    }\n",
       "\n",
       "    .dataframe tbody tr th {\n",
       "        vertical-align: top;\n",
       "    }\n",
       "\n",
       "    .dataframe thead th {\n",
       "        text-align: right;\n",
       "    }\n",
       "</style>\n",
       "<table border=\"1\" class=\"dataframe\">\n",
       "  <thead>\n",
       "    <tr style=\"text-align: right;\">\n",
       "      <th></th>\n",
       "      <th>DC code</th>\n",
       "      <th>Client no</th>\n",
       "      <th>Address</th>\n",
       "      <th>City</th>\n",
       "      <th>Zip</th>\n",
       "      <th>Country</th>\n",
       "      <th>Country code</th>\n",
       "    </tr>\n",
       "  </thead>\n",
       "  <tbody>\n",
       "    <tr>\n",
       "      <th>0</th>\n",
       "      <td>FR45</td>\n",
       "      <td>1000072718</td>\n",
       "      <td>46/48 BD DEQUEVAUVILLIERS</td>\n",
       "      <td>GENNEVILLIERS</td>\n",
       "      <td>92230</td>\n",
       "      <td>France</td>\n",
       "      <td>FR</td>\n",
       "    </tr>\n",
       "    <tr>\n",
       "      <th>1</th>\n",
       "      <td>FR43</td>\n",
       "      <td>1000053993</td>\n",
       "      <td>1 RUE DU WAGE</td>\n",
       "      <td>BEAUVAIS</td>\n",
       "      <td>60000</td>\n",
       "      <td>France</td>\n",
       "      <td>FR</td>\n",
       "    </tr>\n",
       "    <tr>\n",
       "      <th>2</th>\n",
       "      <td>HU07</td>\n",
       "      <td>1500013142</td>\n",
       "      <td>12</td>\n",
       "      <td></td>\n",
       "      <td>1612</td>\n",
       "      <td>Bulgaria</td>\n",
       "      <td>BG</td>\n",
       "    </tr>\n",
       "    <tr>\n",
       "      <th>3</th>\n",
       "      <td>FR45</td>\n",
       "      <td>1000064589</td>\n",
       "      <td>12 RUE DE BITBOURG</td>\n",
       "      <td>LUXEMBOURG</td>\n",
       "      <td>1273</td>\n",
       "      <td>Luxembourg</td>\n",
       "      <td>LU</td>\n",
       "    </tr>\n",
       "    <tr>\n",
       "      <th>4</th>\n",
       "      <td>FR43</td>\n",
       "      <td>1000058890</td>\n",
       "      <td>10 AVENUE DES CARREAUX  ZI LES FOU</td>\n",
       "      <td>VERRIERES EN ANJOU</td>\n",
       "      <td>49480</td>\n",
       "      <td>France</td>\n",
       "      <td>FR</td>\n",
       "    </tr>\n",
       "    <tr>\n",
       "      <th>...</th>\n",
       "      <td>...</td>\n",
       "      <td>...</td>\n",
       "      <td>...</td>\n",
       "      <td>...</td>\n",
       "      <td>...</td>\n",
       "      <td>...</td>\n",
       "      <td>...</td>\n",
       "    </tr>\n",
       "    <tr>\n",
       "      <th>34233</th>\n",
       "      <td>FR45</td>\n",
       "      <td>1500075716</td>\n",
       "      <td>4 ROUTE DE VOUZAILLES</td>\n",
       "      <td>MAISONNEUVE</td>\n",
       "      <td>86170</td>\n",
       "      <td>France</td>\n",
       "      <td>FR</td>\n",
       "    </tr>\n",
       "    <tr>\n",
       "      <th>34234</th>\n",
       "      <td>FR43</td>\n",
       "      <td>1000071105</td>\n",
       "      <td>2 RUE ROUGET DE LISLE</td>\n",
       "      <td>ISSY LES MOULINEAUX</td>\n",
       "      <td>92130</td>\n",
       "      <td>France</td>\n",
       "      <td>FR</td>\n",
       "    </tr>\n",
       "    <tr>\n",
       "      <th>34235</th>\n",
       "      <td>FR45</td>\n",
       "      <td>1000065981</td>\n",
       "      <td>45A RUE LYAUTEY</td>\n",
       "      <td>GENEUILLE</td>\n",
       "      <td>25870</td>\n",
       "      <td>France</td>\n",
       "      <td>FR</td>\n",
       "    </tr>\n",
       "    <tr>\n",
       "      <th>34236</th>\n",
       "      <td>HU07</td>\n",
       "      <td>CAT01010</td>\n",
       "      <td>GEWERBEPARK OST 312</td>\n",
       "      <td>HARTBERG</td>\n",
       "      <td>8230</td>\n",
       "      <td>Austria</td>\n",
       "      <td>AT</td>\n",
       "    </tr>\n",
       "    <tr>\n",
       "      <th>34237</th>\n",
       "      <td>FR45</td>\n",
       "      <td>CSI01040</td>\n",
       "      <td>KERSNIKOVA ULICA 17A</td>\n",
       "      <td>CELJE</td>\n",
       "      <td>3000</td>\n",
       "      <td>Slovenia</td>\n",
       "      <td>SI</td>\n",
       "    </tr>\n",
       "  </tbody>\n",
       "</table>\n",
       "<p>34238 rows × 7 columns</p>\n",
       "</div>"
      ],
      "text/plain": [
       "      DC code   Client no                             Address  \\\n",
       "0        FR45  1000072718           46/48 BD DEQUEVAUVILLIERS   \n",
       "1        FR43  1000053993                       1 RUE DU WAGE   \n",
       "2        HU07  1500013142                                  12   \n",
       "3        FR45  1000064589                  12 RUE DE BITBOURG   \n",
       "4        FR43  1000058890  10 AVENUE DES CARREAUX  ZI LES FOU   \n",
       "...       ...         ...                                 ...   \n",
       "34233    FR45  1500075716               4 ROUTE DE VOUZAILLES   \n",
       "34234    FR43  1000071105               2 RUE ROUGET DE LISLE   \n",
       "34235    FR45  1000065981                     45A RUE LYAUTEY   \n",
       "34236    HU07    CAT01010                 GEWERBEPARK OST 312   \n",
       "34237    FR45    CSI01040                KERSNIKOVA ULICA 17A   \n",
       "\n",
       "                      City    Zip     Country Country code  \n",
       "0            GENNEVILLIERS  92230      France           FR  \n",
       "1                 BEAUVAIS  60000      France           FR  \n",
       "2                            1612    Bulgaria           BG  \n",
       "3               LUXEMBOURG   1273  Luxembourg           LU  \n",
       "4       VERRIERES EN ANJOU  49480      France           FR  \n",
       "...                    ...    ...         ...          ...  \n",
       "34233          MAISONNEUVE  86170      France           FR  \n",
       "34234  ISSY LES MOULINEAUX  92130      France           FR  \n",
       "34235            GENEUILLE  25870      France           FR  \n",
       "34236             HARTBERG   8230     Austria           AT  \n",
       "34237                CELJE   3000    Slovenia           SI  \n",
       "\n",
       "[34238 rows x 7 columns]"
      ]
     },
     "execution_count": 14,
     "metadata": {},
     "output_type": "execute_result"
    }
   ],
   "source": [
    "df"
   ]
  },
  {
   "cell_type": "markdown",
   "metadata": {},
   "source": [
    "#### Geopy and Bing\n",
    "* https://towardsdatascience.com/driving-distance-between-two-or-more-places-in-python-89779d691def\n",
    "* https://geopy.readthedocs.io/en/stable/#\n",
    "* unlimited geolocation"
   ]
  },
  {
   "cell_type": "code",
   "execution_count": 18,
   "metadata": {},
   "outputs": [],
   "source": [
    "def get_longitude_latitude(x, prefix):\n",
    "    '''\n",
    "    Getting longitude and latitude\n",
    "    prefix_lat_long is either in this case either\n",
    "    Shipper or Receiver\n",
    "    '''\n",
    "    BING_API_KEY = os.getenv('BING_API_KEY')\n",
    "    geolocator = Bing(\n",
    "        api_key=BING_API_KEY)\n",
    "    # Rue Roland Garros, 27930 Guichainville, France\n",
    "    address = str(x[f'{prefix} address'])+','+str(x[f'{prefix} zip']) + \\\n",
    "        ' '+str(x[f'{prefix} city'])+','+str(x[f'{prefix} country code'])\n",
    "    location = geolocator.geocode(address)\n",
    "    if location is not None:\n",
    "        return location.latitude, location.longitude\n",
    "    else:\n",
    "        address = str(x[f'{prefix} zip'])+' '+str(x[f'{prefix} city']\n",
    "                                                  )+','+str(x[f'{prefix} country code'])\n",
    "        location = geolocator.geocode(address)\n",
    "        if location is not None:\n",
    "            return location.latitude, location.longitude\n",
    "        else:\n",
    "            address = str(x[f'{prefix} city'])+',' + \\\n",
    "                str(x[f'{prefix} country code'])\n",
    "            location = geolocator.geocode(address)\n",
    "            if location is not None:\n",
    "                return location.latitude, location.longitude\n",
    "            else:\n",
    "                return NaN, NaN\n"
   ]
  },
  {
   "cell_type": "code",
   "execution_count": 23,
   "metadata": {},
   "outputs": [],
   "source": [
    "# Get geolocation\n",
    "BING_API_KEY = os.getenv('BING_API_KEY')\n",
    "geolocator = Bing(api_key=BING_API_KEY)\n",
    "address = \"Rue Roland Garros, 27930 Guichainville, France\"\n",
    "location = geolocator.geocode(address)"
   ]
  },
  {
   "cell_type": "code",
   "execution_count": 24,
   "metadata": {},
   "outputs": [
    {
     "data": {
      "text/plain": [
       "Location(Rue Roland Garros, Guichainville, Normandy 27930, France, (49.00580558, 1.17943339, 0.0))"
      ]
     },
     "execution_count": 24,
     "metadata": {},
     "output_type": "execute_result"
    }
   ],
   "source": [
    "location"
   ]
  },
  {
   "cell_type": "markdown",
   "metadata": {},
   "source": [
    "https://www.natasshaselvaraj.com/a-step-by-step-guide-on-geocoding-in-python/ "
   ]
  },
  {
   "attachments": {},
   "cell_type": "markdown",
   "metadata": {},
   "source": [
    "## Get distance"
   ]
  },
  {
   "attachments": {},
   "cell_type": "markdown",
   "metadata": {},
   "source": [
    "### AWS"
   ]
  },
  {
   "cell_type": "code",
   "execution_count": 33,
   "metadata": {},
   "outputs": [
    {
     "name": "stdout",
     "output_type": "stream",
     "text": [
      "Distance with AWS: 367.065\n"
     ]
    }
   ],
   "source": [
    "# Import one AWS json file \n",
    "s3 = s3fs.S3FileSystem()\n",
    "path = s3.ls(f'{project_path}/processed/aws')[1]\n",
    "with s3.open(f's3://{path}', 'r') as fp:\n",
    "        aws_json = json.load(fp)\n",
    "line_string = aws_json['Geometry']['LineString']\n",
    "\n",
    "print('Distance with AWS:', aws_json['Distance'])"
   ]
  },
  {
   "attachments": {},
   "cell_type": "markdown",
   "metadata": {},
   "source": [
    "### Geopy"
   ]
  },
  {
   "cell_type": "code",
   "execution_count": 35,
   "metadata": {},
   "outputs": [
    {
     "name": "stdout",
     "output_type": "stream",
     "text": [
      "Distance with Geopy:  416.49912979604375\n"
     ]
    }
   ],
   "source": [
    "'''\n",
    "Distance of the line_string using geopy.distance.geodesic\n",
    "'''\n",
    "\n",
    "import geopy.distance\n",
    "sum = 0\n",
    "for i in range(1,len(line_string)):\n",
    "    x = geopy.distance.geodesic(line_string[i-1], line_string[i]).km\n",
    "    sum = sum+x\n",
    "print('Distance with Geopy: ', sum)"
   ]
  },
  {
   "cell_type": "code",
   "execution_count": 38,
   "metadata": {},
   "outputs": [
    {
     "name": "stdout",
     "output_type": "stream",
     "text": [
      "Distance with harversine formula:  417.22230459661506\n"
     ]
    }
   ],
   "source": [
    "'''\n",
    "Distance with Harversine forumla\n",
    "'''\n",
    "\n",
    "from math import sin, cos, sqrt, atan2, radians\n",
    "def get_distance(point1, point2):\n",
    "    R = 6370\n",
    "    lat1 = radians(point1[0])  #insert value\n",
    "    lon1 = radians(point1[1])\n",
    "    lat2 = radians(point2[0])\n",
    "    lon2 = radians(point2[1])\n",
    "\n",
    "    dlon = lon2 - lon1\n",
    "    dlat = lat2- lat1\n",
    "\n",
    "    a = sin(dlat / 2)**2 + cos(lat1) * cos(lat2) * sin(dlon / 2)**2\n",
    "    c = 2 * atan2(sqrt(a), sqrt(1-a))\n",
    "    distance = R * c\n",
    "    return distance\n",
    "\n",
    "sum = 0\n",
    "for i in range(1,len(line_string)):\n",
    "    x = get_distance(line_string[i-1], line_string[i])\n",
    "    sum = sum+x\n",
    "print('Distance with harversine formula: ', sum)"
   ]
  },
  {
   "attachments": {},
   "cell_type": "markdown",
   "metadata": {},
   "source": [
    "### Open Street Map Routing (OSRM)"
   ]
  },
  {
   "cell_type": "code",
   "execution_count": 40,
   "metadata": {},
   "outputs": [
    {
     "name": "stdout",
     "output_type": "stream",
     "text": [
      "Distance with OSRM: 371.1101\n"
     ]
    }
   ],
   "source": [
    "'''\n",
    "Distance with OSRM\n",
    "'''\n",
    "\n",
    "import requests\n",
    "def get_distance(a, b):\n",
    "    '''\n",
    "    Getting distance with \n",
    "    '''\n",
    "\n",
    "    # call the OSMR API\n",
    "    r = requests.get(\n",
    "        f\"http://router.project-osrm.org/route/v1/car/{a[0]},{a[1]};{b[0]},{b[1]}?overview=false\"\"\")\n",
    "    # then you load the response using the json libray\n",
    "    # by default you get only one alternative so you access 0-th element of the `routes`\n",
    "    routes = json.loads(r.content)\n",
    "    try:\n",
    "        route_1 = routes.get(\"routes\")[0]\n",
    "        return route_1['distance']\n",
    "    except:\n",
    "        return None\n",
    "\n",
    "print('Distance with OSRM:', get_distance(line_string[0], line_string[-1])/1000)"
   ]
  },
  {
   "attachments": {},
   "cell_type": "markdown",
   "metadata": {},
   "source": [
    "> OSRM and AWS quite similar results"
   ]
  },
  {
   "attachments": {},
   "cell_type": "markdown",
   "metadata": {},
   "source": [
    "* also possible to get waypoints with OSRM"
   ]
  },
  {
   "cell_type": "code",
   "execution_count": 45,
   "metadata": {},
   "outputs": [],
   "source": [
    "from src.distance import get_waypoints_osrm\n",
    "waypoints = get_waypoints_osrm(line_string[0], line_string[-1])['geometry']['coordinates']"
   ]
  },
  {
   "attachments": {},
   "cell_type": "markdown",
   "metadata": {},
   "source": [
    "### Shapely"
   ]
  },
  {
   "cell_type": "code",
   "execution_count": 47,
   "metadata": {},
   "outputs": [
    {
     "name": "stdout",
     "output_type": "stream",
     "text": [
      "3.752793983101279 degrees\n",
      "478088.42914114764 meters\n"
     ]
    },
    {
     "name": "stderr",
     "output_type": "stream",
     "text": [
      "c:\\Users\\SESA667490\\venvs\\sustainable-transport\\lib\\site-packages\\shapely\\ops.py:274: FutureWarning: This function is deprecated. See: https://pyproj4.github.io/pyproj/stable/gotchas.html#upgrading-to-pyproj-2-from-pyproj-1\n",
      "  return type(geom)(zip(*func(*zip(*geom.coords))))\n"
     ]
    }
   ],
   "source": [
    "from shapely.geometry import LineString\n",
    "from shapely.ops import transform\n",
    "from functools import partial\n",
    "import pyproj\n",
    "\n",
    "line1 = LineString(line_string)\n",
    "print(str(line1.length) + \" degrees\")\n",
    "# 0.0115488362184 degrees\n",
    "\n",
    "# Geometry transform function based on pyproj.transform\n",
    "project = partial(\n",
    "    pyproj.transform,\n",
    "    pyproj.Proj('EPSG:4326'),\n",
    "    pyproj.Proj('EPSG:32633'))\n",
    "\n",
    "line2 = transform(project, line1)\n",
    "print(str(line2.length) + \" meters\")"
   ]
  },
  {
   "attachments": {},
   "cell_type": "markdown",
   "metadata": {},
   "source": [
    "### Openrouteservice"
   ]
  },
  {
   "cell_type": "markdown",
   "metadata": {},
   "source": [
    "* Limited to 2000 per day and 40 per minute\n",
    "* On premise geolocation not available"
   ]
  },
  {
   "cell_type": "code",
   "execution_count": null,
   "metadata": {},
   "outputs": [],
   "source": [
    "OPENROUTESERVICE_API_KEY = os.getenv('OPENROUTESERVICE_API_KEY')"
   ]
  },
  {
   "cell_type": "code",
   "execution_count": null,
   "metadata": {},
   "outputs": [],
   "source": [
    "coords = ((8.34234, 48.23424), (8.34423, 48.26424))\n",
    "# Specify your personal API key\n",
    "client = openrouteservice.Client(key=OPENROUTESERVICE_API_KEY)\n",
    "routes = client.directions(coords)"
   ]
  },
  {
   "cell_type": "code",
   "execution_count": null,
   "metadata": {},
   "outputs": [],
   "source": [
    "geometry = client.directions(coords)['routes'][0]['geometry']\n",
    "decoded = openrouteservice.convert.decode_polyline(geometry)"
   ]
  },
  {
   "cell_type": "code",
   "execution_count": null,
   "metadata": {},
   "outputs": [],
   "source": [
    "OPENROUTESERVICE_API_KEY = os.getenv('OPENROUTESERVICE_API_KEY')\n",
    "# Specify your personal API key\n",
    "client = openrouteservice.Client(key=OPENROUTESERVICE_API_KEY)\n",
    "\n",
    "# set location coordinates in longitude,latitude order\n",
    "shipment = data_test.iloc[1]\n",
    "\n",
    "coords = (\n",
    "    (shipment['Shipper longitude'], shipment['Shipper latitude']),\n",
    "    (shipment['Receiver longitude'], shipment['Receiver latitude'])\n",
    ")\n",
    "routes = client.directions(coords)\n",
    "geometry = routes['routes'][0]['geometry']\n",
    "\n",
    "decoded = openrouteservice.convert.decode_polyline(geometry)\n"
   ]
  },
  {
   "attachments": {},
   "cell_type": "markdown",
   "metadata": {},
   "source": [
    "### Distances per country"
   ]
  },
  {
   "cell_type": "code",
   "execution_count": null,
   "metadata": {},
   "outputs": [],
   "source": [
    "from shapely.geometry import Point, Polygon, LineString\n",
    "\n",
    "# Create Point objects\n",
    "p1 = Point(24.952242, 60.1696017)\n",
    "p2 = Point(10.976567, 60.1612500)\n",
    "line = LineString([[24.952242, 60.1696017],[10.976567, 60.1612500]])\n",
    "europe[line.intersects(europe.geometry)]\n",
    "europe[europe['name']=='Norway'][['geometry']].values[0]"
   ]
  },
  {
   "attachments": {},
   "cell_type": "markdown",
   "metadata": {},
   "source": [
    "### Others codes for geolocation"
   ]
  },
  {
   "cell_type": "markdown",
   "metadata": {},
   "source": [
    "#### OpenStreetMap"
   ]
  },
  {
   "cell_type": "code",
   "execution_count": null,
   "metadata": {},
   "outputs": [],
   "source": [
    "def get_distance(x):\n",
    "    # call the OSMR API\n",
    "    r = requests.get(\n",
    "        f\"http://router.project-osrm.org/route/v1/car/{x['Shipper longitude']},{x['Shipper latitude']};{x['Receiver longitude']},{x['Receiver latitude']}?overview=false\"\"\")\n",
    "    # then you load the response using the json libray\n",
    "    # by default you get only one alternative so you access 0-th element of the `routes`\n",
    "    routes = json.loads(r.content)\n",
    "    try:\n",
    "        route_1 = routes.get(\"routes\")[0]\n",
    "        return route_1['distance']\n",
    "    except:\n",
    "        return None\n"
   ]
  },
  {
   "cell_type": "code",
   "execution_count": null,
   "metadata": {},
   "outputs": [],
   "source": [
    "data_test['distance'] = data_test.apply(lambda x: get_distance(x), axis=1)"
   ]
  },
  {
   "cell_type": "markdown",
   "metadata": {},
   "source": [
    "Other ways to use OpenStreetMap:\n",
    "* https://medium.com/@nilufarmohammadi1/find-the-best-route-with-openstreetmap-using-python-da70eff5b1ac\n"
   ]
  },
  {
   "cell_type": "code",
   "execution_count": null,
   "metadata": {},
   "outputs": [],
   "source": [
    "x = data_test.iloc[0]\n",
    "# call the OSMR API\n",
    "r = requests.get(\n",
    "    f\"http://router.project-osrm.org/route/v1/car/{x['Shipper longitude']},{x['Shipper latitude']};{x['Receiver longitude']},{x['Receiver latitude']}?overview=false\"\"\")\n",
    "# then you load the response using the json libray\n",
    "# by default you get only one alternative so you access 0-th element of the `routes`\n",
    "routes = json.loads(r.content)\n",
    "try:\n",
    "    route_1 = routes.get(\"routes\")[0]\n",
    "except:\n",
    "    pass\n"
   ]
  }
 ],
 "metadata": {
  "kernelspec": {
   "display_name": "sustainable-transport",
   "language": "python",
   "name": "python3"
  },
  "language_info": {
   "codemirror_mode": {
    "name": "ipython",
    "version": 3
   },
   "file_extension": ".py",
   "mimetype": "text/x-python",
   "name": "python",
   "nbconvert_exporter": "python",
   "pygments_lexer": "ipython3",
   "version": "3.10.10"
  },
  "orig_nbformat": 4,
  "vscode": {
   "interpreter": {
    "hash": "e874f6c980846f55582070a971d1538cd56fdd96ff8cea3950c345b4fa7ce0be"
   }
  }
 },
 "nbformat": 4,
 "nbformat_minor": 2
}
