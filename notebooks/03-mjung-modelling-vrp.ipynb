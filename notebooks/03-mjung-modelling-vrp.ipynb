{
 "cells": [
  {
   "cell_type": "markdown",
   "metadata": {},
   "source": [
    "### Vehicle Routing Problem"
   ]
  },
  {
   "cell_type": "code",
   "execution_count": 2,
   "metadata": {},
   "outputs": [],
   "source": [
    "dict_routes = {1: [0,2,5,7,8], 2: [0,3,6,7,8]}"
   ]
  },
  {
   "cell_type": "code",
   "execution_count": 3,
   "metadata": {},
   "outputs": [],
   "source": [
    "output_text = ''''''\n",
    "for key in dict_routes.keys():\n",
    "    output_text += f'''Route {key}: '''\n",
    "    for value in range(0, len(dict_routes[key])-1):\n",
    "        output_text += f'''{value} -> '''\n",
    "    output_text += f'''{dict_routes[key][-1]}\\n'''"
   ]
  },
  {
   "cell_type": "code",
   "execution_count": 4,
   "metadata": {},
   "outputs": [
    {
     "name": "stdout",
     "output_type": "stream",
     "text": [
      "Route 1: 0 -> 1 -> 2 -> 3 -> 8\n",
      "Route 2: 0 -> 1 -> 2 -> 3 -> 8\n",
      "\n"
     ]
    }
   ],
   "source": [
    "print(output_text)"
   ]
  },
  {
   "cell_type": "code",
   "execution_count": 6,
   "metadata": {
    "scrolled": true
   },
   "outputs": [
    {
     "name": "stdout",
     "output_type": "stream",
     "text": [
      "Collecting loguru\n",
      "  Using cached loguru-0.7.0-py3-none-any.whl (59 kB)\n",
      "Requirement already satisfied: colorama>=0.3.4 in c:\\users\\marle\\anaconda3\\lib\\site-packages (from loguru) (0.4.6)\n",
      "Collecting win32-setctime>=1.0.0\n",
      "  Using cached win32_setctime-1.1.0-py3-none-any.whl (3.6 kB)\n",
      "Installing collected packages: win32-setctime, loguru\n",
      "Successfully installed loguru-0.7.0 win32-setctime-1.1.0\n",
      "Note: you may need to restart the kernel to use updated packages.\n"
     ]
    }
   ],
   "source": [
    "pip install loguru"
   ]
  },
  {
   "cell_type": "code",
   "execution_count": 8,
   "metadata": {},
   "outputs": [
    {
     "name": "stdout",
     "output_type": "stream",
     "text": [
      "Collecting ortools\n",
      "  Downloading ortools-9.6.2534-cp310-cp310-win_amd64.whl (43.5 MB)\n",
      "     ---------------------------------------- 43.5/43.5 MB 1.7 MB/s eta 0:00:00\n",
      "Collecting protobuf>=4.21.12\n",
      "  Downloading protobuf-4.23.1-cp310-abi3-win_amd64.whl (422 kB)\n",
      "     -------------------------------------- 422.5/422.5 kB 2.2 MB/s eta 0:00:00\n",
      "Collecting absl-py>=0.13\n",
      "  Downloading absl_py-1.4.0-py3-none-any.whl (126 kB)\n",
      "     -------------------------------------- 126.5/126.5 kB 1.9 MB/s eta 0:00:00\n",
      "Requirement already satisfied: numpy>=1.13.3 in c:\\users\\marle\\anaconda3\\lib\\site-packages (from ortools) (1.23.5)\n",
      "Requirement already satisfied: scipy>=1.10.0 in c:\\users\\marle\\anaconda3\\lib\\site-packages (from ortools) (1.10.0)\n",
      "Installing collected packages: protobuf, absl-py, ortools\n",
      "Successfully installed absl-py-1.4.0 ortools-9.6.2534 protobuf-4.23.1\n",
      "Note: you may need to restart the kernel to use updated packages.\n"
     ]
    }
   ],
   "source": [
    "pip install ortools"
   ]
  },
  {
   "cell_type": "code",
   "execution_count": 9,
   "metadata": {},
   "outputs": [
    {
     "ename": "ModuleNotFoundError",
     "evalue": "No module named 's3fs'",
     "output_type": "error",
     "traceback": [
      "\u001b[1;31m---------------------------------------------------------------------------\u001b[0m",
      "\u001b[1;31mModuleNotFoundError\u001b[0m                       Traceback (most recent call last)",
      "Cell \u001b[1;32mIn[9], line 31\u001b[0m\n\u001b[0;32m     27\u001b[0m sys\u001b[38;5;241m.\u001b[39mpath\u001b[38;5;241m.\u001b[39mappend(\u001b[38;5;124m'\u001b[39m\u001b[38;5;124m..\u001b[39m\u001b[38;5;124m'\u001b[39m)\n\u001b[0;32m     29\u001b[0m pd\u001b[38;5;241m.\u001b[39mset_option(\u001b[38;5;124m'\u001b[39m\u001b[38;5;124mdisplay.max_columns\u001b[39m\u001b[38;5;124m'\u001b[39m, \u001b[38;5;28;01mNone\u001b[39;00m)\n\u001b[1;32m---> 31\u001b[0m \u001b[38;5;28;01mfrom\u001b[39;00m \u001b[38;5;21;01msrc\u001b[39;00m\u001b[38;5;21;01m.\u001b[39;00m\u001b[38;5;21;01mdistance\u001b[39;00m \u001b[38;5;28;01mimport\u001b[39;00m get_haversine_distance_lonlat, get_distance_osrm, get_waypoints_osrm\n\u001b[0;32m     33\u001b[0m get_ipython()\u001b[38;5;241m.\u001b[39mrun_line_magic(\u001b[38;5;124m'\u001b[39m\u001b[38;5;124mload_ext\u001b[39m\u001b[38;5;124m'\u001b[39m, \u001b[38;5;124m'\u001b[39m\u001b[38;5;124mautoreload\u001b[39m\u001b[38;5;124m'\u001b[39m)\n\u001b[0;32m     34\u001b[0m get_ipython()\u001b[38;5;241m.\u001b[39mrun_line_magic(\u001b[38;5;124m'\u001b[39m\u001b[38;5;124mautoreload\u001b[39m\u001b[38;5;124m'\u001b[39m, \u001b[38;5;124m'\u001b[39m\u001b[38;5;124m2\u001b[39m\u001b[38;5;124m'\u001b[39m)\n",
      "File \u001b[1;32m~\\OneDrive - tbs-education\\00_Masterarbeit\\Code\\notebooks\\..\\src\\distance.py:4\u001b[0m\n\u001b[0;32m      2\u001b[0m \u001b[38;5;28;01mimport\u001b[39;00m \u001b[38;5;21;01mjson\u001b[39;00m\n\u001b[0;32m      3\u001b[0m \u001b[38;5;28;01mfrom\u001b[39;00m \u001b[38;5;21;01mloguru\u001b[39;00m \u001b[38;5;28;01mimport\u001b[39;00m logger\n\u001b[1;32m----> 4\u001b[0m \u001b[38;5;28;01mimport\u001b[39;00m \u001b[38;5;21;01ms3fs\u001b[39;00m\n\u001b[0;32m      5\u001b[0m \u001b[38;5;28;01mfrom\u001b[39;00m \u001b[38;5;21;01mshapely\u001b[39;00m\u001b[38;5;21;01m.\u001b[39;00m\u001b[38;5;21;01mgeometry\u001b[39;00m \u001b[38;5;28;01mimport\u001b[39;00m LineString\n\u001b[0;32m      6\u001b[0m \u001b[38;5;28;01mimport\u001b[39;00m \u001b[38;5;21;01mpandas\u001b[39;00m \u001b[38;5;28;01mas\u001b[39;00m \u001b[38;5;21;01mpd\u001b[39;00m\n",
      "\u001b[1;31mModuleNotFoundError\u001b[0m: No module named 's3fs'"
     ]
    }
   ],
   "source": [
    "import pandas as pd\n",
    "import numpy as np\n",
    "\n",
    "import datetime as dt\n",
    "\n",
    "import json\n",
    "import logging\n",
    "import os\n",
    "import sys\n",
    "\n",
    "from loguru import logger\n",
    "import io\n",
    "import pandas as pd\n",
    "import calendar\n",
    "import numpy as np\n",
    "import plotly.express as px\n",
    "\n",
    "# functions\n",
    "import pandas as pd\n",
    "import calendar\n",
    "import plotly.graph_objects as go\n",
    "import datetime as dt\n",
    "\n",
    "from ortools.constraint_solver import routing_enums_pb2\n",
    "from ortools.constraint_solver import pywrapcp\n",
    "\n",
    "sys.path.append('..')\n",
    "\n",
    "pd.set_option('display.max_columns', None)\n",
    "\n",
    "from src.distance import get_haversine_distance_lonlat, get_distance_osrm, get_waypoints_osrm\n",
    "\n",
    "%load_ext autoreload\n",
    "%autoreload 2\n",
    "\n",
    "project_path = 's3://sfgdata/projects/sustainable-transport'"
   ]
  },
  {
   "cell_type": "code",
   "execution_count": 6,
   "metadata": {},
   "outputs": [],
   "source": [
    "def create_distance_matrix(df):\n",
    "    '''Returns distance in km'''\n",
    "    x = df[['Receiver longitude', 'Receiver latitude']].to_numpy()\n",
    "    x = np.vstack((df[['Shipper longitude', 'Shipper latitude']].to_numpy()[0], x))\n",
    "    x = np.asarray(x)\n",
    "    m = x.shape[0]\n",
    "    result = np.empty((m,m),dtype=int)  # FIXME: figure out the best dtype\n",
    "    for i in range(m):\n",
    "        for j in range(m):\n",
    "            result[i,j] = get_haversine_distance_lonlat(x[i],x[j])\n",
    "            #result[i,j] = get_distance_osrm(x[i],x[j])\n",
    "    return result"
   ]
  },
  {
   "cell_type": "code",
   "execution_count": 7,
   "metadata": {},
   "outputs": [],
   "source": [
    "def create_matrix_from_array():\n",
    "\n",
    "    x = np.zeros([4, 4]) # 4x4 array of zeros\n",
    "\n",
    "    x[np.triu_indices(4, 1)] = [1, 2, 4, 3, 5, 6]\n",
    "\n",
    "    x += x.T"
   ]
  },
  {
   "cell_type": "code",
   "execution_count": 8,
   "metadata": {},
   "outputs": [],
   "source": [
    "def group_by_client_shipment(dff):\n",
    "    dff = dff.groupby(['Receiver longitude', 'Receiver latitude', \"Client name\"]).agg({'Sender weight (kg)': 'sum',\n",
    "                                                                                       'Distance (km)': 'first',\n",
    "                                                                                        'Shipper latitude': 'first',\n",
    "                                                                                        'Shipper longitude': 'first'}).reset_index()\n",
    "    return dff"
   ]
  },
  {
   "cell_type": "code",
   "execution_count": 9,
   "metadata": {},
   "outputs": [],
   "source": [
    "def get_plot(df_test, dict_nodes):\n",
    "    shipper = df_test[['Shipper latitude', 'Shipper longitude']].iloc[0:1].rename({'Shipper latitude': 'Latitude', 'Shipper longitude': 'Longitude'}, axis = 1)\n",
    "    receiver = df_test[['Receiver latitude', 'Receiver longitude']].rename({'Receiver latitude': 'Latitude', 'Receiver longitude': 'Longitude'}, axis = 1)\n",
    "    routes = pd.concat([shipper, receiver]).reset_index()\n",
    "\n",
    "    fig = go.Figure()\n",
    "    for i in dict_nodes.keys():\n",
    "        if routes.iloc[dict_nodes[i]].shape[0] > 2:\n",
    "            fig.add_trace(go.Scattermapbox(lat=routes.iloc[dict_nodes[i]]['Latitude'], lon=routes.iloc[dict_nodes[i]]['Longitude'], mode = 'markers+lines', name = f'Route {i}'))\n",
    "    fig.add_trace(go.Scattermapbox(lat=shipper['Latitude'], lon=shipper['Longitude'], mode = 'markers', marker = {'size': 12}, name = 'DC'))\n",
    "    fig.update_layout(mapbox_style=\"open-street-map\")\n",
    "    fig.update_layout(margin={\"r\": 0, \"t\": 40, \"l\": 0, \"b\": 40}, mapbox={'zoom': 6, \"center\": {'lat': routes['Latitude'].mean(), 'lon':  routes['Longitude'].mean()}})\n",
    "    fig.show()"
   ]
  },
  {
   "cell_type": "code",
   "execution_count": 10,
   "metadata": {},
   "outputs": [],
   "source": [
    "def plot_with_osrm(df_test, dict_nodes):\n",
    "    shipper = df_test[['Shipper latitude', 'Shipper longitude']].iloc[0:1].rename({'Shipper latitude': 'Latitude', 'Shipper longitude': 'Longitude'}, axis = 1)\n",
    "    receiver = df_test[['Receiver latitude', 'Receiver longitude']].rename({'Receiver latitude': 'Latitude', 'Receiver longitude': 'Longitude'}, axis = 1)\n",
    "    routes = pd.concat([shipper, receiver]).reset_index()\n",
    "\n",
    "    fig = go.Figure()\n",
    "    for i in dict_nodes.keys():\n",
    "        list_waypoints = get_waypoints_osrm(routes[['Longitude','Latitude']].iloc[dict_nodes[i]].values.tolist())['geometry']['coordinates']\n",
    "        fig.add_trace(go.Scattermapbox(lat=[x[1] for x in list_waypoints], lon=[x[0] for x in list_waypoints], mode = 'lines', name = f'Route {i}'))\n",
    "    fig.add_trace(go.Scattermapbox(lat=shipper['Latitude'], lon=shipper['Longitude'], mode = 'markers', marker = {'size': 12}, name = 'DC'))\n",
    "    fig.add_trace(go.Scattermapbox(lat=receiver['Latitude'], lon=receiver['Longitude'], mode = 'markers', marker = {'size': 12}, name = 'Clients'))\n",
    "    fig.update_layout(mapbox_style=\"open-street-map\")\n",
    "    fig.update_layout(margin={\"r\": 0, \"t\": 40, \"l\": 0, \"b\": 40}, mapbox={'zoom': 6, \"center\": {'lat': routes['Latitude'].mean(), 'lon':  routes['Longitude'].mean()}})\n",
    "    fig.show()"
   ]
  },
  {
   "cell_type": "code",
   "execution_count": 11,
   "metadata": {},
   "outputs": [],
   "source": [
    "df = pd.read_csv(f'../data/poc3.csv', \n",
    "                 low_memory=False,\n",
    "                 parse_dates=['Pickup date'], \n",
    "                 dtype={'DC zip': str, 'Zip': str}).sort_values(by='Pickup date')\n",
    "df = df.dropna(subset = ['Distance (km)'])\n",
    "\n",
    "df_evreux_day = df[(df['Distance (km)']<=200)&(df['DC name']=='DC Evreux')&(df['Pickup date']>=dt.datetime(2022,9,12))&(df['Pickup date']<=dt.datetime(2022,9,16))]\n",
    "df_geolocations = df_evreux_day[['Client name','Receiver longitude', 'Receiver latitude','Shipper longitude', 'Shipper latitude']].drop_duplicates()"
   ]
  },
  {
   "cell_type": "code",
   "execution_count": 12,
   "metadata": {},
   "outputs": [],
   "source": [
    "df_example = group_by_client_shipment(df_evreux_day).iloc[:100]"
   ]
  },
  {
   "cell_type": "code",
   "execution_count": 13,
   "metadata": {},
   "outputs": [],
   "source": [
    "project_path = 's3://sfgdata/projects/sustainable-transport'\n",
    "dataset_name = 'routing_example'\n",
    "# Functions and main for VRP\n",
    "df_test = pd.read_csv(f'{project_path}/processed/{dataset_name}.csv', \n",
    "                 low_memory=False)\n",
    "df_test['Sender weight (kg)'] = np.ceil(df_test['Sender weight (kg)']).astype(int)"
   ]
  },
  {
   "cell_type": "markdown",
   "metadata": {},
   "source": [
    "# VRP"
   ]
  },
  {
   "cell_type": "code",
   "execution_count": 14,
   "metadata": {},
   "outputs": [],
   "source": [
    "def print_solution(data, manager, routing, solution):\n",
    "    \"\"\"Prints solution on console.\"\"\"\n",
    "    print(f'Objective: {solution.ObjectiveValue()}')\n",
    "    total_distance = 0\n",
    "    total_load = 0\n",
    "    dict_nodes = {}\n",
    "    dict_distances = {}\n",
    "    for vehicle_id in range(data['num_vehicles']):\n",
    "        index = routing.Start(vehicle_id)\n",
    "        plan_output = 'Route for vehicle {}:\\n'.format(vehicle_id)\n",
    "        route_distance = 0\n",
    "        route_load = 0\n",
    "        nodes = []\n",
    "        distance = []\n",
    "        while not routing.IsEnd(index):\n",
    "            node_index = manager.IndexToNode(index)\n",
    "            nodes.append(node_index)\n",
    "            route_load += data['demands'][node_index]\n",
    "            plan_output += ' {0} Load({1}) -> '.format(node_index, route_load)\n",
    "            previous_index = index\n",
    "            index = solution.Value(routing.NextVar(index))\n",
    "            route_distance += routing.GetArcCostForVehicle(\n",
    "                previous_index, index, vehicle_id)\n",
    "            distance.append(routing.GetArcCostForVehicle(\n",
    "                previous_index, index, vehicle_id))\n",
    "        plan_output += ' {0} Load({1})\\n'.format(manager.IndexToNode(index),\n",
    "                                                 route_load)\n",
    "        plan_output += 'Distance of the route: {}m\\n'.format(route_distance)\n",
    "        plan_output += 'Load of the route: {}\\n'.format(route_load)\n",
    "        print(plan_output)\n",
    "        nodes.append(0)\n",
    "        dict_nodes[vehicle_id] = nodes\n",
    "        dict_distances[vehicle_id] = distance\n",
    "        total_distance += route_distance\n",
    "        total_load += route_load\n",
    "    print('Total distance of all routes: {}m'.format(total_distance))\n",
    "    print('Total load of all routes: {}'.format(total_load))\n",
    "    return dict_distances, dict_nodes "
   ]
  },
  {
   "cell_type": "markdown",
   "metadata": {},
   "source": [
    "## Capacitated VRP"
   ]
  },
  {
   "cell_type": "code",
   "execution_count": 15,
   "metadata": {},
   "outputs": [],
   "source": [
    "def create_data_model():\n",
    "    \"\"\"Stores the data for the problem.\"\"\"\n",
    "    data = {}\n",
    "    data['distance_matrix'] = create_distance_matrix(df_test)\n",
    "    data['demands'] = np.hstack((0, df_test['Sender weight (kg)'])).astype(int)\n",
    "    capacity = 10000\n",
    "    data['num_vehicles'] = round(df_test['Sender weight (kg)'].sum()/capacity)\n",
    "    if data['num_vehicles'] < 3:\n",
    "        data['num_vehicles'] = 3\n",
    "    data['vehicle_capacities'] = np.full(shape=data['num_vehicles'],fill_value=capacity,dtype=int)\n",
    "    data['depot'] = 0\n",
    "    return data\n",
    "\n",
    "def main():\n",
    "    \"\"\"Solve the CVRP problem.\"\"\"\n",
    "    # Instantiate the data problem.\n",
    "    data = create_data_model()\n",
    "\n",
    "    # Create the routing index manager.\n",
    "    manager = pywrapcp.RoutingIndexManager(len(data['distance_matrix']),\n",
    "                                           data['num_vehicles'], data['depot'])\n",
    "\n",
    "    # Create Routing Model.\n",
    "    routing = pywrapcp.RoutingModel(manager)\n",
    "\n",
    "\n",
    "    # Create and register a transit callback.\n",
    "    def distance_callback(from_index, to_index):\n",
    "        \"\"\"Returns the distance between the two nodes.\"\"\"\n",
    "        # Convert from routing variable Index to distance matrix NodeIndex.\n",
    "        from_node = manager.IndexToNode(from_index)\n",
    "        to_node = manager.IndexToNode(to_index)\n",
    "        return data['distance_matrix'][from_node][to_node]\n",
    "\n",
    "    transit_callback_index = routing.RegisterTransitCallback(distance_callback)\n",
    "\n",
    "    # Define cost of each arc.\n",
    "    routing.SetArcCostEvaluatorOfAllVehicles(transit_callback_index)\n",
    "\n",
    "\n",
    "    # Add Capacity constraint.\n",
    "    def demand_callback(from_index):\n",
    "        \"\"\"Returns the demand of the node.\"\"\"\n",
    "        # Convert from routing variable Index to demands NodeIndex.\n",
    "        from_node = manager.IndexToNode(from_index)\n",
    "        return data['demands'][from_node]\n",
    "\n",
    "    demand_callback_index = routing.RegisterUnaryTransitCallback(\n",
    "        demand_callback)\n",
    "    routing.AddDimensionWithVehicleCapacity(\n",
    "        demand_callback_index,\n",
    "        0,  # null capacity slack\n",
    "        data['vehicle_capacities'],  # vehicle maximum capacities\n",
    "        True,  # start cumul to zero\n",
    "        'Capacity')\n",
    "\n",
    "    # Setting first solution heuristic.\n",
    "    search_parameters = pywrapcp.DefaultRoutingSearchParameters()\n",
    "    search_parameters.first_solution_strategy = (\n",
    "        routing_enums_pb2.FirstSolutionStrategy.PATH_CHEAPEST_ARC)\n",
    "    search_parameters.local_search_metaheuristic = (\n",
    "        routing_enums_pb2.LocalSearchMetaheuristic.GUIDED_LOCAL_SEARCH)\n",
    "    search_parameters.time_limit.FromSeconds(1)\n",
    "\n",
    "    # Solve the problem.\n",
    "    solution = routing.SolveWithParameters(search_parameters)\n",
    "\n",
    "    # Print solution on console.\n",
    "    if solution:\n",
    "        dict_distances, dict_nodes = print_solution(data, manager, routing, solution)\n",
    "        return dict_distances, dict_nodes"
   ]
  },
  {
   "cell_type": "code",
   "execution_count": 16,
   "metadata": {},
   "outputs": [
    {
     "name": "stdout",
     "output_type": "stream",
     "text": [
      "Objective: 1278\n",
      "Route for vehicle 0:\n",
      " 0 Load(0) ->  0 Load(0)\n",
      "Distance of the route: 0m\n",
      "Load of the route: 0\n",
      "\n",
      "Route for vehicle 1:\n",
      " 0 Load(0) ->  73 Load(7) ->  69 Load(20) ->  66 Load(146) ->  65 Load(157) ->  62 Load(159) ->  64 Load(161) ->  70 Load(164) ->  77 Load(165) ->  81 Load(170) ->  80 Load(176) ->  85 Load(261) ->  83 Load(265) ->  82 Load(267) ->  90 Load(352) ->  89 Load(353) ->  91 Load(355) ->  92 Load(359) ->  93 Load(364) ->  99 Load(367) ->  97 Load(627) ->  96 Load(7345) ->  78 Load(7969) ->  84 Load(7994) ->  86 Load(8013) ->  79 Load(8034) ->  76 Load(8035) ->  75 Load(8048) ->  74 Load(8051) ->  71 Load(8052) ->  0 Load(8052)\n",
      "Distance of the route: 360m\n",
      "Load of the route: 8052\n",
      "\n",
      "Route for vehicle 2:\n",
      " 0 Load(0) ->  95 Load(141) ->  100 Load(691) ->  98 Load(1791) ->  88 Load(1793) ->  87 Load(1797) ->  67 Load(1808) ->  44 Load(1813) ->  52 Load(1820) ->  55 Load(1892) ->  56 Load(1893) ->  57 Load(1963) ->  68 Load(1970) ->  60 Load(2364) ->  51 Load(2402) ->  50 Load(2414) ->  49 Load(2628) ->  48 Load(2705) ->  43 Load(2711) ->  47 Load(2719) ->  53 Load(2729) ->  72 Load(2998) ->  94 Load(3000) ->  59 Load(3001) ->  61 Load(3031) ->  58 Load(3033) ->  54 Load(3035) ->  46 Load(3038) ->  34 Load(3041) ->  33 Load(3043) ->  32 Load(3044) ->  36 Load(3045) ->  31 Load(3046) ->  30 Load(3050) ->  28 Load(3134) ->  24 Load(6094) ->  18 Load(6102) ->  17 Load(6115) ->  19 Load(6129) ->  29 Load(6257) ->  11 Load(6299) ->  8 Load(6309) ->  7 Load(7362) ->  6 Load(7426) ->  9 Load(7461) ->  5 Load(7469) ->  4 Load(7470) ->  3 Load(7487) ->  1 Load(7488) ->  2 Load(7500) ->  13 Load(7517) ->  15 Load(7821) ->  26 Load(7823) ->  25 Load(7831) ->  20 Load(7861) ->  21 Load(7872) ->  22 Load(8056) ->  23 Load(8064) ->  27 Load(8066) ->  41 Load(8068) ->  39 Load(8083) ->  40 Load(8113) ->  37 Load(8114) ->  35 Load(8129) ->  14 Load(8134) ->  10 Load(8144) ->  12 Load(8146) ->  16 Load(8186) ->  38 Load(8229) ->  42 Load(8230) ->  45 Load(8256) ->  63 Load(8264) ->  0 Load(8264)\n",
      "Distance of the route: 918m\n",
      "Load of the route: 8264\n",
      "\n",
      "Total distance of all routes: 1278m\n",
      "Total load of all routes: 16316\n"
     ]
    }
   ],
   "source": [
    "# Main\n",
    "dict_distances, dict_nodes = main()"
   ]
  },
  {
   "cell_type": "code",
   "execution_count": 12,
   "metadata": {},
   "outputs": [
    {
     "name": "stdout",
     "output_type": "stream",
     "text": [
      "Collecting alns\n",
      "  Downloading alns-5.1.0-py3-none-any.whl (57 kB)\n",
      "     ---------------------------------------- 57.5/57.5 kB 3.0 MB/s eta 0:00:00\n",
      "Requirement already satisfied: matplotlib>=3.5.0 in c:\\users\\marle\\anaconda3\\lib\\site-packages (from alns) (3.7.0)\n",
      "Requirement already satisfied: numpy>=1.18.0 in c:\\users\\marle\\anaconda3\\lib\\site-packages (from alns) (1.23.5)\n",
      "Requirement already satisfied: fonttools>=4.22.0 in c:\\users\\marle\\anaconda3\\lib\\site-packages (from matplotlib>=3.5.0->alns) (4.25.0)\n",
      "Requirement already satisfied: pillow>=6.2.0 in c:\\users\\marle\\anaconda3\\lib\\site-packages (from matplotlib>=3.5.0->alns) (9.4.0)\n",
      "Requirement already satisfied: contourpy>=1.0.1 in c:\\users\\marle\\anaconda3\\lib\\site-packages (from matplotlib>=3.5.0->alns) (1.0.5)\n",
      "Requirement already satisfied: packaging>=20.0 in c:\\users\\marle\\anaconda3\\lib\\site-packages (from matplotlib>=3.5.0->alns) (22.0)\n",
      "Requirement already satisfied: pyparsing>=2.3.1 in c:\\users\\marle\\anaconda3\\lib\\site-packages (from matplotlib>=3.5.0->alns) (3.0.9)\n",
      "Requirement already satisfied: python-dateutil>=2.7 in c:\\users\\marle\\anaconda3\\lib\\site-packages (from matplotlib>=3.5.0->alns) (2.8.2)\n",
      "Requirement already satisfied: cycler>=0.10 in c:\\users\\marle\\anaconda3\\lib\\site-packages (from matplotlib>=3.5.0->alns) (0.11.0)\n",
      "Requirement already satisfied: kiwisolver>=1.0.1 in c:\\users\\marle\\anaconda3\\lib\\site-packages (from matplotlib>=3.5.0->alns) (1.4.4)\n",
      "Requirement already satisfied: six>=1.5 in c:\\users\\marle\\anaconda3\\lib\\site-packages (from python-dateutil>=2.7->matplotlib>=3.5.0->alns) (1.16.0)\n",
      "Installing collected packages: alns\n",
      "Successfully installed alns-5.1.0\n",
      "Note: you may need to restart the kernel to use updated packages.\n"
     ]
    }
   ],
   "source": [
    "pip install alns"
   ]
  },
  {
   "cell_type": "code",
   "execution_count": 13,
   "metadata": {},
   "outputs": [
    {
     "ename": "NameError",
     "evalue": "name 'destroy' is not defined",
     "output_type": "error",
     "traceback": [
      "\u001b[1;31m---------------------------------------------------------------------------\u001b[0m",
      "\u001b[1;31mNameError\u001b[0m                                 Traceback (most recent call last)",
      "Cell \u001b[1;32mIn[13], line 10\u001b[0m\n\u001b[0;32m      8\u001b[0m \u001b[38;5;66;03m# Create ALNS and add one or more destroy and repair operators\u001b[39;00m\n\u001b[0;32m      9\u001b[0m alns \u001b[38;5;241m=\u001b[39m ALNS(rnd\u001b[38;5;241m.\u001b[39mRandomState(seed\u001b[38;5;241m=\u001b[39m\u001b[38;5;241m42\u001b[39m))\n\u001b[1;32m---> 10\u001b[0m alns\u001b[38;5;241m.\u001b[39madd_destroy_operator(\u001b[43mdestroy\u001b[49m)\n\u001b[0;32m     11\u001b[0m alns\u001b[38;5;241m.\u001b[39madd_repair_operator(repair)\n\u001b[0;32m     13\u001b[0m \u001b[38;5;66;03m# Configure ALNS\u001b[39;00m\n",
      "\u001b[1;31mNameError\u001b[0m: name 'destroy' is not defined"
     ]
    }
   ],
   "source": [
    "from alns import ALNS\n",
    "from alns.accept import HillClimbing\n",
    "from alns.select import RandomSelect\n",
    "from alns.stop import MaxRuntime\n",
    "\n",
    "import numpy.random as rnd\n",
    "\n",
    "# Create ALNS and add one or more destroy and repair operators\n",
    "alns = ALNS(rnd.RandomState(seed=42))\n",
    "alns.add_destroy_operator(destroy)\n",
    "alns.add_repair_operator(repair)\n",
    "\n",
    "# Configure ALNS\n",
    "select = RandomSelect(num_destroy=1, num_repair=1)  # see alns.select for others\n",
    "accept = HillClimbing()  # see alns.accept for others\n",
    "stop = MaxRuntime(60)  # 60 seconds; see alns.stop for others\n",
    "\n",
    "# Run the ALNS algorithm\n",
    "result = alns.iterate(init_sol, select, accept, stop)\n",
    "\n",
    "# Retrieve the final solution\n",
    "best = result.best_state\n",
    "print(f\"Best heuristic solution objective is {best.objective()}.\")"
   ]
  },
  {
   "cell_type": "markdown",
   "metadata": {},
   "source": [
    "#### Creating plots"
   ]
  },
  {
   "cell_type": "code",
   "execution_count": 17,
   "metadata": {},
   "outputs": [],
   "source": [
    "a = 1\n",
    "dict_routes = {}\n",
    "for i in dict_nodes.keys():\n",
    "    if len(dict_nodes[i])>2:\n",
    "        dict_routes[a] = dict_nodes[i]\n",
    "        a=a+1"
   ]
  },
  {
   "cell_type": "code",
   "execution_count": 18,
   "metadata": {},
   "outputs": [
    {
     "data": {
      "application/vnd.plotly.v1+json": {
       "config": {
        "plotlyServerURL": "https://plot.ly"
       },
       "data": [
        {
         "lat": [
          49.00551373,
          49.03032043938607,
          49.05327201776825,
          49.02703299800004,
          49.001940508378745,
          49.002039017622366,
          48.99826006195808,
          48.948015866464765,
          48.89486663060125,
          48.7512831012985,
          48.74845914368968,
          48.74621541006533,
          48.71456501014276,
          48.711191000748045,
          48.63675654063466,
          48.44789000000003,
          48.43113900089224,
          48.43542999049436,
          48.43780080552866,
          48.08449001427948,
          47.826073446197135,
          47.826073446197135,
          47.59911101665307,
          48.40393498931263,
          48.42428398710874,
          48.4728950022128,
          48.45477252700204,
          48.45477252700204,
          48.45477252700204,
          48.948015866464765,
          49.00551373
         ],
         "lon": [
          1.179093518,
          1.1835097213681354,
          1.1721390025560368,
          1.151536026000031,
          1.1473239722995676,
          1.1437759833148675,
          1.1471300526352215,
          1.1768038490702128,
          1.237079261097602,
          1.353073393291904,
          1.3529679198485778,
          1.3975102991584218,
          1.367885023992443,
          1.3630530244498686,
          1.512515859772492,
          1.5112329510000675,
          1.5145399987299584,
          1.5269929922777123,
          1.5397744466527743,
          1.7458689593457848,
          1.673623253211009,
          1.673623253211009,
          1.3023439893975706,
          1.395773962790031,
          1.4490950207454605,
          1.3230130082569076,
          1.2354775922324823,
          1.2354775922324823,
          1.2354775922324823,
          1.1768038490702128,
          1.179093518
         ],
         "mode": "markers+lines",
         "name": "Route 1",
         "type": "scattermapbox"
        },
        {
         "lat": [
          49.00551373,
          48.767380010693984,
          48.9679700177945,
          48.97964097977598,
          49.1027280125314,
          49.10759400069136,
          49.2259520055847,
          49.15008959145117,
          49.29058201112346,
          49.29196419115474,
          49.32402959728276,
          49.37137098487997,
          49.39806181295595,
          49.396776887518485,
          49.48267498960843,
          49.48282614827143,
          49.48657778775237,
          49.485556985012856,
          49.48760738347597,
          49.51747764092025,
          49.52606001381113,
          49.812923986377626,
          50.07765701044241,
          49.90136957274298,
          49.90390000000008,
          49.90403569269821,
          49.87691500000005,
          49.88089500000007,
          49.7177917514974,
          49.72076000000004,
          49.72076000000004,
          49.4797555022748,
          49.52813009256632,
          49.494890852570165,
          49.54161598791444,
          49.51564202062582,
          49.48713998752047,
          49.49189801676752,
          49.48713998752047,
          49.39927256438491,
          49.348634889868734,
          49.199580000000026,
          49.15357301437928,
          49.12735194461249,
          48.89222099859836,
          48.73295014258714,
          48.72475000000003,
          48.72624800015532,
          48.77096662880083,
          48.29005799176639,
          48.02091700864068,
          47.933561482415215,
          47.94690601897747,
          47.97131001389181,
          47.974811009119634,
          47.97464198804212,
          47.973462989541446,
          47.97258100377982,
          48.028879020376536,
          48.18604431000006,
          48.19338501812581,
          48.19338501812581,
          48.19911000000008,
          48.34554520838832,
          48.41427599471726,
          48.44615698254023,
          48.44488301707659,
          48.43826399577702,
          48.75402600446438,
          48.98829701309478,
          48.96765254872587,
          48.99826006195808,
          49.00551373
         ],
         "lon": [
          1.179093518,
          1.6331300147031982,
          1.850509979692532,
          1.7281539746225576,
          1.4575660235516636,
          1.4533950208934812,
          1.1680890345797366,
          0.9275050343792308,
          1.0337029867962428,
          1.0512439090601466,
          1.0578689601200273,
          1.0929190372549442,
          1.1690395320486675,
          1.113552887909436,
          1.0236039669362924,
          1.023308949013451,
          1.0199270577914432,
          1.018415551051512,
          0.8783687842200081,
          1.0112511900025287,
          1.0398180042578815,
          1.1770460201320532,
          1.5413419723237496,
          1.1109891957114688,
          1.1135700000000384,
          1.1088857595110575,
          1.050367609000034,
          0.9642947040000536,
          0.3634603155816416,
          0.3607500000000527,
          0.3607500000000527,
          0.5757713990365728,
          0.3592851614229724,
          0.290348948303776,
          0.2028100379755812,
          0.1762710046843949,
          0.1441000030115731,
          0.1344400272399468,
          0.1441000030115731,
          0.2534923287516768,
          0.0954217239043738,
          -0.2905095009999741,
          -0.2977029887483127,
          -0.3820048407152516,
          -0.1834350173284349,
          -0.5823951144544453,
          -0.5861599999999498,
          -0.5868140238275714,
          -0.7247293091616844,
          -0.6099899861076779,
          0.1033399813358357,
          0.1070785249196177,
          0.192815037534018,
          0.1780629717642625,
          0.1683640201428602,
          0.1686709654371725,
          0.1701890119212521,
          0.1704090368796187,
          0.199724994692815,
          0.6560301450000452,
          0.6366290155037575,
          0.6366290155037575,
          0.6211300000000506,
          0.3649139459269575,
          0.1034650393312119,
          0.0938649941672906,
          0.0978660118290406,
          0.1193220075775514,
          0.6355609934011284,
          0.7824589595117004,
          0.9386621445035114,
          1.1471300526352215,
          1.179093518
         ],
         "mode": "markers+lines",
         "name": "Route 2",
         "type": "scattermapbox"
        },
        {
         "lat": [
          49.00551373
         ],
         "lon": [
          1.179093518
         ],
         "marker": {
          "size": 12
         },
         "mode": "markers",
         "name": "DC",
         "type": "scattermapbox"
        }
       ],
       "layout": {
        "mapbox": {
         "center": {
          "lat": 48.901874158612365,
          "lon": 0.7896233422663794
         },
         "style": "open-street-map",
         "zoom": 6
        },
        "margin": {
         "b": 40,
         "l": 0,
         "r": 0,
         "t": 40
        },
        "template": {
         "data": {
          "bar": [
           {
            "error_x": {
             "color": "#2a3f5f"
            },
            "error_y": {
             "color": "#2a3f5f"
            },
            "marker": {
             "line": {
              "color": "#E5ECF6",
              "width": 0.5
             },
             "pattern": {
              "fillmode": "overlay",
              "size": 10,
              "solidity": 0.2
             }
            },
            "type": "bar"
           }
          ],
          "barpolar": [
           {
            "marker": {
             "line": {
              "color": "#E5ECF6",
              "width": 0.5
             },
             "pattern": {
              "fillmode": "overlay",
              "size": 10,
              "solidity": 0.2
             }
            },
            "type": "barpolar"
           }
          ],
          "carpet": [
           {
            "aaxis": {
             "endlinecolor": "#2a3f5f",
             "gridcolor": "white",
             "linecolor": "white",
             "minorgridcolor": "white",
             "startlinecolor": "#2a3f5f"
            },
            "baxis": {
             "endlinecolor": "#2a3f5f",
             "gridcolor": "white",
             "linecolor": "white",
             "minorgridcolor": "white",
             "startlinecolor": "#2a3f5f"
            },
            "type": "carpet"
           }
          ],
          "choropleth": [
           {
            "colorbar": {
             "outlinewidth": 0,
             "ticks": ""
            },
            "type": "choropleth"
           }
          ],
          "contour": [
           {
            "colorbar": {
             "outlinewidth": 0,
             "ticks": ""
            },
            "colorscale": [
             [
              0,
              "#0d0887"
             ],
             [
              0.1111111111111111,
              "#46039f"
             ],
             [
              0.2222222222222222,
              "#7201a8"
             ],
             [
              0.3333333333333333,
              "#9c179e"
             ],
             [
              0.4444444444444444,
              "#bd3786"
             ],
             [
              0.5555555555555556,
              "#d8576b"
             ],
             [
              0.6666666666666666,
              "#ed7953"
             ],
             [
              0.7777777777777778,
              "#fb9f3a"
             ],
             [
              0.8888888888888888,
              "#fdca26"
             ],
             [
              1,
              "#f0f921"
             ]
            ],
            "type": "contour"
           }
          ],
          "contourcarpet": [
           {
            "colorbar": {
             "outlinewidth": 0,
             "ticks": ""
            },
            "type": "contourcarpet"
           }
          ],
          "heatmap": [
           {
            "colorbar": {
             "outlinewidth": 0,
             "ticks": ""
            },
            "colorscale": [
             [
              0,
              "#0d0887"
             ],
             [
              0.1111111111111111,
              "#46039f"
             ],
             [
              0.2222222222222222,
              "#7201a8"
             ],
             [
              0.3333333333333333,
              "#9c179e"
             ],
             [
              0.4444444444444444,
              "#bd3786"
             ],
             [
              0.5555555555555556,
              "#d8576b"
             ],
             [
              0.6666666666666666,
              "#ed7953"
             ],
             [
              0.7777777777777778,
              "#fb9f3a"
             ],
             [
              0.8888888888888888,
              "#fdca26"
             ],
             [
              1,
              "#f0f921"
             ]
            ],
            "type": "heatmap"
           }
          ],
          "heatmapgl": [
           {
            "colorbar": {
             "outlinewidth": 0,
             "ticks": ""
            },
            "colorscale": [
             [
              0,
              "#0d0887"
             ],
             [
              0.1111111111111111,
              "#46039f"
             ],
             [
              0.2222222222222222,
              "#7201a8"
             ],
             [
              0.3333333333333333,
              "#9c179e"
             ],
             [
              0.4444444444444444,
              "#bd3786"
             ],
             [
              0.5555555555555556,
              "#d8576b"
             ],
             [
              0.6666666666666666,
              "#ed7953"
             ],
             [
              0.7777777777777778,
              "#fb9f3a"
             ],
             [
              0.8888888888888888,
              "#fdca26"
             ],
             [
              1,
              "#f0f921"
             ]
            ],
            "type": "heatmapgl"
           }
          ],
          "histogram": [
           {
            "marker": {
             "pattern": {
              "fillmode": "overlay",
              "size": 10,
              "solidity": 0.2
             }
            },
            "type": "histogram"
           }
          ],
          "histogram2d": [
           {
            "colorbar": {
             "outlinewidth": 0,
             "ticks": ""
            },
            "colorscale": [
             [
              0,
              "#0d0887"
             ],
             [
              0.1111111111111111,
              "#46039f"
             ],
             [
              0.2222222222222222,
              "#7201a8"
             ],
             [
              0.3333333333333333,
              "#9c179e"
             ],
             [
              0.4444444444444444,
              "#bd3786"
             ],
             [
              0.5555555555555556,
              "#d8576b"
             ],
             [
              0.6666666666666666,
              "#ed7953"
             ],
             [
              0.7777777777777778,
              "#fb9f3a"
             ],
             [
              0.8888888888888888,
              "#fdca26"
             ],
             [
              1,
              "#f0f921"
             ]
            ],
            "type": "histogram2d"
           }
          ],
          "histogram2dcontour": [
           {
            "colorbar": {
             "outlinewidth": 0,
             "ticks": ""
            },
            "colorscale": [
             [
              0,
              "#0d0887"
             ],
             [
              0.1111111111111111,
              "#46039f"
             ],
             [
              0.2222222222222222,
              "#7201a8"
             ],
             [
              0.3333333333333333,
              "#9c179e"
             ],
             [
              0.4444444444444444,
              "#bd3786"
             ],
             [
              0.5555555555555556,
              "#d8576b"
             ],
             [
              0.6666666666666666,
              "#ed7953"
             ],
             [
              0.7777777777777778,
              "#fb9f3a"
             ],
             [
              0.8888888888888888,
              "#fdca26"
             ],
             [
              1,
              "#f0f921"
             ]
            ],
            "type": "histogram2dcontour"
           }
          ],
          "mesh3d": [
           {
            "colorbar": {
             "outlinewidth": 0,
             "ticks": ""
            },
            "type": "mesh3d"
           }
          ],
          "parcoords": [
           {
            "line": {
             "colorbar": {
              "outlinewidth": 0,
              "ticks": ""
             }
            },
            "type": "parcoords"
           }
          ],
          "pie": [
           {
            "automargin": true,
            "type": "pie"
           }
          ],
          "scatter": [
           {
            "fillpattern": {
             "fillmode": "overlay",
             "size": 10,
             "solidity": 0.2
            },
            "type": "scatter"
           }
          ],
          "scatter3d": [
           {
            "line": {
             "colorbar": {
              "outlinewidth": 0,
              "ticks": ""
             }
            },
            "marker": {
             "colorbar": {
              "outlinewidth": 0,
              "ticks": ""
             }
            },
            "type": "scatter3d"
           }
          ],
          "scattercarpet": [
           {
            "marker": {
             "colorbar": {
              "outlinewidth": 0,
              "ticks": ""
             }
            },
            "type": "scattercarpet"
           }
          ],
          "scattergeo": [
           {
            "marker": {
             "colorbar": {
              "outlinewidth": 0,
              "ticks": ""
             }
            },
            "type": "scattergeo"
           }
          ],
          "scattergl": [
           {
            "marker": {
             "colorbar": {
              "outlinewidth": 0,
              "ticks": ""
             }
            },
            "type": "scattergl"
           }
          ],
          "scattermapbox": [
           {
            "marker": {
             "colorbar": {
              "outlinewidth": 0,
              "ticks": ""
             }
            },
            "type": "scattermapbox"
           }
          ],
          "scatterpolar": [
           {
            "marker": {
             "colorbar": {
              "outlinewidth": 0,
              "ticks": ""
             }
            },
            "type": "scatterpolar"
           }
          ],
          "scatterpolargl": [
           {
            "marker": {
             "colorbar": {
              "outlinewidth": 0,
              "ticks": ""
             }
            },
            "type": "scatterpolargl"
           }
          ],
          "scatterternary": [
           {
            "marker": {
             "colorbar": {
              "outlinewidth": 0,
              "ticks": ""
             }
            },
            "type": "scatterternary"
           }
          ],
          "surface": [
           {
            "colorbar": {
             "outlinewidth": 0,
             "ticks": ""
            },
            "colorscale": [
             [
              0,
              "#0d0887"
             ],
             [
              0.1111111111111111,
              "#46039f"
             ],
             [
              0.2222222222222222,
              "#7201a8"
             ],
             [
              0.3333333333333333,
              "#9c179e"
             ],
             [
              0.4444444444444444,
              "#bd3786"
             ],
             [
              0.5555555555555556,
              "#d8576b"
             ],
             [
              0.6666666666666666,
              "#ed7953"
             ],
             [
              0.7777777777777778,
              "#fb9f3a"
             ],
             [
              0.8888888888888888,
              "#fdca26"
             ],
             [
              1,
              "#f0f921"
             ]
            ],
            "type": "surface"
           }
          ],
          "table": [
           {
            "cells": {
             "fill": {
              "color": "#EBF0F8"
             },
             "line": {
              "color": "white"
             }
            },
            "header": {
             "fill": {
              "color": "#C8D4E3"
             },
             "line": {
              "color": "white"
             }
            },
            "type": "table"
           }
          ]
         },
         "layout": {
          "annotationdefaults": {
           "arrowcolor": "#2a3f5f",
           "arrowhead": 0,
           "arrowwidth": 1
          },
          "autotypenumbers": "strict",
          "coloraxis": {
           "colorbar": {
            "outlinewidth": 0,
            "ticks": ""
           }
          },
          "colorscale": {
           "diverging": [
            [
             0,
             "#8e0152"
            ],
            [
             0.1,
             "#c51b7d"
            ],
            [
             0.2,
             "#de77ae"
            ],
            [
             0.3,
             "#f1b6da"
            ],
            [
             0.4,
             "#fde0ef"
            ],
            [
             0.5,
             "#f7f7f7"
            ],
            [
             0.6,
             "#e6f5d0"
            ],
            [
             0.7,
             "#b8e186"
            ],
            [
             0.8,
             "#7fbc41"
            ],
            [
             0.9,
             "#4d9221"
            ],
            [
             1,
             "#276419"
            ]
           ],
           "sequential": [
            [
             0,
             "#0d0887"
            ],
            [
             0.1111111111111111,
             "#46039f"
            ],
            [
             0.2222222222222222,
             "#7201a8"
            ],
            [
             0.3333333333333333,
             "#9c179e"
            ],
            [
             0.4444444444444444,
             "#bd3786"
            ],
            [
             0.5555555555555556,
             "#d8576b"
            ],
            [
             0.6666666666666666,
             "#ed7953"
            ],
            [
             0.7777777777777778,
             "#fb9f3a"
            ],
            [
             0.8888888888888888,
             "#fdca26"
            ],
            [
             1,
             "#f0f921"
            ]
           ],
           "sequentialminus": [
            [
             0,
             "#0d0887"
            ],
            [
             0.1111111111111111,
             "#46039f"
            ],
            [
             0.2222222222222222,
             "#7201a8"
            ],
            [
             0.3333333333333333,
             "#9c179e"
            ],
            [
             0.4444444444444444,
             "#bd3786"
            ],
            [
             0.5555555555555556,
             "#d8576b"
            ],
            [
             0.6666666666666666,
             "#ed7953"
            ],
            [
             0.7777777777777778,
             "#fb9f3a"
            ],
            [
             0.8888888888888888,
             "#fdca26"
            ],
            [
             1,
             "#f0f921"
            ]
           ]
          },
          "colorway": [
           "#636efa",
           "#EF553B",
           "#00cc96",
           "#ab63fa",
           "#FFA15A",
           "#19d3f3",
           "#FF6692",
           "#B6E880",
           "#FF97FF",
           "#FECB52"
          ],
          "font": {
           "color": "#2a3f5f"
          },
          "geo": {
           "bgcolor": "white",
           "lakecolor": "white",
           "landcolor": "#E5ECF6",
           "showlakes": true,
           "showland": true,
           "subunitcolor": "white"
          },
          "hoverlabel": {
           "align": "left"
          },
          "hovermode": "closest",
          "mapbox": {
           "style": "light"
          },
          "paper_bgcolor": "white",
          "plot_bgcolor": "#E5ECF6",
          "polar": {
           "angularaxis": {
            "gridcolor": "white",
            "linecolor": "white",
            "ticks": ""
           },
           "bgcolor": "#E5ECF6",
           "radialaxis": {
            "gridcolor": "white",
            "linecolor": "white",
            "ticks": ""
           }
          },
          "scene": {
           "xaxis": {
            "backgroundcolor": "#E5ECF6",
            "gridcolor": "white",
            "gridwidth": 2,
            "linecolor": "white",
            "showbackground": true,
            "ticks": "",
            "zerolinecolor": "white"
           },
           "yaxis": {
            "backgroundcolor": "#E5ECF6",
            "gridcolor": "white",
            "gridwidth": 2,
            "linecolor": "white",
            "showbackground": true,
            "ticks": "",
            "zerolinecolor": "white"
           },
           "zaxis": {
            "backgroundcolor": "#E5ECF6",
            "gridcolor": "white",
            "gridwidth": 2,
            "linecolor": "white",
            "showbackground": true,
            "ticks": "",
            "zerolinecolor": "white"
           }
          },
          "shapedefaults": {
           "line": {
            "color": "#2a3f5f"
           }
          },
          "ternary": {
           "aaxis": {
            "gridcolor": "white",
            "linecolor": "white",
            "ticks": ""
           },
           "baxis": {
            "gridcolor": "white",
            "linecolor": "white",
            "ticks": ""
           },
           "bgcolor": "#E5ECF6",
           "caxis": {
            "gridcolor": "white",
            "linecolor": "white",
            "ticks": ""
           }
          },
          "title": {
           "x": 0.05
          },
          "xaxis": {
           "automargin": true,
           "gridcolor": "white",
           "linecolor": "white",
           "ticks": "",
           "title": {
            "standoff": 15
           },
           "zerolinecolor": "white",
           "zerolinewidth": 2
          },
          "yaxis": {
           "automargin": true,
           "gridcolor": "white",
           "linecolor": "white",
           "ticks": "",
           "title": {
            "standoff": 15
           },
           "zerolinecolor": "white",
           "zerolinewidth": 2
          }
         }
        }
       }
      }
     },
     "metadata": {},
     "output_type": "display_data"
    }
   ],
   "source": [
    "get_plot(df_test, dict_routes)"
   ]
  },
  {
   "cell_type": "code",
   "execution_count": 19,
   "metadata": {},
   "outputs": [
    {
     "ename": "NameError",
     "evalue": "name 'plot_list' is not defined",
     "output_type": "error",
     "traceback": [
      "\u001b[1;31m---------------------------------------------------------------------------\u001b[0m",
      "\u001b[1;31mNameError\u001b[0m                                 Traceback (most recent call last)",
      "Cell \u001b[1;32mIn[19], line 1\u001b[0m\n\u001b[1;32m----> 1\u001b[0m plot_list(df_test, dict_routes)\n",
      "\u001b[1;31mNameError\u001b[0m: name 'plot_list' is not defined"
     ]
    }
   ],
   "source": [
    "plot_list(df_test, dict_routes)"
   ]
  },
  {
   "cell_type": "markdown",
   "metadata": {},
   "source": [
    "## Capacitated Vehicle Routing with distance capacity constraints"
   ]
  },
  {
   "cell_type": "code",
   "execution_count": 121,
   "metadata": {},
   "outputs": [],
   "source": [
    "# Functions and main for VRP\n",
    "df_test = df[df['Distance (km)']<=50].reset_index()\n",
    "df_test['Sender weight (kg)'] = np.ceil(df_test['Sender weight (kg)']).astype(int)"
   ]
  },
  {
   "cell_type": "code",
   "execution_count": 122,
   "metadata": {},
   "outputs": [
    {
     "name": "stderr",
     "output_type": "stream",
     "text": [
      "C:\\Users\\SESA667490\\AppData\\Local\\Temp\\ipykernel_29128\\1796854217.py:1: FutureWarning:\n",
      "\n",
      "Series.dt.weekofyear and Series.dt.week have been deprecated. Please use Series.dt.isocalendar().week instead.\n",
      "\n"
     ]
    }
   ],
   "source": [
    "df_test = df_test[(df_test['Pickup date'].dt.week == 2)&(df_test['Sender weight (kg)']<= 5000)]"
   ]
  },
  {
   "cell_type": "code",
   "execution_count": 156,
   "metadata": {},
   "outputs": [
    {
     "data": {
      "text/plain": [
       "3003.85"
      ]
     },
     "execution_count": 156,
     "metadata": {},
     "output_type": "execute_result"
    }
   ],
   "source": [
    "df_test['Sender weight (kg)'].sum()/20"
   ]
  },
  {
   "cell_type": "code",
   "execution_count": 155,
   "metadata": {},
   "outputs": [
    {
     "data": {
      "text/plain": [
       "49.914"
      ]
     },
     "execution_count": 155,
     "metadata": {},
     "output_type": "execute_result"
    }
   ],
   "source": [
    "df_test['Distance (km)'].max()"
   ]
  },
  {
   "cell_type": "code",
   "execution_count": 172,
   "metadata": {},
   "outputs": [
    {
     "data": {
      "text/plain": [
       "array([[      0,   19000,   27000, ..., 1652000, 1661000, 1661000],\n",
       "       [  19000,       0,   16000, ..., 1644000, 1653000, 1653000],\n",
       "       [  27000,   16000,       0, ..., 1657000, 1667000, 1667000],\n",
       "       ...,\n",
       "       [1652000, 1644000, 1657000, ...,       0,    9000,    9000],\n",
       "       [1661000, 1653000, 1667000, ...,    9000,       0,       0],\n",
       "       [1661000, 1653000, 1667000, ...,    9000,       0,       0]])"
      ]
     },
     "execution_count": 172,
     "metadata": {},
     "output_type": "execute_result"
    }
   ],
   "source": [
    "create_distance_matrix(df_test)*1000"
   ]
  },
  {
   "cell_type": "code",
   "execution_count": 10,
   "metadata": {},
   "outputs": [],
   "source": [
    "def create_data_model():\n",
    "    \"\"\"Stores the data for the problem.\"\"\"\n",
    "    data = {}\n",
    "    data['distance_matrix'] = create_distance_matrix(df_test)*1000\n",
    "    data['demands'] = np.hstack((0, df_test['Sender weight (kg)'])).astype(int)\n",
    "    capacity = 500000\n",
    "    data['num_vehicles'] = 1000\n",
    "    data['vehicle_capacities'] = np.full(shape=data['num_vehicles'],fill_value=capacity,dtype=int)\n",
    "    data['depot'] = 0\n",
    "    return data \n",
    "\n",
    "def main():\n",
    "    \"\"\"Solve the CVRP problem.\"\"\"\n",
    "    # Instantiate the data problem.\n",
    "    data = create_data_model()\n",
    "\n",
    "    # Create the routing index manager.\n",
    "    manager = pywrapcp.RoutingIndexManager(len(data['distance_matrix']), data['num_vehicles'], data['depot'])\n",
    "\n",
    "    # Create Routing Model.\n",
    "    routing = pywrapcp.RoutingModel(manager)\n",
    "\n",
    "    # Create and register a transit callback.\n",
    "    def distance_callback(from_index, to_index):\n",
    "        \"\"\"Returns the distance between the two nodes.\"\"\"\n",
    "        # Convert from routing variable Index to distance matrix NodeIndex.\n",
    "        from_node = manager.IndexToNode(from_index)\n",
    "        to_node = manager.IndexToNode(to_index)\n",
    "        return data['distance_matrix'][from_node][to_node]\n",
    "\n",
    "    transit_callback_index = routing.RegisterTransitCallback(distance_callback)\n",
    "\n",
    "    # Define cost of each arc.\n",
    "    routing.SetArcCostEvaluatorOfAllVehicles(transit_callback_index)\n",
    "\n",
    "    # Add Distance constraint.\n",
    "    dimension_name = 'Distance'\n",
    "    routing.AddDimension(\n",
    "        transit_callback_index,\n",
    "        1000,  # no slack\n",
    "        200000000,  # vehicle maximum travel distance in m\n",
    "        True,  # start cumul to zero\n",
    "        dimension_name)\n",
    "    distance_dimension = routing.GetDimensionOrDie(dimension_name)\n",
    "    distance_dimension.SetGlobalSpanCostCoefficient(100)\n",
    "\n",
    "    # Add Capacity constraint.\n",
    "    def demand_callback(from_index):\n",
    "        \"\"\"Returns the demand of the node.\"\"\"\n",
    "        # Convert from routing variable Index to demands NodeIndex.\n",
    "        from_node = manager.IndexToNode(from_index)\n",
    "        return data['demands'][from_node]\n",
    "\n",
    "    demand_callback_index = routing.RegisterUnaryTransitCallback(demand_callback)\n",
    "    routing.AddDimensionWithVehicleCapacity(\n",
    "        demand_callback_index,\n",
    "        100,  # null capacity slack\n",
    "        data['vehicle_capacities'],  # vehicle maximum capacities\n",
    "        True,  # start cumul to zero\n",
    "        'Capacity')\n",
    "\n",
    "    # Setting first solution heuristic.\n",
    "    search_parameters = pywrapcp.DefaultRoutingSearchParameters()\n",
    "    search_parameters.first_solution_strategy = (\n",
    "        routing_enums_pb2.FirstSolutionStrategy.PATH_CHEAPEST_ARC)\n",
    "    search_parameters.local_search_metaheuristic = (\n",
    "        routing_enums_pb2.LocalSearchMetaheuristic.GUIDED_LOCAL_SEARCH)\n",
    "    search_parameters.time_limit.FromSeconds(1)\n",
    "\n",
    "    # Solve the problem.\n",
    "    solution = routing.SolveWithParameters(search_parameters)\n",
    "    return solution, data\n",
    "\n",
    "    # Print solution on console.\n",
    "    if solution:\n",
    "        dict_distances, dict_nodes = print_solution(data, manager, routing, solution)\n",
    "        return dict_distances, dict_nodes\n",
    "    else: \n",
    "        return 'No solution', 'No solution'"
   ]
  },
  {
   "cell_type": "code",
   "execution_count": 176,
   "metadata": {},
   "outputs": [
    {
     "data": {
      "text/plain": [
       "(None,\n",
       " {'distance_matrix': array([[      0,   19000,   27000, ..., 1652000, 1661000, 1661000],\n",
       "         [  19000,       0,   16000, ..., 1644000, 1653000, 1653000],\n",
       "         [  27000,   16000,       0, ..., 1657000, 1667000, 1667000],\n",
       "         ...,\n",
       "         [1652000, 1644000, 1657000, ...,       0,    9000,    9000],\n",
       "         [1661000, 1653000, 1667000, ...,    9000,       0,       0],\n",
       "         [1661000, 1653000, 1667000, ...,    9000,       0,       0]]),\n",
       "  'demands': array([   0,  238,   62,   25,   24,  126,    2,    4,   37,   24,    2,\n",
       "           32,   12,    4,    8,    2, 3080,    1,    1,    1,    1,   12,\n",
       "            4,    5,    7, 2168,  135,  277,  154,  779, 1518,  463,  453,\n",
       "         1903,   54, 1439, 3531,   64,  149,  111,  184,   10,   53,   11,\n",
       "           45,  240,  166,    1,    5,    2,    2,    2,    2,    7,    1,\n",
       "            5,    1,    3,    1,    3,   15,    2,   15,   21,    2,    3,\n",
       "            6,  388, 4343,   40,    1,   11,    1,    5,   67,  688,  157,\n",
       "          641,   32,   16,  177,    8,   30, 1057,  130,    1,  667,  750,\n",
       "         3573, 1462,  110,    5,   21,    3,  505,   58,    2,    6,  158,\n",
       "            8,   16,  513,   27,   16,   97,   13,  167,   43,    2,    1,\n",
       "           10,    1,    5,    3,    1,    5,    2,    8,    1,    2,    4,\n",
       "            1,    2,    1,    4,    2,   29,    1,    1,    2,  726, 1239,\n",
       "            1,    5,  199, 3439,   10, 4532,    1,    6,   11,   77,   24,\n",
       "         1736,   74, 2986,  213, 1940,    5,  105,   51,   98,   38,    1,\n",
       "            1,   32,    6,   31,    2,    6,   14,  310,   95,   82,  288,\n",
       "            2,  102,    2,    3,   13,   94,   12,    6,    4,    4,    3,\n",
       "            3,   25,    2,    6,    8,    2, 4770,    8,  499,  396,    1,\n",
       "            1,  553,   19,    1,   31,   77,    1,   20,    8,    6,   34,\n",
       "            2,   12,    2,    2,  323,    1,    1,    3,    1,    1,    1,\n",
       "            2,    1,    1,    1,    7,    2,    3,   19,  732,   24,   15]),\n",
       "  'num_vehicles': 1000,\n",
       "  'vehicle_capacities': array([500000, 500000, 500000, 500000, 500000, 500000, 500000, 500000,\n",
       "         500000, 500000, 500000, 500000, 500000, 500000, 500000, 500000,\n",
       "         500000, 500000, 500000, 500000, 500000, 500000, 500000, 500000,\n",
       "         500000, 500000, 500000, 500000, 500000, 500000, 500000, 500000,\n",
       "         500000, 500000, 500000, 500000, 500000, 500000, 500000, 500000,\n",
       "         500000, 500000, 500000, 500000, 500000, 500000, 500000, 500000,\n",
       "         500000, 500000, 500000, 500000, 500000, 500000, 500000, 500000,\n",
       "         500000, 500000, 500000, 500000, 500000, 500000, 500000, 500000,\n",
       "         500000, 500000, 500000, 500000, 500000, 500000, 500000, 500000,\n",
       "         500000, 500000, 500000, 500000, 500000, 500000, 500000, 500000,\n",
       "         500000, 500000, 500000, 500000, 500000, 500000, 500000, 500000,\n",
       "         500000, 500000, 500000, 500000, 500000, 500000, 500000, 500000,\n",
       "         500000, 500000, 500000, 500000, 500000, 500000, 500000, 500000,\n",
       "         500000, 500000, 500000, 500000, 500000, 500000, 500000, 500000,\n",
       "         500000, 500000, 500000, 500000, 500000, 500000, 500000, 500000,\n",
       "         500000, 500000, 500000, 500000, 500000, 500000, 500000, 500000,\n",
       "         500000, 500000, 500000, 500000, 500000, 500000, 500000, 500000,\n",
       "         500000, 500000, 500000, 500000, 500000, 500000, 500000, 500000,\n",
       "         500000, 500000, 500000, 500000, 500000, 500000, 500000, 500000,\n",
       "         500000, 500000, 500000, 500000, 500000, 500000, 500000, 500000,\n",
       "         500000, 500000, 500000, 500000, 500000, 500000, 500000, 500000,\n",
       "         500000, 500000, 500000, 500000, 500000, 500000, 500000, 500000,\n",
       "         500000, 500000, 500000, 500000, 500000, 500000, 500000, 500000,\n",
       "         500000, 500000, 500000, 500000, 500000, 500000, 500000, 500000,\n",
       "         500000, 500000, 500000, 500000, 500000, 500000, 500000, 500000,\n",
       "         500000, 500000, 500000, 500000, 500000, 500000, 500000, 500000,\n",
       "         500000, 500000, 500000, 500000, 500000, 500000, 500000, 500000,\n",
       "         500000, 500000, 500000, 500000, 500000, 500000, 500000, 500000,\n",
       "         500000, 500000, 500000, 500000, 500000, 500000, 500000, 500000,\n",
       "         500000, 500000, 500000, 500000, 500000, 500000, 500000, 500000,\n",
       "         500000, 500000, 500000, 500000, 500000, 500000, 500000, 500000,\n",
       "         500000, 500000, 500000, 500000, 500000, 500000, 500000, 500000,\n",
       "         500000, 500000, 500000, 500000, 500000, 500000, 500000, 500000,\n",
       "         500000, 500000, 500000, 500000, 500000, 500000, 500000, 500000,\n",
       "         500000, 500000, 500000, 500000, 500000, 500000, 500000, 500000,\n",
       "         500000, 500000, 500000, 500000, 500000, 500000, 500000, 500000,\n",
       "         500000, 500000, 500000, 500000, 500000, 500000, 500000, 500000,\n",
       "         500000, 500000, 500000, 500000, 500000, 500000, 500000, 500000,\n",
       "         500000, 500000, 500000, 500000, 500000, 500000, 500000, 500000,\n",
       "         500000, 500000, 500000, 500000, 500000, 500000, 500000, 500000,\n",
       "         500000, 500000, 500000, 500000, 500000, 500000, 500000, 500000,\n",
       "         500000, 500000, 500000, 500000, 500000, 500000, 500000, 500000,\n",
       "         500000, 500000, 500000, 500000, 500000, 500000, 500000, 500000,\n",
       "         500000, 500000, 500000, 500000, 500000, 500000, 500000, 500000,\n",
       "         500000, 500000, 500000, 500000, 500000, 500000, 500000, 500000,\n",
       "         500000, 500000, 500000, 500000, 500000, 500000, 500000, 500000,\n",
       "         500000, 500000, 500000, 500000, 500000, 500000, 500000, 500000,\n",
       "         500000, 500000, 500000, 500000, 500000, 500000, 500000, 500000,\n",
       "         500000, 500000, 500000, 500000, 500000, 500000, 500000, 500000,\n",
       "         500000, 500000, 500000, 500000, 500000, 500000, 500000, 500000,\n",
       "         500000, 500000, 500000, 500000, 500000, 500000, 500000, 500000,\n",
       "         500000, 500000, 500000, 500000, 500000, 500000, 500000, 500000,\n",
       "         500000, 500000, 500000, 500000, 500000, 500000, 500000, 500000,\n",
       "         500000, 500000, 500000, 500000, 500000, 500000, 500000, 500000,\n",
       "         500000, 500000, 500000, 500000, 500000, 500000, 500000, 500000,\n",
       "         500000, 500000, 500000, 500000, 500000, 500000, 500000, 500000,\n",
       "         500000, 500000, 500000, 500000, 500000, 500000, 500000, 500000,\n",
       "         500000, 500000, 500000, 500000, 500000, 500000, 500000, 500000,\n",
       "         500000, 500000, 500000, 500000, 500000, 500000, 500000, 500000,\n",
       "         500000, 500000, 500000, 500000, 500000, 500000, 500000, 500000,\n",
       "         500000, 500000, 500000, 500000, 500000, 500000, 500000, 500000,\n",
       "         500000, 500000, 500000, 500000, 500000, 500000, 500000, 500000,\n",
       "         500000, 500000, 500000, 500000, 500000, 500000, 500000, 500000,\n",
       "         500000, 500000, 500000, 500000, 500000, 500000, 500000, 500000,\n",
       "         500000, 500000, 500000, 500000, 500000, 500000, 500000, 500000,\n",
       "         500000, 500000, 500000, 500000, 500000, 500000, 500000, 500000,\n",
       "         500000, 500000, 500000, 500000, 500000, 500000, 500000, 500000,\n",
       "         500000, 500000, 500000, 500000, 500000, 500000, 500000, 500000,\n",
       "         500000, 500000, 500000, 500000, 500000, 500000, 500000, 500000,\n",
       "         500000, 500000, 500000, 500000, 500000, 500000, 500000, 500000,\n",
       "         500000, 500000, 500000, 500000, 500000, 500000, 500000, 500000,\n",
       "         500000, 500000, 500000, 500000, 500000, 500000, 500000, 500000,\n",
       "         500000, 500000, 500000, 500000, 500000, 500000, 500000, 500000,\n",
       "         500000, 500000, 500000, 500000, 500000, 500000, 500000, 500000,\n",
       "         500000, 500000, 500000, 500000, 500000, 500000, 500000, 500000,\n",
       "         500000, 500000, 500000, 500000, 500000, 500000, 500000, 500000,\n",
       "         500000, 500000, 500000, 500000, 500000, 500000, 500000, 500000,\n",
       "         500000, 500000, 500000, 500000, 500000, 500000, 500000, 500000,\n",
       "         500000, 500000, 500000, 500000, 500000, 500000, 500000, 500000,\n",
       "         500000, 500000, 500000, 500000, 500000, 500000, 500000, 500000,\n",
       "         500000, 500000, 500000, 500000, 500000, 500000, 500000, 500000,\n",
       "         500000, 500000, 500000, 500000, 500000, 500000, 500000, 500000,\n",
       "         500000, 500000, 500000, 500000, 500000, 500000, 500000, 500000,\n",
       "         500000, 500000, 500000, 500000, 500000, 500000, 500000, 500000,\n",
       "         500000, 500000, 500000, 500000, 500000, 500000, 500000, 500000,\n",
       "         500000, 500000, 500000, 500000, 500000, 500000, 500000, 500000,\n",
       "         500000, 500000, 500000, 500000, 500000, 500000, 500000, 500000,\n",
       "         500000, 500000, 500000, 500000, 500000, 500000, 500000, 500000,\n",
       "         500000, 500000, 500000, 500000, 500000, 500000, 500000, 500000,\n",
       "         500000, 500000, 500000, 500000, 500000, 500000, 500000, 500000,\n",
       "         500000, 500000, 500000, 500000, 500000, 500000, 500000, 500000,\n",
       "         500000, 500000, 500000, 500000, 500000, 500000, 500000, 500000,\n",
       "         500000, 500000, 500000, 500000, 500000, 500000, 500000, 500000,\n",
       "         500000, 500000, 500000, 500000, 500000, 500000, 500000, 500000,\n",
       "         500000, 500000, 500000, 500000, 500000, 500000, 500000, 500000,\n",
       "         500000, 500000, 500000, 500000, 500000, 500000, 500000, 500000,\n",
       "         500000, 500000, 500000, 500000, 500000, 500000, 500000, 500000,\n",
       "         500000, 500000, 500000, 500000, 500000, 500000, 500000, 500000,\n",
       "         500000, 500000, 500000, 500000, 500000, 500000, 500000, 500000,\n",
       "         500000, 500000, 500000, 500000, 500000, 500000, 500000, 500000,\n",
       "         500000, 500000, 500000, 500000, 500000, 500000, 500000, 500000,\n",
       "         500000, 500000, 500000, 500000, 500000, 500000, 500000, 500000,\n",
       "         500000, 500000, 500000, 500000, 500000, 500000, 500000, 500000,\n",
       "         500000, 500000, 500000, 500000, 500000, 500000, 500000, 500000,\n",
       "         500000, 500000, 500000, 500000, 500000, 500000, 500000, 500000,\n",
       "         500000, 500000, 500000, 500000, 500000, 500000, 500000, 500000,\n",
       "         500000, 500000, 500000, 500000, 500000, 500000, 500000, 500000,\n",
       "         500000, 500000, 500000, 500000, 500000, 500000, 500000, 500000,\n",
       "         500000, 500000, 500000, 500000, 500000, 500000, 500000, 500000,\n",
       "         500000, 500000, 500000, 500000, 500000, 500000, 500000, 500000,\n",
       "         500000, 500000, 500000, 500000, 500000, 500000, 500000, 500000,\n",
       "         500000, 500000, 500000, 500000, 500000, 500000, 500000, 500000,\n",
       "         500000, 500000, 500000, 500000, 500000, 500000, 500000, 500000,\n",
       "         500000, 500000, 500000, 500000, 500000, 500000, 500000, 500000,\n",
       "         500000, 500000, 500000, 500000, 500000, 500000, 500000, 500000,\n",
       "         500000, 500000, 500000, 500000, 500000, 500000, 500000, 500000,\n",
       "         500000, 500000, 500000, 500000, 500000, 500000, 500000, 500000,\n",
       "         500000, 500000, 500000, 500000, 500000, 500000, 500000, 500000,\n",
       "         500000, 500000, 500000, 500000, 500000, 500000, 500000, 500000,\n",
       "         500000, 500000, 500000, 500000, 500000, 500000, 500000, 500000,\n",
       "         500000, 500000, 500000, 500000, 500000, 500000, 500000, 500000,\n",
       "         500000, 500000, 500000, 500000, 500000, 500000, 500000, 500000,\n",
       "         500000, 500000, 500000, 500000, 500000, 500000, 500000, 500000,\n",
       "         500000, 500000, 500000, 500000, 500000, 500000, 500000, 500000,\n",
       "         500000, 500000, 500000, 500000, 500000, 500000, 500000, 500000]),\n",
       "  'depot': 0})"
      ]
     },
     "execution_count": 176,
     "metadata": {},
     "output_type": "execute_result"
    }
   ],
   "source": [
    "main()"
   ]
  },
  {
   "cell_type": "code",
   "execution_count": 171,
   "metadata": {},
   "outputs": [
    {
     "data": {
      "text/plain": [
       "'No solution'"
      ]
     },
     "execution_count": 171,
     "metadata": {},
     "output_type": "execute_result"
    }
   ],
   "source": [
    "dict_distances"
   ]
  },
  {
   "cell_type": "markdown",
   "metadata": {},
   "source": [
    "#### Creating plots"
   ]
  },
  {
   "cell_type": "code",
   "execution_count": 68,
   "metadata": {},
   "outputs": [
    {
     "ename": "AttributeError",
     "evalue": "'str' object has no attribute 'keys'",
     "output_type": "error",
     "traceback": [
      "\u001b[1;31m---------------------------------------------------------------------------\u001b[0m",
      "\u001b[1;31mAttributeError\u001b[0m                            Traceback (most recent call last)",
      "Cell \u001b[1;32mIn[68], line 3\u001b[0m\n\u001b[0;32m      1\u001b[0m a \u001b[39m=\u001b[39m \u001b[39m1\u001b[39m\n\u001b[0;32m      2\u001b[0m dict_routes \u001b[39m=\u001b[39m {}\n\u001b[1;32m----> 3\u001b[0m \u001b[39mfor\u001b[39;00m i \u001b[39min\u001b[39;00m dict_nodes\u001b[39m.\u001b[39;49mkeys():\n\u001b[0;32m      4\u001b[0m     \u001b[39mif\u001b[39;00m \u001b[39mlen\u001b[39m(dict_nodes[i])\u001b[39m>\u001b[39m\u001b[39m2\u001b[39m:\n\u001b[0;32m      5\u001b[0m         dict_routes[a] \u001b[39m=\u001b[39m dict_nodes[i]\n",
      "\u001b[1;31mAttributeError\u001b[0m: 'str' object has no attribute 'keys'"
     ]
    }
   ],
   "source": [
    "a = 1\n",
    "dict_routes = {}\n",
    "for i in dict_nodes.keys():\n",
    "    if len(dict_nodes[i])>2:\n",
    "        dict_routes[a] = dict_nodes[i]\n",
    "        a=a+1"
   ]
  },
  {
   "cell_type": "code",
   "execution_count": 57,
   "metadata": {},
   "outputs": [
    {
     "ename": "IndexError",
     "evalue": "positional indexers are out-of-bounds",
     "output_type": "error",
     "traceback": [
      "\u001b[1;31m---------------------------------------------------------------------------\u001b[0m",
      "\u001b[1;31mIndexError\u001b[0m                                Traceback (most recent call last)",
      "File \u001b[1;32mc:\\Users\\SESA667490\\venvs\\sustainable-transport\\lib\\site-packages\\pandas\\core\\indexing.py:1587\u001b[0m, in \u001b[0;36m_iLocIndexer._get_list_axis\u001b[1;34m(self, key, axis)\u001b[0m\n\u001b[0;32m   1586\u001b[0m \u001b[39mtry\u001b[39;00m:\n\u001b[1;32m-> 1587\u001b[0m     \u001b[39mreturn\u001b[39;00m \u001b[39mself\u001b[39;49m\u001b[39m.\u001b[39;49mobj\u001b[39m.\u001b[39;49m_take_with_is_copy(key, axis\u001b[39m=\u001b[39;49maxis)\n\u001b[0;32m   1588\u001b[0m \u001b[39mexcept\u001b[39;00m \u001b[39mIndexError\u001b[39;00m \u001b[39mas\u001b[39;00m err:\n\u001b[0;32m   1589\u001b[0m     \u001b[39m# re-raise with different error message\u001b[39;00m\n",
      "File \u001b[1;32mc:\\Users\\SESA667490\\venvs\\sustainable-transport\\lib\\site-packages\\pandas\\core\\generic.py:3902\u001b[0m, in \u001b[0;36mNDFrame._take_with_is_copy\u001b[1;34m(self, indices, axis)\u001b[0m\n\u001b[0;32m   3895\u001b[0m \u001b[39m\u001b[39m\u001b[39m\"\"\"\u001b[39;00m\n\u001b[0;32m   3896\u001b[0m \u001b[39mInternal version of the `take` method that sets the `_is_copy`\u001b[39;00m\n\u001b[0;32m   3897\u001b[0m \u001b[39mattribute to keep track of the parent dataframe (using in indexing\u001b[39;00m\n\u001b[1;32m   (...)\u001b[0m\n\u001b[0;32m   3900\u001b[0m \u001b[39mSee the docstring of `take` for full explanation of the parameters.\u001b[39;00m\n\u001b[0;32m   3901\u001b[0m \u001b[39m\"\"\"\u001b[39;00m\n\u001b[1;32m-> 3902\u001b[0m result \u001b[39m=\u001b[39m \u001b[39mself\u001b[39;49m\u001b[39m.\u001b[39;49m_take(indices\u001b[39m=\u001b[39;49mindices, axis\u001b[39m=\u001b[39;49maxis)\n\u001b[0;32m   3903\u001b[0m \u001b[39m# Maybe set copy if we didn't actually change the index.\u001b[39;00m\n",
      "File \u001b[1;32mc:\\Users\\SESA667490\\venvs\\sustainable-transport\\lib\\site-packages\\pandas\\core\\generic.py:3886\u001b[0m, in \u001b[0;36mNDFrame._take\u001b[1;34m(self, indices, axis, convert_indices)\u001b[0m\n\u001b[0;32m   3884\u001b[0m \u001b[39mself\u001b[39m\u001b[39m.\u001b[39m_consolidate_inplace()\n\u001b[1;32m-> 3886\u001b[0m new_data \u001b[39m=\u001b[39m \u001b[39mself\u001b[39;49m\u001b[39m.\u001b[39;49m_mgr\u001b[39m.\u001b[39;49mtake(\n\u001b[0;32m   3887\u001b[0m     indices,\n\u001b[0;32m   3888\u001b[0m     axis\u001b[39m=\u001b[39;49m\u001b[39mself\u001b[39;49m\u001b[39m.\u001b[39;49m_get_block_manager_axis(axis),\n\u001b[0;32m   3889\u001b[0m     verify\u001b[39m=\u001b[39;49m\u001b[39mTrue\u001b[39;49;00m,\n\u001b[0;32m   3890\u001b[0m     convert_indices\u001b[39m=\u001b[39;49mconvert_indices,\n\u001b[0;32m   3891\u001b[0m )\n\u001b[0;32m   3892\u001b[0m \u001b[39mreturn\u001b[39;00m \u001b[39mself\u001b[39m\u001b[39m.\u001b[39m_constructor(new_data)\u001b[39m.\u001b[39m__finalize__(\u001b[39mself\u001b[39m, method\u001b[39m=\u001b[39m\u001b[39m\"\u001b[39m\u001b[39mtake\u001b[39m\u001b[39m\"\u001b[39m)\n",
      "File \u001b[1;32mc:\\Users\\SESA667490\\venvs\\sustainable-transport\\lib\\site-packages\\pandas\\core\\internals\\managers.py:977\u001b[0m, in \u001b[0;36mBaseBlockManager.take\u001b[1;34m(self, indexer, axis, verify, convert_indices)\u001b[0m\n\u001b[0;32m    976\u001b[0m \u001b[39mif\u001b[39;00m convert_indices:\n\u001b[1;32m--> 977\u001b[0m     indexer \u001b[39m=\u001b[39m maybe_convert_indices(indexer, n, verify\u001b[39m=\u001b[39;49mverify)\n\u001b[0;32m    979\u001b[0m new_labels \u001b[39m=\u001b[39m \u001b[39mself\u001b[39m\u001b[39m.\u001b[39maxes[axis]\u001b[39m.\u001b[39mtake(indexer)\n",
      "File \u001b[1;32mc:\\Users\\SESA667490\\venvs\\sustainable-transport\\lib\\site-packages\\pandas\\core\\indexers\\utils.py:286\u001b[0m, in \u001b[0;36mmaybe_convert_indices\u001b[1;34m(indices, n, verify)\u001b[0m\n\u001b[0;32m    285\u001b[0m     \u001b[39mif\u001b[39;00m mask\u001b[39m.\u001b[39many():\n\u001b[1;32m--> 286\u001b[0m         \u001b[39mraise\u001b[39;00m \u001b[39mIndexError\u001b[39;00m(\u001b[39m\"\u001b[39m\u001b[39mindices are out-of-bounds\u001b[39m\u001b[39m\"\u001b[39m)\n\u001b[0;32m    287\u001b[0m \u001b[39mreturn\u001b[39;00m indices\n",
      "\u001b[1;31mIndexError\u001b[0m: indices are out-of-bounds",
      "\nThe above exception was the direct cause of the following exception:\n",
      "\u001b[1;31mIndexError\u001b[0m                                Traceback (most recent call last)",
      "Cell \u001b[1;32mIn[57], line 1\u001b[0m\n\u001b[1;32m----> 1\u001b[0m get_plot(df_test, dict_routes)\n",
      "Cell \u001b[1;32mIn[39], line 8\u001b[0m, in \u001b[0;36mget_plot\u001b[1;34m(df_test, dict_nodes)\u001b[0m\n\u001b[0;32m      6\u001b[0m fig \u001b[39m=\u001b[39m go\u001b[39m.\u001b[39mFigure()\n\u001b[0;32m      7\u001b[0m \u001b[39mfor\u001b[39;00m i \u001b[39min\u001b[39;00m dict_nodes\u001b[39m.\u001b[39mkeys():\n\u001b[1;32m----> 8\u001b[0m     \u001b[39mif\u001b[39;00m routes\u001b[39m.\u001b[39;49miloc[dict_nodes[i]]\u001b[39m.\u001b[39mshape[\u001b[39m0\u001b[39m] \u001b[39m>\u001b[39m \u001b[39m2\u001b[39m:\n\u001b[0;32m      9\u001b[0m         fig\u001b[39m.\u001b[39madd_trace(go\u001b[39m.\u001b[39mScattermapbox(lat\u001b[39m=\u001b[39mroutes\u001b[39m.\u001b[39miloc[dict_nodes[i]][\u001b[39m'\u001b[39m\u001b[39mLatitude\u001b[39m\u001b[39m'\u001b[39m], lon\u001b[39m=\u001b[39mroutes\u001b[39m.\u001b[39miloc[dict_nodes[i]][\u001b[39m'\u001b[39m\u001b[39mLongitude\u001b[39m\u001b[39m'\u001b[39m], mode \u001b[39m=\u001b[39m \u001b[39m'\u001b[39m\u001b[39mmarkers+lines\u001b[39m\u001b[39m'\u001b[39m, name \u001b[39m=\u001b[39m \u001b[39mf\u001b[39m\u001b[39m'\u001b[39m\u001b[39mRoute \u001b[39m\u001b[39m{\u001b[39;00mi\u001b[39m}\u001b[39;00m\u001b[39m'\u001b[39m))\n\u001b[0;32m     10\u001b[0m fig\u001b[39m.\u001b[39madd_trace(go\u001b[39m.\u001b[39mScattermapbox(lat\u001b[39m=\u001b[39mshipper[\u001b[39m'\u001b[39m\u001b[39mLatitude\u001b[39m\u001b[39m'\u001b[39m], lon\u001b[39m=\u001b[39mshipper[\u001b[39m'\u001b[39m\u001b[39mLongitude\u001b[39m\u001b[39m'\u001b[39m], mode \u001b[39m=\u001b[39m \u001b[39m'\u001b[39m\u001b[39mmarkers\u001b[39m\u001b[39m'\u001b[39m, marker \u001b[39m=\u001b[39m {\u001b[39m'\u001b[39m\u001b[39msize\u001b[39m\u001b[39m'\u001b[39m: \u001b[39m12\u001b[39m}, name \u001b[39m=\u001b[39m \u001b[39m'\u001b[39m\u001b[39mDC\u001b[39m\u001b[39m'\u001b[39m))\n",
      "File \u001b[1;32mc:\\Users\\SESA667490\\venvs\\sustainable-transport\\lib\\site-packages\\pandas\\core\\indexing.py:1073\u001b[0m, in \u001b[0;36m_LocationIndexer.__getitem__\u001b[1;34m(self, key)\u001b[0m\n\u001b[0;32m   1070\u001b[0m axis \u001b[39m=\u001b[39m \u001b[39mself\u001b[39m\u001b[39m.\u001b[39maxis \u001b[39mor\u001b[39;00m \u001b[39m0\u001b[39m\n\u001b[0;32m   1072\u001b[0m maybe_callable \u001b[39m=\u001b[39m com\u001b[39m.\u001b[39mapply_if_callable(key, \u001b[39mself\u001b[39m\u001b[39m.\u001b[39mobj)\n\u001b[1;32m-> 1073\u001b[0m \u001b[39mreturn\u001b[39;00m \u001b[39mself\u001b[39;49m\u001b[39m.\u001b[39;49m_getitem_axis(maybe_callable, axis\u001b[39m=\u001b[39;49maxis)\n",
      "File \u001b[1;32mc:\\Users\\SESA667490\\venvs\\sustainable-transport\\lib\\site-packages\\pandas\\core\\indexing.py:1616\u001b[0m, in \u001b[0;36m_iLocIndexer._getitem_axis\u001b[1;34m(self, key, axis)\u001b[0m\n\u001b[0;32m   1614\u001b[0m \u001b[39m# a list of integers\u001b[39;00m\n\u001b[0;32m   1615\u001b[0m \u001b[39melif\u001b[39;00m is_list_like_indexer(key):\n\u001b[1;32m-> 1616\u001b[0m     \u001b[39mreturn\u001b[39;00m \u001b[39mself\u001b[39;49m\u001b[39m.\u001b[39;49m_get_list_axis(key, axis\u001b[39m=\u001b[39;49maxis)\n\u001b[0;32m   1618\u001b[0m \u001b[39m# a single integer\u001b[39;00m\n\u001b[0;32m   1619\u001b[0m \u001b[39melse\u001b[39;00m:\n\u001b[0;32m   1620\u001b[0m     key \u001b[39m=\u001b[39m item_from_zerodim(key)\n",
      "File \u001b[1;32mc:\\Users\\SESA667490\\venvs\\sustainable-transport\\lib\\site-packages\\pandas\\core\\indexing.py:1590\u001b[0m, in \u001b[0;36m_iLocIndexer._get_list_axis\u001b[1;34m(self, key, axis)\u001b[0m\n\u001b[0;32m   1587\u001b[0m     \u001b[39mreturn\u001b[39;00m \u001b[39mself\u001b[39m\u001b[39m.\u001b[39mobj\u001b[39m.\u001b[39m_take_with_is_copy(key, axis\u001b[39m=\u001b[39maxis)\n\u001b[0;32m   1588\u001b[0m \u001b[39mexcept\u001b[39;00m \u001b[39mIndexError\u001b[39;00m \u001b[39mas\u001b[39;00m err:\n\u001b[0;32m   1589\u001b[0m     \u001b[39m# re-raise with different error message\u001b[39;00m\n\u001b[1;32m-> 1590\u001b[0m     \u001b[39mraise\u001b[39;00m \u001b[39mIndexError\u001b[39;00m(\u001b[39m\"\u001b[39m\u001b[39mpositional indexers are out-of-bounds\u001b[39m\u001b[39m\"\u001b[39m) \u001b[39mfrom\u001b[39;00m \u001b[39merr\u001b[39;00m\n",
      "\u001b[1;31mIndexError\u001b[0m: positional indexers are out-of-bounds"
     ]
    }
   ],
   "source": [
    "get_plot(df_test, dict_routes)"
   ]
  },
  {
   "cell_type": "code",
   "execution_count": 58,
   "metadata": {},
   "outputs": [
    {
     "ename": "IndexError",
     "evalue": "positional indexers are out-of-bounds",
     "output_type": "error",
     "traceback": [
      "\u001b[1;31m---------------------------------------------------------------------------\u001b[0m",
      "\u001b[1;31mIndexError\u001b[0m                                Traceback (most recent call last)",
      "File \u001b[1;32mc:\\Users\\SESA667490\\venvs\\sustainable-transport\\lib\\site-packages\\pandas\\core\\indexing.py:1587\u001b[0m, in \u001b[0;36m_iLocIndexer._get_list_axis\u001b[1;34m(self, key, axis)\u001b[0m\n\u001b[0;32m   1586\u001b[0m \u001b[39mtry\u001b[39;00m:\n\u001b[1;32m-> 1587\u001b[0m     \u001b[39mreturn\u001b[39;00m \u001b[39mself\u001b[39;49m\u001b[39m.\u001b[39;49mobj\u001b[39m.\u001b[39;49m_take_with_is_copy(key, axis\u001b[39m=\u001b[39;49maxis)\n\u001b[0;32m   1588\u001b[0m \u001b[39mexcept\u001b[39;00m \u001b[39mIndexError\u001b[39;00m \u001b[39mas\u001b[39;00m err:\n\u001b[0;32m   1589\u001b[0m     \u001b[39m# re-raise with different error message\u001b[39;00m\n",
      "File \u001b[1;32mc:\\Users\\SESA667490\\venvs\\sustainable-transport\\lib\\site-packages\\pandas\\core\\generic.py:3902\u001b[0m, in \u001b[0;36mNDFrame._take_with_is_copy\u001b[1;34m(self, indices, axis)\u001b[0m\n\u001b[0;32m   3895\u001b[0m \u001b[39m\u001b[39m\u001b[39m\"\"\"\u001b[39;00m\n\u001b[0;32m   3896\u001b[0m \u001b[39mInternal version of the `take` method that sets the `_is_copy`\u001b[39;00m\n\u001b[0;32m   3897\u001b[0m \u001b[39mattribute to keep track of the parent dataframe (using in indexing\u001b[39;00m\n\u001b[1;32m   (...)\u001b[0m\n\u001b[0;32m   3900\u001b[0m \u001b[39mSee the docstring of `take` for full explanation of the parameters.\u001b[39;00m\n\u001b[0;32m   3901\u001b[0m \u001b[39m\"\"\"\u001b[39;00m\n\u001b[1;32m-> 3902\u001b[0m result \u001b[39m=\u001b[39m \u001b[39mself\u001b[39;49m\u001b[39m.\u001b[39;49m_take(indices\u001b[39m=\u001b[39;49mindices, axis\u001b[39m=\u001b[39;49maxis)\n\u001b[0;32m   3903\u001b[0m \u001b[39m# Maybe set copy if we didn't actually change the index.\u001b[39;00m\n",
      "File \u001b[1;32mc:\\Users\\SESA667490\\venvs\\sustainable-transport\\lib\\site-packages\\pandas\\core\\generic.py:3886\u001b[0m, in \u001b[0;36mNDFrame._take\u001b[1;34m(self, indices, axis, convert_indices)\u001b[0m\n\u001b[0;32m   3884\u001b[0m \u001b[39mself\u001b[39m\u001b[39m.\u001b[39m_consolidate_inplace()\n\u001b[1;32m-> 3886\u001b[0m new_data \u001b[39m=\u001b[39m \u001b[39mself\u001b[39;49m\u001b[39m.\u001b[39;49m_mgr\u001b[39m.\u001b[39;49mtake(\n\u001b[0;32m   3887\u001b[0m     indices,\n\u001b[0;32m   3888\u001b[0m     axis\u001b[39m=\u001b[39;49m\u001b[39mself\u001b[39;49m\u001b[39m.\u001b[39;49m_get_block_manager_axis(axis),\n\u001b[0;32m   3889\u001b[0m     verify\u001b[39m=\u001b[39;49m\u001b[39mTrue\u001b[39;49;00m,\n\u001b[0;32m   3890\u001b[0m     convert_indices\u001b[39m=\u001b[39;49mconvert_indices,\n\u001b[0;32m   3891\u001b[0m )\n\u001b[0;32m   3892\u001b[0m \u001b[39mreturn\u001b[39;00m \u001b[39mself\u001b[39m\u001b[39m.\u001b[39m_constructor(new_data)\u001b[39m.\u001b[39m__finalize__(\u001b[39mself\u001b[39m, method\u001b[39m=\u001b[39m\u001b[39m\"\u001b[39m\u001b[39mtake\u001b[39m\u001b[39m\"\u001b[39m)\n",
      "File \u001b[1;32mc:\\Users\\SESA667490\\venvs\\sustainable-transport\\lib\\site-packages\\pandas\\core\\internals\\managers.py:977\u001b[0m, in \u001b[0;36mBaseBlockManager.take\u001b[1;34m(self, indexer, axis, verify, convert_indices)\u001b[0m\n\u001b[0;32m    976\u001b[0m \u001b[39mif\u001b[39;00m convert_indices:\n\u001b[1;32m--> 977\u001b[0m     indexer \u001b[39m=\u001b[39m maybe_convert_indices(indexer, n, verify\u001b[39m=\u001b[39;49mverify)\n\u001b[0;32m    979\u001b[0m new_labels \u001b[39m=\u001b[39m \u001b[39mself\u001b[39m\u001b[39m.\u001b[39maxes[axis]\u001b[39m.\u001b[39mtake(indexer)\n",
      "File \u001b[1;32mc:\\Users\\SESA667490\\venvs\\sustainable-transport\\lib\\site-packages\\pandas\\core\\indexers\\utils.py:286\u001b[0m, in \u001b[0;36mmaybe_convert_indices\u001b[1;34m(indices, n, verify)\u001b[0m\n\u001b[0;32m    285\u001b[0m     \u001b[39mif\u001b[39;00m mask\u001b[39m.\u001b[39many():\n\u001b[1;32m--> 286\u001b[0m         \u001b[39mraise\u001b[39;00m \u001b[39mIndexError\u001b[39;00m(\u001b[39m\"\u001b[39m\u001b[39mindices are out-of-bounds\u001b[39m\u001b[39m\"\u001b[39m)\n\u001b[0;32m    287\u001b[0m \u001b[39mreturn\u001b[39;00m indices\n",
      "\u001b[1;31mIndexError\u001b[0m: indices are out-of-bounds",
      "\nThe above exception was the direct cause of the following exception:\n",
      "\u001b[1;31mIndexError\u001b[0m                                Traceback (most recent call last)",
      "Cell \u001b[1;32mIn[58], line 1\u001b[0m\n\u001b[1;32m----> 1\u001b[0m plot_with_osrm(df_test, dict_routes)\n",
      "Cell \u001b[1;32mIn[40], line 8\u001b[0m, in \u001b[0;36mplot_with_osrm\u001b[1;34m(df_test, dict_nodes)\u001b[0m\n\u001b[0;32m      6\u001b[0m fig \u001b[39m=\u001b[39m go\u001b[39m.\u001b[39mFigure()\n\u001b[0;32m      7\u001b[0m \u001b[39mfor\u001b[39;00m i \u001b[39min\u001b[39;00m dict_nodes\u001b[39m.\u001b[39mkeys():\n\u001b[1;32m----> 8\u001b[0m     list_waypoints \u001b[39m=\u001b[39m get_waypoints_osrm(routes[[\u001b[39m'\u001b[39;49m\u001b[39mLongitude\u001b[39;49m\u001b[39m'\u001b[39;49m,\u001b[39m'\u001b[39;49m\u001b[39mLatitude\u001b[39;49m\u001b[39m'\u001b[39;49m]]\u001b[39m.\u001b[39;49miloc[dict_nodes[i]]\u001b[39m.\u001b[39mvalues\u001b[39m.\u001b[39mtolist())[\u001b[39m'\u001b[39m\u001b[39mgeometry\u001b[39m\u001b[39m'\u001b[39m][\u001b[39m'\u001b[39m\u001b[39mcoordinates\u001b[39m\u001b[39m'\u001b[39m]\n\u001b[0;32m      9\u001b[0m     fig\u001b[39m.\u001b[39madd_trace(go\u001b[39m.\u001b[39mScattermapbox(lat\u001b[39m=\u001b[39m[x[\u001b[39m1\u001b[39m] \u001b[39mfor\u001b[39;00m x \u001b[39min\u001b[39;00m list_waypoints], lon\u001b[39m=\u001b[39m[x[\u001b[39m0\u001b[39m] \u001b[39mfor\u001b[39;00m x \u001b[39min\u001b[39;00m list_waypoints], mode \u001b[39m=\u001b[39m \u001b[39m'\u001b[39m\u001b[39mlines\u001b[39m\u001b[39m'\u001b[39m, name \u001b[39m=\u001b[39m \u001b[39mf\u001b[39m\u001b[39m'\u001b[39m\u001b[39mRoute \u001b[39m\u001b[39m{\u001b[39;00mi\u001b[39m}\u001b[39;00m\u001b[39m'\u001b[39m))\n\u001b[0;32m     10\u001b[0m fig\u001b[39m.\u001b[39madd_trace(go\u001b[39m.\u001b[39mScattermapbox(lat\u001b[39m=\u001b[39mshipper[\u001b[39m'\u001b[39m\u001b[39mLatitude\u001b[39m\u001b[39m'\u001b[39m], lon\u001b[39m=\u001b[39mshipper[\u001b[39m'\u001b[39m\u001b[39mLongitude\u001b[39m\u001b[39m'\u001b[39m], mode \u001b[39m=\u001b[39m \u001b[39m'\u001b[39m\u001b[39mmarkers\u001b[39m\u001b[39m'\u001b[39m, marker \u001b[39m=\u001b[39m {\u001b[39m'\u001b[39m\u001b[39msize\u001b[39m\u001b[39m'\u001b[39m: \u001b[39m12\u001b[39m}, name \u001b[39m=\u001b[39m \u001b[39m'\u001b[39m\u001b[39mDC\u001b[39m\u001b[39m'\u001b[39m))\n",
      "File \u001b[1;32mc:\\Users\\SESA667490\\venvs\\sustainable-transport\\lib\\site-packages\\pandas\\core\\indexing.py:1073\u001b[0m, in \u001b[0;36m_LocationIndexer.__getitem__\u001b[1;34m(self, key)\u001b[0m\n\u001b[0;32m   1070\u001b[0m axis \u001b[39m=\u001b[39m \u001b[39mself\u001b[39m\u001b[39m.\u001b[39maxis \u001b[39mor\u001b[39;00m \u001b[39m0\u001b[39m\n\u001b[0;32m   1072\u001b[0m maybe_callable \u001b[39m=\u001b[39m com\u001b[39m.\u001b[39mapply_if_callable(key, \u001b[39mself\u001b[39m\u001b[39m.\u001b[39mobj)\n\u001b[1;32m-> 1073\u001b[0m \u001b[39mreturn\u001b[39;00m \u001b[39mself\u001b[39;49m\u001b[39m.\u001b[39;49m_getitem_axis(maybe_callable, axis\u001b[39m=\u001b[39;49maxis)\n",
      "File \u001b[1;32mc:\\Users\\SESA667490\\venvs\\sustainable-transport\\lib\\site-packages\\pandas\\core\\indexing.py:1616\u001b[0m, in \u001b[0;36m_iLocIndexer._getitem_axis\u001b[1;34m(self, key, axis)\u001b[0m\n\u001b[0;32m   1614\u001b[0m \u001b[39m# a list of integers\u001b[39;00m\n\u001b[0;32m   1615\u001b[0m \u001b[39melif\u001b[39;00m is_list_like_indexer(key):\n\u001b[1;32m-> 1616\u001b[0m     \u001b[39mreturn\u001b[39;00m \u001b[39mself\u001b[39;49m\u001b[39m.\u001b[39;49m_get_list_axis(key, axis\u001b[39m=\u001b[39;49maxis)\n\u001b[0;32m   1618\u001b[0m \u001b[39m# a single integer\u001b[39;00m\n\u001b[0;32m   1619\u001b[0m \u001b[39melse\u001b[39;00m:\n\u001b[0;32m   1620\u001b[0m     key \u001b[39m=\u001b[39m item_from_zerodim(key)\n",
      "File \u001b[1;32mc:\\Users\\SESA667490\\venvs\\sustainable-transport\\lib\\site-packages\\pandas\\core\\indexing.py:1590\u001b[0m, in \u001b[0;36m_iLocIndexer._get_list_axis\u001b[1;34m(self, key, axis)\u001b[0m\n\u001b[0;32m   1587\u001b[0m     \u001b[39mreturn\u001b[39;00m \u001b[39mself\u001b[39m\u001b[39m.\u001b[39mobj\u001b[39m.\u001b[39m_take_with_is_copy(key, axis\u001b[39m=\u001b[39maxis)\n\u001b[0;32m   1588\u001b[0m \u001b[39mexcept\u001b[39;00m \u001b[39mIndexError\u001b[39;00m \u001b[39mas\u001b[39;00m err:\n\u001b[0;32m   1589\u001b[0m     \u001b[39m# re-raise with different error message\u001b[39;00m\n\u001b[1;32m-> 1590\u001b[0m     \u001b[39mraise\u001b[39;00m \u001b[39mIndexError\u001b[39;00m(\u001b[39m\"\u001b[39m\u001b[39mpositional indexers are out-of-bounds\u001b[39m\u001b[39m\"\u001b[39m) \u001b[39mfrom\u001b[39;00m \u001b[39merr\u001b[39;00m\n",
      "\u001b[1;31mIndexError\u001b[0m: positional indexers are out-of-bounds"
     ]
    }
   ],
   "source": [
    "plot_with_osrm(df_test, dict_routes)"
   ]
  },
  {
   "cell_type": "markdown",
   "metadata": {},
   "source": [
    "## Capacitated Vehicle Routing with Time Windows"
   ]
  },
  {
   "cell_type": "code",
   "execution_count": 50,
   "metadata": {},
   "outputs": [],
   "source": [
    "from __future__ import print_function\n",
    "from ortools.constraint_solver import routing_enums_pb2\n",
    "from ortools.constraint_solver import pywrapcp"
   ]
  },
  {
   "cell_type": "code",
   "execution_count": 51,
   "metadata": {},
   "outputs": [],
   "source": [
    "time_matrix = [\n",
    "                [0, 6, 9, 8, 7, 3, 6, 2, 3, 2, 6, 6, 4, 4, 5, 9, 7],\n",
    "                [6, 0, 8, 3, 2, 6, 8, 4, 8, 8, 13, 7, 5, 8, 12, 10, 14],\n",
    "                [9, 8, 0, 11, 10, 6, 3, 9, 5, 8, 4, 15, 14, 13, 9, 18, 9],\n",
    "                [8, 3, 11, 0, 1, 7, 10, 6, 10, 10, 14, 6, 7, 9, 14, 6, 16],\n",
    "                [7, 2, 10, 1, 0, 6, 9, 4, 8, 9, 13, 4, 6, 8, 12, 8, 14],\n",
    "                [3, 6, 6, 7, 6, 0, 2, 3, 2, 2, 7, 9, 7, 7, 6, 12, 8],\n",
    "                [6, 8, 3, 10, 9, 2, 0, 6, 2, 5, 4, 12, 10, 10, 6, 15, 5],\n",
    "                [2, 4, 9, 6, 4, 3, 6, 0, 4, 4, 8, 5, 4, 3, 7, 8, 10],\n",
    "                [3, 8, 5, 10, 8, 2, 2, 4, 0, 3, 4, 9, 8, 7, 3, 13, 6],\n",
    "                [2, 8, 8, 10, 9, 2, 5, 4, 3, 0, 4, 6, 5, 4, 3, 9, 5],\n",
    "                [6, 13, 4, 14, 13, 7, 4, 8, 4, 4, 0, 10, 9, 8, 4, 13, 4],\n",
    "                [6, 7, 15, 6, 4, 9, 12, 5, 9, 6, 10, 0, 1, 3, 7, 3, 10],\n",
    "                [4, 5, 14, 7, 6, 7, 10, 4, 8, 5, 9, 1, 0, 2, 6, 4, 8],\n",
    "                [4, 8, 13, 9, 8, 7, 10, 3, 7, 4, 8, 3, 2, 0, 4, 5, 6],\n",
    "                [5, 12, 9, 14, 12, 6, 6, 7, 3, 3, 4, 7, 6, 4, 0, 9, 2],\n",
    "                [9, 10, 18, 6, 8, 12, 15, 8, 13, 9, 13, 3, 4, 5, 9, 0, 9],\n",
    "                [7, 14, 9, 16, 14, 8, 5, 10, 6, 5, 4, 10, 8, 6, 2, 9, 0],\n",
    "              ]\n",
    "\n",
    "time_windows = [\n",
    "                (0, 60),  # depot\n",
    "                (7, 30),  # 1\n",
    "                (10, 40),  # 2\n",
    "                (16, 50),  # 3\n",
    "                (10, 30),  # 4\n",
    "                (0, 40),  # 5\n",
    "                (5, 60),  # 6\n",
    "                (0, 50),  # 7\n",
    "                (5, 50),  # 8\n",
    "                (0, 30),  # 9\n",
    "                (10, 40),  # 10\n",
    "                (10, 15),  # 11\n",
    "                (0, 5),  # 12\n",
    "                (5, 10),  # 13\n",
    "                (7, 8),  # 14\n",
    "                (10, 15),  # 15\n",
    "                (11, 15),  # 16\n",
    "              ]\n",
    "\n",
    "demands = [0, 1, 1, 2, 4, 2, 4, 8, 3, 1, 2, 1, 2, 4, 4, 5, 5]\n",
    "\n",
    "num_vehicles = 4\n",
    "vehicle_capacities = [15, 15, 15, 15]\n",
    "\n",
    "depot_index = 0\n",
    "\n",
    "time_limit_seconds = 10 # time limit for calculation"
   ]
  },
  {
   "cell_type": "code",
   "execution_count": 52,
   "metadata": {},
   "outputs": [],
   "source": [
    "def create_data_model(time_matrix, time_windows, num_vehicles, demands, vehicle_capacities, depot_index):\n",
    "    \"\"\"Stores the data for the problem.\"\"\"\n",
    "    data = {}\n",
    "    data['time_matrix'] = time_matrix\n",
    "    data['time_windows'] = time_windows\n",
    "    data['num_vehicles'] = num_vehicles\n",
    "    data['demands'] = demands\n",
    "    data['vehicle_capacities'] = vehicle_capacities\n",
    "    data['depot'] = depot_index\n",
    "    return data"
   ]
  },
  {
   "cell_type": "code",
   "execution_count": 53,
   "metadata": {},
   "outputs": [],
   "source": [
    "\"\"\"Capacitated Vehicles Routing Problem (CVRP) with Time Windows.\"\"\"\n",
    "\n",
    "def print_solution(data, manager, routing, solution):\n",
    "    \"\"\"Prints solution on console.\"\"\"\n",
    "    total_distance = 0\n",
    "    total_load = 0\n",
    "    time_dimension = routing.GetDimensionOrDie('Time')\n",
    "    total_time = 0\n",
    "    \n",
    "    for vehicle_id in range(data['num_vehicles']):\n",
    "        index = routing.Start(vehicle_id)\n",
    "        plan_output = 'Route for vehicle {}:\\n'.format(vehicle_id)\n",
    "        route_load = 0\n",
    "        while not routing.IsEnd(index):\n",
    "            node_index = manager.IndexToNode(index)\n",
    "            time_var = time_dimension.CumulVar(index)\n",
    "            route_load += data['demands'][node_index]\n",
    "            plan_output += 'Place {0:>2} Arrive at {2:>2}min Depart at {3:>2}min (Load {1:>2})\\n'.format(manager.IndexToNode(index), route_load, solution.Min(time_var), solution.Max(time_var))\n",
    "            \n",
    "            previous_index = index\n",
    "            index = solution.Value(routing.NextVar(index))\n",
    "            \n",
    "            \n",
    "        time_var = time_dimension.CumulVar(index)\n",
    "        total_time += solution.Min(time_var)\n",
    "        plan_output +=\"Place {0:>2} Arrive at {2:>2}min \\n\\n\".format(manager.IndexToNode(index), route_load, solution.Min(time_var), solution.Max(time_var))\n",
    "        \n",
    "        # route output\n",
    "        plan_output += 'Load of the route: {}\\n'.format(route_load)\n",
    "        plan_output += 'Time of the route: {}min\\n'.format(solution.Min(time_var))\n",
    "        plan_output += \"--------------------\"\n",
    "        \n",
    "        print(plan_output)\n",
    "        total_load += route_load\n",
    "\n",
    "    print('Total load of all routes: {}'.format(total_load))\n",
    "    print('Total time of all routes: {}min'.format(total_time))\n",
    "\n",
    "    \n",
    "def main():\n",
    "    \"\"\"Solve the VRP with time windows.\"\"\"\n",
    "    # Instantiate the data problem.\n",
    "    data = create_data_model(time_matrix, time_windows, num_vehicles, demands, vehicle_capacities, depot_index)\n",
    "\n",
    "    # Create the routing index manager.\n",
    "    manager = pywrapcp.RoutingIndexManager(len(data['time_matrix']),\n",
    "                                           data['num_vehicles'], data['depot'])\n",
    "\n",
    "    # Create Routing Model.\n",
    "    routing = pywrapcp.RoutingModel(manager)\n",
    "\n",
    "\n",
    "    # Create and register a transit callback.\n",
    "    def time_callback(from_index, to_index):\n",
    "        \"\"\"Returns the travel time between the two nodes.\"\"\"\n",
    "        # Convert from routing variable Index to time matrix NodeIndex.\n",
    "        from_node = manager.IndexToNode(from_index)\n",
    "        to_node = manager.IndexToNode(to_index)\n",
    "        return data['time_matrix'][from_node][to_node]\n",
    "\n",
    "    transit_callback_index = routing.RegisterTransitCallback(time_callback)\n",
    "\n",
    "    # Define cost of each arc.\n",
    "    routing.SetArcCostEvaluatorOfAllVehicles(transit_callback_index)\n",
    "    \n",
    "    # Add Capacity constraint.\n",
    "    def demand_callback(from_index):\n",
    "        \"\"\"Returns the demand of the node.\"\"\"\n",
    "        # Convert from routing variable Index to demands NodeIndex.\n",
    "        from_node = manager.IndexToNode(from_index)\n",
    "        return data['demands'][from_node]\n",
    "\n",
    "    demand_callback_index = routing.RegisterUnaryTransitCallback(\n",
    "        demand_callback)\n",
    "    routing.AddDimensionWithVehicleCapacity(\n",
    "        demand_callback_index,\n",
    "        0,  # null capacity slack\n",
    "        data['vehicle_capacities'],  # vehicle maximum capacities\n",
    "        True,  # start cumul to zero\n",
    "        'Capacity')\n",
    "    \n",
    "    # Add Time Windows constraint.\n",
    "    time = 'Time'\n",
    "    routing.AddDimension(\n",
    "        transit_callback_index,\n",
    "        30,  # allow waiting time\n",
    "        30,  # maximum time per vehicle\n",
    "        False,  # Don't force start cumul to zero.\n",
    "        time)\n",
    "    time_dimension = routing.GetDimensionOrDie(time)\n",
    "    \n",
    "    # Add time window constraints for each location except depot.\n",
    "    for location_idx, time_window in enumerate(data['time_windows']):\n",
    "        if location_idx == 0:\n",
    "            continue\n",
    "        index = manager.NodeToIndex(location_idx)\n",
    "        time_dimension.CumulVar(index).SetRange(time_window[0], time_window[1])\n",
    "\n",
    "    # Add time window constraints for each vehicle start node.\n",
    "    for vehicle_id in range(data['num_vehicles']):\n",
    "        index = routing.Start(vehicle_id)\n",
    "        time_dimension.CumulVar(index).SetRange(data['time_windows'][0][0],\n",
    "                                                data['time_windows'][0][1])\n",
    "\n",
    "    # Instantiate route start and end times to produce feasible times.\n",
    "    for i in range(data['num_vehicles']):\n",
    "        routing.AddVariableMinimizedByFinalizer(\n",
    "            time_dimension.CumulVar(routing.Start(i)))\n",
    "        routing.AddVariableMinimizedByFinalizer(\n",
    "            time_dimension.CumulVar(routing.End(i)))\n",
    "\n",
    "    # Setting first solution heuristic.\n",
    "    search_parameters = pywrapcp.DefaultRoutingSearchParameters()\n",
    "    search_parameters.first_solution_strategy = (\n",
    "        routing_enums_pb2.FirstSolutionStrategy.PATH_CHEAPEST_ARC)\n",
    "    search_parameters.time_limit.seconds = time_limit_seconds\n",
    "    \n",
    "    # Solve the problem.\n",
    "    solution = routing.SolveWithParameters(search_parameters)\n",
    "\n",
    "    # Print solution on console.\n",
    "    if solution:\n",
    "        print_solution(data, manager, routing, solution)\n",
    "    return solution"
   ]
  },
  {
   "cell_type": "code",
   "execution_count": 5,
   "metadata": {},
   "outputs": [
    {
     "name": "stdout",
     "output_type": "stream",
     "text": [
      "Route for vehicle 0:\n",
      "Place  0 Arrive at  0min Depart at  0min (Load  0)\n",
      "Place  9 Arrive at  2min Depart at  5min (Load  1)\n",
      "Place 14 Arrive at  7min Depart at  8min (Load  5)\n",
      "Place 16 Arrive at 11min Depart at 11min (Load 10)\n",
      "Place  0 Arrive at 18min \n",
      "\n",
      "Load of the route: 10\n",
      "Time of the route: 18min\n",
      "--------------------\n",
      "Route for vehicle 1:\n",
      "Place  0 Arrive at  0min Depart at  0min (Load  0)\n",
      "Place 12 Arrive at  4min Depart at  5min (Load  2)\n",
      "Place 11 Arrive at 10min Depart at 10min (Load  3)\n",
      "Place 15 Arrive at 13min Depart at 13min (Load  8)\n",
      "Place  3 Arrive at 19min Depart at 19min (Load 10)\n",
      "Place  4 Arrive at 20min Depart at 20min (Load 14)\n",
      "Place  1 Arrive at 22min Depart at 22min (Load 15)\n",
      "Place  0 Arrive at 28min \n",
      "\n",
      "Load of the route: 15\n",
      "Time of the route: 28min\n",
      "--------------------\n",
      "Route for vehicle 2:\n",
      "Place  0 Arrive at  0min Depart at  0min (Load  0)\n",
      "Place  7 Arrive at  2min Depart at  2min (Load  8)\n",
      "Place 13 Arrive at  5min Depart at  5min (Load 12)\n",
      "Place  0 Arrive at  9min \n",
      "\n",
      "Load of the route: 12\n",
      "Time of the route: 9min\n",
      "--------------------\n",
      "Route for vehicle 3:\n",
      "Place  0 Arrive at  0min Depart at  0min (Load  0)\n",
      "Place  5 Arrive at  3min Depart at  5min (Load  2)\n",
      "Place  6 Arrive at  5min Depart at  7min (Load  6)\n",
      "Place  2 Arrive at 10min Depart at 10min (Load  7)\n",
      "Place 10 Arrive at 14min Depart at 14min (Load  9)\n",
      "Place  8 Arrive at 18min Depart at 18min (Load 12)\n",
      "Place  0 Arrive at 21min \n",
      "\n",
      "Load of the route: 12\n",
      "Time of the route: 21min\n",
      "--------------------\n",
      "Total load of all routes: 49\n",
      "Total time of all routes: 76min\n"
     ]
    }
   ],
   "source": [
    "solution = main()"
   ]
  }
 ],
 "metadata": {
  "kernelspec": {
   "display_name": "Python 3 (ipykernel)",
   "language": "python",
   "name": "python3"
  },
  "language_info": {
   "codemirror_mode": {
    "name": "ipython",
    "version": 3
   },
   "file_extension": ".py",
   "mimetype": "text/x-python",
   "name": "python",
   "nbconvert_exporter": "python",
   "pygments_lexer": "ipython3",
   "version": "3.10.9"
  }
 },
 "nbformat": 4,
 "nbformat_minor": 2
}
