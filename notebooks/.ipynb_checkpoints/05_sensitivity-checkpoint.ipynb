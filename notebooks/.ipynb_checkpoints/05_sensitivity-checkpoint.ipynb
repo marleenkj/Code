{
 "cells": [
  {
   "cell_type": "code",
   "execution_count": 7,
   "id": "052b90ae",
   "metadata": {},
   "outputs": [],
   "source": [
    "# Distance matrixes"
   ]
  },
  {
   "cell_type": "code",
   "execution_count": 8,
   "id": "39005a85",
   "metadata": {},
   "outputs": [],
   "source": [
    "from datetime import timedelta\n",
    "import pandas as pd\n",
    "import json\n",
    "import requests\n",
    "import numpy as np\n",
    "\n",
    "from loguru import logger\n",
    "\n",
    "from datetime import date, timedelta\n",
    "import plotly.express as px\n",
    "import datetime as dt\n",
    "\n",
    "import math\n",
    "import time\n",
    "\n",
    "import haversine\n",
    "\n",
    "%reload_ext autoreload\n",
    "%autoreload 2\n",
    "\n",
    "import plotly.graph_objects as go\n",
    "\n",
    "import sys\n",
    "sys.path.append('..')\n",
    "from src.co2_modells import co2_modell, co2_modell_direct\n",
    "from src.data_matrix import create_dict_points, create_df_distance_matrix\n",
    "from src.data_for_tool import data_for_tool, create_table_daily_mean, create_table_total, create_lists_days_weeks_months\n",
    "from src.plots import show_clients, show_clients_dc, show_clients_per_dc, show_clients_per_dc_and_both, template, graph_solution_direct, legend_layout\n",
    "from src.data_matrix import get_distance_osrm_dc_clients, create_dict_points\n",
    "from src.create_solution import create_df_analysis_150_20\n",
    "from src.data_for_tool import data_for_tool, create_table_daily_mean, create_table_total, create_lists_days_weeks_months\n",
    "import plotly.io as pio\n",
    "pio.templates.default = template"
   ]
  },
  {
   "cell_type": "code",
   "execution_count": 9,
   "id": "7e83d1e5",
   "metadata": {},
   "outputs": [],
   "source": [
    "from src.evaluation_railroad import df_distances_rail"
   ]
  },
  {
   "cell_type": "code",
   "execution_count": 10,
   "id": "62f964ae",
   "metadata": {},
   "outputs": [
    {
     "ename": "NameError",
     "evalue": "name 'dict_terminals' is not defined",
     "output_type": "error",
     "traceback": [
      "\u001b[1;31m---------------------------------------------------------------------------\u001b[0m",
      "\u001b[1;31mNameError\u001b[0m                                 Traceback (most recent call last)",
      "Cell \u001b[1;32mIn[10], line 2\u001b[0m\n\u001b[0;32m      1\u001b[0m fig \u001b[38;5;241m=\u001b[39m go\u001b[38;5;241m.\u001b[39mFigure()\n\u001b[1;32m----> 2\u001b[0m \u001b[38;5;28;01mfor\u001b[39;00m i \u001b[38;5;129;01min\u001b[39;00m \u001b[43mdict_terminals\u001b[49m\u001b[38;5;241m.\u001b[39mkeys():\n\u001b[0;32m      3\u001b[0m     fig\u001b[38;5;241m.\u001b[39madd_trace(go\u001b[38;5;241m.\u001b[39mScattermapbox(lat\u001b[38;5;241m=\u001b[39m[dict_terminals[i][\u001b[38;5;241m0\u001b[39m]], lon\u001b[38;5;241m=\u001b[39m[dict_terminals[i][\u001b[38;5;241m1\u001b[39m]], name\u001b[38;5;241m=\u001b[39m\u001b[38;5;124mf\u001b[39m\u001b[38;5;124m\"\u001b[39m\u001b[38;5;124mTerminal \u001b[39m\u001b[38;5;132;01m{\u001b[39;00mi[\u001b[38;5;241m-\u001b[39m\u001b[38;5;241m1\u001b[39m]\u001b[38;5;132;01m}\u001b[39;00m\u001b[38;5;124m\"\u001b[39m, mode\u001b[38;5;241m=\u001b[39m\u001b[38;5;124m'\u001b[39m\u001b[38;5;124mmarkers\u001b[39m\u001b[38;5;124m'\u001b[39m, marker\u001b[38;5;241m=\u001b[39m{\u001b[38;5;124m'\u001b[39m\u001b[38;5;124msize\u001b[39m\u001b[38;5;124m'\u001b[39m: \u001b[38;5;241m10\u001b[39m}))\n\u001b[0;32m      4\u001b[0m fig\u001b[38;5;241m.\u001b[39mupdate_layout(\n\u001b[0;32m      5\u001b[0m         legend\u001b[38;5;241m=\u001b[39mlegend_layout,\n\u001b[0;32m      6\u001b[0m         margin\u001b[38;5;241m=\u001b[39m{\u001b[38;5;124m\"\u001b[39m\u001b[38;5;124mr\u001b[39m\u001b[38;5;124m\"\u001b[39m: \u001b[38;5;241m0\u001b[39m, \u001b[38;5;124m\"\u001b[39m\u001b[38;5;124mt\u001b[39m\u001b[38;5;124m\"\u001b[39m: \u001b[38;5;241m40\u001b[39m, \u001b[38;5;124m\"\u001b[39m\u001b[38;5;124ml\u001b[39m\u001b[38;5;124m\"\u001b[39m: \u001b[38;5;241m0\u001b[39m, \u001b[38;5;124m\"\u001b[39m\u001b[38;5;124mb\u001b[39m\u001b[38;5;124m\"\u001b[39m: \u001b[38;5;241m40\u001b[39m})\n",
      "\u001b[1;31mNameError\u001b[0m: name 'dict_terminals' is not defined"
     ]
    }
   ],
   "source": [
    "fig = go.Figure()\n",
    "for i in dict_terminals.keys():\n",
    "    fig.add_trace(go.Scattermapbox(lat=[dict_terminals[i][0]], lon=[dict_terminals[i][1]], name=f\"Terminal {i[-1]}\", mode='markers', marker={'size': 10}))\n",
    "fig.update_layout(\n",
    "        legend=legend_layout,\n",
    "        margin={\"r\": 0, \"t\": 40, \"l\": 0, \"b\": 40})\n",
    "fig.update_layout(mapbox_style=\"open-street-map\")\n",
    "fig.show()"
   ]
  },
  {
   "cell_type": "code",
   "execution_count": null,
   "id": "0fa72a22",
   "metadata": {},
   "outputs": [],
   "source": [
    "fig = go.Figure()\n",
    "fig.add_traces(go.Box(x = df_distances_rail[\"Distance\"]))\n",
    "fig.update_yaxes(visible = False)\n",
    "fig.update_xaxes(title = \"Distance between Terminals [km]\")\n",
    "fig.show()"
   ]
  },
  {
   "cell_type": "markdown",
   "id": "69137306",
   "metadata": {},
   "source": [
    "if duplicate customers exist: dict_points for unique customers; distance matrix for unique customers. Distance matrix to dataframe with customer names as index and columns. Then selecting customers and getting demand per livraison"
   ]
  },
  {
   "cell_type": "code",
   "execution_count": null,
   "id": "a9141b23",
   "metadata": {},
   "outputs": [],
   "source": [
    "# osrm only goes for 100x100 matrix"
   ]
  },
  {
   "cell_type": "markdown",
   "id": "8c004502",
   "metadata": {},
   "source": [
    "https://github.com/remisoulignac/scm_optim_problems/blob/main/SCM290-GreenVehicleRoutingProblem.ipynb\n",
    "\n",
    "> only possibility to model green vrp in or-tools\n",
    "\n",
    "https://stackoverflow.com/questions/74824521/vrp-arc-cost-based-on-current-vehicle-load-co2-emissions"
   ]
  },
  {
   "cell_type": "code",
   "execution_count": 12,
   "id": "d8272dd4",
   "metadata": {},
   "outputs": [],
   "source": [
    "def create_limited_dataset(df, dc, percentage):\n",
    "    df_dc = df[df[\"Shipper name\"]==dc]\n",
    "    weight = df_dc.groupby([\"Receiver name\"])[\"Sender weight (kg)\"].sum().reset_index().sort_values(by = \"Sender weight (kg)\", ascending=False)\n",
    "    weight[\"Sender weight cum\"] = weight[\"Sender weight (kg)\"].cumsum()\n",
    "    high_volume_clients = weight[weight[\"Sender weight cum\"]<df_dc[\"Sender weight (kg)\"].sum()*percentage][\"Receiver name\"]\n",
    "    df_dc = df_dc[df_dc[\"Receiver name\"].isin(high_volume_clients)]\n",
    "    print(len(df_dc[\"Receiver name\"].unique()))\n",
    "    return df_dc"
   ]
  },
  {
   "cell_type": "code",
   "execution_count": 13,
   "id": "274550e4",
   "metadata": {},
   "outputs": [],
   "source": [
    "def df_distance_matrix(df):\n",
    "    dict_points = create_dict_points(df, \"Shipper name\", \"Shipper latitude\", \"Shipper longitude\")       \n",
    "    dict_points.update(create_dict_points(df, \"Receiver name\", \"Receiver latitude\", \"Receiver longitude\"))\n",
    "    dict_points.update(dict_terminals)\n",
    "    distance_matrix = osrm_matrix(list(dict_points.items()))\n",
    "    df_distance_matrix = pd.DataFrame(distance_matrix, columns = list(dict_points.keys()), index = list(dict_points.keys()))\n",
    "    return df_distance_matrix"
   ]
  },
  {
   "cell_type": "code",
   "execution_count": 14,
   "id": "c7a37071",
   "metadata": {},
   "outputs": [],
   "source": [
    "def show_clients(df):\n",
    "    df = df.groupby(['Shipper longitude','Shipper latitude', 'Receiver longitude', 'Receiver latitude','Receiver name', 'Shipper name']).sum().reset_index()\n",
    "    fig = go.Figure()\n",
    "    fig.add_trace(go.Scattermapbox(lat=df['Receiver latitude'].to_list(), lon=df['Receiver longitude'].to_list(), \n",
    "                                   mode = 'markers', marker = {'size': 8}, name = \"Clients\",\n",
    "                                   customdata=df[[\"Receiver name\", \"Sender weight (kg)\"]],\n",
    "                                   hovertemplate='''<br>%{customdata[0]}: %{customdata[1]}kg<br>'''))\n",
    "    fig.update_layout(margin={\"r\": 0, \"t\": 40, \"l\": 0, \"b\": 40}, mapbox={\n",
    "                      'zoom': 4, \"center\": {'lat': df[\"Receiver latitude\"].mean(), 'lon': df[\"Receiver longitude\"].mean()}})\n",
    "    fig.update_layout(mapbox_style=\"open-street-map\", showlegend = False, height = 500)\n",
    "    fig.show()"
   ]
  },
  {
   "cell_type": "code",
   "execution_count": 15,
   "id": "9bec08ac",
   "metadata": {},
   "outputs": [],
   "source": [
    "def remove_nan_distance_matrix(df, df_distance_matrix):\n",
    "    df_distance_matrix_new = df_distance_matrix.dropna(thresh = df_distance_matrix.isna().sum()[0]+1, axis = 1).dropna(thresh = df_distance_matrix.isna().sum()[0]+1, axis =0)\n",
    "    clients_to_remove = list(df_distance_matrix.columns.difference(df_distance_matrix_new.columns))\n",
    "    print(clients_to_remove)\n",
    "    return df_distance_matrix_new, clients_to_remove"
   ]
  },
  {
   "cell_type": "code",
   "execution_count": 16,
   "id": "673b915e",
   "metadata": {},
   "outputs": [],
   "source": [
    "def create_table_daily_mean(df, name):\n",
    "    mean_co2_road = df[\"co2 road\"].sum()/365\n",
    "    mean_co2_rail = df[\"co2 railroad\"].sum()/365\n",
    "#     if name == \"bi-daily planning\":\n",
    "#         mean_co2_road = mean_co2_road/2\n",
    "#         mean_co2_rail = mean_co2_rail/2\n",
    "#     elif name == \"weekly planning\":\n",
    "#         mean_co2_road = mean_co2_road/7\n",
    "#         mean_co2_rail = mean_co2_rail/7\n",
    "    difference_absolute = mean_co2_road - mean_co2_rail\n",
    "    difference_relative = (1-(mean_co2_rail / mean_co2_road))*100\n",
    "    df_new = pd.DataFrame({name: [mean_co2_road, mean_co2_rail, difference_absolute, difference_relative]})\n",
    "    return df_new"
   ]
  },
  {
   "cell_type": "code",
   "execution_count": 17,
   "id": "23cc8912",
   "metadata": {},
   "outputs": [],
   "source": [
    "def create_table_total(df, name):\n",
    "    total_co2_road = df[\"co2 road\"].sum()\n",
    "    print(name, \": \", total_co2_road/365)\n",
    "    total_co2_rail = df[\"co2 railroad\"].sum()\n",
    "    print(name, \": \", total_co2_rail/365)\n",
    "    difference_absolute = total_co2_road - total_co2_rail\n",
    "    difference_relative = (1-(total_co2_rail / total_co2_road))*100\n",
    "    df_new = pd.DataFrame({name: [total_co2_road, total_co2_rail, difference_absolute, difference_relative]})\n",
    "    return df_new"
   ]
  },
  {
   "cell_type": "markdown",
   "id": "d58a102d",
   "metadata": {},
   "source": [
    "# Data Import"
   ]
  },
  {
   "cell_type": "code",
   "execution_count": 18,
   "id": "03fee6c9",
   "metadata": {
    "scrolled": false
   },
   "outputs": [],
   "source": [
    "# Import data\n",
    "project_path = 'results'\n",
    "dataset_name = 'df_limited'\n",
    "df = pd.read_csv(f'{project_path}/{dataset_name}.csv', parse_dates=['Delivery date'])\n",
    "dataset_name = 'df_distance_matrix'\n",
    "df_distance_matrix = pd.read_csv(f'{project_path}/{dataset_name}.csv', index_col = 0)\n",
    "\n",
    "# Import dict terminals\n",
    "f = open(\"../data/external/intermodal_terminals/dict_terminals.json\")\n",
    "dict_terminals = json.load(f)\n",
    "\n",
    "# Import dict points\n",
    "f = open(\"../data/processed/dict_points.json\")\n",
    "dict_points = json.load(f)\n",
    "\n",
    "#df_dc2, df_dc3, df_distance_matrix, dict_terminals, df_terminal = data_for_tool()\n",
    "list_days, list_mondays, list_bi_daily, list_months = create_lists_days_weeks_months(2022)\n",
    "list_mondays.append(dt.date(2023, 1, 2))\n",
    "\n",
    "df_dc1 = df[df[\"Shipper name\"]==\"DC1\"]\n",
    "df_dc2 = df[df[\"Shipper name\"]==\"DC2\"]\n",
    "\n",
    "len(df[\"Receiver name\"].unique())\n",
    "\n",
    "truck_capacity = 13000"
   ]
  },
  {
   "cell_type": "markdown",
   "id": "1ff0b68a",
   "metadata": {},
   "source": [
    "# Sensitvity analysis"
   ]
  },
  {
   "cell_type": "markdown",
   "id": "39eaf115",
   "metadata": {},
   "source": [
    "## Sensi 2: Diesel"
   ]
  },
  {
   "cell_type": "code",
   "execution_count": 50,
   "id": "eb73a55e",
   "metadata": {},
   "outputs": [],
   "source": [
    "def sensitivity_power_system(list_parameters):\n",
    "    list_volumes = [1, 5, 10]\n",
    "    df = pd.DataFrame(index = [\"road\"]+list_parameters, columns = list_volumes)\n",
    "    date_from = list_mondays[1]\n",
    "    date_to = list_mondays[2]\n",
    "    mode = \"combined\"\n",
    "    algorithm = \"base\"\n",
    "    power = \"electric\"\n",
    "    country = \"france\"\n",
    "    for volume in list_volumes:\n",
    "        for power in list_parameters:\n",
    "            try: \n",
    "                dict_results, df_results_details = co2_modell(\n",
    "                    df_dc1, df_distance_matrix, dict_terminals, date_from, date_to, power = power,\n",
    "                    volume = volume, mode = mode, truck_capacity = truck_capacity, nb_trucks = 40)\n",
    "            except: \n",
    "                try: \n",
    "                    dict_results, df_results_details = co2_modell(\n",
    "                    df_dc1, df_distance_matrix, dict_terminals, date_from, date_to, power = power,\n",
    "                    volume = volume, mode = mode, truck_capacity = truck_capacity, nb_trucks = 40)\n",
    "                except: \n",
    "                    pass\n",
    "            df.loc[power][volume] = dict_results[\"co2 railroad\"]\n",
    "        df.loc[\"road\"][volume] = dict_results[\"co2 road\"] \n",
    "    return df"
   ]
  },
  {
   "cell_type": "code",
   "execution_count": 51,
   "id": "0510ae7f",
   "metadata": {},
   "outputs": [
    {
     "name": "stderr",
     "output_type": "stream",
     "text": [
      "C:\\Users\\marle\\OneDrive - tbs-education\\00_Masterarbeit\\Code\\notebooks\\..\\src\\co2_modells.py:29: SettingWithCopyWarning: \n",
      "A value is trying to be set on a copy of a slice from a DataFrame.\n",
      "Try using .loc[row_indexer,col_indexer] = value instead\n",
      "\n",
      "See the caveats in the documentation: https://pandas.pydata.org/pandas-docs/stable/user_guide/indexing.html#returning-a-view-versus-a-copy\n",
      "  df[\"Sender weight (kg)\"] = df[\"Sender weight (kg)\"]*volume\n",
      "\u001b[32m2023-08-10 15:05:03.939\u001b[0m | \u001b[1mINFO    \u001b[0m | \u001b[36msrc.co2_modells\u001b[0m:\u001b[36mpreprocessing_modelling\u001b[0m:\u001b[36m38\u001b[0m - \u001b[1m523.0740000000001\u001b[0m\n",
      "\u001b[32m2023-08-10 15:05:03.961\u001b[0m | \u001b[1mINFO    \u001b[0m | \u001b[36msrc.co2_modells\u001b[0m:\u001b[36mco2_modell\u001b[0m:\u001b[36m71\u001b[0m - \u001b[1m2.977692307692308\u001b[0m\n"
     ]
    },
    {
     "name": "stdout",
     "output_type": "stream",
     "text": [
      "(450, 7)\n"
     ]
    },
    {
     "name": "stderr",
     "output_type": "stream",
     "text": [
      "C:\\Users\\marle\\OneDrive - tbs-education\\00_Masterarbeit\\Code\\notebooks\\..\\src\\create_solution.py:74: FutureWarning: Dropping of nuisance columns in DataFrame reductions (with 'numeric_only=None') is deprecated; in a future version this will raise TypeError.  Select only valid columns before calling the reduction.\n",
      "  distances['Dmin'] = distances.min(axis=1)\n"
     ]
    },
    {
     "name": "stdout",
     "output_type": "stream",
     "text": [
      "(77, 12)\n",
      "(149, 16)\n"
     ]
    },
    {
     "name": "stderr",
     "output_type": "stream",
     "text": [
      "C:\\Users\\marle\\OneDrive - tbs-education\\00_Masterarbeit\\Code\\notebooks\\..\\src\\co2_modells.py:29: SettingWithCopyWarning: \n",
      "A value is trying to be set on a copy of a slice from a DataFrame.\n",
      "Try using .loc[row_indexer,col_indexer] = value instead\n",
      "\n",
      "See the caveats in the documentation: https://pandas.pydata.org/pandas-docs/stable/user_guide/indexing.html#returning-a-view-versus-a-copy\n",
      "  df[\"Sender weight (kg)\"] = df[\"Sender weight (kg)\"]*volume\n",
      "\u001b[32m2023-08-10 15:05:15.173\u001b[0m | \u001b[1mINFO    \u001b[0m | \u001b[36msrc.co2_modells\u001b[0m:\u001b[36mpreprocessing_modelling\u001b[0m:\u001b[36m38\u001b[0m - \u001b[1m523.0740000000001\u001b[0m\n",
      "\u001b[32m2023-08-10 15:05:15.190\u001b[0m | \u001b[1mINFO    \u001b[0m | \u001b[36msrc.co2_modells\u001b[0m:\u001b[36mco2_modell\u001b[0m:\u001b[36m71\u001b[0m - \u001b[1m2.977692307692308\u001b[0m\n"
     ]
    },
    {
     "name": "stdout",
     "output_type": "stream",
     "text": [
      "Total processing time: 6.734375\n",
      "(450, 7)\n"
     ]
    },
    {
     "name": "stderr",
     "output_type": "stream",
     "text": [
      "C:\\Users\\marle\\OneDrive - tbs-education\\00_Masterarbeit\\Code\\notebooks\\..\\src\\create_solution.py:74: FutureWarning: Dropping of nuisance columns in DataFrame reductions (with 'numeric_only=None') is deprecated; in a future version this will raise TypeError.  Select only valid columns before calling the reduction.\n",
      "  distances['Dmin'] = distances.min(axis=1)\n"
     ]
    },
    {
     "name": "stdout",
     "output_type": "stream",
     "text": [
      "(77, 12)\n",
      "(149, 16)\n"
     ]
    },
    {
     "name": "stderr",
     "output_type": "stream",
     "text": [
      "C:\\Users\\marle\\OneDrive - tbs-education\\00_Masterarbeit\\Code\\notebooks\\..\\src\\co2_modells.py:29: SettingWithCopyWarning: \n",
      "A value is trying to be set on a copy of a slice from a DataFrame.\n",
      "Try using .loc[row_indexer,col_indexer] = value instead\n",
      "\n",
      "See the caveats in the documentation: https://pandas.pydata.org/pandas-docs/stable/user_guide/indexing.html#returning-a-view-versus-a-copy\n",
      "  df[\"Sender weight (kg)\"] = df[\"Sender weight (kg)\"]*volume\n",
      "\u001b[32m2023-08-10 15:05:26.400\u001b[0m | \u001b[1mINFO    \u001b[0m | \u001b[36msrc.co2_modells\u001b[0m:\u001b[36mpreprocessing_modelling\u001b[0m:\u001b[36m38\u001b[0m - \u001b[1m2615.37\u001b[0m\n",
      "\u001b[32m2023-08-10 15:05:26.431\u001b[0m | \u001b[1mINFO    \u001b[0m | \u001b[36msrc.co2_modells\u001b[0m:\u001b[36mco2_modell\u001b[0m:\u001b[36m71\u001b[0m - \u001b[1m14.954692307692307\u001b[0m\n"
     ]
    },
    {
     "name": "stdout",
     "output_type": "stream",
     "text": [
      "Total processing time: 6.453125\n",
      "(450, 7)\n"
     ]
    },
    {
     "name": "stderr",
     "output_type": "stream",
     "text": [
      "C:\\Users\\marle\\OneDrive - tbs-education\\00_Masterarbeit\\Code\\notebooks\\..\\src\\create_solution.py:74: FutureWarning: Dropping of nuisance columns in DataFrame reductions (with 'numeric_only=None') is deprecated; in a future version this will raise TypeError.  Select only valid columns before calling the reduction.\n",
      "  distances['Dmin'] = distances.min(axis=1)\n"
     ]
    },
    {
     "name": "stdout",
     "output_type": "stream",
     "text": [
      "(77, 12)\n",
      "(149, 16)\n"
     ]
    },
    {
     "name": "stderr",
     "output_type": "stream",
     "text": [
      "C:\\Users\\marle\\OneDrive - tbs-education\\00_Masterarbeit\\Code\\notebooks\\..\\src\\co2_modells.py:29: SettingWithCopyWarning: \n",
      "A value is trying to be set on a copy of a slice from a DataFrame.\n",
      "Try using .loc[row_indexer,col_indexer] = value instead\n",
      "\n",
      "See the caveats in the documentation: https://pandas.pydata.org/pandas-docs/stable/user_guide/indexing.html#returning-a-view-versus-a-copy\n",
      "  df[\"Sender weight (kg)\"] = df[\"Sender weight (kg)\"]*volume\n",
      "\u001b[32m2023-08-10 15:05:37.615\u001b[0m | \u001b[1mINFO    \u001b[0m | \u001b[36msrc.co2_modells\u001b[0m:\u001b[36mpreprocessing_modelling\u001b[0m:\u001b[36m38\u001b[0m - \u001b[1m2615.37\u001b[0m\n",
      "\u001b[32m2023-08-10 15:05:37.631\u001b[0m | \u001b[1mINFO    \u001b[0m | \u001b[36msrc.co2_modells\u001b[0m:\u001b[36mco2_modell\u001b[0m:\u001b[36m71\u001b[0m - \u001b[1m14.954692307692307\u001b[0m\n"
     ]
    },
    {
     "name": "stdout",
     "output_type": "stream",
     "text": [
      "Total processing time: 7.140625\n",
      "(450, 7)\n"
     ]
    },
    {
     "name": "stderr",
     "output_type": "stream",
     "text": [
      "C:\\Users\\marle\\OneDrive - tbs-education\\00_Masterarbeit\\Code\\notebooks\\..\\src\\create_solution.py:74: FutureWarning: Dropping of nuisance columns in DataFrame reductions (with 'numeric_only=None') is deprecated; in a future version this will raise TypeError.  Select only valid columns before calling the reduction.\n",
      "  distances['Dmin'] = distances.min(axis=1)\n"
     ]
    },
    {
     "name": "stdout",
     "output_type": "stream",
     "text": [
      "(77, 12)\n",
      "(149, 16)\n"
     ]
    },
    {
     "name": "stderr",
     "output_type": "stream",
     "text": [
      "C:\\Users\\marle\\OneDrive - tbs-education\\00_Masterarbeit\\Code\\notebooks\\..\\src\\co2_modells.py:29: SettingWithCopyWarning: \n",
      "A value is trying to be set on a copy of a slice from a DataFrame.\n",
      "Try using .loc[row_indexer,col_indexer] = value instead\n",
      "\n",
      "See the caveats in the documentation: https://pandas.pydata.org/pandas-docs/stable/user_guide/indexing.html#returning-a-view-versus-a-copy\n",
      "  df[\"Sender weight (kg)\"] = df[\"Sender weight (kg)\"]*volume\n",
      "\u001b[32m2023-08-10 15:05:48.875\u001b[0m | \u001b[1mINFO    \u001b[0m | \u001b[36msrc.co2_modells\u001b[0m:\u001b[36mpreprocessing_modelling\u001b[0m:\u001b[36m38\u001b[0m - \u001b[1m5230.74\u001b[0m\n",
      "\u001b[32m2023-08-10 15:05:48.913\u001b[0m | \u001b[1mINFO    \u001b[0m | \u001b[36msrc.co2_modells\u001b[0m:\u001b[36mco2_modell\u001b[0m:\u001b[36m71\u001b[0m - \u001b[1m29.925384615384615\u001b[0m\n"
     ]
    },
    {
     "name": "stdout",
     "output_type": "stream",
     "text": [
      "Total processing time: 6.828125\n",
      "(450, 7)\n"
     ]
    },
    {
     "name": "stderr",
     "output_type": "stream",
     "text": [
      "C:\\Users\\marle\\OneDrive - tbs-education\\00_Masterarbeit\\Code\\notebooks\\..\\src\\create_solution.py:74: FutureWarning: Dropping of nuisance columns in DataFrame reductions (with 'numeric_only=None') is deprecated; in a future version this will raise TypeError.  Select only valid columns before calling the reduction.\n",
      "  distances['Dmin'] = distances.min(axis=1)\n"
     ]
    },
    {
     "name": "stdout",
     "output_type": "stream",
     "text": [
      "(77, 12)\n",
      "(149, 16)\n"
     ]
    },
    {
     "name": "stderr",
     "output_type": "stream",
     "text": [
      "C:\\Users\\marle\\OneDrive - tbs-education\\00_Masterarbeit\\Code\\notebooks\\..\\src\\co2_modells.py:29: SettingWithCopyWarning: \n",
      "A value is trying to be set on a copy of a slice from a DataFrame.\n",
      "Try using .loc[row_indexer,col_indexer] = value instead\n",
      "\n",
      "See the caveats in the documentation: https://pandas.pydata.org/pandas-docs/stable/user_guide/indexing.html#returning-a-view-versus-a-copy\n",
      "  df[\"Sender weight (kg)\"] = df[\"Sender weight (kg)\"]*volume\n",
      "\u001b[32m2023-08-10 15:06:00.144\u001b[0m | \u001b[1mINFO    \u001b[0m | \u001b[36msrc.co2_modells\u001b[0m:\u001b[36mpreprocessing_modelling\u001b[0m:\u001b[36m38\u001b[0m - \u001b[1m5230.74\u001b[0m\n",
      "\u001b[32m2023-08-10 15:06:00.175\u001b[0m | \u001b[1mINFO    \u001b[0m | \u001b[36msrc.co2_modells\u001b[0m:\u001b[36mco2_modell\u001b[0m:\u001b[36m71\u001b[0m - \u001b[1m29.925384615384615\u001b[0m\n"
     ]
    },
    {
     "name": "stdout",
     "output_type": "stream",
     "text": [
      "Total processing time: 5.078125\n",
      "(450, 7)\n"
     ]
    },
    {
     "name": "stderr",
     "output_type": "stream",
     "text": [
      "C:\\Users\\marle\\OneDrive - tbs-education\\00_Masterarbeit\\Code\\notebooks\\..\\src\\create_solution.py:74: FutureWarning: Dropping of nuisance columns in DataFrame reductions (with 'numeric_only=None') is deprecated; in a future version this will raise TypeError.  Select only valid columns before calling the reduction.\n",
      "  distances['Dmin'] = distances.min(axis=1)\n"
     ]
    },
    {
     "name": "stdout",
     "output_type": "stream",
     "text": [
      "(77, 12)\n",
      "(149, 16)\n",
      "Total processing time: 5.3125\n"
     ]
    }
   ],
   "source": [
    "df = sensitivity_power_system([\"electric\", \"diesel\"])"
   ]
  },
  {
   "cell_type": "code",
   "execution_count": 52,
   "id": "1f7e3eac",
   "metadata": {},
   "outputs": [
    {
     "data": {
      "text/html": [
       "<div>\n",
       "<style scoped>\n",
       "    .dataframe tbody tr th:only-of-type {\n",
       "        vertical-align: middle;\n",
       "    }\n",
       "\n",
       "    .dataframe tbody tr th {\n",
       "        vertical-align: top;\n",
       "    }\n",
       "\n",
       "    .dataframe thead th {\n",
       "        text-align: right;\n",
       "    }\n",
       "</style>\n",
       "<table border=\"1\" class=\"dataframe\">\n",
       "  <thead>\n",
       "    <tr style=\"text-align: right;\">\n",
       "      <th></th>\n",
       "      <th>1</th>\n",
       "      <th>5</th>\n",
       "      <th>10</th>\n",
       "    </tr>\n",
       "  </thead>\n",
       "  <tbody>\n",
       "    <tr>\n",
       "      <th>road</th>\n",
       "      <td>13962.175062</td>\n",
       "      <td>24433.042827</td>\n",
       "      <td>39290.512552</td>\n",
       "    </tr>\n",
       "    <tr>\n",
       "      <th>electric</th>\n",
       "      <td>14637.445594</td>\n",
       "      <td>18620.276974</td>\n",
       "      <td>24524.845176</td>\n",
       "    </tr>\n",
       "    <tr>\n",
       "      <th>diesel</th>\n",
       "      <td>17967.387876</td>\n",
       "      <td>22107.560522</td>\n",
       "      <td>28728.205216</td>\n",
       "    </tr>\n",
       "  </tbody>\n",
       "</table>\n",
       "</div>"
      ],
      "text/plain": [
       "                    1             5             10\n",
       "road      13962.175062  24433.042827  39290.512552\n",
       "electric  14637.445594  18620.276974  24524.845176\n",
       "diesel    17967.387876  22107.560522  28728.205216"
      ]
     },
     "execution_count": 52,
     "metadata": {},
     "output_type": "execute_result"
    }
   ],
   "source": [
    "df"
   ]
  },
  {
   "cell_type": "markdown",
   "id": "1850ce7d",
   "metadata": {},
   "source": [
    "## Sensi 3: Electricity mix"
   ]
  },
  {
   "cell_type": "code",
   "execution_count": 55,
   "id": "04aa7f7f",
   "metadata": {},
   "outputs": [],
   "source": [
    "def sensitivity_electricity_mix(list_parameters):\n",
    "    list_volumes = [1, 5, 10]\n",
    "    df = pd.DataFrame(index = [\"road\"]+list_parameters, columns = list_volumes)\n",
    "    date_from = list_mondays[1]\n",
    "    date_to = list_mondays[2]\n",
    "    mode = \"combined\"\n",
    "    algorithm = \"base\"\n",
    "    power = \"electric\"\n",
    "    #country = \"france\"\n",
    "    for volume in list_volumes:\n",
    "        for country in list_parameters:\n",
    "            try: \n",
    "                dict_results, df_results_details = co2_modell(\n",
    "                    df_dc1, df_distance_matrix, dict_terminals, date_from, date_to, power = power, country = country,\n",
    "                    volume = volume, mode = mode, truck_capacity = truck_capacity, nb_trucks = 40)\n",
    "            except: \n",
    "                try: \n",
    "                    dict_results, df_results_details = co2_modell(\n",
    "                    df_dc1, df_distance_matrix, dict_terminals, date_from, date_to, power = power, country = country,\n",
    "                    volume = volume, mode = mode, truck_capacity = truck_capacity, nb_trucks = 40)\n",
    "                except: \n",
    "                    pass\n",
    "            df.loc[country][volume] = dict_results[\"co2 railroad\"]\n",
    "        df.loc[\"road\"][volume] = dict_results[\"co2 road\"] \n",
    "    return df"
   ]
  },
  {
   "cell_type": "code",
   "execution_count": 56,
   "id": "c822808e",
   "metadata": {},
   "outputs": [
    {
     "name": "stderr",
     "output_type": "stream",
     "text": [
      "C:\\Users\\marle\\OneDrive - tbs-education\\00_Masterarbeit\\Code\\notebooks\\..\\src\\co2_modells.py:29: SettingWithCopyWarning: \n",
      "A value is trying to be set on a copy of a slice from a DataFrame.\n",
      "Try using .loc[row_indexer,col_indexer] = value instead\n",
      "\n",
      "See the caveats in the documentation: https://pandas.pydata.org/pandas-docs/stable/user_guide/indexing.html#returning-a-view-versus-a-copy\n",
      "  df[\"Sender weight (kg)\"] = df[\"Sender weight (kg)\"]*volume\n",
      "\u001b[32m2023-08-10 15:06:47.069\u001b[0m | \u001b[1mINFO    \u001b[0m | \u001b[36msrc.co2_modells\u001b[0m:\u001b[36mpreprocessing_modelling\u001b[0m:\u001b[36m38\u001b[0m - \u001b[1m523.0740000000001\u001b[0m\n"
     ]
    },
    {
     "name": "stdout",
     "output_type": "stream",
     "text": [
      "(450, 7)\n"
     ]
    },
    {
     "name": "stderr",
     "output_type": "stream",
     "text": [
      "\u001b[32m2023-08-10 15:06:47.466\u001b[0m | \u001b[1mINFO    \u001b[0m | \u001b[36msrc.co2_modells\u001b[0m:\u001b[36mco2_modell\u001b[0m:\u001b[36m71\u001b[0m - \u001b[1m2.977692307692308\u001b[0m\n",
      "C:\\Users\\marle\\OneDrive - tbs-education\\00_Masterarbeit\\Code\\notebooks\\..\\src\\create_solution.py:74: FutureWarning: Dropping of nuisance columns in DataFrame reductions (with 'numeric_only=None') is deprecated; in a future version this will raise TypeError.  Select only valid columns before calling the reduction.\n",
      "  distances['Dmin'] = distances.min(axis=1)\n"
     ]
    },
    {
     "name": "stdout",
     "output_type": "stream",
     "text": [
      "(77, 12)\n",
      "(149, 16)\n"
     ]
    },
    {
     "name": "stderr",
     "output_type": "stream",
     "text": [
      "C:\\Users\\marle\\OneDrive - tbs-education\\00_Masterarbeit\\Code\\notebooks\\..\\src\\co2_modells.py:29: SettingWithCopyWarning: \n",
      "A value is trying to be set on a copy of a slice from a DataFrame.\n",
      "Try using .loc[row_indexer,col_indexer] = value instead\n",
      "\n",
      "See the caveats in the documentation: https://pandas.pydata.org/pandas-docs/stable/user_guide/indexing.html#returning-a-view-versus-a-copy\n",
      "  df[\"Sender weight (kg)\"] = df[\"Sender weight (kg)\"]*volume\n",
      "\u001b[32m2023-08-10 15:06:58.629\u001b[0m | \u001b[1mINFO    \u001b[0m | \u001b[36msrc.co2_modells\u001b[0m:\u001b[36mpreprocessing_modelling\u001b[0m:\u001b[36m38\u001b[0m - \u001b[1m523.0740000000001\u001b[0m\n",
      "\u001b[32m2023-08-10 15:06:58.629\u001b[0m | \u001b[1mINFO    \u001b[0m | \u001b[36msrc.co2_modells\u001b[0m:\u001b[36mco2_modell\u001b[0m:\u001b[36m71\u001b[0m - \u001b[1m2.977692307692308\u001b[0m\n"
     ]
    },
    {
     "name": "stdout",
     "output_type": "stream",
     "text": [
      "Total processing time: 7.90625\n",
      "(450, 7)\n"
     ]
    },
    {
     "name": "stderr",
     "output_type": "stream",
     "text": [
      "C:\\Users\\marle\\OneDrive - tbs-education\\00_Masterarbeit\\Code\\notebooks\\..\\src\\create_solution.py:74: FutureWarning: Dropping of nuisance columns in DataFrame reductions (with 'numeric_only=None') is deprecated; in a future version this will raise TypeError.  Select only valid columns before calling the reduction.\n",
      "  distances['Dmin'] = distances.min(axis=1)\n"
     ]
    },
    {
     "name": "stdout",
     "output_type": "stream",
     "text": [
      "(77, 12)\n",
      "(149, 16)\n"
     ]
    },
    {
     "name": "stderr",
     "output_type": "stream",
     "text": [
      "C:\\Users\\marle\\OneDrive - tbs-education\\00_Masterarbeit\\Code\\notebooks\\..\\src\\co2_modells.py:29: SettingWithCopyWarning: \n",
      "A value is trying to be set on a copy of a slice from a DataFrame.\n",
      "Try using .loc[row_indexer,col_indexer] = value instead\n",
      "\n",
      "See the caveats in the documentation: https://pandas.pydata.org/pandas-docs/stable/user_guide/indexing.html#returning-a-view-versus-a-copy\n",
      "  df[\"Sender weight (kg)\"] = df[\"Sender weight (kg)\"]*volume\n",
      "\u001b[32m2023-08-10 15:07:09.860\u001b[0m | \u001b[1mINFO    \u001b[0m | \u001b[36msrc.co2_modells\u001b[0m:\u001b[36mpreprocessing_modelling\u001b[0m:\u001b[36m38\u001b[0m - \u001b[1m523.0740000000001\u001b[0m\n",
      "\u001b[32m2023-08-10 15:07:09.877\u001b[0m | \u001b[1mINFO    \u001b[0m | \u001b[36msrc.co2_modells\u001b[0m:\u001b[36mco2_modell\u001b[0m:\u001b[36m71\u001b[0m - \u001b[1m2.977692307692308\u001b[0m\n"
     ]
    },
    {
     "name": "stdout",
     "output_type": "stream",
     "text": [
      "Total processing time: 6.328125\n",
      "(450, 7)\n"
     ]
    },
    {
     "name": "stderr",
     "output_type": "stream",
     "text": [
      "C:\\Users\\marle\\OneDrive - tbs-education\\00_Masterarbeit\\Code\\notebooks\\..\\src\\create_solution.py:74: FutureWarning: Dropping of nuisance columns in DataFrame reductions (with 'numeric_only=None') is deprecated; in a future version this will raise TypeError.  Select only valid columns before calling the reduction.\n",
      "  distances['Dmin'] = distances.min(axis=1)\n"
     ]
    },
    {
     "name": "stdout",
     "output_type": "stream",
     "text": [
      "(77, 12)\n",
      "(149, 16)\n"
     ]
    },
    {
     "name": "stderr",
     "output_type": "stream",
     "text": [
      "C:\\Users\\marle\\OneDrive - tbs-education\\00_Masterarbeit\\Code\\notebooks\\..\\src\\co2_modells.py:29: SettingWithCopyWarning: \n",
      "A value is trying to be set on a copy of a slice from a DataFrame.\n",
      "Try using .loc[row_indexer,col_indexer] = value instead\n",
      "\n",
      "See the caveats in the documentation: https://pandas.pydata.org/pandas-docs/stable/user_guide/indexing.html#returning-a-view-versus-a-copy\n",
      "  df[\"Sender weight (kg)\"] = df[\"Sender weight (kg)\"]*volume\n",
      "\u001b[32m2023-08-10 15:07:21.159\u001b[0m | \u001b[1mINFO    \u001b[0m | \u001b[36msrc.co2_modells\u001b[0m:\u001b[36mpreprocessing_modelling\u001b[0m:\u001b[36m38\u001b[0m - \u001b[1m2615.37\u001b[0m\n",
      "\u001b[32m2023-08-10 15:07:21.194\u001b[0m | \u001b[1mINFO    \u001b[0m | \u001b[36msrc.co2_modells\u001b[0m:\u001b[36mco2_modell\u001b[0m:\u001b[36m71\u001b[0m - \u001b[1m14.954692307692307\u001b[0m\n"
     ]
    },
    {
     "name": "stdout",
     "output_type": "stream",
     "text": [
      "Total processing time: 5.640625\n",
      "(450, 7)\n"
     ]
    },
    {
     "name": "stderr",
     "output_type": "stream",
     "text": [
      "C:\\Users\\marle\\OneDrive - tbs-education\\00_Masterarbeit\\Code\\notebooks\\..\\src\\create_solution.py:74: FutureWarning: Dropping of nuisance columns in DataFrame reductions (with 'numeric_only=None') is deprecated; in a future version this will raise TypeError.  Select only valid columns before calling the reduction.\n",
      "  distances['Dmin'] = distances.min(axis=1)\n"
     ]
    },
    {
     "name": "stdout",
     "output_type": "stream",
     "text": [
      "(77, 12)\n",
      "(149, 16)\n"
     ]
    },
    {
     "name": "stderr",
     "output_type": "stream",
     "text": [
      "C:\\Users\\marle\\OneDrive - tbs-education\\00_Masterarbeit\\Code\\notebooks\\..\\src\\co2_modells.py:29: SettingWithCopyWarning: \n",
      "A value is trying to be set on a copy of a slice from a DataFrame.\n",
      "Try using .loc[row_indexer,col_indexer] = value instead\n",
      "\n",
      "See the caveats in the documentation: https://pandas.pydata.org/pandas-docs/stable/user_guide/indexing.html#returning-a-view-versus-a-copy\n",
      "  df[\"Sender weight (kg)\"] = df[\"Sender weight (kg)\"]*volume\n",
      "\u001b[32m2023-08-10 15:07:32.457\u001b[0m | \u001b[1mINFO    \u001b[0m | \u001b[36msrc.co2_modells\u001b[0m:\u001b[36mpreprocessing_modelling\u001b[0m:\u001b[36m38\u001b[0m - \u001b[1m2615.37\u001b[0m\n",
      "\u001b[32m2023-08-10 15:07:32.464\u001b[0m | \u001b[1mINFO    \u001b[0m | \u001b[36msrc.co2_modells\u001b[0m:\u001b[36mco2_modell\u001b[0m:\u001b[36m71\u001b[0m - \u001b[1m14.954692307692307\u001b[0m\n"
     ]
    },
    {
     "name": "stdout",
     "output_type": "stream",
     "text": [
      "Total processing time: 6.546875\n",
      "(450, 7)\n"
     ]
    },
    {
     "name": "stderr",
     "output_type": "stream",
     "text": [
      "C:\\Users\\marle\\OneDrive - tbs-education\\00_Masterarbeit\\Code\\notebooks\\..\\src\\create_solution.py:74: FutureWarning: Dropping of nuisance columns in DataFrame reductions (with 'numeric_only=None') is deprecated; in a future version this will raise TypeError.  Select only valid columns before calling the reduction.\n",
      "  distances['Dmin'] = distances.min(axis=1)\n"
     ]
    },
    {
     "name": "stdout",
     "output_type": "stream",
     "text": [
      "(77, 12)\n",
      "(149, 16)\n"
     ]
    },
    {
     "name": "stderr",
     "output_type": "stream",
     "text": [
      "C:\\Users\\marle\\OneDrive - tbs-education\\00_Masterarbeit\\Code\\notebooks\\..\\src\\co2_modells.py:29: SettingWithCopyWarning: \n",
      "A value is trying to be set on a copy of a slice from a DataFrame.\n",
      "Try using .loc[row_indexer,col_indexer] = value instead\n",
      "\n",
      "See the caveats in the documentation: https://pandas.pydata.org/pandas-docs/stable/user_guide/indexing.html#returning-a-view-versus-a-copy\n",
      "  df[\"Sender weight (kg)\"] = df[\"Sender weight (kg)\"]*volume\n",
      "\u001b[32m2023-08-10 15:07:43.695\u001b[0m | \u001b[1mINFO    \u001b[0m | \u001b[36msrc.co2_modells\u001b[0m:\u001b[36mpreprocessing_modelling\u001b[0m:\u001b[36m38\u001b[0m - \u001b[1m2615.37\u001b[0m\n",
      "\u001b[32m2023-08-10 15:07:43.711\u001b[0m | \u001b[1mINFO    \u001b[0m | \u001b[36msrc.co2_modells\u001b[0m:\u001b[36mco2_modell\u001b[0m:\u001b[36m71\u001b[0m - \u001b[1m14.954692307692307\u001b[0m\n"
     ]
    },
    {
     "name": "stdout",
     "output_type": "stream",
     "text": [
      "Total processing time: 6.59375\n",
      "(450, 7)\n"
     ]
    },
    {
     "name": "stderr",
     "output_type": "stream",
     "text": [
      "C:\\Users\\marle\\OneDrive - tbs-education\\00_Masterarbeit\\Code\\notebooks\\..\\src\\create_solution.py:74: FutureWarning: Dropping of nuisance columns in DataFrame reductions (with 'numeric_only=None') is deprecated; in a future version this will raise TypeError.  Select only valid columns before calling the reduction.\n",
      "  distances['Dmin'] = distances.min(axis=1)\n"
     ]
    },
    {
     "name": "stdout",
     "output_type": "stream",
     "text": [
      "(77, 12)\n",
      "(149, 16)\n"
     ]
    },
    {
     "name": "stderr",
     "output_type": "stream",
     "text": [
      "C:\\Users\\marle\\OneDrive - tbs-education\\00_Masterarbeit\\Code\\notebooks\\..\\src\\co2_modells.py:29: SettingWithCopyWarning: \n",
      "A value is trying to be set on a copy of a slice from a DataFrame.\n",
      "Try using .loc[row_indexer,col_indexer] = value instead\n",
      "\n",
      "See the caveats in the documentation: https://pandas.pydata.org/pandas-docs/stable/user_guide/indexing.html#returning-a-view-versus-a-copy\n",
      "  df[\"Sender weight (kg)\"] = df[\"Sender weight (kg)\"]*volume\n",
      "\u001b[32m2023-08-10 15:07:54.991\u001b[0m | \u001b[1mINFO    \u001b[0m | \u001b[36msrc.co2_modells\u001b[0m:\u001b[36mpreprocessing_modelling\u001b[0m:\u001b[36m38\u001b[0m - \u001b[1m5230.74\u001b[0m\n",
      "\u001b[32m2023-08-10 15:07:55.023\u001b[0m | \u001b[1mINFO    \u001b[0m | \u001b[36msrc.co2_modells\u001b[0m:\u001b[36mco2_modell\u001b[0m:\u001b[36m71\u001b[0m - \u001b[1m29.925384615384615\u001b[0m\n"
     ]
    },
    {
     "name": "stdout",
     "output_type": "stream",
     "text": [
      "Total processing time: 5.859375\n",
      "(450, 7)\n"
     ]
    },
    {
     "name": "stderr",
     "output_type": "stream",
     "text": [
      "C:\\Users\\marle\\OneDrive - tbs-education\\00_Masterarbeit\\Code\\notebooks\\..\\src\\create_solution.py:74: FutureWarning: Dropping of nuisance columns in DataFrame reductions (with 'numeric_only=None') is deprecated; in a future version this will raise TypeError.  Select only valid columns before calling the reduction.\n",
      "  distances['Dmin'] = distances.min(axis=1)\n"
     ]
    },
    {
     "name": "stdout",
     "output_type": "stream",
     "text": [
      "(77, 12)\n",
      "(149, 16)\n"
     ]
    },
    {
     "name": "stderr",
     "output_type": "stream",
     "text": [
      "C:\\Users\\marle\\OneDrive - tbs-education\\00_Masterarbeit\\Code\\notebooks\\..\\src\\co2_modells.py:29: SettingWithCopyWarning: \n",
      "A value is trying to be set on a copy of a slice from a DataFrame.\n",
      "Try using .loc[row_indexer,col_indexer] = value instead\n",
      "\n",
      "See the caveats in the documentation: https://pandas.pydata.org/pandas-docs/stable/user_guide/indexing.html#returning-a-view-versus-a-copy\n",
      "  df[\"Sender weight (kg)\"] = df[\"Sender weight (kg)\"]*volume\n",
      "\u001b[32m2023-08-10 15:08:06.290\u001b[0m | \u001b[1mINFO    \u001b[0m | \u001b[36msrc.co2_modells\u001b[0m:\u001b[36mpreprocessing_modelling\u001b[0m:\u001b[36m38\u001b[0m - \u001b[1m5230.74\u001b[0m\n",
      "\u001b[32m2023-08-10 15:08:06.321\u001b[0m | \u001b[1mINFO    \u001b[0m | \u001b[36msrc.co2_modells\u001b[0m:\u001b[36mco2_modell\u001b[0m:\u001b[36m71\u001b[0m - \u001b[1m29.925384615384615\u001b[0m\n"
     ]
    },
    {
     "name": "stdout",
     "output_type": "stream",
     "text": [
      "Total processing time: 3.890625\n",
      "(450, 7)\n"
     ]
    },
    {
     "name": "stderr",
     "output_type": "stream",
     "text": [
      "C:\\Users\\marle\\OneDrive - tbs-education\\00_Masterarbeit\\Code\\notebooks\\..\\src\\create_solution.py:74: FutureWarning: Dropping of nuisance columns in DataFrame reductions (with 'numeric_only=None') is deprecated; in a future version this will raise TypeError.  Select only valid columns before calling the reduction.\n",
      "  distances['Dmin'] = distances.min(axis=1)\n"
     ]
    },
    {
     "name": "stdout",
     "output_type": "stream",
     "text": [
      "(77, 12)\n",
      "(149, 16)\n"
     ]
    },
    {
     "name": "stderr",
     "output_type": "stream",
     "text": [
      "C:\\Users\\marle\\OneDrive - tbs-education\\00_Masterarbeit\\Code\\notebooks\\..\\src\\co2_modells.py:29: SettingWithCopyWarning: \n",
      "A value is trying to be set on a copy of a slice from a DataFrame.\n",
      "Try using .loc[row_indexer,col_indexer] = value instead\n",
      "\n",
      "See the caveats in the documentation: https://pandas.pydata.org/pandas-docs/stable/user_guide/indexing.html#returning-a-view-versus-a-copy\n",
      "  df[\"Sender weight (kg)\"] = df[\"Sender weight (kg)\"]*volume\n",
      "\u001b[32m2023-08-10 15:08:17.539\u001b[0m | \u001b[1mINFO    \u001b[0m | \u001b[36msrc.co2_modells\u001b[0m:\u001b[36mpreprocessing_modelling\u001b[0m:\u001b[36m38\u001b[0m - \u001b[1m5230.74\u001b[0m\n",
      "\u001b[32m2023-08-10 15:08:17.555\u001b[0m | \u001b[1mINFO    \u001b[0m | \u001b[36msrc.co2_modells\u001b[0m:\u001b[36mco2_modell\u001b[0m:\u001b[36m71\u001b[0m - \u001b[1m29.925384615384615\u001b[0m\n"
     ]
    },
    {
     "name": "stdout",
     "output_type": "stream",
     "text": [
      "Total processing time: 4.328125\n",
      "(450, 7)\n"
     ]
    },
    {
     "name": "stderr",
     "output_type": "stream",
     "text": [
      "C:\\Users\\marle\\OneDrive - tbs-education\\00_Masterarbeit\\Code\\notebooks\\..\\src\\create_solution.py:74: FutureWarning: Dropping of nuisance columns in DataFrame reductions (with 'numeric_only=None') is deprecated; in a future version this will raise TypeError.  Select only valid columns before calling the reduction.\n",
      "  distances['Dmin'] = distances.min(axis=1)\n"
     ]
    },
    {
     "name": "stdout",
     "output_type": "stream",
     "text": [
      "(77, 12)\n",
      "(149, 16)\n",
      "Total processing time: 5.359375\n"
     ]
    }
   ],
   "source": [
    "df_electricity_mix = sensitivity_electricity_mix([\"france\", \"europe\", \"germany\"])"
   ]
  },
  {
   "cell_type": "code",
   "execution_count": 57,
   "id": "0d235245",
   "metadata": {},
   "outputs": [
    {
     "data": {
      "text/html": [
       "<div>\n",
       "<style scoped>\n",
       "    .dataframe tbody tr th:only-of-type {\n",
       "        vertical-align: middle;\n",
       "    }\n",
       "\n",
       "    .dataframe tbody tr th {\n",
       "        vertical-align: top;\n",
       "    }\n",
       "\n",
       "    .dataframe thead th {\n",
       "        text-align: right;\n",
       "    }\n",
       "</style>\n",
       "<table border=\"1\" class=\"dataframe\">\n",
       "  <thead>\n",
       "    <tr style=\"text-align: right;\">\n",
       "      <th></th>\n",
       "      <th>1</th>\n",
       "      <th>5</th>\n",
       "      <th>10</th>\n",
       "    </tr>\n",
       "  </thead>\n",
       "  <tbody>\n",
       "    <tr>\n",
       "      <th>road</th>\n",
       "      <td>14148.658037</td>\n",
       "      <td>24433.042827</td>\n",
       "      <td>38428.130215</td>\n",
       "    </tr>\n",
       "    <tr>\n",
       "      <th>france</th>\n",
       "      <td>14637.445594</td>\n",
       "      <td>18476.908963</td>\n",
       "      <td>24524.845176</td>\n",
       "    </tr>\n",
       "    <tr>\n",
       "      <th>europe</th>\n",
       "      <td>21465.358249</td>\n",
       "      <td>25858.349236</td>\n",
       "      <td>32403.92982</td>\n",
       "    </tr>\n",
       "    <tr>\n",
       "      <th>germany</th>\n",
       "      <td>23314.060579</td>\n",
       "      <td>27573.402193</td>\n",
       "      <td>34528.156869</td>\n",
       "    </tr>\n",
       "  </tbody>\n",
       "</table>\n",
       "</div>"
      ],
      "text/plain": [
       "                   1             5             10\n",
       "road     14148.658037  24433.042827  38428.130215\n",
       "france   14637.445594  18476.908963  24524.845176\n",
       "europe   21465.358249  25858.349236   32403.92982\n",
       "germany  23314.060579  27573.402193  34528.156869"
      ]
     },
     "execution_count": 57,
     "metadata": {},
     "output_type": "execute_result"
    }
   ],
   "source": [
    "df_electricity_mix"
   ]
  },
  {
   "cell_type": "code",
   "execution_count": 62,
   "id": "46e4574d",
   "metadata": {},
   "outputs": [],
   "source": []
  },
  {
   "cell_type": "markdown",
   "id": "a96f2334",
   "metadata": {},
   "source": [
    "## Sensi 3: Truck size"
   ]
  },
  {
   "cell_type": "code",
   "execution_count": null,
   "id": "4828c825",
   "metadata": {},
   "outputs": [],
   "source": [
    "# Big truck vs small truck"
   ]
  },
  {
   "cell_type": "code",
   "execution_count": 69,
   "id": "7f3e8a0e",
   "metadata": {
    "scrolled": true
   },
   "outputs": [],
   "source": [
    "def sensitivity_truck_size(list_parameters):\n",
    "    list_volumes = [1, 5, 10]\n",
    "    list_parameters_new = []\n",
    "    for truck_capacity in list_parameters:\n",
    "        for i in [\"road\", \"railroad\"]:\n",
    "            list_parameters_new.append(f\"{i} {str(truck_capacity)}\")\n",
    "    logger.info(list_parameters_new)\n",
    "    df = pd.DataFrame(index = list_parameters_new, columns = list_volumes)\n",
    "    date_from = list_mondays[1]\n",
    "    date_to = list_mondays[2]\n",
    "    mode = \"combined\"\n",
    "    algorithm = \"base\"\n",
    "    power = \"electric\"\n",
    "    country = \"france\"\n",
    "    #truck_capacity = 13000\n",
    "    for volume in list_volumes:\n",
    "        for truck_capacity in list_parameters:\n",
    "            try: \n",
    "                dict_results, df_results_details = co2_modell(\n",
    "                    df_dc1, df_distance_matrix, dict_terminals, date_from, date_to, power = power, country = country,\n",
    "                    volume = volume, mode = mode, truck_capacity = truck_capacity, nb_trucks = 40)\n",
    "            except: \n",
    "                try: \n",
    "                    dict_results, df_results_details = co2_modell(\n",
    "                    df_dc1, df_distance_matrix, dict_terminals, date_from, date_to, power = power, country = country,\n",
    "                    volume = volume, mode = mode, truck_capacity = truck_capacity, nb_trucks = 60)\n",
    "                except: \n",
    "                    pass\n",
    "            df.loc[f\"road {truck_capacity}\"][volume] = dict_results[\"co2 road\"]\n",
    "            df.loc[f\"railroad {truck_capacity}\"][volume] = dict_results[\"co2 railroad\"]\n",
    "    return df"
   ]
  },
  {
   "cell_type": "code",
   "execution_count": 70,
   "id": "e91e45a4",
   "metadata": {},
   "outputs": [
    {
     "name": "stderr",
     "output_type": "stream",
     "text": [
      "\u001b[32m2023-08-10 15:38:51.843\u001b[0m | \u001b[1mINFO    \u001b[0m | \u001b[36m__main__\u001b[0m:\u001b[36msensitivity_truck_size\u001b[0m:\u001b[36m7\u001b[0m - \u001b[1m['road 13000', 'railroad 13000', 'road 25000', 'railroad 25000']\u001b[0m\n",
      "C:\\Users\\marle\\OneDrive - tbs-education\\00_Masterarbeit\\Code\\notebooks\\..\\src\\co2_modells.py:29: SettingWithCopyWarning: \n",
      "A value is trying to be set on a copy of a slice from a DataFrame.\n",
      "Try using .loc[row_indexer,col_indexer] = value instead\n",
      "\n",
      "See the caveats in the documentation: https://pandas.pydata.org/pandas-docs/stable/user_guide/indexing.html#returning-a-view-versus-a-copy\n",
      "  df[\"Sender weight (kg)\"] = df[\"Sender weight (kg)\"]*volume\n",
      "\u001b[32m2023-08-10 15:38:51.850\u001b[0m | \u001b[1mINFO    \u001b[0m | \u001b[36msrc.co2_modells\u001b[0m:\u001b[36mpreprocessing_modelling\u001b[0m:\u001b[36m38\u001b[0m - \u001b[1m523.0740000000001\u001b[0m\n",
      "\u001b[32m2023-08-10 15:38:51.880\u001b[0m | \u001b[1mINFO    \u001b[0m | \u001b[36msrc.co2_modells\u001b[0m:\u001b[36mco2_modell\u001b[0m:\u001b[36m71\u001b[0m - \u001b[1m2.977692307692308\u001b[0m\n"
     ]
    },
    {
     "name": "stdout",
     "output_type": "stream",
     "text": [
      "(450, 7)\n"
     ]
    },
    {
     "name": "stderr",
     "output_type": "stream",
     "text": [
      "C:\\Users\\marle\\OneDrive - tbs-education\\00_Masterarbeit\\Code\\notebooks\\..\\src\\create_solution.py:74: FutureWarning: Dropping of nuisance columns in DataFrame reductions (with 'numeric_only=None') is deprecated; in a future version this will raise TypeError.  Select only valid columns before calling the reduction.\n",
      "  distances['Dmin'] = distances.min(axis=1)\n"
     ]
    },
    {
     "name": "stdout",
     "output_type": "stream",
     "text": [
      "(77, 12)\n",
      "(149, 16)\n"
     ]
    },
    {
     "name": "stderr",
     "output_type": "stream",
     "text": [
      "C:\\Users\\marle\\OneDrive - tbs-education\\00_Masterarbeit\\Code\\notebooks\\..\\src\\co2_modells.py:29: SettingWithCopyWarning: \n",
      "A value is trying to be set on a copy of a slice from a DataFrame.\n",
      "Try using .loc[row_indexer,col_indexer] = value instead\n",
      "\n",
      "See the caveats in the documentation: https://pandas.pydata.org/pandas-docs/stable/user_guide/indexing.html#returning-a-view-versus-a-copy\n",
      "  df[\"Sender weight (kg)\"] = df[\"Sender weight (kg)\"]*volume\n",
      "\u001b[32m2023-08-10 15:39:03.006\u001b[0m | \u001b[1mINFO    \u001b[0m | \u001b[36msrc.co2_modells\u001b[0m:\u001b[36mpreprocessing_modelling\u001b[0m:\u001b[36m38\u001b[0m - \u001b[1m523.0740000000001\u001b[0m\n",
      "\u001b[32m2023-08-10 15:39:03.031\u001b[0m | \u001b[1mINFO    \u001b[0m | \u001b[36msrc.co2_modells\u001b[0m:\u001b[36mco2_modell\u001b[0m:\u001b[36m71\u001b[0m - \u001b[1m1.5484\u001b[0m\n"
     ]
    },
    {
     "name": "stdout",
     "output_type": "stream",
     "text": [
      "Total processing time: 6.796875\n",
      "(450, 7)\n"
     ]
    },
    {
     "name": "stderr",
     "output_type": "stream",
     "text": [
      "C:\\Users\\marle\\OneDrive - tbs-education\\00_Masterarbeit\\Code\\notebooks\\..\\src\\create_solution.py:74: FutureWarning: Dropping of nuisance columns in DataFrame reductions (with 'numeric_only=None') is deprecated; in a future version this will raise TypeError.  Select only valid columns before calling the reduction.\n",
      "  distances['Dmin'] = distances.min(axis=1)\n"
     ]
    },
    {
     "name": "stdout",
     "output_type": "stream",
     "text": [
      "(77, 12)\n",
      "(149, 16)\n"
     ]
    },
    {
     "name": "stderr",
     "output_type": "stream",
     "text": [
      "C:\\Users\\marle\\OneDrive - tbs-education\\00_Masterarbeit\\Code\\notebooks\\..\\src\\co2_modells.py:29: SettingWithCopyWarning: \n",
      "A value is trying to be set on a copy of a slice from a DataFrame.\n",
      "Try using .loc[row_indexer,col_indexer] = value instead\n",
      "\n",
      "See the caveats in the documentation: https://pandas.pydata.org/pandas-docs/stable/user_guide/indexing.html#returning-a-view-versus-a-copy\n",
      "  df[\"Sender weight (kg)\"] = df[\"Sender weight (kg)\"]*volume\n",
      "\u001b[32m2023-08-10 15:39:14.181\u001b[0m | \u001b[1mINFO    \u001b[0m | \u001b[36msrc.co2_modells\u001b[0m:\u001b[36mpreprocessing_modelling\u001b[0m:\u001b[36m38\u001b[0m - \u001b[1m2615.37\u001b[0m\n",
      "\u001b[32m2023-08-10 15:39:14.197\u001b[0m | \u001b[1mINFO    \u001b[0m | \u001b[36msrc.co2_modells\u001b[0m:\u001b[36mco2_modell\u001b[0m:\u001b[36m71\u001b[0m - \u001b[1m14.954692307692307\u001b[0m\n"
     ]
    },
    {
     "name": "stdout",
     "output_type": "stream",
     "text": [
      "Total processing time: 6.390625\n",
      "(450, 7)\n"
     ]
    },
    {
     "name": "stderr",
     "output_type": "stream",
     "text": [
      "C:\\Users\\marle\\OneDrive - tbs-education\\00_Masterarbeit\\Code\\notebooks\\..\\src\\create_solution.py:74: FutureWarning: Dropping of nuisance columns in DataFrame reductions (with 'numeric_only=None') is deprecated; in a future version this will raise TypeError.  Select only valid columns before calling the reduction.\n",
      "  distances['Dmin'] = distances.min(axis=1)\n"
     ]
    },
    {
     "name": "stdout",
     "output_type": "stream",
     "text": [
      "(77, 12)\n",
      "(149, 16)\n"
     ]
    },
    {
     "name": "stderr",
     "output_type": "stream",
     "text": [
      "C:\\Users\\marle\\OneDrive - tbs-education\\00_Masterarbeit\\Code\\notebooks\\..\\src\\co2_modells.py:29: SettingWithCopyWarning: \n",
      "A value is trying to be set on a copy of a slice from a DataFrame.\n",
      "Try using .loc[row_indexer,col_indexer] = value instead\n",
      "\n",
      "See the caveats in the documentation: https://pandas.pydata.org/pandas-docs/stable/user_guide/indexing.html#returning-a-view-versus-a-copy\n",
      "  df[\"Sender weight (kg)\"] = df[\"Sender weight (kg)\"]*volume\n",
      "\u001b[32m2023-08-10 15:39:25.361\u001b[0m | \u001b[1mINFO    \u001b[0m | \u001b[36msrc.co2_modells\u001b[0m:\u001b[36mpreprocessing_modelling\u001b[0m:\u001b[36m38\u001b[0m - \u001b[1m2615.37\u001b[0m\n",
      "\u001b[32m2023-08-10 15:39:25.377\u001b[0m | \u001b[1mINFO    \u001b[0m | \u001b[36msrc.co2_modells\u001b[0m:\u001b[36mco2_modell\u001b[0m:\u001b[36m71\u001b[0m - \u001b[1m7.77644\u001b[0m\n"
     ]
    },
    {
     "name": "stdout",
     "output_type": "stream",
     "text": [
      "Total processing time: 6.3125\n",
      "(450, 7)\n"
     ]
    },
    {
     "name": "stderr",
     "output_type": "stream",
     "text": [
      "C:\\Users\\marle\\OneDrive - tbs-education\\00_Masterarbeit\\Code\\notebooks\\..\\src\\create_solution.py:74: FutureWarning: Dropping of nuisance columns in DataFrame reductions (with 'numeric_only=None') is deprecated; in a future version this will raise TypeError.  Select only valid columns before calling the reduction.\n",
      "  distances['Dmin'] = distances.min(axis=1)\n"
     ]
    },
    {
     "name": "stdout",
     "output_type": "stream",
     "text": [
      "(77, 12)\n",
      "(149, 16)\n"
     ]
    },
    {
     "name": "stderr",
     "output_type": "stream",
     "text": [
      "C:\\Users\\marle\\OneDrive - tbs-education\\00_Masterarbeit\\Code\\notebooks\\..\\src\\co2_modells.py:29: SettingWithCopyWarning: \n",
      "A value is trying to be set on a copy of a slice from a DataFrame.\n",
      "Try using .loc[row_indexer,col_indexer] = value instead\n",
      "\n",
      "See the caveats in the documentation: https://pandas.pydata.org/pandas-docs/stable/user_guide/indexing.html#returning-a-view-versus-a-copy\n",
      "  df[\"Sender weight (kg)\"] = df[\"Sender weight (kg)\"]*volume\n",
      "\u001b[32m2023-08-10 15:39:36.549\u001b[0m | \u001b[1mINFO    \u001b[0m | \u001b[36msrc.co2_modells\u001b[0m:\u001b[36mpreprocessing_modelling\u001b[0m:\u001b[36m38\u001b[0m - \u001b[1m5230.74\u001b[0m\n",
      "\u001b[32m2023-08-10 15:39:36.560\u001b[0m | \u001b[1mINFO    \u001b[0m | \u001b[36msrc.co2_modells\u001b[0m:\u001b[36mco2_modell\u001b[0m:\u001b[36m71\u001b[0m - \u001b[1m29.925384615384615\u001b[0m\n"
     ]
    },
    {
     "name": "stdout",
     "output_type": "stream",
     "text": [
      "Total processing time: 6.484375\n",
      "(450, 7)\n"
     ]
    },
    {
     "name": "stderr",
     "output_type": "stream",
     "text": [
      "C:\\Users\\marle\\OneDrive - tbs-education\\00_Masterarbeit\\Code\\notebooks\\..\\src\\create_solution.py:74: FutureWarning: Dropping of nuisance columns in DataFrame reductions (with 'numeric_only=None') is deprecated; in a future version this will raise TypeError.  Select only valid columns before calling the reduction.\n",
      "  distances['Dmin'] = distances.min(axis=1)\n"
     ]
    },
    {
     "name": "stdout",
     "output_type": "stream",
     "text": [
      "(77, 12)\n",
      "(149, 16)\n"
     ]
    },
    {
     "name": "stderr",
     "output_type": "stream",
     "text": [
      "C:\\Users\\marle\\OneDrive - tbs-education\\00_Masterarbeit\\Code\\notebooks\\..\\src\\co2_modells.py:29: SettingWithCopyWarning: \n",
      "A value is trying to be set on a copy of a slice from a DataFrame.\n",
      "Try using .loc[row_indexer,col_indexer] = value instead\n",
      "\n",
      "See the caveats in the documentation: https://pandas.pydata.org/pandas-docs/stable/user_guide/indexing.html#returning-a-view-versus-a-copy\n",
      "  df[\"Sender weight (kg)\"] = df[\"Sender weight (kg)\"]*volume\n",
      "\u001b[32m2023-08-10 15:39:47.799\u001b[0m | \u001b[1mINFO    \u001b[0m | \u001b[36msrc.co2_modells\u001b[0m:\u001b[36mpreprocessing_modelling\u001b[0m:\u001b[36m38\u001b[0m - \u001b[1m5230.74\u001b[0m\n",
      "\u001b[32m2023-08-10 15:39:47.814\u001b[0m | \u001b[1mINFO    \u001b[0m | \u001b[36msrc.co2_modells\u001b[0m:\u001b[36mco2_modell\u001b[0m:\u001b[36m71\u001b[0m - \u001b[1m15.5612\u001b[0m\n"
     ]
    },
    {
     "name": "stdout",
     "output_type": "stream",
     "text": [
      "Total processing time: 5.734375\n",
      "(450, 7)\n"
     ]
    },
    {
     "name": "stderr",
     "output_type": "stream",
     "text": [
      "C:\\Users\\marle\\OneDrive - tbs-education\\00_Masterarbeit\\Code\\notebooks\\..\\src\\create_solution.py:74: FutureWarning: Dropping of nuisance columns in DataFrame reductions (with 'numeric_only=None') is deprecated; in a future version this will raise TypeError.  Select only valid columns before calling the reduction.\n",
      "  distances['Dmin'] = distances.min(axis=1)\n"
     ]
    },
    {
     "name": "stdout",
     "output_type": "stream",
     "text": [
      "(77, 12)\n",
      "(149, 16)\n",
      "Total processing time: 4.75\n"
     ]
    }
   ],
   "source": [
    "df_truck_size = sensitivity_truck_size([13000,25000])"
   ]
  },
  {
   "cell_type": "code",
   "execution_count": 72,
   "id": "08993ef5",
   "metadata": {},
   "outputs": [
    {
     "data": {
      "text/html": [
       "<div>\n",
       "<style scoped>\n",
       "    .dataframe tbody tr th:only-of-type {\n",
       "        vertical-align: middle;\n",
       "    }\n",
       "\n",
       "    .dataframe tbody tr th {\n",
       "        vertical-align: top;\n",
       "    }\n",
       "\n",
       "    .dataframe thead th {\n",
       "        text-align: right;\n",
       "    }\n",
       "</style>\n",
       "<table border=\"1\" class=\"dataframe\">\n",
       "  <thead>\n",
       "    <tr style=\"text-align: right;\">\n",
       "      <th></th>\n",
       "      <th>1</th>\n",
       "      <th>5</th>\n",
       "      <th>10</th>\n",
       "    </tr>\n",
       "  </thead>\n",
       "  <tbody>\n",
       "    <tr>\n",
       "      <th>road 13000</th>\n",
       "      <td>13951.099043</td>\n",
       "      <td>23667.254757</td>\n",
       "      <td>39092.174473</td>\n",
       "    </tr>\n",
       "    <tr>\n",
       "      <th>railroad 13000</th>\n",
       "      <td>14637.445594</td>\n",
       "      <td>18292.9133</td>\n",
       "      <td>24524.845176</td>\n",
       "    </tr>\n",
       "    <tr>\n",
       "      <th>road 25000</th>\n",
       "      <td>13064.658967</td>\n",
       "      <td>20167.698922</td>\n",
       "      <td>27167.411627</td>\n",
       "    </tr>\n",
       "    <tr>\n",
       "      <th>railroad 25000</th>\n",
       "      <td>14996.36294</td>\n",
       "      <td>17678.974903</td>\n",
       "      <td>20230.704473</td>\n",
       "    </tr>\n",
       "  </tbody>\n",
       "</table>\n",
       "</div>"
      ],
      "text/plain": [
       "                          1             5             10\n",
       "road 13000      13951.099043  23667.254757  39092.174473\n",
       "railroad 13000  14637.445594    18292.9133  24524.845176\n",
       "road 25000      13064.658967  20167.698922  27167.411627\n",
       "railroad 25000   14996.36294  17678.974903  20230.704473"
      ]
     },
     "execution_count": 72,
     "metadata": {},
     "output_type": "execute_result"
    }
   ],
   "source": [
    "df_truck_size"
   ]
  },
  {
   "cell_type": "code",
   "execution_count": 73,
   "id": "248b9c28",
   "metadata": {},
   "outputs": [],
   "source": [
    "import xlsxwriter\n",
    "writer = pd.ExcelWriter(f'results/sensitivity/rail.xlsx', engine='xlsxwriter')    \n",
    "# Write each dataframe to a different worksheet.\n",
    "df.to_excel(writer, sheet_name=f'power system')\n",
    "df_electricity_mix.to_excel(writer, sheet_name=f'electricity mix')\n",
    "df_truck_size.to_excel(writer, sheet_name=f'truck size')\n",
    "writer.close()"
   ]
  },
  {
   "cell_type": "markdown",
   "id": "913ba73b",
   "metadata": {},
   "source": [
    "## Discussion I: Processing time"
   ]
  },
  {
   "cell_type": "code",
   "execution_count": null,
   "id": "dbe5c452",
   "metadata": {},
   "outputs": [],
   "source": []
  },
  {
   "cell_type": "code",
   "execution_count": 5,
   "id": "be4715b5",
   "metadata": {
    "scrolled": true
   },
   "outputs": [],
   "source": [
    "def create_dict_process_time(algorithm = \"base\"):\n",
    "    df_processing_time = df_dc1.groupby([\"Receiver name\", \"Receiver latitude\", \"Receiver longitude\", \"Shipper name\", \"Shipper longitude\", \"Shipper latitude\"]).sum().reset_index()\n",
    "    df_processing_time[\"Sender weight (kg)\"] = 100\n",
    "    df_processing_time[\"Delivery date\"] = list_mondays[2]\n",
    "    clients = [20,40,60,80,100]\n",
    "    process_time_road = []\n",
    "    process_time_railroad = []\n",
    "    for i in clients:\n",
    "        t = time.process_time()\n",
    "        df_results_processing_time = pd.DataFrame(columns = [\"date from\", \"date to\", \"co2 road\", \"distance road\", \"routes road\", \"processing time road\",\"co2 railroad\", \"distance railroad\", \"terminal allocation\", \"routes railroad\", \"processing time railroad\"])\n",
    "        dict_results = co2_modell(df_processing_time.head(i), df_distance_matrix, dict_terminals, list_mondays[1], list_mondays[2], country = \"france\", algorithm = algorithm)[0]\n",
    "        elapsed_time_road = dict_results[\"processing time road\"]\n",
    "        elapsed_time_railroad = dict_results[\"processing time railroad\"]\n",
    "        process_time_road.append(elapsed_time_road)\n",
    "        process_time_railroad.append(elapsed_time_railroad)\n",
    "    \n",
    "    dict_process_time = {}\n",
    "    dict_process_time[0] = process_time_road\n",
    "    iterations = [2,3,4,5,6,8,10]\n",
    "    process_time = []\n",
    "    for nb_terminals in iterations:\n",
    "        dict_terminals_process = {x: dict_terminals[x] for x in [\"T4\", \"T6\", \"T5\", \"T1\", \"T9\", \"T2\", \"T7\", \"T8\"][:nb_terminals]}\n",
    "        process_time = []\n",
    "        clients = [20,40,60,80,100]\n",
    "        for i in clients:\n",
    "            t = time.process_time()\n",
    "            df_results_processing_time = pd.DataFrame(columns = [\"date from\", \"date to\", \"co2 road\", \"distance road\", \"routes road\", \"processing time road\",\"co2 railroad\", \"distance railroad\", \"terminal allocation\", \"routes railroad\", \"processing time railroad\"])\n",
    "            df_results_processing_time = df_results_processing_time.append(co2_modell(df_processing_time.head(i), df_distance_matrix, dict_terminals_process, list_mondays[1], list_mondays[2], country = \"france\", algorithm = algorithm)[0], ignore_index=True)\n",
    "            elapsed_time = time.process_time() - t\n",
    "            print(f\"customers {i}: {elapsed_time}\")\n",
    "            process_time.append(elapsed_time)\n",
    "        dict_process_time[nb_terminals] = process_time\n",
    "    dict_process_time[10] = process_time_railroad\n",
    "    return dict_process_time"
   ]
  },
  {
   "cell_type": "code",
   "execution_count": 38,
   "id": "62263af3",
   "metadata": {},
   "outputs": [
    {
     "name": "stderr",
     "output_type": "stream",
     "text": [
      "C:\\Users\\marle\\AppData\\Local\\Temp\\ipykernel_29704\\614920883.py:2: FutureWarning: The default value of numeric_only in DataFrameGroupBy.sum is deprecated. In a future version, numeric_only will default to False. Either specify numeric_only or select only columns which should be valid for the function.\n",
      "  df_processing_time = df_dc1.groupby([\"Receiver name\", \"Receiver latitude\", \"Receiver longitude\", \"Shipper name\", \"Shipper longitude\", \"Shipper latitude\"]).sum().reset_index()\n",
      "C:\\Users\\marle\\OneDrive - tbs-education\\00_Masterarbeit\\Code\\notebooks\\..\\src\\co2_modells.py:28: FutureWarning: Comparison of Timestamp with datetime.date is deprecated in order to match the standard library behavior. In a future version these will be considered non-comparable. Use 'ts == pd.Timestamp(date)' or 'ts.date() == date' instead.\n",
      "  df = df[(df[\"Delivery date\"]>=pd.to_datetime(date_from))&(df[\"Delivery date\"]<=pd.to_datetime(date_to))]\n",
      "\u001b[32m2023-08-11 17:18:58.549\u001b[0m | \u001b[1mINFO    \u001b[0m | \u001b[36msrc.co2_modells\u001b[0m:\u001b[36mpreprocessing_modelling\u001b[0m:\u001b[36m38\u001b[0m - \u001b[1m100\u001b[0m\n",
      "\u001b[32m2023-08-11 17:18:58.561\u001b[0m | \u001b[1mINFO    \u001b[0m | \u001b[36msrc.co2_modells\u001b[0m:\u001b[36mco2_modell\u001b[0m:\u001b[36m71\u001b[0m - \u001b[1m0.08\u001b[0m\n"
     ]
    },
    {
     "name": "stdout",
     "output_type": "stream",
     "text": [
      "(20, 7)\n"
     ]
    },
    {
     "name": "stderr",
     "output_type": "stream",
     "text": [
      "C:\\Users\\marle\\OneDrive - tbs-education\\00_Masterarbeit\\Code\\notebooks\\..\\src\\create_solution.py:74: FutureWarning: Dropping of nuisance columns in DataFrame reductions (with 'numeric_only=None') is deprecated; in a future version this will raise TypeError.  Select only valid columns before calling the reduction.\n",
      "  distances['Dmin'] = distances.min(axis=1)\n"
     ]
    },
    {
     "name": "stdout",
     "output_type": "stream",
     "text": [
      "(9, 12)\n",
      "(9, 16)\n"
     ]
    },
    {
     "name": "stderr",
     "output_type": "stream",
     "text": [
      "\u001b[32m2023-08-11 17:19:09.694\u001b[0m | \u001b[1mINFO    \u001b[0m | \u001b[36msrc.evaluation_railroad\u001b[0m:\u001b[36mevaluate_solution_drop\u001b[0m:\u001b[36m406\u001b[0m - \u001b[1mDropping T5\u001b[0m\n",
      "\u001b[32m2023-08-11 17:19:12.719\u001b[0m | \u001b[1mINFO    \u001b[0m | \u001b[36msrc.evaluation_railroad\u001b[0m:\u001b[36mevaluate_solution_drop\u001b[0m:\u001b[36m406\u001b[0m - \u001b[1mDropping T9\u001b[0m\n",
      "\u001b[32m2023-08-11 17:19:17.814\u001b[0m | \u001b[1mINFO    \u001b[0m | \u001b[36msrc.evaluation_railroad\u001b[0m:\u001b[36mevaluate_solution_drop\u001b[0m:\u001b[36m406\u001b[0m - \u001b[1mDropping T7\u001b[0m\n",
      "\u001b[32m2023-08-11 17:19:18.830\u001b[0m | \u001b[1mINFO    \u001b[0m | \u001b[36msrc.evaluation_railroad\u001b[0m:\u001b[36mevaluate_solution_drop\u001b[0m:\u001b[36m406\u001b[0m - \u001b[1mDropping T10\u001b[0m\n",
      "\u001b[32m2023-08-11 17:19:21.891\u001b[0m | \u001b[1mINFO    \u001b[0m | \u001b[36msrc.evaluation_railroad\u001b[0m:\u001b[36mevaluate_solution_drop\u001b[0m:\u001b[36m406\u001b[0m - \u001b[1mDropping T6\u001b[0m\n",
      "\u001b[32m2023-08-11 17:19:23.908\u001b[0m | \u001b[1mINFO    \u001b[0m | \u001b[36msrc.evaluation_railroad\u001b[0m:\u001b[36mevaluate_solution_drop\u001b[0m:\u001b[36m406\u001b[0m - \u001b[1mDropping T1\u001b[0m\n",
      "C:\\Users\\marle\\OneDrive - tbs-education\\00_Masterarbeit\\Code\\notebooks\\..\\src\\co2_modells.py:28: FutureWarning: Comparison of Timestamp with datetime.date is deprecated in order to match the standard library behavior. In a future version these will be considered non-comparable. Use 'ts == pd.Timestamp(date)' or 'ts.date() == date' instead.\n",
      "  df = df[(df[\"Delivery date\"]>=pd.to_datetime(date_from))&(df[\"Delivery date\"]<=pd.to_datetime(date_to))]\n",
      "\u001b[32m2023-08-11 17:19:23.908\u001b[0m | \u001b[1mINFO    \u001b[0m | \u001b[36msrc.co2_modells\u001b[0m:\u001b[36mpreprocessing_modelling\u001b[0m:\u001b[36m38\u001b[0m - \u001b[1m100\u001b[0m\n",
      "\u001b[32m2023-08-11 17:19:23.924\u001b[0m | \u001b[1mINFO    \u001b[0m | \u001b[36msrc.co2_modells\u001b[0m:\u001b[36mco2_modell\u001b[0m:\u001b[36m71\u001b[0m - \u001b[1m0.16\u001b[0m\n"
     ]
    },
    {
     "name": "stdout",
     "output_type": "stream",
     "text": [
      "Total processing time: 24.84375\n",
      "(40, 7)\n"
     ]
    },
    {
     "name": "stderr",
     "output_type": "stream",
     "text": [
      "C:\\Users\\marle\\OneDrive - tbs-education\\00_Masterarbeit\\Code\\notebooks\\..\\src\\create_solution.py:74: FutureWarning: Dropping of nuisance columns in DataFrame reductions (with 'numeric_only=None') is deprecated; in a future version this will raise TypeError.  Select only valid columns before calling the reduction.\n",
      "  distances['Dmin'] = distances.min(axis=1)\n"
     ]
    },
    {
     "name": "stdout",
     "output_type": "stream",
     "text": [
      "(15, 12)\n",
      "(18, 16)\n"
     ]
    },
    {
     "name": "stderr",
     "output_type": "stream",
     "text": [
      "\u001b[32m2023-08-11 17:19:35.100\u001b[0m | \u001b[1mINFO    \u001b[0m | \u001b[36msrc.evaluation_railroad\u001b[0m:\u001b[36mevaluate_solution_drop\u001b[0m:\u001b[36m406\u001b[0m - \u001b[1mDropping T5\u001b[0m\n",
      "\u001b[32m2023-08-11 17:19:36.129\u001b[0m | \u001b[1mINFO    \u001b[0m | \u001b[36msrc.evaluation_railroad\u001b[0m:\u001b[36mevaluate_solution_drop\u001b[0m:\u001b[36m406\u001b[0m - \u001b[1mDropping T6\u001b[0m\n",
      "\u001b[32m2023-08-11 17:19:37.182\u001b[0m | \u001b[1mINFO    \u001b[0m | \u001b[36msrc.evaluation_railroad\u001b[0m:\u001b[36mevaluate_solution_drop\u001b[0m:\u001b[36m406\u001b[0m - \u001b[1mDropping T7\u001b[0m\n",
      "\u001b[32m2023-08-11 17:19:38.192\u001b[0m | \u001b[1mINFO    \u001b[0m | \u001b[36msrc.evaluation_railroad\u001b[0m:\u001b[36mevaluate_solution_drop\u001b[0m:\u001b[36m406\u001b[0m - \u001b[1mDropping T9\u001b[0m\n",
      "\u001b[32m2023-08-11 17:19:39.196\u001b[0m | \u001b[1mINFO    \u001b[0m | \u001b[36msrc.evaluation_railroad\u001b[0m:\u001b[36mevaluate_solution_drop\u001b[0m:\u001b[36m406\u001b[0m - \u001b[1mDropping T10\u001b[0m\n",
      "\u001b[32m2023-08-11 17:19:41.218\u001b[0m | \u001b[1mINFO    \u001b[0m | \u001b[36msrc.evaluation_railroad\u001b[0m:\u001b[36mevaluate_solution_drop\u001b[0m:\u001b[36m406\u001b[0m - \u001b[1mDropping T1\u001b[0m\n",
      "C:\\Users\\marle\\OneDrive - tbs-education\\00_Masterarbeit\\Code\\notebooks\\..\\src\\co2_modells.py:28: FutureWarning: Comparison of Timestamp with datetime.date is deprecated in order to match the standard library behavior. In a future version these will be considered non-comparable. Use 'ts == pd.Timestamp(date)' or 'ts.date() == date' instead.\n",
      "  df = df[(df[\"Delivery date\"]>=pd.to_datetime(date_from))&(df[\"Delivery date\"]<=pd.to_datetime(date_to))]\n",
      "\u001b[32m2023-08-11 17:19:42.237\u001b[0m | \u001b[1mINFO    \u001b[0m | \u001b[36msrc.co2_modells\u001b[0m:\u001b[36mpreprocessing_modelling\u001b[0m:\u001b[36m38\u001b[0m - \u001b[1m100\u001b[0m\n",
      "\u001b[32m2023-08-11 17:19:42.253\u001b[0m | \u001b[1mINFO    \u001b[0m | \u001b[36msrc.co2_modells\u001b[0m:\u001b[36mco2_modell\u001b[0m:\u001b[36m71\u001b[0m - \u001b[1m0.24\u001b[0m\n"
     ]
    },
    {
     "name": "stdout",
     "output_type": "stream",
     "text": [
      "Total processing time: 17.796875\n",
      "(60, 7)\n"
     ]
    },
    {
     "name": "stderr",
     "output_type": "stream",
     "text": [
      "C:\\Users\\marle\\OneDrive - tbs-education\\00_Masterarbeit\\Code\\notebooks\\..\\src\\create_solution.py:74: FutureWarning: Dropping of nuisance columns in DataFrame reductions (with 'numeric_only=None') is deprecated; in a future version this will raise TypeError.  Select only valid columns before calling the reduction.\n",
      "  distances['Dmin'] = distances.min(axis=1)\n"
     ]
    },
    {
     "name": "stdout",
     "output_type": "stream",
     "text": [
      "(20, 12)\n",
      "(25, 16)\n"
     ]
    },
    {
     "name": "stderr",
     "output_type": "stream",
     "text": [
      "\u001b[32m2023-08-11 17:19:53.405\u001b[0m | \u001b[1mINFO    \u001b[0m | \u001b[36msrc.evaluation_railroad\u001b[0m:\u001b[36mevaluate_solution_drop\u001b[0m:\u001b[36m406\u001b[0m - \u001b[1mDropping T5\u001b[0m\n",
      "\u001b[32m2023-08-11 17:19:54.415\u001b[0m | \u001b[1mINFO    \u001b[0m | \u001b[36msrc.evaluation_railroad\u001b[0m:\u001b[36mevaluate_solution_drop\u001b[0m:\u001b[36m406\u001b[0m - \u001b[1mDropping T6\u001b[0m\n",
      "\u001b[32m2023-08-11 17:19:55.424\u001b[0m | \u001b[1mINFO    \u001b[0m | \u001b[36msrc.evaluation_railroad\u001b[0m:\u001b[36mevaluate_solution_drop\u001b[0m:\u001b[36m406\u001b[0m - \u001b[1mDropping T7\u001b[0m\n",
      "\u001b[32m2023-08-11 17:19:56.441\u001b[0m | \u001b[1mINFO    \u001b[0m | \u001b[36msrc.evaluation_railroad\u001b[0m:\u001b[36mevaluate_solution_drop\u001b[0m:\u001b[36m406\u001b[0m - \u001b[1mDropping T9\u001b[0m\n",
      "\u001b[32m2023-08-11 17:19:57.449\u001b[0m | \u001b[1mINFO    \u001b[0m | \u001b[36msrc.evaluation_railroad\u001b[0m:\u001b[36mevaluate_solution_drop\u001b[0m:\u001b[36m406\u001b[0m - \u001b[1mDropping T10\u001b[0m\n",
      "\u001b[32m2023-08-11 17:19:59.466\u001b[0m | \u001b[1mINFO    \u001b[0m | \u001b[36msrc.evaluation_railroad\u001b[0m:\u001b[36mevaluate_solution_drop\u001b[0m:\u001b[36m406\u001b[0m - \u001b[1mDropping T1\u001b[0m\n",
      "C:\\Users\\marle\\OneDrive - tbs-education\\00_Masterarbeit\\Code\\notebooks\\..\\src\\co2_modells.py:28: FutureWarning: Comparison of Timestamp with datetime.date is deprecated in order to match the standard library behavior. In a future version these will be considered non-comparable. Use 'ts == pd.Timestamp(date)' or 'ts.date() == date' instead.\n",
      "  df = df[(df[\"Delivery date\"]>=pd.to_datetime(date_from))&(df[\"Delivery date\"]<=pd.to_datetime(date_to))]\n",
      "\u001b[32m2023-08-11 17:20:00.498\u001b[0m | \u001b[1mINFO    \u001b[0m | \u001b[36msrc.co2_modells\u001b[0m:\u001b[36mpreprocessing_modelling\u001b[0m:\u001b[36m38\u001b[0m - \u001b[1m100\u001b[0m\n",
      "\u001b[32m2023-08-11 17:20:00.498\u001b[0m | \u001b[1mINFO    \u001b[0m | \u001b[36msrc.co2_modells\u001b[0m:\u001b[36mco2_modell\u001b[0m:\u001b[36m71\u001b[0m - \u001b[1m0.32\u001b[0m\n"
     ]
    },
    {
     "name": "stdout",
     "output_type": "stream",
     "text": [
      "Total processing time: 17.75\n",
      "(80, 7)\n"
     ]
    },
    {
     "name": "stderr",
     "output_type": "stream",
     "text": [
      "C:\\Users\\marle\\OneDrive - tbs-education\\00_Masterarbeit\\Code\\notebooks\\..\\src\\create_solution.py:74: FutureWarning: Dropping of nuisance columns in DataFrame reductions (with 'numeric_only=None') is deprecated; in a future version this will raise TypeError.  Select only valid columns before calling the reduction.\n",
      "  distances['Dmin'] = distances.min(axis=1)\n"
     ]
    },
    {
     "name": "stdout",
     "output_type": "stream",
     "text": [
      "(25, 12)\n",
      "(32, 16)\n"
     ]
    },
    {
     "name": "stderr",
     "output_type": "stream",
     "text": [
      "\u001b[32m2023-08-11 17:20:13.878\u001b[0m | \u001b[1mINFO    \u001b[0m | \u001b[36msrc.evaluation_railroad\u001b[0m:\u001b[36mevaluate_solution_drop\u001b[0m:\u001b[36m406\u001b[0m - \u001b[1mDropping T2\u001b[0m\n",
      "\u001b[32m2023-08-11 17:20:14.894\u001b[0m | \u001b[1mINFO    \u001b[0m | \u001b[36msrc.evaluation_railroad\u001b[0m:\u001b[36mevaluate_solution_drop\u001b[0m:\u001b[36m406\u001b[0m - \u001b[1mDropping T3\u001b[0m\n",
      "\u001b[32m2023-08-11 17:20:15.899\u001b[0m | \u001b[1mINFO    \u001b[0m | \u001b[36msrc.evaluation_railroad\u001b[0m:\u001b[36mevaluate_solution_drop\u001b[0m:\u001b[36m406\u001b[0m - \u001b[1mDropping T5\u001b[0m\n",
      "\u001b[32m2023-08-11 17:20:18.933\u001b[0m | \u001b[1mINFO    \u001b[0m | \u001b[36msrc.evaluation_railroad\u001b[0m:\u001b[36mevaluate_solution_drop\u001b[0m:\u001b[36m406\u001b[0m - \u001b[1mDropping T9\u001b[0m\n",
      "\u001b[32m2023-08-11 17:20:22.976\u001b[0m | \u001b[1mINFO    \u001b[0m | \u001b[36msrc.evaluation_railroad\u001b[0m:\u001b[36mevaluate_solution_drop\u001b[0m:\u001b[36m406\u001b[0m - \u001b[1mDropping T6\u001b[0m\n",
      "\u001b[32m2023-08-11 17:20:24.000\u001b[0m | \u001b[1mINFO    \u001b[0m | \u001b[36msrc.evaluation_railroad\u001b[0m:\u001b[36mevaluate_solution_drop\u001b[0m:\u001b[36m406\u001b[0m - \u001b[1mDropping T7\u001b[0m\n",
      "\u001b[32m2023-08-11 17:20:25.023\u001b[0m | \u001b[1mINFO    \u001b[0m | \u001b[36msrc.evaluation_railroad\u001b[0m:\u001b[36mevaluate_solution_drop\u001b[0m:\u001b[36m406\u001b[0m - \u001b[1mDropping T10\u001b[0m\n",
      "C:\\Users\\marle\\OneDrive - tbs-education\\00_Masterarbeit\\Code\\notebooks\\..\\src\\co2_modells.py:28: FutureWarning: Comparison of Timestamp with datetime.date is deprecated in order to match the standard library behavior. In a future version these will be considered non-comparable. Use 'ts == pd.Timestamp(date)' or 'ts.date() == date' instead.\n",
      "  df = df[(df[\"Delivery date\"]>=pd.to_datetime(date_from))&(df[\"Delivery date\"]<=pd.to_datetime(date_to))]\n",
      "\u001b[32m2023-08-11 17:20:27.093\u001b[0m | \u001b[1mINFO    \u001b[0m | \u001b[36msrc.co2_modells\u001b[0m:\u001b[36mpreprocessing_modelling\u001b[0m:\u001b[36m38\u001b[0m - \u001b[1m100\u001b[0m\n",
      "\u001b[32m2023-08-11 17:20:27.104\u001b[0m | \u001b[1mINFO    \u001b[0m | \u001b[36msrc.co2_modells\u001b[0m:\u001b[36mco2_modell\u001b[0m:\u001b[36m71\u001b[0m - \u001b[1m0.4\u001b[0m\n"
     ]
    },
    {
     "name": "stdout",
     "output_type": "stream",
     "text": [
      "Total processing time: 25.828125\n",
      "(100, 7)\n"
     ]
    },
    {
     "name": "stderr",
     "output_type": "stream",
     "text": [
      "C:\\Users\\marle\\OneDrive - tbs-education\\00_Masterarbeit\\Code\\notebooks\\..\\src\\create_solution.py:74: FutureWarning: Dropping of nuisance columns in DataFrame reductions (with 'numeric_only=None') is deprecated; in a future version this will raise TypeError.  Select only valid columns before calling the reduction.\n",
      "  distances['Dmin'] = distances.min(axis=1)\n"
     ]
    },
    {
     "name": "stdout",
     "output_type": "stream",
     "text": [
      "(28, 12)\n",
      "(36, 16)\n"
     ]
    },
    {
     "name": "stderr",
     "output_type": "stream",
     "text": [
      "\u001b[32m2023-08-11 17:20:40.403\u001b[0m | \u001b[1mINFO    \u001b[0m | \u001b[36msrc.evaluation_railroad\u001b[0m:\u001b[36mevaluate_solution_drop\u001b[0m:\u001b[36m406\u001b[0m - \u001b[1mDropping T2\u001b[0m\n",
      "\u001b[32m2023-08-11 17:20:41.469\u001b[0m | \u001b[1mINFO    \u001b[0m | \u001b[36msrc.evaluation_railroad\u001b[0m:\u001b[36mevaluate_solution_drop\u001b[0m:\u001b[36m406\u001b[0m - \u001b[1mDropping T3\u001b[0m\n",
      "\u001b[32m2023-08-11 17:20:42.484\u001b[0m | \u001b[1mINFO    \u001b[0m | \u001b[36msrc.evaluation_railroad\u001b[0m:\u001b[36mevaluate_solution_drop\u001b[0m:\u001b[36m406\u001b[0m - \u001b[1mDropping T5\u001b[0m\n",
      "\u001b[32m2023-08-11 17:20:45.524\u001b[0m | \u001b[1mINFO    \u001b[0m | \u001b[36msrc.evaluation_railroad\u001b[0m:\u001b[36mevaluate_solution_drop\u001b[0m:\u001b[36m406\u001b[0m - \u001b[1mDropping T9\u001b[0m\n",
      "C:\\Users\\marle\\OneDrive - tbs-education\\00_Masterarbeit\\Code\\notebooks\\..\\src\\co2_modells.py:28: FutureWarning: Comparison of Timestamp with datetime.date is deprecated in order to match the standard library behavior. In a future version these will be considered non-comparable. Use 'ts == pd.Timestamp(date)' or 'ts.date() == date' instead.\n",
      "  df = df[(df[\"Delivery date\"]>=pd.to_datetime(date_from))&(df[\"Delivery date\"]<=pd.to_datetime(date_to))]\n",
      "\u001b[32m2023-08-11 17:20:51.672\u001b[0m | \u001b[1mINFO    \u001b[0m | \u001b[36msrc.co2_modells\u001b[0m:\u001b[36mpreprocessing_modelling\u001b[0m:\u001b[36m38\u001b[0m - \u001b[1m100\u001b[0m\n",
      "\u001b[32m2023-08-11 17:20:51.679\u001b[0m | \u001b[1mINFO    \u001b[0m | \u001b[36msrc.co2_modells\u001b[0m:\u001b[36mco2_modell\u001b[0m:\u001b[36m71\u001b[0m - \u001b[1m0.08\u001b[0m\n"
     ]
    },
    {
     "name": "stdout",
     "output_type": "stream",
     "text": [
      "Total processing time: 24.078125\n",
      "(20, 7)\n"
     ]
    },
    {
     "name": "stderr",
     "output_type": "stream",
     "text": [
      "C:\\Users\\marle\\OneDrive - tbs-education\\00_Masterarbeit\\Code\\notebooks\\..\\src\\create_solution.py:74: FutureWarning: Dropping of nuisance columns in DataFrame reductions (with 'numeric_only=None') is deprecated; in a future version this will raise TypeError.  Select only valid columns before calling the reduction.\n",
      "  distances['Dmin'] = distances.min(axis=1)\n"
     ]
    },
    {
     "name": "stdout",
     "output_type": "stream",
     "text": [
      "(14, 4)\n",
      "(17, 8)\n"
     ]
    },
    {
     "name": "stderr",
     "output_type": "stream",
     "text": [
      "\u001b[32m2023-08-11 17:20:56.895\u001b[0m | \u001b[1mINFO    \u001b[0m | \u001b[36msrc.evaluation_railroad\u001b[0m:\u001b[36mevaluate_solution_drop\u001b[0m:\u001b[36m406\u001b[0m - \u001b[1mDropping T6\u001b[0m\n",
      "C:\\Users\\marle\\AppData\\Local\\Temp\\ipykernel_29704\\614920883.py:28: FutureWarning: The frame.append method is deprecated and will be removed from pandas in a future version. Use pandas.concat instead.\n",
      "  df_results_processing_time = df_results_processing_time.append(co2_modell(df_processing_time.head(i), df_distance_matrix, dict_terminals_process, list_mondays[1], list_mondays[2], country = \"france\", algorithm = algorithm)[0], ignore_index=True)\n",
      "C:\\Users\\marle\\OneDrive - tbs-education\\00_Masterarbeit\\Code\\notebooks\\..\\src\\co2_modells.py:28: FutureWarning: Comparison of Timestamp with datetime.date is deprecated in order to match the standard library behavior. In a future version these will be considered non-comparable. Use 'ts == pd.Timestamp(date)' or 'ts.date() == date' instead.\n",
      "  df = df[(df[\"Delivery date\"]>=pd.to_datetime(date_from))&(df[\"Delivery date\"]<=pd.to_datetime(date_to))]\n",
      "\u001b[32m2023-08-11 17:20:57.958\u001b[0m | \u001b[1mINFO    \u001b[0m | \u001b[36msrc.co2_modells\u001b[0m:\u001b[36mpreprocessing_modelling\u001b[0m:\u001b[36m38\u001b[0m - \u001b[1m100\u001b[0m\n",
      "\u001b[32m2023-08-11 17:20:57.964\u001b[0m | \u001b[1mINFO    \u001b[0m | \u001b[36msrc.co2_modells\u001b[0m:\u001b[36mco2_modell\u001b[0m:\u001b[36m71\u001b[0m - \u001b[1m0.16\u001b[0m\n"
     ]
    },
    {
     "name": "stdout",
     "output_type": "stream",
     "text": [
      "Total processing time: 5.921875\n",
      "customers 20: 5.9375\n",
      "(40, 7)\n"
     ]
    },
    {
     "name": "stderr",
     "output_type": "stream",
     "text": [
      "C:\\Users\\marle\\OneDrive - tbs-education\\00_Masterarbeit\\Code\\notebooks\\..\\src\\create_solution.py:74: FutureWarning: Dropping of nuisance columns in DataFrame reductions (with 'numeric_only=None') is deprecated; in a future version this will raise TypeError.  Select only valid columns before calling the reduction.\n",
      "  distances['Dmin'] = distances.min(axis=1)\n"
     ]
    },
    {
     "name": "stdout",
     "output_type": "stream",
     "text": [
      "(27, 4)\n",
      "(33, 8)\n"
     ]
    },
    {
     "name": "stderr",
     "output_type": "stream",
     "text": [
      "\u001b[32m2023-08-11 17:21:03.021\u001b[0m | \u001b[1mINFO    \u001b[0m | \u001b[36msrc.evaluation_railroad\u001b[0m:\u001b[36mevaluate_solution_drop\u001b[0m:\u001b[36m406\u001b[0m - \u001b[1mDropping T6\u001b[0m\n",
      "C:\\Users\\marle\\AppData\\Local\\Temp\\ipykernel_29704\\614920883.py:28: FutureWarning: The frame.append method is deprecated and will be removed from pandas in a future version. Use pandas.concat instead.\n",
      "  df_results_processing_time = df_results_processing_time.append(co2_modell(df_processing_time.head(i), df_distance_matrix, dict_terminals_process, list_mondays[1], list_mondays[2], country = \"france\", algorithm = algorithm)[0], ignore_index=True)\n",
      "C:\\Users\\marle\\OneDrive - tbs-education\\00_Masterarbeit\\Code\\notebooks\\..\\src\\co2_modells.py:28: FutureWarning: Comparison of Timestamp with datetime.date is deprecated in order to match the standard library behavior. In a future version these will be considered non-comparable. Use 'ts == pd.Timestamp(date)' or 'ts.date() == date' instead.\n",
      "  df = df[(df[\"Delivery date\"]>=pd.to_datetime(date_from))&(df[\"Delivery date\"]<=pd.to_datetime(date_to))]\n",
      "\u001b[32m2023-08-11 17:21:04.059\u001b[0m | \u001b[1mINFO    \u001b[0m | \u001b[36msrc.co2_modells\u001b[0m:\u001b[36mpreprocessing_modelling\u001b[0m:\u001b[36m38\u001b[0m - \u001b[1m100\u001b[0m\n",
      "\u001b[32m2023-08-11 17:21:04.059\u001b[0m | \u001b[1mINFO    \u001b[0m | \u001b[36msrc.co2_modells\u001b[0m:\u001b[36mco2_modell\u001b[0m:\u001b[36m71\u001b[0m - \u001b[1m0.24\u001b[0m\n"
     ]
    },
    {
     "name": "stdout",
     "output_type": "stream",
     "text": [
      "Total processing time: 5.875\n",
      "customers 40: 5.875\n",
      "(60, 7)\n"
     ]
    },
    {
     "name": "stderr",
     "output_type": "stream",
     "text": [
      "C:\\Users\\marle\\OneDrive - tbs-education\\00_Masterarbeit\\Code\\notebooks\\..\\src\\create_solution.py:74: FutureWarning: Dropping of nuisance columns in DataFrame reductions (with 'numeric_only=None') is deprecated; in a future version this will raise TypeError.  Select only valid columns before calling the reduction.\n",
      "  distances['Dmin'] = distances.min(axis=1)\n"
     ]
    },
    {
     "name": "stdout",
     "output_type": "stream",
     "text": [
      "(36, 4)\n",
      "(46, 8)\n"
     ]
    },
    {
     "name": "stderr",
     "output_type": "stream",
     "text": [
      "\u001b[32m2023-08-11 17:21:09.149\u001b[0m | \u001b[1mINFO    \u001b[0m | \u001b[36msrc.evaluation_railroad\u001b[0m:\u001b[36mevaluate_solution_drop\u001b[0m:\u001b[36m406\u001b[0m - \u001b[1mDropping T6\u001b[0m\n",
      "C:\\Users\\marle\\AppData\\Local\\Temp\\ipykernel_29704\\614920883.py:28: FutureWarning: The frame.append method is deprecated and will be removed from pandas in a future version. Use pandas.concat instead.\n",
      "  df_results_processing_time = df_results_processing_time.append(co2_modell(df_processing_time.head(i), df_distance_matrix, dict_terminals_process, list_mondays[1], list_mondays[2], country = \"france\", algorithm = algorithm)[0], ignore_index=True)\n",
      "C:\\Users\\marle\\OneDrive - tbs-education\\00_Masterarbeit\\Code\\notebooks\\..\\src\\co2_modells.py:28: FutureWarning: Comparison of Timestamp with datetime.date is deprecated in order to match the standard library behavior. In a future version these will be considered non-comparable. Use 'ts == pd.Timestamp(date)' or 'ts.date() == date' instead.\n",
      "  df = df[(df[\"Delivery date\"]>=pd.to_datetime(date_from))&(df[\"Delivery date\"]<=pd.to_datetime(date_to))]\n",
      "\u001b[32m2023-08-11 17:21:10.174\u001b[0m | \u001b[1mINFO    \u001b[0m | \u001b[36msrc.co2_modells\u001b[0m:\u001b[36mpreprocessing_modelling\u001b[0m:\u001b[36m38\u001b[0m - \u001b[1m100\u001b[0m\n",
      "\u001b[32m2023-08-11 17:21:10.174\u001b[0m | \u001b[1mINFO    \u001b[0m | \u001b[36msrc.co2_modells\u001b[0m:\u001b[36mco2_modell\u001b[0m:\u001b[36m71\u001b[0m - \u001b[1m0.32\u001b[0m\n"
     ]
    },
    {
     "name": "stdout",
     "output_type": "stream",
     "text": [
      "Total processing time: 5.9375\n",
      "customers 60: 5.953125\n",
      "(80, 7)\n"
     ]
    },
    {
     "name": "stderr",
     "output_type": "stream",
     "text": [
      "C:\\Users\\marle\\OneDrive - tbs-education\\00_Masterarbeit\\Code\\notebooks\\..\\src\\create_solution.py:74: FutureWarning: Dropping of nuisance columns in DataFrame reductions (with 'numeric_only=None') is deprecated; in a future version this will raise TypeError.  Select only valid columns before calling the reduction.\n",
      "  distances['Dmin'] = distances.min(axis=1)\n"
     ]
    },
    {
     "name": "stdout",
     "output_type": "stream",
     "text": [
      "(46, 4)\n",
      "(63, 8)\n"
     ]
    },
    {
     "name": "stderr",
     "output_type": "stream",
     "text": [
      "C:\\Users\\marle\\AppData\\Local\\Temp\\ipykernel_29704\\614920883.py:28: FutureWarning: The frame.append method is deprecated and will be removed from pandas in a future version. Use pandas.concat instead.\n",
      "  df_results_processing_time = df_results_processing_time.append(co2_modell(df_processing_time.head(i), df_distance_matrix, dict_terminals_process, list_mondays[1], list_mondays[2], country = \"france\", algorithm = algorithm)[0], ignore_index=True)\n",
      "C:\\Users\\marle\\OneDrive - tbs-education\\00_Masterarbeit\\Code\\notebooks\\..\\src\\co2_modells.py:28: FutureWarning: Comparison of Timestamp with datetime.date is deprecated in order to match the standard library behavior. In a future version these will be considered non-comparable. Use 'ts == pd.Timestamp(date)' or 'ts.date() == date' instead.\n",
      "  df = df[(df[\"Delivery date\"]>=pd.to_datetime(date_from))&(df[\"Delivery date\"]<=pd.to_datetime(date_to))]\n",
      "\u001b[32m2023-08-11 17:21:15.385\u001b[0m | \u001b[1mINFO    \u001b[0m | \u001b[36msrc.co2_modells\u001b[0m:\u001b[36mpreprocessing_modelling\u001b[0m:\u001b[36m38\u001b[0m - \u001b[1m100\u001b[0m\n",
      "\u001b[32m2023-08-11 17:21:15.402\u001b[0m | \u001b[1mINFO    \u001b[0m | \u001b[36msrc.co2_modells\u001b[0m:\u001b[36mco2_modell\u001b[0m:\u001b[36m71\u001b[0m - \u001b[1m0.4\u001b[0m\n"
     ]
    },
    {
     "name": "stdout",
     "output_type": "stream",
     "text": [
      "Total processing time: 5.015625\n",
      "customers 80: 5.03125\n",
      "(100, 7)\n"
     ]
    },
    {
     "name": "stderr",
     "output_type": "stream",
     "text": [
      "C:\\Users\\marle\\OneDrive - tbs-education\\00_Masterarbeit\\Code\\notebooks\\..\\src\\create_solution.py:74: FutureWarning: Dropping of nuisance columns in DataFrame reductions (with 'numeric_only=None') is deprecated; in a future version this will raise TypeError.  Select only valid columns before calling the reduction.\n",
      "  distances['Dmin'] = distances.min(axis=1)\n"
     ]
    },
    {
     "name": "stdout",
     "output_type": "stream",
     "text": [
      "(55, 4)\n",
      "(74, 8)\n"
     ]
    },
    {
     "name": "stderr",
     "output_type": "stream",
     "text": [
      "C:\\Users\\marle\\AppData\\Local\\Temp\\ipykernel_29704\\614920883.py:28: FutureWarning: The frame.append method is deprecated and will be removed from pandas in a future version. Use pandas.concat instead.\n",
      "  df_results_processing_time = df_results_processing_time.append(co2_modell(df_processing_time.head(i), df_distance_matrix, dict_terminals_process, list_mondays[1], list_mondays[2], country = \"france\", algorithm = algorithm)[0], ignore_index=True)\n",
      "C:\\Users\\marle\\OneDrive - tbs-education\\00_Masterarbeit\\Code\\notebooks\\..\\src\\co2_modells.py:28: FutureWarning: Comparison of Timestamp with datetime.date is deprecated in order to match the standard library behavior. In a future version these will be considered non-comparable. Use 'ts == pd.Timestamp(date)' or 'ts.date() == date' instead.\n",
      "  df = df[(df[\"Delivery date\"]>=pd.to_datetime(date_from))&(df[\"Delivery date\"]<=pd.to_datetime(date_to))]\n",
      "\u001b[32m2023-08-11 17:21:20.646\u001b[0m | \u001b[1mINFO    \u001b[0m | \u001b[36msrc.co2_modells\u001b[0m:\u001b[36mpreprocessing_modelling\u001b[0m:\u001b[36m38\u001b[0m - \u001b[1m100\u001b[0m\n",
      "\u001b[32m2023-08-11 17:21:20.655\u001b[0m | \u001b[1mINFO    \u001b[0m | \u001b[36msrc.co2_modells\u001b[0m:\u001b[36mco2_modell\u001b[0m:\u001b[36m71\u001b[0m - \u001b[1m0.08\u001b[0m\n"
     ]
    },
    {
     "name": "stdout",
     "output_type": "stream",
     "text": [
      "Total processing time: 5.0\n",
      "customers 100: 5.015625\n",
      "(20, 7)\n"
     ]
    },
    {
     "name": "stderr",
     "output_type": "stream",
     "text": [
      "C:\\Users\\marle\\OneDrive - tbs-education\\00_Masterarbeit\\Code\\notebooks\\..\\src\\create_solution.py:74: FutureWarning: Dropping of nuisance columns in DataFrame reductions (with 'numeric_only=None') is deprecated; in a future version this will raise TypeError.  Select only valid columns before calling the reduction.\n",
      "  distances['Dmin'] = distances.min(axis=1)\n"
     ]
    },
    {
     "name": "stdout",
     "output_type": "stream",
     "text": [
      "(11, 5)\n",
      "(14, 9)\n"
     ]
    },
    {
     "name": "stderr",
     "output_type": "stream",
     "text": [
      "\u001b[32m2023-08-11 17:21:26.742\u001b[0m | \u001b[1mINFO    \u001b[0m | \u001b[36msrc.evaluation_railroad\u001b[0m:\u001b[36mevaluate_solution_drop\u001b[0m:\u001b[36m406\u001b[0m - \u001b[1mDropping T6\u001b[0m\n",
      "\u001b[32m2023-08-11 17:21:27.769\u001b[0m | \u001b[1mINFO    \u001b[0m | \u001b[36msrc.evaluation_railroad\u001b[0m:\u001b[36mevaluate_solution_drop\u001b[0m:\u001b[36m406\u001b[0m - \u001b[1mDropping T5\u001b[0m\n",
      "C:\\Users\\marle\\AppData\\Local\\Temp\\ipykernel_29704\\614920883.py:28: FutureWarning: The frame.append method is deprecated and will be removed from pandas in a future version. Use pandas.concat instead.\n",
      "  df_results_processing_time = df_results_processing_time.append(co2_modell(df_processing_time.head(i), df_distance_matrix, dict_terminals_process, list_mondays[1], list_mondays[2], country = \"france\", algorithm = algorithm)[0], ignore_index=True)\n",
      "C:\\Users\\marle\\OneDrive - tbs-education\\00_Masterarbeit\\Code\\notebooks\\..\\src\\co2_modells.py:28: FutureWarning: Comparison of Timestamp with datetime.date is deprecated in order to match the standard library behavior. In a future version these will be considered non-comparable. Use 'ts == pd.Timestamp(date)' or 'ts.date() == date' instead.\n",
      "  df = df[(df[\"Delivery date\"]>=pd.to_datetime(date_from))&(df[\"Delivery date\"]<=pd.to_datetime(date_to))]\n",
      "\u001b[32m2023-08-11 17:21:28.920\u001b[0m | \u001b[1mINFO    \u001b[0m | \u001b[36msrc.co2_modells\u001b[0m:\u001b[36mpreprocessing_modelling\u001b[0m:\u001b[36m38\u001b[0m - \u001b[1m100\u001b[0m\n",
      "\u001b[32m2023-08-11 17:21:28.936\u001b[0m | \u001b[1mINFO    \u001b[0m | \u001b[36msrc.co2_modells\u001b[0m:\u001b[36mco2_modell\u001b[0m:\u001b[36m71\u001b[0m - \u001b[1m0.16\u001b[0m\n"
     ]
    },
    {
     "name": "stdout",
     "output_type": "stream",
     "text": [
      "Total processing time: 7.96875\n",
      "customers 20: 7.984375\n",
      "(40, 7)\n"
     ]
    },
    {
     "name": "stderr",
     "output_type": "stream",
     "text": [
      "C:\\Users\\marle\\OneDrive - tbs-education\\00_Masterarbeit\\Code\\notebooks\\..\\src\\create_solution.py:74: FutureWarning: Dropping of nuisance columns in DataFrame reductions (with 'numeric_only=None') is deprecated; in a future version this will raise TypeError.  Select only valid columns before calling the reduction.\n",
      "  distances['Dmin'] = distances.min(axis=1)\n"
     ]
    },
    {
     "name": "stdout",
     "output_type": "stream",
     "text": [
      "(19, 5)\n",
      "(27, 9)\n"
     ]
    },
    {
     "name": "stderr",
     "output_type": "stream",
     "text": [
      "\u001b[32m2023-08-11 17:21:35.037\u001b[0m | \u001b[1mINFO    \u001b[0m | \u001b[36msrc.evaluation_railroad\u001b[0m:\u001b[36mevaluate_solution_drop\u001b[0m:\u001b[36m406\u001b[0m - \u001b[1mDropping T6\u001b[0m\n",
      "\u001b[32m2023-08-11 17:21:36.047\u001b[0m | \u001b[1mINFO    \u001b[0m | \u001b[36msrc.evaluation_railroad\u001b[0m:\u001b[36mevaluate_solution_drop\u001b[0m:\u001b[36m406\u001b[0m - \u001b[1mDropping T5\u001b[0m\n",
      "C:\\Users\\marle\\AppData\\Local\\Temp\\ipykernel_29704\\614920883.py:28: FutureWarning: The frame.append method is deprecated and will be removed from pandas in a future version. Use pandas.concat instead.\n",
      "  df_results_processing_time = df_results_processing_time.append(co2_modell(df_processing_time.head(i), df_distance_matrix, dict_terminals_process, list_mondays[1], list_mondays[2], country = \"france\", algorithm = algorithm)[0], ignore_index=True)\n",
      "C:\\Users\\marle\\OneDrive - tbs-education\\00_Masterarbeit\\Code\\notebooks\\..\\src\\co2_modells.py:28: FutureWarning: Comparison of Timestamp with datetime.date is deprecated in order to match the standard library behavior. In a future version these will be considered non-comparable. Use 'ts == pd.Timestamp(date)' or 'ts.date() == date' instead.\n",
      "  df = df[(df[\"Delivery date\"]>=pd.to_datetime(date_from))&(df[\"Delivery date\"]<=pd.to_datetime(date_to))]\n",
      "\u001b[32m2023-08-11 17:21:37.075\u001b[0m | \u001b[1mINFO    \u001b[0m | \u001b[36msrc.co2_modells\u001b[0m:\u001b[36mpreprocessing_modelling\u001b[0m:\u001b[36m38\u001b[0m - \u001b[1m100\u001b[0m\n",
      "\u001b[32m2023-08-11 17:21:37.075\u001b[0m | \u001b[1mINFO    \u001b[0m | \u001b[36msrc.co2_modells\u001b[0m:\u001b[36mco2_modell\u001b[0m:\u001b[36m71\u001b[0m - \u001b[1m0.24\u001b[0m\n"
     ]
    },
    {
     "name": "stdout",
     "output_type": "stream",
     "text": [
      "Total processing time: 7.9375\n",
      "customers 40: 8.0\n",
      "(60, 7)\n"
     ]
    },
    {
     "name": "stderr",
     "output_type": "stream",
     "text": [
      "C:\\Users\\marle\\OneDrive - tbs-education\\00_Masterarbeit\\Code\\notebooks\\..\\src\\create_solution.py:74: FutureWarning: Dropping of nuisance columns in DataFrame reductions (with 'numeric_only=None') is deprecated; in a future version this will raise TypeError.  Select only valid columns before calling the reduction.\n",
      "  distances['Dmin'] = distances.min(axis=1)\n"
     ]
    },
    {
     "name": "stdout",
     "output_type": "stream",
     "text": [
      "(25, 5)\n",
      "(37, 9)\n"
     ]
    },
    {
     "name": "stderr",
     "output_type": "stream",
     "text": [
      "\u001b[32m2023-08-11 17:21:43.185\u001b[0m | \u001b[1mINFO    \u001b[0m | \u001b[36msrc.evaluation_railroad\u001b[0m:\u001b[36mevaluate_solution_drop\u001b[0m:\u001b[36m406\u001b[0m - \u001b[1mDropping T6\u001b[0m\n",
      "\u001b[32m2023-08-11 17:21:44.193\u001b[0m | \u001b[1mINFO    \u001b[0m | \u001b[36msrc.evaluation_railroad\u001b[0m:\u001b[36mevaluate_solution_drop\u001b[0m:\u001b[36m406\u001b[0m - \u001b[1mDropping T5\u001b[0m\n",
      "C:\\Users\\marle\\AppData\\Local\\Temp\\ipykernel_29704\\614920883.py:28: FutureWarning: The frame.append method is deprecated and will be removed from pandas in a future version. Use pandas.concat instead.\n",
      "  df_results_processing_time = df_results_processing_time.append(co2_modell(df_processing_time.head(i), df_distance_matrix, dict_terminals_process, list_mondays[1], list_mondays[2], country = \"france\", algorithm = algorithm)[0], ignore_index=True)\n",
      "C:\\Users\\marle\\OneDrive - tbs-education\\00_Masterarbeit\\Code\\notebooks\\..\\src\\co2_modells.py:28: FutureWarning: Comparison of Timestamp with datetime.date is deprecated in order to match the standard library behavior. In a future version these will be considered non-comparable. Use 'ts == pd.Timestamp(date)' or 'ts.date() == date' instead.\n",
      "  df = df[(df[\"Delivery date\"]>=pd.to_datetime(date_from))&(df[\"Delivery date\"]<=pd.to_datetime(date_to))]\n",
      "\u001b[32m2023-08-11 17:21:45.269\u001b[0m | \u001b[1mINFO    \u001b[0m | \u001b[36msrc.co2_modells\u001b[0m:\u001b[36mpreprocessing_modelling\u001b[0m:\u001b[36m38\u001b[0m - \u001b[1m100\u001b[0m\n",
      "\u001b[32m2023-08-11 17:21:45.305\u001b[0m | \u001b[1mINFO    \u001b[0m | \u001b[36msrc.co2_modells\u001b[0m:\u001b[36mco2_modell\u001b[0m:\u001b[36m71\u001b[0m - \u001b[1m0.32\u001b[0m\n"
     ]
    },
    {
     "name": "stdout",
     "output_type": "stream",
     "text": [
      "Total processing time: 7.90625\n",
      "customers 60: 7.90625\n",
      "(80, 7)\n"
     ]
    },
    {
     "name": "stderr",
     "output_type": "stream",
     "text": [
      "C:\\Users\\marle\\OneDrive - tbs-education\\00_Masterarbeit\\Code\\notebooks\\..\\src\\create_solution.py:74: FutureWarning: Dropping of nuisance columns in DataFrame reductions (with 'numeric_only=None') is deprecated; in a future version this will raise TypeError.  Select only valid columns before calling the reduction.\n",
      "  distances['Dmin'] = distances.min(axis=1)\n"
     ]
    },
    {
     "name": "stdout",
     "output_type": "stream",
     "text": [
      "(31, 5)\n",
      "(51, 9)\n"
     ]
    },
    {
     "name": "stderr",
     "output_type": "stream",
     "text": [
      "\u001b[32m2023-08-11 17:21:51.414\u001b[0m | \u001b[1mINFO    \u001b[0m | \u001b[36msrc.evaluation_railroad\u001b[0m:\u001b[36mevaluate_solution_drop\u001b[0m:\u001b[36m406\u001b[0m - \u001b[1mDropping T6\u001b[0m\n",
      "\u001b[32m2023-08-11 17:21:52.431\u001b[0m | \u001b[1mINFO    \u001b[0m | \u001b[36msrc.evaluation_railroad\u001b[0m:\u001b[36mevaluate_solution_drop\u001b[0m:\u001b[36m406\u001b[0m - \u001b[1mDropping T5\u001b[0m\n",
      "C:\\Users\\marle\\AppData\\Local\\Temp\\ipykernel_29704\\614920883.py:28: FutureWarning: The frame.append method is deprecated and will be removed from pandas in a future version. Use pandas.concat instead.\n",
      "  df_results_processing_time = df_results_processing_time.append(co2_modell(df_processing_time.head(i), df_distance_matrix, dict_terminals_process, list_mondays[1], list_mondays[2], country = \"france\", algorithm = algorithm)[0], ignore_index=True)\n",
      "C:\\Users\\marle\\OneDrive - tbs-education\\00_Masterarbeit\\Code\\notebooks\\..\\src\\co2_modells.py:28: FutureWarning: Comparison of Timestamp with datetime.date is deprecated in order to match the standard library behavior. In a future version these will be considered non-comparable. Use 'ts == pd.Timestamp(date)' or 'ts.date() == date' instead.\n",
      "  df = df[(df[\"Delivery date\"]>=pd.to_datetime(date_from))&(df[\"Delivery date\"]<=pd.to_datetime(date_to))]\n",
      "\u001b[32m2023-08-11 17:21:53.456\u001b[0m | \u001b[1mINFO    \u001b[0m | \u001b[36msrc.co2_modells\u001b[0m:\u001b[36mpreprocessing_modelling\u001b[0m:\u001b[36m38\u001b[0m - \u001b[1m100\u001b[0m\n",
      "\u001b[32m2023-08-11 17:21:53.471\u001b[0m | \u001b[1mINFO    \u001b[0m | \u001b[36msrc.co2_modells\u001b[0m:\u001b[36mco2_modell\u001b[0m:\u001b[36m71\u001b[0m - \u001b[1m0.4\u001b[0m\n"
     ]
    },
    {
     "name": "stdout",
     "output_type": "stream",
     "text": [
      "Total processing time: 7.78125\n",
      "customers 80: 7.796875\n",
      "(100, 7)\n"
     ]
    },
    {
     "name": "stderr",
     "output_type": "stream",
     "text": [
      "C:\\Users\\marle\\OneDrive - tbs-education\\00_Masterarbeit\\Code\\notebooks\\..\\src\\create_solution.py:74: FutureWarning: Dropping of nuisance columns in DataFrame reductions (with 'numeric_only=None') is deprecated; in a future version this will raise TypeError.  Select only valid columns before calling the reduction.\n",
      "  distances['Dmin'] = distances.min(axis=1)\n"
     ]
    },
    {
     "name": "stdout",
     "output_type": "stream",
     "text": [
      "(38, 5)\n",
      "(61, 9)\n"
     ]
    },
    {
     "name": "stderr",
     "output_type": "stream",
     "text": [
      "\u001b[32m2023-08-11 17:21:59.619\u001b[0m | \u001b[1mINFO    \u001b[0m | \u001b[36msrc.evaluation_railroad\u001b[0m:\u001b[36mevaluate_solution_drop\u001b[0m:\u001b[36m406\u001b[0m - \u001b[1mDropping T6\u001b[0m\n",
      "\u001b[32m2023-08-11 17:22:02.778\u001b[0m | \u001b[1mINFO    \u001b[0m | \u001b[36msrc.evaluation_railroad\u001b[0m:\u001b[36mevaluate_solution_drop\u001b[0m:\u001b[36m406\u001b[0m - \u001b[1mDropping T5\u001b[0m\n",
      "C:\\Users\\marle\\AppData\\Local\\Temp\\ipykernel_29704\\614920883.py:28: FutureWarning: The frame.append method is deprecated and will be removed from pandas in a future version. Use pandas.concat instead.\n",
      "  df_results_processing_time = df_results_processing_time.append(co2_modell(df_processing_time.head(i), df_distance_matrix, dict_terminals_process, list_mondays[1], list_mondays[2], country = \"france\", algorithm = algorithm)[0], ignore_index=True)\n",
      "C:\\Users\\marle\\OneDrive - tbs-education\\00_Masterarbeit\\Code\\notebooks\\..\\src\\co2_modells.py:28: FutureWarning: Comparison of Timestamp with datetime.date is deprecated in order to match the standard library behavior. In a future version these will be considered non-comparable. Use 'ts == pd.Timestamp(date)' or 'ts.date() == date' instead.\n",
      "  df = df[(df[\"Delivery date\"]>=pd.to_datetime(date_from))&(df[\"Delivery date\"]<=pd.to_datetime(date_to))]\n",
      "\u001b[32m2023-08-11 17:22:03.808\u001b[0m | \u001b[1mINFO    \u001b[0m | \u001b[36msrc.co2_modells\u001b[0m:\u001b[36mpreprocessing_modelling\u001b[0m:\u001b[36m38\u001b[0m - \u001b[1m100\u001b[0m\n",
      "\u001b[32m2023-08-11 17:22:03.821\u001b[0m | \u001b[1mINFO    \u001b[0m | \u001b[36msrc.co2_modells\u001b[0m:\u001b[36mco2_modell\u001b[0m:\u001b[36m71\u001b[0m - \u001b[1m0.08\u001b[0m\n"
     ]
    },
    {
     "name": "stdout",
     "output_type": "stream",
     "text": [
      "Total processing time: 10.171875\n",
      "customers 100: 10.1875\n",
      "(20, 7)\n"
     ]
    },
    {
     "name": "stderr",
     "output_type": "stream",
     "text": [
      "C:\\Users\\marle\\OneDrive - tbs-education\\00_Masterarbeit\\Code\\notebooks\\..\\src\\create_solution.py:74: FutureWarning: Dropping of nuisance columns in DataFrame reductions (with 'numeric_only=None') is deprecated; in a future version this will raise TypeError.  Select only valid columns before calling the reduction.\n",
      "  distances['Dmin'] = distances.min(axis=1)\n"
     ]
    },
    {
     "name": "stdout",
     "output_type": "stream",
     "text": [
      "(11, 6)\n",
      "(11, 10)\n"
     ]
    },
    {
     "name": "stderr",
     "output_type": "stream",
     "text": [
      "\u001b[32m2023-08-11 17:22:11.045\u001b[0m | \u001b[1mINFO    \u001b[0m | \u001b[36msrc.evaluation_railroad\u001b[0m:\u001b[36mevaluate_solution_drop\u001b[0m:\u001b[36m406\u001b[0m - \u001b[1mDropping T6\u001b[0m\n",
      "\u001b[32m2023-08-11 17:22:12.123\u001b[0m | \u001b[1mINFO    \u001b[0m | \u001b[36msrc.evaluation_railroad\u001b[0m:\u001b[36mevaluate_solution_drop\u001b[0m:\u001b[36m406\u001b[0m - \u001b[1mDropping T5\u001b[0m\n",
      "\u001b[32m2023-08-11 17:22:13.131\u001b[0m | \u001b[1mINFO    \u001b[0m | \u001b[36msrc.evaluation_railroad\u001b[0m:\u001b[36mevaluate_solution_drop\u001b[0m:\u001b[36m406\u001b[0m - \u001b[1mDropping T1\u001b[0m\n",
      "C:\\Users\\marle\\AppData\\Local\\Temp\\ipykernel_29704\\614920883.py:28: FutureWarning: The frame.append method is deprecated and will be removed from pandas in a future version. Use pandas.concat instead.\n",
      "  df_results_processing_time = df_results_processing_time.append(co2_modell(df_processing_time.head(i), df_distance_matrix, dict_terminals_process, list_mondays[1], list_mondays[2], country = \"france\", algorithm = algorithm)[0], ignore_index=True)\n",
      "C:\\Users\\marle\\OneDrive - tbs-education\\00_Masterarbeit\\Code\\notebooks\\..\\src\\co2_modells.py:28: FutureWarning: Comparison of Timestamp with datetime.date is deprecated in order to match the standard library behavior. In a future version these will be considered non-comparable. Use 'ts == pd.Timestamp(date)' or 'ts.date() == date' instead.\n",
      "  df = df[(df[\"Delivery date\"]>=pd.to_datetime(date_from))&(df[\"Delivery date\"]<=pd.to_datetime(date_to))]\n",
      "\u001b[32m2023-08-11 17:22:14.166\u001b[0m | \u001b[1mINFO    \u001b[0m | \u001b[36msrc.co2_modells\u001b[0m:\u001b[36mpreprocessing_modelling\u001b[0m:\u001b[36m38\u001b[0m - \u001b[1m100\u001b[0m\n",
      "\u001b[32m2023-08-11 17:22:14.181\u001b[0m | \u001b[1mINFO    \u001b[0m | \u001b[36msrc.co2_modells\u001b[0m:\u001b[36mco2_modell\u001b[0m:\u001b[36m71\u001b[0m - \u001b[1m0.16\u001b[0m\n"
     ]
    },
    {
     "name": "stdout",
     "output_type": "stream",
     "text": [
      "Total processing time: 9.53125\n",
      "customers 20: 9.53125\n",
      "(40, 7)\n"
     ]
    },
    {
     "name": "stderr",
     "output_type": "stream",
     "text": [
      "C:\\Users\\marle\\OneDrive - tbs-education\\00_Masterarbeit\\Code\\notebooks\\..\\src\\create_solution.py:74: FutureWarning: Dropping of nuisance columns in DataFrame reductions (with 'numeric_only=None') is deprecated; in a future version this will raise TypeError.  Select only valid columns before calling the reduction.\n",
      "  distances['Dmin'] = distances.min(axis=1)\n"
     ]
    },
    {
     "name": "stdout",
     "output_type": "stream",
     "text": [
      "(19, 6)\n",
      "(23, 10)\n"
     ]
    },
    {
     "name": "stderr",
     "output_type": "stream",
     "text": [
      "\u001b[32m2023-08-11 17:22:21.526\u001b[0m | \u001b[1mINFO    \u001b[0m | \u001b[36msrc.evaluation_railroad\u001b[0m:\u001b[36mevaluate_solution_drop\u001b[0m:\u001b[36m406\u001b[0m - \u001b[1mDropping T6\u001b[0m\n",
      "\u001b[32m2023-08-11 17:22:22.547\u001b[0m | \u001b[1mINFO    \u001b[0m | \u001b[36msrc.evaluation_railroad\u001b[0m:\u001b[36mevaluate_solution_drop\u001b[0m:\u001b[36m406\u001b[0m - \u001b[1mDropping T5\u001b[0m\n",
      "\u001b[32m2023-08-11 17:22:23.551\u001b[0m | \u001b[1mINFO    \u001b[0m | \u001b[36msrc.evaluation_railroad\u001b[0m:\u001b[36mevaluate_solution_drop\u001b[0m:\u001b[36m406\u001b[0m - \u001b[1mDropping T1\u001b[0m\n",
      "C:\\Users\\marle\\AppData\\Local\\Temp\\ipykernel_29704\\614920883.py:28: FutureWarning: The frame.append method is deprecated and will be removed from pandas in a future version. Use pandas.concat instead.\n",
      "  df_results_processing_time = df_results_processing_time.append(co2_modell(df_processing_time.head(i), df_distance_matrix, dict_terminals_process, list_mondays[1], list_mondays[2], country = \"france\", algorithm = algorithm)[0], ignore_index=True)\n",
      "C:\\Users\\marle\\OneDrive - tbs-education\\00_Masterarbeit\\Code\\notebooks\\..\\src\\co2_modells.py:28: FutureWarning: Comparison of Timestamp with datetime.date is deprecated in order to match the standard library behavior. In a future version these will be considered non-comparable. Use 'ts == pd.Timestamp(date)' or 'ts.date() == date' instead.\n",
      "  df = df[(df[\"Delivery date\"]>=pd.to_datetime(date_from))&(df[\"Delivery date\"]<=pd.to_datetime(date_to))]\n",
      "\u001b[32m2023-08-11 17:22:24.627\u001b[0m | \u001b[1mINFO    \u001b[0m | \u001b[36msrc.co2_modells\u001b[0m:\u001b[36mpreprocessing_modelling\u001b[0m:\u001b[36m38\u001b[0m - \u001b[1m100\u001b[0m\n",
      "\u001b[32m2023-08-11 17:22:24.652\u001b[0m | \u001b[1mINFO    \u001b[0m | \u001b[36msrc.co2_modells\u001b[0m:\u001b[36mco2_modell\u001b[0m:\u001b[36m71\u001b[0m - \u001b[1m0.24\u001b[0m\n"
     ]
    },
    {
     "name": "stdout",
     "output_type": "stream",
     "text": [
      "Total processing time: 9.84375\n",
      "customers 40: 9.859375\n",
      "(60, 7)\n"
     ]
    },
    {
     "name": "stderr",
     "output_type": "stream",
     "text": [
      "C:\\Users\\marle\\OneDrive - tbs-education\\00_Masterarbeit\\Code\\notebooks\\..\\src\\create_solution.py:74: FutureWarning: Dropping of nuisance columns in DataFrame reductions (with 'numeric_only=None') is deprecated; in a future version this will raise TypeError.  Select only valid columns before calling the reduction.\n",
      "  distances['Dmin'] = distances.min(axis=1)\n"
     ]
    },
    {
     "name": "stdout",
     "output_type": "stream",
     "text": [
      "(25, 6)\n",
      "(31, 10)\n"
     ]
    },
    {
     "name": "stderr",
     "output_type": "stream",
     "text": [
      "\u001b[32m2023-08-11 17:22:31.789\u001b[0m | \u001b[1mINFO    \u001b[0m | \u001b[36msrc.evaluation_railroad\u001b[0m:\u001b[36mevaluate_solution_drop\u001b[0m:\u001b[36m406\u001b[0m - \u001b[1mDropping T6\u001b[0m\n",
      "\u001b[32m2023-08-11 17:22:32.824\u001b[0m | \u001b[1mINFO    \u001b[0m | \u001b[36msrc.evaluation_railroad\u001b[0m:\u001b[36mevaluate_solution_drop\u001b[0m:\u001b[36m406\u001b[0m - \u001b[1mDropping T5\u001b[0m\n",
      "\u001b[32m2023-08-11 17:22:33.924\u001b[0m | \u001b[1mINFO    \u001b[0m | \u001b[36msrc.evaluation_railroad\u001b[0m:\u001b[36mevaluate_solution_drop\u001b[0m:\u001b[36m406\u001b[0m - \u001b[1mDropping T1\u001b[0m\n",
      "C:\\Users\\marle\\AppData\\Local\\Temp\\ipykernel_29704\\614920883.py:28: FutureWarning: The frame.append method is deprecated and will be removed from pandas in a future version. Use pandas.concat instead.\n",
      "  df_results_processing_time = df_results_processing_time.append(co2_modell(df_processing_time.head(i), df_distance_matrix, dict_terminals_process, list_mondays[1], list_mondays[2], country = \"france\", algorithm = algorithm)[0], ignore_index=True)\n",
      "C:\\Users\\marle\\OneDrive - tbs-education\\00_Masterarbeit\\Code\\notebooks\\..\\src\\co2_modells.py:28: FutureWarning: Comparison of Timestamp with datetime.date is deprecated in order to match the standard library behavior. In a future version these will be considered non-comparable. Use 'ts == pd.Timestamp(date)' or 'ts.date() == date' instead.\n",
      "  df = df[(df[\"Delivery date\"]>=pd.to_datetime(date_from))&(df[\"Delivery date\"]<=pd.to_datetime(date_to))]\n",
      "\u001b[32m2023-08-11 17:22:34.966\u001b[0m | \u001b[1mINFO    \u001b[0m | \u001b[36msrc.co2_modells\u001b[0m:\u001b[36mpreprocessing_modelling\u001b[0m:\u001b[36m38\u001b[0m - \u001b[1m100\u001b[0m\n",
      "\u001b[32m2023-08-11 17:22:34.992\u001b[0m | \u001b[1mINFO    \u001b[0m | \u001b[36msrc.co2_modells\u001b[0m:\u001b[36mco2_modell\u001b[0m:\u001b[36m71\u001b[0m - \u001b[1m0.32\u001b[0m\n"
     ]
    },
    {
     "name": "stdout",
     "output_type": "stream",
     "text": [
      "Total processing time: 9.875\n",
      "customers 60: 9.890625\n",
      "(80, 7)\n"
     ]
    },
    {
     "name": "stderr",
     "output_type": "stream",
     "text": [
      "C:\\Users\\marle\\OneDrive - tbs-education\\00_Masterarbeit\\Code\\notebooks\\..\\src\\create_solution.py:74: FutureWarning: Dropping of nuisance columns in DataFrame reductions (with 'numeric_only=None') is deprecated; in a future version this will raise TypeError.  Select only valid columns before calling the reduction.\n",
      "  distances['Dmin'] = distances.min(axis=1)\n"
     ]
    },
    {
     "name": "stdout",
     "output_type": "stream",
     "text": [
      "(31, 6)\n",
      "(45, 10)\n"
     ]
    },
    {
     "name": "stderr",
     "output_type": "stream",
     "text": [
      "\u001b[32m2023-08-11 17:22:42.137\u001b[0m | \u001b[1mINFO    \u001b[0m | \u001b[36msrc.evaluation_railroad\u001b[0m:\u001b[36mevaluate_solution_drop\u001b[0m:\u001b[36m406\u001b[0m - \u001b[1mDropping T6\u001b[0m\n",
      "\u001b[32m2023-08-11 17:22:43.158\u001b[0m | \u001b[1mINFO    \u001b[0m | \u001b[36msrc.evaluation_railroad\u001b[0m:\u001b[36mevaluate_solution_drop\u001b[0m:\u001b[36m406\u001b[0m - \u001b[1mDropping T5\u001b[0m\n",
      "C:\\Users\\marle\\AppData\\Local\\Temp\\ipykernel_29704\\614920883.py:28: FutureWarning: The frame.append method is deprecated and will be removed from pandas in a future version. Use pandas.concat instead.\n",
      "  df_results_processing_time = df_results_processing_time.append(co2_modell(df_processing_time.head(i), df_distance_matrix, dict_terminals_process, list_mondays[1], list_mondays[2], country = \"france\", algorithm = algorithm)[0], ignore_index=True)\n",
      "C:\\Users\\marle\\OneDrive - tbs-education\\00_Masterarbeit\\Code\\notebooks\\..\\src\\co2_modells.py:28: FutureWarning: Comparison of Timestamp with datetime.date is deprecated in order to match the standard library behavior. In a future version these will be considered non-comparable. Use 'ts == pd.Timestamp(date)' or 'ts.date() == date' instead.\n",
      "  df = df[(df[\"Delivery date\"]>=pd.to_datetime(date_from))&(df[\"Delivery date\"]<=pd.to_datetime(date_to))]\n",
      "\u001b[32m2023-08-11 17:22:46.206\u001b[0m | \u001b[1mINFO    \u001b[0m | \u001b[36msrc.co2_modells\u001b[0m:\u001b[36mpreprocessing_modelling\u001b[0m:\u001b[36m38\u001b[0m - \u001b[1m100\u001b[0m\n",
      "\u001b[32m2023-08-11 17:22:46.222\u001b[0m | \u001b[1mINFO    \u001b[0m | \u001b[36msrc.co2_modells\u001b[0m:\u001b[36mco2_modell\u001b[0m:\u001b[36m71\u001b[0m - \u001b[1m0.4\u001b[0m\n"
     ]
    },
    {
     "name": "stdout",
     "output_type": "stream",
     "text": [
      "Total processing time: 10.9375\n",
      "customers 80: 10.9375\n",
      "(100, 7)\n"
     ]
    },
    {
     "name": "stderr",
     "output_type": "stream",
     "text": [
      "C:\\Users\\marle\\OneDrive - tbs-education\\00_Masterarbeit\\Code\\notebooks\\..\\src\\create_solution.py:74: FutureWarning: Dropping of nuisance columns in DataFrame reductions (with 'numeric_only=None') is deprecated; in a future version this will raise TypeError.  Select only valid columns before calling the reduction.\n",
      "  distances['Dmin'] = distances.min(axis=1)\n"
     ]
    },
    {
     "name": "stdout",
     "output_type": "stream",
     "text": [
      "(38, 6)\n",
      "(55, 10)\n"
     ]
    },
    {
     "name": "stderr",
     "output_type": "stream",
     "text": [
      "\u001b[32m2023-08-11 17:22:53.444\u001b[0m | \u001b[1mINFO    \u001b[0m | \u001b[36msrc.evaluation_railroad\u001b[0m:\u001b[36mevaluate_solution_drop\u001b[0m:\u001b[36m406\u001b[0m - \u001b[1mDropping T6\u001b[0m\n",
      "\u001b[32m2023-08-11 17:22:54.465\u001b[0m | \u001b[1mINFO    \u001b[0m | \u001b[36msrc.evaluation_railroad\u001b[0m:\u001b[36mevaluate_solution_drop\u001b[0m:\u001b[36m406\u001b[0m - \u001b[1mDropping T5\u001b[0m\n",
      "C:\\Users\\marle\\AppData\\Local\\Temp\\ipykernel_29704\\614920883.py:28: FutureWarning: The frame.append method is deprecated and will be removed from pandas in a future version. Use pandas.concat instead.\n",
      "  df_results_processing_time = df_results_processing_time.append(co2_modell(df_processing_time.head(i), df_distance_matrix, dict_terminals_process, list_mondays[1], list_mondays[2], country = \"france\", algorithm = algorithm)[0], ignore_index=True)\n",
      "C:\\Users\\marle\\OneDrive - tbs-education\\00_Masterarbeit\\Code\\notebooks\\..\\src\\co2_modells.py:28: FutureWarning: Comparison of Timestamp with datetime.date is deprecated in order to match the standard library behavior. In a future version these will be considered non-comparable. Use 'ts == pd.Timestamp(date)' or 'ts.date() == date' instead.\n",
      "  df = df[(df[\"Delivery date\"]>=pd.to_datetime(date_from))&(df[\"Delivery date\"]<=pd.to_datetime(date_to))]\n",
      "\u001b[32m2023-08-11 17:22:57.524\u001b[0m | \u001b[1mINFO    \u001b[0m | \u001b[36msrc.co2_modells\u001b[0m:\u001b[36mpreprocessing_modelling\u001b[0m:\u001b[36m38\u001b[0m - \u001b[1m100\u001b[0m\n",
      "\u001b[32m2023-08-11 17:22:57.524\u001b[0m | \u001b[1mINFO    \u001b[0m | \u001b[36msrc.co2_modells\u001b[0m:\u001b[36mco2_modell\u001b[0m:\u001b[36m71\u001b[0m - \u001b[1m0.08\u001b[0m\n"
     ]
    },
    {
     "name": "stdout",
     "output_type": "stream",
     "text": [
      "Total processing time: 11.09375\n",
      "customers 100: 11.09375\n",
      "(20, 7)\n"
     ]
    },
    {
     "name": "stderr",
     "output_type": "stream",
     "text": [
      "C:\\Users\\marle\\OneDrive - tbs-education\\00_Masterarbeit\\Code\\notebooks\\..\\src\\create_solution.py:74: FutureWarning: Dropping of nuisance columns in DataFrame reductions (with 'numeric_only=None') is deprecated; in a future version this will raise TypeError.  Select only valid columns before calling the reduction.\n",
      "  distances['Dmin'] = distances.min(axis=1)\n"
     ]
    },
    {
     "name": "stdout",
     "output_type": "stream",
     "text": [
      "(9, 7)\n",
      "(10, 11)\n"
     ]
    },
    {
     "name": "stderr",
     "output_type": "stream",
     "text": [
      "\u001b[32m2023-08-11 17:23:05.752\u001b[0m | \u001b[1mINFO    \u001b[0m | \u001b[36msrc.evaluation_railroad\u001b[0m:\u001b[36mevaluate_solution_drop\u001b[0m:\u001b[36m406\u001b[0m - \u001b[1mDropping T6\u001b[0m\n",
      "\u001b[32m2023-08-11 17:23:06.804\u001b[0m | \u001b[1mINFO    \u001b[0m | \u001b[36msrc.evaluation_railroad\u001b[0m:\u001b[36mevaluate_solution_drop\u001b[0m:\u001b[36m406\u001b[0m - \u001b[1mDropping T5\u001b[0m\n",
      "\u001b[32m2023-08-11 17:23:07.824\u001b[0m | \u001b[1mINFO    \u001b[0m | \u001b[36msrc.evaluation_railroad\u001b[0m:\u001b[36mevaluate_solution_drop\u001b[0m:\u001b[36m406\u001b[0m - \u001b[1mDropping T1\u001b[0m\n",
      "\u001b[32m2023-08-11 17:23:08.830\u001b[0m | \u001b[1mINFO    \u001b[0m | \u001b[36msrc.evaluation_railroad\u001b[0m:\u001b[36mevaluate_solution_drop\u001b[0m:\u001b[36m406\u001b[0m - \u001b[1mDropping T9\u001b[0m\n",
      "C:\\Users\\marle\\AppData\\Local\\Temp\\ipykernel_29704\\614920883.py:28: FutureWarning: The frame.append method is deprecated and will be removed from pandas in a future version. Use pandas.concat instead.\n",
      "  df_results_processing_time = df_results_processing_time.append(co2_modell(df_processing_time.head(i), df_distance_matrix, dict_terminals_process, list_mondays[1], list_mondays[2], country = \"france\", algorithm = algorithm)[0], ignore_index=True)\n",
      "C:\\Users\\marle\\OneDrive - tbs-education\\00_Masterarbeit\\Code\\notebooks\\..\\src\\co2_modells.py:28: FutureWarning: Comparison of Timestamp with datetime.date is deprecated in order to match the standard library behavior. In a future version these will be considered non-comparable. Use 'ts == pd.Timestamp(date)' or 'ts.date() == date' instead.\n",
      "  df = df[(df[\"Delivery date\"]>=pd.to_datetime(date_from))&(df[\"Delivery date\"]<=pd.to_datetime(date_to))]\n",
      "\u001b[32m2023-08-11 17:23:09.850\u001b[0m | \u001b[1mINFO    \u001b[0m | \u001b[36msrc.co2_modells\u001b[0m:\u001b[36mpreprocessing_modelling\u001b[0m:\u001b[36m38\u001b[0m - \u001b[1m100\u001b[0m\n",
      "\u001b[32m2023-08-11 17:23:09.865\u001b[0m | \u001b[1mINFO    \u001b[0m | \u001b[36msrc.co2_modells\u001b[0m:\u001b[36mco2_modell\u001b[0m:\u001b[36m71\u001b[0m - \u001b[1m0.16\u001b[0m\n"
     ]
    },
    {
     "name": "stdout",
     "output_type": "stream",
     "text": [
      "Total processing time: 12.03125\n",
      "customers 20: 12.03125\n",
      "(40, 7)\n"
     ]
    },
    {
     "name": "stderr",
     "output_type": "stream",
     "text": [
      "C:\\Users\\marle\\OneDrive - tbs-education\\00_Masterarbeit\\Code\\notebooks\\..\\src\\create_solution.py:74: FutureWarning: Dropping of nuisance columns in DataFrame reductions (with 'numeric_only=None') is deprecated; in a future version this will raise TypeError.  Select only valid columns before calling the reduction.\n",
      "  distances['Dmin'] = distances.min(axis=1)\n"
     ]
    },
    {
     "name": "stdout",
     "output_type": "stream",
     "text": [
      "(15, 7)\n",
      "(21, 11)\n"
     ]
    },
    {
     "name": "stderr",
     "output_type": "stream",
     "text": [
      "\u001b[32m2023-08-11 17:23:17.999\u001b[0m | \u001b[1mINFO    \u001b[0m | \u001b[36msrc.evaluation_railroad\u001b[0m:\u001b[36mevaluate_solution_drop\u001b[0m:\u001b[36m406\u001b[0m - \u001b[1mDropping T6\u001b[0m\n",
      "\u001b[32m2023-08-11 17:23:19.052\u001b[0m | \u001b[1mINFO    \u001b[0m | \u001b[36msrc.evaluation_railroad\u001b[0m:\u001b[36mevaluate_solution_drop\u001b[0m:\u001b[36m406\u001b[0m - \u001b[1mDropping T5\u001b[0m\n",
      "\u001b[32m2023-08-11 17:23:20.073\u001b[0m | \u001b[1mINFO    \u001b[0m | \u001b[36msrc.evaluation_railroad\u001b[0m:\u001b[36mevaluate_solution_drop\u001b[0m:\u001b[36m406\u001b[0m - \u001b[1mDropping T1\u001b[0m\n",
      "\u001b[32m2023-08-11 17:23:21.111\u001b[0m | \u001b[1mINFO    \u001b[0m | \u001b[36msrc.evaluation_railroad\u001b[0m:\u001b[36mevaluate_solution_drop\u001b[0m:\u001b[36m406\u001b[0m - \u001b[1mDropping T9\u001b[0m\n",
      "C:\\Users\\marle\\AppData\\Local\\Temp\\ipykernel_29704\\614920883.py:28: FutureWarning: The frame.append method is deprecated and will be removed from pandas in a future version. Use pandas.concat instead.\n",
      "  df_results_processing_time = df_results_processing_time.append(co2_modell(df_processing_time.head(i), df_distance_matrix, dict_terminals_process, list_mondays[1], list_mondays[2], country = \"france\", algorithm = algorithm)[0], ignore_index=True)\n",
      "C:\\Users\\marle\\OneDrive - tbs-education\\00_Masterarbeit\\Code\\notebooks\\..\\src\\co2_modells.py:28: FutureWarning: Comparison of Timestamp with datetime.date is deprecated in order to match the standard library behavior. In a future version these will be considered non-comparable. Use 'ts == pd.Timestamp(date)' or 'ts.date() == date' instead.\n",
      "  df = df[(df[\"Delivery date\"]>=pd.to_datetime(date_from))&(df[\"Delivery date\"]<=pd.to_datetime(date_to))]\n",
      "\u001b[32m2023-08-11 17:23:22.194\u001b[0m | \u001b[1mINFO    \u001b[0m | \u001b[36msrc.co2_modells\u001b[0m:\u001b[36mpreprocessing_modelling\u001b[0m:\u001b[36m38\u001b[0m - \u001b[1m100\u001b[0m\n",
      "\u001b[32m2023-08-11 17:23:22.194\u001b[0m | \u001b[1mINFO    \u001b[0m | \u001b[36msrc.co2_modells\u001b[0m:\u001b[36mco2_modell\u001b[0m:\u001b[36m71\u001b[0m - \u001b[1m0.24\u001b[0m\n"
     ]
    },
    {
     "name": "stdout",
     "output_type": "stream",
     "text": [
      "Total processing time: 11.765625\n",
      "customers 40: 11.78125\n",
      "(60, 7)\n"
     ]
    },
    {
     "name": "stderr",
     "output_type": "stream",
     "text": [
      "C:\\Users\\marle\\OneDrive - tbs-education\\00_Masterarbeit\\Code\\notebooks\\..\\src\\create_solution.py:74: FutureWarning: Dropping of nuisance columns in DataFrame reductions (with 'numeric_only=None') is deprecated; in a future version this will raise TypeError.  Select only valid columns before calling the reduction.\n",
      "  distances['Dmin'] = distances.min(axis=1)\n"
     ]
    },
    {
     "name": "stdout",
     "output_type": "stream",
     "text": [
      "(21, 7)\n",
      "(29, 11)\n"
     ]
    },
    {
     "name": "stderr",
     "output_type": "stream",
     "text": [
      "\u001b[32m2023-08-11 17:23:30.431\u001b[0m | \u001b[1mINFO    \u001b[0m | \u001b[36msrc.evaluation_railroad\u001b[0m:\u001b[36mevaluate_solution_drop\u001b[0m:\u001b[36m406\u001b[0m - \u001b[1mDropping T6\u001b[0m\n",
      "\u001b[32m2023-08-11 17:23:31.475\u001b[0m | \u001b[1mINFO    \u001b[0m | \u001b[36msrc.evaluation_railroad\u001b[0m:\u001b[36mevaluate_solution_drop\u001b[0m:\u001b[36m406\u001b[0m - \u001b[1mDropping T5\u001b[0m\n",
      "\u001b[32m2023-08-11 17:23:32.558\u001b[0m | \u001b[1mINFO    \u001b[0m | \u001b[36msrc.evaluation_railroad\u001b[0m:\u001b[36mevaluate_solution_drop\u001b[0m:\u001b[36m406\u001b[0m - \u001b[1mDropping T1\u001b[0m\n",
      "\u001b[32m2023-08-11 17:23:33.563\u001b[0m | \u001b[1mINFO    \u001b[0m | \u001b[36msrc.evaluation_railroad\u001b[0m:\u001b[36mevaluate_solution_drop\u001b[0m:\u001b[36m406\u001b[0m - \u001b[1mDropping T9\u001b[0m\n",
      "C:\\Users\\marle\\AppData\\Local\\Temp\\ipykernel_29704\\614920883.py:28: FutureWarning: The frame.append method is deprecated and will be removed from pandas in a future version. Use pandas.concat instead.\n",
      "  df_results_processing_time = df_results_processing_time.append(co2_modell(df_processing_time.head(i), df_distance_matrix, dict_terminals_process, list_mondays[1], list_mondays[2], country = \"france\", algorithm = algorithm)[0], ignore_index=True)\n",
      "C:\\Users\\marle\\OneDrive - tbs-education\\00_Masterarbeit\\Code\\notebooks\\..\\src\\co2_modells.py:28: FutureWarning: Comparison of Timestamp with datetime.date is deprecated in order to match the standard library behavior. In a future version these will be considered non-comparable. Use 'ts == pd.Timestamp(date)' or 'ts.date() == date' instead.\n",
      "  df = df[(df[\"Delivery date\"]>=pd.to_datetime(date_from))&(df[\"Delivery date\"]<=pd.to_datetime(date_to))]\n",
      "\u001b[32m2023-08-11 17:23:34.624\u001b[0m | \u001b[1mINFO    \u001b[0m | \u001b[36msrc.co2_modells\u001b[0m:\u001b[36mpreprocessing_modelling\u001b[0m:\u001b[36m38\u001b[0m - \u001b[1m100\u001b[0m\n",
      "\u001b[32m2023-08-11 17:23:34.630\u001b[0m | \u001b[1mINFO    \u001b[0m | \u001b[36msrc.co2_modells\u001b[0m:\u001b[36mco2_modell\u001b[0m:\u001b[36m71\u001b[0m - \u001b[1m0.32\u001b[0m\n"
     ]
    },
    {
     "name": "stdout",
     "output_type": "stream",
     "text": [
      "Total processing time: 11.71875\n",
      "customers 60: 11.734375\n",
      "(80, 7)\n"
     ]
    },
    {
     "name": "stderr",
     "output_type": "stream",
     "text": [
      "C:\\Users\\marle\\OneDrive - tbs-education\\00_Masterarbeit\\Code\\notebooks\\..\\src\\create_solution.py:74: FutureWarning: Dropping of nuisance columns in DataFrame reductions (with 'numeric_only=None') is deprecated; in a future version this will raise TypeError.  Select only valid columns before calling the reduction.\n",
      "  distances['Dmin'] = distances.min(axis=1)\n"
     ]
    },
    {
     "name": "stdout",
     "output_type": "stream",
     "text": [
      "(27, 7)\n",
      "(43, 11)\n"
     ]
    },
    {
     "name": "stderr",
     "output_type": "stream",
     "text": [
      "\u001b[32m2023-08-11 17:23:42.855\u001b[0m | \u001b[1mINFO    \u001b[0m | \u001b[36msrc.evaluation_railroad\u001b[0m:\u001b[36mevaluate_solution_drop\u001b[0m:\u001b[36m406\u001b[0m - \u001b[1mDropping T6\u001b[0m\n",
      "\u001b[32m2023-08-11 17:23:43.860\u001b[0m | \u001b[1mINFO    \u001b[0m | \u001b[36msrc.evaluation_railroad\u001b[0m:\u001b[36mevaluate_solution_drop\u001b[0m:\u001b[36m406\u001b[0m - \u001b[1mDropping T5\u001b[0m\n",
      "\u001b[32m2023-08-11 17:23:44.880\u001b[0m | \u001b[1mINFO    \u001b[0m | \u001b[36msrc.evaluation_railroad\u001b[0m:\u001b[36mevaluate_solution_drop\u001b[0m:\u001b[36m406\u001b[0m - \u001b[1mDropping T1\u001b[0m\n",
      "C:\\Users\\marle\\AppData\\Local\\Temp\\ipykernel_29704\\614920883.py:28: FutureWarning: The frame.append method is deprecated and will be removed from pandas in a future version. Use pandas.concat instead.\n",
      "  df_results_processing_time = df_results_processing_time.append(co2_modell(df_processing_time.head(i), df_distance_matrix, dict_terminals_process, list_mondays[1], list_mondays[2], country = \"france\", algorithm = algorithm)[0], ignore_index=True)\n",
      "C:\\Users\\marle\\OneDrive - tbs-education\\00_Masterarbeit\\Code\\notebooks\\..\\src\\co2_modells.py:28: FutureWarning: Comparison of Timestamp with datetime.date is deprecated in order to match the standard library behavior. In a future version these will be considered non-comparable. Use 'ts == pd.Timestamp(date)' or 'ts.date() == date' instead.\n",
      "  df = df[(df[\"Delivery date\"]>=pd.to_datetime(date_from))&(df[\"Delivery date\"]<=pd.to_datetime(date_to))]\n",
      "\u001b[32m2023-08-11 17:23:47.961\u001b[0m | \u001b[1mINFO    \u001b[0m | \u001b[36msrc.co2_modells\u001b[0m:\u001b[36mpreprocessing_modelling\u001b[0m:\u001b[36m38\u001b[0m - \u001b[1m100\u001b[0m\n",
      "\u001b[32m2023-08-11 17:23:47.961\u001b[0m | \u001b[1mINFO    \u001b[0m | \u001b[36msrc.co2_modells\u001b[0m:\u001b[36mco2_modell\u001b[0m:\u001b[36m71\u001b[0m - \u001b[1m0.4\u001b[0m\n"
     ]
    },
    {
     "name": "stdout",
     "output_type": "stream",
     "text": [
      "Total processing time: 12.9375\n",
      "customers 80: 12.953125\n",
      "(100, 7)\n"
     ]
    },
    {
     "name": "stderr",
     "output_type": "stream",
     "text": [
      "C:\\Users\\marle\\OneDrive - tbs-education\\00_Masterarbeit\\Code\\notebooks\\..\\src\\create_solution.py:74: FutureWarning: Dropping of nuisance columns in DataFrame reductions (with 'numeric_only=None') is deprecated; in a future version this will raise TypeError.  Select only valid columns before calling the reduction.\n",
      "  distances['Dmin'] = distances.min(axis=1)\n"
     ]
    },
    {
     "name": "stdout",
     "output_type": "stream",
     "text": [
      "(31, 7)\n",
      "(51, 11)\n"
     ]
    },
    {
     "name": "stderr",
     "output_type": "stream",
     "text": [
      "\u001b[32m2023-08-11 17:23:56.209\u001b[0m | \u001b[1mINFO    \u001b[0m | \u001b[36msrc.evaluation_railroad\u001b[0m:\u001b[36mevaluate_solution_drop\u001b[0m:\u001b[36m406\u001b[0m - \u001b[1mDropping T6\u001b[0m\n",
      "\u001b[32m2023-08-11 17:23:57.229\u001b[0m | \u001b[1mINFO    \u001b[0m | \u001b[36msrc.evaluation_railroad\u001b[0m:\u001b[36mevaluate_solution_drop\u001b[0m:\u001b[36m406\u001b[0m - \u001b[1mDropping T5\u001b[0m\n",
      "\u001b[32m2023-08-11 17:23:59.274\u001b[0m | \u001b[1mINFO    \u001b[0m | \u001b[36msrc.evaluation_railroad\u001b[0m:\u001b[36mevaluate_solution_drop\u001b[0m:\u001b[36m406\u001b[0m - \u001b[1mDropping T9\u001b[0m\n",
      "C:\\Users\\marle\\AppData\\Local\\Temp\\ipykernel_29704\\614920883.py:28: FutureWarning: The frame.append method is deprecated and will be removed from pandas in a future version. Use pandas.concat instead.\n",
      "  df_results_processing_time = df_results_processing_time.append(co2_modell(df_processing_time.head(i), df_distance_matrix, dict_terminals_process, list_mondays[1], list_mondays[2], country = \"france\", algorithm = algorithm)[0], ignore_index=True)\n",
      "C:\\Users\\marle\\OneDrive - tbs-education\\00_Masterarbeit\\Code\\notebooks\\..\\src\\co2_modells.py:28: FutureWarning: Comparison of Timestamp with datetime.date is deprecated in order to match the standard library behavior. In a future version these will be considered non-comparable. Use 'ts == pd.Timestamp(date)' or 'ts.date() == date' instead.\n",
      "  df = df[(df[\"Delivery date\"]>=pd.to_datetime(date_from))&(df[\"Delivery date\"]<=pd.to_datetime(date_to))]\n",
      "\u001b[32m2023-08-11 17:24:01.331\u001b[0m | \u001b[1mINFO    \u001b[0m | \u001b[36msrc.co2_modells\u001b[0m:\u001b[36mpreprocessing_modelling\u001b[0m:\u001b[36m38\u001b[0m - \u001b[1m100\u001b[0m\n",
      "\u001b[32m2023-08-11 17:24:01.331\u001b[0m | \u001b[1mINFO    \u001b[0m | \u001b[36msrc.co2_modells\u001b[0m:\u001b[36mco2_modell\u001b[0m:\u001b[36m71\u001b[0m - \u001b[1m0.08\u001b[0m\n"
     ]
    },
    {
     "name": "stdout",
     "output_type": "stream",
     "text": [
      "Total processing time: 12.765625\n",
      "customers 100: 12.765625\n",
      "(20, 7)\n"
     ]
    },
    {
     "name": "stderr",
     "output_type": "stream",
     "text": [
      "C:\\Users\\marle\\OneDrive - tbs-education\\00_Masterarbeit\\Code\\notebooks\\..\\src\\create_solution.py:74: FutureWarning: Dropping of nuisance columns in DataFrame reductions (with 'numeric_only=None') is deprecated; in a future version this will raise TypeError.  Select only valid columns before calling the reduction.\n",
      "  distances['Dmin'] = distances.min(axis=1)\n"
     ]
    },
    {
     "name": "stdout",
     "output_type": "stream",
     "text": [
      "(9, 8)\n",
      "(10, 12)\n"
     ]
    },
    {
     "name": "stderr",
     "output_type": "stream",
     "text": [
      "\u001b[32m2023-08-11 17:24:09.479\u001b[0m | \u001b[1mINFO    \u001b[0m | \u001b[36msrc.evaluation_railroad\u001b[0m:\u001b[36mevaluate_solution_drop\u001b[0m:\u001b[36m406\u001b[0m - \u001b[1mDropping T6\u001b[0m\n",
      "\u001b[32m2023-08-11 17:24:10.501\u001b[0m | \u001b[1mINFO    \u001b[0m | \u001b[36msrc.evaluation_railroad\u001b[0m:\u001b[36mevaluate_solution_drop\u001b[0m:\u001b[36m406\u001b[0m - \u001b[1mDropping T5\u001b[0m\n",
      "\u001b[32m2023-08-11 17:24:11.507\u001b[0m | \u001b[1mINFO    \u001b[0m | \u001b[36msrc.evaluation_railroad\u001b[0m:\u001b[36mevaluate_solution_drop\u001b[0m:\u001b[36m406\u001b[0m - \u001b[1mDropping T1\u001b[0m\n",
      "\u001b[32m2023-08-11 17:24:12.527\u001b[0m | \u001b[1mINFO    \u001b[0m | \u001b[36msrc.evaluation_railroad\u001b[0m:\u001b[36mevaluate_solution_drop\u001b[0m:\u001b[36m406\u001b[0m - \u001b[1mDropping T9\u001b[0m\n",
      "C:\\Users\\marle\\AppData\\Local\\Temp\\ipykernel_29704\\614920883.py:28: FutureWarning: The frame.append method is deprecated and will be removed from pandas in a future version. Use pandas.concat instead.\n",
      "  df_results_processing_time = df_results_processing_time.append(co2_modell(df_processing_time.head(i), df_distance_matrix, dict_terminals_process, list_mondays[1], list_mondays[2], country = \"france\", algorithm = algorithm)[0], ignore_index=True)\n",
      "C:\\Users\\marle\\OneDrive - tbs-education\\00_Masterarbeit\\Code\\notebooks\\..\\src\\co2_modells.py:28: FutureWarning: Comparison of Timestamp with datetime.date is deprecated in order to match the standard library behavior. In a future version these will be considered non-comparable. Use 'ts == pd.Timestamp(date)' or 'ts.date() == date' instead.\n",
      "  df = df[(df[\"Delivery date\"]>=pd.to_datetime(date_from))&(df[\"Delivery date\"]<=pd.to_datetime(date_to))]\n",
      "\u001b[32m2023-08-11 17:24:13.562\u001b[0m | \u001b[1mINFO    \u001b[0m | \u001b[36msrc.co2_modells\u001b[0m:\u001b[36mpreprocessing_modelling\u001b[0m:\u001b[36m38\u001b[0m - \u001b[1m100\u001b[0m\n",
      "\u001b[32m2023-08-11 17:24:13.562\u001b[0m | \u001b[1mINFO    \u001b[0m | \u001b[36msrc.co2_modells\u001b[0m:\u001b[36mco2_modell\u001b[0m:\u001b[36m71\u001b[0m - \u001b[1m0.16\u001b[0m\n"
     ]
    },
    {
     "name": "stdout",
     "output_type": "stream",
     "text": [
      "Total processing time: 11.625\n",
      "customers 20: 11.625\n",
      "(40, 7)\n"
     ]
    },
    {
     "name": "stderr",
     "output_type": "stream",
     "text": [
      "C:\\Users\\marle\\OneDrive - tbs-education\\00_Masterarbeit\\Code\\notebooks\\..\\src\\create_solution.py:74: FutureWarning: Dropping of nuisance columns in DataFrame reductions (with 'numeric_only=None') is deprecated; in a future version this will raise TypeError.  Select only valid columns before calling the reduction.\n",
      "  distances['Dmin'] = distances.min(axis=1)\n"
     ]
    },
    {
     "name": "stdout",
     "output_type": "stream",
     "text": [
      "(15, 8)\n",
      "(21, 12)\n"
     ]
    },
    {
     "name": "stderr",
     "output_type": "stream",
     "text": [
      "\u001b[32m2023-08-11 17:24:21.856\u001b[0m | \u001b[1mINFO    \u001b[0m | \u001b[36msrc.evaluation_railroad\u001b[0m:\u001b[36mevaluate_solution_drop\u001b[0m:\u001b[36m406\u001b[0m - \u001b[1mDropping T6\u001b[0m\n",
      "\u001b[32m2023-08-11 17:24:22.883\u001b[0m | \u001b[1mINFO    \u001b[0m | \u001b[36msrc.evaluation_railroad\u001b[0m:\u001b[36mevaluate_solution_drop\u001b[0m:\u001b[36m406\u001b[0m - \u001b[1mDropping T5\u001b[0m\n",
      "\u001b[32m2023-08-11 17:24:23.946\u001b[0m | \u001b[1mINFO    \u001b[0m | \u001b[36msrc.evaluation_railroad\u001b[0m:\u001b[36mevaluate_solution_drop\u001b[0m:\u001b[36m406\u001b[0m - \u001b[1mDropping T1\u001b[0m\n",
      "\u001b[32m2023-08-11 17:24:25.029\u001b[0m | \u001b[1mINFO    \u001b[0m | \u001b[36msrc.evaluation_railroad\u001b[0m:\u001b[36mevaluate_solution_drop\u001b[0m:\u001b[36m406\u001b[0m - \u001b[1mDropping T9\u001b[0m\n",
      "C:\\Users\\marle\\AppData\\Local\\Temp\\ipykernel_29704\\614920883.py:28: FutureWarning: The frame.append method is deprecated and will be removed from pandas in a future version. Use pandas.concat instead.\n",
      "  df_results_processing_time = df_results_processing_time.append(co2_modell(df_processing_time.head(i), df_distance_matrix, dict_terminals_process, list_mondays[1], list_mondays[2], country = \"france\", algorithm = algorithm)[0], ignore_index=True)\n",
      "C:\\Users\\marle\\OneDrive - tbs-education\\00_Masterarbeit\\Code\\notebooks\\..\\src\\co2_modells.py:28: FutureWarning: Comparison of Timestamp with datetime.date is deprecated in order to match the standard library behavior. In a future version these will be considered non-comparable. Use 'ts == pd.Timestamp(date)' or 'ts.date() == date' instead.\n",
      "  df = df[(df[\"Delivery date\"]>=pd.to_datetime(date_from))&(df[\"Delivery date\"]<=pd.to_datetime(date_to))]\n",
      "\u001b[32m2023-08-11 17:24:26.066\u001b[0m | \u001b[1mINFO    \u001b[0m | \u001b[36msrc.co2_modells\u001b[0m:\u001b[36mpreprocessing_modelling\u001b[0m:\u001b[36m38\u001b[0m - \u001b[1m100\u001b[0m\n",
      "\u001b[32m2023-08-11 17:24:26.091\u001b[0m | \u001b[1mINFO    \u001b[0m | \u001b[36msrc.co2_modells\u001b[0m:\u001b[36mco2_modell\u001b[0m:\u001b[36m71\u001b[0m - \u001b[1m0.24\u001b[0m\n"
     ]
    },
    {
     "name": "stdout",
     "output_type": "stream",
     "text": [
      "Total processing time: 11.90625\n",
      "customers 40: 11.921875\n",
      "(60, 7)\n"
     ]
    },
    {
     "name": "stderr",
     "output_type": "stream",
     "text": [
      "C:\\Users\\marle\\OneDrive - tbs-education\\00_Masterarbeit\\Code\\notebooks\\..\\src\\create_solution.py:74: FutureWarning: Dropping of nuisance columns in DataFrame reductions (with 'numeric_only=None') is deprecated; in a future version this will raise TypeError.  Select only valid columns before calling the reduction.\n",
      "  distances['Dmin'] = distances.min(axis=1)\n"
     ]
    },
    {
     "name": "stdout",
     "output_type": "stream",
     "text": [
      "(21, 8)\n",
      "(29, 12)\n"
     ]
    },
    {
     "name": "stderr",
     "output_type": "stream",
     "text": [
      "\u001b[32m2023-08-11 17:24:34.246\u001b[0m | \u001b[1mINFO    \u001b[0m | \u001b[36msrc.evaluation_railroad\u001b[0m:\u001b[36mevaluate_solution_drop\u001b[0m:\u001b[36m406\u001b[0m - \u001b[1mDropping T6\u001b[0m\n",
      "\u001b[32m2023-08-11 17:24:35.250\u001b[0m | \u001b[1mINFO    \u001b[0m | \u001b[36msrc.evaluation_railroad\u001b[0m:\u001b[36mevaluate_solution_drop\u001b[0m:\u001b[36m406\u001b[0m - \u001b[1mDropping T5\u001b[0m\n",
      "\u001b[32m2023-08-11 17:24:36.286\u001b[0m | \u001b[1mINFO    \u001b[0m | \u001b[36msrc.evaluation_railroad\u001b[0m:\u001b[36mevaluate_solution_drop\u001b[0m:\u001b[36m406\u001b[0m - \u001b[1mDropping T1\u001b[0m\n",
      "\u001b[32m2023-08-11 17:24:37.340\u001b[0m | \u001b[1mINFO    \u001b[0m | \u001b[36msrc.evaluation_railroad\u001b[0m:\u001b[36mevaluate_solution_drop\u001b[0m:\u001b[36m406\u001b[0m - \u001b[1mDropping T9\u001b[0m\n",
      "C:\\Users\\marle\\AppData\\Local\\Temp\\ipykernel_29704\\614920883.py:28: FutureWarning: The frame.append method is deprecated and will be removed from pandas in a future version. Use pandas.concat instead.\n",
      "  df_results_processing_time = df_results_processing_time.append(co2_modell(df_processing_time.head(i), df_distance_matrix, dict_terminals_process, list_mondays[1], list_mondays[2], country = \"france\", algorithm = algorithm)[0], ignore_index=True)\n",
      "C:\\Users\\marle\\OneDrive - tbs-education\\00_Masterarbeit\\Code\\notebooks\\..\\src\\co2_modells.py:28: FutureWarning: Comparison of Timestamp with datetime.date is deprecated in order to match the standard library behavior. In a future version these will be considered non-comparable. Use 'ts == pd.Timestamp(date)' or 'ts.date() == date' instead.\n",
      "  df = df[(df[\"Delivery date\"]>=pd.to_datetime(date_from))&(df[\"Delivery date\"]<=pd.to_datetime(date_to))]\n",
      "\u001b[32m2023-08-11 17:24:38.427\u001b[0m | \u001b[1mINFO    \u001b[0m | \u001b[36msrc.co2_modells\u001b[0m:\u001b[36mpreprocessing_modelling\u001b[0m:\u001b[36m38\u001b[0m - \u001b[1m100\u001b[0m\n",
      "\u001b[32m2023-08-11 17:24:38.455\u001b[0m | \u001b[1mINFO    \u001b[0m | \u001b[36msrc.co2_modells\u001b[0m:\u001b[36mco2_modell\u001b[0m:\u001b[36m71\u001b[0m - \u001b[1m0.32\u001b[0m\n"
     ]
    },
    {
     "name": "stdout",
     "output_type": "stream",
     "text": [
      "Total processing time: 11.859375\n",
      "customers 60: 11.875\n",
      "(80, 7)\n"
     ]
    },
    {
     "name": "stderr",
     "output_type": "stream",
     "text": [
      "C:\\Users\\marle\\OneDrive - tbs-education\\00_Masterarbeit\\Code\\notebooks\\..\\src\\create_solution.py:74: FutureWarning: Dropping of nuisance columns in DataFrame reductions (with 'numeric_only=None') is deprecated; in a future version this will raise TypeError.  Select only valid columns before calling the reduction.\n",
      "  distances['Dmin'] = distances.min(axis=1)\n"
     ]
    },
    {
     "name": "stdout",
     "output_type": "stream",
     "text": [
      "(27, 8)\n",
      "(42, 12)\n"
     ]
    },
    {
     "name": "stderr",
     "output_type": "stream",
     "text": [
      "\u001b[32m2023-08-11 17:24:47.874\u001b[0m | \u001b[1mINFO    \u001b[0m | \u001b[36msrc.evaluation_railroad\u001b[0m:\u001b[36mevaluate_solution_drop\u001b[0m:\u001b[36m406\u001b[0m - \u001b[1mDropping T6\u001b[0m\n",
      "\u001b[32m2023-08-11 17:24:48.926\u001b[0m | \u001b[1mINFO    \u001b[0m | \u001b[36msrc.evaluation_railroad\u001b[0m:\u001b[36mevaluate_solution_drop\u001b[0m:\u001b[36m406\u001b[0m - \u001b[1mDropping T5\u001b[0m\n",
      "\u001b[32m2023-08-11 17:24:49.977\u001b[0m | \u001b[1mINFO    \u001b[0m | \u001b[36msrc.evaluation_railroad\u001b[0m:\u001b[36mevaluate_solution_drop\u001b[0m:\u001b[36m406\u001b[0m - \u001b[1mDropping T1\u001b[0m\n",
      "\u001b[32m2023-08-11 17:24:50.981\u001b[0m | \u001b[1mINFO    \u001b[0m | \u001b[36msrc.evaluation_railroad\u001b[0m:\u001b[36mevaluate_solution_drop\u001b[0m:\u001b[36m406\u001b[0m - \u001b[1mDropping T9\u001b[0m\n",
      "C:\\Users\\marle\\AppData\\Local\\Temp\\ipykernel_29704\\614920883.py:28: FutureWarning: The frame.append method is deprecated and will be removed from pandas in a future version. Use pandas.concat instead.\n",
      "  df_results_processing_time = df_results_processing_time.append(co2_modell(df_processing_time.head(i), df_distance_matrix, dict_terminals_process, list_mondays[1], list_mondays[2], country = \"france\", algorithm = algorithm)[0], ignore_index=True)\n",
      "C:\\Users\\marle\\OneDrive - tbs-education\\00_Masterarbeit\\Code\\notebooks\\..\\src\\co2_modells.py:28: FutureWarning: Comparison of Timestamp with datetime.date is deprecated in order to match the standard library behavior. In a future version these will be considered non-comparable. Use 'ts == pd.Timestamp(date)' or 'ts.date() == date' instead.\n",
      "  df = df[(df[\"Delivery date\"]>=pd.to_datetime(date_from))&(df[\"Delivery date\"]<=pd.to_datetime(date_to))]\n",
      "\u001b[32m2023-08-11 17:24:54.057\u001b[0m | \u001b[1mINFO    \u001b[0m | \u001b[36msrc.co2_modells\u001b[0m:\u001b[36mpreprocessing_modelling\u001b[0m:\u001b[36m38\u001b[0m - \u001b[1m100\u001b[0m\n",
      "\u001b[32m2023-08-11 17:24:54.073\u001b[0m | \u001b[1mINFO    \u001b[0m | \u001b[36msrc.co2_modells\u001b[0m:\u001b[36mco2_modell\u001b[0m:\u001b[36m71\u001b[0m - \u001b[1m0.4\u001b[0m\n"
     ]
    },
    {
     "name": "stdout",
     "output_type": "stream",
     "text": [
      "Total processing time: 15.03125\n",
      "customers 80: 15.03125\n",
      "(100, 7)\n"
     ]
    },
    {
     "name": "stderr",
     "output_type": "stream",
     "text": [
      "C:\\Users\\marle\\OneDrive - tbs-education\\00_Masterarbeit\\Code\\notebooks\\..\\src\\create_solution.py:74: FutureWarning: Dropping of nuisance columns in DataFrame reductions (with 'numeric_only=None') is deprecated; in a future version this will raise TypeError.  Select only valid columns before calling the reduction.\n",
      "  distances['Dmin'] = distances.min(axis=1)\n"
     ]
    },
    {
     "name": "stdout",
     "output_type": "stream",
     "text": [
      "(31, 8)\n",
      "(49, 12)\n"
     ]
    },
    {
     "name": "stderr",
     "output_type": "stream",
     "text": [
      "\u001b[32m2023-08-11 17:25:03.367\u001b[0m | \u001b[1mINFO    \u001b[0m | \u001b[36msrc.evaluation_railroad\u001b[0m:\u001b[36mevaluate_solution_drop\u001b[0m:\u001b[36m406\u001b[0m - \u001b[1mDropping T6\u001b[0m\n",
      "\u001b[32m2023-08-11 17:25:04.403\u001b[0m | \u001b[1mINFO    \u001b[0m | \u001b[36msrc.evaluation_railroad\u001b[0m:\u001b[36mevaluate_solution_drop\u001b[0m:\u001b[36m406\u001b[0m - \u001b[1mDropping T5\u001b[0m\n",
      "\u001b[32m2023-08-11 17:25:05.471\u001b[0m | \u001b[1mINFO    \u001b[0m | \u001b[36msrc.evaluation_railroad\u001b[0m:\u001b[36mevaluate_solution_drop\u001b[0m:\u001b[36m406\u001b[0m - \u001b[1mDropping T1\u001b[0m\n",
      "\u001b[32m2023-08-11 17:25:07.574\u001b[0m | \u001b[1mINFO    \u001b[0m | \u001b[36msrc.evaluation_railroad\u001b[0m:\u001b[36mevaluate_solution_drop\u001b[0m:\u001b[36m406\u001b[0m - \u001b[1mDropping T2\u001b[0m\n",
      "C:\\Users\\marle\\AppData\\Local\\Temp\\ipykernel_29704\\614920883.py:28: FutureWarning: The frame.append method is deprecated and will be removed from pandas in a future version. Use pandas.concat instead.\n",
      "  df_results_processing_time = df_results_processing_time.append(co2_modell(df_processing_time.head(i), df_distance_matrix, dict_terminals_process, list_mondays[1], list_mondays[2], country = \"france\", algorithm = algorithm)[0], ignore_index=True)\n",
      "C:\\Users\\marle\\OneDrive - tbs-education\\00_Masterarbeit\\Code\\notebooks\\..\\src\\co2_modells.py:28: FutureWarning: Comparison of Timestamp with datetime.date is deprecated in order to match the standard library behavior. In a future version these will be considered non-comparable. Use 'ts == pd.Timestamp(date)' or 'ts.date() == date' instead.\n",
      "  df = df[(df[\"Delivery date\"]>=pd.to_datetime(date_from))&(df[\"Delivery date\"]<=pd.to_datetime(date_to))]\n",
      "\u001b[32m2023-08-11 17:25:09.630\u001b[0m | \u001b[1mINFO    \u001b[0m | \u001b[36msrc.co2_modells\u001b[0m:\u001b[36mpreprocessing_modelling\u001b[0m:\u001b[36m38\u001b[0m - \u001b[1m100\u001b[0m\n",
      "\u001b[32m2023-08-11 17:25:09.645\u001b[0m | \u001b[1mINFO    \u001b[0m | \u001b[36msrc.co2_modells\u001b[0m:\u001b[36mco2_modell\u001b[0m:\u001b[36m71\u001b[0m - \u001b[1m0.08\u001b[0m\n"
     ]
    },
    {
     "name": "stdout",
     "output_type": "stream",
     "text": [
      "Total processing time: 15.25\n",
      "customers 100: 15.25\n",
      "(20, 7)\n"
     ]
    },
    {
     "name": "stderr",
     "output_type": "stream",
     "text": [
      "C:\\Users\\marle\\OneDrive - tbs-education\\00_Masterarbeit\\Code\\notebooks\\..\\src\\create_solution.py:74: FutureWarning: Dropping of nuisance columns in DataFrame reductions (with 'numeric_only=None') is deprecated; in a future version this will raise TypeError.  Select only valid columns before calling the reduction.\n",
      "  distances['Dmin'] = distances.min(axis=1)\n"
     ]
    },
    {
     "name": "stdout",
     "output_type": "stream",
     "text": [
      "(9, 10)\n",
      "(9, 14)\n"
     ]
    },
    {
     "name": "stderr",
     "output_type": "stream",
     "text": [
      "\u001b[32m2023-08-11 17:25:19.870\u001b[0m | \u001b[1mINFO    \u001b[0m | \u001b[36msrc.evaluation_railroad\u001b[0m:\u001b[36mevaluate_solution_drop\u001b[0m:\u001b[36m406\u001b[0m - \u001b[1mDropping T5\u001b[0m\n",
      "\u001b[32m2023-08-11 17:25:21.894\u001b[0m | \u001b[1mINFO    \u001b[0m | \u001b[36msrc.evaluation_railroad\u001b[0m:\u001b[36mevaluate_solution_drop\u001b[0m:\u001b[36m406\u001b[0m - \u001b[1mDropping T9\u001b[0m\n",
      "\u001b[32m2023-08-11 17:25:22.898\u001b[0m | \u001b[1mINFO    \u001b[0m | \u001b[36msrc.evaluation_railroad\u001b[0m:\u001b[36mevaluate_solution_drop\u001b[0m:\u001b[36m406\u001b[0m - \u001b[1mDropping T7\u001b[0m\n",
      "\u001b[32m2023-08-11 17:25:24.922\u001b[0m | \u001b[1mINFO    \u001b[0m | \u001b[36msrc.evaluation_railroad\u001b[0m:\u001b[36mevaluate_solution_drop\u001b[0m:\u001b[36m406\u001b[0m - \u001b[1mDropping T6\u001b[0m\n",
      "\u001b[32m2023-08-11 17:25:25.928\u001b[0m | \u001b[1mINFO    \u001b[0m | \u001b[36msrc.evaluation_railroad\u001b[0m:\u001b[36mevaluate_solution_drop\u001b[0m:\u001b[36m406\u001b[0m - \u001b[1mDropping T1\u001b[0m\n",
      "C:\\Users\\marle\\AppData\\Local\\Temp\\ipykernel_29704\\614920883.py:28: FutureWarning: The frame.append method is deprecated and will be removed from pandas in a future version. Use pandas.concat instead.\n",
      "  df_results_processing_time = df_results_processing_time.append(co2_modell(df_processing_time.head(i), df_distance_matrix, dict_terminals_process, list_mondays[1], list_mondays[2], country = \"france\", algorithm = algorithm)[0], ignore_index=True)\n",
      "C:\\Users\\marle\\OneDrive - tbs-education\\00_Masterarbeit\\Code\\notebooks\\..\\src\\co2_modells.py:28: FutureWarning: Comparison of Timestamp with datetime.date is deprecated in order to match the standard library behavior. In a future version these will be considered non-comparable. Use 'ts == pd.Timestamp(date)' or 'ts.date() == date' instead.\n",
      "  df = df[(df[\"Delivery date\"]>=pd.to_datetime(date_from))&(df[\"Delivery date\"]<=pd.to_datetime(date_to))]\n",
      "\u001b[32m2023-08-11 17:25:26.965\u001b[0m | \u001b[1mINFO    \u001b[0m | \u001b[36msrc.co2_modells\u001b[0m:\u001b[36mpreprocessing_modelling\u001b[0m:\u001b[36m38\u001b[0m - \u001b[1m100\u001b[0m\n",
      "\u001b[32m2023-08-11 17:25:26.983\u001b[0m | \u001b[1mINFO    \u001b[0m | \u001b[36msrc.co2_modells\u001b[0m:\u001b[36mco2_modell\u001b[0m:\u001b[36m71\u001b[0m - \u001b[1m0.16\u001b[0m\n"
     ]
    },
    {
     "name": "stdout",
     "output_type": "stream",
     "text": [
      "Total processing time: 16.65625\n",
      "customers 20: 16.65625\n",
      "(40, 7)\n"
     ]
    },
    {
     "name": "stderr",
     "output_type": "stream",
     "text": [
      "C:\\Users\\marle\\OneDrive - tbs-education\\00_Masterarbeit\\Code\\notebooks\\..\\src\\create_solution.py:74: FutureWarning: Dropping of nuisance columns in DataFrame reductions (with 'numeric_only=None') is deprecated; in a future version this will raise TypeError.  Select only valid columns before calling the reduction.\n",
      "  distances['Dmin'] = distances.min(axis=1)\n"
     ]
    },
    {
     "name": "stdout",
     "output_type": "stream",
     "text": [
      "(15, 10)\n",
      "(19, 14)\n"
     ]
    },
    {
     "name": "stderr",
     "output_type": "stream",
     "text": [
      "\u001b[32m2023-08-11 17:25:36.244\u001b[0m | \u001b[1mINFO    \u001b[0m | \u001b[36msrc.evaluation_railroad\u001b[0m:\u001b[36mevaluate_solution_drop\u001b[0m:\u001b[36m406\u001b[0m - \u001b[1mDropping T6\u001b[0m\n",
      "\u001b[32m2023-08-11 17:25:37.297\u001b[0m | \u001b[1mINFO    \u001b[0m | \u001b[36msrc.evaluation_railroad\u001b[0m:\u001b[36mevaluate_solution_drop\u001b[0m:\u001b[36m406\u001b[0m - \u001b[1mDropping T5\u001b[0m\n",
      "\u001b[32m2023-08-11 17:25:38.316\u001b[0m | \u001b[1mINFO    \u001b[0m | \u001b[36msrc.evaluation_railroad\u001b[0m:\u001b[36mevaluate_solution_drop\u001b[0m:\u001b[36m406\u001b[0m - \u001b[1mDropping T1\u001b[0m\n",
      "\u001b[32m2023-08-11 17:25:39.382\u001b[0m | \u001b[1mINFO    \u001b[0m | \u001b[36msrc.evaluation_railroad\u001b[0m:\u001b[36mevaluate_solution_drop\u001b[0m:\u001b[36m406\u001b[0m - \u001b[1mDropping T9\u001b[0m\n",
      "\u001b[32m2023-08-11 17:25:40.403\u001b[0m | \u001b[1mINFO    \u001b[0m | \u001b[36msrc.evaluation_railroad\u001b[0m:\u001b[36mevaluate_solution_drop\u001b[0m:\u001b[36m406\u001b[0m - \u001b[1mDropping T7\u001b[0m\n",
      "C:\\Users\\marle\\AppData\\Local\\Temp\\ipykernel_29704\\614920883.py:28: FutureWarning: The frame.append method is deprecated and will be removed from pandas in a future version. Use pandas.concat instead.\n",
      "  df_results_processing_time = df_results_processing_time.append(co2_modell(df_processing_time.head(i), df_distance_matrix, dict_terminals_process, list_mondays[1], list_mondays[2], country = \"france\", algorithm = algorithm)[0], ignore_index=True)\n",
      "C:\\Users\\marle\\OneDrive - tbs-education\\00_Masterarbeit\\Code\\notebooks\\..\\src\\co2_modells.py:28: FutureWarning: Comparison of Timestamp with datetime.date is deprecated in order to match the standard library behavior. In a future version these will be considered non-comparable. Use 'ts == pd.Timestamp(date)' or 'ts.date() == date' instead.\n",
      "  df = df[(df[\"Delivery date\"]>=pd.to_datetime(date_from))&(df[\"Delivery date\"]<=pd.to_datetime(date_to))]\n",
      "\u001b[32m2023-08-11 17:25:41.438\u001b[0m | \u001b[1mINFO    \u001b[0m | \u001b[36msrc.co2_modells\u001b[0m:\u001b[36mpreprocessing_modelling\u001b[0m:\u001b[36m38\u001b[0m - \u001b[1m100\u001b[0m\n",
      "\u001b[32m2023-08-11 17:25:41.470\u001b[0m | \u001b[1mINFO    \u001b[0m | \u001b[36msrc.co2_modells\u001b[0m:\u001b[36mco2_modell\u001b[0m:\u001b[36m71\u001b[0m - \u001b[1m0.24\u001b[0m\n"
     ]
    },
    {
     "name": "stdout",
     "output_type": "stream",
     "text": [
      "Total processing time: 13.71875\n",
      "customers 40: 13.734375\n",
      "(60, 7)\n"
     ]
    },
    {
     "name": "stderr",
     "output_type": "stream",
     "text": [
      "C:\\Users\\marle\\OneDrive - tbs-education\\00_Masterarbeit\\Code\\notebooks\\..\\src\\create_solution.py:74: FutureWarning: Dropping of nuisance columns in DataFrame reductions (with 'numeric_only=None') is deprecated; in a future version this will raise TypeError.  Select only valid columns before calling the reduction.\n",
      "  distances['Dmin'] = distances.min(axis=1)\n"
     ]
    },
    {
     "name": "stdout",
     "output_type": "stream",
     "text": [
      "(20, 10)\n",
      "(26, 14)\n"
     ]
    },
    {
     "name": "stderr",
     "output_type": "stream",
     "text": [
      "\u001b[32m2023-08-11 17:25:50.717\u001b[0m | \u001b[1mINFO    \u001b[0m | \u001b[36msrc.evaluation_railroad\u001b[0m:\u001b[36mevaluate_solution_drop\u001b[0m:\u001b[36m406\u001b[0m - \u001b[1mDropping T6\u001b[0m\n",
      "\u001b[32m2023-08-11 17:25:51.739\u001b[0m | \u001b[1mINFO    \u001b[0m | \u001b[36msrc.evaluation_railroad\u001b[0m:\u001b[36mevaluate_solution_drop\u001b[0m:\u001b[36m406\u001b[0m - \u001b[1mDropping T5\u001b[0m\n",
      "\u001b[32m2023-08-11 17:25:52.759\u001b[0m | \u001b[1mINFO    \u001b[0m | \u001b[36msrc.evaluation_railroad\u001b[0m:\u001b[36mevaluate_solution_drop\u001b[0m:\u001b[36m406\u001b[0m - \u001b[1mDropping T1\u001b[0m\n",
      "\u001b[32m2023-08-11 17:25:53.779\u001b[0m | \u001b[1mINFO    \u001b[0m | \u001b[36msrc.evaluation_railroad\u001b[0m:\u001b[36mevaluate_solution_drop\u001b[0m:\u001b[36m406\u001b[0m - \u001b[1mDropping T9\u001b[0m\n",
      "\u001b[32m2023-08-11 17:25:54.813\u001b[0m | \u001b[1mINFO    \u001b[0m | \u001b[36msrc.evaluation_railroad\u001b[0m:\u001b[36mevaluate_solution_drop\u001b[0m:\u001b[36m406\u001b[0m - \u001b[1mDropping T7\u001b[0m\n",
      "C:\\Users\\marle\\AppData\\Local\\Temp\\ipykernel_29704\\614920883.py:28: FutureWarning: The frame.append method is deprecated and will be removed from pandas in a future version. Use pandas.concat instead.\n",
      "  df_results_processing_time = df_results_processing_time.append(co2_modell(df_processing_time.head(i), df_distance_matrix, dict_terminals_process, list_mondays[1], list_mondays[2], country = \"france\", algorithm = algorithm)[0], ignore_index=True)\n",
      "C:\\Users\\marle\\OneDrive - tbs-education\\00_Masterarbeit\\Code\\notebooks\\..\\src\\co2_modells.py:28: FutureWarning: Comparison of Timestamp with datetime.date is deprecated in order to match the standard library behavior. In a future version these will be considered non-comparable. Use 'ts == pd.Timestamp(date)' or 'ts.date() == date' instead.\n",
      "  df = df[(df[\"Delivery date\"]>=pd.to_datetime(date_from))&(df[\"Delivery date\"]<=pd.to_datetime(date_to))]\n",
      "\u001b[32m2023-08-11 17:25:55.900\u001b[0m | \u001b[1mINFO    \u001b[0m | \u001b[36msrc.co2_modells\u001b[0m:\u001b[36mpreprocessing_modelling\u001b[0m:\u001b[36m38\u001b[0m - \u001b[1m100\u001b[0m\n",
      "\u001b[32m2023-08-11 17:25:55.912\u001b[0m | \u001b[1mINFO    \u001b[0m | \u001b[36msrc.co2_modells\u001b[0m:\u001b[36mco2_modell\u001b[0m:\u001b[36m71\u001b[0m - \u001b[1m0.32\u001b[0m\n"
     ]
    },
    {
     "name": "stdout",
     "output_type": "stream",
     "text": [
      "Total processing time: 14.03125\n",
      "customers 60: 14.03125\n",
      "(80, 7)\n"
     ]
    },
    {
     "name": "stderr",
     "output_type": "stream",
     "text": [
      "C:\\Users\\marle\\OneDrive - tbs-education\\00_Masterarbeit\\Code\\notebooks\\..\\src\\create_solution.py:74: FutureWarning: Dropping of nuisance columns in DataFrame reductions (with 'numeric_only=None') is deprecated; in a future version this will raise TypeError.  Select only valid columns before calling the reduction.\n",
      "  distances['Dmin'] = distances.min(axis=1)\n"
     ]
    },
    {
     "name": "stdout",
     "output_type": "stream",
     "text": [
      "(25, 10)\n",
      "(35, 14)\n"
     ]
    },
    {
     "name": "stderr",
     "output_type": "stream",
     "text": [
      "\u001b[32m2023-08-11 17:26:06.386\u001b[0m | \u001b[1mINFO    \u001b[0m | \u001b[36msrc.evaluation_railroad\u001b[0m:\u001b[36mevaluate_solution_drop\u001b[0m:\u001b[36m406\u001b[0m - \u001b[1mDropping T6\u001b[0m\n",
      "\u001b[32m2023-08-11 17:26:07.407\u001b[0m | \u001b[1mINFO    \u001b[0m | \u001b[36msrc.evaluation_railroad\u001b[0m:\u001b[36mevaluate_solution_drop\u001b[0m:\u001b[36m406\u001b[0m - \u001b[1mDropping T5\u001b[0m\n",
      "\u001b[32m2023-08-11 17:26:08.473\u001b[0m | \u001b[1mINFO    \u001b[0m | \u001b[36msrc.evaluation_railroad\u001b[0m:\u001b[36mevaluate_solution_drop\u001b[0m:\u001b[36m406\u001b[0m - \u001b[1mDropping T1\u001b[0m\n",
      "\u001b[32m2023-08-11 17:26:09.542\u001b[0m | \u001b[1mINFO    \u001b[0m | \u001b[36msrc.evaluation_railroad\u001b[0m:\u001b[36mevaluate_solution_drop\u001b[0m:\u001b[36m406\u001b[0m - \u001b[1mDropping T9\u001b[0m\n",
      "\u001b[32m2023-08-11 17:26:10.656\u001b[0m | \u001b[1mINFO    \u001b[0m | \u001b[36msrc.evaluation_railroad\u001b[0m:\u001b[36mevaluate_solution_drop\u001b[0m:\u001b[36m406\u001b[0m - \u001b[1mDropping T2\u001b[0m\n",
      "C:\\Users\\marle\\AppData\\Local\\Temp\\ipykernel_29704\\614920883.py:28: FutureWarning: The frame.append method is deprecated and will be removed from pandas in a future version. Use pandas.concat instead.\n",
      "  df_results_processing_time = df_results_processing_time.append(co2_modell(df_processing_time.head(i), df_distance_matrix, dict_terminals_process, list_mondays[1], list_mondays[2], country = \"france\", algorithm = algorithm)[0], ignore_index=True)\n",
      "C:\\Users\\marle\\OneDrive - tbs-education\\00_Masterarbeit\\Code\\notebooks\\..\\src\\co2_modells.py:28: FutureWarning: Comparison of Timestamp with datetime.date is deprecated in order to match the standard library behavior. In a future version these will be considered non-comparable. Use 'ts == pd.Timestamp(date)' or 'ts.date() == date' instead.\n",
      "  df = df[(df[\"Delivery date\"]>=pd.to_datetime(date_from))&(df[\"Delivery date\"]<=pd.to_datetime(date_to))]\n",
      "\u001b[32m2023-08-11 17:26:13.826\u001b[0m | \u001b[1mINFO    \u001b[0m | \u001b[36msrc.co2_modells\u001b[0m:\u001b[36mpreprocessing_modelling\u001b[0m:\u001b[36m38\u001b[0m - \u001b[1m100\u001b[0m\n",
      "\u001b[32m2023-08-11 17:26:13.858\u001b[0m | \u001b[1mINFO    \u001b[0m | \u001b[36msrc.co2_modells\u001b[0m:\u001b[36mco2_modell\u001b[0m:\u001b[36m71\u001b[0m - \u001b[1m0.4\u001b[0m\n"
     ]
    },
    {
     "name": "stdout",
     "output_type": "stream",
     "text": [
      "Total processing time: 17.328125\n",
      "customers 80: 17.328125\n",
      "(100, 7)\n"
     ]
    },
    {
     "name": "stderr",
     "output_type": "stream",
     "text": [
      "C:\\Users\\marle\\OneDrive - tbs-education\\00_Masterarbeit\\Code\\notebooks\\..\\src\\create_solution.py:74: FutureWarning: Dropping of nuisance columns in DataFrame reductions (with 'numeric_only=None') is deprecated; in a future version this will raise TypeError.  Select only valid columns before calling the reduction.\n",
      "  distances['Dmin'] = distances.min(axis=1)\n"
     ]
    },
    {
     "name": "stdout",
     "output_type": "stream",
     "text": [
      "(28, 10)\n",
      "(40, 14)\n"
     ]
    },
    {
     "name": "stderr",
     "output_type": "stream",
     "text": [
      "\u001b[32m2023-08-11 17:26:24.502\u001b[0m | \u001b[1mINFO    \u001b[0m | \u001b[36msrc.evaluation_railroad\u001b[0m:\u001b[36mevaluate_solution_drop\u001b[0m:\u001b[36m406\u001b[0m - \u001b[1mDropping T6\u001b[0m\n",
      "\u001b[32m2023-08-11 17:26:25.556\u001b[0m | \u001b[1mINFO    \u001b[0m | \u001b[36msrc.evaluation_railroad\u001b[0m:\u001b[36mevaluate_solution_drop\u001b[0m:\u001b[36m406\u001b[0m - \u001b[1mDropping T5\u001b[0m\n",
      "\u001b[32m2023-08-11 17:26:26.636\u001b[0m | \u001b[1mINFO    \u001b[0m | \u001b[36msrc.evaluation_railroad\u001b[0m:\u001b[36mevaluate_solution_drop\u001b[0m:\u001b[36m406\u001b[0m - \u001b[1mDropping T1\u001b[0m\n",
      "\u001b[32m2023-08-11 17:26:27.686\u001b[0m | \u001b[1mINFO    \u001b[0m | \u001b[36msrc.evaluation_railroad\u001b[0m:\u001b[36mevaluate_solution_drop\u001b[0m:\u001b[36m406\u001b[0m - \u001b[1mDropping T9\u001b[0m\n",
      "\u001b[32m2023-08-11 17:26:28.711\u001b[0m | \u001b[1mINFO    \u001b[0m | \u001b[36msrc.evaluation_railroad\u001b[0m:\u001b[36mevaluate_solution_drop\u001b[0m:\u001b[36m406\u001b[0m - \u001b[1mDropping T2\u001b[0m\n",
      "C:\\Users\\marle\\AppData\\Local\\Temp\\ipykernel_29704\\614920883.py:28: FutureWarning: The frame.append method is deprecated and will be removed from pandas in a future version. Use pandas.concat instead.\n",
      "  df_results_processing_time = df_results_processing_time.append(co2_modell(df_processing_time.head(i), df_distance_matrix, dict_terminals_process, list_mondays[1], list_mondays[2], country = \"france\", algorithm = algorithm)[0], ignore_index=True)\n",
      "C:\\Users\\marle\\OneDrive - tbs-education\\00_Masterarbeit\\Code\\notebooks\\..\\src\\co2_modells.py:28: FutureWarning: Comparison of Timestamp with datetime.date is deprecated in order to match the standard library behavior. In a future version these will be considered non-comparable. Use 'ts == pd.Timestamp(date)' or 'ts.date() == date' instead.\n",
      "  df = df[(df[\"Delivery date\"]>=pd.to_datetime(date_from))&(df[\"Delivery date\"]<=pd.to_datetime(date_to))]\n",
      "\u001b[32m2023-08-11 17:26:31.857\u001b[0m | \u001b[1mINFO    \u001b[0m | \u001b[36msrc.co2_modells\u001b[0m:\u001b[36mpreprocessing_modelling\u001b[0m:\u001b[36m38\u001b[0m - \u001b[1m100\u001b[0m\n",
      "\u001b[32m2023-08-11 17:26:31.883\u001b[0m | \u001b[1mINFO    \u001b[0m | \u001b[36msrc.co2_modells\u001b[0m:\u001b[36mco2_modell\u001b[0m:\u001b[36m71\u001b[0m - \u001b[1m0.08\u001b[0m\n"
     ]
    },
    {
     "name": "stdout",
     "output_type": "stream",
     "text": [
      "Total processing time: 13.96875\n",
      "customers 100: 14.0\n",
      "(20, 7)\n"
     ]
    },
    {
     "name": "stderr",
     "output_type": "stream",
     "text": [
      "C:\\Users\\marle\\OneDrive - tbs-education\\00_Masterarbeit\\Code\\notebooks\\..\\src\\create_solution.py:74: FutureWarning: Dropping of nuisance columns in DataFrame reductions (with 'numeric_only=None') is deprecated; in a future version this will raise TypeError.  Select only valid columns before calling the reduction.\n",
      "  distances['Dmin'] = distances.min(axis=1)\n"
     ]
    },
    {
     "name": "stdout",
     "output_type": "stream",
     "text": [
      "(9, 10)\n",
      "(9, 14)\n"
     ]
    },
    {
     "name": "stderr",
     "output_type": "stream",
     "text": [
      "\u001b[32m2023-08-11 17:26:42.236\u001b[0m | \u001b[1mINFO    \u001b[0m | \u001b[36msrc.evaluation_railroad\u001b[0m:\u001b[36mevaluate_solution_drop\u001b[0m:\u001b[36m406\u001b[0m - \u001b[1mDropping T5\u001b[0m\n",
      "\u001b[32m2023-08-11 17:26:44.280\u001b[0m | \u001b[1mINFO    \u001b[0m | \u001b[36msrc.evaluation_railroad\u001b[0m:\u001b[36mevaluate_solution_drop\u001b[0m:\u001b[36m406\u001b[0m - \u001b[1mDropping T9\u001b[0m\n",
      "\u001b[32m2023-08-11 17:26:45.301\u001b[0m | \u001b[1mINFO    \u001b[0m | \u001b[36msrc.evaluation_railroad\u001b[0m:\u001b[36mevaluate_solution_drop\u001b[0m:\u001b[36m406\u001b[0m - \u001b[1mDropping T7\u001b[0m\n",
      "\u001b[32m2023-08-11 17:26:47.336\u001b[0m | \u001b[1mINFO    \u001b[0m | \u001b[36msrc.evaluation_railroad\u001b[0m:\u001b[36mevaluate_solution_drop\u001b[0m:\u001b[36m406\u001b[0m - \u001b[1mDropping T6\u001b[0m\n",
      "\u001b[32m2023-08-11 17:26:48.370\u001b[0m | \u001b[1mINFO    \u001b[0m | \u001b[36msrc.evaluation_railroad\u001b[0m:\u001b[36mevaluate_solution_drop\u001b[0m:\u001b[36m406\u001b[0m - \u001b[1mDropping T1\u001b[0m\n",
      "C:\\Users\\marle\\AppData\\Local\\Temp\\ipykernel_29704\\614920883.py:28: FutureWarning: The frame.append method is deprecated and will be removed from pandas in a future version. Use pandas.concat instead.\n",
      "  df_results_processing_time = df_results_processing_time.append(co2_modell(df_processing_time.head(i), df_distance_matrix, dict_terminals_process, list_mondays[1], list_mondays[2], country = \"france\", algorithm = algorithm)[0], ignore_index=True)\n",
      "C:\\Users\\marle\\OneDrive - tbs-education\\00_Masterarbeit\\Code\\notebooks\\..\\src\\co2_modells.py:28: FutureWarning: Comparison of Timestamp with datetime.date is deprecated in order to match the standard library behavior. In a future version these will be considered non-comparable. Use 'ts == pd.Timestamp(date)' or 'ts.date() == date' instead.\n",
      "  df = df[(df[\"Delivery date\"]>=pd.to_datetime(date_from))&(df[\"Delivery date\"]<=pd.to_datetime(date_to))]\n",
      "\u001b[32m2023-08-11 17:26:49.495\u001b[0m | \u001b[1mINFO    \u001b[0m | \u001b[36msrc.co2_modells\u001b[0m:\u001b[36mpreprocessing_modelling\u001b[0m:\u001b[36m38\u001b[0m - \u001b[1m100\u001b[0m\n",
      "\u001b[32m2023-08-11 17:26:49.518\u001b[0m | \u001b[1mINFO    \u001b[0m | \u001b[36msrc.co2_modells\u001b[0m:\u001b[36mco2_modell\u001b[0m:\u001b[36m71\u001b[0m - \u001b[1m0.16\u001b[0m\n"
     ]
    },
    {
     "name": "stdout",
     "output_type": "stream",
     "text": [
      "Total processing time: 15.734375\n",
      "customers 20: 15.78125\n",
      "(40, 7)\n"
     ]
    },
    {
     "name": "stderr",
     "output_type": "stream",
     "text": [
      "C:\\Users\\marle\\OneDrive - tbs-education\\00_Masterarbeit\\Code\\notebooks\\..\\src\\create_solution.py:74: FutureWarning: Dropping of nuisance columns in DataFrame reductions (with 'numeric_only=None') is deprecated; in a future version this will raise TypeError.  Select only valid columns before calling the reduction.\n",
      "  distances['Dmin'] = distances.min(axis=1)\n"
     ]
    },
    {
     "name": "stdout",
     "output_type": "stream",
     "text": [
      "(15, 10)\n",
      "(19, 14)\n"
     ]
    },
    {
     "name": "stderr",
     "output_type": "stream",
     "text": [
      "\u001b[32m2023-08-11 17:26:58.639\u001b[0m | \u001b[1mINFO    \u001b[0m | \u001b[36msrc.evaluation_railroad\u001b[0m:\u001b[36mevaluate_solution_drop\u001b[0m:\u001b[36m406\u001b[0m - \u001b[1mDropping T6\u001b[0m\n",
      "\u001b[32m2023-08-11 17:26:59.662\u001b[0m | \u001b[1mINFO    \u001b[0m | \u001b[36msrc.evaluation_railroad\u001b[0m:\u001b[36mevaluate_solution_drop\u001b[0m:\u001b[36m406\u001b[0m - \u001b[1mDropping T5\u001b[0m\n",
      "\u001b[32m2023-08-11 17:27:00.676\u001b[0m | \u001b[1mINFO    \u001b[0m | \u001b[36msrc.evaluation_railroad\u001b[0m:\u001b[36mevaluate_solution_drop\u001b[0m:\u001b[36m406\u001b[0m - \u001b[1mDropping T1\u001b[0m\n",
      "\u001b[32m2023-08-11 17:27:01.695\u001b[0m | \u001b[1mINFO    \u001b[0m | \u001b[36msrc.evaluation_railroad\u001b[0m:\u001b[36mevaluate_solution_drop\u001b[0m:\u001b[36m406\u001b[0m - \u001b[1mDropping T9\u001b[0m\n",
      "\u001b[32m2023-08-11 17:27:02.730\u001b[0m | \u001b[1mINFO    \u001b[0m | \u001b[36msrc.evaluation_railroad\u001b[0m:\u001b[36mevaluate_solution_drop\u001b[0m:\u001b[36m406\u001b[0m - \u001b[1mDropping T7\u001b[0m\n",
      "C:\\Users\\marle\\AppData\\Local\\Temp\\ipykernel_29704\\614920883.py:28: FutureWarning: The frame.append method is deprecated and will be removed from pandas in a future version. Use pandas.concat instead.\n",
      "  df_results_processing_time = df_results_processing_time.append(co2_modell(df_processing_time.head(i), df_distance_matrix, dict_terminals_process, list_mondays[1], list_mondays[2], country = \"france\", algorithm = algorithm)[0], ignore_index=True)\n",
      "C:\\Users\\marle\\OneDrive - tbs-education\\00_Masterarbeit\\Code\\notebooks\\..\\src\\co2_modells.py:28: FutureWarning: Comparison of Timestamp with datetime.date is deprecated in order to match the standard library behavior. In a future version these will be considered non-comparable. Use 'ts == pd.Timestamp(date)' or 'ts.date() == date' instead.\n",
      "  df = df[(df[\"Delivery date\"]>=pd.to_datetime(date_from))&(df[\"Delivery date\"]<=pd.to_datetime(date_to))]\n",
      "\u001b[32m2023-08-11 17:27:03.883\u001b[0m | \u001b[1mINFO    \u001b[0m | \u001b[36msrc.co2_modells\u001b[0m:\u001b[36mpreprocessing_modelling\u001b[0m:\u001b[36m38\u001b[0m - \u001b[1m100\u001b[0m\n",
      "\u001b[32m2023-08-11 17:27:03.907\u001b[0m | \u001b[1mINFO    \u001b[0m | \u001b[36msrc.co2_modells\u001b[0m:\u001b[36mco2_modell\u001b[0m:\u001b[36m71\u001b[0m - \u001b[1m0.24\u001b[0m\n"
     ]
    },
    {
     "name": "stdout",
     "output_type": "stream",
     "text": [
      "Total processing time: 13.546875\n",
      "customers 40: 13.578125\n",
      "(60, 7)\n"
     ]
    },
    {
     "name": "stderr",
     "output_type": "stream",
     "text": [
      "C:\\Users\\marle\\OneDrive - tbs-education\\00_Masterarbeit\\Code\\notebooks\\..\\src\\create_solution.py:74: FutureWarning: Dropping of nuisance columns in DataFrame reductions (with 'numeric_only=None') is deprecated; in a future version this will raise TypeError.  Select only valid columns before calling the reduction.\n",
      "  distances['Dmin'] = distances.min(axis=1)\n"
     ]
    },
    {
     "name": "stdout",
     "output_type": "stream",
     "text": [
      "(20, 10)\n",
      "(26, 14)\n"
     ]
    },
    {
     "name": "stderr",
     "output_type": "stream",
     "text": [
      "\u001b[32m2023-08-11 17:27:13.242\u001b[0m | \u001b[1mINFO    \u001b[0m | \u001b[36msrc.evaluation_railroad\u001b[0m:\u001b[36mevaluate_solution_drop\u001b[0m:\u001b[36m406\u001b[0m - \u001b[1mDropping T6\u001b[0m\n",
      "\u001b[32m2023-08-11 17:27:14.263\u001b[0m | \u001b[1mINFO    \u001b[0m | \u001b[36msrc.evaluation_railroad\u001b[0m:\u001b[36mevaluate_solution_drop\u001b[0m:\u001b[36m406\u001b[0m - \u001b[1mDropping T5\u001b[0m\n",
      "\u001b[32m2023-08-11 17:27:15.266\u001b[0m | \u001b[1mINFO    \u001b[0m | \u001b[36msrc.evaluation_railroad\u001b[0m:\u001b[36mevaluate_solution_drop\u001b[0m:\u001b[36m406\u001b[0m - \u001b[1mDropping T1\u001b[0m\n",
      "\u001b[32m2023-08-11 17:27:16.287\u001b[0m | \u001b[1mINFO    \u001b[0m | \u001b[36msrc.evaluation_railroad\u001b[0m:\u001b[36mevaluate_solution_drop\u001b[0m:\u001b[36m406\u001b[0m - \u001b[1mDropping T9\u001b[0m\n",
      "\u001b[32m2023-08-11 17:27:17.308\u001b[0m | \u001b[1mINFO    \u001b[0m | \u001b[36msrc.evaluation_railroad\u001b[0m:\u001b[36mevaluate_solution_drop\u001b[0m:\u001b[36m406\u001b[0m - \u001b[1mDropping T7\u001b[0m\n",
      "C:\\Users\\marle\\AppData\\Local\\Temp\\ipykernel_29704\\614920883.py:28: FutureWarning: The frame.append method is deprecated and will be removed from pandas in a future version. Use pandas.concat instead.\n",
      "  df_results_processing_time = df_results_processing_time.append(co2_modell(df_processing_time.head(i), df_distance_matrix, dict_terminals_process, list_mondays[1], list_mondays[2], country = \"france\", algorithm = algorithm)[0], ignore_index=True)\n",
      "C:\\Users\\marle\\OneDrive - tbs-education\\00_Masterarbeit\\Code\\notebooks\\..\\src\\co2_modells.py:28: FutureWarning: Comparison of Timestamp with datetime.date is deprecated in order to match the standard library behavior. In a future version these will be considered non-comparable. Use 'ts == pd.Timestamp(date)' or 'ts.date() == date' instead.\n",
      "  df = df[(df[\"Delivery date\"]>=pd.to_datetime(date_from))&(df[\"Delivery date\"]<=pd.to_datetime(date_to))]\n",
      "\u001b[32m2023-08-11 17:27:18.349\u001b[0m | \u001b[1mINFO    \u001b[0m | \u001b[36msrc.co2_modells\u001b[0m:\u001b[36mpreprocessing_modelling\u001b[0m:\u001b[36m38\u001b[0m - \u001b[1m100\u001b[0m\n",
      "\u001b[32m2023-08-11 17:27:18.349\u001b[0m | \u001b[1mINFO    \u001b[0m | \u001b[36msrc.co2_modells\u001b[0m:\u001b[36mco2_modell\u001b[0m:\u001b[36m71\u001b[0m - \u001b[1m0.32\u001b[0m\n"
     ]
    },
    {
     "name": "stdout",
     "output_type": "stream",
     "text": [
      "Total processing time: 13.296875\n",
      "customers 60: 13.375\n",
      "(80, 7)\n"
     ]
    },
    {
     "name": "stderr",
     "output_type": "stream",
     "text": [
      "C:\\Users\\marle\\OneDrive - tbs-education\\00_Masterarbeit\\Code\\notebooks\\..\\src\\create_solution.py:74: FutureWarning: Dropping of nuisance columns in DataFrame reductions (with 'numeric_only=None') is deprecated; in a future version this will raise TypeError.  Select only valid columns before calling the reduction.\n",
      "  distances['Dmin'] = distances.min(axis=1)\n"
     ]
    },
    {
     "name": "stdout",
     "output_type": "stream",
     "text": [
      "(25, 10)\n",
      "(35, 14)\n"
     ]
    },
    {
     "name": "stderr",
     "output_type": "stream",
     "text": [
      "\u001b[32m2023-08-11 17:27:28.707\u001b[0m | \u001b[1mINFO    \u001b[0m | \u001b[36msrc.evaluation_railroad\u001b[0m:\u001b[36mevaluate_solution_drop\u001b[0m:\u001b[36m406\u001b[0m - \u001b[1mDropping T6\u001b[0m\n",
      "\u001b[32m2023-08-11 17:27:29.728\u001b[0m | \u001b[1mINFO    \u001b[0m | \u001b[36msrc.evaluation_railroad\u001b[0m:\u001b[36mevaluate_solution_drop\u001b[0m:\u001b[36m406\u001b[0m - \u001b[1mDropping T5\u001b[0m\n",
      "\u001b[32m2023-08-11 17:27:30.749\u001b[0m | \u001b[1mINFO    \u001b[0m | \u001b[36msrc.evaluation_railroad\u001b[0m:\u001b[36mevaluate_solution_drop\u001b[0m:\u001b[36m406\u001b[0m - \u001b[1mDropping T1\u001b[0m\n",
      "\u001b[32m2023-08-11 17:27:31.772\u001b[0m | \u001b[1mINFO    \u001b[0m | \u001b[36msrc.evaluation_railroad\u001b[0m:\u001b[36mevaluate_solution_drop\u001b[0m:\u001b[36m406\u001b[0m - \u001b[1mDropping T9\u001b[0m\n",
      "\u001b[32m2023-08-11 17:27:32.790\u001b[0m | \u001b[1mINFO    \u001b[0m | \u001b[36msrc.evaluation_railroad\u001b[0m:\u001b[36mevaluate_solution_drop\u001b[0m:\u001b[36m406\u001b[0m - \u001b[1mDropping T2\u001b[0m\n",
      "C:\\Users\\marle\\AppData\\Local\\Temp\\ipykernel_29704\\614920883.py:28: FutureWarning: The frame.append method is deprecated and will be removed from pandas in a future version. Use pandas.concat instead.\n",
      "  df_results_processing_time = df_results_processing_time.append(co2_modell(df_processing_time.head(i), df_distance_matrix, dict_terminals_process, list_mondays[1], list_mondays[2], country = \"france\", algorithm = algorithm)[0], ignore_index=True)\n",
      "C:\\Users\\marle\\OneDrive - tbs-education\\00_Masterarbeit\\Code\\notebooks\\..\\src\\co2_modells.py:28: FutureWarning: Comparison of Timestamp with datetime.date is deprecated in order to match the standard library behavior. In a future version these will be considered non-comparable. Use 'ts == pd.Timestamp(date)' or 'ts.date() == date' instead.\n",
      "  df = df[(df[\"Delivery date\"]>=pd.to_datetime(date_from))&(df[\"Delivery date\"]<=pd.to_datetime(date_to))]\n",
      "\u001b[32m2023-08-11 17:27:35.961\u001b[0m | \u001b[1mINFO    \u001b[0m | \u001b[36msrc.co2_modells\u001b[0m:\u001b[36mpreprocessing_modelling\u001b[0m:\u001b[36m38\u001b[0m - \u001b[1m100\u001b[0m\n",
      "\u001b[32m2023-08-11 17:27:36.024\u001b[0m | \u001b[1mINFO    \u001b[0m | \u001b[36msrc.co2_modells\u001b[0m:\u001b[36mco2_modell\u001b[0m:\u001b[36m71\u001b[0m - \u001b[1m0.4\u001b[0m\n"
     ]
    },
    {
     "name": "stdout",
     "output_type": "stream",
     "text": [
      "Total processing time: 16.65625\n",
      "customers 80: 16.65625\n",
      "(100, 7)\n"
     ]
    },
    {
     "name": "stderr",
     "output_type": "stream",
     "text": [
      "C:\\Users\\marle\\OneDrive - tbs-education\\00_Masterarbeit\\Code\\notebooks\\..\\src\\create_solution.py:74: FutureWarning: Dropping of nuisance columns in DataFrame reductions (with 'numeric_only=None') is deprecated; in a future version this will raise TypeError.  Select only valid columns before calling the reduction.\n",
      "  distances['Dmin'] = distances.min(axis=1)\n"
     ]
    },
    {
     "name": "stdout",
     "output_type": "stream",
     "text": [
      "(28, 10)\n",
      "(40, 14)\n"
     ]
    },
    {
     "name": "stderr",
     "output_type": "stream",
     "text": [
      "\u001b[32m2023-08-11 17:27:46.390\u001b[0m | \u001b[1mINFO    \u001b[0m | \u001b[36msrc.evaluation_railroad\u001b[0m:\u001b[36mevaluate_solution_drop\u001b[0m:\u001b[36m406\u001b[0m - \u001b[1mDropping T6\u001b[0m\n",
      "\u001b[32m2023-08-11 17:27:47.395\u001b[0m | \u001b[1mINFO    \u001b[0m | \u001b[36msrc.evaluation_railroad\u001b[0m:\u001b[36mevaluate_solution_drop\u001b[0m:\u001b[36m406\u001b[0m - \u001b[1mDropping T5\u001b[0m\n",
      "\u001b[32m2023-08-11 17:27:48.418\u001b[0m | \u001b[1mINFO    \u001b[0m | \u001b[36msrc.evaluation_railroad\u001b[0m:\u001b[36mevaluate_solution_drop\u001b[0m:\u001b[36m406\u001b[0m - \u001b[1mDropping T1\u001b[0m\n",
      "\u001b[32m2023-08-11 17:27:49.437\u001b[0m | \u001b[1mINFO    \u001b[0m | \u001b[36msrc.evaluation_railroad\u001b[0m:\u001b[36mevaluate_solution_drop\u001b[0m:\u001b[36m406\u001b[0m - \u001b[1mDropping T9\u001b[0m\n",
      "\u001b[32m2023-08-11 17:27:50.442\u001b[0m | \u001b[1mINFO    \u001b[0m | \u001b[36msrc.evaluation_railroad\u001b[0m:\u001b[36mevaluate_solution_drop\u001b[0m:\u001b[36m406\u001b[0m - \u001b[1mDropping T2\u001b[0m\n",
      "\u001b[32m2023-08-11 17:27:53.553\u001b[0m | \u001b[1mINFO    \u001b[0m | \u001b[36msrc.evaluation_railroad\u001b[0m:\u001b[36mevaluate_solution_drop\u001b[0m:\u001b[36m406\u001b[0m - \u001b[1mDropping T7\u001b[0m\n"
     ]
    },
    {
     "name": "stdout",
     "output_type": "stream",
     "text": [
      "Total processing time: 17.75\n",
      "customers 100: 17.796875\n"
     ]
    },
    {
     "name": "stderr",
     "output_type": "stream",
     "text": [
      "C:\\Users\\marle\\AppData\\Local\\Temp\\ipykernel_29704\\614920883.py:28: FutureWarning: The frame.append method is deprecated and will be removed from pandas in a future version. Use pandas.concat instead.\n",
      "  df_results_processing_time = df_results_processing_time.append(co2_modell(df_processing_time.head(i), df_distance_matrix, dict_terminals_process, list_mondays[1], list_mondays[2], country = \"france\", algorithm = algorithm)[0], ignore_index=True)\n"
     ]
    }
   ],
   "source": [
    "dict_process_time_drop = create_dict_process_time(algorithm = \"drop\")"
   ]
  },
  {
   "cell_type": "code",
   "execution_count": 11,
   "id": "118d90c2",
   "metadata": {},
   "outputs": [
    {
     "ename": "NameError",
     "evalue": "name 'df_dc1' is not defined",
     "output_type": "error",
     "traceback": [
      "\u001b[1;31m---------------------------------------------------------------------------\u001b[0m",
      "\u001b[1;31mNameError\u001b[0m                                 Traceback (most recent call last)",
      "Cell \u001b[1;32mIn[11], line 1\u001b[0m\n\u001b[1;32m----> 1\u001b[0m dict_process_time_client \u001b[38;5;241m=\u001b[39m \u001b[43mcreate_dict_process_time\u001b[49m\u001b[43m(\u001b[49m\u001b[43malgorithm\u001b[49m\u001b[43m \u001b[49m\u001b[38;5;241;43m=\u001b[39;49m\u001b[43m \u001b[49m\u001b[38;5;124;43m\"\u001b[39;49m\u001b[38;5;124;43mclient\u001b[39;49m\u001b[38;5;124;43m\"\u001b[39;49m\u001b[43m)\u001b[49m\n",
      "Cell \u001b[1;32mIn[5], line 2\u001b[0m, in \u001b[0;36mcreate_dict_process_time\u001b[1;34m(algorithm)\u001b[0m\n\u001b[0;32m      1\u001b[0m \u001b[38;5;28;01mdef\u001b[39;00m \u001b[38;5;21mcreate_dict_process_time\u001b[39m(algorithm \u001b[38;5;241m=\u001b[39m \u001b[38;5;124m\"\u001b[39m\u001b[38;5;124mbase\u001b[39m\u001b[38;5;124m\"\u001b[39m):\n\u001b[1;32m----> 2\u001b[0m     df_processing_time \u001b[38;5;241m=\u001b[39m \u001b[43mdf_dc1\u001b[49m\u001b[38;5;241m.\u001b[39mgroupby([\u001b[38;5;124m\"\u001b[39m\u001b[38;5;124mReceiver name\u001b[39m\u001b[38;5;124m\"\u001b[39m, \u001b[38;5;124m\"\u001b[39m\u001b[38;5;124mReceiver latitude\u001b[39m\u001b[38;5;124m\"\u001b[39m, \u001b[38;5;124m\"\u001b[39m\u001b[38;5;124mReceiver longitude\u001b[39m\u001b[38;5;124m\"\u001b[39m, \u001b[38;5;124m\"\u001b[39m\u001b[38;5;124mShipper name\u001b[39m\u001b[38;5;124m\"\u001b[39m, \u001b[38;5;124m\"\u001b[39m\u001b[38;5;124mShipper longitude\u001b[39m\u001b[38;5;124m\"\u001b[39m, \u001b[38;5;124m\"\u001b[39m\u001b[38;5;124mShipper latitude\u001b[39m\u001b[38;5;124m\"\u001b[39m])\u001b[38;5;241m.\u001b[39msum()\u001b[38;5;241m.\u001b[39mreset_index()\n\u001b[0;32m      3\u001b[0m     df_processing_time[\u001b[38;5;124m\"\u001b[39m\u001b[38;5;124mSender weight (kg)\u001b[39m\u001b[38;5;124m\"\u001b[39m] \u001b[38;5;241m=\u001b[39m \u001b[38;5;241m100\u001b[39m\n\u001b[0;32m      4\u001b[0m     df_processing_time[\u001b[38;5;124m\"\u001b[39m\u001b[38;5;124mDelivery date\u001b[39m\u001b[38;5;124m\"\u001b[39m] \u001b[38;5;241m=\u001b[39m list_mondays[\u001b[38;5;241m2\u001b[39m]\n",
      "\u001b[1;31mNameError\u001b[0m: name 'df_dc1' is not defined"
     ]
    }
   ],
   "source": [
    "dict_process_time_client = create_dict_process_time(algorithm = \"client\")"
   ]
  },
  {
   "cell_type": "code",
   "execution_count": 32,
   "id": "bdcf0363",
   "metadata": {
    "scrolled": true
   },
   "outputs": [
    {
     "name": "stderr",
     "output_type": "stream",
     "text": [
      "C:\\Users\\marle\\AppData\\Local\\Temp\\ipykernel_29704\\4068817033.py:1: FutureWarning: The default value of numeric_only in DataFrameGroupBy.sum is deprecated. In a future version, numeric_only will default to False. Either specify numeric_only or select only columns which should be valid for the function.\n",
      "  df_processing_time = df_dc1.groupby([\"Receiver name\", \"Receiver latitude\", \"Receiver longitude\", \"Shipper name\", \"Shipper longitude\", \"Shipper latitude\"]).sum().reset_index()\n",
      "C:\\Users\\marle\\OneDrive - tbs-education\\00_Masterarbeit\\Code\\notebooks\\..\\src\\co2_modells.py:28: FutureWarning: Comparison of Timestamp with datetime.date is deprecated in order to match the standard library behavior. In a future version these will be considered non-comparable. Use 'ts == pd.Timestamp(date)' or 'ts.date() == date' instead.\n",
      "  df = df[(df[\"Delivery date\"]>=pd.to_datetime(date_from))&(df[\"Delivery date\"]<=pd.to_datetime(date_to))]\n",
      "\u001b[32m2023-08-11 17:08:35.808\u001b[0m | \u001b[1mINFO    \u001b[0m | \u001b[36msrc.co2_modells\u001b[0m:\u001b[36mpreprocessing_modelling\u001b[0m:\u001b[36m38\u001b[0m - \u001b[1m100\u001b[0m\n",
      "\u001b[32m2023-08-11 17:08:35.808\u001b[0m | \u001b[1mINFO    \u001b[0m | \u001b[36msrc.co2_modells\u001b[0m:\u001b[36mco2_modell\u001b[0m:\u001b[36m71\u001b[0m - \u001b[1m0.08\u001b[0m\n"
     ]
    },
    {
     "name": "stdout",
     "output_type": "stream",
     "text": [
      "(20, 7)\n"
     ]
    },
    {
     "name": "stderr",
     "output_type": "stream",
     "text": [
      "C:\\Users\\marle\\OneDrive - tbs-education\\00_Masterarbeit\\Code\\notebooks\\..\\src\\create_solution.py:74: FutureWarning: Dropping of nuisance columns in DataFrame reductions (with 'numeric_only=None') is deprecated; in a future version this will raise TypeError.  Select only valid columns before calling the reduction.\n",
      "  distances['Dmin'] = distances.min(axis=1)\n"
     ]
    },
    {
     "name": "stdout",
     "output_type": "stream",
     "text": [
      "(14, 4)\n",
      "(17, 8)\n"
     ]
    },
    {
     "name": "stderr",
     "output_type": "stream",
     "text": [
      "C:\\Users\\marle\\AppData\\Local\\Temp\\ipykernel_29704\\4068817033.py:15: FutureWarning: The frame.append method is deprecated and will be removed from pandas in a future version. Use pandas.concat instead.\n",
      "  df_results_processing_time = df_results_processing_time.append(co2_modell(df_processing_time.head(i), df_distance_matrix, dict_terminals_process, list_mondays[1], list_mondays[2], country = \"france\")[0], ignore_index=True)\n",
      "C:\\Users\\marle\\OneDrive - tbs-education\\00_Masterarbeit\\Code\\notebooks\\..\\src\\co2_modells.py:28: FutureWarning: Comparison of Timestamp with datetime.date is deprecated in order to match the standard library behavior. In a future version these will be considered non-comparable. Use 'ts == pd.Timestamp(date)' or 'ts.date() == date' instead.\n",
      "  df = df[(df[\"Delivery date\"]>=pd.to_datetime(date_from))&(df[\"Delivery date\"]<=pd.to_datetime(date_to))]\n",
      "\u001b[32m2023-08-11 17:08:38.882\u001b[0m | \u001b[1mINFO    \u001b[0m | \u001b[36msrc.co2_modells\u001b[0m:\u001b[36mpreprocessing_modelling\u001b[0m:\u001b[36m38\u001b[0m - \u001b[1m100\u001b[0m\n",
      "\u001b[32m2023-08-11 17:08:38.889\u001b[0m | \u001b[1mINFO    \u001b[0m | \u001b[36msrc.co2_modells\u001b[0m:\u001b[36mco2_modell\u001b[0m:\u001b[36m71\u001b[0m - \u001b[1m0.16\u001b[0m\n"
     ]
    },
    {
     "name": "stdout",
     "output_type": "stream",
     "text": [
      "Total processing time: 2.90625\n",
      "customers 20: 2.90625\n",
      "(40, 7)\n"
     ]
    },
    {
     "name": "stderr",
     "output_type": "stream",
     "text": [
      "C:\\Users\\marle\\OneDrive - tbs-education\\00_Masterarbeit\\Code\\notebooks\\..\\src\\create_solution.py:74: FutureWarning: Dropping of nuisance columns in DataFrame reductions (with 'numeric_only=None') is deprecated; in a future version this will raise TypeError.  Select only valid columns before calling the reduction.\n",
      "  distances['Dmin'] = distances.min(axis=1)\n"
     ]
    },
    {
     "name": "stdout",
     "output_type": "stream",
     "text": [
      "(27, 4)\n",
      "(33, 8)\n"
     ]
    },
    {
     "name": "stderr",
     "output_type": "stream",
     "text": [
      "C:\\Users\\marle\\AppData\\Local\\Temp\\ipykernel_29704\\4068817033.py:15: FutureWarning: The frame.append method is deprecated and will be removed from pandas in a future version. Use pandas.concat instead.\n",
      "  df_results_processing_time = df_results_processing_time.append(co2_modell(df_processing_time.head(i), df_distance_matrix, dict_terminals_process, list_mondays[1], list_mondays[2], country = \"france\")[0], ignore_index=True)\n",
      "C:\\Users\\marle\\OneDrive - tbs-education\\00_Masterarbeit\\Code\\notebooks\\..\\src\\co2_modells.py:28: FutureWarning: Comparison of Timestamp with datetime.date is deprecated in order to match the standard library behavior. In a future version these will be considered non-comparable. Use 'ts == pd.Timestamp(date)' or 'ts.date() == date' instead.\n",
      "  df = df[(df[\"Delivery date\"]>=pd.to_datetime(date_from))&(df[\"Delivery date\"]<=pd.to_datetime(date_to))]\n",
      "\u001b[32m2023-08-11 17:08:41.955\u001b[0m | \u001b[1mINFO    \u001b[0m | \u001b[36msrc.co2_modells\u001b[0m:\u001b[36mpreprocessing_modelling\u001b[0m:\u001b[36m38\u001b[0m - \u001b[1m100\u001b[0m\n",
      "\u001b[32m2023-08-11 17:08:41.955\u001b[0m | \u001b[1mINFO    \u001b[0m | \u001b[36msrc.co2_modells\u001b[0m:\u001b[36mco2_modell\u001b[0m:\u001b[36m71\u001b[0m - \u001b[1m0.24\u001b[0m\n"
     ]
    },
    {
     "name": "stdout",
     "output_type": "stream",
     "text": [
      "Total processing time: 2.921875\n",
      "customers 40: 2.9375\n",
      "(60, 7)\n"
     ]
    },
    {
     "name": "stderr",
     "output_type": "stream",
     "text": [
      "C:\\Users\\marle\\OneDrive - tbs-education\\00_Masterarbeit\\Code\\notebooks\\..\\src\\create_solution.py:74: FutureWarning: Dropping of nuisance columns in DataFrame reductions (with 'numeric_only=None') is deprecated; in a future version this will raise TypeError.  Select only valid columns before calling the reduction.\n",
      "  distances['Dmin'] = distances.min(axis=1)\n"
     ]
    },
    {
     "name": "stdout",
     "output_type": "stream",
     "text": [
      "(36, 4)\n",
      "(46, 8)\n"
     ]
    },
    {
     "name": "stderr",
     "output_type": "stream",
     "text": [
      "C:\\Users\\marle\\AppData\\Local\\Temp\\ipykernel_29704\\4068817033.py:15: FutureWarning: The frame.append method is deprecated and will be removed from pandas in a future version. Use pandas.concat instead.\n",
      "  df_results_processing_time = df_results_processing_time.append(co2_modell(df_processing_time.head(i), df_distance_matrix, dict_terminals_process, list_mondays[1], list_mondays[2], country = \"france\")[0], ignore_index=True)\n",
      "C:\\Users\\marle\\OneDrive - tbs-education\\00_Masterarbeit\\Code\\notebooks\\..\\src\\co2_modells.py:28: FutureWarning: Comparison of Timestamp with datetime.date is deprecated in order to match the standard library behavior. In a future version these will be considered non-comparable. Use 'ts == pd.Timestamp(date)' or 'ts.date() == date' instead.\n",
      "  df = df[(df[\"Delivery date\"]>=pd.to_datetime(date_from))&(df[\"Delivery date\"]<=pd.to_datetime(date_to))]\n",
      "\u001b[32m2023-08-11 17:08:45.032\u001b[0m | \u001b[1mINFO    \u001b[0m | \u001b[36msrc.co2_modells\u001b[0m:\u001b[36mpreprocessing_modelling\u001b[0m:\u001b[36m38\u001b[0m - \u001b[1m100\u001b[0m\n",
      "\u001b[32m2023-08-11 17:08:45.047\u001b[0m | \u001b[1mINFO    \u001b[0m | \u001b[36msrc.co2_modells\u001b[0m:\u001b[36mco2_modell\u001b[0m:\u001b[36m71\u001b[0m - \u001b[1m0.32\u001b[0m\n"
     ]
    },
    {
     "name": "stdout",
     "output_type": "stream",
     "text": [
      "Total processing time: 2.953125\n",
      "customers 60: 2.984375\n",
      "(80, 7)\n"
     ]
    },
    {
     "name": "stderr",
     "output_type": "stream",
     "text": [
      "C:\\Users\\marle\\OneDrive - tbs-education\\00_Masterarbeit\\Code\\notebooks\\..\\src\\create_solution.py:74: FutureWarning: Dropping of nuisance columns in DataFrame reductions (with 'numeric_only=None') is deprecated; in a future version this will raise TypeError.  Select only valid columns before calling the reduction.\n",
      "  distances['Dmin'] = distances.min(axis=1)\n"
     ]
    },
    {
     "name": "stdout",
     "output_type": "stream",
     "text": [
      "(46, 4)\n",
      "(63, 8)\n"
     ]
    },
    {
     "name": "stderr",
     "output_type": "stream",
     "text": [
      "C:\\Users\\marle\\AppData\\Local\\Temp\\ipykernel_29704\\4068817033.py:15: FutureWarning: The frame.append method is deprecated and will be removed from pandas in a future version. Use pandas.concat instead.\n",
      "  df_results_processing_time = df_results_processing_time.append(co2_modell(df_processing_time.head(i), df_distance_matrix, dict_terminals_process, list_mondays[1], list_mondays[2], country = \"france\")[0], ignore_index=True)\n",
      "C:\\Users\\marle\\OneDrive - tbs-education\\00_Masterarbeit\\Code\\notebooks\\..\\src\\co2_modells.py:28: FutureWarning: Comparison of Timestamp with datetime.date is deprecated in order to match the standard library behavior. In a future version these will be considered non-comparable. Use 'ts == pd.Timestamp(date)' or 'ts.date() == date' instead.\n",
      "  df = df[(df[\"Delivery date\"]>=pd.to_datetime(date_from))&(df[\"Delivery date\"]<=pd.to_datetime(date_to))]\n",
      "\u001b[32m2023-08-11 17:08:48.118\u001b[0m | \u001b[1mINFO    \u001b[0m | \u001b[36msrc.co2_modells\u001b[0m:\u001b[36mpreprocessing_modelling\u001b[0m:\u001b[36m38\u001b[0m - \u001b[1m100\u001b[0m\n",
      "\u001b[32m2023-08-11 17:08:48.137\u001b[0m | \u001b[1mINFO    \u001b[0m | \u001b[36msrc.co2_modells\u001b[0m:\u001b[36mco2_modell\u001b[0m:\u001b[36m71\u001b[0m - \u001b[1m0.4\u001b[0m\n"
     ]
    },
    {
     "name": "stdout",
     "output_type": "stream",
     "text": [
      "Total processing time: 2.890625\n",
      "customers 80: 2.921875\n",
      "(100, 7)\n"
     ]
    },
    {
     "name": "stderr",
     "output_type": "stream",
     "text": [
      "C:\\Users\\marle\\OneDrive - tbs-education\\00_Masterarbeit\\Code\\notebooks\\..\\src\\create_solution.py:74: FutureWarning: Dropping of nuisance columns in DataFrame reductions (with 'numeric_only=None') is deprecated; in a future version this will raise TypeError.  Select only valid columns before calling the reduction.\n",
      "  distances['Dmin'] = distances.min(axis=1)\n"
     ]
    },
    {
     "name": "stdout",
     "output_type": "stream",
     "text": [
      "(55, 4)\n",
      "(74, 8)\n"
     ]
    },
    {
     "name": "stderr",
     "output_type": "stream",
     "text": [
      "C:\\Users\\marle\\AppData\\Local\\Temp\\ipykernel_29704\\4068817033.py:15: FutureWarning: The frame.append method is deprecated and will be removed from pandas in a future version. Use pandas.concat instead.\n",
      "  df_results_processing_time = df_results_processing_time.append(co2_modell(df_processing_time.head(i), df_distance_matrix, dict_terminals_process, list_mondays[1], list_mondays[2], country = \"france\")[0], ignore_index=True)\n",
      "C:\\Users\\marle\\OneDrive - tbs-education\\00_Masterarbeit\\Code\\notebooks\\..\\src\\co2_modells.py:28: FutureWarning: Comparison of Timestamp with datetime.date is deprecated in order to match the standard library behavior. In a future version these will be considered non-comparable. Use 'ts == pd.Timestamp(date)' or 'ts.date() == date' instead.\n",
      "  df = df[(df[\"Delivery date\"]>=pd.to_datetime(date_from))&(df[\"Delivery date\"]<=pd.to_datetime(date_to))]\n",
      "\u001b[32m2023-08-11 17:08:51.218\u001b[0m | \u001b[1mINFO    \u001b[0m | \u001b[36msrc.co2_modells\u001b[0m:\u001b[36mpreprocessing_modelling\u001b[0m:\u001b[36m38\u001b[0m - \u001b[1m100\u001b[0m\n",
      "\u001b[32m2023-08-11 17:08:51.236\u001b[0m | \u001b[1mINFO    \u001b[0m | \u001b[36msrc.co2_modells\u001b[0m:\u001b[36mco2_modell\u001b[0m:\u001b[36m71\u001b[0m - \u001b[1m0.08\u001b[0m\n"
     ]
    },
    {
     "name": "stdout",
     "output_type": "stream",
     "text": [
      "Total processing time: 2.921875\n",
      "customers 100: 2.921875\n",
      "(20, 7)\n"
     ]
    },
    {
     "name": "stderr",
     "output_type": "stream",
     "text": [
      "C:\\Users\\marle\\OneDrive - tbs-education\\00_Masterarbeit\\Code\\notebooks\\..\\src\\create_solution.py:74: FutureWarning: Dropping of nuisance columns in DataFrame reductions (with 'numeric_only=None') is deprecated; in a future version this will raise TypeError.  Select only valid columns before calling the reduction.\n",
      "  distances['Dmin'] = distances.min(axis=1)\n"
     ]
    },
    {
     "name": "stdout",
     "output_type": "stream",
     "text": [
      "(11, 5)\n",
      "(14, 9)\n"
     ]
    },
    {
     "name": "stderr",
     "output_type": "stream",
     "text": [
      "C:\\Users\\marle\\AppData\\Local\\Temp\\ipykernel_29704\\4068817033.py:15: FutureWarning: The frame.append method is deprecated and will be removed from pandas in a future version. Use pandas.concat instead.\n",
      "  df_results_processing_time = df_results_processing_time.append(co2_modell(df_processing_time.head(i), df_distance_matrix, dict_terminals_process, list_mondays[1], list_mondays[2], country = \"france\")[0], ignore_index=True)\n",
      "C:\\Users\\marle\\OneDrive - tbs-education\\00_Masterarbeit\\Code\\notebooks\\..\\src\\co2_modells.py:28: FutureWarning: Comparison of Timestamp with datetime.date is deprecated in order to match the standard library behavior. In a future version these will be considered non-comparable. Use 'ts == pd.Timestamp(date)' or 'ts.date() == date' instead.\n",
      "  df = df[(df[\"Delivery date\"]>=pd.to_datetime(date_from))&(df[\"Delivery date\"]<=pd.to_datetime(date_to))]\n",
      "\u001b[32m2023-08-11 17:08:55.313\u001b[0m | \u001b[1mINFO    \u001b[0m | \u001b[36msrc.co2_modells\u001b[0m:\u001b[36mpreprocessing_modelling\u001b[0m:\u001b[36m38\u001b[0m - \u001b[1m100\u001b[0m\n",
      "\u001b[32m2023-08-11 17:08:55.313\u001b[0m | \u001b[1mINFO    \u001b[0m | \u001b[36msrc.co2_modells\u001b[0m:\u001b[36mco2_modell\u001b[0m:\u001b[36m71\u001b[0m - \u001b[1m0.16\u001b[0m\n"
     ]
    },
    {
     "name": "stdout",
     "output_type": "stream",
     "text": [
      "Total processing time: 3.890625\n",
      "customers 20: 3.890625\n",
      "(40, 7)\n"
     ]
    },
    {
     "name": "stderr",
     "output_type": "stream",
     "text": [
      "C:\\Users\\marle\\OneDrive - tbs-education\\00_Masterarbeit\\Code\\notebooks\\..\\src\\create_solution.py:74: FutureWarning: Dropping of nuisance columns in DataFrame reductions (with 'numeric_only=None') is deprecated; in a future version this will raise TypeError.  Select only valid columns before calling the reduction.\n",
      "  distances['Dmin'] = distances.min(axis=1)\n"
     ]
    },
    {
     "name": "stdout",
     "output_type": "stream",
     "text": [
      "(19, 5)\n",
      "(27, 9)\n"
     ]
    },
    {
     "name": "stderr",
     "output_type": "stream",
     "text": [
      "C:\\Users\\marle\\AppData\\Local\\Temp\\ipykernel_29704\\4068817033.py:15: FutureWarning: The frame.append method is deprecated and will be removed from pandas in a future version. Use pandas.concat instead.\n",
      "  df_results_processing_time = df_results_processing_time.append(co2_modell(df_processing_time.head(i), df_distance_matrix, dict_terminals_process, list_mondays[1], list_mondays[2], country = \"france\")[0], ignore_index=True)\n",
      "C:\\Users\\marle\\OneDrive - tbs-education\\00_Masterarbeit\\Code\\notebooks\\..\\src\\co2_modells.py:28: FutureWarning: Comparison of Timestamp with datetime.date is deprecated in order to match the standard library behavior. In a future version these will be considered non-comparable. Use 'ts == pd.Timestamp(date)' or 'ts.date() == date' instead.\n",
      "  df = df[(df[\"Delivery date\"]>=pd.to_datetime(date_from))&(df[\"Delivery date\"]<=pd.to_datetime(date_to))]\n",
      "\u001b[32m2023-08-11 17:08:59.392\u001b[0m | \u001b[1mINFO    \u001b[0m | \u001b[36msrc.co2_modells\u001b[0m:\u001b[36mpreprocessing_modelling\u001b[0m:\u001b[36m38\u001b[0m - \u001b[1m100\u001b[0m\n",
      "\u001b[32m2023-08-11 17:08:59.407\u001b[0m | \u001b[1mINFO    \u001b[0m | \u001b[36msrc.co2_modells\u001b[0m:\u001b[36mco2_modell\u001b[0m:\u001b[36m71\u001b[0m - \u001b[1m0.24\u001b[0m\n"
     ]
    },
    {
     "name": "stdout",
     "output_type": "stream",
     "text": [
      "Total processing time: 3.875\n",
      "customers 40: 3.875\n",
      "(60, 7)\n"
     ]
    },
    {
     "name": "stderr",
     "output_type": "stream",
     "text": [
      "C:\\Users\\marle\\OneDrive - tbs-education\\00_Masterarbeit\\Code\\notebooks\\..\\src\\create_solution.py:74: FutureWarning: Dropping of nuisance columns in DataFrame reductions (with 'numeric_only=None') is deprecated; in a future version this will raise TypeError.  Select only valid columns before calling the reduction.\n",
      "  distances['Dmin'] = distances.min(axis=1)\n"
     ]
    },
    {
     "name": "stdout",
     "output_type": "stream",
     "text": [
      "(25, 5)\n",
      "(37, 9)\n"
     ]
    },
    {
     "name": "stderr",
     "output_type": "stream",
     "text": [
      "C:\\Users\\marle\\AppData\\Local\\Temp\\ipykernel_29704\\4068817033.py:15: FutureWarning: The frame.append method is deprecated and will be removed from pandas in a future version. Use pandas.concat instead.\n",
      "  df_results_processing_time = df_results_processing_time.append(co2_modell(df_processing_time.head(i), df_distance_matrix, dict_terminals_process, list_mondays[1], list_mondays[2], country = \"france\")[0], ignore_index=True)\n",
      "C:\\Users\\marle\\OneDrive - tbs-education\\00_Masterarbeit\\Code\\notebooks\\..\\src\\co2_modells.py:28: FutureWarning: Comparison of Timestamp with datetime.date is deprecated in order to match the standard library behavior. In a future version these will be considered non-comparable. Use 'ts == pd.Timestamp(date)' or 'ts.date() == date' instead.\n",
      "  df = df[(df[\"Delivery date\"]>=pd.to_datetime(date_from))&(df[\"Delivery date\"]<=pd.to_datetime(date_to))]\n",
      "\u001b[32m2023-08-11 17:09:03.518\u001b[0m | \u001b[1mINFO    \u001b[0m | \u001b[36msrc.co2_modells\u001b[0m:\u001b[36mpreprocessing_modelling\u001b[0m:\u001b[36m38\u001b[0m - \u001b[1m100\u001b[0m\n",
      "\u001b[32m2023-08-11 17:09:03.528\u001b[0m | \u001b[1mINFO    \u001b[0m | \u001b[36msrc.co2_modells\u001b[0m:\u001b[36mco2_modell\u001b[0m:\u001b[36m71\u001b[0m - \u001b[1m0.32\u001b[0m\n"
     ]
    },
    {
     "name": "stdout",
     "output_type": "stream",
     "text": [
      "Total processing time: 3.859375\n",
      "customers 60: 3.859375\n",
      "(80, 7)\n"
     ]
    },
    {
     "name": "stderr",
     "output_type": "stream",
     "text": [
      "C:\\Users\\marle\\OneDrive - tbs-education\\00_Masterarbeit\\Code\\notebooks\\..\\src\\create_solution.py:74: FutureWarning: Dropping of nuisance columns in DataFrame reductions (with 'numeric_only=None') is deprecated; in a future version this will raise TypeError.  Select only valid columns before calling the reduction.\n",
      "  distances['Dmin'] = distances.min(axis=1)\n"
     ]
    },
    {
     "name": "stdout",
     "output_type": "stream",
     "text": [
      "(31, 5)\n",
      "(51, 9)\n"
     ]
    },
    {
     "name": "stderr",
     "output_type": "stream",
     "text": [
      "C:\\Users\\marle\\AppData\\Local\\Temp\\ipykernel_29704\\4068817033.py:15: FutureWarning: The frame.append method is deprecated and will be removed from pandas in a future version. Use pandas.concat instead.\n",
      "  df_results_processing_time = df_results_processing_time.append(co2_modell(df_processing_time.head(i), df_distance_matrix, dict_terminals_process, list_mondays[1], list_mondays[2], country = \"france\")[0], ignore_index=True)\n",
      "C:\\Users\\marle\\OneDrive - tbs-education\\00_Masterarbeit\\Code\\notebooks\\..\\src\\co2_modells.py:28: FutureWarning: Comparison of Timestamp with datetime.date is deprecated in order to match the standard library behavior. In a future version these will be considered non-comparable. Use 'ts == pd.Timestamp(date)' or 'ts.date() == date' instead.\n",
      "  df = df[(df[\"Delivery date\"]>=pd.to_datetime(date_from))&(df[\"Delivery date\"]<=pd.to_datetime(date_to))]\n",
      "\u001b[32m2023-08-11 17:09:07.752\u001b[0m | \u001b[1mINFO    \u001b[0m | \u001b[36msrc.co2_modells\u001b[0m:\u001b[36mpreprocessing_modelling\u001b[0m:\u001b[36m38\u001b[0m - \u001b[1m100\u001b[0m\n",
      "\u001b[32m2023-08-11 17:09:07.762\u001b[0m | \u001b[1mINFO    \u001b[0m | \u001b[36msrc.co2_modells\u001b[0m:\u001b[36mco2_modell\u001b[0m:\u001b[36m71\u001b[0m - \u001b[1m0.4\u001b[0m\n"
     ]
    },
    {
     "name": "stdout",
     "output_type": "stream",
     "text": [
      "Total processing time: 3.921875\n",
      "customers 80: 3.921875\n",
      "(100, 7)\n"
     ]
    },
    {
     "name": "stderr",
     "output_type": "stream",
     "text": [
      "C:\\Users\\marle\\OneDrive - tbs-education\\00_Masterarbeit\\Code\\notebooks\\..\\src\\create_solution.py:74: FutureWarning: Dropping of nuisance columns in DataFrame reductions (with 'numeric_only=None') is deprecated; in a future version this will raise TypeError.  Select only valid columns before calling the reduction.\n",
      "  distances['Dmin'] = distances.min(axis=1)\n"
     ]
    },
    {
     "name": "stdout",
     "output_type": "stream",
     "text": [
      "(38, 5)\n",
      "(61, 9)\n"
     ]
    },
    {
     "name": "stderr",
     "output_type": "stream",
     "text": [
      "C:\\Users\\marle\\AppData\\Local\\Temp\\ipykernel_29704\\4068817033.py:15: FutureWarning: The frame.append method is deprecated and will be removed from pandas in a future version. Use pandas.concat instead.\n",
      "  df_results_processing_time = df_results_processing_time.append(co2_modell(df_processing_time.head(i), df_distance_matrix, dict_terminals_process, list_mondays[1], list_mondays[2], country = \"france\")[0], ignore_index=True)\n",
      "C:\\Users\\marle\\OneDrive - tbs-education\\00_Masterarbeit\\Code\\notebooks\\..\\src\\co2_modells.py:28: FutureWarning: Comparison of Timestamp with datetime.date is deprecated in order to match the standard library behavior. In a future version these will be considered non-comparable. Use 'ts == pd.Timestamp(date)' or 'ts.date() == date' instead.\n",
      "  df = df[(df[\"Delivery date\"]>=pd.to_datetime(date_from))&(df[\"Delivery date\"]<=pd.to_datetime(date_to))]\n",
      "\u001b[32m2023-08-11 17:09:11.904\u001b[0m | \u001b[1mINFO    \u001b[0m | \u001b[36msrc.co2_modells\u001b[0m:\u001b[36mpreprocessing_modelling\u001b[0m:\u001b[36m38\u001b[0m - \u001b[1m100\u001b[0m\n",
      "\u001b[32m2023-08-11 17:09:11.944\u001b[0m | \u001b[1mINFO    \u001b[0m | \u001b[36msrc.co2_modells\u001b[0m:\u001b[36mco2_modell\u001b[0m:\u001b[36m71\u001b[0m - \u001b[1m0.08\u001b[0m\n"
     ]
    },
    {
     "name": "stdout",
     "output_type": "stream",
     "text": [
      "Total processing time: 3.890625\n",
      "customers 100: 3.90625\n",
      "(20, 7)\n"
     ]
    },
    {
     "name": "stderr",
     "output_type": "stream",
     "text": [
      "C:\\Users\\marle\\OneDrive - tbs-education\\00_Masterarbeit\\Code\\notebooks\\..\\src\\create_solution.py:74: FutureWarning: Dropping of nuisance columns in DataFrame reductions (with 'numeric_only=None') is deprecated; in a future version this will raise TypeError.  Select only valid columns before calling the reduction.\n",
      "  distances['Dmin'] = distances.min(axis=1)\n"
     ]
    },
    {
     "name": "stdout",
     "output_type": "stream",
     "text": [
      "(11, 6)\n",
      "(11, 10)\n"
     ]
    },
    {
     "name": "stderr",
     "output_type": "stream",
     "text": [
      "C:\\Users\\marle\\AppData\\Local\\Temp\\ipykernel_29704\\4068817033.py:15: FutureWarning: The frame.append method is deprecated and will be removed from pandas in a future version. Use pandas.concat instead.\n",
      "  df_results_processing_time = df_results_processing_time.append(co2_modell(df_processing_time.head(i), df_distance_matrix, dict_terminals_process, list_mondays[1], list_mondays[2], country = \"france\")[0], ignore_index=True)\n",
      "C:\\Users\\marle\\OneDrive - tbs-education\\00_Masterarbeit\\Code\\notebooks\\..\\src\\co2_modells.py:28: FutureWarning: Comparison of Timestamp with datetime.date is deprecated in order to match the standard library behavior. In a future version these will be considered non-comparable. Use 'ts == pd.Timestamp(date)' or 'ts.date() == date' instead.\n",
      "  df = df[(df[\"Delivery date\"]>=pd.to_datetime(date_from))&(df[\"Delivery date\"]<=pd.to_datetime(date_to))]\n",
      "\u001b[32m2023-08-11 17:09:17.153\u001b[0m | \u001b[1mINFO    \u001b[0m | \u001b[36msrc.co2_modells\u001b[0m:\u001b[36mpreprocessing_modelling\u001b[0m:\u001b[36m38\u001b[0m - \u001b[1m100\u001b[0m\n",
      "\u001b[32m2023-08-11 17:09:17.162\u001b[0m | \u001b[1mINFO    \u001b[0m | \u001b[36msrc.co2_modells\u001b[0m:\u001b[36mco2_modell\u001b[0m:\u001b[36m71\u001b[0m - \u001b[1m0.16\u001b[0m\n"
     ]
    },
    {
     "name": "stdout",
     "output_type": "stream",
     "text": [
      "Total processing time: 4.890625\n",
      "customers 20: 4.90625\n",
      "(40, 7)\n"
     ]
    },
    {
     "name": "stderr",
     "output_type": "stream",
     "text": [
      "C:\\Users\\marle\\OneDrive - tbs-education\\00_Masterarbeit\\Code\\notebooks\\..\\src\\create_solution.py:74: FutureWarning: Dropping of nuisance columns in DataFrame reductions (with 'numeric_only=None') is deprecated; in a future version this will raise TypeError.  Select only valid columns before calling the reduction.\n",
      "  distances['Dmin'] = distances.min(axis=1)\n"
     ]
    },
    {
     "name": "stdout",
     "output_type": "stream",
     "text": [
      "(19, 6)\n",
      "(23, 10)\n"
     ]
    },
    {
     "name": "stderr",
     "output_type": "stream",
     "text": [
      "C:\\Users\\marle\\AppData\\Local\\Temp\\ipykernel_29704\\4068817033.py:15: FutureWarning: The frame.append method is deprecated and will be removed from pandas in a future version. Use pandas.concat instead.\n",
      "  df_results_processing_time = df_results_processing_time.append(co2_modell(df_processing_time.head(i), df_distance_matrix, dict_terminals_process, list_mondays[1], list_mondays[2], country = \"france\")[0], ignore_index=True)\n",
      "C:\\Users\\marle\\OneDrive - tbs-education\\00_Masterarbeit\\Code\\notebooks\\..\\src\\co2_modells.py:28: FutureWarning: Comparison of Timestamp with datetime.date is deprecated in order to match the standard library behavior. In a future version these will be considered non-comparable. Use 'ts == pd.Timestamp(date)' or 'ts.date() == date' instead.\n",
      "  df = df[(df[\"Delivery date\"]>=pd.to_datetime(date_from))&(df[\"Delivery date\"]<=pd.to_datetime(date_to))]\n",
      "\u001b[32m2023-08-11 17:09:22.234\u001b[0m | \u001b[1mINFO    \u001b[0m | \u001b[36msrc.co2_modells\u001b[0m:\u001b[36mpreprocessing_modelling\u001b[0m:\u001b[36m38\u001b[0m - \u001b[1m100\u001b[0m\n",
      "\u001b[32m2023-08-11 17:09:22.250\u001b[0m | \u001b[1mINFO    \u001b[0m | \u001b[36msrc.co2_modells\u001b[0m:\u001b[36mco2_modell\u001b[0m:\u001b[36m71\u001b[0m - \u001b[1m0.24\u001b[0m\n"
     ]
    },
    {
     "name": "stdout",
     "output_type": "stream",
     "text": [
      "Total processing time: 4.90625\n",
      "customers 40: 4.921875\n",
      "(60, 7)\n"
     ]
    },
    {
     "name": "stderr",
     "output_type": "stream",
     "text": [
      "C:\\Users\\marle\\OneDrive - tbs-education\\00_Masterarbeit\\Code\\notebooks\\..\\src\\create_solution.py:74: FutureWarning: Dropping of nuisance columns in DataFrame reductions (with 'numeric_only=None') is deprecated; in a future version this will raise TypeError.  Select only valid columns before calling the reduction.\n",
      "  distances['Dmin'] = distances.min(axis=1)\n"
     ]
    },
    {
     "name": "stdout",
     "output_type": "stream",
     "text": [
      "(25, 6)\n",
      "(31, 10)\n"
     ]
    },
    {
     "name": "stderr",
     "output_type": "stream",
     "text": [
      "C:\\Users\\marle\\AppData\\Local\\Temp\\ipykernel_29704\\4068817033.py:15: FutureWarning: The frame.append method is deprecated and will be removed from pandas in a future version. Use pandas.concat instead.\n",
      "  df_results_processing_time = df_results_processing_time.append(co2_modell(df_processing_time.head(i), df_distance_matrix, dict_terminals_process, list_mondays[1], list_mondays[2], country = \"france\")[0], ignore_index=True)\n",
      "C:\\Users\\marle\\OneDrive - tbs-education\\00_Masterarbeit\\Code\\notebooks\\..\\src\\co2_modells.py:28: FutureWarning: Comparison of Timestamp with datetime.date is deprecated in order to match the standard library behavior. In a future version these will be considered non-comparable. Use 'ts == pd.Timestamp(date)' or 'ts.date() == date' instead.\n",
      "  df = df[(df[\"Delivery date\"]>=pd.to_datetime(date_from))&(df[\"Delivery date\"]<=pd.to_datetime(date_to))]\n",
      "\u001b[32m2023-08-11 17:09:27.462\u001b[0m | \u001b[1mINFO    \u001b[0m | \u001b[36msrc.co2_modells\u001b[0m:\u001b[36mpreprocessing_modelling\u001b[0m:\u001b[36m38\u001b[0m - \u001b[1m100\u001b[0m\n",
      "\u001b[32m2023-08-11 17:09:27.483\u001b[0m | \u001b[1mINFO    \u001b[0m | \u001b[36msrc.co2_modells\u001b[0m:\u001b[36mco2_modell\u001b[0m:\u001b[36m71\u001b[0m - \u001b[1m0.32\u001b[0m\n"
     ]
    },
    {
     "name": "stdout",
     "output_type": "stream",
     "text": [
      "Total processing time: 5.03125\n",
      "customers 60: 5.0625\n",
      "(80, 7)\n"
     ]
    },
    {
     "name": "stderr",
     "output_type": "stream",
     "text": [
      "C:\\Users\\marle\\OneDrive - tbs-education\\00_Masterarbeit\\Code\\notebooks\\..\\src\\create_solution.py:74: FutureWarning: Dropping of nuisance columns in DataFrame reductions (with 'numeric_only=None') is deprecated; in a future version this will raise TypeError.  Select only valid columns before calling the reduction.\n",
      "  distances['Dmin'] = distances.min(axis=1)\n"
     ]
    },
    {
     "name": "stdout",
     "output_type": "stream",
     "text": [
      "(31, 6)\n",
      "(45, 10)\n"
     ]
    },
    {
     "name": "stderr",
     "output_type": "stream",
     "text": [
      "C:\\Users\\marle\\AppData\\Local\\Temp\\ipykernel_29704\\4068817033.py:15: FutureWarning: The frame.append method is deprecated and will be removed from pandas in a future version. Use pandas.concat instead.\n",
      "  df_results_processing_time = df_results_processing_time.append(co2_modell(df_processing_time.head(i), df_distance_matrix, dict_terminals_process, list_mondays[1], list_mondays[2], country = \"france\")[0], ignore_index=True)\n",
      "C:\\Users\\marle\\OneDrive - tbs-education\\00_Masterarbeit\\Code\\notebooks\\..\\src\\co2_modells.py:28: FutureWarning: Comparison of Timestamp with datetime.date is deprecated in order to match the standard library behavior. In a future version these will be considered non-comparable. Use 'ts == pd.Timestamp(date)' or 'ts.date() == date' instead.\n",
      "  df = df[(df[\"Delivery date\"]>=pd.to_datetime(date_from))&(df[\"Delivery date\"]<=pd.to_datetime(date_to))]\n",
      "\u001b[32m2023-08-11 17:09:32.616\u001b[0m | \u001b[1mINFO    \u001b[0m | \u001b[36msrc.co2_modells\u001b[0m:\u001b[36mpreprocessing_modelling\u001b[0m:\u001b[36m38\u001b[0m - \u001b[1m100\u001b[0m\n",
      "\u001b[32m2023-08-11 17:09:32.628\u001b[0m | \u001b[1mINFO    \u001b[0m | \u001b[36msrc.co2_modells\u001b[0m:\u001b[36mco2_modell\u001b[0m:\u001b[36m71\u001b[0m - \u001b[1m0.4\u001b[0m\n"
     ]
    },
    {
     "name": "stdout",
     "output_type": "stream",
     "text": [
      "Total processing time: 4.796875\n",
      "customers 80: 4.8125\n",
      "(100, 7)\n"
     ]
    },
    {
     "name": "stderr",
     "output_type": "stream",
     "text": [
      "C:\\Users\\marle\\OneDrive - tbs-education\\00_Masterarbeit\\Code\\notebooks\\..\\src\\create_solution.py:74: FutureWarning: Dropping of nuisance columns in DataFrame reductions (with 'numeric_only=None') is deprecated; in a future version this will raise TypeError.  Select only valid columns before calling the reduction.\n",
      "  distances['Dmin'] = distances.min(axis=1)\n"
     ]
    },
    {
     "name": "stdout",
     "output_type": "stream",
     "text": [
      "(38, 6)\n",
      "(55, 10)\n"
     ]
    },
    {
     "name": "stderr",
     "output_type": "stream",
     "text": [
      "C:\\Users\\marle\\AppData\\Local\\Temp\\ipykernel_29704\\4068817033.py:15: FutureWarning: The frame.append method is deprecated and will be removed from pandas in a future version. Use pandas.concat instead.\n",
      "  df_results_processing_time = df_results_processing_time.append(co2_modell(df_processing_time.head(i), df_distance_matrix, dict_terminals_process, list_mondays[1], list_mondays[2], country = \"france\")[0], ignore_index=True)\n",
      "C:\\Users\\marle\\OneDrive - tbs-education\\00_Masterarbeit\\Code\\notebooks\\..\\src\\co2_modells.py:28: FutureWarning: Comparison of Timestamp with datetime.date is deprecated in order to match the standard library behavior. In a future version these will be considered non-comparable. Use 'ts == pd.Timestamp(date)' or 'ts.date() == date' instead.\n",
      "  df = df[(df[\"Delivery date\"]>=pd.to_datetime(date_from))&(df[\"Delivery date\"]<=pd.to_datetime(date_to))]\n",
      "\u001b[32m2023-08-11 17:09:37.721\u001b[0m | \u001b[1mINFO    \u001b[0m | \u001b[36msrc.co2_modells\u001b[0m:\u001b[36mpreprocessing_modelling\u001b[0m:\u001b[36m38\u001b[0m - \u001b[1m100\u001b[0m\n",
      "\u001b[32m2023-08-11 17:09:37.726\u001b[0m | \u001b[1mINFO    \u001b[0m | \u001b[36msrc.co2_modells\u001b[0m:\u001b[36mco2_modell\u001b[0m:\u001b[36m71\u001b[0m - \u001b[1m0.08\u001b[0m\n"
     ]
    },
    {
     "name": "stdout",
     "output_type": "stream",
     "text": [
      "Total processing time: 4.921875\n",
      "customers 100: 4.921875\n",
      "(20, 7)\n"
     ]
    },
    {
     "name": "stderr",
     "output_type": "stream",
     "text": [
      "C:\\Users\\marle\\OneDrive - tbs-education\\00_Masterarbeit\\Code\\notebooks\\..\\src\\create_solution.py:74: FutureWarning: Dropping of nuisance columns in DataFrame reductions (with 'numeric_only=None') is deprecated; in a future version this will raise TypeError.  Select only valid columns before calling the reduction.\n",
      "  distances['Dmin'] = distances.min(axis=1)\n"
     ]
    },
    {
     "name": "stdout",
     "output_type": "stream",
     "text": [
      "(9, 7)\n",
      "(10, 11)\n"
     ]
    },
    {
     "name": "stderr",
     "output_type": "stream",
     "text": [
      "C:\\Users\\marle\\AppData\\Local\\Temp\\ipykernel_29704\\4068817033.py:15: FutureWarning: The frame.append method is deprecated and will be removed from pandas in a future version. Use pandas.concat instead.\n",
      "  df_results_processing_time = df_results_processing_time.append(co2_modell(df_processing_time.head(i), df_distance_matrix, dict_terminals_process, list_mondays[1], list_mondays[2], country = \"france\")[0], ignore_index=True)\n",
      "C:\\Users\\marle\\OneDrive - tbs-education\\00_Masterarbeit\\Code\\notebooks\\..\\src\\co2_modells.py:28: FutureWarning: Comparison of Timestamp with datetime.date is deprecated in order to match the standard library behavior. In a future version these will be considered non-comparable. Use 'ts == pd.Timestamp(date)' or 'ts.date() == date' instead.\n",
      "  df = df[(df[\"Delivery date\"]>=pd.to_datetime(date_from))&(df[\"Delivery date\"]<=pd.to_datetime(date_to))]\n",
      "\u001b[32m2023-08-11 17:09:43.816\u001b[0m | \u001b[1mINFO    \u001b[0m | \u001b[36msrc.co2_modells\u001b[0m:\u001b[36mpreprocessing_modelling\u001b[0m:\u001b[36m38\u001b[0m - \u001b[1m100\u001b[0m\n",
      "\u001b[32m2023-08-11 17:09:43.822\u001b[0m | \u001b[1mINFO    \u001b[0m | \u001b[36msrc.co2_modells\u001b[0m:\u001b[36mco2_modell\u001b[0m:\u001b[36m71\u001b[0m - \u001b[1m0.16\u001b[0m\n"
     ]
    },
    {
     "name": "stdout",
     "output_type": "stream",
     "text": [
      "Total processing time: 5.84375\n",
      "customers 20: 5.84375\n",
      "(40, 7)\n"
     ]
    },
    {
     "name": "stderr",
     "output_type": "stream",
     "text": [
      "C:\\Users\\marle\\OneDrive - tbs-education\\00_Masterarbeit\\Code\\notebooks\\..\\src\\create_solution.py:74: FutureWarning: Dropping of nuisance columns in DataFrame reductions (with 'numeric_only=None') is deprecated; in a future version this will raise TypeError.  Select only valid columns before calling the reduction.\n",
      "  distances['Dmin'] = distances.min(axis=1)\n"
     ]
    },
    {
     "name": "stdout",
     "output_type": "stream",
     "text": [
      "(15, 7)\n",
      "(21, 11)\n"
     ]
    },
    {
     "name": "stderr",
     "output_type": "stream",
     "text": [
      "C:\\Users\\marle\\AppData\\Local\\Temp\\ipykernel_29704\\4068817033.py:15: FutureWarning: The frame.append method is deprecated and will be removed from pandas in a future version. Use pandas.concat instead.\n",
      "  df_results_processing_time = df_results_processing_time.append(co2_modell(df_processing_time.head(i), df_distance_matrix, dict_terminals_process, list_mondays[1], list_mondays[2], country = \"france\")[0], ignore_index=True)\n",
      "C:\\Users\\marle\\OneDrive - tbs-education\\00_Masterarbeit\\Code\\notebooks\\..\\src\\co2_modells.py:28: FutureWarning: Comparison of Timestamp with datetime.date is deprecated in order to match the standard library behavior. In a future version these will be considered non-comparable. Use 'ts == pd.Timestamp(date)' or 'ts.date() == date' instead.\n",
      "  df = df[(df[\"Delivery date\"]>=pd.to_datetime(date_from))&(df[\"Delivery date\"]<=pd.to_datetime(date_to))]\n",
      "\u001b[32m2023-08-11 17:09:49.931\u001b[0m | \u001b[1mINFO    \u001b[0m | \u001b[36msrc.co2_modells\u001b[0m:\u001b[36mpreprocessing_modelling\u001b[0m:\u001b[36m38\u001b[0m - \u001b[1m100\u001b[0m\n",
      "\u001b[32m2023-08-11 17:09:49.944\u001b[0m | \u001b[1mINFO    \u001b[0m | \u001b[36msrc.co2_modells\u001b[0m:\u001b[36mco2_modell\u001b[0m:\u001b[36m71\u001b[0m - \u001b[1m0.24\u001b[0m\n"
     ]
    },
    {
     "name": "stdout",
     "output_type": "stream",
     "text": [
      "Total processing time: 5.890625\n",
      "customers 40: 5.890625\n",
      "(60, 7)\n"
     ]
    },
    {
     "name": "stderr",
     "output_type": "stream",
     "text": [
      "C:\\Users\\marle\\OneDrive - tbs-education\\00_Masterarbeit\\Code\\notebooks\\..\\src\\create_solution.py:74: FutureWarning: Dropping of nuisance columns in DataFrame reductions (with 'numeric_only=None') is deprecated; in a future version this will raise TypeError.  Select only valid columns before calling the reduction.\n",
      "  distances['Dmin'] = distances.min(axis=1)\n"
     ]
    },
    {
     "name": "stdout",
     "output_type": "stream",
     "text": [
      "(21, 7)\n",
      "(29, 11)\n"
     ]
    },
    {
     "name": "stderr",
     "output_type": "stream",
     "text": [
      "C:\\Users\\marle\\AppData\\Local\\Temp\\ipykernel_29704\\4068817033.py:15: FutureWarning: The frame.append method is deprecated and will be removed from pandas in a future version. Use pandas.concat instead.\n",
      "  df_results_processing_time = df_results_processing_time.append(co2_modell(df_processing_time.head(i), df_distance_matrix, dict_terminals_process, list_mondays[1], list_mondays[2], country = \"france\")[0], ignore_index=True)\n",
      "C:\\Users\\marle\\OneDrive - tbs-education\\00_Masterarbeit\\Code\\notebooks\\..\\src\\co2_modells.py:28: FutureWarning: Comparison of Timestamp with datetime.date is deprecated in order to match the standard library behavior. In a future version these will be considered non-comparable. Use 'ts == pd.Timestamp(date)' or 'ts.date() == date' instead.\n",
      "  df = df[(df[\"Delivery date\"]>=pd.to_datetime(date_from))&(df[\"Delivery date\"]<=pd.to_datetime(date_to))]\n",
      "\u001b[32m2023-08-11 17:09:56.057\u001b[0m | \u001b[1mINFO    \u001b[0m | \u001b[36msrc.co2_modells\u001b[0m:\u001b[36mpreprocessing_modelling\u001b[0m:\u001b[36m38\u001b[0m - \u001b[1m100\u001b[0m\n",
      "\u001b[32m2023-08-11 17:09:56.069\u001b[0m | \u001b[1mINFO    \u001b[0m | \u001b[36msrc.co2_modells\u001b[0m:\u001b[36mco2_modell\u001b[0m:\u001b[36m71\u001b[0m - \u001b[1m0.32\u001b[0m\n"
     ]
    },
    {
     "name": "stdout",
     "output_type": "stream",
     "text": [
      "Total processing time: 5.859375\n",
      "customers 60: 5.890625\n",
      "(80, 7)\n"
     ]
    },
    {
     "name": "stderr",
     "output_type": "stream",
     "text": [
      "C:\\Users\\marle\\OneDrive - tbs-education\\00_Masterarbeit\\Code\\notebooks\\..\\src\\create_solution.py:74: FutureWarning: Dropping of nuisance columns in DataFrame reductions (with 'numeric_only=None') is deprecated; in a future version this will raise TypeError.  Select only valid columns before calling the reduction.\n",
      "  distances['Dmin'] = distances.min(axis=1)\n"
     ]
    },
    {
     "name": "stdout",
     "output_type": "stream",
     "text": [
      "(27, 7)\n",
      "(43, 11)\n"
     ]
    },
    {
     "name": "stderr",
     "output_type": "stream",
     "text": [
      "C:\\Users\\marle\\AppData\\Local\\Temp\\ipykernel_29704\\4068817033.py:15: FutureWarning: The frame.append method is deprecated and will be removed from pandas in a future version. Use pandas.concat instead.\n",
      "  df_results_processing_time = df_results_processing_time.append(co2_modell(df_processing_time.head(i), df_distance_matrix, dict_terminals_process, list_mondays[1], list_mondays[2], country = \"france\")[0], ignore_index=True)\n",
      "C:\\Users\\marle\\OneDrive - tbs-education\\00_Masterarbeit\\Code\\notebooks\\..\\src\\co2_modells.py:28: FutureWarning: Comparison of Timestamp with datetime.date is deprecated in order to match the standard library behavior. In a future version these will be considered non-comparable. Use 'ts == pd.Timestamp(date)' or 'ts.date() == date' instead.\n",
      "  df = df[(df[\"Delivery date\"]>=pd.to_datetime(date_from))&(df[\"Delivery date\"]<=pd.to_datetime(date_to))]\n",
      "\u001b[32m2023-08-11 17:10:02.194\u001b[0m | \u001b[1mINFO    \u001b[0m | \u001b[36msrc.co2_modells\u001b[0m:\u001b[36mpreprocessing_modelling\u001b[0m:\u001b[36m38\u001b[0m - \u001b[1m100\u001b[0m\n",
      "\u001b[32m2023-08-11 17:10:02.210\u001b[0m | \u001b[1mINFO    \u001b[0m | \u001b[36msrc.co2_modells\u001b[0m:\u001b[36mco2_modell\u001b[0m:\u001b[36m71\u001b[0m - \u001b[1m0.4\u001b[0m\n"
     ]
    },
    {
     "name": "stdout",
     "output_type": "stream",
     "text": [
      "Total processing time: 5.953125\n",
      "customers 80: 5.953125\n",
      "(100, 7)\n"
     ]
    },
    {
     "name": "stderr",
     "output_type": "stream",
     "text": [
      "C:\\Users\\marle\\OneDrive - tbs-education\\00_Masterarbeit\\Code\\notebooks\\..\\src\\create_solution.py:74: FutureWarning: Dropping of nuisance columns in DataFrame reductions (with 'numeric_only=None') is deprecated; in a future version this will raise TypeError.  Select only valid columns before calling the reduction.\n",
      "  distances['Dmin'] = distances.min(axis=1)\n"
     ]
    },
    {
     "name": "stdout",
     "output_type": "stream",
     "text": [
      "(31, 7)\n",
      "(51, 11)\n"
     ]
    },
    {
     "name": "stderr",
     "output_type": "stream",
     "text": [
      "C:\\Users\\marle\\AppData\\Local\\Temp\\ipykernel_29704\\4068817033.py:15: FutureWarning: The frame.append method is deprecated and will be removed from pandas in a future version. Use pandas.concat instead.\n",
      "  df_results_processing_time = df_results_processing_time.append(co2_modell(df_processing_time.head(i), df_distance_matrix, dict_terminals_process, list_mondays[1], list_mondays[2], country = \"france\")[0], ignore_index=True)\n",
      "C:\\Users\\marle\\OneDrive - tbs-education\\00_Masterarbeit\\Code\\notebooks\\..\\src\\co2_modells.py:28: FutureWarning: Comparison of Timestamp with datetime.date is deprecated in order to match the standard library behavior. In a future version these will be considered non-comparable. Use 'ts == pd.Timestamp(date)' or 'ts.date() == date' instead.\n",
      "  df = df[(df[\"Delivery date\"]>=pd.to_datetime(date_from))&(df[\"Delivery date\"]<=pd.to_datetime(date_to))]\n",
      "\u001b[32m2023-08-11 17:10:08.314\u001b[0m | \u001b[1mINFO    \u001b[0m | \u001b[36msrc.co2_modells\u001b[0m:\u001b[36mpreprocessing_modelling\u001b[0m:\u001b[36m38\u001b[0m - \u001b[1m100\u001b[0m\n",
      "\u001b[32m2023-08-11 17:10:08.326\u001b[0m | \u001b[1mINFO    \u001b[0m | \u001b[36msrc.co2_modells\u001b[0m:\u001b[36mco2_modell\u001b[0m:\u001b[36m71\u001b[0m - \u001b[1m0.08\u001b[0m\n"
     ]
    },
    {
     "name": "stdout",
     "output_type": "stream",
     "text": [
      "Total processing time: 5.828125\n",
      "customers 100: 5.828125\n",
      "(20, 7)\n"
     ]
    },
    {
     "name": "stderr",
     "output_type": "stream",
     "text": [
      "C:\\Users\\marle\\OneDrive - tbs-education\\00_Masterarbeit\\Code\\notebooks\\..\\src\\create_solution.py:74: FutureWarning: Dropping of nuisance columns in DataFrame reductions (with 'numeric_only=None') is deprecated; in a future version this will raise TypeError.  Select only valid columns before calling the reduction.\n",
      "  distances['Dmin'] = distances.min(axis=1)\n"
     ]
    },
    {
     "name": "stdout",
     "output_type": "stream",
     "text": [
      "(9, 8)\n",
      "(10, 12)\n"
     ]
    },
    {
     "name": "stderr",
     "output_type": "stream",
     "text": [
      "C:\\Users\\marle\\AppData\\Local\\Temp\\ipykernel_29704\\4068817033.py:15: FutureWarning: The frame.append method is deprecated and will be removed from pandas in a future version. Use pandas.concat instead.\n",
      "  df_results_processing_time = df_results_processing_time.append(co2_modell(df_processing_time.head(i), df_distance_matrix, dict_terminals_process, list_mondays[1], list_mondays[2], country = \"france\")[0], ignore_index=True)\n",
      "C:\\Users\\marle\\OneDrive - tbs-education\\00_Masterarbeit\\Code\\notebooks\\..\\src\\co2_modells.py:28: FutureWarning: Comparison of Timestamp with datetime.date is deprecated in order to match the standard library behavior. In a future version these will be considered non-comparable. Use 'ts == pd.Timestamp(date)' or 'ts.date() == date' instead.\n",
      "  df = df[(df[\"Delivery date\"]>=pd.to_datetime(date_from))&(df[\"Delivery date\"]<=pd.to_datetime(date_to))]\n",
      "\u001b[32m2023-08-11 17:10:14.426\u001b[0m | \u001b[1mINFO    \u001b[0m | \u001b[36msrc.co2_modells\u001b[0m:\u001b[36mpreprocessing_modelling\u001b[0m:\u001b[36m38\u001b[0m - \u001b[1m100\u001b[0m\n",
      "\u001b[32m2023-08-11 17:10:14.426\u001b[0m | \u001b[1mINFO    \u001b[0m | \u001b[36msrc.co2_modells\u001b[0m:\u001b[36mco2_modell\u001b[0m:\u001b[36m71\u001b[0m - \u001b[1m0.16\u001b[0m\n"
     ]
    },
    {
     "name": "stdout",
     "output_type": "stream",
     "text": [
      "Total processing time: 5.953125\n",
      "customers 20: 5.953125\n",
      "(40, 7)\n"
     ]
    },
    {
     "name": "stderr",
     "output_type": "stream",
     "text": [
      "C:\\Users\\marle\\OneDrive - tbs-education\\00_Masterarbeit\\Code\\notebooks\\..\\src\\create_solution.py:74: FutureWarning: Dropping of nuisance columns in DataFrame reductions (with 'numeric_only=None') is deprecated; in a future version this will raise TypeError.  Select only valid columns before calling the reduction.\n",
      "  distances['Dmin'] = distances.min(axis=1)\n"
     ]
    },
    {
     "name": "stdout",
     "output_type": "stream",
     "text": [
      "(15, 8)\n",
      "(21, 12)\n"
     ]
    },
    {
     "name": "stderr",
     "output_type": "stream",
     "text": [
      "C:\\Users\\marle\\AppData\\Local\\Temp\\ipykernel_29704\\4068817033.py:15: FutureWarning: The frame.append method is deprecated and will be removed from pandas in a future version. Use pandas.concat instead.\n",
      "  df_results_processing_time = df_results_processing_time.append(co2_modell(df_processing_time.head(i), df_distance_matrix, dict_terminals_process, list_mondays[1], list_mondays[2], country = \"france\")[0], ignore_index=True)\n",
      "C:\\Users\\marle\\OneDrive - tbs-education\\00_Masterarbeit\\Code\\notebooks\\..\\src\\co2_modells.py:28: FutureWarning: Comparison of Timestamp with datetime.date is deprecated in order to match the standard library behavior. In a future version these will be considered non-comparable. Use 'ts == pd.Timestamp(date)' or 'ts.date() == date' instead.\n",
      "  df = df[(df[\"Delivery date\"]>=pd.to_datetime(date_from))&(df[\"Delivery date\"]<=pd.to_datetime(date_to))]\n",
      "\u001b[32m2023-08-11 17:10:20.611\u001b[0m | \u001b[1mINFO    \u001b[0m | \u001b[36msrc.co2_modells\u001b[0m:\u001b[36mpreprocessing_modelling\u001b[0m:\u001b[36m38\u001b[0m - \u001b[1m100\u001b[0m\n",
      "\u001b[32m2023-08-11 17:10:20.611\u001b[0m | \u001b[1mINFO    \u001b[0m | \u001b[36msrc.co2_modells\u001b[0m:\u001b[36mco2_modell\u001b[0m:\u001b[36m71\u001b[0m - \u001b[1m0.24\u001b[0m\n"
     ]
    },
    {
     "name": "stdout",
     "output_type": "stream",
     "text": [
      "Total processing time: 5.875\n",
      "customers 40: 5.875\n",
      "(60, 7)\n"
     ]
    },
    {
     "name": "stderr",
     "output_type": "stream",
     "text": [
      "C:\\Users\\marle\\OneDrive - tbs-education\\00_Masterarbeit\\Code\\notebooks\\..\\src\\create_solution.py:74: FutureWarning: Dropping of nuisance columns in DataFrame reductions (with 'numeric_only=None') is deprecated; in a future version this will raise TypeError.  Select only valid columns before calling the reduction.\n",
      "  distances['Dmin'] = distances.min(axis=1)\n"
     ]
    },
    {
     "name": "stdout",
     "output_type": "stream",
     "text": [
      "(21, 8)\n",
      "(29, 12)\n"
     ]
    },
    {
     "name": "stderr",
     "output_type": "stream",
     "text": [
      "C:\\Users\\marle\\AppData\\Local\\Temp\\ipykernel_29704\\4068817033.py:15: FutureWarning: The frame.append method is deprecated and will be removed from pandas in a future version. Use pandas.concat instead.\n",
      "  df_results_processing_time = df_results_processing_time.append(co2_modell(df_processing_time.head(i), df_distance_matrix, dict_terminals_process, list_mondays[1], list_mondays[2], country = \"france\")[0], ignore_index=True)\n",
      "C:\\Users\\marle\\OneDrive - tbs-education\\00_Masterarbeit\\Code\\notebooks\\..\\src\\co2_modells.py:28: FutureWarning: Comparison of Timestamp with datetime.date is deprecated in order to match the standard library behavior. In a future version these will be considered non-comparable. Use 'ts == pd.Timestamp(date)' or 'ts.date() == date' instead.\n",
      "  df = df[(df[\"Delivery date\"]>=pd.to_datetime(date_from))&(df[\"Delivery date\"]<=pd.to_datetime(date_to))]\n",
      "\u001b[32m2023-08-11 17:10:26.726\u001b[0m | \u001b[1mINFO    \u001b[0m | \u001b[36msrc.co2_modells\u001b[0m:\u001b[36mpreprocessing_modelling\u001b[0m:\u001b[36m38\u001b[0m - \u001b[1m100\u001b[0m\n",
      "\u001b[32m2023-08-11 17:10:26.734\u001b[0m | \u001b[1mINFO    \u001b[0m | \u001b[36msrc.co2_modells\u001b[0m:\u001b[36mco2_modell\u001b[0m:\u001b[36m71\u001b[0m - \u001b[1m0.32\u001b[0m\n"
     ]
    },
    {
     "name": "stdout",
     "output_type": "stream",
     "text": [
      "Total processing time: 6.015625\n",
      "customers 60: 6.03125\n",
      "(80, 7)\n"
     ]
    },
    {
     "name": "stderr",
     "output_type": "stream",
     "text": [
      "C:\\Users\\marle\\OneDrive - tbs-education\\00_Masterarbeit\\Code\\notebooks\\..\\src\\create_solution.py:74: FutureWarning: Dropping of nuisance columns in DataFrame reductions (with 'numeric_only=None') is deprecated; in a future version this will raise TypeError.  Select only valid columns before calling the reduction.\n",
      "  distances['Dmin'] = distances.min(axis=1)\n"
     ]
    },
    {
     "name": "stdout",
     "output_type": "stream",
     "text": [
      "(27, 8)\n",
      "(42, 12)\n"
     ]
    },
    {
     "name": "stderr",
     "output_type": "stream",
     "text": [
      "C:\\Users\\marle\\AppData\\Local\\Temp\\ipykernel_29704\\4068817033.py:15: FutureWarning: The frame.append method is deprecated and will be removed from pandas in a future version. Use pandas.concat instead.\n",
      "  df_results_processing_time = df_results_processing_time.append(co2_modell(df_processing_time.head(i), df_distance_matrix, dict_terminals_process, list_mondays[1], list_mondays[2], country = \"france\")[0], ignore_index=True)\n",
      "C:\\Users\\marle\\OneDrive - tbs-education\\00_Masterarbeit\\Code\\notebooks\\..\\src\\co2_modells.py:28: FutureWarning: Comparison of Timestamp with datetime.date is deprecated in order to match the standard library behavior. In a future version these will be considered non-comparable. Use 'ts == pd.Timestamp(date)' or 'ts.date() == date' instead.\n",
      "  df = df[(df[\"Delivery date\"]>=pd.to_datetime(date_from))&(df[\"Delivery date\"]<=pd.to_datetime(date_to))]\n",
      "\u001b[32m2023-08-11 17:10:33.999\u001b[0m | \u001b[1mINFO    \u001b[0m | \u001b[36msrc.co2_modells\u001b[0m:\u001b[36mpreprocessing_modelling\u001b[0m:\u001b[36m38\u001b[0m - \u001b[1m100\u001b[0m\n",
      "\u001b[32m2023-08-11 17:10:34.011\u001b[0m | \u001b[1mINFO    \u001b[0m | \u001b[36msrc.co2_modells\u001b[0m:\u001b[36mco2_modell\u001b[0m:\u001b[36m71\u001b[0m - \u001b[1m0.4\u001b[0m\n"
     ]
    },
    {
     "name": "stdout",
     "output_type": "stream",
     "text": [
      "Total processing time: 7.03125\n",
      "customers 80: 7.03125\n",
      "(100, 7)\n"
     ]
    },
    {
     "name": "stderr",
     "output_type": "stream",
     "text": [
      "C:\\Users\\marle\\OneDrive - tbs-education\\00_Masterarbeit\\Code\\notebooks\\..\\src\\create_solution.py:74: FutureWarning: Dropping of nuisance columns in DataFrame reductions (with 'numeric_only=None') is deprecated; in a future version this will raise TypeError.  Select only valid columns before calling the reduction.\n",
      "  distances['Dmin'] = distances.min(axis=1)\n"
     ]
    },
    {
     "name": "stdout",
     "output_type": "stream",
     "text": [
      "(31, 8)\n",
      "(49, 12)\n"
     ]
    },
    {
     "name": "stderr",
     "output_type": "stream",
     "text": [
      "C:\\Users\\marle\\AppData\\Local\\Temp\\ipykernel_29704\\4068817033.py:15: FutureWarning: The frame.append method is deprecated and will be removed from pandas in a future version. Use pandas.concat instead.\n",
      "  df_results_processing_time = df_results_processing_time.append(co2_modell(df_processing_time.head(i), df_distance_matrix, dict_terminals_process, list_mondays[1], list_mondays[2], country = \"france\")[0], ignore_index=True)\n",
      "C:\\Users\\marle\\OneDrive - tbs-education\\00_Masterarbeit\\Code\\notebooks\\..\\src\\co2_modells.py:28: FutureWarning: Comparison of Timestamp with datetime.date is deprecated in order to match the standard library behavior. In a future version these will be considered non-comparable. Use 'ts == pd.Timestamp(date)' or 'ts.date() == date' instead.\n",
      "  df = df[(df[\"Delivery date\"]>=pd.to_datetime(date_from))&(df[\"Delivery date\"]<=pd.to_datetime(date_to))]\n",
      "\u001b[32m2023-08-11 17:10:41.119\u001b[0m | \u001b[1mINFO    \u001b[0m | \u001b[36msrc.co2_modells\u001b[0m:\u001b[36mpreprocessing_modelling\u001b[0m:\u001b[36m38\u001b[0m - \u001b[1m100\u001b[0m\n",
      "\u001b[32m2023-08-11 17:10:41.141\u001b[0m | \u001b[1mINFO    \u001b[0m | \u001b[36msrc.co2_modells\u001b[0m:\u001b[36mco2_modell\u001b[0m:\u001b[36m71\u001b[0m - \u001b[1m0.08\u001b[0m\n"
     ]
    },
    {
     "name": "stdout",
     "output_type": "stream",
     "text": [
      "Total processing time: 6.9375\n",
      "customers 100: 6.953125\n",
      "(20, 7)\n"
     ]
    },
    {
     "name": "stderr",
     "output_type": "stream",
     "text": [
      "C:\\Users\\marle\\OneDrive - tbs-education\\00_Masterarbeit\\Code\\notebooks\\..\\src\\create_solution.py:74: FutureWarning: Dropping of nuisance columns in DataFrame reductions (with 'numeric_only=None') is deprecated; in a future version this will raise TypeError.  Select only valid columns before calling the reduction.\n",
      "  distances['Dmin'] = distances.min(axis=1)\n"
     ]
    },
    {
     "name": "stdout",
     "output_type": "stream",
     "text": [
      "(9, 10)\n",
      "(9, 14)\n"
     ]
    },
    {
     "name": "stderr",
     "output_type": "stream",
     "text": [
      "C:\\Users\\marle\\AppData\\Local\\Temp\\ipykernel_29704\\4068817033.py:15: FutureWarning: The frame.append method is deprecated and will be removed from pandas in a future version. Use pandas.concat instead.\n",
      "  df_results_processing_time = df_results_processing_time.append(co2_modell(df_processing_time.head(i), df_distance_matrix, dict_terminals_process, list_mondays[1], list_mondays[2], country = \"france\")[0], ignore_index=True)\n",
      "C:\\Users\\marle\\OneDrive - tbs-education\\00_Masterarbeit\\Code\\notebooks\\..\\src\\co2_modells.py:28: FutureWarning: Comparison of Timestamp with datetime.date is deprecated in order to match the standard library behavior. In a future version these will be considered non-comparable. Use 'ts == pd.Timestamp(date)' or 'ts.date() == date' instead.\n",
      "  df = df[(df[\"Delivery date\"]>=pd.to_datetime(date_from))&(df[\"Delivery date\"]<=pd.to_datetime(date_to))]\n",
      "\u001b[32m2023-08-11 17:10:48.292\u001b[0m | \u001b[1mINFO    \u001b[0m | \u001b[36msrc.co2_modells\u001b[0m:\u001b[36mpreprocessing_modelling\u001b[0m:\u001b[36m38\u001b[0m - \u001b[1m100\u001b[0m\n",
      "\u001b[32m2023-08-11 17:10:48.308\u001b[0m | \u001b[1mINFO    \u001b[0m | \u001b[36msrc.co2_modells\u001b[0m:\u001b[36mco2_modell\u001b[0m:\u001b[36m71\u001b[0m - \u001b[1m0.16\u001b[0m\n"
     ]
    },
    {
     "name": "stdout",
     "output_type": "stream",
     "text": [
      "Total processing time: 6.921875\n",
      "customers 20: 6.921875\n",
      "(40, 7)\n"
     ]
    },
    {
     "name": "stderr",
     "output_type": "stream",
     "text": [
      "C:\\Users\\marle\\OneDrive - tbs-education\\00_Masterarbeit\\Code\\notebooks\\..\\src\\create_solution.py:74: FutureWarning: Dropping of nuisance columns in DataFrame reductions (with 'numeric_only=None') is deprecated; in a future version this will raise TypeError.  Select only valid columns before calling the reduction.\n",
      "  distances['Dmin'] = distances.min(axis=1)\n"
     ]
    },
    {
     "name": "stdout",
     "output_type": "stream",
     "text": [
      "(15, 10)\n",
      "(19, 14)\n"
     ]
    },
    {
     "name": "stderr",
     "output_type": "stream",
     "text": [
      "C:\\Users\\marle\\AppData\\Local\\Temp\\ipykernel_29704\\4068817033.py:15: FutureWarning: The frame.append method is deprecated and will be removed from pandas in a future version. Use pandas.concat instead.\n",
      "  df_results_processing_time = df_results_processing_time.append(co2_modell(df_processing_time.head(i), df_distance_matrix, dict_terminals_process, list_mondays[1], list_mondays[2], country = \"france\")[0], ignore_index=True)\n",
      "C:\\Users\\marle\\OneDrive - tbs-education\\00_Masterarbeit\\Code\\notebooks\\..\\src\\co2_modells.py:28: FutureWarning: Comparison of Timestamp with datetime.date is deprecated in order to match the standard library behavior. In a future version these will be considered non-comparable. Use 'ts == pd.Timestamp(date)' or 'ts.date() == date' instead.\n",
      "  df = df[(df[\"Delivery date\"]>=pd.to_datetime(date_from))&(df[\"Delivery date\"]<=pd.to_datetime(date_to))]\n",
      "\u001b[32m2023-08-11 17:10:55.543\u001b[0m | \u001b[1mINFO    \u001b[0m | \u001b[36msrc.co2_modells\u001b[0m:\u001b[36mpreprocessing_modelling\u001b[0m:\u001b[36m38\u001b[0m - \u001b[1m100\u001b[0m\n",
      "\u001b[32m2023-08-11 17:10:55.549\u001b[0m | \u001b[1mINFO    \u001b[0m | \u001b[36msrc.co2_modells\u001b[0m:\u001b[36mco2_modell\u001b[0m:\u001b[36m71\u001b[0m - \u001b[1m0.24\u001b[0m\n"
     ]
    },
    {
     "name": "stdout",
     "output_type": "stream",
     "text": [
      "Total processing time: 7.03125\n",
      "customers 40: 7.03125\n",
      "(60, 7)\n"
     ]
    },
    {
     "name": "stderr",
     "output_type": "stream",
     "text": [
      "C:\\Users\\marle\\OneDrive - tbs-education\\00_Masterarbeit\\Code\\notebooks\\..\\src\\create_solution.py:74: FutureWarning: Dropping of nuisance columns in DataFrame reductions (with 'numeric_only=None') is deprecated; in a future version this will raise TypeError.  Select only valid columns before calling the reduction.\n",
      "  distances['Dmin'] = distances.min(axis=1)\n"
     ]
    },
    {
     "name": "stdout",
     "output_type": "stream",
     "text": [
      "(20, 10)\n",
      "(26, 14)\n"
     ]
    },
    {
     "name": "stderr",
     "output_type": "stream",
     "text": [
      "C:\\Users\\marle\\AppData\\Local\\Temp\\ipykernel_29704\\4068817033.py:15: FutureWarning: The frame.append method is deprecated and will be removed from pandas in a future version. Use pandas.concat instead.\n",
      "  df_results_processing_time = df_results_processing_time.append(co2_modell(df_processing_time.head(i), df_distance_matrix, dict_terminals_process, list_mondays[1], list_mondays[2], country = \"france\")[0], ignore_index=True)\n",
      "C:\\Users\\marle\\OneDrive - tbs-education\\00_Masterarbeit\\Code\\notebooks\\..\\src\\co2_modells.py:28: FutureWarning: Comparison of Timestamp with datetime.date is deprecated in order to match the standard library behavior. In a future version these will be considered non-comparable. Use 'ts == pd.Timestamp(date)' or 'ts.date() == date' instead.\n",
      "  df = df[(df[\"Delivery date\"]>=pd.to_datetime(date_from))&(df[\"Delivery date\"]<=pd.to_datetime(date_to))]\n",
      "\u001b[32m2023-08-11 17:11:02.659\u001b[0m | \u001b[1mINFO    \u001b[0m | \u001b[36msrc.co2_modells\u001b[0m:\u001b[36mpreprocessing_modelling\u001b[0m:\u001b[36m38\u001b[0m - \u001b[1m100\u001b[0m\n",
      "\u001b[32m2023-08-11 17:11:02.667\u001b[0m | \u001b[1mINFO    \u001b[0m | \u001b[36msrc.co2_modells\u001b[0m:\u001b[36mco2_modell\u001b[0m:\u001b[36m71\u001b[0m - \u001b[1m0.32\u001b[0m\n"
     ]
    },
    {
     "name": "stdout",
     "output_type": "stream",
     "text": [
      "Total processing time: 6.921875\n",
      "customers 60: 6.921875\n",
      "(80, 7)\n"
     ]
    },
    {
     "name": "stderr",
     "output_type": "stream",
     "text": [
      "C:\\Users\\marle\\OneDrive - tbs-education\\00_Masterarbeit\\Code\\notebooks\\..\\src\\create_solution.py:74: FutureWarning: Dropping of nuisance columns in DataFrame reductions (with 'numeric_only=None') is deprecated; in a future version this will raise TypeError.  Select only valid columns before calling the reduction.\n",
      "  distances['Dmin'] = distances.min(axis=1)\n"
     ]
    },
    {
     "name": "stdout",
     "output_type": "stream",
     "text": [
      "(25, 10)\n",
      "(35, 14)\n"
     ]
    },
    {
     "name": "stderr",
     "output_type": "stream",
     "text": [
      "C:\\Users\\marle\\AppData\\Local\\Temp\\ipykernel_29704\\4068817033.py:15: FutureWarning: The frame.append method is deprecated and will be removed from pandas in a future version. Use pandas.concat instead.\n",
      "  df_results_processing_time = df_results_processing_time.append(co2_modell(df_processing_time.head(i), df_distance_matrix, dict_terminals_process, list_mondays[1], list_mondays[2], country = \"france\")[0], ignore_index=True)\n",
      "C:\\Users\\marle\\OneDrive - tbs-education\\00_Masterarbeit\\Code\\notebooks\\..\\src\\co2_modells.py:28: FutureWarning: Comparison of Timestamp with datetime.date is deprecated in order to match the standard library behavior. In a future version these will be considered non-comparable. Use 'ts == pd.Timestamp(date)' or 'ts.date() == date' instead.\n",
      "  df = df[(df[\"Delivery date\"]>=pd.to_datetime(date_from))&(df[\"Delivery date\"]<=pd.to_datetime(date_to))]\n",
      "\u001b[32m2023-08-11 17:11:10.928\u001b[0m | \u001b[1mINFO    \u001b[0m | \u001b[36msrc.co2_modells\u001b[0m:\u001b[36mpreprocessing_modelling\u001b[0m:\u001b[36m38\u001b[0m - \u001b[1m100\u001b[0m\n",
      "\u001b[32m2023-08-11 17:11:10.946\u001b[0m | \u001b[1mINFO    \u001b[0m | \u001b[36msrc.co2_modells\u001b[0m:\u001b[36mco2_modell\u001b[0m:\u001b[36m71\u001b[0m - \u001b[1m0.4\u001b[0m\n"
     ]
    },
    {
     "name": "stdout",
     "output_type": "stream",
     "text": [
      "Total processing time: 8.140625\n",
      "customers 80: 8.140625\n",
      "(100, 7)\n"
     ]
    },
    {
     "name": "stderr",
     "output_type": "stream",
     "text": [
      "C:\\Users\\marle\\OneDrive - tbs-education\\00_Masterarbeit\\Code\\notebooks\\..\\src\\create_solution.py:74: FutureWarning: Dropping of nuisance columns in DataFrame reductions (with 'numeric_only=None') is deprecated; in a future version this will raise TypeError.  Select only valid columns before calling the reduction.\n",
      "  distances['Dmin'] = distances.min(axis=1)\n"
     ]
    },
    {
     "name": "stdout",
     "output_type": "stream",
     "text": [
      "(28, 10)\n",
      "(40, 14)\n"
     ]
    },
    {
     "name": "stderr",
     "output_type": "stream",
     "text": [
      "C:\\Users\\marle\\AppData\\Local\\Temp\\ipykernel_29704\\4068817033.py:15: FutureWarning: The frame.append method is deprecated and will be removed from pandas in a future version. Use pandas.concat instead.\n",
      "  df_results_processing_time = df_results_processing_time.append(co2_modell(df_processing_time.head(i), df_distance_matrix, dict_terminals_process, list_mondays[1], list_mondays[2], country = \"france\")[0], ignore_index=True)\n",
      "C:\\Users\\marle\\OneDrive - tbs-education\\00_Masterarbeit\\Code\\notebooks\\..\\src\\co2_modells.py:28: FutureWarning: Comparison of Timestamp with datetime.date is deprecated in order to match the standard library behavior. In a future version these will be considered non-comparable. Use 'ts == pd.Timestamp(date)' or 'ts.date() == date' instead.\n",
      "  df = df[(df[\"Delivery date\"]>=pd.to_datetime(date_from))&(df[\"Delivery date\"]<=pd.to_datetime(date_to))]\n",
      "\u001b[32m2023-08-11 17:11:19.148\u001b[0m | \u001b[1mINFO    \u001b[0m | \u001b[36msrc.co2_modells\u001b[0m:\u001b[36mpreprocessing_modelling\u001b[0m:\u001b[36m38\u001b[0m - \u001b[1m100\u001b[0m\n",
      "\u001b[32m2023-08-11 17:11:19.196\u001b[0m | \u001b[1mINFO    \u001b[0m | \u001b[36msrc.co2_modells\u001b[0m:\u001b[36mco2_modell\u001b[0m:\u001b[36m71\u001b[0m - \u001b[1m0.08\u001b[0m\n"
     ]
    },
    {
     "name": "stdout",
     "output_type": "stream",
     "text": [
      "Total processing time: 7.921875\n",
      "customers 100: 7.953125\n",
      "(20, 7)\n"
     ]
    },
    {
     "name": "stderr",
     "output_type": "stream",
     "text": [
      "C:\\Users\\marle\\OneDrive - tbs-education\\00_Masterarbeit\\Code\\notebooks\\..\\src\\create_solution.py:74: FutureWarning: Dropping of nuisance columns in DataFrame reductions (with 'numeric_only=None') is deprecated; in a future version this will raise TypeError.  Select only valid columns before calling the reduction.\n",
      "  distances['Dmin'] = distances.min(axis=1)\n"
     ]
    },
    {
     "name": "stdout",
     "output_type": "stream",
     "text": [
      "(9, 10)\n",
      "(9, 14)\n"
     ]
    },
    {
     "name": "stderr",
     "output_type": "stream",
     "text": [
      "C:\\Users\\marle\\AppData\\Local\\Temp\\ipykernel_29704\\4068817033.py:15: FutureWarning: The frame.append method is deprecated and will be removed from pandas in a future version. Use pandas.concat instead.\n",
      "  df_results_processing_time = df_results_processing_time.append(co2_modell(df_processing_time.head(i), df_distance_matrix, dict_terminals_process, list_mondays[1], list_mondays[2], country = \"france\")[0], ignore_index=True)\n",
      "C:\\Users\\marle\\OneDrive - tbs-education\\00_Masterarbeit\\Code\\notebooks\\..\\src\\co2_modells.py:28: FutureWarning: Comparison of Timestamp with datetime.date is deprecated in order to match the standard library behavior. In a future version these will be considered non-comparable. Use 'ts == pd.Timestamp(date)' or 'ts.date() == date' instead.\n",
      "  df = df[(df[\"Delivery date\"]>=pd.to_datetime(date_from))&(df[\"Delivery date\"]<=pd.to_datetime(date_to))]\n",
      "\u001b[32m2023-08-11 17:11:26.316\u001b[0m | \u001b[1mINFO    \u001b[0m | \u001b[36msrc.co2_modells\u001b[0m:\u001b[36mpreprocessing_modelling\u001b[0m:\u001b[36m38\u001b[0m - \u001b[1m100\u001b[0m\n",
      "\u001b[32m2023-08-11 17:11:26.335\u001b[0m | \u001b[1mINFO    \u001b[0m | \u001b[36msrc.co2_modells\u001b[0m:\u001b[36mco2_modell\u001b[0m:\u001b[36m71\u001b[0m - \u001b[1m0.16\u001b[0m\n"
     ]
    },
    {
     "name": "stdout",
     "output_type": "stream",
     "text": [
      "Total processing time: 6.859375\n",
      "customers 20: 6.90625\n",
      "(40, 7)\n"
     ]
    },
    {
     "name": "stderr",
     "output_type": "stream",
     "text": [
      "C:\\Users\\marle\\OneDrive - tbs-education\\00_Masterarbeit\\Code\\notebooks\\..\\src\\create_solution.py:74: FutureWarning: Dropping of nuisance columns in DataFrame reductions (with 'numeric_only=None') is deprecated; in a future version this will raise TypeError.  Select only valid columns before calling the reduction.\n",
      "  distances['Dmin'] = distances.min(axis=1)\n"
     ]
    },
    {
     "name": "stdout",
     "output_type": "stream",
     "text": [
      "(15, 10)\n",
      "(19, 14)\n"
     ]
    },
    {
     "name": "stderr",
     "output_type": "stream",
     "text": [
      "C:\\Users\\marle\\AppData\\Local\\Temp\\ipykernel_29704\\4068817033.py:15: FutureWarning: The frame.append method is deprecated and will be removed from pandas in a future version. Use pandas.concat instead.\n",
      "  df_results_processing_time = df_results_processing_time.append(co2_modell(df_processing_time.head(i), df_distance_matrix, dict_terminals_process, list_mondays[1], list_mondays[2], country = \"france\")[0], ignore_index=True)\n",
      "C:\\Users\\marle\\OneDrive - tbs-education\\00_Masterarbeit\\Code\\notebooks\\..\\src\\co2_modells.py:28: FutureWarning: Comparison of Timestamp with datetime.date is deprecated in order to match the standard library behavior. In a future version these will be considered non-comparable. Use 'ts == pd.Timestamp(date)' or 'ts.date() == date' instead.\n",
      "  df = df[(df[\"Delivery date\"]>=pd.to_datetime(date_from))&(df[\"Delivery date\"]<=pd.to_datetime(date_to))]\n",
      "\u001b[32m2023-08-11 17:11:33.430\u001b[0m | \u001b[1mINFO    \u001b[0m | \u001b[36msrc.co2_modells\u001b[0m:\u001b[36mpreprocessing_modelling\u001b[0m:\u001b[36m38\u001b[0m - \u001b[1m100\u001b[0m\n",
      "\u001b[32m2023-08-11 17:11:33.446\u001b[0m | \u001b[1mINFO    \u001b[0m | \u001b[36msrc.co2_modells\u001b[0m:\u001b[36mco2_modell\u001b[0m:\u001b[36m71\u001b[0m - \u001b[1m0.24\u001b[0m\n"
     ]
    },
    {
     "name": "stdout",
     "output_type": "stream",
     "text": [
      "Total processing time: 6.734375\n",
      "customers 40: 6.75\n",
      "(60, 7)\n"
     ]
    },
    {
     "name": "stderr",
     "output_type": "stream",
     "text": [
      "C:\\Users\\marle\\OneDrive - tbs-education\\00_Masterarbeit\\Code\\notebooks\\..\\src\\create_solution.py:74: FutureWarning: Dropping of nuisance columns in DataFrame reductions (with 'numeric_only=None') is deprecated; in a future version this will raise TypeError.  Select only valid columns before calling the reduction.\n",
      "  distances['Dmin'] = distances.min(axis=1)\n"
     ]
    },
    {
     "name": "stdout",
     "output_type": "stream",
     "text": [
      "(20, 10)\n",
      "(26, 14)\n"
     ]
    },
    {
     "name": "stderr",
     "output_type": "stream",
     "text": [
      "C:\\Users\\marle\\AppData\\Local\\Temp\\ipykernel_29704\\4068817033.py:15: FutureWarning: The frame.append method is deprecated and will be removed from pandas in a future version. Use pandas.concat instead.\n",
      "  df_results_processing_time = df_results_processing_time.append(co2_modell(df_processing_time.head(i), df_distance_matrix, dict_terminals_process, list_mondays[1], list_mondays[2], country = \"france\")[0], ignore_index=True)\n",
      "C:\\Users\\marle\\OneDrive - tbs-education\\00_Masterarbeit\\Code\\notebooks\\..\\src\\co2_modells.py:28: FutureWarning: Comparison of Timestamp with datetime.date is deprecated in order to match the standard library behavior. In a future version these will be considered non-comparable. Use 'ts == pd.Timestamp(date)' or 'ts.date() == date' instead.\n",
      "  df = df[(df[\"Delivery date\"]>=pd.to_datetime(date_from))&(df[\"Delivery date\"]<=pd.to_datetime(date_to))]\n",
      "\u001b[32m2023-08-11 17:11:40.591\u001b[0m | \u001b[1mINFO    \u001b[0m | \u001b[36msrc.co2_modells\u001b[0m:\u001b[36mpreprocessing_modelling\u001b[0m:\u001b[36m38\u001b[0m - \u001b[1m100\u001b[0m\n",
      "\u001b[32m2023-08-11 17:11:40.591\u001b[0m | \u001b[1mINFO    \u001b[0m | \u001b[36msrc.co2_modells\u001b[0m:\u001b[36mco2_modell\u001b[0m:\u001b[36m71\u001b[0m - \u001b[1m0.32\u001b[0m\n"
     ]
    },
    {
     "name": "stdout",
     "output_type": "stream",
     "text": [
      "Total processing time: 6.984375\n",
      "customers 60: 6.984375\n",
      "(80, 7)\n"
     ]
    },
    {
     "name": "stderr",
     "output_type": "stream",
     "text": [
      "C:\\Users\\marle\\OneDrive - tbs-education\\00_Masterarbeit\\Code\\notebooks\\..\\src\\create_solution.py:74: FutureWarning: Dropping of nuisance columns in DataFrame reductions (with 'numeric_only=None') is deprecated; in a future version this will raise TypeError.  Select only valid columns before calling the reduction.\n",
      "  distances['Dmin'] = distances.min(axis=1)\n"
     ]
    },
    {
     "name": "stdout",
     "output_type": "stream",
     "text": [
      "(25, 10)\n",
      "(35, 14)\n"
     ]
    },
    {
     "name": "stderr",
     "output_type": "stream",
     "text": [
      "C:\\Users\\marle\\AppData\\Local\\Temp\\ipykernel_29704\\4068817033.py:15: FutureWarning: The frame.append method is deprecated and will be removed from pandas in a future version. Use pandas.concat instead.\n",
      "  df_results_processing_time = df_results_processing_time.append(co2_modell(df_processing_time.head(i), df_distance_matrix, dict_terminals_process, list_mondays[1], list_mondays[2], country = \"france\")[0], ignore_index=True)\n",
      "C:\\Users\\marle\\OneDrive - tbs-education\\00_Masterarbeit\\Code\\notebooks\\..\\src\\co2_modells.py:28: FutureWarning: Comparison of Timestamp with datetime.date is deprecated in order to match the standard library behavior. In a future version these will be considered non-comparable. Use 'ts == pd.Timestamp(date)' or 'ts.date() == date' instead.\n",
      "  df = df[(df[\"Delivery date\"]>=pd.to_datetime(date_from))&(df[\"Delivery date\"]<=pd.to_datetime(date_to))]\n",
      "\u001b[32m2023-08-11 17:11:48.954\u001b[0m | \u001b[1mINFO    \u001b[0m | \u001b[36msrc.co2_modells\u001b[0m:\u001b[36mpreprocessing_modelling\u001b[0m:\u001b[36m38\u001b[0m - \u001b[1m100\u001b[0m\n",
      "\u001b[32m2023-08-11 17:11:48.972\u001b[0m | \u001b[1mINFO    \u001b[0m | \u001b[36msrc.co2_modells\u001b[0m:\u001b[36mco2_modell\u001b[0m:\u001b[36m71\u001b[0m - \u001b[1m0.4\u001b[0m\n"
     ]
    },
    {
     "name": "stdout",
     "output_type": "stream",
     "text": [
      "Total processing time: 4.875\n",
      "customers 80: 4.890625\n",
      "(100, 7)\n"
     ]
    },
    {
     "name": "stderr",
     "output_type": "stream",
     "text": [
      "C:\\Users\\marle\\OneDrive - tbs-education\\00_Masterarbeit\\Code\\notebooks\\..\\src\\create_solution.py:74: FutureWarning: Dropping of nuisance columns in DataFrame reductions (with 'numeric_only=None') is deprecated; in a future version this will raise TypeError.  Select only valid columns before calling the reduction.\n",
      "  distances['Dmin'] = distances.min(axis=1)\n"
     ]
    },
    {
     "name": "stdout",
     "output_type": "stream",
     "text": [
      "(28, 10)\n",
      "(40, 14)\n",
      "Total processing time: 7.625\n",
      "customers 100: 7.65625\n"
     ]
    },
    {
     "name": "stderr",
     "output_type": "stream",
     "text": [
      "C:\\Users\\marle\\AppData\\Local\\Temp\\ipykernel_29704\\4068817033.py:15: FutureWarning: The frame.append method is deprecated and will be removed from pandas in a future version. Use pandas.concat instead.\n",
      "  df_results_processing_time = df_results_processing_time.append(co2_modell(df_processing_time.head(i), df_distance_matrix, dict_terminals_process, list_mondays[1], list_mondays[2], country = \"france\")[0], ignore_index=True)\n"
     ]
    }
   ],
   "source": [
    "df_processing_time = df_dc1.groupby([\"Receiver name\", \"Receiver latitude\", \"Receiver longitude\", \"Shipper name\", \"Shipper longitude\", \"Shipper latitude\"]).sum().reset_index()\n",
    "df_processing_time[\"Sender weight (kg)\"] = 100\n",
    "df_processing_time[\"Delivery date\"] = list_mondays[2]\n",
    "dict_process_time = {}\n",
    "dict_process_time[0] = process_time_road\n",
    "iterations = [2,3,4,5,6,8,10]\n",
    "process_time = []\n",
    "for nb_terminals in iterations:\n",
    "    dict_terminals_process = {x: dict_terminals[x] for x in [\"T4\", \"T6\", \"T5\", \"T1\", \"T9\", \"T2\", \"T7\", \"T8\"][:nb_terminals]}\n",
    "    process_time = []\n",
    "    clients = [20,40,60,80,100]\n",
    "    for i in clients:\n",
    "        t = time.process_time()\n",
    "        df_results_processing_time = pd.DataFrame(columns = [\"date from\", \"date to\", \"co2 road\", \"distance road\", \"routes road\", \"processing time road\",\"co2 railroad\", \"distance railroad\", \"terminal allocation\", \"routes railroad\", \"processing time railroad\"])\n",
    "        df_results_processing_time = df_results_processing_time.append(co2_modell(df_processing_time.head(i), df_distance_matrix, dict_terminals_process, list_mondays[1], list_mondays[2], country = \"france\")[0], ignore_index=True)\n",
    "        elapsed_time = time.process_time() - t\n",
    "        print(f\"customers {i}: {elapsed_time}\")\n",
    "        process_time.append(elapsed_time)\n",
    "    dict_process_time[nb_terminals] = process_time\n",
    "dict_process_time[10] = process_time_railroad"
   ]
  },
  {
   "cell_type": "code",
   "execution_count": 42,
   "id": "3e391dd9",
   "metadata": {},
   "outputs": [],
   "source": [
    "dict_index_names = {0: \"20\", 1: \"40\", 2:\"60\", 3: \"80\", 4: \"100\"}"
   ]
  },
  {
   "cell_type": "code",
   "execution_count": 45,
   "id": "b18202cb",
   "metadata": {},
   "outputs": [],
   "source": [
    "df_dict_process_time_drop = pd.DataFrame(dict_process_time_drop).T.rename(dict_index_names, axis = 1)"
   ]
  },
  {
   "cell_type": "code",
   "execution_count": 72,
   "id": "19201ad3",
   "metadata": {},
   "outputs": [
    {
     "data": {
      "text/html": [
       "<div>\n",
       "<style scoped>\n",
       "    .dataframe tbody tr th:only-of-type {\n",
       "        vertical-align: middle;\n",
       "    }\n",
       "\n",
       "    .dataframe tbody tr th {\n",
       "        vertical-align: top;\n",
       "    }\n",
       "\n",
       "    .dataframe thead th {\n",
       "        text-align: right;\n",
       "    }\n",
       "</style>\n",
       "<table border=\"1\" class=\"dataframe\">\n",
       "  <thead>\n",
       "    <tr style=\"text-align: right;\">\n",
       "      <th></th>\n",
       "      <th>0</th>\n",
       "      <th>2</th>\n",
       "      <th>3</th>\n",
       "      <th>4</th>\n",
       "      <th>5</th>\n",
       "      <th>6</th>\n",
       "      <th>8</th>\n",
       "      <th>10</th>\n",
       "    </tr>\n",
       "  </thead>\n",
       "  <tbody>\n",
       "    <tr>\n",
       "      <th>20</th>\n",
       "      <td>0.921875</td>\n",
       "      <td>5.937500</td>\n",
       "      <td>7.984375</td>\n",
       "      <td>9.531250</td>\n",
       "      <td>12.031250</td>\n",
       "      <td>11.625000</td>\n",
       "      <td>16.656250</td>\n",
       "      <td>23.921875</td>\n",
       "    </tr>\n",
       "    <tr>\n",
       "      <th>40</th>\n",
       "      <td>0.968750</td>\n",
       "      <td>5.875000</td>\n",
       "      <td>8.000000</td>\n",
       "      <td>9.859375</td>\n",
       "      <td>11.781250</td>\n",
       "      <td>11.921875</td>\n",
       "      <td>13.734375</td>\n",
       "      <td>16.828125</td>\n",
       "    </tr>\n",
       "    <tr>\n",
       "      <th>60</th>\n",
       "      <td>0.968750</td>\n",
       "      <td>5.953125</td>\n",
       "      <td>7.906250</td>\n",
       "      <td>9.890625</td>\n",
       "      <td>11.734375</td>\n",
       "      <td>11.875000</td>\n",
       "      <td>14.031250</td>\n",
       "      <td>16.781250</td>\n",
       "    </tr>\n",
       "    <tr>\n",
       "      <th>80</th>\n",
       "      <td>0.921875</td>\n",
       "      <td>5.031250</td>\n",
       "      <td>7.796875</td>\n",
       "      <td>10.937500</td>\n",
       "      <td>12.953125</td>\n",
       "      <td>15.031250</td>\n",
       "      <td>17.328125</td>\n",
       "      <td>24.906250</td>\n",
       "    </tr>\n",
       "    <tr>\n",
       "      <th>100</th>\n",
       "      <td>0.968750</td>\n",
       "      <td>5.015625</td>\n",
       "      <td>10.187500</td>\n",
       "      <td>11.093750</td>\n",
       "      <td>12.765625</td>\n",
       "      <td>15.250000</td>\n",
       "      <td>14.000000</td>\n",
       "      <td>23.109375</td>\n",
       "    </tr>\n",
       "  </tbody>\n",
       "</table>\n",
       "</div>"
      ],
      "text/plain": [
       "           0         2          3          4          5          6   \\\n",
       "20   0.921875  5.937500   7.984375   9.531250  12.031250  11.625000   \n",
       "40   0.968750  5.875000   8.000000   9.859375  11.781250  11.921875   \n",
       "60   0.968750  5.953125   7.906250   9.890625  11.734375  11.875000   \n",
       "80   0.921875  5.031250   7.796875  10.937500  12.953125  15.031250   \n",
       "100  0.968750  5.015625  10.187500  11.093750  12.765625  15.250000   \n",
       "\n",
       "            8          10  \n",
       "20   16.656250  23.921875  \n",
       "40   13.734375  16.828125  \n",
       "60   14.031250  16.781250  \n",
       "80   17.328125  24.906250  \n",
       "100  14.000000  23.109375  "
      ]
     },
     "execution_count": 72,
     "metadata": {},
     "output_type": "execute_result"
    }
   ],
   "source": [
    "df_dict_process_time_drop.T"
   ]
  },
  {
   "cell_type": "code",
   "execution_count": 44,
   "id": "e5e37dd8",
   "metadata": {},
   "outputs": [],
   "source": [
    "import xlsxwriter\n",
    "mode = \"combined\"\n",
    "\n",
    "writer = pd.ExcelWriter(f'results/algorithms/processing_time_{mode}.xlsx', engine='xlsxwriter')\n",
    "    \n",
    "# Write each dataframe to a different worksheet.\n",
    "pd.DataFrame(dict_process_time).T.rename(dict_index_names, axis = 1).to_excel(writer, sheet_name=f'Base')\n",
    "pd.DataFrame(dict_process_time_drop).T.rename(dict_index_names, axis = 1).to_excel(writer, sheet_name=f'Drop')\n",
    "writer.close()"
   ]
  },
  {
   "cell_type": "code",
   "execution_count": 92,
   "id": "7fc0e8fb",
   "metadata": {},
   "outputs": [
    {
     "data": {
      "application/vnd.plotly.v1+json": {
       "config": {
        "plotlyServerURL": "https://plot.ly"
       },
       "data": [
        {
         "name": "20 Clients",
         "type": "scatter",
         "x": [
          0,
          2,
          3,
          4,
          5,
          6,
          8,
          10
         ],
         "y": [
          0.9375,
          2.90625,
          3.890625,
          4.90625,
          5.84375,
          5.953125,
          6.921875,
          7.015625
         ]
        },
        {
         "name": "40 Clients",
         "type": "scatter",
         "x": [
          0,
          2,
          3,
          4,
          5,
          6,
          8,
          10
         ],
         "y": [
          0.921875,
          2.9375,
          3.875,
          4.921875,
          5.890625,
          5.875,
          7.03125,
          6.84375
         ]
        },
        {
         "name": "60 Clients",
         "type": "scatter",
         "x": [
          0,
          2,
          3,
          4,
          5,
          6,
          8,
          10
         ],
         "y": [
          0.9375,
          2.984375,
          3.859375,
          5.0625,
          5.890625,
          6.03125,
          6.921875,
          6.96875
         ]
        },
        {
         "name": "80 Clients",
         "type": "scatter",
         "x": [
          0,
          2,
          3,
          4,
          5,
          6,
          8,
          10
         ],
         "y": [
          0.96875,
          2.921875,
          3.921875,
          4.8125,
          5.953125,
          7.03125,
          8.140625,
          9.140625
         ]
        },
        {
         "name": "100 Clients",
         "type": "scatter",
         "x": [
          0,
          2,
          3,
          4,
          5,
          6,
          8,
          10
         ],
         "y": [
          0.921875,
          2.921875,
          3.90625,
          4.921875,
          5.828125,
          6.953125,
          7.953125,
          8.84375
         ]
        }
       ],
       "layout": {
        "template": {
         "data": {
          "bar": [
           {
            "error_x": {
             "color": "#2a3f5f"
            },
            "error_y": {
             "color": "#2a3f5f"
            },
            "marker": {
             "line": {
              "color": "white",
              "width": 0.5
             },
             "pattern": {
              "fillmode": "overlay",
              "size": 10,
              "solidity": 0.2
             }
            },
            "type": "bar"
           }
          ],
          "barpolar": [
           {
            "marker": {
             "line": {
              "color": "white",
              "width": 0.5
             },
             "pattern": {
              "fillmode": "overlay",
              "size": 10,
              "solidity": 0.2
             }
            },
            "type": "barpolar"
           }
          ],
          "carpet": [
           {
            "aaxis": {
             "endlinecolor": "#2a3f5f",
             "gridcolor": "#C8D4E3",
             "linecolor": "#C8D4E3",
             "minorgridcolor": "#C8D4E3",
             "startlinecolor": "#2a3f5f"
            },
            "baxis": {
             "endlinecolor": "#2a3f5f",
             "gridcolor": "#C8D4E3",
             "linecolor": "#C8D4E3",
             "minorgridcolor": "#C8D4E3",
             "startlinecolor": "#2a3f5f"
            },
            "type": "carpet"
           }
          ],
          "choropleth": [
           {
            "colorbar": {
             "outlinewidth": 0,
             "ticks": ""
            },
            "type": "choropleth"
           }
          ],
          "contour": [
           {
            "colorbar": {
             "outlinewidth": 0,
             "ticks": ""
            },
            "colorscale": [
             [
              0,
              "#0d0887"
             ],
             [
              0.1111111111111111,
              "#46039f"
             ],
             [
              0.2222222222222222,
              "#7201a8"
             ],
             [
              0.3333333333333333,
              "#9c179e"
             ],
             [
              0.4444444444444444,
              "#bd3786"
             ],
             [
              0.5555555555555556,
              "#d8576b"
             ],
             [
              0.6666666666666666,
              "#ed7953"
             ],
             [
              0.7777777777777778,
              "#fb9f3a"
             ],
             [
              0.8888888888888888,
              "#fdca26"
             ],
             [
              1,
              "#f0f921"
             ]
            ],
            "type": "contour"
           }
          ],
          "contourcarpet": [
           {
            "colorbar": {
             "outlinewidth": 0,
             "ticks": ""
            },
            "type": "contourcarpet"
           }
          ],
          "heatmap": [
           {
            "colorbar": {
             "outlinewidth": 0,
             "ticks": ""
            },
            "colorscale": [
             [
              0,
              "#0d0887"
             ],
             [
              0.1111111111111111,
              "#46039f"
             ],
             [
              0.2222222222222222,
              "#7201a8"
             ],
             [
              0.3333333333333333,
              "#9c179e"
             ],
             [
              0.4444444444444444,
              "#bd3786"
             ],
             [
              0.5555555555555556,
              "#d8576b"
             ],
             [
              0.6666666666666666,
              "#ed7953"
             ],
             [
              0.7777777777777778,
              "#fb9f3a"
             ],
             [
              0.8888888888888888,
              "#fdca26"
             ],
             [
              1,
              "#f0f921"
             ]
            ],
            "type": "heatmap"
           }
          ],
          "heatmapgl": [
           {
            "colorbar": {
             "outlinewidth": 0,
             "ticks": ""
            },
            "colorscale": [
             [
              0,
              "#0d0887"
             ],
             [
              0.1111111111111111,
              "#46039f"
             ],
             [
              0.2222222222222222,
              "#7201a8"
             ],
             [
              0.3333333333333333,
              "#9c179e"
             ],
             [
              0.4444444444444444,
              "#bd3786"
             ],
             [
              0.5555555555555556,
              "#d8576b"
             ],
             [
              0.6666666666666666,
              "#ed7953"
             ],
             [
              0.7777777777777778,
              "#fb9f3a"
             ],
             [
              0.8888888888888888,
              "#fdca26"
             ],
             [
              1,
              "#f0f921"
             ]
            ],
            "type": "heatmapgl"
           }
          ],
          "histogram": [
           {
            "marker": {
             "pattern": {
              "fillmode": "overlay",
              "size": 10,
              "solidity": 0.2
             }
            },
            "type": "histogram"
           }
          ],
          "histogram2d": [
           {
            "colorbar": {
             "outlinewidth": 0,
             "ticks": ""
            },
            "colorscale": [
             [
              0,
              "#0d0887"
             ],
             [
              0.1111111111111111,
              "#46039f"
             ],
             [
              0.2222222222222222,
              "#7201a8"
             ],
             [
              0.3333333333333333,
              "#9c179e"
             ],
             [
              0.4444444444444444,
              "#bd3786"
             ],
             [
              0.5555555555555556,
              "#d8576b"
             ],
             [
              0.6666666666666666,
              "#ed7953"
             ],
             [
              0.7777777777777778,
              "#fb9f3a"
             ],
             [
              0.8888888888888888,
              "#fdca26"
             ],
             [
              1,
              "#f0f921"
             ]
            ],
            "type": "histogram2d"
           }
          ],
          "histogram2dcontour": [
           {
            "colorbar": {
             "outlinewidth": 0,
             "ticks": ""
            },
            "colorscale": [
             [
              0,
              "#0d0887"
             ],
             [
              0.1111111111111111,
              "#46039f"
             ],
             [
              0.2222222222222222,
              "#7201a8"
             ],
             [
              0.3333333333333333,
              "#9c179e"
             ],
             [
              0.4444444444444444,
              "#bd3786"
             ],
             [
              0.5555555555555556,
              "#d8576b"
             ],
             [
              0.6666666666666666,
              "#ed7953"
             ],
             [
              0.7777777777777778,
              "#fb9f3a"
             ],
             [
              0.8888888888888888,
              "#fdca26"
             ],
             [
              1,
              "#f0f921"
             ]
            ],
            "type": "histogram2dcontour"
           }
          ],
          "mesh3d": [
           {
            "colorbar": {
             "outlinewidth": 0,
             "ticks": ""
            },
            "type": "mesh3d"
           }
          ],
          "parcoords": [
           {
            "line": {
             "colorbar": {
              "outlinewidth": 0,
              "ticks": ""
             }
            },
            "type": "parcoords"
           }
          ],
          "pie": [
           {
            "automargin": true,
            "type": "pie"
           }
          ],
          "scatter": [
           {
            "fillpattern": {
             "fillmode": "overlay",
             "size": 10,
             "solidity": 0.2
            },
            "type": "scatter"
           }
          ],
          "scatter3d": [
           {
            "line": {
             "colorbar": {
              "outlinewidth": 0,
              "ticks": ""
             }
            },
            "marker": {
             "colorbar": {
              "outlinewidth": 0,
              "ticks": ""
             }
            },
            "type": "scatter3d"
           }
          ],
          "scattercarpet": [
           {
            "marker": {
             "colorbar": {
              "outlinewidth": 0,
              "ticks": ""
             }
            },
            "type": "scattercarpet"
           }
          ],
          "scattergeo": [
           {
            "marker": {
             "colorbar": {
              "outlinewidth": 0,
              "ticks": ""
             }
            },
            "type": "scattergeo"
           }
          ],
          "scattergl": [
           {
            "marker": {
             "colorbar": {
              "outlinewidth": 0,
              "ticks": ""
             }
            },
            "type": "scattergl"
           }
          ],
          "scattermapbox": [
           {
            "marker": {
             "colorbar": {
              "outlinewidth": 0,
              "ticks": ""
             }
            },
            "type": "scattermapbox"
           }
          ],
          "scatterpolar": [
           {
            "marker": {
             "colorbar": {
              "outlinewidth": 0,
              "ticks": ""
             }
            },
            "type": "scatterpolar"
           }
          ],
          "scatterpolargl": [
           {
            "marker": {
             "colorbar": {
              "outlinewidth": 0,
              "ticks": ""
             }
            },
            "type": "scatterpolargl"
           }
          ],
          "scatterternary": [
           {
            "marker": {
             "colorbar": {
              "outlinewidth": 0,
              "ticks": ""
             }
            },
            "type": "scatterternary"
           }
          ],
          "surface": [
           {
            "colorbar": {
             "outlinewidth": 0,
             "ticks": ""
            },
            "colorscale": [
             [
              0,
              "#0d0887"
             ],
             [
              0.1111111111111111,
              "#46039f"
             ],
             [
              0.2222222222222222,
              "#7201a8"
             ],
             [
              0.3333333333333333,
              "#9c179e"
             ],
             [
              0.4444444444444444,
              "#bd3786"
             ],
             [
              0.5555555555555556,
              "#d8576b"
             ],
             [
              0.6666666666666666,
              "#ed7953"
             ],
             [
              0.7777777777777778,
              "#fb9f3a"
             ],
             [
              0.8888888888888888,
              "#fdca26"
             ],
             [
              1,
              "#f0f921"
             ]
            ],
            "type": "surface"
           }
          ],
          "table": [
           {
            "cells": {
             "fill": {
              "color": "#EBF0F8"
             },
             "line": {
              "color": "white"
             }
            },
            "header": {
             "fill": {
              "color": "#C8D4E3"
             },
             "line": {
              "color": "white"
             }
            },
            "type": "table"
           }
          ]
         },
         "layout": {
          "annotationdefaults": {
           "arrowcolor": "#2a3f5f",
           "arrowhead": 0,
           "arrowwidth": 1
          },
          "autotypenumbers": "strict",
          "coloraxis": {
           "colorbar": {
            "outlinewidth": 0,
            "ticks": ""
           }
          },
          "colorscale": {
           "diverging": [
            [
             0,
             "#8e0152"
            ],
            [
             0.1,
             "#c51b7d"
            ],
            [
             0.2,
             "#de77ae"
            ],
            [
             0.3,
             "#f1b6da"
            ],
            [
             0.4,
             "#fde0ef"
            ],
            [
             0.5,
             "#f7f7f7"
            ],
            [
             0.6,
             "#e6f5d0"
            ],
            [
             0.7,
             "#b8e186"
            ],
            [
             0.8,
             "#7fbc41"
            ],
            [
             0.9,
             "#4d9221"
            ],
            [
             1,
             "#276419"
            ]
           ],
           "sequential": [
            [
             0,
             "#0d0887"
            ],
            [
             0.1111111111111111,
             "#46039f"
            ],
            [
             0.2222222222222222,
             "#7201a8"
            ],
            [
             0.3333333333333333,
             "#9c179e"
            ],
            [
             0.4444444444444444,
             "#bd3786"
            ],
            [
             0.5555555555555556,
             "#d8576b"
            ],
            [
             0.6666666666666666,
             "#ed7953"
            ],
            [
             0.7777777777777778,
             "#fb9f3a"
            ],
            [
             0.8888888888888888,
             "#fdca26"
            ],
            [
             1,
             "#f0f921"
            ]
           ],
           "sequentialminus": [
            [
             0,
             "#0d0887"
            ],
            [
             0.1111111111111111,
             "#46039f"
            ],
            [
             0.2222222222222222,
             "#7201a8"
            ],
            [
             0.3333333333333333,
             "#9c179e"
            ],
            [
             0.4444444444444444,
             "#bd3786"
            ],
            [
             0.5555555555555556,
             "#d8576b"
            ],
            [
             0.6666666666666666,
             "#ed7953"
            ],
            [
             0.7777777777777778,
             "#fb9f3a"
            ],
            [
             0.8888888888888888,
             "#fdca26"
            ],
            [
             1,
             "#f0f921"
            ]
           ]
          },
          "colorway": [
           "#636efa",
           "#EF553B",
           "#00cc96",
           "#ab63fa",
           "#FFA15A",
           "#19d3f3",
           "#FF6692",
           "#B6E880",
           "#FF97FF",
           "#FECB52"
          ],
          "font": {
           "color": "#2a3f5f",
           "family": "arial",
           "size": 12
          },
          "geo": {
           "bgcolor": "white",
           "lakecolor": "white",
           "landcolor": "white",
           "showlakes": true,
           "showland": true,
           "subunitcolor": "#C8D4E3"
          },
          "hoverlabel": {
           "align": "left"
          },
          "hovermode": "closest",
          "mapbox": {
           "style": "light"
          },
          "paper_bgcolor": "white",
          "plot_bgcolor": "white",
          "polar": {
           "angularaxis": {
            "gridcolor": "#EBF0F8",
            "linecolor": "#EBF0F8",
            "ticks": ""
           },
           "bgcolor": "white",
           "radialaxis": {
            "gridcolor": "#EBF0F8",
            "linecolor": "#EBF0F8",
            "ticks": ""
           }
          },
          "scene": {
           "xaxis": {
            "backgroundcolor": "white",
            "gridcolor": "#DFE8F3",
            "gridwidth": 2,
            "linecolor": "#EBF0F8",
            "showbackground": true,
            "ticks": "",
            "zerolinecolor": "#EBF0F8"
           },
           "yaxis": {
            "backgroundcolor": "white",
            "gridcolor": "#DFE8F3",
            "gridwidth": 2,
            "linecolor": "#EBF0F8",
            "showbackground": true,
            "ticks": "",
            "zerolinecolor": "#EBF0F8"
           },
           "zaxis": {
            "backgroundcolor": "white",
            "gridcolor": "#DFE8F3",
            "gridwidth": 2,
            "linecolor": "#EBF0F8",
            "showbackground": true,
            "ticks": "",
            "zerolinecolor": "#EBF0F8"
           }
          },
          "shapedefaults": {
           "line": {
            "color": "#2a3f5f"
           }
          },
          "ternary": {
           "aaxis": {
            "gridcolor": "#DFE8F3",
            "linecolor": "#A2B1C6",
            "ticks": ""
           },
           "baxis": {
            "gridcolor": "#DFE8F3",
            "linecolor": "#A2B1C6",
            "ticks": ""
           },
           "bgcolor": "white",
           "caxis": {
            "gridcolor": "#DFE8F3",
            "linecolor": "#A2B1C6",
            "ticks": ""
           }
          },
          "title": {
           "x": 0.05
          },
          "xaxis": {
           "automargin": true,
           "gridcolor": "#EBF0F8",
           "linecolor": "#EBF0F8",
           "ticks": "",
           "title": {
            "standoff": 15
           },
           "zerolinecolor": "#EBF0F8",
           "zerolinewidth": 2
          },
          "yaxis": {
           "automargin": true,
           "gridcolor": "#EBF0F8",
           "linecolor": "#EBF0F8",
           "ticks": "",
           "title": {
            "standoff": 15
           },
           "zerolinecolor": "#EBF0F8",
           "zerolinewidth": 2
          }
         }
        },
        "xaxis": {
         "title": {
          "text": "Number of terminals"
         }
        },
        "yaxis": {
         "title": {
          "text": "Processing time [s]"
         }
        }
       }
      },
      "text/html": [
       "<div>                            <div id=\"6416da52-6248-4d00-9a22-80a7cd8a303d\" class=\"plotly-graph-div\" style=\"height:525px; width:100%;\"></div>            <script type=\"text/javascript\">                require([\"plotly\"], function(Plotly) {                    window.PLOTLYENV=window.PLOTLYENV || {};                                    if (document.getElementById(\"6416da52-6248-4d00-9a22-80a7cd8a303d\")) {                    Plotly.newPlot(                        \"6416da52-6248-4d00-9a22-80a7cd8a303d\",                        [{\"name\":\"20 Clients\",\"x\":[0,2,3,4,5,6,8,10],\"y\":[0.9375,2.90625,3.890625,4.90625,5.84375,5.953125,6.921875,7.015625],\"type\":\"scatter\"},{\"name\":\"40 Clients\",\"x\":[0,2,3,4,5,6,8,10],\"y\":[0.921875,2.9375,3.875,4.921875,5.890625,5.875,7.03125,6.84375],\"type\":\"scatter\"},{\"name\":\"60 Clients\",\"x\":[0,2,3,4,5,6,8,10],\"y\":[0.9375,2.984375,3.859375,5.0625,5.890625,6.03125,6.921875,6.96875],\"type\":\"scatter\"},{\"name\":\"80 Clients\",\"x\":[0,2,3,4,5,6,8,10],\"y\":[0.96875,2.921875,3.921875,4.8125,5.953125,7.03125,8.140625,9.140625],\"type\":\"scatter\"},{\"name\":\"100 Clients\",\"x\":[0,2,3,4,5,6,8,10],\"y\":[0.921875,2.921875,3.90625,4.921875,5.828125,6.953125,7.953125,8.84375],\"type\":\"scatter\"}],                        {\"template\":{\"data\":{\"barpolar\":[{\"marker\":{\"line\":{\"color\":\"white\",\"width\":0.5},\"pattern\":{\"fillmode\":\"overlay\",\"size\":10,\"solidity\":0.2}},\"type\":\"barpolar\"}],\"bar\":[{\"error_x\":{\"color\":\"#2a3f5f\"},\"error_y\":{\"color\":\"#2a3f5f\"},\"marker\":{\"line\":{\"color\":\"white\",\"width\":0.5},\"pattern\":{\"fillmode\":\"overlay\",\"size\":10,\"solidity\":0.2}},\"type\":\"bar\"}],\"carpet\":[{\"aaxis\":{\"endlinecolor\":\"#2a3f5f\",\"gridcolor\":\"#C8D4E3\",\"linecolor\":\"#C8D4E3\",\"minorgridcolor\":\"#C8D4E3\",\"startlinecolor\":\"#2a3f5f\"},\"baxis\":{\"endlinecolor\":\"#2a3f5f\",\"gridcolor\":\"#C8D4E3\",\"linecolor\":\"#C8D4E3\",\"minorgridcolor\":\"#C8D4E3\",\"startlinecolor\":\"#2a3f5f\"},\"type\":\"carpet\"}],\"choropleth\":[{\"colorbar\":{\"outlinewidth\":0,\"ticks\":\"\"},\"type\":\"choropleth\"}],\"contourcarpet\":[{\"colorbar\":{\"outlinewidth\":0,\"ticks\":\"\"},\"type\":\"contourcarpet\"}],\"contour\":[{\"colorbar\":{\"outlinewidth\":0,\"ticks\":\"\"},\"colorscale\":[[0.0,\"#0d0887\"],[0.1111111111111111,\"#46039f\"],[0.2222222222222222,\"#7201a8\"],[0.3333333333333333,\"#9c179e\"],[0.4444444444444444,\"#bd3786\"],[0.5555555555555556,\"#d8576b\"],[0.6666666666666666,\"#ed7953\"],[0.7777777777777778,\"#fb9f3a\"],[0.8888888888888888,\"#fdca26\"],[1.0,\"#f0f921\"]],\"type\":\"contour\"}],\"heatmapgl\":[{\"colorbar\":{\"outlinewidth\":0,\"ticks\":\"\"},\"colorscale\":[[0.0,\"#0d0887\"],[0.1111111111111111,\"#46039f\"],[0.2222222222222222,\"#7201a8\"],[0.3333333333333333,\"#9c179e\"],[0.4444444444444444,\"#bd3786\"],[0.5555555555555556,\"#d8576b\"],[0.6666666666666666,\"#ed7953\"],[0.7777777777777778,\"#fb9f3a\"],[0.8888888888888888,\"#fdca26\"],[1.0,\"#f0f921\"]],\"type\":\"heatmapgl\"}],\"heatmap\":[{\"colorbar\":{\"outlinewidth\":0,\"ticks\":\"\"},\"colorscale\":[[0.0,\"#0d0887\"],[0.1111111111111111,\"#46039f\"],[0.2222222222222222,\"#7201a8\"],[0.3333333333333333,\"#9c179e\"],[0.4444444444444444,\"#bd3786\"],[0.5555555555555556,\"#d8576b\"],[0.6666666666666666,\"#ed7953\"],[0.7777777777777778,\"#fb9f3a\"],[0.8888888888888888,\"#fdca26\"],[1.0,\"#f0f921\"]],\"type\":\"heatmap\"}],\"histogram2dcontour\":[{\"colorbar\":{\"outlinewidth\":0,\"ticks\":\"\"},\"colorscale\":[[0.0,\"#0d0887\"],[0.1111111111111111,\"#46039f\"],[0.2222222222222222,\"#7201a8\"],[0.3333333333333333,\"#9c179e\"],[0.4444444444444444,\"#bd3786\"],[0.5555555555555556,\"#d8576b\"],[0.6666666666666666,\"#ed7953\"],[0.7777777777777778,\"#fb9f3a\"],[0.8888888888888888,\"#fdca26\"],[1.0,\"#f0f921\"]],\"type\":\"histogram2dcontour\"}],\"histogram2d\":[{\"colorbar\":{\"outlinewidth\":0,\"ticks\":\"\"},\"colorscale\":[[0.0,\"#0d0887\"],[0.1111111111111111,\"#46039f\"],[0.2222222222222222,\"#7201a8\"],[0.3333333333333333,\"#9c179e\"],[0.4444444444444444,\"#bd3786\"],[0.5555555555555556,\"#d8576b\"],[0.6666666666666666,\"#ed7953\"],[0.7777777777777778,\"#fb9f3a\"],[0.8888888888888888,\"#fdca26\"],[1.0,\"#f0f921\"]],\"type\":\"histogram2d\"}],\"histogram\":[{\"marker\":{\"pattern\":{\"fillmode\":\"overlay\",\"size\":10,\"solidity\":0.2}},\"type\":\"histogram\"}],\"mesh3d\":[{\"colorbar\":{\"outlinewidth\":0,\"ticks\":\"\"},\"type\":\"mesh3d\"}],\"parcoords\":[{\"line\":{\"colorbar\":{\"outlinewidth\":0,\"ticks\":\"\"}},\"type\":\"parcoords\"}],\"pie\":[{\"automargin\":true,\"type\":\"pie\"}],\"scatter3d\":[{\"line\":{\"colorbar\":{\"outlinewidth\":0,\"ticks\":\"\"}},\"marker\":{\"colorbar\":{\"outlinewidth\":0,\"ticks\":\"\"}},\"type\":\"scatter3d\"}],\"scattercarpet\":[{\"marker\":{\"colorbar\":{\"outlinewidth\":0,\"ticks\":\"\"}},\"type\":\"scattercarpet\"}],\"scattergeo\":[{\"marker\":{\"colorbar\":{\"outlinewidth\":0,\"ticks\":\"\"}},\"type\":\"scattergeo\"}],\"scattergl\":[{\"marker\":{\"colorbar\":{\"outlinewidth\":0,\"ticks\":\"\"}},\"type\":\"scattergl\"}],\"scattermapbox\":[{\"marker\":{\"colorbar\":{\"outlinewidth\":0,\"ticks\":\"\"}},\"type\":\"scattermapbox\"}],\"scatterpolargl\":[{\"marker\":{\"colorbar\":{\"outlinewidth\":0,\"ticks\":\"\"}},\"type\":\"scatterpolargl\"}],\"scatterpolar\":[{\"marker\":{\"colorbar\":{\"outlinewidth\":0,\"ticks\":\"\"}},\"type\":\"scatterpolar\"}],\"scatter\":[{\"fillpattern\":{\"fillmode\":\"overlay\",\"size\":10,\"solidity\":0.2},\"type\":\"scatter\"}],\"scatterternary\":[{\"marker\":{\"colorbar\":{\"outlinewidth\":0,\"ticks\":\"\"}},\"type\":\"scatterternary\"}],\"surface\":[{\"colorbar\":{\"outlinewidth\":0,\"ticks\":\"\"},\"colorscale\":[[0.0,\"#0d0887\"],[0.1111111111111111,\"#46039f\"],[0.2222222222222222,\"#7201a8\"],[0.3333333333333333,\"#9c179e\"],[0.4444444444444444,\"#bd3786\"],[0.5555555555555556,\"#d8576b\"],[0.6666666666666666,\"#ed7953\"],[0.7777777777777778,\"#fb9f3a\"],[0.8888888888888888,\"#fdca26\"],[1.0,\"#f0f921\"]],\"type\":\"surface\"}],\"table\":[{\"cells\":{\"fill\":{\"color\":\"#EBF0F8\"},\"line\":{\"color\":\"white\"}},\"header\":{\"fill\":{\"color\":\"#C8D4E3\"},\"line\":{\"color\":\"white\"}},\"type\":\"table\"}]},\"layout\":{\"annotationdefaults\":{\"arrowcolor\":\"#2a3f5f\",\"arrowhead\":0,\"arrowwidth\":1},\"autotypenumbers\":\"strict\",\"coloraxis\":{\"colorbar\":{\"outlinewidth\":0,\"ticks\":\"\"}},\"colorscale\":{\"diverging\":[[0,\"#8e0152\"],[0.1,\"#c51b7d\"],[0.2,\"#de77ae\"],[0.3,\"#f1b6da\"],[0.4,\"#fde0ef\"],[0.5,\"#f7f7f7\"],[0.6,\"#e6f5d0\"],[0.7,\"#b8e186\"],[0.8,\"#7fbc41\"],[0.9,\"#4d9221\"],[1,\"#276419\"]],\"sequential\":[[0.0,\"#0d0887\"],[0.1111111111111111,\"#46039f\"],[0.2222222222222222,\"#7201a8\"],[0.3333333333333333,\"#9c179e\"],[0.4444444444444444,\"#bd3786\"],[0.5555555555555556,\"#d8576b\"],[0.6666666666666666,\"#ed7953\"],[0.7777777777777778,\"#fb9f3a\"],[0.8888888888888888,\"#fdca26\"],[1.0,\"#f0f921\"]],\"sequentialminus\":[[0.0,\"#0d0887\"],[0.1111111111111111,\"#46039f\"],[0.2222222222222222,\"#7201a8\"],[0.3333333333333333,\"#9c179e\"],[0.4444444444444444,\"#bd3786\"],[0.5555555555555556,\"#d8576b\"],[0.6666666666666666,\"#ed7953\"],[0.7777777777777778,\"#fb9f3a\"],[0.8888888888888888,\"#fdca26\"],[1.0,\"#f0f921\"]]},\"colorway\":[\"#636efa\",\"#EF553B\",\"#00cc96\",\"#ab63fa\",\"#FFA15A\",\"#19d3f3\",\"#FF6692\",\"#B6E880\",\"#FF97FF\",\"#FECB52\"],\"font\":{\"color\":\"#2a3f5f\",\"family\":\"arial\",\"size\":12},\"geo\":{\"bgcolor\":\"white\",\"lakecolor\":\"white\",\"landcolor\":\"white\",\"showlakes\":true,\"showland\":true,\"subunitcolor\":\"#C8D4E3\"},\"hoverlabel\":{\"align\":\"left\"},\"hovermode\":\"closest\",\"mapbox\":{\"style\":\"light\"},\"paper_bgcolor\":\"white\",\"plot_bgcolor\":\"white\",\"polar\":{\"angularaxis\":{\"gridcolor\":\"#EBF0F8\",\"linecolor\":\"#EBF0F8\",\"ticks\":\"\"},\"bgcolor\":\"white\",\"radialaxis\":{\"gridcolor\":\"#EBF0F8\",\"linecolor\":\"#EBF0F8\",\"ticks\":\"\"}},\"scene\":{\"xaxis\":{\"backgroundcolor\":\"white\",\"gridcolor\":\"#DFE8F3\",\"gridwidth\":2,\"linecolor\":\"#EBF0F8\",\"showbackground\":true,\"ticks\":\"\",\"zerolinecolor\":\"#EBF0F8\"},\"yaxis\":{\"backgroundcolor\":\"white\",\"gridcolor\":\"#DFE8F3\",\"gridwidth\":2,\"linecolor\":\"#EBF0F8\",\"showbackground\":true,\"ticks\":\"\",\"zerolinecolor\":\"#EBF0F8\"},\"zaxis\":{\"backgroundcolor\":\"white\",\"gridcolor\":\"#DFE8F3\",\"gridwidth\":2,\"linecolor\":\"#EBF0F8\",\"showbackground\":true,\"ticks\":\"\",\"zerolinecolor\":\"#EBF0F8\"}},\"shapedefaults\":{\"line\":{\"color\":\"#2a3f5f\"}},\"ternary\":{\"aaxis\":{\"gridcolor\":\"#DFE8F3\",\"linecolor\":\"#A2B1C6\",\"ticks\":\"\"},\"baxis\":{\"gridcolor\":\"#DFE8F3\",\"linecolor\":\"#A2B1C6\",\"ticks\":\"\"},\"bgcolor\":\"white\",\"caxis\":{\"gridcolor\":\"#DFE8F3\",\"linecolor\":\"#A2B1C6\",\"ticks\":\"\"}},\"title\":{\"x\":0.05},\"xaxis\":{\"automargin\":true,\"gridcolor\":\"#EBF0F8\",\"linecolor\":\"#EBF0F8\",\"ticks\":\"\",\"title\":{\"standoff\":15},\"zerolinecolor\":\"#EBF0F8\",\"zerolinewidth\":2},\"yaxis\":{\"automargin\":true,\"gridcolor\":\"#EBF0F8\",\"linecolor\":\"#EBF0F8\",\"ticks\":\"\",\"title\":{\"standoff\":15},\"zerolinecolor\":\"#EBF0F8\",\"zerolinewidth\":2}}},\"xaxis\":{\"title\":{\"text\":\"Number of terminals\"}},\"yaxis\":{\"title\":{\"text\":\"Processing time [s]\"}}},                        {\"responsive\": true}                    ).then(function(){\n",
       "                            \n",
       "var gd = document.getElementById('6416da52-6248-4d00-9a22-80a7cd8a303d');\n",
       "var x = new MutationObserver(function (mutations, observer) {{\n",
       "        var display = window.getComputedStyle(gd).display;\n",
       "        if (!display || display === 'none') {{\n",
       "            console.log([gd, 'removed!']);\n",
       "            Plotly.purge(gd);\n",
       "            observer.disconnect();\n",
       "        }}\n",
       "}});\n",
       "\n",
       "// Listen for the removal of the full notebook cells\n",
       "var notebookContainer = gd.closest('#notebook-container');\n",
       "if (notebookContainer) {{\n",
       "    x.observe(notebookContainer, {childList: true});\n",
       "}}\n",
       "\n",
       "// Listen for the clearing of the current output cell\n",
       "var outputEl = gd.closest('.output');\n",
       "if (outputEl) {{\n",
       "    x.observe(outputEl, {childList: true});\n",
       "}}\n",
       "\n",
       "                        })                };                });            </script>        </div>"
      ]
     },
     "metadata": {},
     "output_type": "display_data"
    }
   ],
   "source": [
    "df_dict_process_time = pd.DataFrame(dict_process_time).T.rename(dict_index_names, axis = 1)\n",
    "fig = go.Figure()\n",
    "for i in df_dict_process_time.columns:\n",
    "    fig.add_trace(go.Scatter(y = df_dict_process_time[i], x = df_dict_process_time.index, name = f\"{i} Clients\"))\n",
    "fig.update_xaxes(title = \"Number of terminals\")\n",
    "fig.update_yaxes(title = \"Processing time [s]\")\n",
    "fig.show()"
   ]
  },
  {
   "cell_type": "code",
   "execution_count": 88,
   "id": "8442570e",
   "metadata": {},
   "outputs": [
    {
     "data": {
      "text/plain": [
       "Index(['20', '40', '60', '80', '100'], dtype='object')"
      ]
     },
     "execution_count": 88,
     "metadata": {},
     "output_type": "execute_result"
    }
   ],
   "source": [
    "df_dict_process_time_drop.columns"
   ]
  },
  {
   "cell_type": "code",
   "execution_count": 4,
   "id": "5518aef1",
   "metadata": {},
   "outputs": [
    {
     "ename": "NameError",
     "evalue": "name 'df_dict_process_time_drop' is not defined",
     "output_type": "error",
     "traceback": [
      "\u001b[1;31m---------------------------------------------------------------------------\u001b[0m",
      "\u001b[1;31mNameError\u001b[0m                                 Traceback (most recent call last)",
      "Cell \u001b[1;32mIn[4], line 2\u001b[0m\n\u001b[0;32m      1\u001b[0m fig \u001b[38;5;241m=\u001b[39m go\u001b[38;5;241m.\u001b[39mFigure()\n\u001b[1;32m----> 2\u001b[0m \u001b[38;5;28;01mfor\u001b[39;00m i \u001b[38;5;129;01min\u001b[39;00m \u001b[43mdf_dict_process_time_drop\u001b[49m\u001b[38;5;241m.\u001b[39mcolumns:\n\u001b[0;32m      3\u001b[0m     fig\u001b[38;5;241m.\u001b[39madd_trace(go\u001b[38;5;241m.\u001b[39mScatter(y \u001b[38;5;241m=\u001b[39m df_dict_process_time_drop[i], x \u001b[38;5;241m=\u001b[39m df_dict_process_time_drop\u001b[38;5;241m.\u001b[39mindex, name \u001b[38;5;241m=\u001b[39m \u001b[38;5;124mf\u001b[39m\u001b[38;5;124m\"\u001b[39m\u001b[38;5;132;01m{\u001b[39;00mi\u001b[38;5;132;01m}\u001b[39;00m\u001b[38;5;124m Clients\u001b[39m\u001b[38;5;124m\"\u001b[39m))\n\u001b[0;32m      4\u001b[0m fig\u001b[38;5;241m.\u001b[39mupdate_xaxes(title \u001b[38;5;241m=\u001b[39m \u001b[38;5;124m\"\u001b[39m\u001b[38;5;124mNumber of Terminals\u001b[39m\u001b[38;5;124m\"\u001b[39m)\n",
      "\u001b[1;31mNameError\u001b[0m: name 'df_dict_process_time_drop' is not defined"
     ]
    }
   ],
   "source": [
    "fig = go.Figure()\n",
    "for i in df_dict_process_time_drop.columns:\n",
    "    fig.add_trace(go.Scatter(y = df_dict_process_time_drop[i], x = df_dict_process_time_drop.index, name = f\"{i} Clients\"))\n",
    "fig.update_xaxes(title = \"Number of Terminals\")\n",
    "fig.update_yaxes(title = \"Processing time [s]\")\n",
    "fig.show()"
   ]
  },
  {
   "cell_type": "code",
   "execution_count": 83,
   "id": "ce1719c0",
   "metadata": {},
   "outputs": [
    {
     "data": {
      "application/vnd.plotly.v1+json": {
       "config": {
        "plotlyServerURL": "https://plot.ly"
       },
       "data": [
        {
         "name": "Terminal-centric",
         "type": "scatter",
         "x": [
          "20",
          "40",
          "60",
          "80",
          "100"
         ],
         "y": [
          7.015625,
          6.84375,
          6.96875,
          9.140625,
          8.84375
         ]
        },
        {
         "name": "Rail-centric",
         "type": "scatter",
         "x": [
          "20",
          "40",
          "60",
          "80",
          "100"
         ],
         "y": [
          23.921875,
          16.828125,
          16.78125,
          24.90625,
          23.109375
         ]
        }
       ],
       "layout": {
        "template": {
         "data": {
          "bar": [
           {
            "error_x": {
             "color": "#2a3f5f"
            },
            "error_y": {
             "color": "#2a3f5f"
            },
            "marker": {
             "line": {
              "color": "white",
              "width": 0.5
             },
             "pattern": {
              "fillmode": "overlay",
              "size": 10,
              "solidity": 0.2
             }
            },
            "type": "bar"
           }
          ],
          "barpolar": [
           {
            "marker": {
             "line": {
              "color": "white",
              "width": 0.5
             },
             "pattern": {
              "fillmode": "overlay",
              "size": 10,
              "solidity": 0.2
             }
            },
            "type": "barpolar"
           }
          ],
          "carpet": [
           {
            "aaxis": {
             "endlinecolor": "#2a3f5f",
             "gridcolor": "#C8D4E3",
             "linecolor": "#C8D4E3",
             "minorgridcolor": "#C8D4E3",
             "startlinecolor": "#2a3f5f"
            },
            "baxis": {
             "endlinecolor": "#2a3f5f",
             "gridcolor": "#C8D4E3",
             "linecolor": "#C8D4E3",
             "minorgridcolor": "#C8D4E3",
             "startlinecolor": "#2a3f5f"
            },
            "type": "carpet"
           }
          ],
          "choropleth": [
           {
            "colorbar": {
             "outlinewidth": 0,
             "ticks": ""
            },
            "type": "choropleth"
           }
          ],
          "contour": [
           {
            "colorbar": {
             "outlinewidth": 0,
             "ticks": ""
            },
            "colorscale": [
             [
              0,
              "#0d0887"
             ],
             [
              0.1111111111111111,
              "#46039f"
             ],
             [
              0.2222222222222222,
              "#7201a8"
             ],
             [
              0.3333333333333333,
              "#9c179e"
             ],
             [
              0.4444444444444444,
              "#bd3786"
             ],
             [
              0.5555555555555556,
              "#d8576b"
             ],
             [
              0.6666666666666666,
              "#ed7953"
             ],
             [
              0.7777777777777778,
              "#fb9f3a"
             ],
             [
              0.8888888888888888,
              "#fdca26"
             ],
             [
              1,
              "#f0f921"
             ]
            ],
            "type": "contour"
           }
          ],
          "contourcarpet": [
           {
            "colorbar": {
             "outlinewidth": 0,
             "ticks": ""
            },
            "type": "contourcarpet"
           }
          ],
          "heatmap": [
           {
            "colorbar": {
             "outlinewidth": 0,
             "ticks": ""
            },
            "colorscale": [
             [
              0,
              "#0d0887"
             ],
             [
              0.1111111111111111,
              "#46039f"
             ],
             [
              0.2222222222222222,
              "#7201a8"
             ],
             [
              0.3333333333333333,
              "#9c179e"
             ],
             [
              0.4444444444444444,
              "#bd3786"
             ],
             [
              0.5555555555555556,
              "#d8576b"
             ],
             [
              0.6666666666666666,
              "#ed7953"
             ],
             [
              0.7777777777777778,
              "#fb9f3a"
             ],
             [
              0.8888888888888888,
              "#fdca26"
             ],
             [
              1,
              "#f0f921"
             ]
            ],
            "type": "heatmap"
           }
          ],
          "heatmapgl": [
           {
            "colorbar": {
             "outlinewidth": 0,
             "ticks": ""
            },
            "colorscale": [
             [
              0,
              "#0d0887"
             ],
             [
              0.1111111111111111,
              "#46039f"
             ],
             [
              0.2222222222222222,
              "#7201a8"
             ],
             [
              0.3333333333333333,
              "#9c179e"
             ],
             [
              0.4444444444444444,
              "#bd3786"
             ],
             [
              0.5555555555555556,
              "#d8576b"
             ],
             [
              0.6666666666666666,
              "#ed7953"
             ],
             [
              0.7777777777777778,
              "#fb9f3a"
             ],
             [
              0.8888888888888888,
              "#fdca26"
             ],
             [
              1,
              "#f0f921"
             ]
            ],
            "type": "heatmapgl"
           }
          ],
          "histogram": [
           {
            "marker": {
             "pattern": {
              "fillmode": "overlay",
              "size": 10,
              "solidity": 0.2
             }
            },
            "type": "histogram"
           }
          ],
          "histogram2d": [
           {
            "colorbar": {
             "outlinewidth": 0,
             "ticks": ""
            },
            "colorscale": [
             [
              0,
              "#0d0887"
             ],
             [
              0.1111111111111111,
              "#46039f"
             ],
             [
              0.2222222222222222,
              "#7201a8"
             ],
             [
              0.3333333333333333,
              "#9c179e"
             ],
             [
              0.4444444444444444,
              "#bd3786"
             ],
             [
              0.5555555555555556,
              "#d8576b"
             ],
             [
              0.6666666666666666,
              "#ed7953"
             ],
             [
              0.7777777777777778,
              "#fb9f3a"
             ],
             [
              0.8888888888888888,
              "#fdca26"
             ],
             [
              1,
              "#f0f921"
             ]
            ],
            "type": "histogram2d"
           }
          ],
          "histogram2dcontour": [
           {
            "colorbar": {
             "outlinewidth": 0,
             "ticks": ""
            },
            "colorscale": [
             [
              0,
              "#0d0887"
             ],
             [
              0.1111111111111111,
              "#46039f"
             ],
             [
              0.2222222222222222,
              "#7201a8"
             ],
             [
              0.3333333333333333,
              "#9c179e"
             ],
             [
              0.4444444444444444,
              "#bd3786"
             ],
             [
              0.5555555555555556,
              "#d8576b"
             ],
             [
              0.6666666666666666,
              "#ed7953"
             ],
             [
              0.7777777777777778,
              "#fb9f3a"
             ],
             [
              0.8888888888888888,
              "#fdca26"
             ],
             [
              1,
              "#f0f921"
             ]
            ],
            "type": "histogram2dcontour"
           }
          ],
          "mesh3d": [
           {
            "colorbar": {
             "outlinewidth": 0,
             "ticks": ""
            },
            "type": "mesh3d"
           }
          ],
          "parcoords": [
           {
            "line": {
             "colorbar": {
              "outlinewidth": 0,
              "ticks": ""
             }
            },
            "type": "parcoords"
           }
          ],
          "pie": [
           {
            "automargin": true,
            "type": "pie"
           }
          ],
          "scatter": [
           {
            "fillpattern": {
             "fillmode": "overlay",
             "size": 10,
             "solidity": 0.2
            },
            "type": "scatter"
           }
          ],
          "scatter3d": [
           {
            "line": {
             "colorbar": {
              "outlinewidth": 0,
              "ticks": ""
             }
            },
            "marker": {
             "colorbar": {
              "outlinewidth": 0,
              "ticks": ""
             }
            },
            "type": "scatter3d"
           }
          ],
          "scattercarpet": [
           {
            "marker": {
             "colorbar": {
              "outlinewidth": 0,
              "ticks": ""
             }
            },
            "type": "scattercarpet"
           }
          ],
          "scattergeo": [
           {
            "marker": {
             "colorbar": {
              "outlinewidth": 0,
              "ticks": ""
             }
            },
            "type": "scattergeo"
           }
          ],
          "scattergl": [
           {
            "marker": {
             "colorbar": {
              "outlinewidth": 0,
              "ticks": ""
             }
            },
            "type": "scattergl"
           }
          ],
          "scattermapbox": [
           {
            "marker": {
             "colorbar": {
              "outlinewidth": 0,
              "ticks": ""
             }
            },
            "type": "scattermapbox"
           }
          ],
          "scatterpolar": [
           {
            "marker": {
             "colorbar": {
              "outlinewidth": 0,
              "ticks": ""
             }
            },
            "type": "scatterpolar"
           }
          ],
          "scatterpolargl": [
           {
            "marker": {
             "colorbar": {
              "outlinewidth": 0,
              "ticks": ""
             }
            },
            "type": "scatterpolargl"
           }
          ],
          "scatterternary": [
           {
            "marker": {
             "colorbar": {
              "outlinewidth": 0,
              "ticks": ""
             }
            },
            "type": "scatterternary"
           }
          ],
          "surface": [
           {
            "colorbar": {
             "outlinewidth": 0,
             "ticks": ""
            },
            "colorscale": [
             [
              0,
              "#0d0887"
             ],
             [
              0.1111111111111111,
              "#46039f"
             ],
             [
              0.2222222222222222,
              "#7201a8"
             ],
             [
              0.3333333333333333,
              "#9c179e"
             ],
             [
              0.4444444444444444,
              "#bd3786"
             ],
             [
              0.5555555555555556,
              "#d8576b"
             ],
             [
              0.6666666666666666,
              "#ed7953"
             ],
             [
              0.7777777777777778,
              "#fb9f3a"
             ],
             [
              0.8888888888888888,
              "#fdca26"
             ],
             [
              1,
              "#f0f921"
             ]
            ],
            "type": "surface"
           }
          ],
          "table": [
           {
            "cells": {
             "fill": {
              "color": "#EBF0F8"
             },
             "line": {
              "color": "white"
             }
            },
            "header": {
             "fill": {
              "color": "#C8D4E3"
             },
             "line": {
              "color": "white"
             }
            },
            "type": "table"
           }
          ]
         },
         "layout": {
          "annotationdefaults": {
           "arrowcolor": "#2a3f5f",
           "arrowhead": 0,
           "arrowwidth": 1
          },
          "autotypenumbers": "strict",
          "coloraxis": {
           "colorbar": {
            "outlinewidth": 0,
            "ticks": ""
           }
          },
          "colorscale": {
           "diverging": [
            [
             0,
             "#8e0152"
            ],
            [
             0.1,
             "#c51b7d"
            ],
            [
             0.2,
             "#de77ae"
            ],
            [
             0.3,
             "#f1b6da"
            ],
            [
             0.4,
             "#fde0ef"
            ],
            [
             0.5,
             "#f7f7f7"
            ],
            [
             0.6,
             "#e6f5d0"
            ],
            [
             0.7,
             "#b8e186"
            ],
            [
             0.8,
             "#7fbc41"
            ],
            [
             0.9,
             "#4d9221"
            ],
            [
             1,
             "#276419"
            ]
           ],
           "sequential": [
            [
             0,
             "#0d0887"
            ],
            [
             0.1111111111111111,
             "#46039f"
            ],
            [
             0.2222222222222222,
             "#7201a8"
            ],
            [
             0.3333333333333333,
             "#9c179e"
            ],
            [
             0.4444444444444444,
             "#bd3786"
            ],
            [
             0.5555555555555556,
             "#d8576b"
            ],
            [
             0.6666666666666666,
             "#ed7953"
            ],
            [
             0.7777777777777778,
             "#fb9f3a"
            ],
            [
             0.8888888888888888,
             "#fdca26"
            ],
            [
             1,
             "#f0f921"
            ]
           ],
           "sequentialminus": [
            [
             0,
             "#0d0887"
            ],
            [
             0.1111111111111111,
             "#46039f"
            ],
            [
             0.2222222222222222,
             "#7201a8"
            ],
            [
             0.3333333333333333,
             "#9c179e"
            ],
            [
             0.4444444444444444,
             "#bd3786"
            ],
            [
             0.5555555555555556,
             "#d8576b"
            ],
            [
             0.6666666666666666,
             "#ed7953"
            ],
            [
             0.7777777777777778,
             "#fb9f3a"
            ],
            [
             0.8888888888888888,
             "#fdca26"
            ],
            [
             1,
             "#f0f921"
            ]
           ]
          },
          "colorway": [
           "#636efa",
           "#EF553B",
           "#00cc96",
           "#ab63fa",
           "#FFA15A",
           "#19d3f3",
           "#FF6692",
           "#B6E880",
           "#FF97FF",
           "#FECB52"
          ],
          "font": {
           "color": "#2a3f5f",
           "family": "arial",
           "size": 12
          },
          "geo": {
           "bgcolor": "white",
           "lakecolor": "white",
           "landcolor": "white",
           "showlakes": true,
           "showland": true,
           "subunitcolor": "#C8D4E3"
          },
          "hoverlabel": {
           "align": "left"
          },
          "hovermode": "closest",
          "mapbox": {
           "style": "light"
          },
          "paper_bgcolor": "white",
          "plot_bgcolor": "white",
          "polar": {
           "angularaxis": {
            "gridcolor": "#EBF0F8",
            "linecolor": "#EBF0F8",
            "ticks": ""
           },
           "bgcolor": "white",
           "radialaxis": {
            "gridcolor": "#EBF0F8",
            "linecolor": "#EBF0F8",
            "ticks": ""
           }
          },
          "scene": {
           "xaxis": {
            "backgroundcolor": "white",
            "gridcolor": "#DFE8F3",
            "gridwidth": 2,
            "linecolor": "#EBF0F8",
            "showbackground": true,
            "ticks": "",
            "zerolinecolor": "#EBF0F8"
           },
           "yaxis": {
            "backgroundcolor": "white",
            "gridcolor": "#DFE8F3",
            "gridwidth": 2,
            "linecolor": "#EBF0F8",
            "showbackground": true,
            "ticks": "",
            "zerolinecolor": "#EBF0F8"
           },
           "zaxis": {
            "backgroundcolor": "white",
            "gridcolor": "#DFE8F3",
            "gridwidth": 2,
            "linecolor": "#EBF0F8",
            "showbackground": true,
            "ticks": "",
            "zerolinecolor": "#EBF0F8"
           }
          },
          "shapedefaults": {
           "line": {
            "color": "#2a3f5f"
           }
          },
          "ternary": {
           "aaxis": {
            "gridcolor": "#DFE8F3",
            "linecolor": "#A2B1C6",
            "ticks": ""
           },
           "baxis": {
            "gridcolor": "#DFE8F3",
            "linecolor": "#A2B1C6",
            "ticks": ""
           },
           "bgcolor": "white",
           "caxis": {
            "gridcolor": "#DFE8F3",
            "linecolor": "#A2B1C6",
            "ticks": ""
           }
          },
          "title": {
           "x": 0.05
          },
          "xaxis": {
           "automargin": true,
           "gridcolor": "#EBF0F8",
           "linecolor": "#EBF0F8",
           "ticks": "",
           "title": {
            "standoff": 15
           },
           "zerolinecolor": "#EBF0F8",
           "zerolinewidth": 2
          },
          "yaxis": {
           "automargin": true,
           "gridcolor": "#EBF0F8",
           "linecolor": "#EBF0F8",
           "ticks": "",
           "title": {
            "standoff": 15
           },
           "zerolinecolor": "#EBF0F8",
           "zerolinewidth": 2
          }
         }
        },
        "xaxis": {
         "title": {
          "text": "Number of clients"
         }
        },
        "yaxis": {
         "title": {
          "text": "Processing time [s]"
         }
        }
       }
      },
      "text/html": [
       "<div>                            <div id=\"627a0e23-407b-48a8-8320-005378d0296f\" class=\"plotly-graph-div\" style=\"height:525px; width:100%;\"></div>            <script type=\"text/javascript\">                require([\"plotly\"], function(Plotly) {                    window.PLOTLYENV=window.PLOTLYENV || {};                                    if (document.getElementById(\"627a0e23-407b-48a8-8320-005378d0296f\")) {                    Plotly.newPlot(                        \"627a0e23-407b-48a8-8320-005378d0296f\",                        [{\"name\":\"Terminal-centric\",\"x\":[\"20\",\"40\",\"60\",\"80\",\"100\"],\"y\":[7.015625,6.84375,6.96875,9.140625,8.84375],\"type\":\"scatter\"},{\"name\":\"Rail-centric\",\"x\":[\"20\",\"40\",\"60\",\"80\",\"100\"],\"y\":[23.921875,16.828125,16.78125,24.90625,23.109375],\"type\":\"scatter\"}],                        {\"template\":{\"data\":{\"barpolar\":[{\"marker\":{\"line\":{\"color\":\"white\",\"width\":0.5},\"pattern\":{\"fillmode\":\"overlay\",\"size\":10,\"solidity\":0.2}},\"type\":\"barpolar\"}],\"bar\":[{\"error_x\":{\"color\":\"#2a3f5f\"},\"error_y\":{\"color\":\"#2a3f5f\"},\"marker\":{\"line\":{\"color\":\"white\",\"width\":0.5},\"pattern\":{\"fillmode\":\"overlay\",\"size\":10,\"solidity\":0.2}},\"type\":\"bar\"}],\"carpet\":[{\"aaxis\":{\"endlinecolor\":\"#2a3f5f\",\"gridcolor\":\"#C8D4E3\",\"linecolor\":\"#C8D4E3\",\"minorgridcolor\":\"#C8D4E3\",\"startlinecolor\":\"#2a3f5f\"},\"baxis\":{\"endlinecolor\":\"#2a3f5f\",\"gridcolor\":\"#C8D4E3\",\"linecolor\":\"#C8D4E3\",\"minorgridcolor\":\"#C8D4E3\",\"startlinecolor\":\"#2a3f5f\"},\"type\":\"carpet\"}],\"choropleth\":[{\"colorbar\":{\"outlinewidth\":0,\"ticks\":\"\"},\"type\":\"choropleth\"}],\"contourcarpet\":[{\"colorbar\":{\"outlinewidth\":0,\"ticks\":\"\"},\"type\":\"contourcarpet\"}],\"contour\":[{\"colorbar\":{\"outlinewidth\":0,\"ticks\":\"\"},\"colorscale\":[[0.0,\"#0d0887\"],[0.1111111111111111,\"#46039f\"],[0.2222222222222222,\"#7201a8\"],[0.3333333333333333,\"#9c179e\"],[0.4444444444444444,\"#bd3786\"],[0.5555555555555556,\"#d8576b\"],[0.6666666666666666,\"#ed7953\"],[0.7777777777777778,\"#fb9f3a\"],[0.8888888888888888,\"#fdca26\"],[1.0,\"#f0f921\"]],\"type\":\"contour\"}],\"heatmapgl\":[{\"colorbar\":{\"outlinewidth\":0,\"ticks\":\"\"},\"colorscale\":[[0.0,\"#0d0887\"],[0.1111111111111111,\"#46039f\"],[0.2222222222222222,\"#7201a8\"],[0.3333333333333333,\"#9c179e\"],[0.4444444444444444,\"#bd3786\"],[0.5555555555555556,\"#d8576b\"],[0.6666666666666666,\"#ed7953\"],[0.7777777777777778,\"#fb9f3a\"],[0.8888888888888888,\"#fdca26\"],[1.0,\"#f0f921\"]],\"type\":\"heatmapgl\"}],\"heatmap\":[{\"colorbar\":{\"outlinewidth\":0,\"ticks\":\"\"},\"colorscale\":[[0.0,\"#0d0887\"],[0.1111111111111111,\"#46039f\"],[0.2222222222222222,\"#7201a8\"],[0.3333333333333333,\"#9c179e\"],[0.4444444444444444,\"#bd3786\"],[0.5555555555555556,\"#d8576b\"],[0.6666666666666666,\"#ed7953\"],[0.7777777777777778,\"#fb9f3a\"],[0.8888888888888888,\"#fdca26\"],[1.0,\"#f0f921\"]],\"type\":\"heatmap\"}],\"histogram2dcontour\":[{\"colorbar\":{\"outlinewidth\":0,\"ticks\":\"\"},\"colorscale\":[[0.0,\"#0d0887\"],[0.1111111111111111,\"#46039f\"],[0.2222222222222222,\"#7201a8\"],[0.3333333333333333,\"#9c179e\"],[0.4444444444444444,\"#bd3786\"],[0.5555555555555556,\"#d8576b\"],[0.6666666666666666,\"#ed7953\"],[0.7777777777777778,\"#fb9f3a\"],[0.8888888888888888,\"#fdca26\"],[1.0,\"#f0f921\"]],\"type\":\"histogram2dcontour\"}],\"histogram2d\":[{\"colorbar\":{\"outlinewidth\":0,\"ticks\":\"\"},\"colorscale\":[[0.0,\"#0d0887\"],[0.1111111111111111,\"#46039f\"],[0.2222222222222222,\"#7201a8\"],[0.3333333333333333,\"#9c179e\"],[0.4444444444444444,\"#bd3786\"],[0.5555555555555556,\"#d8576b\"],[0.6666666666666666,\"#ed7953\"],[0.7777777777777778,\"#fb9f3a\"],[0.8888888888888888,\"#fdca26\"],[1.0,\"#f0f921\"]],\"type\":\"histogram2d\"}],\"histogram\":[{\"marker\":{\"pattern\":{\"fillmode\":\"overlay\",\"size\":10,\"solidity\":0.2}},\"type\":\"histogram\"}],\"mesh3d\":[{\"colorbar\":{\"outlinewidth\":0,\"ticks\":\"\"},\"type\":\"mesh3d\"}],\"parcoords\":[{\"line\":{\"colorbar\":{\"outlinewidth\":0,\"ticks\":\"\"}},\"type\":\"parcoords\"}],\"pie\":[{\"automargin\":true,\"type\":\"pie\"}],\"scatter3d\":[{\"line\":{\"colorbar\":{\"outlinewidth\":0,\"ticks\":\"\"}},\"marker\":{\"colorbar\":{\"outlinewidth\":0,\"ticks\":\"\"}},\"type\":\"scatter3d\"}],\"scattercarpet\":[{\"marker\":{\"colorbar\":{\"outlinewidth\":0,\"ticks\":\"\"}},\"type\":\"scattercarpet\"}],\"scattergeo\":[{\"marker\":{\"colorbar\":{\"outlinewidth\":0,\"ticks\":\"\"}},\"type\":\"scattergeo\"}],\"scattergl\":[{\"marker\":{\"colorbar\":{\"outlinewidth\":0,\"ticks\":\"\"}},\"type\":\"scattergl\"}],\"scattermapbox\":[{\"marker\":{\"colorbar\":{\"outlinewidth\":0,\"ticks\":\"\"}},\"type\":\"scattermapbox\"}],\"scatterpolargl\":[{\"marker\":{\"colorbar\":{\"outlinewidth\":0,\"ticks\":\"\"}},\"type\":\"scatterpolargl\"}],\"scatterpolar\":[{\"marker\":{\"colorbar\":{\"outlinewidth\":0,\"ticks\":\"\"}},\"type\":\"scatterpolar\"}],\"scatter\":[{\"fillpattern\":{\"fillmode\":\"overlay\",\"size\":10,\"solidity\":0.2},\"type\":\"scatter\"}],\"scatterternary\":[{\"marker\":{\"colorbar\":{\"outlinewidth\":0,\"ticks\":\"\"}},\"type\":\"scatterternary\"}],\"surface\":[{\"colorbar\":{\"outlinewidth\":0,\"ticks\":\"\"},\"colorscale\":[[0.0,\"#0d0887\"],[0.1111111111111111,\"#46039f\"],[0.2222222222222222,\"#7201a8\"],[0.3333333333333333,\"#9c179e\"],[0.4444444444444444,\"#bd3786\"],[0.5555555555555556,\"#d8576b\"],[0.6666666666666666,\"#ed7953\"],[0.7777777777777778,\"#fb9f3a\"],[0.8888888888888888,\"#fdca26\"],[1.0,\"#f0f921\"]],\"type\":\"surface\"}],\"table\":[{\"cells\":{\"fill\":{\"color\":\"#EBF0F8\"},\"line\":{\"color\":\"white\"}},\"header\":{\"fill\":{\"color\":\"#C8D4E3\"},\"line\":{\"color\":\"white\"}},\"type\":\"table\"}]},\"layout\":{\"annotationdefaults\":{\"arrowcolor\":\"#2a3f5f\",\"arrowhead\":0,\"arrowwidth\":1},\"autotypenumbers\":\"strict\",\"coloraxis\":{\"colorbar\":{\"outlinewidth\":0,\"ticks\":\"\"}},\"colorscale\":{\"diverging\":[[0,\"#8e0152\"],[0.1,\"#c51b7d\"],[0.2,\"#de77ae\"],[0.3,\"#f1b6da\"],[0.4,\"#fde0ef\"],[0.5,\"#f7f7f7\"],[0.6,\"#e6f5d0\"],[0.7,\"#b8e186\"],[0.8,\"#7fbc41\"],[0.9,\"#4d9221\"],[1,\"#276419\"]],\"sequential\":[[0.0,\"#0d0887\"],[0.1111111111111111,\"#46039f\"],[0.2222222222222222,\"#7201a8\"],[0.3333333333333333,\"#9c179e\"],[0.4444444444444444,\"#bd3786\"],[0.5555555555555556,\"#d8576b\"],[0.6666666666666666,\"#ed7953\"],[0.7777777777777778,\"#fb9f3a\"],[0.8888888888888888,\"#fdca26\"],[1.0,\"#f0f921\"]],\"sequentialminus\":[[0.0,\"#0d0887\"],[0.1111111111111111,\"#46039f\"],[0.2222222222222222,\"#7201a8\"],[0.3333333333333333,\"#9c179e\"],[0.4444444444444444,\"#bd3786\"],[0.5555555555555556,\"#d8576b\"],[0.6666666666666666,\"#ed7953\"],[0.7777777777777778,\"#fb9f3a\"],[0.8888888888888888,\"#fdca26\"],[1.0,\"#f0f921\"]]},\"colorway\":[\"#636efa\",\"#EF553B\",\"#00cc96\",\"#ab63fa\",\"#FFA15A\",\"#19d3f3\",\"#FF6692\",\"#B6E880\",\"#FF97FF\",\"#FECB52\"],\"font\":{\"color\":\"#2a3f5f\",\"family\":\"arial\",\"size\":12},\"geo\":{\"bgcolor\":\"white\",\"lakecolor\":\"white\",\"landcolor\":\"white\",\"showlakes\":true,\"showland\":true,\"subunitcolor\":\"#C8D4E3\"},\"hoverlabel\":{\"align\":\"left\"},\"hovermode\":\"closest\",\"mapbox\":{\"style\":\"light\"},\"paper_bgcolor\":\"white\",\"plot_bgcolor\":\"white\",\"polar\":{\"angularaxis\":{\"gridcolor\":\"#EBF0F8\",\"linecolor\":\"#EBF0F8\",\"ticks\":\"\"},\"bgcolor\":\"white\",\"radialaxis\":{\"gridcolor\":\"#EBF0F8\",\"linecolor\":\"#EBF0F8\",\"ticks\":\"\"}},\"scene\":{\"xaxis\":{\"backgroundcolor\":\"white\",\"gridcolor\":\"#DFE8F3\",\"gridwidth\":2,\"linecolor\":\"#EBF0F8\",\"showbackground\":true,\"ticks\":\"\",\"zerolinecolor\":\"#EBF0F8\"},\"yaxis\":{\"backgroundcolor\":\"white\",\"gridcolor\":\"#DFE8F3\",\"gridwidth\":2,\"linecolor\":\"#EBF0F8\",\"showbackground\":true,\"ticks\":\"\",\"zerolinecolor\":\"#EBF0F8\"},\"zaxis\":{\"backgroundcolor\":\"white\",\"gridcolor\":\"#DFE8F3\",\"gridwidth\":2,\"linecolor\":\"#EBF0F8\",\"showbackground\":true,\"ticks\":\"\",\"zerolinecolor\":\"#EBF0F8\"}},\"shapedefaults\":{\"line\":{\"color\":\"#2a3f5f\"}},\"ternary\":{\"aaxis\":{\"gridcolor\":\"#DFE8F3\",\"linecolor\":\"#A2B1C6\",\"ticks\":\"\"},\"baxis\":{\"gridcolor\":\"#DFE8F3\",\"linecolor\":\"#A2B1C6\",\"ticks\":\"\"},\"bgcolor\":\"white\",\"caxis\":{\"gridcolor\":\"#DFE8F3\",\"linecolor\":\"#A2B1C6\",\"ticks\":\"\"}},\"title\":{\"x\":0.05},\"xaxis\":{\"automargin\":true,\"gridcolor\":\"#EBF0F8\",\"linecolor\":\"#EBF0F8\",\"ticks\":\"\",\"title\":{\"standoff\":15},\"zerolinecolor\":\"#EBF0F8\",\"zerolinewidth\":2},\"yaxis\":{\"automargin\":true,\"gridcolor\":\"#EBF0F8\",\"linecolor\":\"#EBF0F8\",\"ticks\":\"\",\"title\":{\"standoff\":15},\"zerolinecolor\":\"#EBF0F8\",\"zerolinewidth\":2}}},\"xaxis\":{\"title\":{\"text\":\"Number of clients\"}},\"yaxis\":{\"title\":{\"text\":\"Processing time [s]\"}}},                        {\"responsive\": true}                    ).then(function(){\n",
       "                            \n",
       "var gd = document.getElementById('627a0e23-407b-48a8-8320-005378d0296f');\n",
       "var x = new MutationObserver(function (mutations, observer) {{\n",
       "        var display = window.getComputedStyle(gd).display;\n",
       "        if (!display || display === 'none') {{\n",
       "            console.log([gd, 'removed!']);\n",
       "            Plotly.purge(gd);\n",
       "            observer.disconnect();\n",
       "        }}\n",
       "}});\n",
       "\n",
       "// Listen for the removal of the full notebook cells\n",
       "var notebookContainer = gd.closest('#notebook-container');\n",
       "if (notebookContainer) {{\n",
       "    x.observe(notebookContainer, {childList: true});\n",
       "}}\n",
       "\n",
       "// Listen for the clearing of the current output cell\n",
       "var outputEl = gd.closest('.output');\n",
       "if (outputEl) {{\n",
       "    x.observe(outputEl, {childList: true});\n",
       "}}\n",
       "\n",
       "                        })                };                });            </script>        </div>"
      ]
     },
     "metadata": {},
     "output_type": "display_data"
    }
   ],
   "source": [
    "fig = go.Figure()\n",
    "fig.add_trace(go.Scatter(y = df_dict_process_time.T[10], x = df_dict_process_time.T.index, name = f\"Terminal-centric\"))\n",
    "fig.add_trace(go.Scatter(y = df_dict_process_time_drop.T[10], x = df_dict_process_time_drop.T.index, name = f\"Rail-centric\"))\n",
    "fig.update_xaxes(title = \"Number of clients\")\n",
    "fig.update_yaxes(title = \"Processing time [s]\")\n",
    "fig.show()"
   ]
  },
  {
   "cell_type": "code",
   "execution_count": 85,
   "id": "67f88f3e",
   "metadata": {},
   "outputs": [
    {
     "data": {
      "application/vnd.plotly.v1+json": {
       "config": {
        "plotlyServerURL": "https://plot.ly"
       },
       "data": [
        {
         "name": "Terminal-centric",
         "type": "scatter",
         "x": [
          0,
          2,
          3,
          4,
          5,
          6,
          8,
          10
         ],
         "y": [
          0.921875,
          2.921875,
          3.90625,
          4.921875,
          5.828125,
          6.953125,
          7.953125,
          8.84375
         ]
        },
        {
         "name": "Rail-centric",
         "type": "scatter",
         "x": [
          0,
          2,
          3,
          4,
          5,
          6,
          8,
          10
         ],
         "y": [
          0.96875,
          5.015625,
          10.1875,
          11.09375,
          12.765625,
          15.25,
          14,
          23.109375
         ]
        }
       ],
       "layout": {
        "template": {
         "data": {
          "bar": [
           {
            "error_x": {
             "color": "#2a3f5f"
            },
            "error_y": {
             "color": "#2a3f5f"
            },
            "marker": {
             "line": {
              "color": "white",
              "width": 0.5
             },
             "pattern": {
              "fillmode": "overlay",
              "size": 10,
              "solidity": 0.2
             }
            },
            "type": "bar"
           }
          ],
          "barpolar": [
           {
            "marker": {
             "line": {
              "color": "white",
              "width": 0.5
             },
             "pattern": {
              "fillmode": "overlay",
              "size": 10,
              "solidity": 0.2
             }
            },
            "type": "barpolar"
           }
          ],
          "carpet": [
           {
            "aaxis": {
             "endlinecolor": "#2a3f5f",
             "gridcolor": "#C8D4E3",
             "linecolor": "#C8D4E3",
             "minorgridcolor": "#C8D4E3",
             "startlinecolor": "#2a3f5f"
            },
            "baxis": {
             "endlinecolor": "#2a3f5f",
             "gridcolor": "#C8D4E3",
             "linecolor": "#C8D4E3",
             "minorgridcolor": "#C8D4E3",
             "startlinecolor": "#2a3f5f"
            },
            "type": "carpet"
           }
          ],
          "choropleth": [
           {
            "colorbar": {
             "outlinewidth": 0,
             "ticks": ""
            },
            "type": "choropleth"
           }
          ],
          "contour": [
           {
            "colorbar": {
             "outlinewidth": 0,
             "ticks": ""
            },
            "colorscale": [
             [
              0,
              "#0d0887"
             ],
             [
              0.1111111111111111,
              "#46039f"
             ],
             [
              0.2222222222222222,
              "#7201a8"
             ],
             [
              0.3333333333333333,
              "#9c179e"
             ],
             [
              0.4444444444444444,
              "#bd3786"
             ],
             [
              0.5555555555555556,
              "#d8576b"
             ],
             [
              0.6666666666666666,
              "#ed7953"
             ],
             [
              0.7777777777777778,
              "#fb9f3a"
             ],
             [
              0.8888888888888888,
              "#fdca26"
             ],
             [
              1,
              "#f0f921"
             ]
            ],
            "type": "contour"
           }
          ],
          "contourcarpet": [
           {
            "colorbar": {
             "outlinewidth": 0,
             "ticks": ""
            },
            "type": "contourcarpet"
           }
          ],
          "heatmap": [
           {
            "colorbar": {
             "outlinewidth": 0,
             "ticks": ""
            },
            "colorscale": [
             [
              0,
              "#0d0887"
             ],
             [
              0.1111111111111111,
              "#46039f"
             ],
             [
              0.2222222222222222,
              "#7201a8"
             ],
             [
              0.3333333333333333,
              "#9c179e"
             ],
             [
              0.4444444444444444,
              "#bd3786"
             ],
             [
              0.5555555555555556,
              "#d8576b"
             ],
             [
              0.6666666666666666,
              "#ed7953"
             ],
             [
              0.7777777777777778,
              "#fb9f3a"
             ],
             [
              0.8888888888888888,
              "#fdca26"
             ],
             [
              1,
              "#f0f921"
             ]
            ],
            "type": "heatmap"
           }
          ],
          "heatmapgl": [
           {
            "colorbar": {
             "outlinewidth": 0,
             "ticks": ""
            },
            "colorscale": [
             [
              0,
              "#0d0887"
             ],
             [
              0.1111111111111111,
              "#46039f"
             ],
             [
              0.2222222222222222,
              "#7201a8"
             ],
             [
              0.3333333333333333,
              "#9c179e"
             ],
             [
              0.4444444444444444,
              "#bd3786"
             ],
             [
              0.5555555555555556,
              "#d8576b"
             ],
             [
              0.6666666666666666,
              "#ed7953"
             ],
             [
              0.7777777777777778,
              "#fb9f3a"
             ],
             [
              0.8888888888888888,
              "#fdca26"
             ],
             [
              1,
              "#f0f921"
             ]
            ],
            "type": "heatmapgl"
           }
          ],
          "histogram": [
           {
            "marker": {
             "pattern": {
              "fillmode": "overlay",
              "size": 10,
              "solidity": 0.2
             }
            },
            "type": "histogram"
           }
          ],
          "histogram2d": [
           {
            "colorbar": {
             "outlinewidth": 0,
             "ticks": ""
            },
            "colorscale": [
             [
              0,
              "#0d0887"
             ],
             [
              0.1111111111111111,
              "#46039f"
             ],
             [
              0.2222222222222222,
              "#7201a8"
             ],
             [
              0.3333333333333333,
              "#9c179e"
             ],
             [
              0.4444444444444444,
              "#bd3786"
             ],
             [
              0.5555555555555556,
              "#d8576b"
             ],
             [
              0.6666666666666666,
              "#ed7953"
             ],
             [
              0.7777777777777778,
              "#fb9f3a"
             ],
             [
              0.8888888888888888,
              "#fdca26"
             ],
             [
              1,
              "#f0f921"
             ]
            ],
            "type": "histogram2d"
           }
          ],
          "histogram2dcontour": [
           {
            "colorbar": {
             "outlinewidth": 0,
             "ticks": ""
            },
            "colorscale": [
             [
              0,
              "#0d0887"
             ],
             [
              0.1111111111111111,
              "#46039f"
             ],
             [
              0.2222222222222222,
              "#7201a8"
             ],
             [
              0.3333333333333333,
              "#9c179e"
             ],
             [
              0.4444444444444444,
              "#bd3786"
             ],
             [
              0.5555555555555556,
              "#d8576b"
             ],
             [
              0.6666666666666666,
              "#ed7953"
             ],
             [
              0.7777777777777778,
              "#fb9f3a"
             ],
             [
              0.8888888888888888,
              "#fdca26"
             ],
             [
              1,
              "#f0f921"
             ]
            ],
            "type": "histogram2dcontour"
           }
          ],
          "mesh3d": [
           {
            "colorbar": {
             "outlinewidth": 0,
             "ticks": ""
            },
            "type": "mesh3d"
           }
          ],
          "parcoords": [
           {
            "line": {
             "colorbar": {
              "outlinewidth": 0,
              "ticks": ""
             }
            },
            "type": "parcoords"
           }
          ],
          "pie": [
           {
            "automargin": true,
            "type": "pie"
           }
          ],
          "scatter": [
           {
            "fillpattern": {
             "fillmode": "overlay",
             "size": 10,
             "solidity": 0.2
            },
            "type": "scatter"
           }
          ],
          "scatter3d": [
           {
            "line": {
             "colorbar": {
              "outlinewidth": 0,
              "ticks": ""
             }
            },
            "marker": {
             "colorbar": {
              "outlinewidth": 0,
              "ticks": ""
             }
            },
            "type": "scatter3d"
           }
          ],
          "scattercarpet": [
           {
            "marker": {
             "colorbar": {
              "outlinewidth": 0,
              "ticks": ""
             }
            },
            "type": "scattercarpet"
           }
          ],
          "scattergeo": [
           {
            "marker": {
             "colorbar": {
              "outlinewidth": 0,
              "ticks": ""
             }
            },
            "type": "scattergeo"
           }
          ],
          "scattergl": [
           {
            "marker": {
             "colorbar": {
              "outlinewidth": 0,
              "ticks": ""
             }
            },
            "type": "scattergl"
           }
          ],
          "scattermapbox": [
           {
            "marker": {
             "colorbar": {
              "outlinewidth": 0,
              "ticks": ""
             }
            },
            "type": "scattermapbox"
           }
          ],
          "scatterpolar": [
           {
            "marker": {
             "colorbar": {
              "outlinewidth": 0,
              "ticks": ""
             }
            },
            "type": "scatterpolar"
           }
          ],
          "scatterpolargl": [
           {
            "marker": {
             "colorbar": {
              "outlinewidth": 0,
              "ticks": ""
             }
            },
            "type": "scatterpolargl"
           }
          ],
          "scatterternary": [
           {
            "marker": {
             "colorbar": {
              "outlinewidth": 0,
              "ticks": ""
             }
            },
            "type": "scatterternary"
           }
          ],
          "surface": [
           {
            "colorbar": {
             "outlinewidth": 0,
             "ticks": ""
            },
            "colorscale": [
             [
              0,
              "#0d0887"
             ],
             [
              0.1111111111111111,
              "#46039f"
             ],
             [
              0.2222222222222222,
              "#7201a8"
             ],
             [
              0.3333333333333333,
              "#9c179e"
             ],
             [
              0.4444444444444444,
              "#bd3786"
             ],
             [
              0.5555555555555556,
              "#d8576b"
             ],
             [
              0.6666666666666666,
              "#ed7953"
             ],
             [
              0.7777777777777778,
              "#fb9f3a"
             ],
             [
              0.8888888888888888,
              "#fdca26"
             ],
             [
              1,
              "#f0f921"
             ]
            ],
            "type": "surface"
           }
          ],
          "table": [
           {
            "cells": {
             "fill": {
              "color": "#EBF0F8"
             },
             "line": {
              "color": "white"
             }
            },
            "header": {
             "fill": {
              "color": "#C8D4E3"
             },
             "line": {
              "color": "white"
             }
            },
            "type": "table"
           }
          ]
         },
         "layout": {
          "annotationdefaults": {
           "arrowcolor": "#2a3f5f",
           "arrowhead": 0,
           "arrowwidth": 1
          },
          "autotypenumbers": "strict",
          "coloraxis": {
           "colorbar": {
            "outlinewidth": 0,
            "ticks": ""
           }
          },
          "colorscale": {
           "diverging": [
            [
             0,
             "#8e0152"
            ],
            [
             0.1,
             "#c51b7d"
            ],
            [
             0.2,
             "#de77ae"
            ],
            [
             0.3,
             "#f1b6da"
            ],
            [
             0.4,
             "#fde0ef"
            ],
            [
             0.5,
             "#f7f7f7"
            ],
            [
             0.6,
             "#e6f5d0"
            ],
            [
             0.7,
             "#b8e186"
            ],
            [
             0.8,
             "#7fbc41"
            ],
            [
             0.9,
             "#4d9221"
            ],
            [
             1,
             "#276419"
            ]
           ],
           "sequential": [
            [
             0,
             "#0d0887"
            ],
            [
             0.1111111111111111,
             "#46039f"
            ],
            [
             0.2222222222222222,
             "#7201a8"
            ],
            [
             0.3333333333333333,
             "#9c179e"
            ],
            [
             0.4444444444444444,
             "#bd3786"
            ],
            [
             0.5555555555555556,
             "#d8576b"
            ],
            [
             0.6666666666666666,
             "#ed7953"
            ],
            [
             0.7777777777777778,
             "#fb9f3a"
            ],
            [
             0.8888888888888888,
             "#fdca26"
            ],
            [
             1,
             "#f0f921"
            ]
           ],
           "sequentialminus": [
            [
             0,
             "#0d0887"
            ],
            [
             0.1111111111111111,
             "#46039f"
            ],
            [
             0.2222222222222222,
             "#7201a8"
            ],
            [
             0.3333333333333333,
             "#9c179e"
            ],
            [
             0.4444444444444444,
             "#bd3786"
            ],
            [
             0.5555555555555556,
             "#d8576b"
            ],
            [
             0.6666666666666666,
             "#ed7953"
            ],
            [
             0.7777777777777778,
             "#fb9f3a"
            ],
            [
             0.8888888888888888,
             "#fdca26"
            ],
            [
             1,
             "#f0f921"
            ]
           ]
          },
          "colorway": [
           "#636efa",
           "#EF553B",
           "#00cc96",
           "#ab63fa",
           "#FFA15A",
           "#19d3f3",
           "#FF6692",
           "#B6E880",
           "#FF97FF",
           "#FECB52"
          ],
          "font": {
           "color": "#2a3f5f",
           "family": "arial",
           "size": 12
          },
          "geo": {
           "bgcolor": "white",
           "lakecolor": "white",
           "landcolor": "white",
           "showlakes": true,
           "showland": true,
           "subunitcolor": "#C8D4E3"
          },
          "hoverlabel": {
           "align": "left"
          },
          "hovermode": "closest",
          "mapbox": {
           "style": "light"
          },
          "paper_bgcolor": "white",
          "plot_bgcolor": "white",
          "polar": {
           "angularaxis": {
            "gridcolor": "#EBF0F8",
            "linecolor": "#EBF0F8",
            "ticks": ""
           },
           "bgcolor": "white",
           "radialaxis": {
            "gridcolor": "#EBF0F8",
            "linecolor": "#EBF0F8",
            "ticks": ""
           }
          },
          "scene": {
           "xaxis": {
            "backgroundcolor": "white",
            "gridcolor": "#DFE8F3",
            "gridwidth": 2,
            "linecolor": "#EBF0F8",
            "showbackground": true,
            "ticks": "",
            "zerolinecolor": "#EBF0F8"
           },
           "yaxis": {
            "backgroundcolor": "white",
            "gridcolor": "#DFE8F3",
            "gridwidth": 2,
            "linecolor": "#EBF0F8",
            "showbackground": true,
            "ticks": "",
            "zerolinecolor": "#EBF0F8"
           },
           "zaxis": {
            "backgroundcolor": "white",
            "gridcolor": "#DFE8F3",
            "gridwidth": 2,
            "linecolor": "#EBF0F8",
            "showbackground": true,
            "ticks": "",
            "zerolinecolor": "#EBF0F8"
           }
          },
          "shapedefaults": {
           "line": {
            "color": "#2a3f5f"
           }
          },
          "ternary": {
           "aaxis": {
            "gridcolor": "#DFE8F3",
            "linecolor": "#A2B1C6",
            "ticks": ""
           },
           "baxis": {
            "gridcolor": "#DFE8F3",
            "linecolor": "#A2B1C6",
            "ticks": ""
           },
           "bgcolor": "white",
           "caxis": {
            "gridcolor": "#DFE8F3",
            "linecolor": "#A2B1C6",
            "ticks": ""
           }
          },
          "title": {
           "x": 0.05
          },
          "xaxis": {
           "automargin": true,
           "gridcolor": "#EBF0F8",
           "linecolor": "#EBF0F8",
           "ticks": "",
           "title": {
            "standoff": 15
           },
           "zerolinecolor": "#EBF0F8",
           "zerolinewidth": 2
          },
          "yaxis": {
           "automargin": true,
           "gridcolor": "#EBF0F8",
           "linecolor": "#EBF0F8",
           "ticks": "",
           "title": {
            "standoff": 15
           },
           "zerolinecolor": "#EBF0F8",
           "zerolinewidth": 2
          }
         }
        },
        "xaxis": {
         "title": {
          "text": "Number of terminals"
         }
        },
        "yaxis": {
         "title": {
          "text": "Processing time [s]"
         }
        }
       }
      },
      "text/html": [
       "<div>                            <div id=\"598d058b-586d-4f8f-8855-5af31632f844\" class=\"plotly-graph-div\" style=\"height:525px; width:100%;\"></div>            <script type=\"text/javascript\">                require([\"plotly\"], function(Plotly) {                    window.PLOTLYENV=window.PLOTLYENV || {};                                    if (document.getElementById(\"598d058b-586d-4f8f-8855-5af31632f844\")) {                    Plotly.newPlot(                        \"598d058b-586d-4f8f-8855-5af31632f844\",                        [{\"name\":\"Terminal-centric\",\"x\":[0,2,3,4,5,6,8,10],\"y\":[0.921875,2.921875,3.90625,4.921875,5.828125,6.953125,7.953125,8.84375],\"type\":\"scatter\"},{\"name\":\"Rail-centric\",\"x\":[0,2,3,4,5,6,8,10],\"y\":[0.96875,5.015625,10.1875,11.09375,12.765625,15.25,14.0,23.109375],\"type\":\"scatter\"}],                        {\"template\":{\"data\":{\"barpolar\":[{\"marker\":{\"line\":{\"color\":\"white\",\"width\":0.5},\"pattern\":{\"fillmode\":\"overlay\",\"size\":10,\"solidity\":0.2}},\"type\":\"barpolar\"}],\"bar\":[{\"error_x\":{\"color\":\"#2a3f5f\"},\"error_y\":{\"color\":\"#2a3f5f\"},\"marker\":{\"line\":{\"color\":\"white\",\"width\":0.5},\"pattern\":{\"fillmode\":\"overlay\",\"size\":10,\"solidity\":0.2}},\"type\":\"bar\"}],\"carpet\":[{\"aaxis\":{\"endlinecolor\":\"#2a3f5f\",\"gridcolor\":\"#C8D4E3\",\"linecolor\":\"#C8D4E3\",\"minorgridcolor\":\"#C8D4E3\",\"startlinecolor\":\"#2a3f5f\"},\"baxis\":{\"endlinecolor\":\"#2a3f5f\",\"gridcolor\":\"#C8D4E3\",\"linecolor\":\"#C8D4E3\",\"minorgridcolor\":\"#C8D4E3\",\"startlinecolor\":\"#2a3f5f\"},\"type\":\"carpet\"}],\"choropleth\":[{\"colorbar\":{\"outlinewidth\":0,\"ticks\":\"\"},\"type\":\"choropleth\"}],\"contourcarpet\":[{\"colorbar\":{\"outlinewidth\":0,\"ticks\":\"\"},\"type\":\"contourcarpet\"}],\"contour\":[{\"colorbar\":{\"outlinewidth\":0,\"ticks\":\"\"},\"colorscale\":[[0.0,\"#0d0887\"],[0.1111111111111111,\"#46039f\"],[0.2222222222222222,\"#7201a8\"],[0.3333333333333333,\"#9c179e\"],[0.4444444444444444,\"#bd3786\"],[0.5555555555555556,\"#d8576b\"],[0.6666666666666666,\"#ed7953\"],[0.7777777777777778,\"#fb9f3a\"],[0.8888888888888888,\"#fdca26\"],[1.0,\"#f0f921\"]],\"type\":\"contour\"}],\"heatmapgl\":[{\"colorbar\":{\"outlinewidth\":0,\"ticks\":\"\"},\"colorscale\":[[0.0,\"#0d0887\"],[0.1111111111111111,\"#46039f\"],[0.2222222222222222,\"#7201a8\"],[0.3333333333333333,\"#9c179e\"],[0.4444444444444444,\"#bd3786\"],[0.5555555555555556,\"#d8576b\"],[0.6666666666666666,\"#ed7953\"],[0.7777777777777778,\"#fb9f3a\"],[0.8888888888888888,\"#fdca26\"],[1.0,\"#f0f921\"]],\"type\":\"heatmapgl\"}],\"heatmap\":[{\"colorbar\":{\"outlinewidth\":0,\"ticks\":\"\"},\"colorscale\":[[0.0,\"#0d0887\"],[0.1111111111111111,\"#46039f\"],[0.2222222222222222,\"#7201a8\"],[0.3333333333333333,\"#9c179e\"],[0.4444444444444444,\"#bd3786\"],[0.5555555555555556,\"#d8576b\"],[0.6666666666666666,\"#ed7953\"],[0.7777777777777778,\"#fb9f3a\"],[0.8888888888888888,\"#fdca26\"],[1.0,\"#f0f921\"]],\"type\":\"heatmap\"}],\"histogram2dcontour\":[{\"colorbar\":{\"outlinewidth\":0,\"ticks\":\"\"},\"colorscale\":[[0.0,\"#0d0887\"],[0.1111111111111111,\"#46039f\"],[0.2222222222222222,\"#7201a8\"],[0.3333333333333333,\"#9c179e\"],[0.4444444444444444,\"#bd3786\"],[0.5555555555555556,\"#d8576b\"],[0.6666666666666666,\"#ed7953\"],[0.7777777777777778,\"#fb9f3a\"],[0.8888888888888888,\"#fdca26\"],[1.0,\"#f0f921\"]],\"type\":\"histogram2dcontour\"}],\"histogram2d\":[{\"colorbar\":{\"outlinewidth\":0,\"ticks\":\"\"},\"colorscale\":[[0.0,\"#0d0887\"],[0.1111111111111111,\"#46039f\"],[0.2222222222222222,\"#7201a8\"],[0.3333333333333333,\"#9c179e\"],[0.4444444444444444,\"#bd3786\"],[0.5555555555555556,\"#d8576b\"],[0.6666666666666666,\"#ed7953\"],[0.7777777777777778,\"#fb9f3a\"],[0.8888888888888888,\"#fdca26\"],[1.0,\"#f0f921\"]],\"type\":\"histogram2d\"}],\"histogram\":[{\"marker\":{\"pattern\":{\"fillmode\":\"overlay\",\"size\":10,\"solidity\":0.2}},\"type\":\"histogram\"}],\"mesh3d\":[{\"colorbar\":{\"outlinewidth\":0,\"ticks\":\"\"},\"type\":\"mesh3d\"}],\"parcoords\":[{\"line\":{\"colorbar\":{\"outlinewidth\":0,\"ticks\":\"\"}},\"type\":\"parcoords\"}],\"pie\":[{\"automargin\":true,\"type\":\"pie\"}],\"scatter3d\":[{\"line\":{\"colorbar\":{\"outlinewidth\":0,\"ticks\":\"\"}},\"marker\":{\"colorbar\":{\"outlinewidth\":0,\"ticks\":\"\"}},\"type\":\"scatter3d\"}],\"scattercarpet\":[{\"marker\":{\"colorbar\":{\"outlinewidth\":0,\"ticks\":\"\"}},\"type\":\"scattercarpet\"}],\"scattergeo\":[{\"marker\":{\"colorbar\":{\"outlinewidth\":0,\"ticks\":\"\"}},\"type\":\"scattergeo\"}],\"scattergl\":[{\"marker\":{\"colorbar\":{\"outlinewidth\":0,\"ticks\":\"\"}},\"type\":\"scattergl\"}],\"scattermapbox\":[{\"marker\":{\"colorbar\":{\"outlinewidth\":0,\"ticks\":\"\"}},\"type\":\"scattermapbox\"}],\"scatterpolargl\":[{\"marker\":{\"colorbar\":{\"outlinewidth\":0,\"ticks\":\"\"}},\"type\":\"scatterpolargl\"}],\"scatterpolar\":[{\"marker\":{\"colorbar\":{\"outlinewidth\":0,\"ticks\":\"\"}},\"type\":\"scatterpolar\"}],\"scatter\":[{\"fillpattern\":{\"fillmode\":\"overlay\",\"size\":10,\"solidity\":0.2},\"type\":\"scatter\"}],\"scatterternary\":[{\"marker\":{\"colorbar\":{\"outlinewidth\":0,\"ticks\":\"\"}},\"type\":\"scatterternary\"}],\"surface\":[{\"colorbar\":{\"outlinewidth\":0,\"ticks\":\"\"},\"colorscale\":[[0.0,\"#0d0887\"],[0.1111111111111111,\"#46039f\"],[0.2222222222222222,\"#7201a8\"],[0.3333333333333333,\"#9c179e\"],[0.4444444444444444,\"#bd3786\"],[0.5555555555555556,\"#d8576b\"],[0.6666666666666666,\"#ed7953\"],[0.7777777777777778,\"#fb9f3a\"],[0.8888888888888888,\"#fdca26\"],[1.0,\"#f0f921\"]],\"type\":\"surface\"}],\"table\":[{\"cells\":{\"fill\":{\"color\":\"#EBF0F8\"},\"line\":{\"color\":\"white\"}},\"header\":{\"fill\":{\"color\":\"#C8D4E3\"},\"line\":{\"color\":\"white\"}},\"type\":\"table\"}]},\"layout\":{\"annotationdefaults\":{\"arrowcolor\":\"#2a3f5f\",\"arrowhead\":0,\"arrowwidth\":1},\"autotypenumbers\":\"strict\",\"coloraxis\":{\"colorbar\":{\"outlinewidth\":0,\"ticks\":\"\"}},\"colorscale\":{\"diverging\":[[0,\"#8e0152\"],[0.1,\"#c51b7d\"],[0.2,\"#de77ae\"],[0.3,\"#f1b6da\"],[0.4,\"#fde0ef\"],[0.5,\"#f7f7f7\"],[0.6,\"#e6f5d0\"],[0.7,\"#b8e186\"],[0.8,\"#7fbc41\"],[0.9,\"#4d9221\"],[1,\"#276419\"]],\"sequential\":[[0.0,\"#0d0887\"],[0.1111111111111111,\"#46039f\"],[0.2222222222222222,\"#7201a8\"],[0.3333333333333333,\"#9c179e\"],[0.4444444444444444,\"#bd3786\"],[0.5555555555555556,\"#d8576b\"],[0.6666666666666666,\"#ed7953\"],[0.7777777777777778,\"#fb9f3a\"],[0.8888888888888888,\"#fdca26\"],[1.0,\"#f0f921\"]],\"sequentialminus\":[[0.0,\"#0d0887\"],[0.1111111111111111,\"#46039f\"],[0.2222222222222222,\"#7201a8\"],[0.3333333333333333,\"#9c179e\"],[0.4444444444444444,\"#bd3786\"],[0.5555555555555556,\"#d8576b\"],[0.6666666666666666,\"#ed7953\"],[0.7777777777777778,\"#fb9f3a\"],[0.8888888888888888,\"#fdca26\"],[1.0,\"#f0f921\"]]},\"colorway\":[\"#636efa\",\"#EF553B\",\"#00cc96\",\"#ab63fa\",\"#FFA15A\",\"#19d3f3\",\"#FF6692\",\"#B6E880\",\"#FF97FF\",\"#FECB52\"],\"font\":{\"color\":\"#2a3f5f\",\"family\":\"arial\",\"size\":12},\"geo\":{\"bgcolor\":\"white\",\"lakecolor\":\"white\",\"landcolor\":\"white\",\"showlakes\":true,\"showland\":true,\"subunitcolor\":\"#C8D4E3\"},\"hoverlabel\":{\"align\":\"left\"},\"hovermode\":\"closest\",\"mapbox\":{\"style\":\"light\"},\"paper_bgcolor\":\"white\",\"plot_bgcolor\":\"white\",\"polar\":{\"angularaxis\":{\"gridcolor\":\"#EBF0F8\",\"linecolor\":\"#EBF0F8\",\"ticks\":\"\"},\"bgcolor\":\"white\",\"radialaxis\":{\"gridcolor\":\"#EBF0F8\",\"linecolor\":\"#EBF0F8\",\"ticks\":\"\"}},\"scene\":{\"xaxis\":{\"backgroundcolor\":\"white\",\"gridcolor\":\"#DFE8F3\",\"gridwidth\":2,\"linecolor\":\"#EBF0F8\",\"showbackground\":true,\"ticks\":\"\",\"zerolinecolor\":\"#EBF0F8\"},\"yaxis\":{\"backgroundcolor\":\"white\",\"gridcolor\":\"#DFE8F3\",\"gridwidth\":2,\"linecolor\":\"#EBF0F8\",\"showbackground\":true,\"ticks\":\"\",\"zerolinecolor\":\"#EBF0F8\"},\"zaxis\":{\"backgroundcolor\":\"white\",\"gridcolor\":\"#DFE8F3\",\"gridwidth\":2,\"linecolor\":\"#EBF0F8\",\"showbackground\":true,\"ticks\":\"\",\"zerolinecolor\":\"#EBF0F8\"}},\"shapedefaults\":{\"line\":{\"color\":\"#2a3f5f\"}},\"ternary\":{\"aaxis\":{\"gridcolor\":\"#DFE8F3\",\"linecolor\":\"#A2B1C6\",\"ticks\":\"\"},\"baxis\":{\"gridcolor\":\"#DFE8F3\",\"linecolor\":\"#A2B1C6\",\"ticks\":\"\"},\"bgcolor\":\"white\",\"caxis\":{\"gridcolor\":\"#DFE8F3\",\"linecolor\":\"#A2B1C6\",\"ticks\":\"\"}},\"title\":{\"x\":0.05},\"xaxis\":{\"automargin\":true,\"gridcolor\":\"#EBF0F8\",\"linecolor\":\"#EBF0F8\",\"ticks\":\"\",\"title\":{\"standoff\":15},\"zerolinecolor\":\"#EBF0F8\",\"zerolinewidth\":2},\"yaxis\":{\"automargin\":true,\"gridcolor\":\"#EBF0F8\",\"linecolor\":\"#EBF0F8\",\"ticks\":\"\",\"title\":{\"standoff\":15},\"zerolinecolor\":\"#EBF0F8\",\"zerolinewidth\":2}}},\"xaxis\":{\"title\":{\"text\":\"Number of terminals\"}},\"yaxis\":{\"title\":{\"text\":\"Processing time [s]\"}}},                        {\"responsive\": true}                    ).then(function(){\n",
       "                            \n",
       "var gd = document.getElementById('598d058b-586d-4f8f-8855-5af31632f844');\n",
       "var x = new MutationObserver(function (mutations, observer) {{\n",
       "        var display = window.getComputedStyle(gd).display;\n",
       "        if (!display || display === 'none') {{\n",
       "            console.log([gd, 'removed!']);\n",
       "            Plotly.purge(gd);\n",
       "            observer.disconnect();\n",
       "        }}\n",
       "}});\n",
       "\n",
       "// Listen for the removal of the full notebook cells\n",
       "var notebookContainer = gd.closest('#notebook-container');\n",
       "if (notebookContainer) {{\n",
       "    x.observe(notebookContainer, {childList: true});\n",
       "}}\n",
       "\n",
       "// Listen for the clearing of the current output cell\n",
       "var outputEl = gd.closest('.output');\n",
       "if (outputEl) {{\n",
       "    x.observe(outputEl, {childList: true});\n",
       "}}\n",
       "\n",
       "                        })                };                });            </script>        </div>"
      ]
     },
     "metadata": {},
     "output_type": "display_data"
    }
   ],
   "source": [
    "fig = go.Figure()\n",
    "fig.add_trace(go.Scatter(y = df_dict_process_time[\"100\"], x = df_dict_process_time.index, name = f\"Terminal-centric\"))\n",
    "fig.add_trace(go.Scatter(y = df_dict_process_time_drop[\"100\"], x = df_dict_process_time_drop.index, name = f\"Rail-centric\"))\n",
    "fig.update_xaxes(title = \"Number of terminals\")\n",
    "fig.update_yaxes(title = \"Processing time [s]\")\n",
    "fig.show()"
   ]
  }
 ],
 "metadata": {
  "kernelspec": {
   "display_name": "Python 3 (ipykernel)",
   "language": "python",
   "name": "python3"
  },
  "language_info": {
   "codemirror_mode": {
    "name": "ipython",
    "version": 3
   },
   "file_extension": ".py",
   "mimetype": "text/x-python",
   "name": "python",
   "nbconvert_exporter": "python",
   "pygments_lexer": "ipython3",
   "version": "3.10.9"
  }
 },
 "nbformat": 4,
 "nbformat_minor": 5
}
