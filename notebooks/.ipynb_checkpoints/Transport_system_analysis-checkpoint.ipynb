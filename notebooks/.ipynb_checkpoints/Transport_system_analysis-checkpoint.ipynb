{
 "cells": [
  {
   "cell_type": "code",
   "execution_count": 22,
   "id": "39005a85",
   "metadata": {},
   "outputs": [],
   "source": [
    "from loguru import logger\n",
    "from datetime import timedelta\n",
    "import pandas as pd\n",
    "import json\n",
    "import requests\n",
    "import numpy as np\n",
    "\n",
    "import plotly.express as px\n",
    "import datetime as dt\n",
    "\n",
    "import math\n",
    "import time\n",
    "\n",
    "import haversine\n",
    "\n",
    "%reload_ext autoreload\n",
    "%autoreload 2\n",
    "\n",
    "import plotly.graph_objects as go\n",
    "\n",
    "import sys\n",
    "sys.path.append('..')\n",
    "from src.co2_modells import co2_modell, co2_modell_direct\n",
    "from src.create_solution import create_solution, create_solution_150_20\n",
    "from src.data_matrix import create_dict_points, create_df_distance_matrix\n",
    "from src.data_for_tool import data_for_tool, create_table_daily_mean, create_table_total, create_lists_days_weeks_months, create_list_days_month"
   ]
  },
  {
   "cell_type": "markdown",
   "id": "d58a102d",
   "metadata": {},
   "source": [
    "# Data Import"
   ]
  },
  {
   "cell_type": "code",
   "execution_count": 3,
   "id": "67f34b26",
   "metadata": {},
   "outputs": [
    {
     "data": {
      "text/plain": [
       "787"
      ]
     },
     "execution_count": 3,
     "metadata": {},
     "output_type": "execute_result"
    }
   ],
   "source": [
    "# Import data\n",
    "project_path = 'results'\n",
    "dataset_name = 'df_limited'\n",
    "df = pd.read_csv(f'{project_path}/{dataset_name}.csv', parse_dates=['Delivery date'])\n",
    "dataset_name = 'df_distance_matrix'\n",
    "df_distance_matrix = pd.read_csv(f'{project_path}/{dataset_name}.csv', index_col = 0)\n",
    "\n",
    "# Import dict terminals\n",
    "f = open(\"../data/external/intermodal_terminals/dict_terminals.json\")\n",
    "dict_terminals = json.load(f)\n",
    "\n",
    "# Import dict points\n",
    "f = open(\"../data/processed/dict_points.json\")\n",
    "dict_points = json.load(f)\n",
    "\n",
    "#df_dc2, df_dc3, df_distance_matrix, dict_terminals, df_terminal = data_for_tool()\n",
    "list_days, list_mondays, list_bi_daily, list_months = create_lists_days_weeks_months(2022)\n",
    "list_mondays.append(dt.date(2023, 1, 2))\n",
    "\n",
    "df_dc1 = df[df[\"Shipper name\"]==\"DC1\"]\n",
    "df_dc2 = df[df[\"Shipper name\"]==\"DC2\"]\n",
    "\n",
    "len(df[\"Receiver name\"].unique())"
   ]
  },
  {
   "cell_type": "code",
   "execution_count": 4,
   "id": "d99696c7",
   "metadata": {},
   "outputs": [
    {
     "data": {
      "text/plain": [
       "787"
      ]
     },
     "execution_count": 4,
     "metadata": {},
     "output_type": "execute_result"
    }
   ],
   "source": [
    "len(df[\"Receiver name\"].unique())"
   ]
  },
  {
   "cell_type": "code",
   "execution_count": 5,
   "id": "8b0816c6",
   "metadata": {},
   "outputs": [],
   "source": [
    "truck_capacity = 13000"
   ]
  },
  {
   "cell_type": "markdown",
   "id": "78b1b3c7",
   "metadata": {},
   "source": [
    "> Irgendwie noch den Auslastungsgrad mit einbeziehen"
   ]
  },
  {
   "cell_type": "code",
   "execution_count": 6,
   "id": "1a423d94",
   "metadata": {},
   "outputs": [],
   "source": [
    "def get_results_volume_variation(truck_capacity = truck_capacity, mode = \"combined\", algorithm = \"base\"):\n",
    "    # daily\n",
    "    t = time.process_time()\n",
    "    df_results = pd.DataFrame(columns = [\"date from\", \"date to\", \"co2 road\", \"distance road\", \"routes road\", \"processing time road\",\"co2 railroad\", \"distance railroad\", \"terminal allocation\", \"routes railroad\", \"processing time railroad\"])\n",
    "    for volume in [1,5,10]:\n",
    "        for i in range(1,len(list_days[:8])):\n",
    "            try: \n",
    "                dict_results, df_results_details = co2_modell(\n",
    "                df_dc1, df_distance_matrix, dict_terminals, list_days[i-1], list_days[i], \n",
    "                volume = volume, mode = mode, truck_capacity = truck_capacity)\n",
    "                dict_results[\"volume\"] = volume\n",
    "                df_results = df_results.append(dict_results, ignore_index=True)\n",
    "            except:\n",
    "                pass\n",
    "    return df_results"
   ]
  },
  {
   "cell_type": "code",
   "execution_count": 7,
   "id": "28e03f04",
   "metadata": {},
   "outputs": [],
   "source": [
    "def get_results_one_month(df, month, volume, truck_capacity = truck_capacity, mode = \"combined\", algorithm = \"base\"):\n",
    "    list_days = create_list_days_month(2022, month)\n",
    "    # daily\n",
    "    t = time.process_time()\n",
    "    df_results = pd.DataFrame(columns = [\"date from\", \"date to\", \"co2 road\", \"distance road\", \"routes road\", \"processing time road\",\"co2 railroad\", \"distance railroad\", \"terminal allocation\", \"routes railroad\", \"processing time railroad\"])\n",
    "    for i in range(1,len(list_days)):\n",
    "        try: \n",
    "            dict_results, df_results_details = co2_modell(\n",
    "            df, df_distance_matrix, dict_terminals, list_days[i-1], list_days[i], \n",
    "            volume = volume, mode = mode, truck_capacity = truck_capacity)\n",
    "            dict_results[\"volume\"] = volume\n",
    "            df_results = df_results.append(dict_results, ignore_index=True)\n",
    "        except:\n",
    "            pass\n",
    "    df_results.to_csv(f\"results/results_daily_m{month}_v{volume}_{mode}_{algorihtm}.csv\", index = False)\n",
    "    return df_results"
   ]
  },
  {
   "cell_type": "code",
   "execution_count": 8,
   "id": "cb334f4b",
   "metadata": {},
   "outputs": [],
   "source": [
    "def get_results_weekly(df, list_mondays, volume, truck_capacity = truck_capacity, mode = \"combined\", algorithm = \"base\"):\n",
    "    t = time.process_time()\n",
    "    df_results = pd.DataFrame(columns = [\"date from\", \"date to\", \"co2 road\", \"distance road\", \"routes road\", \"processing time road\",\"co2 railroad\", \"distance railroad\", \"terminal allocation\", \"routes railroad\", \"processing time railroad\"])\n",
    "    for i in range(1,len(list_mondays)):\n",
    "        logger.info(f\"From {list_mondays[i-1]} to {list_mondays[i]}\")\n",
    "        #try: \n",
    "        dict_results, df_results_details = co2_modell(\n",
    "            df, df_distance_matrix, dict_terminals, list_mondays[i-1], list_mondays[i], algorithm = algorithm,\n",
    "            volume = volume, mode = mode, truck_capacity = truck_capacity)\n",
    "        dict_results[\"volume\"] = volume\n",
    "        df_results = df_results.append(dict_results, ignore_index=True)\n",
    "        #except:\n",
    "        #    pass\n",
    "    #df_results.to_csv(f\"results/results_monthly_v{volume}_{mode}_{algorithm}.csv\", index = False)\n",
    "    return df_results"
   ]
  },
  {
   "cell_type": "code",
   "execution_count": 10,
   "id": "39a1e598",
   "metadata": {
    "scrolled": true
   },
   "outputs": [],
   "source": [
    "def get_results_daily_per_week(df, week_number, truck_capacity = truck_capacity, mode = \"combined\", algorithm = \"base\"):\n",
    "    list_days_week = []\n",
    "    d = list_mondays[week_number-1]\n",
    "    while d != list_mondays[week_number]:\n",
    "        list_days_week.append(d)\n",
    "        d += timedelta(days = 1)\n",
    "    t = time.process_time()\n",
    "    df_results = pd.DataFrame(columns = [\"date from\", \"date to\", \"co2 road\", \"distance road\", \"routes road\", \"processing time road\",\"co2 railroad\", \"distance railroad\", \"terminal allocation\", \"routes railroad\", \"processing time railroad\"])\n",
    "    for volume in [1,5,10]:\n",
    "        for i in range(0,len(list_days_week)-1):\n",
    "            try: \n",
    "                dict_results, df_results_details = co2_modell(\n",
    "                    df, df_distance_matrix, dict_terminals, list_days_week[i], list_days_week[i+1], algorithm = algorithm,\n",
    "                    volume = volume, mode = mode, truck_capacity = truck_capacity, nb_trucks = 40)\n",
    "                dict_results[\"volume\"] = volume\n",
    "                df_results = df_results.append(dict_results, ignore_index=True)\n",
    "            except:\n",
    "                pass\n",
    "    df_results.to_csv(f\"results/algorithms/results_{mode}_{algorithm}_w{week_number}.csv\", index = False)\n",
    "    return df_results"
   ]
  },
  {
   "cell_type": "code",
   "execution_count": 11,
   "id": "c70e99b0",
   "metadata": {},
   "outputs": [],
   "source": [
    "def load_results_algorithms(week_number, mode = \"combined\"):\n",
    "    df_results = pd.DataFrame()\n",
    "    for algorithm in [\"base\", \"drop\", \"client\"]:\n",
    "        try: \n",
    "            df_results_add = pd.read_csv(f\"results/algorithms/results_{mode}_{algorithm}_w{week_number}.csv\", parse_dates = [\"date from\"])\n",
    "            df_results_add[\"algorithm\"] = algorithm\n",
    "            df_results = pd.concat([df_results, df_results_add])\n",
    "        except:\n",
    "            pass\n",
    "    return df_results"
   ]
  },
  {
   "cell_type": "code",
   "execution_count": 12,
   "id": "1a9ffa0f",
   "metadata": {},
   "outputs": [],
   "source": [
    "def load_results_modes(week_number, algorithm = \"base\"):\n",
    "    df_results = pd.DataFrame()\n",
    "    for mode in [\"combined\", \"intermodal\", \"multi\"]:\n",
    "        try: \n",
    "            df_results_add = pd.read_csv(f\"results/algorithms/results_{mode}_{algorithm}_w{week_number}.csv\", parse_dates = [\"date from\"])\n",
    "            df_results_add[\"mode\"] = mode\n",
    "            df_results = pd.concat([df_results, df_results_add])\n",
    "        except:\n",
    "            pass\n",
    "    return df_results"
   ]
  },
  {
   "cell_type": "code",
   "execution_count": 13,
   "id": "d39b3a1e",
   "metadata": {},
   "outputs": [],
   "source": [
    "def load_results_railroad(week_number, algorithm = \"base\", mode = \"combined\"):\n",
    "    df_results = pd.DataFrame()\n",
    "    try: \n",
    "        df_results_add = pd.read_csv(f\"results/algorithms/results_{mode}_{algorithm}_w{week_number}.csv\", parse_dates = [\"date from\"])\n",
    "        df_results_add[\"mode\"] = mode\n",
    "        df_results = pd.concat([df_results, df_results_add])\n",
    "    except:\n",
    "        pass\n",
    "    return df_results"
   ]
  },
  {
   "cell_type": "code",
   "execution_count": null,
   "id": "a7c812e1",
   "metadata": {},
   "outputs": [],
   "source": [
    "import xlsxwriter\n",
    "def create_df_test(df_results, column):\n",
    "    df_test = df_results.groupby([\"volume\", \"algorithm\"])[[\"date from\", column]].agg(lambda x: list(x))\n",
    "    df_test[df_test[\"date from\"].iloc[0]] = df_test[column].to_list()\n",
    "    df_test = df_test.drop([\"date from\", column], axis = 1)\n",
    "    return df_test"
   ]
  },
  {
   "cell_type": "markdown",
   "id": "150ba21f",
   "metadata": {},
   "source": [
    "# Application of Decision Support Tool"
   ]
  },
  {
   "cell_type": "markdown",
   "id": "8369767d",
   "metadata": {},
   "source": [
    "1. Base scenario: Rail mandatory\n",
    "2. Scenario: Road allowed\n",
    "3. Scenario: Relaxation 150/20\n",
    "4. Scenario: Multi-modal, Combining the two DC's"
   ]
  },
  {
   "cell_type": "markdown",
   "id": "27e3f820",
   "metadata": {},
   "source": [
    "***"
   ]
  },
  {
   "cell_type": "markdown",
   "id": "a140c7b7",
   "metadata": {},
   "source": [
    "### Load results railroad"
   ]
  },
  {
   "cell_type": "code",
   "execution_count": 43,
   "id": "382e9bca",
   "metadata": {},
   "outputs": [],
   "source": [
    "df_results = load_results_railroad(2)\n",
    "df_results[\"date from\"] = df_results[\"date from\"].dt.date\n",
    "df_test = df_results.groupby([\"volume\"])[[\"date from\", \"co2 road\",\"co2 railroad\"]].agg(lambda x: list(x))"
   ]
  },
  {
   "cell_type": "code",
   "execution_count": 44,
   "id": "5c647ae8",
   "metadata": {},
   "outputs": [],
   "source": [
    "df_railroad = df_test.copy().reset_index()\n",
    "df_railroad[df_railroad[\"date from\"].iloc[0]] = df_railroad[\"co2 railroad\"].to_list()\n",
    "df_railroad[\"mode\"] = \"railroad\""
   ]
  },
  {
   "cell_type": "code",
   "execution_count": 45,
   "id": "1685e237",
   "metadata": {},
   "outputs": [],
   "source": [
    "df_road = df_test.copy().reset_index()\n",
    "df_road[df_road[\"date from\"].iloc[0]] = df_road[\"co2 road\"].to_list()\n",
    "df_road[\"mode\"] = \"road\""
   ]
  },
  {
   "cell_type": "code",
   "execution_count": 46,
   "id": "fc2813ec",
   "metadata": {},
   "outputs": [],
   "source": [
    "df_test = pd.concat([df_road, df_railroad])\n",
    "df_test = df_test.drop([\"date from\", \"co2 road\",\"co2 railroad\"], axis = 1)"
   ]
  },
  {
   "cell_type": "code",
   "execution_count": 48,
   "id": "e54c141c",
   "metadata": {},
   "outputs": [],
   "source": [
    "df_test.sort_values([\"volume\",\"mode\"]).to_csv(\"results/modes/road_vs_railroad_KW2.csv\", index = False)"
   ]
  },
  {
   "cell_type": "code",
   "execution_count": null,
   "id": "18dfe7e1",
   "metadata": {},
   "outputs": [],
   "source": [
    "df_results = load_results_railroad(2)\n",
    "df_results[\"date from\"] = df_results[\"date from\"].dt.date\n",
    "df_test = df_results.groupby([\"volume\", \"algorithm\"])[[\"date from\", \"co2 railroad\"]].agg(lambda x: list(x))\n",
    "df_test[df_test[\"date from\"].iloc[0]] = df_test[\"co2 railroad\"].to_list()\n",
    "df_test = df_test.drop([\"date from\", \"co2 railroad\"], axis = 1)\n",
    "df_test"
   ]
  },
  {
   "cell_type": "markdown",
   "id": "68c42ef0",
   "metadata": {},
   "source": [
    "### Load results algorithms"
   ]
  },
  {
   "cell_type": "code",
   "execution_count": null,
   "id": "ff1e6e4c",
   "metadata": {},
   "outputs": [],
   "source": [
    "week = 4\n",
    "mode = \"combined\"\n",
    "\n",
    "#load results\n",
    "df_results = load_results_algorithms(week, mode = mode)\n",
    "df_results[\"date from\"] = df_results[\"date from\"].dt.date\n",
    "\n",
    "# create df worksheets\n",
    "df_co2_railroad = create_df_test(df_results, \"co2 railroad\")\n",
    "df_co2_road = create_df_test(df_results, \"co2 road\")\n",
    "df_processing_time = create_df_test(df_results, \"processing time railroad\")\n",
    "\n",
    "writer = pd.ExcelWriter(f'results/algorithms/algorithms_analysis_{mode}_week{week}.xlsx', engine='xlsxwriter')\n",
    "# Write each dataframe to a different worksheet.\n",
    "df_co2_railroad.to_excel(writer, sheet_name=f'co2 railroad')\n",
    "df_co2_road.to_excel(writer, sheet_name=f'co2 road')\n",
    "df_processing_time.to_excel(writer, sheet_name=f'processing time')\n",
    "writer.close()"
   ]
  },
  {
   "cell_type": "code",
   "execution_count": null,
   "id": "a1066289",
   "metadata": {},
   "outputs": [],
   "source": [
    "week = [2,3,4,5]\n",
    "mode = \"combined\"\n",
    "\n",
    "#load results\n",
    "df_results = load_results_algorithms(week, mode = mode)\n",
    "df_results[\"date from\"] = df_results[\"date from\"].dt.date\n",
    "\n",
    "# create df worksheets\n",
    "df_co2_railroad = create_df_test(df_results, \"co2 railroad\")\n",
    "df_co2_road = create_df_test(df_results, \"co2 road\")\n",
    "df_processing_time = create_df_test(df_results, \"processing time railroad\")\n",
    "\n",
    "writer = pd.ExcelWriter(f'results/algorithms/algorithms_analysis_{mode}_week{week}.xlsx', engine='xlsxwriter')\n",
    "# Write each dataframe to a different worksheet.\n",
    "df_co2_railroad.to_excel(writer, sheet_name=f'co2 railroad')\n",
    "df_co2_road.to_excel(writer, sheet_name=f'co2 road')\n",
    "df_processing_time.to_excel(writer, sheet_name=f'processing time')\n",
    "writer.close()"
   ]
  },
  {
   "cell_type": "markdown",
   "id": "654df5ce",
   "metadata": {},
   "source": [
    "### Load results modes"
   ]
  },
  {
   "cell_type": "code",
   "execution_count": null,
   "id": "eef2598d",
   "metadata": {},
   "outputs": [],
   "source": [
    "week = 4\n",
    "algorithm = \"base\"\n",
    "\n",
    "#load results\n",
    "df_results = load_results_modes(week, algorithm = algorithm)\n",
    "df_results[\"date from\"] = df_results[\"date from\"].dt.date\n",
    "\n",
    "# create df worksheets\n",
    "df_co2_railroad = create_df_test(df_results, \"co2 railroad\")\n",
    "df_co2_road = create_df_test(df_results, \"co2 road\")\n",
    "df_processing_time = create_df_test(df_results, \"processing time railroad\")\n",
    "\n",
    "writer = pd.ExcelWriter(f'results/algorithms/algorithms_analysis_{mode}_week{week}.xlsx', engine='xlsxwriter')\n",
    "# Write each dataframe to a different worksheet.\n",
    "df_co2_railroad.to_excel(writer, sheet_name=f'co2 railroad')\n",
    "df_co2_road.to_excel(writer, sheet_name=f'co2 road')\n",
    "df_processing_time.to_excel(writer, sheet_name=f'processing time')\n",
    "writer.close()"
   ]
  },
  {
   "cell_type": "markdown",
   "id": "002eef98",
   "metadata": {},
   "source": [
    "### Daily for a specific week"
   ]
  },
  {
   "cell_type": "code",
   "execution_count": null,
   "id": "99585114",
   "metadata": {},
   "outputs": [],
   "source": [
    "week = 4"
   ]
  },
  {
   "cell_type": "code",
   "execution_count": 11,
   "id": "d36ca6db",
   "metadata": {},
   "outputs": [
    {
     "name": "stderr",
     "output_type": "stream",
     "text": [
      "C:\\Users\\marle\\OneDrive - tbs-education\\00_Masterarbeit\\Code\\notebooks\\..\\src\\co2_modells.py:29: SettingWithCopyWarning: \n",
      "A value is trying to be set on a copy of a slice from a DataFrame.\n",
      "Try using .loc[row_indexer,col_indexer] = value instead\n",
      "\n",
      "See the caveats in the documentation: https://pandas.pydata.org/pandas-docs/stable/user_guide/indexing.html#returning-a-view-versus-a-copy\n",
      "  df[\"Sender weight (kg)\"] = df[\"Sender weight (kg)\"]*volume\n",
      "\u001b[32m2023-08-11 16:24:19.557\u001b[0m | \u001b[1mINFO    \u001b[0m | \u001b[36msrc.co2_modells\u001b[0m:\u001b[36mpreprocessing_modelling\u001b[0m:\u001b[36m38\u001b[0m - \u001b[1m172.852\u001b[0m\n",
      "\u001b[32m2023-08-11 16:24:19.654\u001b[0m | \u001b[1mINFO    \u001b[0m | \u001b[36msrc.co2_modells\u001b[0m:\u001b[36mco2_modell\u001b[0m:\u001b[36m71\u001b[0m - \u001b[1m0.5638461538461539\u001b[0m\n"
     ]
    },
    {
     "name": "stdout",
     "output_type": "stream",
     "text": [
      "(285, 7)\n"
     ]
    },
    {
     "name": "stderr",
     "output_type": "stream",
     "text": [
      "C:\\Users\\marle\\OneDrive - tbs-education\\00_Masterarbeit\\Code\\notebooks\\..\\src\\create_solution.py:74: FutureWarning: Dropping of nuisance columns in DataFrame reductions (with 'numeric_only=None') is deprecated; in a future version this will raise TypeError.  Select only valid columns before calling the reduction.\n",
      "  distances['Dmin'] = distances.min(axis=1)\n"
     ]
    },
    {
     "name": "stdout",
     "output_type": "stream",
     "text": [
      "(54, 12)\n",
      "(100, 16)\n"
     ]
    },
    {
     "name": "stderr",
     "output_type": "stream",
     "text": [
      "C:\\Users\\marle\\AppData\\Local\\Temp\\ipykernel_26916\\2800501181.py:16: FutureWarning: The frame.append method is deprecated and will be removed from pandas in a future version. Use pandas.concat instead.\n",
      "  df_results = df_results.append(dict_results, ignore_index=True)\n",
      "C:\\Users\\marle\\OneDrive - tbs-education\\00_Masterarbeit\\Code\\notebooks\\..\\src\\co2_modells.py:29: SettingWithCopyWarning: \n",
      "A value is trying to be set on a copy of a slice from a DataFrame.\n",
      "Try using .loc[row_indexer,col_indexer] = value instead\n",
      "\n",
      "See the caveats in the documentation: https://pandas.pydata.org/pandas-docs/stable/user_guide/indexing.html#returning-a-view-versus-a-copy\n",
      "  df[\"Sender weight (kg)\"] = df[\"Sender weight (kg)\"]*volume\n",
      "\u001b[32m2023-08-11 16:24:33.000\u001b[0m | \u001b[1mINFO    \u001b[0m | \u001b[36msrc.co2_modells\u001b[0m:\u001b[36mpreprocessing_modelling\u001b[0m:\u001b[36m38\u001b[0m - \u001b[1m227.516\u001b[0m\n",
      "\u001b[32m2023-08-11 16:24:33.014\u001b[0m | \u001b[1mINFO    \u001b[0m | \u001b[36msrc.co2_modells\u001b[0m:\u001b[36mco2_modell\u001b[0m:\u001b[36m71\u001b[0m - \u001b[1m0.6317692307692307\u001b[0m\n"
     ]
    },
    {
     "name": "stdout",
     "output_type": "stream",
     "text": [
      "Total processing time: 7.421875\n",
      "(288, 7)\n"
     ]
    },
    {
     "name": "stderr",
     "output_type": "stream",
     "text": [
      "C:\\Users\\marle\\OneDrive - tbs-education\\00_Masterarbeit\\Code\\notebooks\\..\\src\\create_solution.py:74: FutureWarning: Dropping of nuisance columns in DataFrame reductions (with 'numeric_only=None') is deprecated; in a future version this will raise TypeError.  Select only valid columns before calling the reduction.\n",
      "  distances['Dmin'] = distances.min(axis=1)\n"
     ]
    },
    {
     "name": "stdout",
     "output_type": "stream",
     "text": [
      "(47, 12)\n",
      "(93, 16)\n"
     ]
    },
    {
     "name": "stderr",
     "output_type": "stream",
     "text": [
      "C:\\Users\\marle\\AppData\\Local\\Temp\\ipykernel_26916\\2800501181.py:16: FutureWarning: The frame.append method is deprecated and will be removed from pandas in a future version. Use pandas.concat instead.\n",
      "  df_results = df_results.append(dict_results, ignore_index=True)\n",
      "C:\\Users\\marle\\OneDrive - tbs-education\\00_Masterarbeit\\Code\\notebooks\\..\\src\\co2_modells.py:29: SettingWithCopyWarning: \n",
      "A value is trying to be set on a copy of a slice from a DataFrame.\n",
      "Try using .loc[row_indexer,col_indexer] = value instead\n",
      "\n",
      "See the caveats in the documentation: https://pandas.pydata.org/pandas-docs/stable/user_guide/indexing.html#returning-a-view-versus-a-copy\n",
      "  df[\"Sender weight (kg)\"] = df[\"Sender weight (kg)\"]*volume\n",
      "\u001b[32m2023-08-11 16:24:43.305\u001b[0m | \u001b[1mINFO    \u001b[0m | \u001b[36msrc.co2_modells\u001b[0m:\u001b[36mpreprocessing_modelling\u001b[0m:\u001b[36m38\u001b[0m - \u001b[1m170.73399999999998\u001b[0m\n",
      "\u001b[32m2023-08-11 16:24:43.337\u001b[0m | \u001b[1mINFO    \u001b[0m | \u001b[36msrc.co2_modells\u001b[0m:\u001b[36mco2_modell\u001b[0m:\u001b[36m71\u001b[0m - \u001b[1m0.5814615384615385\u001b[0m\n"
     ]
    },
    {
     "name": "stdout",
     "output_type": "stream",
     "text": [
      "Total processing time: 6.15625\n",
      "(271, 7)\n"
     ]
    },
    {
     "name": "stderr",
     "output_type": "stream",
     "text": [
      "C:\\Users\\marle\\OneDrive - tbs-education\\00_Masterarbeit\\Code\\notebooks\\..\\src\\create_solution.py:74: FutureWarning: Dropping of nuisance columns in DataFrame reductions (with 'numeric_only=None') is deprecated; in a future version this will raise TypeError.  Select only valid columns before calling the reduction.\n",
      "  distances['Dmin'] = distances.min(axis=1)\n"
     ]
    },
    {
     "name": "stdout",
     "output_type": "stream",
     "text": [
      "(47, 12)\n",
      "(93, 16)\n"
     ]
    },
    {
     "name": "stderr",
     "output_type": "stream",
     "text": [
      "C:\\Users\\marle\\AppData\\Local\\Temp\\ipykernel_26916\\2800501181.py:16: FutureWarning: The frame.append method is deprecated and will be removed from pandas in a future version. Use pandas.concat instead.\n",
      "  df_results = df_results.append(dict_results, ignore_index=True)\n",
      "C:\\Users\\marle\\OneDrive - tbs-education\\00_Masterarbeit\\Code\\notebooks\\..\\src\\co2_modells.py:29: SettingWithCopyWarning: \n",
      "A value is trying to be set on a copy of a slice from a DataFrame.\n",
      "Try using .loc[row_indexer,col_indexer] = value instead\n",
      "\n",
      "See the caveats in the documentation: https://pandas.pydata.org/pandas-docs/stable/user_guide/indexing.html#returning-a-view-versus-a-copy\n",
      "  df[\"Sender weight (kg)\"] = df[\"Sender weight (kg)\"]*volume\n",
      "\u001b[32m2023-08-11 16:24:54.662\u001b[0m | \u001b[1mINFO    \u001b[0m | \u001b[36msrc.co2_modells\u001b[0m:\u001b[36mpreprocessing_modelling\u001b[0m:\u001b[36m38\u001b[0m - \u001b[1m175.022\u001b[0m\n",
      "\u001b[32m2023-08-11 16:24:54.665\u001b[0m | \u001b[1mINFO    \u001b[0m | \u001b[36msrc.co2_modells\u001b[0m:\u001b[36mco2_modell\u001b[0m:\u001b[36m71\u001b[0m - \u001b[1m0.6082307692307692\u001b[0m\n"
     ]
    },
    {
     "name": "stdout",
     "output_type": "stream",
     "text": [
      "Total processing time: 4.734375\n",
      "(296, 7)\n"
     ]
    },
    {
     "name": "stderr",
     "output_type": "stream",
     "text": [
      "C:\\Users\\marle\\OneDrive - tbs-education\\00_Masterarbeit\\Code\\notebooks\\..\\src\\create_solution.py:74: FutureWarning: Dropping of nuisance columns in DataFrame reductions (with 'numeric_only=None') is deprecated; in a future version this will raise TypeError.  Select only valid columns before calling the reduction.\n",
      "  distances['Dmin'] = distances.min(axis=1)\n"
     ]
    },
    {
     "name": "stdout",
     "output_type": "stream",
     "text": [
      "(44, 12)\n",
      "(98, 16)\n"
     ]
    },
    {
     "name": "stderr",
     "output_type": "stream",
     "text": [
      "C:\\Users\\marle\\AppData\\Local\\Temp\\ipykernel_26916\\2800501181.py:16: FutureWarning: The frame.append method is deprecated and will be removed from pandas in a future version. Use pandas.concat instead.\n",
      "  df_results = df_results.append(dict_results, ignore_index=True)\n",
      "C:\\Users\\marle\\OneDrive - tbs-education\\00_Masterarbeit\\Code\\notebooks\\..\\src\\co2_modells.py:29: SettingWithCopyWarning: \n",
      "A value is trying to be set on a copy of a slice from a DataFrame.\n",
      "Try using .loc[row_indexer,col_indexer] = value instead\n",
      "\n",
      "See the caveats in the documentation: https://pandas.pydata.org/pandas-docs/stable/user_guide/indexing.html#returning-a-view-versus-a-copy\n",
      "  df[\"Sender weight (kg)\"] = df[\"Sender weight (kg)\"]*volume\n",
      "\u001b[32m2023-08-11 16:25:04.979\u001b[0m | \u001b[1mINFO    \u001b[0m | \u001b[36msrc.co2_modells\u001b[0m:\u001b[36mpreprocessing_modelling\u001b[0m:\u001b[36m38\u001b[0m - \u001b[1m159.708\u001b[0m\n",
      "\u001b[32m2023-08-11 16:25:04.996\u001b[0m | \u001b[1mINFO    \u001b[0m | \u001b[36msrc.co2_modells\u001b[0m:\u001b[36mco2_modell\u001b[0m:\u001b[36m71\u001b[0m - \u001b[1m0.639\u001b[0m\n"
     ]
    },
    {
     "name": "stdout",
     "output_type": "stream",
     "text": [
      "Total processing time: 4.671875\n",
      "(262, 7)\n"
     ]
    },
    {
     "name": "stderr",
     "output_type": "stream",
     "text": [
      "C:\\Users\\marle\\OneDrive - tbs-education\\00_Masterarbeit\\Code\\notebooks\\..\\src\\create_solution.py:74: FutureWarning: Dropping of nuisance columns in DataFrame reductions (with 'numeric_only=None') is deprecated; in a future version this will raise TypeError.  Select only valid columns before calling the reduction.\n",
      "  distances['Dmin'] = distances.min(axis=1)\n"
     ]
    },
    {
     "name": "stdout",
     "output_type": "stream",
     "text": [
      "(37, 12)\n",
      "(79, 16)\n"
     ]
    },
    {
     "name": "stderr",
     "output_type": "stream",
     "text": [
      "C:\\Users\\marle\\AppData\\Local\\Temp\\ipykernel_26916\\2800501181.py:16: FutureWarning: The frame.append method is deprecated and will be removed from pandas in a future version. Use pandas.concat instead.\n",
      "  df_results = df_results.append(dict_results, ignore_index=True)\n",
      "\u001b[32m2023-08-11 16:25:16.398\u001b[0m | \u001b[1mINFO    \u001b[0m | \u001b[36msrc.co2_modells\u001b[0m:\u001b[36mpreprocessing_modelling\u001b[0m:\u001b[36m38\u001b[0m - \u001b[1mnan\u001b[0m\n",
      "C:\\Users\\marle\\OneDrive - tbs-education\\00_Masterarbeit\\Code\\notebooks\\..\\src\\co2_modells.py:29: SettingWithCopyWarning: \n",
      "A value is trying to be set on a copy of a slice from a DataFrame.\n",
      "Try using .loc[row_indexer,col_indexer] = value instead\n",
      "\n",
      "See the caveats in the documentation: https://pandas.pydata.org/pandas-docs/stable/user_guide/indexing.html#returning-a-view-versus-a-copy\n",
      "  df[\"Sender weight (kg)\"] = df[\"Sender weight (kg)\"]*volume\n",
      "\u001b[32m2023-08-11 16:25:16.409\u001b[0m | \u001b[1mINFO    \u001b[0m | \u001b[36msrc.co2_modells\u001b[0m:\u001b[36mpreprocessing_modelling\u001b[0m:\u001b[36m38\u001b[0m - \u001b[1m864.26\u001b[0m\n",
      "\u001b[32m2023-08-11 16:25:16.425\u001b[0m | \u001b[1mINFO    \u001b[0m | \u001b[36msrc.co2_modells\u001b[0m:\u001b[36mco2_modell\u001b[0m:\u001b[36m71\u001b[0m - \u001b[1m2.8638461538461537\u001b[0m\n"
     ]
    },
    {
     "name": "stdout",
     "output_type": "stream",
     "text": [
      "Total processing time: 6.015625\n",
      "(0, 10)\n",
      "No deliveries from 2022-01-29 to 2022-01-30\n",
      "(285, 7)\n"
     ]
    },
    {
     "name": "stderr",
     "output_type": "stream",
     "text": [
      "C:\\Users\\marle\\OneDrive - tbs-education\\00_Masterarbeit\\Code\\notebooks\\..\\src\\create_solution.py:74: FutureWarning: Dropping of nuisance columns in DataFrame reductions (with 'numeric_only=None') is deprecated; in a future version this will raise TypeError.  Select only valid columns before calling the reduction.\n",
      "  distances['Dmin'] = distances.min(axis=1)\n"
     ]
    },
    {
     "name": "stdout",
     "output_type": "stream",
     "text": [
      "(54, 12)\n",
      "(100, 16)\n"
     ]
    },
    {
     "name": "stderr",
     "output_type": "stream",
     "text": [
      "C:\\Users\\marle\\AppData\\Local\\Temp\\ipykernel_26916\\2800501181.py:16: FutureWarning: The frame.append method is deprecated and will be removed from pandas in a future version. Use pandas.concat instead.\n",
      "  df_results = df_results.append(dict_results, ignore_index=True)\n",
      "C:\\Users\\marle\\OneDrive - tbs-education\\00_Masterarbeit\\Code\\notebooks\\..\\src\\co2_modells.py:29: SettingWithCopyWarning: \n",
      "A value is trying to be set on a copy of a slice from a DataFrame.\n",
      "Try using .loc[row_indexer,col_indexer] = value instead\n",
      "\n",
      "See the caveats in the documentation: https://pandas.pydata.org/pandas-docs/stable/user_guide/indexing.html#returning-a-view-versus-a-copy\n",
      "  df[\"Sender weight (kg)\"] = df[\"Sender weight (kg)\"]*volume\n",
      "\u001b[32m2023-08-11 16:25:27.760\u001b[0m | \u001b[1mINFO    \u001b[0m | \u001b[36msrc.co2_modells\u001b[0m:\u001b[36mpreprocessing_modelling\u001b[0m:\u001b[36m38\u001b[0m - \u001b[1m1137.58\u001b[0m\n",
      "\u001b[32m2023-08-11 16:25:27.776\u001b[0m | \u001b[1mINFO    \u001b[0m | \u001b[36msrc.co2_modells\u001b[0m:\u001b[36mco2_modell\u001b[0m:\u001b[36m71\u001b[0m - \u001b[1m3.2009230769230768\u001b[0m\n"
     ]
    },
    {
     "name": "stdout",
     "output_type": "stream",
     "text": [
      "Total processing time: 6.453125\n",
      "(288, 7)\n"
     ]
    },
    {
     "name": "stderr",
     "output_type": "stream",
     "text": [
      "C:\\Users\\marle\\OneDrive - tbs-education\\00_Masterarbeit\\Code\\notebooks\\..\\src\\create_solution.py:74: FutureWarning: Dropping of nuisance columns in DataFrame reductions (with 'numeric_only=None') is deprecated; in a future version this will raise TypeError.  Select only valid columns before calling the reduction.\n",
      "  distances['Dmin'] = distances.min(axis=1)\n"
     ]
    },
    {
     "name": "stdout",
     "output_type": "stream",
     "text": [
      "(47, 12)\n",
      "(93, 16)\n"
     ]
    },
    {
     "name": "stderr",
     "output_type": "stream",
     "text": [
      "C:\\Users\\marle\\AppData\\Local\\Temp\\ipykernel_26916\\2800501181.py:16: FutureWarning: The frame.append method is deprecated and will be removed from pandas in a future version. Use pandas.concat instead.\n",
      "  df_results = df_results.append(dict_results, ignore_index=True)\n",
      "C:\\Users\\marle\\OneDrive - tbs-education\\00_Masterarbeit\\Code\\notebooks\\..\\src\\co2_modells.py:29: SettingWithCopyWarning: \n",
      "A value is trying to be set on a copy of a slice from a DataFrame.\n",
      "Try using .loc[row_indexer,col_indexer] = value instead\n",
      "\n",
      "See the caveats in the documentation: https://pandas.pydata.org/pandas-docs/stable/user_guide/indexing.html#returning-a-view-versus-a-copy\n",
      "  df[\"Sender weight (kg)\"] = df[\"Sender weight (kg)\"]*volume\n",
      "\u001b[32m2023-08-11 16:25:38.145\u001b[0m | \u001b[1mINFO    \u001b[0m | \u001b[36msrc.co2_modells\u001b[0m:\u001b[36mpreprocessing_modelling\u001b[0m:\u001b[36m38\u001b[0m - \u001b[1m853.67\u001b[0m\n",
      "\u001b[32m2023-08-11 16:25:38.176\u001b[0m | \u001b[1mINFO    \u001b[0m | \u001b[36msrc.co2_modells\u001b[0m:\u001b[36mco2_modell\u001b[0m:\u001b[36m71\u001b[0m - \u001b[1m2.9452307692307693\u001b[0m\n"
     ]
    },
    {
     "name": "stdout",
     "output_type": "stream",
     "text": [
      "Total processing time: 6.046875\n",
      "(271, 7)\n"
     ]
    },
    {
     "name": "stderr",
     "output_type": "stream",
     "text": [
      "C:\\Users\\marle\\OneDrive - tbs-education\\00_Masterarbeit\\Code\\notebooks\\..\\src\\create_solution.py:74: FutureWarning: Dropping of nuisance columns in DataFrame reductions (with 'numeric_only=None') is deprecated; in a future version this will raise TypeError.  Select only valid columns before calling the reduction.\n",
      "  distances['Dmin'] = distances.min(axis=1)\n"
     ]
    },
    {
     "name": "stdout",
     "output_type": "stream",
     "text": [
      "(47, 12)\n",
      "(93, 16)\n"
     ]
    },
    {
     "name": "stderr",
     "output_type": "stream",
     "text": [
      "C:\\Users\\marle\\AppData\\Local\\Temp\\ipykernel_26916\\2800501181.py:16: FutureWarning: The frame.append method is deprecated and will be removed from pandas in a future version. Use pandas.concat instead.\n",
      "  df_results = df_results.append(dict_results, ignore_index=True)\n",
      "C:\\Users\\marle\\OneDrive - tbs-education\\00_Masterarbeit\\Code\\notebooks\\..\\src\\co2_modells.py:29: SettingWithCopyWarning: \n",
      "A value is trying to be set on a copy of a slice from a DataFrame.\n",
      "Try using .loc[row_indexer,col_indexer] = value instead\n",
      "\n",
      "See the caveats in the documentation: https://pandas.pydata.org/pandas-docs/stable/user_guide/indexing.html#returning-a-view-versus-a-copy\n",
      "  df[\"Sender weight (kg)\"] = df[\"Sender weight (kg)\"]*volume\n",
      "\u001b[32m2023-08-11 16:25:49.501\u001b[0m | \u001b[1mINFO    \u001b[0m | \u001b[36msrc.co2_modells\u001b[0m:\u001b[36mpreprocessing_modelling\u001b[0m:\u001b[36m38\u001b[0m - \u001b[1m875.11\u001b[0m\n",
      "\u001b[32m2023-08-11 16:25:49.517\u001b[0m | \u001b[1mINFO    \u001b[0m | \u001b[36msrc.co2_modells\u001b[0m:\u001b[36mco2_modell\u001b[0m:\u001b[36m71\u001b[0m - \u001b[1m3.0855384615384613\u001b[0m\n"
     ]
    },
    {
     "name": "stdout",
     "output_type": "stream",
     "text": [
      "Total processing time: 6.234375\n",
      "(296, 7)\n"
     ]
    },
    {
     "name": "stderr",
     "output_type": "stream",
     "text": [
      "C:\\Users\\marle\\OneDrive - tbs-education\\00_Masterarbeit\\Code\\notebooks\\..\\src\\create_solution.py:74: FutureWarning: Dropping of nuisance columns in DataFrame reductions (with 'numeric_only=None') is deprecated; in a future version this will raise TypeError.  Select only valid columns before calling the reduction.\n",
      "  distances['Dmin'] = distances.min(axis=1)\n"
     ]
    },
    {
     "name": "stdout",
     "output_type": "stream",
     "text": [
      "(44, 12)\n",
      "(98, 16)\n"
     ]
    },
    {
     "name": "stderr",
     "output_type": "stream",
     "text": [
      "C:\\Users\\marle\\AppData\\Local\\Temp\\ipykernel_26916\\2800501181.py:16: FutureWarning: The frame.append method is deprecated and will be removed from pandas in a future version. Use pandas.concat instead.\n",
      "  df_results = df_results.append(dict_results, ignore_index=True)\n",
      "C:\\Users\\marle\\OneDrive - tbs-education\\00_Masterarbeit\\Code\\notebooks\\..\\src\\co2_modells.py:29: SettingWithCopyWarning: \n",
      "A value is trying to be set on a copy of a slice from a DataFrame.\n",
      "Try using .loc[row_indexer,col_indexer] = value instead\n",
      "\n",
      "See the caveats in the documentation: https://pandas.pydata.org/pandas-docs/stable/user_guide/indexing.html#returning-a-view-versus-a-copy\n",
      "  df[\"Sender weight (kg)\"] = df[\"Sender weight (kg)\"]*volume\n",
      "\u001b[32m2023-08-11 16:25:59.824\u001b[0m | \u001b[1mINFO    \u001b[0m | \u001b[36msrc.co2_modells\u001b[0m:\u001b[36mpreprocessing_modelling\u001b[0m:\u001b[36m38\u001b[0m - \u001b[1m798.54\u001b[0m\n",
      "\u001b[32m2023-08-11 16:25:59.840\u001b[0m | \u001b[1mINFO    \u001b[0m | \u001b[36msrc.co2_modells\u001b[0m:\u001b[36mco2_modell\u001b[0m:\u001b[36m71\u001b[0m - \u001b[1m3.230923076923077\u001b[0m\n"
     ]
    },
    {
     "name": "stdout",
     "output_type": "stream",
     "text": [
      "Total processing time: 4.4375\n",
      "(262, 7)\n"
     ]
    },
    {
     "name": "stderr",
     "output_type": "stream",
     "text": [
      "C:\\Users\\marle\\OneDrive - tbs-education\\00_Masterarbeit\\Code\\notebooks\\..\\src\\create_solution.py:74: FutureWarning: Dropping of nuisance columns in DataFrame reductions (with 'numeric_only=None') is deprecated; in a future version this will raise TypeError.  Select only valid columns before calling the reduction.\n",
      "  distances['Dmin'] = distances.min(axis=1)\n"
     ]
    },
    {
     "name": "stdout",
     "output_type": "stream",
     "text": [
      "(37, 12)\n",
      "(79, 16)\n"
     ]
    },
    {
     "name": "stderr",
     "output_type": "stream",
     "text": [
      "C:\\Users\\marle\\AppData\\Local\\Temp\\ipykernel_26916\\2800501181.py:16: FutureWarning: The frame.append method is deprecated and will be removed from pandas in a future version. Use pandas.concat instead.\n",
      "  df_results = df_results.append(dict_results, ignore_index=True)\n",
      "\u001b[32m2023-08-11 16:26:11.198\u001b[0m | \u001b[1mINFO    \u001b[0m | \u001b[36msrc.co2_modells\u001b[0m:\u001b[36mpreprocessing_modelling\u001b[0m:\u001b[36m38\u001b[0m - \u001b[1mnan\u001b[0m\n",
      "C:\\Users\\marle\\OneDrive - tbs-education\\00_Masterarbeit\\Code\\notebooks\\..\\src\\co2_modells.py:29: SettingWithCopyWarning: \n",
      "A value is trying to be set on a copy of a slice from a DataFrame.\n",
      "Try using .loc[row_indexer,col_indexer] = value instead\n",
      "\n",
      "See the caveats in the documentation: https://pandas.pydata.org/pandas-docs/stable/user_guide/indexing.html#returning-a-view-versus-a-copy\n",
      "  df[\"Sender weight (kg)\"] = df[\"Sender weight (kg)\"]*volume\n",
      "\u001b[32m2023-08-11 16:26:11.198\u001b[0m | \u001b[1mINFO    \u001b[0m | \u001b[36msrc.co2_modells\u001b[0m:\u001b[36mpreprocessing_modelling\u001b[0m:\u001b[36m38\u001b[0m - \u001b[1m1728.52\u001b[0m\n",
      "\u001b[32m2023-08-11 16:26:11.214\u001b[0m | \u001b[1mINFO    \u001b[0m | \u001b[36msrc.co2_modells\u001b[0m:\u001b[36mco2_modell\u001b[0m:\u001b[36m71\u001b[0m - \u001b[1m5.738307692307692\u001b[0m\n"
     ]
    },
    {
     "name": "stdout",
     "output_type": "stream",
     "text": [
      "Total processing time: 5.90625\n",
      "(0, 10)\n",
      "No deliveries from 2022-01-29 to 2022-01-30\n",
      "(285, 7)\n"
     ]
    },
    {
     "name": "stderr",
     "output_type": "stream",
     "text": [
      "C:\\Users\\marle\\OneDrive - tbs-education\\00_Masterarbeit\\Code\\notebooks\\..\\src\\create_solution.py:74: FutureWarning: Dropping of nuisance columns in DataFrame reductions (with 'numeric_only=None') is deprecated; in a future version this will raise TypeError.  Select only valid columns before calling the reduction.\n",
      "  distances['Dmin'] = distances.min(axis=1)\n"
     ]
    },
    {
     "name": "stdout",
     "output_type": "stream",
     "text": [
      "(54, 12)\n",
      "(100, 16)\n"
     ]
    },
    {
     "name": "stderr",
     "output_type": "stream",
     "text": [
      "C:\\Users\\marle\\AppData\\Local\\Temp\\ipykernel_26916\\2800501181.py:16: FutureWarning: The frame.append method is deprecated and will be removed from pandas in a future version. Use pandas.concat instead.\n",
      "  df_results = df_results.append(dict_results, ignore_index=True)\n",
      "C:\\Users\\marle\\OneDrive - tbs-education\\00_Masterarbeit\\Code\\notebooks\\..\\src\\co2_modells.py:29: SettingWithCopyWarning: \n",
      "A value is trying to be set on a copy of a slice from a DataFrame.\n",
      "Try using .loc[row_indexer,col_indexer] = value instead\n",
      "\n",
      "See the caveats in the documentation: https://pandas.pydata.org/pandas-docs/stable/user_guide/indexing.html#returning-a-view-versus-a-copy\n",
      "  df[\"Sender weight (kg)\"] = df[\"Sender weight (kg)\"]*volume\n",
      "\u001b[32m2023-08-11 16:26:22.549\u001b[0m | \u001b[1mINFO    \u001b[0m | \u001b[36msrc.co2_modells\u001b[0m:\u001b[36mpreprocessing_modelling\u001b[0m:\u001b[36m38\u001b[0m - \u001b[1m2275.16\u001b[0m\n",
      "\u001b[32m2023-08-11 16:26:22.580\u001b[0m | \u001b[1mINFO    \u001b[0m | \u001b[36msrc.co2_modells\u001b[0m:\u001b[36mco2_modell\u001b[0m:\u001b[36m71\u001b[0m - \u001b[1m6.412307692307692\u001b[0m\n"
     ]
    },
    {
     "name": "stdout",
     "output_type": "stream",
     "text": [
      "Total processing time: 6.25\n",
      "(288, 7)\n"
     ]
    },
    {
     "name": "stderr",
     "output_type": "stream",
     "text": [
      "C:\\Users\\marle\\OneDrive - tbs-education\\00_Masterarbeit\\Code\\notebooks\\..\\src\\create_solution.py:74: FutureWarning: Dropping of nuisance columns in DataFrame reductions (with 'numeric_only=None') is deprecated; in a future version this will raise TypeError.  Select only valid columns before calling the reduction.\n",
      "  distances['Dmin'] = distances.min(axis=1)\n"
     ]
    },
    {
     "name": "stdout",
     "output_type": "stream",
     "text": [
      "(47, 12)\n",
      "(93, 16)\n"
     ]
    },
    {
     "name": "stderr",
     "output_type": "stream",
     "text": [
      "C:\\Users\\marle\\AppData\\Local\\Temp\\ipykernel_26916\\2800501181.py:16: FutureWarning: The frame.append method is deprecated and will be removed from pandas in a future version. Use pandas.concat instead.\n",
      "  df_results = df_results.append(dict_results, ignore_index=True)\n",
      "C:\\Users\\marle\\OneDrive - tbs-education\\00_Masterarbeit\\Code\\notebooks\\..\\src\\co2_modells.py:29: SettingWithCopyWarning: \n",
      "A value is trying to be set on a copy of a slice from a DataFrame.\n",
      "Try using .loc[row_indexer,col_indexer] = value instead\n",
      "\n",
      "See the caveats in the documentation: https://pandas.pydata.org/pandas-docs/stable/user_guide/indexing.html#returning-a-view-versus-a-copy\n",
      "  df[\"Sender weight (kg)\"] = df[\"Sender weight (kg)\"]*volume\n",
      "\u001b[32m2023-08-11 16:26:32.898\u001b[0m | \u001b[1mINFO    \u001b[0m | \u001b[36msrc.co2_modells\u001b[0m:\u001b[36mpreprocessing_modelling\u001b[0m:\u001b[36m38\u001b[0m - \u001b[1m1707.34\u001b[0m\n",
      "\u001b[32m2023-08-11 16:26:32.929\u001b[0m | \u001b[1mINFO    \u001b[0m | \u001b[36msrc.co2_modells\u001b[0m:\u001b[36mco2_modell\u001b[0m:\u001b[36m71\u001b[0m - \u001b[1m5.900461538461538\u001b[0m\n"
     ]
    },
    {
     "name": "stdout",
     "output_type": "stream",
     "text": [
      "Total processing time: 5.734375\n",
      "(271, 7)\n"
     ]
    },
    {
     "name": "stderr",
     "output_type": "stream",
     "text": [
      "C:\\Users\\marle\\OneDrive - tbs-education\\00_Masterarbeit\\Code\\notebooks\\..\\src\\create_solution.py:74: FutureWarning: Dropping of nuisance columns in DataFrame reductions (with 'numeric_only=None') is deprecated; in a future version this will raise TypeError.  Select only valid columns before calling the reduction.\n",
      "  distances['Dmin'] = distances.min(axis=1)\n"
     ]
    },
    {
     "name": "stdout",
     "output_type": "stream",
     "text": [
      "(47, 12)\n",
      "(93, 16)\n"
     ]
    },
    {
     "name": "stderr",
     "output_type": "stream",
     "text": [
      "C:\\Users\\marle\\AppData\\Local\\Temp\\ipykernel_26916\\2800501181.py:16: FutureWarning: The frame.append method is deprecated and will be removed from pandas in a future version. Use pandas.concat instead.\n",
      "  df_results = df_results.append(dict_results, ignore_index=True)\n",
      "C:\\Users\\marle\\OneDrive - tbs-education\\00_Masterarbeit\\Code\\notebooks\\..\\src\\co2_modells.py:29: SettingWithCopyWarning: \n",
      "A value is trying to be set on a copy of a slice from a DataFrame.\n",
      "Try using .loc[row_indexer,col_indexer] = value instead\n",
      "\n",
      "See the caveats in the documentation: https://pandas.pydata.org/pandas-docs/stable/user_guide/indexing.html#returning-a-view-versus-a-copy\n",
      "  df[\"Sender weight (kg)\"] = df[\"Sender weight (kg)\"]*volume\n",
      "\u001b[32m2023-08-11 16:26:44.271\u001b[0m | \u001b[1mINFO    \u001b[0m | \u001b[36msrc.co2_modells\u001b[0m:\u001b[36mpreprocessing_modelling\u001b[0m:\u001b[36m38\u001b[0m - \u001b[1m1750.22\u001b[0m\n",
      "\u001b[32m2023-08-11 16:26:44.287\u001b[0m | \u001b[1mINFO    \u001b[0m | \u001b[36msrc.co2_modells\u001b[0m:\u001b[36mco2_modell\u001b[0m:\u001b[36m71\u001b[0m - \u001b[1m6.181384615384616\u001b[0m\n"
     ]
    },
    {
     "name": "stdout",
     "output_type": "stream",
     "text": [
      "Total processing time: 8.09375\n",
      "(296, 7)\n"
     ]
    },
    {
     "name": "stderr",
     "output_type": "stream",
     "text": [
      "C:\\Users\\marle\\OneDrive - tbs-education\\00_Masterarbeit\\Code\\notebooks\\..\\src\\create_solution.py:74: FutureWarning: Dropping of nuisance columns in DataFrame reductions (with 'numeric_only=None') is deprecated; in a future version this will raise TypeError.  Select only valid columns before calling the reduction.\n",
      "  distances['Dmin'] = distances.min(axis=1)\n"
     ]
    },
    {
     "name": "stdout",
     "output_type": "stream",
     "text": [
      "(44, 12)\n",
      "(98, 16)\n"
     ]
    },
    {
     "name": "stderr",
     "output_type": "stream",
     "text": [
      "C:\\Users\\marle\\AppData\\Local\\Temp\\ipykernel_26916\\2800501181.py:16: FutureWarning: The frame.append method is deprecated and will be removed from pandas in a future version. Use pandas.concat instead.\n",
      "  df_results = df_results.append(dict_results, ignore_index=True)\n",
      "C:\\Users\\marle\\OneDrive - tbs-education\\00_Masterarbeit\\Code\\notebooks\\..\\src\\co2_modells.py:29: SettingWithCopyWarning: \n",
      "A value is trying to be set on a copy of a slice from a DataFrame.\n",
      "Try using .loc[row_indexer,col_indexer] = value instead\n",
      "\n",
      "See the caveats in the documentation: https://pandas.pydata.org/pandas-docs/stable/user_guide/indexing.html#returning-a-view-versus-a-copy\n",
      "  df[\"Sender weight (kg)\"] = df[\"Sender weight (kg)\"]*volume\n",
      "\u001b[32m2023-08-11 16:26:54.670\u001b[0m | \u001b[1mINFO    \u001b[0m | \u001b[36msrc.co2_modells\u001b[0m:\u001b[36mpreprocessing_modelling\u001b[0m:\u001b[36m38\u001b[0m - \u001b[1m1597.08\u001b[0m\n",
      "\u001b[32m2023-08-11 16:26:54.687\u001b[0m | \u001b[1mINFO    \u001b[0m | \u001b[36msrc.co2_modells\u001b[0m:\u001b[36mco2_modell\u001b[0m:\u001b[36m71\u001b[0m - \u001b[1m6.471307692307692\u001b[0m\n"
     ]
    },
    {
     "name": "stdout",
     "output_type": "stream",
     "text": [
      "Total processing time: 6.703125\n",
      "(262, 7)\n"
     ]
    },
    {
     "name": "stderr",
     "output_type": "stream",
     "text": [
      "C:\\Users\\marle\\OneDrive - tbs-education\\00_Masterarbeit\\Code\\notebooks\\..\\src\\create_solution.py:74: FutureWarning: Dropping of nuisance columns in DataFrame reductions (with 'numeric_only=None') is deprecated; in a future version this will raise TypeError.  Select only valid columns before calling the reduction.\n",
      "  distances['Dmin'] = distances.min(axis=1)\n"
     ]
    },
    {
     "name": "stdout",
     "output_type": "stream",
     "text": [
      "(37, 12)\n",
      "(79, 16)\n"
     ]
    },
    {
     "name": "stderr",
     "output_type": "stream",
     "text": [
      "C:\\Users\\marle\\AppData\\Local\\Temp\\ipykernel_26916\\2800501181.py:16: FutureWarning: The frame.append method is deprecated and will be removed from pandas in a future version. Use pandas.concat instead.\n",
      "  df_results = df_results.append(dict_results, ignore_index=True)\n",
      "\u001b[32m2023-08-11 16:27:06.059\u001b[0m | \u001b[1mINFO    \u001b[0m | \u001b[36msrc.co2_modells\u001b[0m:\u001b[36mpreprocessing_modelling\u001b[0m:\u001b[36m38\u001b[0m - \u001b[1mnan\u001b[0m\n"
     ]
    },
    {
     "name": "stdout",
     "output_type": "stream",
     "text": [
      "Total processing time: 6.859375\n",
      "(0, 10)\n",
      "No deliveries from 2022-01-29 to 2022-01-30\n"
     ]
    }
   ],
   "source": [
    "t = time.process_time()\n",
    "get_results_daily_per_week(df_dc1, week, truck_capacity = truck_capacity, mode = \"combined\", algorithm = \"base\")\n",
    "elapsed_time = time.process_time() - t"
   ]
  },
  {
   "cell_type": "code",
   "execution_count": 28,
   "id": "2601be34",
   "metadata": {
    "scrolled": true
   },
   "outputs": [
    {
     "name": "stderr",
     "output_type": "stream",
     "text": [
      "C:\\Users\\marle\\OneDrive - tbs-education\\00_Masterarbeit\\Code\\notebooks\\..\\src\\co2_modells.py:29: SettingWithCopyWarning: \n",
      "A value is trying to be set on a copy of a slice from a DataFrame.\n",
      "Try using .loc[row_indexer,col_indexer] = value instead\n",
      "\n",
      "See the caveats in the documentation: https://pandas.pydata.org/pandas-docs/stable/user_guide/indexing.html#returning-a-view-versus-a-copy\n",
      "  df[\"Sender weight (kg)\"] = df[\"Sender weight (kg)\"]*volume\n",
      "\u001b[32m2023-08-11 17:20:35.545\u001b[0m | \u001b[1mINFO    \u001b[0m | \u001b[36msrc.co2_modells\u001b[0m:\u001b[36mpreprocessing_modelling\u001b[0m:\u001b[36m38\u001b[0m - \u001b[1m172.852\u001b[0m\n",
      "\u001b[32m2023-08-11 17:20:35.576\u001b[0m | \u001b[1mINFO    \u001b[0m | \u001b[36msrc.co2_modells\u001b[0m:\u001b[36mco2_modell\u001b[0m:\u001b[36m71\u001b[0m - \u001b[1m0.5638461538461539\u001b[0m\n"
     ]
    },
    {
     "name": "stdout",
     "output_type": "stream",
     "text": [
      "(285, 7)\n"
     ]
    },
    {
     "name": "stderr",
     "output_type": "stream",
     "text": [
      "C:\\Users\\marle\\OneDrive - tbs-education\\00_Masterarbeit\\Code\\notebooks\\..\\src\\create_solution.py:74: FutureWarning: Dropping of nuisance columns in DataFrame reductions (with 'numeric_only=None') is deprecated; in a future version this will raise TypeError.  Select only valid columns before calling the reduction.\n",
      "  distances['Dmin'] = distances.min(axis=1)\n"
     ]
    },
    {
     "name": "stdout",
     "output_type": "stream",
     "text": [
      "(54, 12)\n",
      "(100, 16)\n"
     ]
    },
    {
     "name": "stderr",
     "output_type": "stream",
     "text": [
      "\u001b[32m2023-08-11 17:20:49.082\u001b[0m | \u001b[1mINFO    \u001b[0m | \u001b[36msrc.evaluation_railroad\u001b[0m:\u001b[36mevaluate_solution_drop\u001b[0m:\u001b[36m406\u001b[0m - \u001b[1mDropping T1\u001b[0m\n",
      "\u001b[32m2023-08-11 17:20:50.110\u001b[0m | \u001b[1mINFO    \u001b[0m | \u001b[36msrc.evaluation_railroad\u001b[0m:\u001b[36mevaluate_solution_drop\u001b[0m:\u001b[36m406\u001b[0m - \u001b[1mDropping T2\u001b[0m\n",
      "\u001b[32m2023-08-11 17:20:51.134\u001b[0m | \u001b[1mINFO    \u001b[0m | \u001b[36msrc.evaluation_railroad\u001b[0m:\u001b[36mevaluate_solution_drop\u001b[0m:\u001b[36m406\u001b[0m - \u001b[1mDropping T3\u001b[0m\n",
      "\u001b[32m2023-08-11 17:20:54.254\u001b[0m | \u001b[1mINFO    \u001b[0m | \u001b[36msrc.evaluation_railroad\u001b[0m:\u001b[36mevaluate_solution_drop\u001b[0m:\u001b[36m406\u001b[0m - \u001b[1mDropping T7\u001b[0m\n",
      "\u001b[32m2023-08-11 17:20:55.292\u001b[0m | \u001b[1mINFO    \u001b[0m | \u001b[36msrc.evaluation_railroad\u001b[0m:\u001b[36mevaluate_solution_drop\u001b[0m:\u001b[36m406\u001b[0m - \u001b[1mDropping T8\u001b[0m\n",
      "\u001b[32m2023-08-11 17:20:56.440\u001b[0m | \u001b[1mINFO    \u001b[0m | \u001b[36msrc.evaluation_railroad\u001b[0m:\u001b[36mevaluate_solution_drop\u001b[0m:\u001b[36m406\u001b[0m - \u001b[1mDropping T9\u001b[0m\n",
      "C:\\Users\\marle\\AppData\\Local\\Temp\\ipykernel_26916\\3744669391.py:16: FutureWarning: The frame.append method is deprecated and will be removed from pandas in a future version. Use pandas.concat instead.\n",
      "  df_results = df_results.append(dict_results, ignore_index=True)\n",
      "C:\\Users\\marle\\OneDrive - tbs-education\\00_Masterarbeit\\Code\\notebooks\\..\\src\\co2_modells.py:29: SettingWithCopyWarning: \n",
      "A value is trying to be set on a copy of a slice from a DataFrame.\n",
      "Try using .loc[row_indexer,col_indexer] = value instead\n",
      "\n",
      "See the caveats in the documentation: https://pandas.pydata.org/pandas-docs/stable/user_guide/indexing.html#returning-a-view-versus-a-copy\n",
      "  df[\"Sender weight (kg)\"] = df[\"Sender weight (kg)\"]*volume\n",
      "\u001b[32m2023-08-11 17:21:01.639\u001b[0m | \u001b[1mINFO    \u001b[0m | \u001b[36msrc.co2_modells\u001b[0m:\u001b[36mpreprocessing_modelling\u001b[0m:\u001b[36m38\u001b[0m - \u001b[1m227.516\u001b[0m\n",
      "\u001b[32m2023-08-11 17:21:01.655\u001b[0m | \u001b[1mINFO    \u001b[0m | \u001b[36msrc.co2_modells\u001b[0m:\u001b[36mco2_modell\u001b[0m:\u001b[36m71\u001b[0m - \u001b[1m0.6317692307692307\u001b[0m\n"
     ]
    },
    {
     "name": "stdout",
     "output_type": "stream",
     "text": [
      "Total processing time: 25.484375\n",
      "(288, 7)\n"
     ]
    },
    {
     "name": "stderr",
     "output_type": "stream",
     "text": [
      "C:\\Users\\marle\\OneDrive - tbs-education\\00_Masterarbeit\\Code\\notebooks\\..\\src\\create_solution.py:74: FutureWarning: Dropping of nuisance columns in DataFrame reductions (with 'numeric_only=None') is deprecated; in a future version this will raise TypeError.  Select only valid columns before calling the reduction.\n",
      "  distances['Dmin'] = distances.min(axis=1)\n"
     ]
    },
    {
     "name": "stdout",
     "output_type": "stream",
     "text": [
      "(47, 12)\n",
      "(93, 16)\n"
     ]
    },
    {
     "name": "stderr",
     "output_type": "stream",
     "text": [
      "\u001b[32m2023-08-11 17:21:15.354\u001b[0m | \u001b[1mINFO    \u001b[0m | \u001b[36msrc.evaluation_railroad\u001b[0m:\u001b[36mevaluate_solution_drop\u001b[0m:\u001b[36m406\u001b[0m - \u001b[1mDropping T2\u001b[0m\n",
      "\u001b[32m2023-08-11 17:21:16.381\u001b[0m | \u001b[1mINFO    \u001b[0m | \u001b[36msrc.evaluation_railroad\u001b[0m:\u001b[36mevaluate_solution_drop\u001b[0m:\u001b[36m406\u001b[0m - \u001b[1mDropping T3\u001b[0m\n",
      "\u001b[32m2023-08-11 17:21:17.414\u001b[0m | \u001b[1mINFO    \u001b[0m | \u001b[36msrc.evaluation_railroad\u001b[0m:\u001b[36mevaluate_solution_drop\u001b[0m:\u001b[36m406\u001b[0m - \u001b[1mDropping T5\u001b[0m\n",
      "\u001b[32m2023-08-11 17:21:25.799\u001b[0m | \u001b[1mINFO    \u001b[0m | \u001b[36msrc.evaluation_railroad\u001b[0m:\u001b[36mevaluate_solution_drop\u001b[0m:\u001b[36m406\u001b[0m - \u001b[1mDropping T7\u001b[0m\n",
      "\u001b[32m2023-08-11 17:21:26.820\u001b[0m | \u001b[1mINFO    \u001b[0m | \u001b[36msrc.evaluation_railroad\u001b[0m:\u001b[36mevaluate_solution_drop\u001b[0m:\u001b[36m406\u001b[0m - \u001b[1mDropping T9\u001b[0m\n",
      "\u001b[32m2023-08-11 17:21:27.942\u001b[0m | \u001b[1mINFO    \u001b[0m | \u001b[36msrc.evaluation_railroad\u001b[0m:\u001b[36mevaluate_solution_drop\u001b[0m:\u001b[36m406\u001b[0m - \u001b[1mDropping T10\u001b[0m\n",
      "C:\\Users\\marle\\AppData\\Local\\Temp\\ipykernel_26916\\3744669391.py:16: FutureWarning: The frame.append method is deprecated and will be removed from pandas in a future version. Use pandas.concat instead.\n",
      "  df_results = df_results.append(dict_results, ignore_index=True)\n",
      "C:\\Users\\marle\\OneDrive - tbs-education\\00_Masterarbeit\\Code\\notebooks\\..\\src\\co2_modells.py:29: SettingWithCopyWarning: \n",
      "A value is trying to be set on a copy of a slice from a DataFrame.\n",
      "Try using .loc[row_indexer,col_indexer] = value instead\n",
      "\n",
      "See the caveats in the documentation: https://pandas.pydata.org/pandas-docs/stable/user_guide/indexing.html#returning-a-view-versus-a-copy\n",
      "  df[\"Sender weight (kg)\"] = df[\"Sender weight (kg)\"]*volume\n",
      "\u001b[32m2023-08-11 17:21:31.170\u001b[0m | \u001b[1mINFO    \u001b[0m | \u001b[36msrc.co2_modells\u001b[0m:\u001b[36mpreprocessing_modelling\u001b[0m:\u001b[36m38\u001b[0m - \u001b[1m170.73399999999998\u001b[0m\n",
      "\u001b[32m2023-08-11 17:21:31.194\u001b[0m | \u001b[1mINFO    \u001b[0m | \u001b[36msrc.co2_modells\u001b[0m:\u001b[36mco2_modell\u001b[0m:\u001b[36m71\u001b[0m - \u001b[1m0.5814615384615385\u001b[0m\n"
     ]
    },
    {
     "name": "stdout",
     "output_type": "stream",
     "text": [
      "Total processing time: 28.796875\n",
      "(271, 7)\n"
     ]
    },
    {
     "name": "stderr",
     "output_type": "stream",
     "text": [
      "C:\\Users\\marle\\OneDrive - tbs-education\\00_Masterarbeit\\Code\\notebooks\\..\\src\\create_solution.py:74: FutureWarning: Dropping of nuisance columns in DataFrame reductions (with 'numeric_only=None') is deprecated; in a future version this will raise TypeError.  Select only valid columns before calling the reduction.\n",
      "  distances['Dmin'] = distances.min(axis=1)\n"
     ]
    },
    {
     "name": "stdout",
     "output_type": "stream",
     "text": [
      "(47, 12)\n",
      "(93, 16)\n"
     ]
    },
    {
     "name": "stderr",
     "output_type": "stream",
     "text": [
      "\u001b[32m2023-08-11 17:21:45.713\u001b[0m | \u001b[1mINFO    \u001b[0m | \u001b[36msrc.evaluation_railroad\u001b[0m:\u001b[36mevaluate_solution_drop\u001b[0m:\u001b[36m406\u001b[0m - \u001b[1mDropping T2\u001b[0m\n",
      "\u001b[32m2023-08-11 17:21:46.739\u001b[0m | \u001b[1mINFO    \u001b[0m | \u001b[36msrc.evaluation_railroad\u001b[0m:\u001b[36mevaluate_solution_drop\u001b[0m:\u001b[36m406\u001b[0m - \u001b[1mDropping T3\u001b[0m\n",
      "\u001b[32m2023-08-11 17:21:47.764\u001b[0m | \u001b[1mINFO    \u001b[0m | \u001b[36msrc.evaluation_railroad\u001b[0m:\u001b[36mevaluate_solution_drop\u001b[0m:\u001b[36m406\u001b[0m - \u001b[1mDropping T5\u001b[0m\n",
      "\u001b[32m2023-08-11 17:21:48.795\u001b[0m | \u001b[1mINFO    \u001b[0m | \u001b[36msrc.evaluation_railroad\u001b[0m:\u001b[36mevaluate_solution_drop\u001b[0m:\u001b[36m406\u001b[0m - \u001b[1mDropping T6\u001b[0m\n",
      "\u001b[32m2023-08-11 17:21:49.812\u001b[0m | \u001b[1mINFO    \u001b[0m | \u001b[36msrc.evaluation_railroad\u001b[0m:\u001b[36mevaluate_solution_drop\u001b[0m:\u001b[36m406\u001b[0m - \u001b[1mDropping T7\u001b[0m\n",
      "\u001b[32m2023-08-11 17:21:50.865\u001b[0m | \u001b[1mINFO    \u001b[0m | \u001b[36msrc.evaluation_railroad\u001b[0m:\u001b[36mevaluate_solution_drop\u001b[0m:\u001b[36m406\u001b[0m - \u001b[1mDropping T8\u001b[0m\n",
      "C:\\Users\\marle\\AppData\\Local\\Temp\\ipykernel_26916\\3744669391.py:16: FutureWarning: The frame.append method is deprecated and will be removed from pandas in a future version. Use pandas.concat instead.\n",
      "  df_results = df_results.append(dict_results, ignore_index=True)\n",
      "C:\\Users\\marle\\OneDrive - tbs-education\\00_Masterarbeit\\Code\\notebooks\\..\\src\\co2_modells.py:29: SettingWithCopyWarning: \n",
      "A value is trying to be set on a copy of a slice from a DataFrame.\n",
      "Try using .loc[row_indexer,col_indexer] = value instead\n",
      "\n",
      "See the caveats in the documentation: https://pandas.pydata.org/pandas-docs/stable/user_guide/indexing.html#returning-a-view-versus-a-copy\n",
      "  df[\"Sender weight (kg)\"] = df[\"Sender weight (kg)\"]*volume\n",
      "\u001b[32m2023-08-11 17:21:57.077\u001b[0m | \u001b[1mINFO    \u001b[0m | \u001b[36msrc.co2_modells\u001b[0m:\u001b[36mpreprocessing_modelling\u001b[0m:\u001b[36m38\u001b[0m - \u001b[1m175.022\u001b[0m\n",
      "\u001b[32m2023-08-11 17:21:57.097\u001b[0m | \u001b[1mINFO    \u001b[0m | \u001b[36msrc.co2_modells\u001b[0m:\u001b[36mco2_modell\u001b[0m:\u001b[36m71\u001b[0m - \u001b[1m0.6082307692307692\u001b[0m\n"
     ]
    },
    {
     "name": "stdout",
     "output_type": "stream",
     "text": [
      "Total processing time: 25.203125\n",
      "(296, 7)\n"
     ]
    },
    {
     "name": "stderr",
     "output_type": "stream",
     "text": [
      "C:\\Users\\marle\\OneDrive - tbs-education\\00_Masterarbeit\\Code\\notebooks\\..\\src\\create_solution.py:74: FutureWarning: Dropping of nuisance columns in DataFrame reductions (with 'numeric_only=None') is deprecated; in a future version this will raise TypeError.  Select only valid columns before calling the reduction.\n",
      "  distances['Dmin'] = distances.min(axis=1)\n"
     ]
    },
    {
     "name": "stdout",
     "output_type": "stream",
     "text": [
      "(44, 12)\n",
      "(98, 16)\n"
     ]
    },
    {
     "name": "stderr",
     "output_type": "stream",
     "text": [
      "\u001b[32m2023-08-11 17:22:09.505\u001b[0m | \u001b[1mINFO    \u001b[0m | \u001b[36msrc.evaluation_railroad\u001b[0m:\u001b[36mevaluate_solution_drop\u001b[0m:\u001b[36m406\u001b[0m - \u001b[1mDropping T1\u001b[0m\n",
      "\u001b[32m2023-08-11 17:22:11.589\u001b[0m | \u001b[1mINFO    \u001b[0m | \u001b[36msrc.evaluation_railroad\u001b[0m:\u001b[36mevaluate_solution_drop\u001b[0m:\u001b[36m406\u001b[0m - \u001b[1mDropping T5\u001b[0m\n",
      "\u001b[32m2023-08-11 17:22:12.697\u001b[0m | \u001b[1mINFO    \u001b[0m | \u001b[36msrc.evaluation_railroad\u001b[0m:\u001b[36mevaluate_solution_drop\u001b[0m:\u001b[36m406\u001b[0m - \u001b[1mDropping T6\u001b[0m\n",
      "\u001b[32m2023-08-11 17:22:13.773\u001b[0m | \u001b[1mINFO    \u001b[0m | \u001b[36msrc.evaluation_railroad\u001b[0m:\u001b[36mevaluate_solution_drop\u001b[0m:\u001b[36m406\u001b[0m - \u001b[1mDropping T7\u001b[0m\n",
      "\u001b[32m2023-08-11 17:22:14.826\u001b[0m | \u001b[1mINFO    \u001b[0m | \u001b[36msrc.evaluation_railroad\u001b[0m:\u001b[36mevaluate_solution_drop\u001b[0m:\u001b[36m406\u001b[0m - \u001b[1mDropping T8\u001b[0m\n",
      "\u001b[32m2023-08-11 17:22:17.108\u001b[0m | \u001b[1mINFO    \u001b[0m | \u001b[36msrc.evaluation_railroad\u001b[0m:\u001b[36mevaluate_solution_drop\u001b[0m:\u001b[36m406\u001b[0m - \u001b[1mDropping T10\u001b[0m\n",
      "C:\\Users\\marle\\AppData\\Local\\Temp\\ipykernel_26916\\3744669391.py:16: FutureWarning: The frame.append method is deprecated and will be removed from pandas in a future version. Use pandas.concat instead.\n",
      "  df_results = df_results.append(dict_results, ignore_index=True)\n",
      "C:\\Users\\marle\\OneDrive - tbs-education\\00_Masterarbeit\\Code\\notebooks\\..\\src\\co2_modells.py:29: SettingWithCopyWarning: \n",
      "A value is trying to be set on a copy of a slice from a DataFrame.\n",
      "Try using .loc[row_indexer,col_indexer] = value instead\n",
      "\n",
      "See the caveats in the documentation: https://pandas.pydata.org/pandas-docs/stable/user_guide/indexing.html#returning-a-view-versus-a-copy\n",
      "  df[\"Sender weight (kg)\"] = df[\"Sender weight (kg)\"]*volume\n",
      "\u001b[32m2023-08-11 17:22:20.335\u001b[0m | \u001b[1mINFO    \u001b[0m | \u001b[36msrc.co2_modells\u001b[0m:\u001b[36mpreprocessing_modelling\u001b[0m:\u001b[36m38\u001b[0m - \u001b[1m159.708\u001b[0m\n",
      "\u001b[32m2023-08-11 17:22:20.350\u001b[0m | \u001b[1mINFO    \u001b[0m | \u001b[36msrc.co2_modells\u001b[0m:\u001b[36mco2_modell\u001b[0m:\u001b[36m71\u001b[0m - \u001b[1m0.639\u001b[0m\n"
     ]
    },
    {
     "name": "stdout",
     "output_type": "stream",
     "text": [
      "Total processing time: 21.625\n",
      "(262, 7)\n"
     ]
    },
    {
     "name": "stderr",
     "output_type": "stream",
     "text": [
      "C:\\Users\\marle\\OneDrive - tbs-education\\00_Masterarbeit\\Code\\notebooks\\..\\src\\create_solution.py:74: FutureWarning: Dropping of nuisance columns in DataFrame reductions (with 'numeric_only=None') is deprecated; in a future version this will raise TypeError.  Select only valid columns before calling the reduction.\n",
      "  distances['Dmin'] = distances.min(axis=1)\n"
     ]
    },
    {
     "name": "stdout",
     "output_type": "stream",
     "text": [
      "(37, 12)\n",
      "(79, 16)\n"
     ]
    },
    {
     "name": "stderr",
     "output_type": "stream",
     "text": [
      "\u001b[32m2023-08-11 17:22:34.913\u001b[0m | \u001b[1mINFO    \u001b[0m | \u001b[36msrc.evaluation_railroad\u001b[0m:\u001b[36mevaluate_solution_drop\u001b[0m:\u001b[36m406\u001b[0m - \u001b[1mDropping T2\u001b[0m\n",
      "\u001b[32m2023-08-11 17:22:37.034\u001b[0m | \u001b[1mINFO    \u001b[0m | \u001b[36msrc.evaluation_railroad\u001b[0m:\u001b[36mevaluate_solution_drop\u001b[0m:\u001b[36m406\u001b[0m - \u001b[1mDropping T5\u001b[0m\n",
      "\u001b[32m2023-08-11 17:22:39.090\u001b[0m | \u001b[1mINFO    \u001b[0m | \u001b[36msrc.evaluation_railroad\u001b[0m:\u001b[36mevaluate_solution_drop\u001b[0m:\u001b[36m406\u001b[0m - \u001b[1mDropping T7\u001b[0m\n",
      "\u001b[32m2023-08-11 17:22:40.111\u001b[0m | \u001b[1mINFO    \u001b[0m | \u001b[36msrc.evaluation_railroad\u001b[0m:\u001b[36mevaluate_solution_drop\u001b[0m:\u001b[36m406\u001b[0m - \u001b[1mDropping T8\u001b[0m\n",
      "\u001b[32m2023-08-11 17:22:41.132\u001b[0m | \u001b[1mINFO    \u001b[0m | \u001b[36msrc.evaluation_railroad\u001b[0m:\u001b[36mevaluate_solution_drop\u001b[0m:\u001b[36m406\u001b[0m - \u001b[1mDropping T9\u001b[0m\n",
      "\u001b[32m2023-08-11 17:22:42.168\u001b[0m | \u001b[1mINFO    \u001b[0m | \u001b[36msrc.evaluation_railroad\u001b[0m:\u001b[36mevaluate_solution_drop\u001b[0m:\u001b[36m406\u001b[0m - \u001b[1mDropping T10\u001b[0m\n",
      "\u001b[32m2023-08-11 17:22:45.263\u001b[0m | \u001b[1mINFO    \u001b[0m | \u001b[36msrc.evaluation_railroad\u001b[0m:\u001b[36mevaluate_solution_drop\u001b[0m:\u001b[36m406\u001b[0m - \u001b[1mDropping T3\u001b[0m\n",
      "C:\\Users\\marle\\AppData\\Local\\Temp\\ipykernel_26916\\3744669391.py:16: FutureWarning: The frame.append method is deprecated and will be removed from pandas in a future version. Use pandas.concat instead.\n",
      "  df_results = df_results.append(dict_results, ignore_index=True)\n",
      "\u001b[32m2023-08-11 17:22:49.584\u001b[0m | \u001b[1mINFO    \u001b[0m | \u001b[36msrc.co2_modells\u001b[0m:\u001b[36mpreprocessing_modelling\u001b[0m:\u001b[36m38\u001b[0m - \u001b[1mnan\u001b[0m\n",
      "C:\\Users\\marle\\OneDrive - tbs-education\\00_Masterarbeit\\Code\\notebooks\\..\\src\\co2_modells.py:29: SettingWithCopyWarning: \n",
      "A value is trying to be set on a copy of a slice from a DataFrame.\n",
      "Try using .loc[row_indexer,col_indexer] = value instead\n",
      "\n",
      "See the caveats in the documentation: https://pandas.pydata.org/pandas-docs/stable/user_guide/indexing.html#returning-a-view-versus-a-copy\n",
      "  df[\"Sender weight (kg)\"] = df[\"Sender weight (kg)\"]*volume\n",
      "\u001b[32m2023-08-11 17:22:49.599\u001b[0m | \u001b[1mINFO    \u001b[0m | \u001b[36msrc.co2_modells\u001b[0m:\u001b[36mpreprocessing_modelling\u001b[0m:\u001b[36m38\u001b[0m - \u001b[1m864.26\u001b[0m\n",
      "\u001b[32m2023-08-11 17:22:49.634\u001b[0m | \u001b[1mINFO    \u001b[0m | \u001b[36msrc.co2_modells\u001b[0m:\u001b[36mco2_modell\u001b[0m:\u001b[36m71\u001b[0m - \u001b[1m2.8638461538461537\u001b[0m\n"
     ]
    },
    {
     "name": "stdout",
     "output_type": "stream",
     "text": [
      "Total processing time: 28.515625\n",
      "(0, 10)\n",
      "No deliveries from 2022-01-29 to 2022-01-30\n",
      "(285, 7)\n"
     ]
    },
    {
     "name": "stderr",
     "output_type": "stream",
     "text": [
      "C:\\Users\\marle\\OneDrive - tbs-education\\00_Masterarbeit\\Code\\notebooks\\..\\src\\create_solution.py:74: FutureWarning: Dropping of nuisance columns in DataFrame reductions (with 'numeric_only=None') is deprecated; in a future version this will raise TypeError.  Select only valid columns before calling the reduction.\n",
      "  distances['Dmin'] = distances.min(axis=1)\n"
     ]
    },
    {
     "name": "stdout",
     "output_type": "stream",
     "text": [
      "(54, 12)\n",
      "(100, 16)\n"
     ]
    },
    {
     "name": "stderr",
     "output_type": "stream",
     "text": [
      "\u001b[32m2023-08-11 17:23:05.106\u001b[0m | \u001b[1mINFO    \u001b[0m | \u001b[36msrc.evaluation_railroad\u001b[0m:\u001b[36mevaluate_solution_drop\u001b[0m:\u001b[36m406\u001b[0m - \u001b[1mDropping T3\u001b[0m\n",
      "\u001b[32m2023-08-11 17:23:06.264\u001b[0m | \u001b[1mINFO    \u001b[0m | \u001b[36msrc.evaluation_railroad\u001b[0m:\u001b[36mevaluate_solution_drop\u001b[0m:\u001b[36m406\u001b[0m - \u001b[1mDropping T5\u001b[0m\n",
      "\u001b[32m2023-08-11 17:23:08.311\u001b[0m | \u001b[1mINFO    \u001b[0m | \u001b[36msrc.evaluation_railroad\u001b[0m:\u001b[36mevaluate_solution_drop\u001b[0m:\u001b[36m406\u001b[0m - \u001b[1mDropping T7\u001b[0m\n",
      "\u001b[32m2023-08-11 17:23:09.348\u001b[0m | \u001b[1mINFO    \u001b[0m | \u001b[36msrc.evaluation_railroad\u001b[0m:\u001b[36mevaluate_solution_drop\u001b[0m:\u001b[36m406\u001b[0m - \u001b[1mDropping T8\u001b[0m\n",
      "\u001b[32m2023-08-11 17:23:10.375\u001b[0m | \u001b[1mINFO    \u001b[0m | \u001b[36msrc.evaluation_railroad\u001b[0m:\u001b[36mevaluate_solution_drop\u001b[0m:\u001b[36m406\u001b[0m - \u001b[1mDropping T9\u001b[0m\n",
      "\u001b[32m2023-08-11 17:23:14.529\u001b[0m | \u001b[1mINFO    \u001b[0m | \u001b[36msrc.evaluation_railroad\u001b[0m:\u001b[36mevaluate_solution_drop\u001b[0m:\u001b[36m406\u001b[0m - \u001b[1mDropping T2\u001b[0m\n",
      "\u001b[32m2023-08-11 17:23:16.602\u001b[0m | \u001b[1mINFO    \u001b[0m | \u001b[36msrc.evaluation_railroad\u001b[0m:\u001b[36mevaluate_solution_drop\u001b[0m:\u001b[36m406\u001b[0m - \u001b[1mDropping T10\u001b[0m\n",
      "C:\\Users\\marle\\AppData\\Local\\Temp\\ipykernel_26916\\3744669391.py:16: FutureWarning: The frame.append method is deprecated and will be removed from pandas in a future version. Use pandas.concat instead.\n",
      "  df_results = df_results.append(dict_results, ignore_index=True)\n",
      "C:\\Users\\marle\\OneDrive - tbs-education\\00_Masterarbeit\\Code\\notebooks\\..\\src\\co2_modells.py:29: SettingWithCopyWarning: \n",
      "A value is trying to be set on a copy of a slice from a DataFrame.\n",
      "Try using .loc[row_indexer,col_indexer] = value instead\n",
      "\n",
      "See the caveats in the documentation: https://pandas.pydata.org/pandas-docs/stable/user_guide/indexing.html#returning-a-view-versus-a-copy\n",
      "  df[\"Sender weight (kg)\"] = df[\"Sender weight (kg)\"]*volume\n",
      "\u001b[32m2023-08-11 17:23:19.932\u001b[0m | \u001b[1mINFO    \u001b[0m | \u001b[36msrc.co2_modells\u001b[0m:\u001b[36mpreprocessing_modelling\u001b[0m:\u001b[36m38\u001b[0m - \u001b[1m1137.58\u001b[0m\n",
      "\u001b[32m2023-08-11 17:23:19.979\u001b[0m | \u001b[1mINFO    \u001b[0m | \u001b[36msrc.co2_modells\u001b[0m:\u001b[36mco2_modell\u001b[0m:\u001b[36m71\u001b[0m - \u001b[1m3.2009230769230768\u001b[0m\n"
     ]
    },
    {
     "name": "stdout",
     "output_type": "stream",
     "text": [
      "Total processing time: 29.578125\n",
      "(288, 7)\n"
     ]
    },
    {
     "name": "stderr",
     "output_type": "stream",
     "text": [
      "C:\\Users\\marle\\OneDrive - tbs-education\\00_Masterarbeit\\Code\\notebooks\\..\\src\\create_solution.py:74: FutureWarning: Dropping of nuisance columns in DataFrame reductions (with 'numeric_only=None') is deprecated; in a future version this will raise TypeError.  Select only valid columns before calling the reduction.\n",
      "  distances['Dmin'] = distances.min(axis=1)\n"
     ]
    },
    {
     "name": "stdout",
     "output_type": "stream",
     "text": [
      "(47, 12)\n",
      "(93, 16)\n"
     ]
    },
    {
     "name": "stderr",
     "output_type": "stream",
     "text": [
      "\u001b[32m2023-08-11 17:23:33.768\u001b[0m | \u001b[1mINFO    \u001b[0m | \u001b[36msrc.evaluation_railroad\u001b[0m:\u001b[36mevaluate_solution_drop\u001b[0m:\u001b[36m406\u001b[0m - \u001b[1mDropping T2\u001b[0m\n",
      "\u001b[32m2023-08-11 17:23:34.804\u001b[0m | \u001b[1mINFO    \u001b[0m | \u001b[36msrc.evaluation_railroad\u001b[0m:\u001b[36mevaluate_solution_drop\u001b[0m:\u001b[36m406\u001b[0m - \u001b[1mDropping T3\u001b[0m\n",
      "\u001b[32m2023-08-11 17:23:39.042\u001b[0m | \u001b[1mINFO    \u001b[0m | \u001b[36msrc.evaluation_railroad\u001b[0m:\u001b[36mevaluate_solution_drop\u001b[0m:\u001b[36m406\u001b[0m - \u001b[1mDropping T9\u001b[0m\n",
      "\u001b[32m2023-08-11 17:23:40.073\u001b[0m | \u001b[1mINFO    \u001b[0m | \u001b[36msrc.evaluation_railroad\u001b[0m:\u001b[36mevaluate_solution_drop\u001b[0m:\u001b[36m406\u001b[0m - \u001b[1mDropping T10\u001b[0m\n",
      "\u001b[32m2023-08-11 17:23:43.154\u001b[0m | \u001b[1mINFO    \u001b[0m | \u001b[36msrc.evaluation_railroad\u001b[0m:\u001b[36mevaluate_solution_drop\u001b[0m:\u001b[36m406\u001b[0m - \u001b[1mDropping T5\u001b[0m\n",
      "\u001b[32m2023-08-11 17:23:49.596\u001b[0m | \u001b[1mINFO    \u001b[0m | \u001b[36msrc.evaluation_railroad\u001b[0m:\u001b[36mevaluate_solution_drop\u001b[0m:\u001b[36m406\u001b[0m - \u001b[1mDropping T7\u001b[0m\n",
      "C:\\Users\\marle\\AppData\\Local\\Temp\\ipykernel_26916\\3744669391.py:16: FutureWarning: The frame.append method is deprecated and will be removed from pandas in a future version. Use pandas.concat instead.\n",
      "  df_results = df_results.append(dict_results, ignore_index=True)\n",
      "C:\\Users\\marle\\OneDrive - tbs-education\\00_Masterarbeit\\Code\\notebooks\\..\\src\\co2_modells.py:29: SettingWithCopyWarning: \n",
      "A value is trying to be set on a copy of a slice from a DataFrame.\n",
      "Try using .loc[row_indexer,col_indexer] = value instead\n",
      "\n",
      "See the caveats in the documentation: https://pandas.pydata.org/pandas-docs/stable/user_guide/indexing.html#returning-a-view-versus-a-copy\n",
      "  df[\"Sender weight (kg)\"] = df[\"Sender weight (kg)\"]*volume\n",
      "\u001b[32m2023-08-11 17:23:52.863\u001b[0m | \u001b[1mINFO    \u001b[0m | \u001b[36msrc.co2_modells\u001b[0m:\u001b[36mpreprocessing_modelling\u001b[0m:\u001b[36m38\u001b[0m - \u001b[1m853.67\u001b[0m\n",
      "\u001b[32m2023-08-11 17:23:52.879\u001b[0m | \u001b[1mINFO    \u001b[0m | \u001b[36msrc.co2_modells\u001b[0m:\u001b[36mco2_modell\u001b[0m:\u001b[36m71\u001b[0m - \u001b[1m2.9452307692307693\u001b[0m\n"
     ]
    },
    {
     "name": "stdout",
     "output_type": "stream",
     "text": [
      "Total processing time: 32.078125\n",
      "(271, 7)\n"
     ]
    },
    {
     "name": "stderr",
     "output_type": "stream",
     "text": [
      "C:\\Users\\marle\\OneDrive - tbs-education\\00_Masterarbeit\\Code\\notebooks\\..\\src\\create_solution.py:74: FutureWarning: Dropping of nuisance columns in DataFrame reductions (with 'numeric_only=None') is deprecated; in a future version this will raise TypeError.  Select only valid columns before calling the reduction.\n",
      "  distances['Dmin'] = distances.min(axis=1)\n"
     ]
    },
    {
     "name": "stdout",
     "output_type": "stream",
     "text": [
      "(47, 12)\n",
      "(93, 16)\n"
     ]
    },
    {
     "name": "stderr",
     "output_type": "stream",
     "text": [
      "\u001b[32m2023-08-11 17:24:07.549\u001b[0m | \u001b[1mINFO    \u001b[0m | \u001b[36msrc.evaluation_railroad\u001b[0m:\u001b[36mevaluate_solution_drop\u001b[0m:\u001b[36m406\u001b[0m - \u001b[1mDropping T2\u001b[0m\n",
      "\u001b[32m2023-08-11 17:24:08.647\u001b[0m | \u001b[1mINFO    \u001b[0m | \u001b[36msrc.evaluation_railroad\u001b[0m:\u001b[36mevaluate_solution_drop\u001b[0m:\u001b[36m406\u001b[0m - \u001b[1mDropping T3\u001b[0m\n",
      "\u001b[32m2023-08-11 17:24:11.753\u001b[0m | \u001b[1mINFO    \u001b[0m | \u001b[36msrc.evaluation_railroad\u001b[0m:\u001b[36mevaluate_solution_drop\u001b[0m:\u001b[36m406\u001b[0m - \u001b[1mDropping T7\u001b[0m\n",
      "\u001b[32m2023-08-11 17:24:12.794\u001b[0m | \u001b[1mINFO    \u001b[0m | \u001b[36msrc.evaluation_railroad\u001b[0m:\u001b[36mevaluate_solution_drop\u001b[0m:\u001b[36m406\u001b[0m - \u001b[1mDropping T8\u001b[0m\n",
      "\u001b[32m2023-08-11 17:24:13.828\u001b[0m | \u001b[1mINFO    \u001b[0m | \u001b[36msrc.evaluation_railroad\u001b[0m:\u001b[36mevaluate_solution_drop\u001b[0m:\u001b[36m406\u001b[0m - \u001b[1mDropping T9\u001b[0m\n",
      "\u001b[32m2023-08-11 17:24:14.852\u001b[0m | \u001b[1mINFO    \u001b[0m | \u001b[36msrc.evaluation_railroad\u001b[0m:\u001b[36mevaluate_solution_drop\u001b[0m:\u001b[36m406\u001b[0m - \u001b[1mDropping T10\u001b[0m\n",
      "C:\\Users\\marle\\AppData\\Local\\Temp\\ipykernel_26916\\3744669391.py:16: FutureWarning: The frame.append method is deprecated and will be removed from pandas in a future version. Use pandas.concat instead.\n",
      "  df_results = df_results.append(dict_results, ignore_index=True)\n",
      "C:\\Users\\marle\\OneDrive - tbs-education\\00_Masterarbeit\\Code\\notebooks\\..\\src\\co2_modells.py:29: SettingWithCopyWarning: \n",
      "A value is trying to be set on a copy of a slice from a DataFrame.\n",
      "Try using .loc[row_indexer,col_indexer] = value instead\n",
      "\n",
      "See the caveats in the documentation: https://pandas.pydata.org/pandas-docs/stable/user_guide/indexing.html#returning-a-view-versus-a-copy\n",
      "  df[\"Sender weight (kg)\"] = df[\"Sender weight (kg)\"]*volume\n",
      "\u001b[32m2023-08-11 17:24:19.138\u001b[0m | \u001b[1mINFO    \u001b[0m | \u001b[36msrc.co2_modells\u001b[0m:\u001b[36mpreprocessing_modelling\u001b[0m:\u001b[36m38\u001b[0m - \u001b[1m875.11\u001b[0m\n",
      "\u001b[32m2023-08-11 17:24:19.233\u001b[0m | \u001b[1mINFO    \u001b[0m | \u001b[36msrc.co2_modells\u001b[0m:\u001b[36mco2_modell\u001b[0m:\u001b[36m71\u001b[0m - \u001b[1m3.0855384615384613\u001b[0m\n"
     ]
    },
    {
     "name": "stdout",
     "output_type": "stream",
     "text": [
      "Total processing time: 25.625\n",
      "(296, 7)\n"
     ]
    },
    {
     "name": "stderr",
     "output_type": "stream",
     "text": [
      "C:\\Users\\marle\\OneDrive - tbs-education\\00_Masterarbeit\\Code\\notebooks\\..\\src\\create_solution.py:74: FutureWarning: Dropping of nuisance columns in DataFrame reductions (with 'numeric_only=None') is deprecated; in a future version this will raise TypeError.  Select only valid columns before calling the reduction.\n",
      "  distances['Dmin'] = distances.min(axis=1)\n"
     ]
    },
    {
     "name": "stdout",
     "output_type": "stream",
     "text": [
      "(44, 12)\n",
      "(98, 16)\n"
     ]
    },
    {
     "name": "stderr",
     "output_type": "stream",
     "text": [
      "\u001b[32m2023-08-11 17:24:32.882\u001b[0m | \u001b[1mINFO    \u001b[0m | \u001b[36msrc.evaluation_railroad\u001b[0m:\u001b[36mevaluate_solution_drop\u001b[0m:\u001b[36m406\u001b[0m - \u001b[1mDropping T2\u001b[0m\n",
      "\u001b[32m2023-08-11 17:24:35.987\u001b[0m | \u001b[1mINFO    \u001b[0m | \u001b[36msrc.evaluation_railroad\u001b[0m:\u001b[36mevaluate_solution_drop\u001b[0m:\u001b[36m406\u001b[0m - \u001b[1mDropping T7\u001b[0m\n",
      "\u001b[32m2023-08-11 17:24:44.562\u001b[0m | \u001b[1mINFO    \u001b[0m | \u001b[36msrc.evaluation_railroad\u001b[0m:\u001b[36mevaluate_solution_drop\u001b[0m:\u001b[36m406\u001b[0m - \u001b[1mDropping T8\u001b[0m\n",
      "\u001b[32m2023-08-11 17:24:46.681\u001b[0m | \u001b[1mINFO    \u001b[0m | \u001b[36msrc.evaluation_railroad\u001b[0m:\u001b[36mevaluate_solution_drop\u001b[0m:\u001b[36m406\u001b[0m - \u001b[1mDropping T10\u001b[0m\n",
      "\u001b[32m2023-08-11 17:24:51.828\u001b[0m | \u001b[1mINFO    \u001b[0m | \u001b[36msrc.evaluation_railroad\u001b[0m:\u001b[36mevaluate_solution_drop\u001b[0m:\u001b[36m406\u001b[0m - \u001b[1mDropping T9\u001b[0m\n",
      "C:\\Users\\marle\\AppData\\Local\\Temp\\ipykernel_26916\\3744669391.py:16: FutureWarning: The frame.append method is deprecated and will be removed from pandas in a future version. Use pandas.concat instead.\n",
      "  df_results = df_results.append(dict_results, ignore_index=True)\n",
      "C:\\Users\\marle\\OneDrive - tbs-education\\00_Masterarbeit\\Code\\notebooks\\..\\src\\co2_modells.py:29: SettingWithCopyWarning: \n",
      "A value is trying to be set on a copy of a slice from a DataFrame.\n",
      "Try using .loc[row_indexer,col_indexer] = value instead\n",
      "\n",
      "See the caveats in the documentation: https://pandas.pydata.org/pandas-docs/stable/user_guide/indexing.html#returning-a-view-versus-a-copy\n",
      "  df[\"Sender weight (kg)\"] = df[\"Sender weight (kg)\"]*volume\n",
      "\u001b[32m2023-08-11 17:24:55.988\u001b[0m | \u001b[1mINFO    \u001b[0m | \u001b[36msrc.co2_modells\u001b[0m:\u001b[36mpreprocessing_modelling\u001b[0m:\u001b[36m38\u001b[0m - \u001b[1m798.54\u001b[0m\n",
      "\u001b[32m2023-08-11 17:24:56.051\u001b[0m | \u001b[1mINFO    \u001b[0m | \u001b[36msrc.co2_modells\u001b[0m:\u001b[36mco2_modell\u001b[0m:\u001b[36m71\u001b[0m - \u001b[1m3.230923076923077\u001b[0m\n"
     ]
    },
    {
     "name": "stdout",
     "output_type": "stream",
     "text": [
      "Total processing time: 35.765625\n",
      "(262, 7)\n"
     ]
    },
    {
     "name": "stderr",
     "output_type": "stream",
     "text": [
      "C:\\Users\\marle\\OneDrive - tbs-education\\00_Masterarbeit\\Code\\notebooks\\..\\src\\create_solution.py:74: FutureWarning: Dropping of nuisance columns in DataFrame reductions (with 'numeric_only=None') is deprecated; in a future version this will raise TypeError.  Select only valid columns before calling the reduction.\n",
      "  distances['Dmin'] = distances.min(axis=1)\n"
     ]
    },
    {
     "name": "stdout",
     "output_type": "stream",
     "text": [
      "(37, 12)\n",
      "(79, 16)\n"
     ]
    },
    {
     "name": "stderr",
     "output_type": "stream",
     "text": [
      "\u001b[32m2023-08-11 17:25:10.650\u001b[0m | \u001b[1mINFO    \u001b[0m | \u001b[36msrc.evaluation_railroad\u001b[0m:\u001b[36mevaluate_solution_drop\u001b[0m:\u001b[36m406\u001b[0m - \u001b[1mDropping T2\u001b[0m\n",
      "\u001b[32m2023-08-11 17:25:11.671\u001b[0m | \u001b[1mINFO    \u001b[0m | \u001b[36msrc.evaluation_railroad\u001b[0m:\u001b[36mevaluate_solution_drop\u001b[0m:\u001b[36m406\u001b[0m - \u001b[1mDropping T3\u001b[0m\n",
      "\u001b[32m2023-08-11 17:25:14.932\u001b[0m | \u001b[1mINFO    \u001b[0m | \u001b[36msrc.evaluation_railroad\u001b[0m:\u001b[36mevaluate_solution_drop\u001b[0m:\u001b[36m406\u001b[0m - \u001b[1mDropping T7\u001b[0m\n",
      "\u001b[32m2023-08-11 17:25:16.040\u001b[0m | \u001b[1mINFO    \u001b[0m | \u001b[36msrc.evaluation_railroad\u001b[0m:\u001b[36mevaluate_solution_drop\u001b[0m:\u001b[36m406\u001b[0m - \u001b[1mDropping T8\u001b[0m\n",
      "\u001b[32m2023-08-11 17:25:18.206\u001b[0m | \u001b[1mINFO    \u001b[0m | \u001b[36msrc.evaluation_railroad\u001b[0m:\u001b[36mevaluate_solution_drop\u001b[0m:\u001b[36m406\u001b[0m - \u001b[1mDropping T10\u001b[0m\n",
      "\u001b[32m2023-08-11 17:25:20.372\u001b[0m | \u001b[1mINFO    \u001b[0m | \u001b[36msrc.evaluation_railroad\u001b[0m:\u001b[36mevaluate_solution_drop\u001b[0m:\u001b[36m406\u001b[0m - \u001b[1mDropping T1\u001b[0m\n",
      "\u001b[32m2023-08-11 17:25:23.463\u001b[0m | \u001b[1mINFO    \u001b[0m | \u001b[36msrc.evaluation_railroad\u001b[0m:\u001b[36mevaluate_solution_drop\u001b[0m:\u001b[36m406\u001b[0m - \u001b[1mDropping T9\u001b[0m\n",
      "\u001b[32m2023-08-11 17:25:25.519\u001b[0m | \u001b[1mINFO    \u001b[0m | \u001b[36msrc.evaluation_railroad\u001b[0m:\u001b[36mevaluate_solution_drop\u001b[0m:\u001b[36m406\u001b[0m - \u001b[1mDropping T5\u001b[0m\n",
      "C:\\Users\\marle\\AppData\\Local\\Temp\\ipykernel_26916\\3744669391.py:16: FutureWarning: The frame.append method is deprecated and will be removed from pandas in a future version. Use pandas.concat instead.\n",
      "  df_results = df_results.append(dict_results, ignore_index=True)\n",
      "\u001b[32m2023-08-11 17:25:28.926\u001b[0m | \u001b[1mINFO    \u001b[0m | \u001b[36msrc.co2_modells\u001b[0m:\u001b[36mpreprocessing_modelling\u001b[0m:\u001b[36m38\u001b[0m - \u001b[1mnan\u001b[0m\n",
      "C:\\Users\\marle\\OneDrive - tbs-education\\00_Masterarbeit\\Code\\notebooks\\..\\src\\co2_modells.py:29: SettingWithCopyWarning: \n",
      "A value is trying to be set on a copy of a slice from a DataFrame.\n",
      "Try using .loc[row_indexer,col_indexer] = value instead\n",
      "\n",
      "See the caveats in the documentation: https://pandas.pydata.org/pandas-docs/stable/user_guide/indexing.html#returning-a-view-versus-a-copy\n",
      "  df[\"Sender weight (kg)\"] = df[\"Sender weight (kg)\"]*volume\n",
      "\u001b[32m2023-08-11 17:25:28.961\u001b[0m | \u001b[1mINFO    \u001b[0m | \u001b[36msrc.co2_modells\u001b[0m:\u001b[36mpreprocessing_modelling\u001b[0m:\u001b[36m38\u001b[0m - \u001b[1m1728.52\u001b[0m\n",
      "\u001b[32m2023-08-11 17:25:29.020\u001b[0m | \u001b[1mINFO    \u001b[0m | \u001b[36msrc.co2_modells\u001b[0m:\u001b[36mco2_modell\u001b[0m:\u001b[36m71\u001b[0m - \u001b[1m5.738307692307692\u001b[0m\n"
     ]
    },
    {
     "name": "stdout",
     "output_type": "stream",
     "text": [
      "Total processing time: 32.09375\n",
      "(0, 10)\n",
      "No deliveries from 2022-01-29 to 2022-01-30\n",
      "(285, 7)\n"
     ]
    },
    {
     "name": "stderr",
     "output_type": "stream",
     "text": [
      "C:\\Users\\marle\\OneDrive - tbs-education\\00_Masterarbeit\\Code\\notebooks\\..\\src\\create_solution.py:74: FutureWarning: Dropping of nuisance columns in DataFrame reductions (with 'numeric_only=None') is deprecated; in a future version this will raise TypeError.  Select only valid columns before calling the reduction.\n",
      "  distances['Dmin'] = distances.min(axis=1)\n"
     ]
    },
    {
     "name": "stdout",
     "output_type": "stream",
     "text": [
      "(54, 12)\n",
      "(100, 16)\n"
     ]
    },
    {
     "name": "stderr",
     "output_type": "stream",
     "text": [
      "\u001b[32m2023-08-11 17:25:43.748\u001b[0m | \u001b[1mINFO    \u001b[0m | \u001b[36msrc.evaluation_railroad\u001b[0m:\u001b[36mevaluate_solution_drop\u001b[0m:\u001b[36m406\u001b[0m - \u001b[1mDropping T2\u001b[0m\n",
      "\u001b[32m2023-08-11 17:25:51.137\u001b[0m | \u001b[1mINFO    \u001b[0m | \u001b[36msrc.evaluation_railroad\u001b[0m:\u001b[36mevaluate_solution_drop\u001b[0m:\u001b[36m406\u001b[0m - \u001b[1mDropping T10\u001b[0m\n",
      "\u001b[32m2023-08-11 17:25:54.389\u001b[0m | \u001b[1mINFO    \u001b[0m | \u001b[36msrc.evaluation_railroad\u001b[0m:\u001b[36mevaluate_solution_drop\u001b[0m:\u001b[36m406\u001b[0m - \u001b[1mDropping T3\u001b[0m\n",
      "\u001b[32m2023-08-11 17:25:58.768\u001b[0m | \u001b[1mINFO    \u001b[0m | \u001b[36msrc.evaluation_railroad\u001b[0m:\u001b[36mevaluate_solution_drop\u001b[0m:\u001b[36m406\u001b[0m - \u001b[1mDropping T8\u001b[0m\n",
      "\u001b[32m2023-08-11 17:26:05.049\u001b[0m | \u001b[1mINFO    \u001b[0m | \u001b[36msrc.evaluation_railroad\u001b[0m:\u001b[36mevaluate_solution_drop\u001b[0m:\u001b[36m406\u001b[0m - \u001b[1mDropping T7\u001b[0m\n",
      "\u001b[32m2023-08-11 17:26:06.092\u001b[0m | \u001b[1mINFO    \u001b[0m | \u001b[36msrc.evaluation_railroad\u001b[0m:\u001b[36mevaluate_solution_drop\u001b[0m:\u001b[36m406\u001b[0m - \u001b[1mDropping T9\u001b[0m\n",
      "C:\\Users\\marle\\AppData\\Local\\Temp\\ipykernel_26916\\3744669391.py:16: FutureWarning: The frame.append method is deprecated and will be removed from pandas in a future version. Use pandas.concat instead.\n",
      "  df_results = df_results.append(dict_results, ignore_index=True)\n",
      "C:\\Users\\marle\\OneDrive - tbs-education\\00_Masterarbeit\\Code\\notebooks\\..\\src\\co2_modells.py:29: SettingWithCopyWarning: \n",
      "A value is trying to be set on a copy of a slice from a DataFrame.\n",
      "Try using .loc[row_indexer,col_indexer] = value instead\n",
      "\n",
      "See the caveats in the documentation: https://pandas.pydata.org/pandas-docs/stable/user_guide/indexing.html#returning-a-view-versus-a-copy\n",
      "  df[\"Sender weight (kg)\"] = df[\"Sender weight (kg)\"]*volume\n",
      "\u001b[32m2023-08-11 17:26:10.358\u001b[0m | \u001b[1mINFO    \u001b[0m | \u001b[36msrc.co2_modells\u001b[0m:\u001b[36mpreprocessing_modelling\u001b[0m:\u001b[36m38\u001b[0m - \u001b[1m2275.16\u001b[0m\n",
      "\u001b[32m2023-08-11 17:26:10.389\u001b[0m | \u001b[1mINFO    \u001b[0m | \u001b[36msrc.co2_modells\u001b[0m:\u001b[36mco2_modell\u001b[0m:\u001b[36m71\u001b[0m - \u001b[1m6.412307692307692\u001b[0m\n"
     ]
    },
    {
     "name": "stdout",
     "output_type": "stream",
     "text": [
      "Total processing time: 40.78125\n",
      "(288, 7)\n"
     ]
    },
    {
     "name": "stderr",
     "output_type": "stream",
     "text": [
      "C:\\Users\\marle\\OneDrive - tbs-education\\00_Masterarbeit\\Code\\notebooks\\..\\src\\create_solution.py:74: FutureWarning: Dropping of nuisance columns in DataFrame reductions (with 'numeric_only=None') is deprecated; in a future version this will raise TypeError.  Select only valid columns before calling the reduction.\n",
      "  distances['Dmin'] = distances.min(axis=1)\n"
     ]
    },
    {
     "name": "stdout",
     "output_type": "stream",
     "text": [
      "(47, 12)\n",
      "(93, 16)\n"
     ]
    },
    {
     "name": "stderr",
     "output_type": "stream",
     "text": [
      "\u001b[32m2023-08-11 17:26:24.313\u001b[0m | \u001b[1mINFO    \u001b[0m | \u001b[36msrc.evaluation_railroad\u001b[0m:\u001b[36mevaluate_solution_drop\u001b[0m:\u001b[36m406\u001b[0m - \u001b[1mDropping T2\u001b[0m\n",
      "\u001b[32m2023-08-11 17:26:29.899\u001b[0m | \u001b[1mINFO    \u001b[0m | \u001b[36msrc.evaluation_railroad\u001b[0m:\u001b[36mevaluate_solution_drop\u001b[0m:\u001b[36m406\u001b[0m - \u001b[1mDropping T9\u001b[0m\n",
      "C:\\Users\\marle\\AppData\\Local\\Temp\\ipykernel_26916\\3744669391.py:16: FutureWarning: The frame.append method is deprecated and will be removed from pandas in a future version. Use pandas.concat instead.\n",
      "  df_results = df_results.append(dict_results, ignore_index=True)\n",
      "C:\\Users\\marle\\OneDrive - tbs-education\\00_Masterarbeit\\Code\\notebooks\\..\\src\\co2_modells.py:29: SettingWithCopyWarning: \n",
      "A value is trying to be set on a copy of a slice from a DataFrame.\n",
      "Try using .loc[row_indexer,col_indexer] = value instead\n",
      "\n",
      "See the caveats in the documentation: https://pandas.pydata.org/pandas-docs/stable/user_guide/indexing.html#returning-a-view-versus-a-copy\n",
      "  df[\"Sender weight (kg)\"] = df[\"Sender weight (kg)\"]*volume\n",
      "\u001b[32m2023-08-11 17:26:38.406\u001b[0m | \u001b[1mINFO    \u001b[0m | \u001b[36msrc.co2_modells\u001b[0m:\u001b[36mpreprocessing_modelling\u001b[0m:\u001b[36m38\u001b[0m - \u001b[1m1707.34\u001b[0m\n",
      "\u001b[32m2023-08-11 17:26:38.425\u001b[0m | \u001b[1mINFO    \u001b[0m | \u001b[36msrc.co2_modells\u001b[0m:\u001b[36mco2_modell\u001b[0m:\u001b[36m71\u001b[0m - \u001b[1m5.900461538461538\u001b[0m\n"
     ]
    },
    {
     "name": "stdout",
     "output_type": "stream",
     "text": [
      "Total processing time: 23.53125\n",
      "(271, 7)\n"
     ]
    },
    {
     "name": "stderr",
     "output_type": "stream",
     "text": [
      "C:\\Users\\marle\\OneDrive - tbs-education\\00_Masterarbeit\\Code\\notebooks\\..\\src\\create_solution.py:74: FutureWarning: Dropping of nuisance columns in DataFrame reductions (with 'numeric_only=None') is deprecated; in a future version this will raise TypeError.  Select only valid columns before calling the reduction.\n",
      "  distances['Dmin'] = distances.min(axis=1)\n"
     ]
    },
    {
     "name": "stdout",
     "output_type": "stream",
     "text": [
      "(47, 12)\n",
      "(93, 16)\n"
     ]
    },
    {
     "name": "stderr",
     "output_type": "stream",
     "text": [
      "\u001b[32m2023-08-11 17:26:54.579\u001b[0m | \u001b[1mINFO    \u001b[0m | \u001b[36msrc.evaluation_railroad\u001b[0m:\u001b[36mevaluate_solution_drop\u001b[0m:\u001b[36m406\u001b[0m - \u001b[1mDropping T3\u001b[0m\n",
      "\u001b[32m2023-08-11 17:26:57.649\u001b[0m | \u001b[1mINFO    \u001b[0m | \u001b[36msrc.evaluation_railroad\u001b[0m:\u001b[36mevaluate_solution_drop\u001b[0m:\u001b[36m406\u001b[0m - \u001b[1mDropping T7\u001b[0m\n",
      "\u001b[32m2023-08-11 17:26:58.670\u001b[0m | \u001b[1mINFO    \u001b[0m | \u001b[36msrc.evaluation_railroad\u001b[0m:\u001b[36mevaluate_solution_drop\u001b[0m:\u001b[36m406\u001b[0m - \u001b[1mDropping T8\u001b[0m\n",
      "\u001b[32m2023-08-11 17:26:59.677\u001b[0m | \u001b[1mINFO    \u001b[0m | \u001b[36msrc.evaluation_railroad\u001b[0m:\u001b[36mevaluate_solution_drop\u001b[0m:\u001b[36m406\u001b[0m - \u001b[1mDropping T9\u001b[0m\n",
      "\u001b[32m2023-08-11 17:27:00.714\u001b[0m | \u001b[1mINFO    \u001b[0m | \u001b[36msrc.evaluation_railroad\u001b[0m:\u001b[36mevaluate_solution_drop\u001b[0m:\u001b[36m406\u001b[0m - \u001b[1mDropping T10\u001b[0m\n",
      "C:\\Users\\marle\\AppData\\Local\\Temp\\ipykernel_26916\\3744669391.py:16: FutureWarning: The frame.append method is deprecated and will be removed from pandas in a future version. Use pandas.concat instead.\n",
      "  df_results = df_results.append(dict_results, ignore_index=True)\n",
      "C:\\Users\\marle\\OneDrive - tbs-education\\00_Masterarbeit\\Code\\notebooks\\..\\src\\co2_modells.py:29: SettingWithCopyWarning: \n",
      "A value is trying to be set on a copy of a slice from a DataFrame.\n",
      "Try using .loc[row_indexer,col_indexer] = value instead\n",
      "\n",
      "See the caveats in the documentation: https://pandas.pydata.org/pandas-docs/stable/user_guide/indexing.html#returning-a-view-versus-a-copy\n",
      "  df[\"Sender weight (kg)\"] = df[\"Sender weight (kg)\"]*volume\n",
      "\u001b[32m2023-08-11 17:27:06.138\u001b[0m | \u001b[1mINFO    \u001b[0m | \u001b[36msrc.co2_modells\u001b[0m:\u001b[36mpreprocessing_modelling\u001b[0m:\u001b[36m38\u001b[0m - \u001b[1m1750.22\u001b[0m\n"
     ]
    },
    {
     "name": "stdout",
     "output_type": "stream",
     "text": [
      "Total processing time: 26.328125\n",
      "(296, 7)\n"
     ]
    },
    {
     "name": "stderr",
     "output_type": "stream",
     "text": [
      "\u001b[32m2023-08-11 17:27:06.555\u001b[0m | \u001b[1mINFO    \u001b[0m | \u001b[36msrc.co2_modells\u001b[0m:\u001b[36mco2_modell\u001b[0m:\u001b[36m71\u001b[0m - \u001b[1m6.181384615384616\u001b[0m\n",
      "C:\\Users\\marle\\OneDrive - tbs-education\\00_Masterarbeit\\Code\\notebooks\\..\\src\\create_solution.py:74: FutureWarning: Dropping of nuisance columns in DataFrame reductions (with 'numeric_only=None') is deprecated; in a future version this will raise TypeError.  Select only valid columns before calling the reduction.\n",
      "  distances['Dmin'] = distances.min(axis=1)\n"
     ]
    },
    {
     "name": "stdout",
     "output_type": "stream",
     "text": [
      "(44, 12)\n",
      "(98, 16)\n"
     ]
    },
    {
     "name": "stderr",
     "output_type": "stream",
     "text": [
      "\u001b[32m2023-08-11 17:27:24.643\u001b[0m | \u001b[1mINFO    \u001b[0m | \u001b[36msrc.evaluation_railroad\u001b[0m:\u001b[36mevaluate_solution_drop\u001b[0m:\u001b[36m406\u001b[0m - \u001b[1mDropping T8\u001b[0m\n",
      "\u001b[32m2023-08-11 17:27:34.141\u001b[0m | \u001b[1mINFO    \u001b[0m | \u001b[36msrc.evaluation_railroad\u001b[0m:\u001b[36mevaluate_solution_drop\u001b[0m:\u001b[36m406\u001b[0m - \u001b[1mDropping T9\u001b[0m\n",
      "\u001b[32m2023-08-11 17:27:38.427\u001b[0m | \u001b[1mINFO    \u001b[0m | \u001b[36msrc.evaluation_railroad\u001b[0m:\u001b[36mevaluate_solution_drop\u001b[0m:\u001b[36m406\u001b[0m - \u001b[1mDropping T2\u001b[0m\n",
      "\u001b[32m2023-08-11 17:27:41.553\u001b[0m | \u001b[1mINFO    \u001b[0m | \u001b[36msrc.evaluation_railroad\u001b[0m:\u001b[36mevaluate_solution_drop\u001b[0m:\u001b[36m406\u001b[0m - \u001b[1mDropping T7\u001b[0m\n",
      "\u001b[32m2023-08-11 17:27:42.574\u001b[0m | \u001b[1mINFO    \u001b[0m | \u001b[36msrc.evaluation_railroad\u001b[0m:\u001b[36mevaluate_solution_drop\u001b[0m:\u001b[36m406\u001b[0m - \u001b[1mDropping T10\u001b[0m\n",
      "C:\\Users\\marle\\AppData\\Local\\Temp\\ipykernel_26916\\3744669391.py:16: FutureWarning: The frame.append method is deprecated and will be removed from pandas in a future version. Use pandas.concat instead.\n",
      "  df_results = df_results.append(dict_results, ignore_index=True)\n",
      "C:\\Users\\marle\\OneDrive - tbs-education\\00_Masterarbeit\\Code\\notebooks\\..\\src\\co2_modells.py:29: SettingWithCopyWarning: \n",
      "A value is trying to be set on a copy of a slice from a DataFrame.\n",
      "Try using .loc[row_indexer,col_indexer] = value instead\n",
      "\n",
      "See the caveats in the documentation: https://pandas.pydata.org/pandas-docs/stable/user_guide/indexing.html#returning-a-view-versus-a-copy\n",
      "  df[\"Sender weight (kg)\"] = df[\"Sender weight (kg)\"]*volume\n",
      "\u001b[32m2023-08-11 17:27:46.720\u001b[0m | \u001b[1mINFO    \u001b[0m | \u001b[36msrc.co2_modells\u001b[0m:\u001b[36mpreprocessing_modelling\u001b[0m:\u001b[36m38\u001b[0m - \u001b[1m1597.08\u001b[0m\n",
      "\u001b[32m2023-08-11 17:27:46.736\u001b[0m | \u001b[1mINFO    \u001b[0m | \u001b[36msrc.co2_modells\u001b[0m:\u001b[36mco2_modell\u001b[0m:\u001b[36m71\u001b[0m - \u001b[1m6.471307692307692\u001b[0m\n"
     ]
    },
    {
     "name": "stdout",
     "output_type": "stream",
     "text": [
      "Total processing time: 39.109375\n",
      "(262, 7)\n"
     ]
    },
    {
     "name": "stderr",
     "output_type": "stream",
     "text": [
      "C:\\Users\\marle\\OneDrive - tbs-education\\00_Masterarbeit\\Code\\notebooks\\..\\src\\create_solution.py:74: FutureWarning: Dropping of nuisance columns in DataFrame reductions (with 'numeric_only=None') is deprecated; in a future version this will raise TypeError.  Select only valid columns before calling the reduction.\n",
      "  distances['Dmin'] = distances.min(axis=1)\n"
     ]
    },
    {
     "name": "stdout",
     "output_type": "stream",
     "text": [
      "(37, 12)\n",
      "(79, 16)\n"
     ]
    },
    {
     "name": "stderr",
     "output_type": "stream",
     "text": [
      "\u001b[32m2023-08-11 17:28:01.202\u001b[0m | \u001b[1mINFO    \u001b[0m | \u001b[36msrc.evaluation_railroad\u001b[0m:\u001b[36mevaluate_solution_drop\u001b[0m:\u001b[36m406\u001b[0m - \u001b[1mDropping T2\u001b[0m\n",
      "\u001b[32m2023-08-11 17:28:02.224\u001b[0m | \u001b[1mINFO    \u001b[0m | \u001b[36msrc.evaluation_railroad\u001b[0m:\u001b[36mevaluate_solution_drop\u001b[0m:\u001b[36m406\u001b[0m - \u001b[1mDropping T3\u001b[0m\n",
      "\u001b[32m2023-08-11 17:28:03.243\u001b[0m | \u001b[1mINFO    \u001b[0m | \u001b[36msrc.evaluation_railroad\u001b[0m:\u001b[36mevaluate_solution_drop\u001b[0m:\u001b[36m406\u001b[0m - \u001b[1mDropping T5\u001b[0m\n",
      "\u001b[32m2023-08-11 17:28:06.300\u001b[0m | \u001b[1mINFO    \u001b[0m | \u001b[36msrc.evaluation_railroad\u001b[0m:\u001b[36mevaluate_solution_drop\u001b[0m:\u001b[36m406\u001b[0m - \u001b[1mDropping T8\u001b[0m\n",
      "\u001b[32m2023-08-11 17:28:07.321\u001b[0m | \u001b[1mINFO    \u001b[0m | \u001b[36msrc.evaluation_railroad\u001b[0m:\u001b[36mevaluate_solution_drop\u001b[0m:\u001b[36m406\u001b[0m - \u001b[1mDropping T9\u001b[0m\n",
      "\u001b[32m2023-08-11 17:28:10.429\u001b[0m | \u001b[1mINFO    \u001b[0m | \u001b[36msrc.evaluation_railroad\u001b[0m:\u001b[36mevaluate_solution_drop\u001b[0m:\u001b[36m406\u001b[0m - \u001b[1mDropping T1\u001b[0m\n",
      "\u001b[32m2023-08-11 17:28:17.606\u001b[0m | \u001b[1mINFO    \u001b[0m | \u001b[36msrc.evaluation_railroad\u001b[0m:\u001b[36mevaluate_solution_drop\u001b[0m:\u001b[36m406\u001b[0m - \u001b[1mDropping T10\u001b[0m\n",
      "C:\\Users\\marle\\AppData\\Local\\Temp\\ipykernel_26916\\3744669391.py:16: FutureWarning: The frame.append method is deprecated and will be removed from pandas in a future version. Use pandas.concat instead.\n",
      "  df_results = df_results.append(dict_results, ignore_index=True)\n",
      "\u001b[32m2023-08-11 17:28:20.694\u001b[0m | \u001b[1mINFO    \u001b[0m | \u001b[36msrc.co2_modells\u001b[0m:\u001b[36mpreprocessing_modelling\u001b[0m:\u001b[36m38\u001b[0m - \u001b[1mnan\u001b[0m\n"
     ]
    },
    {
     "name": "stdout",
     "output_type": "stream",
     "text": [
      "Total processing time: 33.296875\n",
      "(0, 10)\n",
      "No deliveries from 2022-01-29 to 2022-01-30\n"
     ]
    }
   ],
   "source": [
    "t = time.process_time()\n",
    "get_results_daily_per_week(df_dc1, week, truck_capacity = truck_capacity, mode = \"combined\", algorithm = \"drop\")\n",
    "elapsed_time_drop = time.process_time() - t"
   ]
  },
  {
   "cell_type": "code",
   "execution_count": 107,
   "id": "26a1ef1b",
   "metadata": {},
   "outputs": [
    {
     "name": "stderr",
     "output_type": "stream",
     "text": [
      "C:\\Users\\marle\\OneDrive - tbs-education\\00_Masterarbeit\\Code\\notebooks\\..\\src\\co2_modells.py:29: SettingWithCopyWarning: \n",
      "A value is trying to be set on a copy of a slice from a DataFrame.\n",
      "Try using .loc[row_indexer,col_indexer] = value instead\n",
      "\n",
      "See the caveats in the documentation: https://pandas.pydata.org/pandas-docs/stable/user_guide/indexing.html#returning-a-view-versus-a-copy\n",
      "  df[\"Sender weight (kg)\"] = df[\"Sender weight (kg)\"]*volume\n",
      "\u001b[32m2023-08-11 19:37:05.102\u001b[0m | \u001b[1mINFO    \u001b[0m | \u001b[36msrc.co2_modells\u001b[0m:\u001b[36mpreprocessing_modelling\u001b[0m:\u001b[36m38\u001b[0m - \u001b[1m193.298\u001b[0m\n",
      "\u001b[32m2023-08-11 19:37:05.118\u001b[0m | \u001b[1mINFO    \u001b[0m | \u001b[36msrc.co2_modells\u001b[0m:\u001b[36mco2_modell\u001b[0m:\u001b[36m71\u001b[0m - \u001b[1m0.5873846153846154\u001b[0m\n"
     ]
    },
    {
     "name": "stdout",
     "output_type": "stream",
     "text": [
      "(269, 7)\n"
     ]
    },
    {
     "name": "stderr",
     "output_type": "stream",
     "text": [
      "C:\\Users\\marle\\OneDrive - tbs-education\\00_Masterarbeit\\Code\\notebooks\\..\\src\\create_solution.py:77: FutureWarning: Dropping of nuisance columns in DataFrame reductions (with 'numeric_only=None') is deprecated; in a future version this will raise TypeError.  Select only valid columns before calling the reduction.\n",
      "  distances['Dmin'] = distances.min(axis=1)\n",
      "\u001b[32m2023-08-11 19:37:06.240\u001b[0m | \u001b[1mINFO    \u001b[0m | \u001b[36msrc.co2_modells\u001b[0m:\u001b[36mco2_modell\u001b[0m:\u001b[36m112\u001b[0m - \u001b[1m[['C1025', 'C113', 'C124', 'C196', 'C238', 'C273', 'C284', 'C353', 'C365', 'C369', 'C55', 'C637', 'C661', 'C694', 'C701', 'C77', 'C867', 'C883', 'C935'], ['C167', 'C24', 'C488', 'C497', 'C508', 'C509', 'C63', 'C635', 'C72', 'C737'], ['C38'], ['C100', 'C102', 'C1024', 'C103', 'C104', 'C1044', 'C106', 'C1071', 'C109', 'C1152', 'C1179', 'C119', 'C122', 'C1223', 'C125', 'C128', 'C13', 'C1367', 'C1427', 'C1431', 'C151', 'C158', 'C16', 'C160', 'C161', 'C165', 'C168', 'C176', 'C177', 'C182', 'C187', 'C194', 'C20', 'C203', 'C21', 'C212', 'C220', 'C222', 'C224', 'C225', 'C226', 'C233', 'C234', 'C237', 'C241', 'C242', 'C243', 'C246', 'C250', 'C251', 'C255', 'C258', 'C264', 'C27', 'C274', 'C276', 'C286', 'C292', 'C298', 'C299', 'C300', 'C301', 'C303', 'C305', 'C31', 'C312', 'C313', 'C316', 'C321', 'C323', 'C327', 'C335', 'C34', 'C36', 'C366', 'C372', 'C375', 'C431', 'C439', 'C441', 'C446', 'C453', 'C455', 'C459', 'C460', 'C464', 'C470', 'C477', 'C478', 'C487', 'C489', 'C494', 'C495', 'C510', 'C514', 'C517', 'C52', 'C531', 'C535', 'C542', 'C543', 'C547', 'C549', 'C551', 'C554', 'C557', 'C558', 'C56', 'C599', 'C600', 'C609', 'C627', 'C628', 'C64', 'C649', 'C656', 'C67', 'C68', 'C702', 'C703', 'C707', 'C713', 'C729', 'C76', 'C768', 'C841', 'C851', 'C855', 'C89', 'C922', 'C93', 'C937', 'C939', 'C94', 'C940', 'C95', 'C998'], ['C1066', 'C1135', 'C15', 'C213', 'C23', 'C25', 'C304', 'C347', 'C37', 'C42', 'C461', 'C469', 'C511', 'C513', 'C761', 'C794', 'C835', 'C98'], ['C1043', 'C11', 'C1194', 'C1220', 'C1258', 'C1307', 'C140', 'C142', 'C1440', 'C149', 'C152', 'C156', 'C185', 'C189', 'C190', 'C198', 'C200', 'C223', 'C240', 'C260', 'C269', 'C270', 'C271', 'C275', 'C279', 'C289', 'C290', 'C296', 'C302', 'C309', 'C361', 'C377', 'C382', 'C385', 'C415', 'C43', 'C430', 'C437', 'C443', 'C448', 'C472', 'C475', 'C481', 'C528', 'C595', 'C613', 'C633', 'C640', 'C653', 'C660', 'C667', 'C700', 'C745', 'C747', 'C836', 'C853', 'C874', 'C961'], ['C105', 'C126', 'C1447', 'C201', 'C22', 'C248', 'C381', 'C404', 'C601'], [], ['C143', 'C236', 'C32', 'C44', 'C479', 'C817', 'C82'], ['C1062', 'C1096', 'C1259', 'C19', 'C235', 'C277', 'C352', 'C41', 'C502', 'C734']]\u001b[0m\n",
      "\u001b[32m2023-08-11 19:37:06.240\u001b[0m | \u001b[1mINFO    \u001b[0m | \u001b[36msrc.co2_modells\u001b[0m:\u001b[36mco2_modell\u001b[0m:\u001b[36m113\u001b[0m - \u001b[1mT4\u001b[0m\n"
     ]
    },
    {
     "name": "stdout",
     "output_type": "stream",
     "text": [
      "(43, 12)\n",
      "(92, 16)\n"
     ]
    },
    {
     "name": "stderr",
     "output_type": "stream",
     "text": [
      "C:\\Users\\marle\\AppData\\Local\\Temp\\ipykernel_26916\\3509140279.py:16: FutureWarning: The frame.append method is deprecated and will be removed from pandas in a future version. Use pandas.concat instead.\n",
      "  df_results = df_results.append(dict_results, ignore_index=True)\n",
      "C:\\Users\\marle\\OneDrive - tbs-education\\00_Masterarbeit\\Code\\notebooks\\..\\src\\co2_modells.py:29: SettingWithCopyWarning: \n",
      "A value is trying to be set on a copy of a slice from a DataFrame.\n",
      "Try using .loc[row_indexer,col_indexer] = value instead\n",
      "\n",
      "See the caveats in the documentation: https://pandas.pydata.org/pandas-docs/stable/user_guide/indexing.html#returning-a-view-versus-a-copy\n",
      "  df[\"Sender weight (kg)\"] = df[\"Sender weight (kg)\"]*volume\n",
      "\u001b[32m2023-08-11 19:37:15.476\u001b[0m | \u001b[1mINFO    \u001b[0m | \u001b[36msrc.co2_modells\u001b[0m:\u001b[36mpreprocessing_modelling\u001b[0m:\u001b[36m38\u001b[0m - \u001b[1m118.048\u001b[0m\n",
      "\u001b[32m2023-08-11 19:37:15.499\u001b[0m | \u001b[1mINFO    \u001b[0m | \u001b[36msrc.co2_modells\u001b[0m:\u001b[36mco2_modell\u001b[0m:\u001b[36m71\u001b[0m - \u001b[1m0.42853846153846153\u001b[0m\n"
     ]
    },
    {
     "name": "stdout",
     "output_type": "stream",
     "text": [
      "Total processing time: 6.1875\n",
      "(247, 7)\n"
     ]
    },
    {
     "name": "stderr",
     "output_type": "stream",
     "text": [
      "C:\\Users\\marle\\OneDrive - tbs-education\\00_Masterarbeit\\Code\\notebooks\\..\\src\\create_solution.py:77: FutureWarning: Dropping of nuisance columns in DataFrame reductions (with 'numeric_only=None') is deprecated; in a future version this will raise TypeError.  Select only valid columns before calling the reduction.\n",
      "  distances['Dmin'] = distances.min(axis=1)\n",
      "\u001b[32m2023-08-11 19:37:16.620\u001b[0m | \u001b[1mINFO    \u001b[0m | \u001b[36msrc.co2_modells\u001b[0m:\u001b[36mco2_modell\u001b[0m:\u001b[36m112\u001b[0m - \u001b[1m[['C1017', 'C113', 'C124', 'C196', 'C238', 'C239', 'C273', 'C284', 'C338', 'C365', 'C369', 'C425', 'C498', 'C55', 'C565', 'C584', 'C661', 'C697', 'C701', 'C77', 'C778', 'C847', 'C883'], ['C1476', 'C167', 'C33', 'C462', 'C497', 'C508', 'C509', 'C673', 'C737'], [], ['C102', 'C103', 'C1030', 'C104', 'C1044', 'C1071', 'C109', 'C119', 'C125', 'C129', 'C13', 'C1365', 'C1386', 'C1477', 'C151', 'C158', 'C16', 'C160', 'C161', 'C165', 'C168', 'C177', 'C179', 'C182', 'C187', 'C194', 'C20', 'C203', 'C21', 'C212', 'C220', 'C222', 'C224', 'C226', 'C234', 'C241', 'C244', 'C245', 'C246', 'C251', 'C255', 'C258', 'C264', 'C27', 'C274', 'C276', 'C286', 'C298', 'C300', 'C301', 'C305', 'C31', 'C313', 'C316', 'C321', 'C323', 'C327', 'C34', 'C349', 'C357', 'C375', 'C431', 'C439', 'C441', 'C446', 'C453', 'C455', 'C459', 'C46', 'C460', 'C464', 'C470', 'C473', 'C494', 'C495', 'C500', 'C514', 'C517', 'C52', 'C529', 'C534', 'C535', 'C538', 'C543', 'C547', 'C549', 'C551', 'C554', 'C557', 'C558', 'C572', 'C603', 'C609', 'C627', 'C628', 'C64', 'C649', 'C651', 'C664', 'C665', 'C67', 'C68', 'C683', 'C696', 'C698', 'C703', 'C707', 'C713', 'C725', 'C726', 'C729', 'C730', 'C746', 'C75', 'C759', 'C76', 'C768', 'C851', 'C922', 'C93', 'C94', 'C95', 'C998'], ['C1059', 'C1066', 'C1188', 'C1214', 'C15', 'C1563', 'C213', 'C23', 'C304', 'C37', 'C469', 'C485', 'C50', 'C511', 'C521', 'C682', 'C742', 'C835', 'C984'], ['C1031', 'C11', 'C1183', 'C1194', 'C1307', 'C139', 'C140', 'C142', 'C149', 'C1509', 'C152', 'C156', 'C185', 'C189', 'C190', 'C198', 'C200', 'C214', 'C216', 'C219', 'C240', 'C260', 'C268', 'C269', 'C270', 'C271', 'C275', 'C279', 'C289', 'C290', 'C302', 'C382', 'C385', 'C415', 'C43', 'C437', 'C443', 'C448', 'C475', 'C481', 'C528', 'C613', 'C640', 'C644', 'C660', 'C667', 'C693', 'C747', 'C750', 'C853', 'C871'], ['C105', 'C126', 'C22', 'C248', 'C381', 'C503'], [], ['C143', 'C1486', 'C236', 'C32', 'C44', 'C479', 'C82'], ['C1096', 'C1259', 'C1498', 'C19', 'C235', 'C249', 'C352', 'C379', 'C41']]\u001b[0m\n",
      "\u001b[32m2023-08-11 19:37:16.622\u001b[0m | \u001b[1mINFO    \u001b[0m | \u001b[36msrc.co2_modells\u001b[0m:\u001b[36mco2_modell\u001b[0m:\u001b[36m113\u001b[0m - \u001b[1mT4\u001b[0m\n"
     ]
    },
    {
     "name": "stdout",
     "output_type": "stream",
     "text": [
      "(43, 12)\n",
      "(82, 16)\n"
     ]
    },
    {
     "name": "stderr",
     "output_type": "stream",
     "text": [
      "C:\\Users\\marle\\AppData\\Local\\Temp\\ipykernel_26916\\3509140279.py:16: FutureWarning: The frame.append method is deprecated and will be removed from pandas in a future version. Use pandas.concat instead.\n",
      "  df_results = df_results.append(dict_results, ignore_index=True)\n",
      "C:\\Users\\marle\\OneDrive - tbs-education\\00_Masterarbeit\\Code\\notebooks\\..\\src\\co2_modells.py:29: SettingWithCopyWarning: \n",
      "A value is trying to be set on a copy of a slice from a DataFrame.\n",
      "Try using .loc[row_indexer,col_indexer] = value instead\n",
      "\n",
      "See the caveats in the documentation: https://pandas.pydata.org/pandas-docs/stable/user_guide/indexing.html#returning-a-view-versus-a-copy\n",
      "  df[\"Sender weight (kg)\"] = df[\"Sender weight (kg)\"]*volume\n",
      "\u001b[32m2023-08-11 19:37:24.788\u001b[0m | \u001b[1mINFO    \u001b[0m | \u001b[36msrc.co2_modells\u001b[0m:\u001b[36mpreprocessing_modelling\u001b[0m:\u001b[36m38\u001b[0m - \u001b[1m190.596\u001b[0m\n",
      "\u001b[32m2023-08-11 19:37:24.804\u001b[0m | \u001b[1mINFO    \u001b[0m | \u001b[36msrc.co2_modells\u001b[0m:\u001b[36mco2_modell\u001b[0m:\u001b[36m71\u001b[0m - \u001b[1m0.6247692307692307\u001b[0m\n"
     ]
    },
    {
     "name": "stdout",
     "output_type": "stream",
     "text": [
      "Total processing time: 5.6875\n",
      "(257, 7)\n"
     ]
    },
    {
     "name": "stderr",
     "output_type": "stream",
     "text": [
      "C:\\Users\\marle\\OneDrive - tbs-education\\00_Masterarbeit\\Code\\notebooks\\..\\src\\create_solution.py:77: FutureWarning: Dropping of nuisance columns in DataFrame reductions (with 'numeric_only=None') is deprecated; in a future version this will raise TypeError.  Select only valid columns before calling the reduction.\n",
      "  distances['Dmin'] = distances.min(axis=1)\n",
      "\u001b[32m2023-08-11 19:37:25.942\u001b[0m | \u001b[1mINFO    \u001b[0m | \u001b[36msrc.co2_modells\u001b[0m:\u001b[36mco2_modell\u001b[0m:\u001b[36m112\u001b[0m - \u001b[1m[['C113', 'C196', 'C238', 'C239', 'C284', 'C338', 'C353', 'C365', 'C369', 'C498', 'C55', 'C584', 'C617', 'C661', 'C676', 'C697', 'C701', 'C77', 'C778', 'C847', 'C883'], ['C167', 'C24', 'C462', 'C508', 'C509', 'C635', 'C737', 'C755'], [], ['C100', 'C103', 'C1030', 'C1034', 'C106', 'C1071', 'C109', 'C1092', 'C1101', 'C1126', 'C1131', 'C1161', 'C1179', 'C119', 'C122', 'C1223', 'C125', 'C128', 'C129', 'C13', 'C1427', 'C151', 'C1584', 'C1595', 'C16', 'C160', 'C1609', 'C161', 'C1610', 'C1613', 'C1617', 'C164', 'C1641', 'C165', 'C1650', 'C168', 'C176', 'C177', 'C187', 'C194', 'C20', 'C21', 'C222', 'C224', 'C225', 'C227', 'C229', 'C234', 'C242', 'C243', 'C244', 'C246', 'C255', 'C258', 'C26', 'C27', 'C276', 'C298', 'C300', 'C301', 'C305', 'C31', 'C312', 'C316', 'C321', 'C327', 'C34', 'C372', 'C375', 'C392', 'C4', 'C427', 'C429', 'C431', 'C432', 'C446', 'C447', 'C453', 'C455', 'C459', 'C460', 'C464', 'C470', 'C471', 'C473', 'C477', 'C491', 'C494', 'C495', 'C500', 'C512', 'C514', 'C517', 'C52', 'C529', 'C531', 'C535', 'C538', 'C542', 'C543', 'C549', 'C551', 'C554', 'C557', 'C558', 'C56', 'C599', 'C625', 'C649', 'C656', 'C663', 'C665', 'C67', 'C68', 'C683', 'C696', 'C698', 'C702', 'C707', 'C713', 'C729', 'C730', 'C741', 'C743', 'C744', 'C759', 'C76', 'C768', 'C798', 'C84', 'C851', 'C855', 'C882', 'C89', 'C922', 'C93', 'C937', 'C94', 'C95', 'C986'], ['C1066', 'C1135', 'C15', 'C213', 'C23', 'C37', 'C42', 'C469', 'C511', 'C513', 'C682', 'C742', 'C98', 'C984'], ['C1043', 'C1048', 'C1183', 'C138', 'C139', 'C140', 'C142', 'C149', 'C155', 'C156', 'C185', 'C189', 'C190', 'C198', 'C200', 'C216', 'C240', 'C260', 'C268', 'C269', 'C270', 'C271', 'C275', 'C279', 'C290', 'C309', 'C322', 'C328', 'C344', 'C361', 'C382', 'C385', 'C415', 'C437', 'C443', 'C448', 'C475', 'C481', 'C595', 'C633', 'C640', 'C644', 'C653', 'C660', 'C686', 'C690', 'C693', 'C747', 'C750', 'C853', 'C907', 'C961', 'C991'], ['C105', 'C1447', 'C22', 'C248', 'C381'], [], ['C236', 'C32', 'C44', 'C479', 'C82'], ['C1062', 'C1096', 'C19', 'C235', 'C249', 'C277', 'C352', 'C379', 'C41', 'C502', 'C734']]\u001b[0m\n",
      "\u001b[32m2023-08-11 19:37:25.943\u001b[0m | \u001b[1mINFO    \u001b[0m | \u001b[36msrc.co2_modells\u001b[0m:\u001b[36mco2_modell\u001b[0m:\u001b[36m113\u001b[0m - \u001b[1mT4\u001b[0m\n"
     ]
    },
    {
     "name": "stdout",
     "output_type": "stream",
     "text": [
      "(44, 12)\n",
      "(89, 16)\n"
     ]
    },
    {
     "name": "stderr",
     "output_type": "stream",
     "text": [
      "C:\\Users\\marle\\AppData\\Local\\Temp\\ipykernel_26916\\3509140279.py:16: FutureWarning: The frame.append method is deprecated and will be removed from pandas in a future version. Use pandas.concat instead.\n",
      "  df_results = df_results.append(dict_results, ignore_index=True)\n",
      "C:\\Users\\marle\\OneDrive - tbs-education\\00_Masterarbeit\\Code\\notebooks\\..\\src\\co2_modells.py:29: SettingWithCopyWarning: \n",
      "A value is trying to be set on a copy of a slice from a DataFrame.\n",
      "Try using .loc[row_indexer,col_indexer] = value instead\n",
      "\n",
      "See the caveats in the documentation: https://pandas.pydata.org/pandas-docs/stable/user_guide/indexing.html#returning-a-view-versus-a-copy\n",
      "  df[\"Sender weight (kg)\"] = df[\"Sender weight (kg)\"]*volume\n",
      "\u001b[32m2023-08-11 19:37:34.186\u001b[0m | \u001b[1mINFO    \u001b[0m | \u001b[36msrc.co2_modells\u001b[0m:\u001b[36mpreprocessing_modelling\u001b[0m:\u001b[36m38\u001b[0m - \u001b[1m192.75\u001b[0m\n",
      "\u001b[32m2023-08-11 19:37:34.202\u001b[0m | \u001b[1mINFO    \u001b[0m | \u001b[36msrc.co2_modells\u001b[0m:\u001b[36mco2_modell\u001b[0m:\u001b[36m71\u001b[0m - \u001b[1m0.7803076923076923\u001b[0m\n"
     ]
    },
    {
     "name": "stdout",
     "output_type": "stream",
     "text": [
      "Total processing time: 5.046875\n",
      "(310, 7)\n"
     ]
    },
    {
     "name": "stderr",
     "output_type": "stream",
     "text": [
      "C:\\Users\\marle\\OneDrive - tbs-education\\00_Masterarbeit\\Code\\notebooks\\..\\src\\create_solution.py:77: FutureWarning: Dropping of nuisance columns in DataFrame reductions (with 'numeric_only=None') is deprecated; in a future version this will raise TypeError.  Select only valid columns before calling the reduction.\n",
      "  distances['Dmin'] = distances.min(axis=1)\n",
      "\u001b[32m2023-08-11 19:37:35.313\u001b[0m | \u001b[1mINFO    \u001b[0m | \u001b[36msrc.co2_modells\u001b[0m:\u001b[36mco2_modell\u001b[0m:\u001b[36m112\u001b[0m - \u001b[1m[['C1017', 'C1025', 'C1049', 'C113', 'C124', 'C196', 'C238', 'C239', 'C273', 'C284', 'C338', 'C353', 'C365', 'C410', 'C425', 'C55', 'C584', 'C617', 'C637', 'C661', 'C676', 'C694', 'C697', 'C701', 'C73', 'C77', 'C826', 'C847', 'C850', 'C883', 'C935'], ['C167', 'C24', 'C33', 'C488', 'C497', 'C508', 'C509', 'C635', 'C673', 'C72', 'C737'], [], ['C100', 'C102', 'C1024', 'C103', 'C104', 'C1050', 'C106', 'C1071', 'C109', 'C1092', 'C1097', 'C1126', 'C1131', 'C1164', 'C122', 'C1223', 'C125', 'C129', 'C13', 'C1365', 'C1427', 'C1431', 'C151', 'C154', 'C158', 'C16', 'C160', 'C1609', 'C161', 'C1617', 'C165', 'C177', 'C179', 'C182', 'C187', 'C194', 'C21', 'C212', 'C220', 'C222', 'C224', 'C225', 'C226', 'C230', 'C234', 'C237', 'C241', 'C242', 'C243', 'C246', 'C251', 'C255', 'C258', 'C26', 'C264', 'C27', 'C276', 'C286', 'C292', 'C298', 'C299', 'C300', 'C301', 'C303', 'C305', 'C31', 'C312', 'C316', 'C323', 'C327', 'C335', 'C34', 'C349', 'C357', 'C36', 'C366', 'C372', 'C375', 'C39', 'C392', 'C4', 'C419', 'C420', 'C427', 'C432', 'C439', 'C447', 'C451', 'C453', 'C459', 'C460', 'C464', 'C470', 'C471', 'C473', 'C478', 'C489', 'C494', 'C495', 'C500', 'C512', 'C514', 'C52', 'C529', 'C535', 'C542', 'C543', 'C551', 'C554', 'C557', 'C558', 'C56', 'C572', 'C599', 'C60', 'C600', 'C628', 'C64', 'C649', 'C651', 'C656', 'C662', 'C663', 'C665', 'C67', 'C68', 'C680', 'C683', 'C703', 'C707', 'C713', 'C722', 'C730', 'C741', 'C744', 'C75', 'C759', 'C76', 'C768', 'C798', 'C810', 'C841', 'C851', 'C862', 'C863', 'C882', 'C922', 'C939', 'C94', 'C95', 'C971', 'C998'], ['C1066', 'C1135', 'C15', 'C1775', 'C213', 'C23', 'C25', 'C304', 'C37', 'C461', 'C469', 'C50', 'C511', 'C513', 'C521', 'C682', 'C738', 'C742', 'C794', 'C860', 'C98', 'C984'], ['C1043', 'C1048', 'C1183', 'C1220', 'C1244', 'C1312', 'C138', 'C139', 'C140', 'C142', 'C1440', 'C149', 'C152', 'C156', 'C1680', 'C1705', 'C1707', 'C1774', 'C1779', 'C185', 'C189', 'C198', 'C200', 'C216', 'C217', 'C240', 'C260', 'C268', 'C269', 'C270', 'C271', 'C275', 'C279', 'C289', 'C302', 'C309', 'C311', 'C320', 'C322', 'C344', 'C361', 'C382', 'C385', 'C415', 'C43', 'C430', 'C437', 'C448', 'C472', 'C474', 'C475', 'C481', 'C595', 'C613', 'C640', 'C644', 'C660', 'C667', 'C686', 'C690', 'C691', 'C700', 'C745', 'C747', 'C750', 'C874', 'C927', 'C991'], ['C105', 'C126', 'C1322', 'C22', 'C248', 'C381', 'C404', 'C503'], [], ['C1704', 'C236', 'C32', 'C44', 'C479', 'C817', 'C82'], ['C1259', 'C19', 'C272', 'C277', 'C278', 'C352', 'C379', 'C41', 'C502', 'C527', 'C734']]\u001b[0m\n",
      "\u001b[32m2023-08-11 19:37:35.328\u001b[0m | \u001b[1mINFO    \u001b[0m | \u001b[36msrc.co2_modells\u001b[0m:\u001b[36mco2_modell\u001b[0m:\u001b[36m113\u001b[0m - \u001b[1mT4\u001b[0m\n"
     ]
    },
    {
     "name": "stdout",
     "output_type": "stream",
     "text": [
      "(51, 12)\n",
      "(103, 16)\n"
     ]
    },
    {
     "name": "stderr",
     "output_type": "stream",
     "text": [
      "C:\\Users\\marle\\AppData\\Local\\Temp\\ipykernel_26916\\3509140279.py:16: FutureWarning: The frame.append method is deprecated and will be removed from pandas in a future version. Use pandas.concat instead.\n",
      "  df_results = df_results.append(dict_results, ignore_index=True)\n",
      "C:\\Users\\marle\\OneDrive - tbs-education\\00_Masterarbeit\\Code\\notebooks\\..\\src\\co2_modells.py:29: SettingWithCopyWarning: \n",
      "A value is trying to be set on a copy of a slice from a DataFrame.\n",
      "Try using .loc[row_indexer,col_indexer] = value instead\n",
      "\n",
      "See the caveats in the documentation: https://pandas.pydata.org/pandas-docs/stable/user_guide/indexing.html#returning-a-view-versus-a-copy\n",
      "  df[\"Sender weight (kg)\"] = df[\"Sender weight (kg)\"]*volume\n",
      "\u001b[32m2023-08-11 19:37:43.517\u001b[0m | \u001b[1mINFO    \u001b[0m | \u001b[36msrc.co2_modells\u001b[0m:\u001b[36mpreprocessing_modelling\u001b[0m:\u001b[36m38\u001b[0m - \u001b[1m156.0\u001b[0m\n",
      "\u001b[32m2023-08-11 19:37:43.540\u001b[0m | \u001b[1mINFO    \u001b[0m | \u001b[36msrc.co2_modells\u001b[0m:\u001b[36mco2_modell\u001b[0m:\u001b[36m71\u001b[0m - \u001b[1m0.5243076923076923\u001b[0m\n"
     ]
    },
    {
     "name": "stdout",
     "output_type": "stream",
     "text": [
      "Total processing time: 6.0625\n",
      "(262, 7)\n"
     ]
    },
    {
     "name": "stderr",
     "output_type": "stream",
     "text": [
      "C:\\Users\\marle\\OneDrive - tbs-education\\00_Masterarbeit\\Code\\notebooks\\..\\src\\create_solution.py:77: FutureWarning: Dropping of nuisance columns in DataFrame reductions (with 'numeric_only=None') is deprecated; in a future version this will raise TypeError.  Select only valid columns before calling the reduction.\n",
      "  distances['Dmin'] = distances.min(axis=1)\n",
      "\u001b[32m2023-08-11 19:37:44.644\u001b[0m | \u001b[1mINFO    \u001b[0m | \u001b[36msrc.co2_modells\u001b[0m:\u001b[36mco2_modell\u001b[0m:\u001b[36m112\u001b[0m - \u001b[1m[['C1025', 'C113', 'C1181', 'C124', 'C196', 'C238', 'C239', 'C273', 'C284', 'C338', 'C341', 'C365', 'C410', 'C55', 'C584', 'C617', 'C637', 'C661', 'C676', 'C697', 'C701', 'C73', 'C850', 'C935'], ['C167', 'C509', 'C635', 'C737'], [], ['C100', 'C1024', 'C103', 'C1030', 'C104', 'C1044', 'C106', 'C1071', 'C1092', 'C1152', 'C1179', 'C119', 'C1210', 'C122', 'C125', 'C128', 'C1289', 'C1295', 'C1299', 'C13', 'C1431', 'C151', 'C158', 'C1584', 'C16', 'C160', 'C161', 'C1617', 'C165', 'C168', 'C176', 'C177', 'C179', 'C182', 'C194', 'C21', 'C222', 'C224', 'C225', 'C226', 'C229', 'C234', 'C237', 'C243', 'C245', 'C246', 'C251', 'C255', 'C258', 'C26', 'C264', 'C27', 'C276', 'C285', 'C298', 'C299', 'C300', 'C301', 'C305', 'C31', 'C312', 'C313', 'C316', 'C323', 'C327', 'C335', 'C34', 'C372', 'C375', 'C4', 'C429', 'C431', 'C439', 'C446', 'C447', 'C451', 'C453', 'C455', 'C459', 'C46', 'C460', 'C464', 'C470', 'C473', 'C477', 'C478', 'C482', 'C489', 'C494', 'C495', 'C500', 'C514', 'C52', 'C531', 'C534', 'C535', 'C542', 'C543', 'C551', 'C552', 'C557', 'C558', 'C56', 'C599', 'C600', 'C611', 'C649', 'C651', 'C664', 'C67', 'C68', 'C683', 'C698', 'C703', 'C707', 'C729', 'C730', 'C75', 'C759', 'C76', 'C768', 'C799', 'C80', 'C841', 'C851', 'C855', 'C87', 'C89', 'C922', 'C937', 'C940', 'C95', 'C998'], ['C1135', 'C1188', 'C1850', 'C213', 'C23', 'C37', 'C42', 'C461', 'C469', 'C50', 'C513', 'C521', 'C738', 'C98', 'C984'], ['C1043', 'C11', 'C1183', 'C1194', 'C1220', 'C1258', 'C1307', 'C138', 'C139', 'C140', 'C142', 'C149', 'C152', 'C156', 'C1707', 'C1774', 'C1779', 'C185', 'C189', 'C190', 'C200', 'C207', 'C214', 'C216', 'C217', 'C223', 'C240', 'C260', 'C268', 'C269', 'C271', 'C275', 'C279', 'C289', 'C302', 'C311', 'C322', 'C328', 'C344', 'C361', 'C382', 'C385', 'C43', 'C437', 'C443', 'C448', 'C472', 'C475', 'C481', 'C525', 'C545', 'C595', 'C597', 'C633', 'C640', 'C644', 'C653', 'C660', 'C667', 'C686', 'C691', 'C693', 'C700', 'C747', 'C750', 'C853', 'C874', 'C961'], ['C105', 'C126', 'C1447', 'C22', 'C381'], [], ['C143', 'C236', 'C32', 'C44', 'C479', 'C82'], ['C1259', 'C19', 'C249', 'C352', 'C379', 'C502', 'C734']]\u001b[0m\n",
      "\u001b[32m2023-08-11 19:37:44.644\u001b[0m | \u001b[1mINFO    \u001b[0m | \u001b[36msrc.co2_modells\u001b[0m:\u001b[36mco2_modell\u001b[0m:\u001b[36m113\u001b[0m - \u001b[1mT4\u001b[0m\n"
     ]
    },
    {
     "name": "stdout",
     "output_type": "stream",
     "text": [
      "(43, 12)\n",
      "(93, 16)\n"
     ]
    },
    {
     "name": "stderr",
     "output_type": "stream",
     "text": [
      "C:\\Users\\marle\\AppData\\Local\\Temp\\ipykernel_26916\\3509140279.py:16: FutureWarning: The frame.append method is deprecated and will be removed from pandas in a future version. Use pandas.concat instead.\n",
      "  df_results = df_results.append(dict_results, ignore_index=True)\n",
      "\u001b[32m2023-08-11 19:37:52.822\u001b[0m | \u001b[1mINFO    \u001b[0m | \u001b[36msrc.co2_modells\u001b[0m:\u001b[36mpreprocessing_modelling\u001b[0m:\u001b[36m38\u001b[0m - \u001b[1mnan\u001b[0m\n",
      "C:\\Users\\marle\\OneDrive - tbs-education\\00_Masterarbeit\\Code\\notebooks\\..\\src\\co2_modells.py:29: SettingWithCopyWarning: \n",
      "A value is trying to be set on a copy of a slice from a DataFrame.\n",
      "Try using .loc[row_indexer,col_indexer] = value instead\n",
      "\n",
      "See the caveats in the documentation: https://pandas.pydata.org/pandas-docs/stable/user_guide/indexing.html#returning-a-view-versus-a-copy\n",
      "  df[\"Sender weight (kg)\"] = df[\"Sender weight (kg)\"]*volume\n",
      "\u001b[32m2023-08-11 19:37:52.837\u001b[0m | \u001b[1mINFO    \u001b[0m | \u001b[36msrc.co2_modells\u001b[0m:\u001b[36mpreprocessing_modelling\u001b[0m:\u001b[36m38\u001b[0m - \u001b[1m966.49\u001b[0m\n",
      "\u001b[32m2023-08-11 19:37:52.870\u001b[0m | \u001b[1mINFO    \u001b[0m | \u001b[36msrc.co2_modells\u001b[0m:\u001b[36mco2_modell\u001b[0m:\u001b[36m71\u001b[0m - \u001b[1m2.9781538461538464\u001b[0m\n"
     ]
    },
    {
     "name": "stdout",
     "output_type": "stream",
     "text": [
      "Total processing time: 5.140625\n",
      "(0, 10)\n",
      "No deliveries from 2022-01-15 to 2022-01-16\n",
      "(269, 7)\n"
     ]
    },
    {
     "name": "stderr",
     "output_type": "stream",
     "text": [
      "C:\\Users\\marle\\OneDrive - tbs-education\\00_Masterarbeit\\Code\\notebooks\\..\\src\\create_solution.py:77: FutureWarning: Dropping of nuisance columns in DataFrame reductions (with 'numeric_only=None') is deprecated; in a future version this will raise TypeError.  Select only valid columns before calling the reduction.\n",
      "  distances['Dmin'] = distances.min(axis=1)\n",
      "\u001b[32m2023-08-11 19:37:54.045\u001b[0m | \u001b[1mINFO    \u001b[0m | \u001b[36msrc.co2_modells\u001b[0m:\u001b[36mco2_modell\u001b[0m:\u001b[36m112\u001b[0m - \u001b[1m[['C1025', 'C113', 'C124', 'C196', 'C238', 'C273', 'C284', 'C353', 'C365', 'C369', 'C55', 'C637', 'C661', 'C694', 'C701', 'C77', 'C867', 'C883', 'C935'], ['C167', 'C24', 'C488', 'C497', 'C508', 'C509', 'C63', 'C635', 'C72', 'C737'], ['C38'], ['C100', 'C102', 'C1024', 'C103', 'C104', 'C1044', 'C106', 'C1071', 'C109', 'C1152', 'C1179', 'C119', 'C122', 'C1223', 'C125', 'C128', 'C13', 'C1367', 'C1427', 'C1431', 'C151', 'C158', 'C16', 'C160', 'C161', 'C165', 'C168', 'C176', 'C177', 'C182', 'C187', 'C194', 'C20', 'C203', 'C21', 'C212', 'C220', 'C222', 'C224', 'C225', 'C226', 'C233', 'C234', 'C237', 'C241', 'C242', 'C243', 'C246', 'C250', 'C251', 'C255', 'C258', 'C264', 'C27', 'C274', 'C276', 'C286', 'C292', 'C298', 'C299', 'C300', 'C301', 'C303', 'C305', 'C31', 'C312', 'C313', 'C316', 'C321', 'C323', 'C327', 'C335', 'C34', 'C36', 'C366', 'C372', 'C375', 'C431', 'C439', 'C441', 'C446', 'C453', 'C455', 'C459', 'C460', 'C464', 'C470', 'C477', 'C478', 'C487', 'C489', 'C494', 'C495', 'C510', 'C514', 'C517', 'C52', 'C531', 'C535', 'C542', 'C543', 'C547', 'C549', 'C551', 'C554', 'C557', 'C558', 'C56', 'C599', 'C600', 'C609', 'C627', 'C628', 'C64', 'C649', 'C656', 'C67', 'C68', 'C702', 'C703', 'C707', 'C713', 'C729', 'C76', 'C768', 'C841', 'C851', 'C855', 'C89', 'C922', 'C93', 'C937', 'C939', 'C94', 'C940', 'C95', 'C998'], ['C1066', 'C1135', 'C15', 'C213', 'C23', 'C25', 'C304', 'C347', 'C37', 'C42', 'C461', 'C469', 'C511', 'C513', 'C761', 'C794', 'C835', 'C98'], ['C1043', 'C11', 'C1194', 'C1220', 'C1258', 'C1307', 'C140', 'C142', 'C1440', 'C149', 'C152', 'C156', 'C185', 'C189', 'C190', 'C198', 'C200', 'C223', 'C240', 'C260', 'C269', 'C270', 'C271', 'C275', 'C279', 'C289', 'C290', 'C296', 'C302', 'C309', 'C361', 'C377', 'C382', 'C385', 'C415', 'C43', 'C430', 'C437', 'C443', 'C448', 'C472', 'C475', 'C481', 'C528', 'C595', 'C613', 'C633', 'C640', 'C653', 'C660', 'C667', 'C700', 'C745', 'C747', 'C836', 'C853', 'C874', 'C961'], ['C105', 'C126', 'C1447', 'C201', 'C22', 'C248', 'C381', 'C404', 'C601'], [], ['C143', 'C236', 'C32', 'C44', 'C479', 'C817', 'C82'], ['C1062', 'C1096', 'C1259', 'C19', 'C235', 'C277', 'C352', 'C41', 'C502', 'C734']]\u001b[0m\n",
      "\u001b[32m2023-08-11 19:37:54.049\u001b[0m | \u001b[1mINFO    \u001b[0m | \u001b[36msrc.co2_modells\u001b[0m:\u001b[36mco2_modell\u001b[0m:\u001b[36m113\u001b[0m - \u001b[1mT4\u001b[0m\n"
     ]
    },
    {
     "name": "stdout",
     "output_type": "stream",
     "text": [
      "(43, 12)\n",
      "(92, 16)\n"
     ]
    },
    {
     "name": "stderr",
     "output_type": "stream",
     "text": [
      "C:\\Users\\marle\\AppData\\Local\\Temp\\ipykernel_26916\\3509140279.py:16: FutureWarning: The frame.append method is deprecated and will be removed from pandas in a future version. Use pandas.concat instead.\n",
      "  df_results = df_results.append(dict_results, ignore_index=True)\n",
      "C:\\Users\\marle\\OneDrive - tbs-education\\00_Masterarbeit\\Code\\notebooks\\..\\src\\co2_modells.py:29: SettingWithCopyWarning: \n",
      "A value is trying to be set on a copy of a slice from a DataFrame.\n",
      "Try using .loc[row_indexer,col_indexer] = value instead\n",
      "\n",
      "See the caveats in the documentation: https://pandas.pydata.org/pandas-docs/stable/user_guide/indexing.html#returning-a-view-versus-a-copy\n",
      "  df[\"Sender weight (kg)\"] = df[\"Sender weight (kg)\"]*volume\n",
      "\u001b[32m2023-08-11 19:38:03.321\u001b[0m | \u001b[1mINFO    \u001b[0m | \u001b[36msrc.co2_modells\u001b[0m:\u001b[36mpreprocessing_modelling\u001b[0m:\u001b[36m38\u001b[0m - \u001b[1m590.24\u001b[0m\n",
      "\u001b[32m2023-08-11 19:38:03.352\u001b[0m | \u001b[1mINFO    \u001b[0m | \u001b[36msrc.co2_modells\u001b[0m:\u001b[36mco2_modell\u001b[0m:\u001b[36m71\u001b[0m - \u001b[1m2.175307692307692\u001b[0m\n"
     ]
    },
    {
     "name": "stdout",
     "output_type": "stream",
     "text": [
      "Total processing time: 5.71875\n",
      "(247, 7)\n"
     ]
    },
    {
     "name": "stderr",
     "output_type": "stream",
     "text": [
      "C:\\Users\\marle\\OneDrive - tbs-education\\00_Masterarbeit\\Code\\notebooks\\..\\src\\create_solution.py:77: FutureWarning: Dropping of nuisance columns in DataFrame reductions (with 'numeric_only=None') is deprecated; in a future version this will raise TypeError.  Select only valid columns before calling the reduction.\n",
      "  distances['Dmin'] = distances.min(axis=1)\n",
      "\u001b[32m2023-08-11 19:38:04.463\u001b[0m | \u001b[1mINFO    \u001b[0m | \u001b[36msrc.co2_modells\u001b[0m:\u001b[36mco2_modell\u001b[0m:\u001b[36m112\u001b[0m - \u001b[1m[['C1017', 'C113', 'C124', 'C196', 'C238', 'C239', 'C273', 'C284', 'C338', 'C365', 'C369', 'C425', 'C498', 'C55', 'C565', 'C584', 'C661', 'C697', 'C701', 'C77', 'C778', 'C847', 'C883'], ['C1476', 'C167', 'C33', 'C462', 'C497', 'C508', 'C509', 'C673', 'C737'], [], ['C102', 'C103', 'C1030', 'C104', 'C1044', 'C1071', 'C109', 'C119', 'C125', 'C129', 'C13', 'C1365', 'C1386', 'C1477', 'C151', 'C158', 'C16', 'C160', 'C161', 'C165', 'C168', 'C177', 'C179', 'C182', 'C187', 'C194', 'C20', 'C203', 'C21', 'C212', 'C220', 'C222', 'C224', 'C226', 'C234', 'C241', 'C244', 'C245', 'C246', 'C251', 'C255', 'C258', 'C264', 'C27', 'C274', 'C276', 'C286', 'C298', 'C300', 'C301', 'C305', 'C31', 'C313', 'C316', 'C321', 'C323', 'C327', 'C34', 'C349', 'C357', 'C375', 'C431', 'C439', 'C441', 'C446', 'C453', 'C455', 'C459', 'C46', 'C460', 'C464', 'C470', 'C473', 'C494', 'C495', 'C500', 'C514', 'C517', 'C52', 'C529', 'C534', 'C535', 'C538', 'C543', 'C547', 'C549', 'C551', 'C554', 'C557', 'C558', 'C572', 'C603', 'C609', 'C627', 'C628', 'C64', 'C649', 'C651', 'C664', 'C665', 'C67', 'C68', 'C683', 'C696', 'C698', 'C703', 'C707', 'C713', 'C725', 'C726', 'C729', 'C730', 'C746', 'C75', 'C759', 'C76', 'C768', 'C851', 'C922', 'C93', 'C94', 'C95', 'C998'], ['C1059', 'C1066', 'C1188', 'C1214', 'C15', 'C1563', 'C213', 'C23', 'C304', 'C37', 'C469', 'C485', 'C50', 'C511', 'C521', 'C682', 'C742', 'C835', 'C984'], ['C1031', 'C11', 'C1183', 'C1194', 'C1307', 'C139', 'C140', 'C142', 'C149', 'C1509', 'C152', 'C156', 'C185', 'C189', 'C190', 'C198', 'C200', 'C214', 'C216', 'C219', 'C240', 'C260', 'C268', 'C269', 'C270', 'C271', 'C275', 'C279', 'C289', 'C290', 'C302', 'C382', 'C385', 'C415', 'C43', 'C437', 'C443', 'C448', 'C475', 'C481', 'C528', 'C613', 'C640', 'C644', 'C660', 'C667', 'C693', 'C747', 'C750', 'C853', 'C871'], ['C105', 'C126', 'C22', 'C248', 'C381', 'C503'], [], ['C143', 'C1486', 'C236', 'C32', 'C44', 'C479', 'C82'], ['C1096', 'C1259', 'C1498', 'C19', 'C235', 'C249', 'C352', 'C379', 'C41']]\u001b[0m\n",
      "\u001b[32m2023-08-11 19:38:04.463\u001b[0m | \u001b[1mINFO    \u001b[0m | \u001b[36msrc.co2_modells\u001b[0m:\u001b[36mco2_modell\u001b[0m:\u001b[36m113\u001b[0m - \u001b[1mT4\u001b[0m\n"
     ]
    },
    {
     "name": "stdout",
     "output_type": "stream",
     "text": [
      "(43, 12)\n",
      "(82, 16)\n"
     ]
    },
    {
     "name": "stderr",
     "output_type": "stream",
     "text": [
      "C:\\Users\\marle\\AppData\\Local\\Temp\\ipykernel_26916\\3509140279.py:16: FutureWarning: The frame.append method is deprecated and will be removed from pandas in a future version. Use pandas.concat instead.\n",
      "  df_results = df_results.append(dict_results, ignore_index=True)\n",
      "C:\\Users\\marle\\OneDrive - tbs-education\\00_Masterarbeit\\Code\\notebooks\\..\\src\\co2_modells.py:29: SettingWithCopyWarning: \n",
      "A value is trying to be set on a copy of a slice from a DataFrame.\n",
      "Try using .loc[row_indexer,col_indexer] = value instead\n",
      "\n",
      "See the caveats in the documentation: https://pandas.pydata.org/pandas-docs/stable/user_guide/indexing.html#returning-a-view-versus-a-copy\n",
      "  df[\"Sender weight (kg)\"] = df[\"Sender weight (kg)\"]*volume\n",
      "\u001b[32m2023-08-11 19:38:12.735\u001b[0m | \u001b[1mINFO    \u001b[0m | \u001b[36msrc.co2_modells\u001b[0m:\u001b[36mpreprocessing_modelling\u001b[0m:\u001b[36m38\u001b[0m - \u001b[1m952.98\u001b[0m\n",
      "\u001b[32m2023-08-11 19:38:12.735\u001b[0m | \u001b[1mINFO    \u001b[0m | \u001b[36msrc.co2_modells\u001b[0m:\u001b[36mco2_modell\u001b[0m:\u001b[36m71\u001b[0m - \u001b[1m3.161153846153846\u001b[0m\n"
     ]
    },
    {
     "name": "stdout",
     "output_type": "stream",
     "text": [
      "Total processing time: 5.859375\n",
      "(257, 7)\n"
     ]
    },
    {
     "name": "stderr",
     "output_type": "stream",
     "text": [
      "C:\\Users\\marle\\OneDrive - tbs-education\\00_Masterarbeit\\Code\\notebooks\\..\\src\\create_solution.py:77: FutureWarning: Dropping of nuisance columns in DataFrame reductions (with 'numeric_only=None') is deprecated; in a future version this will raise TypeError.  Select only valid columns before calling the reduction.\n",
      "  distances['Dmin'] = distances.min(axis=1)\n",
      "\u001b[32m2023-08-11 19:38:13.840\u001b[0m | \u001b[1mINFO    \u001b[0m | \u001b[36msrc.co2_modells\u001b[0m:\u001b[36mco2_modell\u001b[0m:\u001b[36m112\u001b[0m - \u001b[1m[['C113', 'C196', 'C238', 'C239', 'C284', 'C338', 'C353', 'C365', 'C369', 'C498', 'C55', 'C584', 'C617', 'C661', 'C676', 'C697', 'C701', 'C77', 'C778', 'C847', 'C883'], ['C167', 'C24', 'C462', 'C508', 'C509', 'C635', 'C737', 'C755'], [], ['C100', 'C103', 'C1030', 'C1034', 'C106', 'C1071', 'C109', 'C1092', 'C1101', 'C1126', 'C1131', 'C1161', 'C1179', 'C119', 'C122', 'C1223', 'C125', 'C128', 'C129', 'C13', 'C1427', 'C151', 'C1584', 'C1595', 'C16', 'C160', 'C1609', 'C161', 'C1610', 'C1613', 'C1617', 'C164', 'C1641', 'C165', 'C1650', 'C168', 'C176', 'C177', 'C187', 'C194', 'C20', 'C21', 'C222', 'C224', 'C225', 'C227', 'C229', 'C234', 'C242', 'C243', 'C244', 'C246', 'C255', 'C258', 'C26', 'C27', 'C276', 'C298', 'C300', 'C301', 'C305', 'C31', 'C312', 'C316', 'C321', 'C327', 'C34', 'C372', 'C375', 'C392', 'C4', 'C427', 'C429', 'C431', 'C432', 'C446', 'C447', 'C453', 'C455', 'C459', 'C460', 'C464', 'C470', 'C471', 'C473', 'C477', 'C491', 'C494', 'C495', 'C500', 'C512', 'C514', 'C517', 'C52', 'C529', 'C531', 'C535', 'C538', 'C542', 'C543', 'C549', 'C551', 'C554', 'C557', 'C558', 'C56', 'C599', 'C625', 'C649', 'C656', 'C663', 'C665', 'C67', 'C68', 'C683', 'C696', 'C698', 'C702', 'C707', 'C713', 'C729', 'C730', 'C741', 'C743', 'C744', 'C759', 'C76', 'C768', 'C798', 'C84', 'C851', 'C855', 'C882', 'C89', 'C922', 'C93', 'C937', 'C94', 'C95', 'C986'], ['C1066', 'C1135', 'C15', 'C213', 'C23', 'C37', 'C42', 'C469', 'C511', 'C513', 'C682', 'C742', 'C98', 'C984'], ['C1043', 'C1048', 'C1183', 'C138', 'C139', 'C140', 'C142', 'C149', 'C155', 'C156', 'C185', 'C189', 'C190', 'C198', 'C200', 'C216', 'C240', 'C260', 'C268', 'C269', 'C270', 'C271', 'C275', 'C279', 'C290', 'C309', 'C322', 'C328', 'C344', 'C361', 'C382', 'C385', 'C415', 'C437', 'C443', 'C448', 'C475', 'C481', 'C595', 'C633', 'C640', 'C644', 'C653', 'C660', 'C686', 'C690', 'C693', 'C747', 'C750', 'C853', 'C907', 'C961', 'C991'], ['C105', 'C1447', 'C22', 'C248', 'C381'], [], ['C236', 'C32', 'C44', 'C479', 'C82'], ['C1062', 'C1096', 'C19', 'C235', 'C249', 'C277', 'C352', 'C379', 'C41', 'C502', 'C734']]\u001b[0m\n",
      "\u001b[32m2023-08-11 19:38:13.840\u001b[0m | \u001b[1mINFO    \u001b[0m | \u001b[36msrc.co2_modells\u001b[0m:\u001b[36mco2_modell\u001b[0m:\u001b[36m113\u001b[0m - \u001b[1mT4\u001b[0m\n"
     ]
    },
    {
     "name": "stdout",
     "output_type": "stream",
     "text": [
      "(44, 12)\n",
      "(89, 16)\n"
     ]
    },
    {
     "name": "stderr",
     "output_type": "stream",
     "text": [
      "C:\\Users\\marle\\AppData\\Local\\Temp\\ipykernel_26916\\3509140279.py:16: FutureWarning: The frame.append method is deprecated and will be removed from pandas in a future version. Use pandas.concat instead.\n",
      "  df_results = df_results.append(dict_results, ignore_index=True)\n",
      "C:\\Users\\marle\\OneDrive - tbs-education\\00_Masterarbeit\\Code\\notebooks\\..\\src\\co2_modells.py:29: SettingWithCopyWarning: \n",
      "A value is trying to be set on a copy of a slice from a DataFrame.\n",
      "Try using .loc[row_indexer,col_indexer] = value instead\n",
      "\n",
      "See the caveats in the documentation: https://pandas.pydata.org/pandas-docs/stable/user_guide/indexing.html#returning-a-view-versus-a-copy\n",
      "  df[\"Sender weight (kg)\"] = df[\"Sender weight (kg)\"]*volume\n",
      "\u001b[32m2023-08-11 19:38:22.081\u001b[0m | \u001b[1mINFO    \u001b[0m | \u001b[36msrc.co2_modells\u001b[0m:\u001b[36mpreprocessing_modelling\u001b[0m:\u001b[36m38\u001b[0m - \u001b[1m963.75\u001b[0m\n",
      "\u001b[32m2023-08-11 19:38:22.114\u001b[0m | \u001b[1mINFO    \u001b[0m | \u001b[36msrc.co2_modells\u001b[0m:\u001b[36mco2_modell\u001b[0m:\u001b[36m71\u001b[0m - \u001b[1m3.948923076923077\u001b[0m\n"
     ]
    },
    {
     "name": "stdout",
     "output_type": "stream",
     "text": [
      "Total processing time: 5.859375\n",
      "(310, 7)\n"
     ]
    },
    {
     "name": "stderr",
     "output_type": "stream",
     "text": [
      "C:\\Users\\marle\\OneDrive - tbs-education\\00_Masterarbeit\\Code\\notebooks\\..\\src\\create_solution.py:77: FutureWarning: Dropping of nuisance columns in DataFrame reductions (with 'numeric_only=None') is deprecated; in a future version this will raise TypeError.  Select only valid columns before calling the reduction.\n",
      "  distances['Dmin'] = distances.min(axis=1)\n",
      "\u001b[32m2023-08-11 19:38:23.248\u001b[0m | \u001b[1mINFO    \u001b[0m | \u001b[36msrc.co2_modells\u001b[0m:\u001b[36mco2_modell\u001b[0m:\u001b[36m112\u001b[0m - \u001b[1m[['C1017', 'C1025', 'C1049', 'C113', 'C124', 'C196', 'C238', 'C239', 'C273', 'C284', 'C338', 'C353', 'C365', 'C410', 'C425', 'C55', 'C584', 'C617', 'C637', 'C661', 'C676', 'C694', 'C697', 'C701', 'C73', 'C77', 'C826', 'C847', 'C850', 'C883', 'C935'], ['C167', 'C24', 'C33', 'C488', 'C497', 'C508', 'C509', 'C635', 'C673', 'C72', 'C737'], [], ['C100', 'C102', 'C1024', 'C103', 'C104', 'C1050', 'C106', 'C1071', 'C109', 'C1092', 'C1097', 'C1126', 'C1131', 'C1164', 'C122', 'C1223', 'C125', 'C129', 'C13', 'C1365', 'C1427', 'C1431', 'C151', 'C154', 'C158', 'C16', 'C160', 'C1609', 'C161', 'C1617', 'C165', 'C177', 'C179', 'C182', 'C187', 'C194', 'C21', 'C212', 'C220', 'C222', 'C224', 'C225', 'C226', 'C230', 'C234', 'C237', 'C241', 'C242', 'C243', 'C246', 'C251', 'C255', 'C258', 'C26', 'C264', 'C27', 'C276', 'C286', 'C292', 'C298', 'C299', 'C300', 'C301', 'C303', 'C305', 'C31', 'C312', 'C316', 'C323', 'C327', 'C335', 'C34', 'C349', 'C357', 'C36', 'C366', 'C372', 'C375', 'C39', 'C392', 'C4', 'C419', 'C420', 'C427', 'C432', 'C439', 'C447', 'C451', 'C453', 'C459', 'C460', 'C464', 'C470', 'C471', 'C473', 'C478', 'C489', 'C494', 'C495', 'C500', 'C512', 'C514', 'C52', 'C529', 'C535', 'C542', 'C543', 'C551', 'C554', 'C557', 'C558', 'C56', 'C572', 'C599', 'C60', 'C600', 'C628', 'C64', 'C649', 'C651', 'C656', 'C662', 'C663', 'C665', 'C67', 'C68', 'C680', 'C683', 'C703', 'C707', 'C713', 'C722', 'C730', 'C741', 'C744', 'C75', 'C759', 'C76', 'C768', 'C798', 'C810', 'C841', 'C851', 'C862', 'C863', 'C882', 'C922', 'C939', 'C94', 'C95', 'C971', 'C998'], ['C1066', 'C1135', 'C15', 'C1775', 'C213', 'C23', 'C25', 'C304', 'C37', 'C461', 'C469', 'C50', 'C511', 'C513', 'C521', 'C682', 'C738', 'C742', 'C794', 'C860', 'C98', 'C984'], ['C1043', 'C1048', 'C1183', 'C1220', 'C1244', 'C1312', 'C138', 'C139', 'C140', 'C142', 'C1440', 'C149', 'C152', 'C156', 'C1680', 'C1705', 'C1707', 'C1774', 'C1779', 'C185', 'C189', 'C198', 'C200', 'C216', 'C217', 'C240', 'C260', 'C268', 'C269', 'C270', 'C271', 'C275', 'C279', 'C289', 'C302', 'C309', 'C311', 'C320', 'C322', 'C344', 'C361', 'C382', 'C385', 'C415', 'C43', 'C430', 'C437', 'C448', 'C472', 'C474', 'C475', 'C481', 'C595', 'C613', 'C640', 'C644', 'C660', 'C667', 'C686', 'C690', 'C691', 'C700', 'C745', 'C747', 'C750', 'C874', 'C927', 'C991'], ['C105', 'C126', 'C1322', 'C22', 'C248', 'C381', 'C404', 'C503'], [], ['C1704', 'C236', 'C32', 'C44', 'C479', 'C817', 'C82'], ['C1259', 'C19', 'C272', 'C277', 'C278', 'C352', 'C379', 'C41', 'C502', 'C527', 'C734']]\u001b[0m\n",
      "\u001b[32m2023-08-11 19:38:23.248\u001b[0m | \u001b[1mINFO    \u001b[0m | \u001b[36msrc.co2_modells\u001b[0m:\u001b[36mco2_modell\u001b[0m:\u001b[36m113\u001b[0m - \u001b[1mT4\u001b[0m\n"
     ]
    },
    {
     "name": "stdout",
     "output_type": "stream",
     "text": [
      "(51, 12)\n",
      "(103, 16)\n"
     ]
    },
    {
     "name": "stderr",
     "output_type": "stream",
     "text": [
      "C:\\Users\\marle\\AppData\\Local\\Temp\\ipykernel_26916\\3509140279.py:16: FutureWarning: The frame.append method is deprecated and will be removed from pandas in a future version. Use pandas.concat instead.\n",
      "  df_results = df_results.append(dict_results, ignore_index=True)\n",
      "C:\\Users\\marle\\OneDrive - tbs-education\\00_Masterarbeit\\Code\\notebooks\\..\\src\\co2_modells.py:29: SettingWithCopyWarning: \n",
      "A value is trying to be set on a copy of a slice from a DataFrame.\n",
      "Try using .loc[row_indexer,col_indexer] = value instead\n",
      "\n",
      "See the caveats in the documentation: https://pandas.pydata.org/pandas-docs/stable/user_guide/indexing.html#returning-a-view-versus-a-copy\n",
      "  df[\"Sender weight (kg)\"] = df[\"Sender weight (kg)\"]*volume\n",
      "\u001b[32m2023-08-11 19:38:31.458\u001b[0m | \u001b[1mINFO    \u001b[0m | \u001b[36msrc.co2_modells\u001b[0m:\u001b[36mpreprocessing_modelling\u001b[0m:\u001b[36m38\u001b[0m - \u001b[1m780.0\u001b[0m\n",
      "\u001b[32m2023-08-11 19:38:31.490\u001b[0m | \u001b[1mINFO    \u001b[0m | \u001b[36msrc.co2_modells\u001b[0m:\u001b[36mco2_modell\u001b[0m:\u001b[36m71\u001b[0m - \u001b[1m2.6573076923076924\u001b[0m\n"
     ]
    },
    {
     "name": "stdout",
     "output_type": "stream",
     "text": [
      "Total processing time: 6.34375\n",
      "(262, 7)\n"
     ]
    },
    {
     "name": "stderr",
     "output_type": "stream",
     "text": [
      "C:\\Users\\marle\\OneDrive - tbs-education\\00_Masterarbeit\\Code\\notebooks\\..\\src\\create_solution.py:77: FutureWarning: Dropping of nuisance columns in DataFrame reductions (with 'numeric_only=None') is deprecated; in a future version this will raise TypeError.  Select only valid columns before calling the reduction.\n",
      "  distances['Dmin'] = distances.min(axis=1)\n",
      "\u001b[32m2023-08-11 19:38:32.602\u001b[0m | \u001b[1mINFO    \u001b[0m | \u001b[36msrc.co2_modells\u001b[0m:\u001b[36mco2_modell\u001b[0m:\u001b[36m112\u001b[0m - \u001b[1m[['C1025', 'C113', 'C1181', 'C124', 'C196', 'C238', 'C239', 'C273', 'C284', 'C338', 'C341', 'C365', 'C410', 'C55', 'C584', 'C617', 'C637', 'C661', 'C676', 'C697', 'C701', 'C73', 'C850', 'C935'], ['C167', 'C509', 'C635', 'C737'], [], ['C100', 'C1024', 'C103', 'C1030', 'C104', 'C1044', 'C106', 'C1071', 'C1092', 'C1152', 'C1179', 'C119', 'C1210', 'C122', 'C125', 'C128', 'C1289', 'C1295', 'C1299', 'C13', 'C1431', 'C151', 'C158', 'C1584', 'C16', 'C160', 'C161', 'C1617', 'C165', 'C168', 'C176', 'C177', 'C179', 'C182', 'C194', 'C21', 'C222', 'C224', 'C225', 'C226', 'C229', 'C234', 'C237', 'C243', 'C245', 'C246', 'C251', 'C255', 'C258', 'C26', 'C264', 'C27', 'C276', 'C285', 'C298', 'C299', 'C300', 'C301', 'C305', 'C31', 'C312', 'C313', 'C316', 'C323', 'C327', 'C335', 'C34', 'C372', 'C375', 'C4', 'C429', 'C431', 'C439', 'C446', 'C447', 'C451', 'C453', 'C455', 'C459', 'C46', 'C460', 'C464', 'C470', 'C473', 'C477', 'C478', 'C482', 'C489', 'C494', 'C495', 'C500', 'C514', 'C52', 'C531', 'C534', 'C535', 'C542', 'C543', 'C551', 'C552', 'C557', 'C558', 'C56', 'C599', 'C600', 'C611', 'C649', 'C651', 'C664', 'C67', 'C68', 'C683', 'C698', 'C703', 'C707', 'C729', 'C730', 'C75', 'C759', 'C76', 'C768', 'C799', 'C80', 'C841', 'C851', 'C855', 'C87', 'C89', 'C922', 'C937', 'C940', 'C95', 'C998'], ['C1135', 'C1188', 'C1850', 'C213', 'C23', 'C37', 'C42', 'C461', 'C469', 'C50', 'C513', 'C521', 'C738', 'C98', 'C984'], ['C1043', 'C11', 'C1183', 'C1194', 'C1220', 'C1258', 'C1307', 'C138', 'C139', 'C140', 'C142', 'C149', 'C152', 'C156', 'C1707', 'C1774', 'C1779', 'C185', 'C189', 'C190', 'C200', 'C207', 'C214', 'C216', 'C217', 'C223', 'C240', 'C260', 'C268', 'C269', 'C271', 'C275', 'C279', 'C289', 'C302', 'C311', 'C322', 'C328', 'C344', 'C361', 'C382', 'C385', 'C43', 'C437', 'C443', 'C448', 'C472', 'C475', 'C481', 'C525', 'C545', 'C595', 'C597', 'C633', 'C640', 'C644', 'C653', 'C660', 'C667', 'C686', 'C691', 'C693', 'C700', 'C747', 'C750', 'C853', 'C874', 'C961'], ['C105', 'C126', 'C1447', 'C22', 'C381'], [], ['C143', 'C236', 'C32', 'C44', 'C479', 'C82'], ['C1259', 'C19', 'C249', 'C352', 'C379', 'C502', 'C734']]\u001b[0m\n",
      "\u001b[32m2023-08-11 19:38:32.602\u001b[0m | \u001b[1mINFO    \u001b[0m | \u001b[36msrc.co2_modells\u001b[0m:\u001b[36mco2_modell\u001b[0m:\u001b[36m113\u001b[0m - \u001b[1mT4\u001b[0m\n"
     ]
    },
    {
     "name": "stdout",
     "output_type": "stream",
     "text": [
      "(43, 12)\n",
      "(93, 16)\n"
     ]
    },
    {
     "name": "stderr",
     "output_type": "stream",
     "text": [
      "C:\\Users\\marle\\AppData\\Local\\Temp\\ipykernel_26916\\3509140279.py:16: FutureWarning: The frame.append method is deprecated and will be removed from pandas in a future version. Use pandas.concat instead.\n",
      "  df_results = df_results.append(dict_results, ignore_index=True)\n",
      "\u001b[32m2023-08-11 19:38:40.826\u001b[0m | \u001b[1mINFO    \u001b[0m | \u001b[36msrc.co2_modells\u001b[0m:\u001b[36mpreprocessing_modelling\u001b[0m:\u001b[36m38\u001b[0m - \u001b[1mnan\u001b[0m\n",
      "C:\\Users\\marle\\OneDrive - tbs-education\\00_Masterarbeit\\Code\\notebooks\\..\\src\\co2_modells.py:29: SettingWithCopyWarning: \n",
      "A value is trying to be set on a copy of a slice from a DataFrame.\n",
      "Try using .loc[row_indexer,col_indexer] = value instead\n",
      "\n",
      "See the caveats in the documentation: https://pandas.pydata.org/pandas-docs/stable/user_guide/indexing.html#returning-a-view-versus-a-copy\n",
      "  df[\"Sender weight (kg)\"] = df[\"Sender weight (kg)\"]*volume\n",
      "\u001b[32m2023-08-11 19:38:40.857\u001b[0m | \u001b[1mINFO    \u001b[0m | \u001b[36msrc.co2_modells\u001b[0m:\u001b[36mpreprocessing_modelling\u001b[0m:\u001b[36m38\u001b[0m - \u001b[1m1932.98\u001b[0m\n",
      "\u001b[32m2023-08-11 19:38:40.889\u001b[0m | \u001b[1mINFO    \u001b[0m | \u001b[36msrc.co2_modells\u001b[0m:\u001b[36mco2_modell\u001b[0m:\u001b[36m71\u001b[0m - \u001b[1m5.967076923076923\u001b[0m\n"
     ]
    },
    {
     "name": "stdout",
     "output_type": "stream",
     "text": [
      "Total processing time: 5.734375\n",
      "(0, 10)\n",
      "No deliveries from 2022-01-15 to 2022-01-16\n",
      "(269, 7)\n"
     ]
    },
    {
     "name": "stderr",
     "output_type": "stream",
     "text": [
      "C:\\Users\\marle\\OneDrive - tbs-education\\00_Masterarbeit\\Code\\notebooks\\..\\src\\create_solution.py:77: FutureWarning: Dropping of nuisance columns in DataFrame reductions (with 'numeric_only=None') is deprecated; in a future version this will raise TypeError.  Select only valid columns before calling the reduction.\n",
      "  distances['Dmin'] = distances.min(axis=1)\n",
      "\u001b[32m2023-08-11 19:38:42.026\u001b[0m | \u001b[1mINFO    \u001b[0m | \u001b[36msrc.co2_modells\u001b[0m:\u001b[36mco2_modell\u001b[0m:\u001b[36m112\u001b[0m - \u001b[1m[['C1025', 'C113', 'C124', 'C196', 'C238', 'C273', 'C284', 'C353', 'C365', 'C369', 'C55', 'C637', 'C661', 'C694', 'C701', 'C77', 'C867', 'C883', 'C935'], ['C167', 'C24', 'C488', 'C497', 'C508', 'C509', 'C63', 'C635', 'C72', 'C737'], ['C38'], ['C100', 'C102', 'C1024', 'C103', 'C104', 'C1044', 'C106', 'C1071', 'C109', 'C1152', 'C1179', 'C119', 'C122', 'C1223', 'C125', 'C128', 'C13', 'C1367', 'C1427', 'C1431', 'C151', 'C158', 'C16', 'C160', 'C161', 'C165', 'C168', 'C176', 'C177', 'C182', 'C187', 'C194', 'C20', 'C203', 'C21', 'C212', 'C220', 'C222', 'C224', 'C225', 'C226', 'C233', 'C234', 'C237', 'C241', 'C242', 'C243', 'C246', 'C250', 'C251', 'C255', 'C258', 'C264', 'C27', 'C274', 'C276', 'C286', 'C292', 'C298', 'C299', 'C300', 'C301', 'C303', 'C305', 'C31', 'C312', 'C313', 'C316', 'C321', 'C323', 'C327', 'C335', 'C34', 'C36', 'C366', 'C372', 'C375', 'C431', 'C439', 'C441', 'C446', 'C453', 'C455', 'C459', 'C460', 'C464', 'C470', 'C477', 'C478', 'C487', 'C489', 'C494', 'C495', 'C510', 'C514', 'C517', 'C52', 'C531', 'C535', 'C542', 'C543', 'C547', 'C549', 'C551', 'C554', 'C557', 'C558', 'C56', 'C599', 'C600', 'C609', 'C627', 'C628', 'C64', 'C649', 'C656', 'C67', 'C68', 'C702', 'C703', 'C707', 'C713', 'C729', 'C76', 'C768', 'C841', 'C851', 'C855', 'C89', 'C922', 'C93', 'C937', 'C939', 'C94', 'C940', 'C95', 'C998'], ['C1066', 'C1135', 'C15', 'C213', 'C23', 'C25', 'C304', 'C347', 'C37', 'C42', 'C461', 'C469', 'C511', 'C513', 'C761', 'C794', 'C835', 'C98'], ['C1043', 'C11', 'C1194', 'C1220', 'C1258', 'C1307', 'C140', 'C142', 'C1440', 'C149', 'C152', 'C156', 'C185', 'C189', 'C190', 'C198', 'C200', 'C223', 'C240', 'C260', 'C269', 'C270', 'C271', 'C275', 'C279', 'C289', 'C290', 'C296', 'C302', 'C309', 'C361', 'C377', 'C382', 'C385', 'C415', 'C43', 'C430', 'C437', 'C443', 'C448', 'C472', 'C475', 'C481', 'C528', 'C595', 'C613', 'C633', 'C640', 'C653', 'C660', 'C667', 'C700', 'C745', 'C747', 'C836', 'C853', 'C874', 'C961'], ['C105', 'C126', 'C1447', 'C201', 'C22', 'C248', 'C381', 'C404', 'C601'], [], ['C143', 'C236', 'C32', 'C44', 'C479', 'C817', 'C82'], ['C1062', 'C1096', 'C1259', 'C19', 'C235', 'C277', 'C352', 'C41', 'C502', 'C734']]\u001b[0m\n",
      "\u001b[32m2023-08-11 19:38:42.026\u001b[0m | \u001b[1mINFO    \u001b[0m | \u001b[36msrc.co2_modells\u001b[0m:\u001b[36mco2_modell\u001b[0m:\u001b[36m113\u001b[0m - \u001b[1mT4\u001b[0m\n"
     ]
    },
    {
     "name": "stdout",
     "output_type": "stream",
     "text": [
      "(43, 12)\n",
      "(92, 16)\n"
     ]
    },
    {
     "name": "stderr",
     "output_type": "stream",
     "text": [
      "C:\\Users\\marle\\AppData\\Local\\Temp\\ipykernel_26916\\3509140279.py:16: FutureWarning: The frame.append method is deprecated and will be removed from pandas in a future version. Use pandas.concat instead.\n",
      "  df_results = df_results.append(dict_results, ignore_index=True)\n",
      "C:\\Users\\marle\\OneDrive - tbs-education\\00_Masterarbeit\\Code\\notebooks\\..\\src\\co2_modells.py:29: SettingWithCopyWarning: \n",
      "A value is trying to be set on a copy of a slice from a DataFrame.\n",
      "Try using .loc[row_indexer,col_indexer] = value instead\n",
      "\n",
      "See the caveats in the documentation: https://pandas.pydata.org/pandas-docs/stable/user_guide/indexing.html#returning-a-view-versus-a-copy\n",
      "  df[\"Sender weight (kg)\"] = df[\"Sender weight (kg)\"]*volume\n",
      "\u001b[32m2023-08-11 19:38:51.238\u001b[0m | \u001b[1mINFO    \u001b[0m | \u001b[36msrc.co2_modells\u001b[0m:\u001b[36mpreprocessing_modelling\u001b[0m:\u001b[36m38\u001b[0m - \u001b[1m1180.48\u001b[0m\n",
      "\u001b[32m2023-08-11 19:38:51.254\u001b[0m | \u001b[1mINFO    \u001b[0m | \u001b[36msrc.co2_modells\u001b[0m:\u001b[36mco2_modell\u001b[0m:\u001b[36m71\u001b[0m - \u001b[1m4.360230769230769\u001b[0m\n"
     ]
    },
    {
     "name": "stdout",
     "output_type": "stream",
     "text": [
      "Total processing time: 5.65625\n",
      "(247, 7)\n"
     ]
    },
    {
     "name": "stderr",
     "output_type": "stream",
     "text": [
      "C:\\Users\\marle\\OneDrive - tbs-education\\00_Masterarbeit\\Code\\notebooks\\..\\src\\create_solution.py:77: FutureWarning: Dropping of nuisance columns in DataFrame reductions (with 'numeric_only=None') is deprecated; in a future version this will raise TypeError.  Select only valid columns before calling the reduction.\n",
      "  distances['Dmin'] = distances.min(axis=1)\n",
      "\u001b[32m2023-08-11 19:38:52.362\u001b[0m | \u001b[1mINFO    \u001b[0m | \u001b[36msrc.co2_modells\u001b[0m:\u001b[36mco2_modell\u001b[0m:\u001b[36m112\u001b[0m - \u001b[1m[['C1017', 'C113', 'C124', 'C196', 'C238', 'C239', 'C273', 'C284', 'C338', 'C365', 'C369', 'C425', 'C498', 'C55', 'C565', 'C584', 'C661', 'C697', 'C701', 'C77', 'C778', 'C847', 'C883'], ['C1476', 'C167', 'C33', 'C462', 'C497', 'C508', 'C509', 'C673', 'C737'], [], ['C102', 'C103', 'C1030', 'C104', 'C1044', 'C1071', 'C109', 'C119', 'C125', 'C129', 'C13', 'C1365', 'C1386', 'C1477', 'C151', 'C158', 'C16', 'C160', 'C161', 'C165', 'C168', 'C177', 'C179', 'C182', 'C187', 'C194', 'C20', 'C203', 'C21', 'C212', 'C220', 'C222', 'C224', 'C226', 'C234', 'C241', 'C244', 'C245', 'C246', 'C251', 'C255', 'C258', 'C264', 'C27', 'C274', 'C276', 'C286', 'C298', 'C300', 'C301', 'C305', 'C31', 'C313', 'C316', 'C321', 'C323', 'C327', 'C34', 'C349', 'C357', 'C375', 'C431', 'C439', 'C441', 'C446', 'C453', 'C455', 'C459', 'C46', 'C460', 'C464', 'C470', 'C473', 'C494', 'C495', 'C500', 'C514', 'C517', 'C52', 'C529', 'C534', 'C535', 'C538', 'C543', 'C547', 'C549', 'C551', 'C554', 'C557', 'C558', 'C572', 'C603', 'C609', 'C627', 'C628', 'C64', 'C649', 'C651', 'C664', 'C665', 'C67', 'C68', 'C683', 'C696', 'C698', 'C703', 'C707', 'C713', 'C725', 'C726', 'C729', 'C730', 'C746', 'C75', 'C759', 'C76', 'C768', 'C851', 'C922', 'C93', 'C94', 'C95', 'C998'], ['C1059', 'C1066', 'C1188', 'C1214', 'C15', 'C1563', 'C213', 'C23', 'C304', 'C37', 'C469', 'C485', 'C50', 'C511', 'C521', 'C682', 'C742', 'C835', 'C984'], ['C1031', 'C11', 'C1183', 'C1194', 'C1307', 'C139', 'C140', 'C142', 'C149', 'C1509', 'C152', 'C156', 'C185', 'C189', 'C190', 'C198', 'C200', 'C214', 'C216', 'C219', 'C240', 'C260', 'C268', 'C269', 'C270', 'C271', 'C275', 'C279', 'C289', 'C290', 'C302', 'C382', 'C385', 'C415', 'C43', 'C437', 'C443', 'C448', 'C475', 'C481', 'C528', 'C613', 'C640', 'C644', 'C660', 'C667', 'C693', 'C747', 'C750', 'C853', 'C871'], ['C105', 'C126', 'C22', 'C248', 'C381', 'C503'], [], ['C143', 'C1486', 'C236', 'C32', 'C44', 'C479', 'C82'], ['C1096', 'C1259', 'C1498', 'C19', 'C235', 'C249', 'C352', 'C379', 'C41']]\u001b[0m\n",
      "\u001b[32m2023-08-11 19:38:52.378\u001b[0m | \u001b[1mINFO    \u001b[0m | \u001b[36msrc.co2_modells\u001b[0m:\u001b[36mco2_modell\u001b[0m:\u001b[36m113\u001b[0m - \u001b[1mT4\u001b[0m\n"
     ]
    },
    {
     "name": "stdout",
     "output_type": "stream",
     "text": [
      "(43, 12)\n",
      "(82, 16)\n"
     ]
    },
    {
     "name": "stderr",
     "output_type": "stream",
     "text": [
      "C:\\Users\\marle\\AppData\\Local\\Temp\\ipykernel_26916\\3509140279.py:16: FutureWarning: The frame.append method is deprecated and will be removed from pandas in a future version. Use pandas.concat instead.\n",
      "  df_results = df_results.append(dict_results, ignore_index=True)\n",
      "C:\\Users\\marle\\OneDrive - tbs-education\\00_Masterarbeit\\Code\\notebooks\\..\\src\\co2_modells.py:29: SettingWithCopyWarning: \n",
      "A value is trying to be set on a copy of a slice from a DataFrame.\n",
      "Try using .loc[row_indexer,col_indexer] = value instead\n",
      "\n",
      "See the caveats in the documentation: https://pandas.pydata.org/pandas-docs/stable/user_guide/indexing.html#returning-a-view-versus-a-copy\n",
      "  df[\"Sender weight (kg)\"] = df[\"Sender weight (kg)\"]*volume\n",
      "\u001b[32m2023-08-11 19:39:00.605\u001b[0m | \u001b[1mINFO    \u001b[0m | \u001b[36msrc.co2_modells\u001b[0m:\u001b[36mpreprocessing_modelling\u001b[0m:\u001b[36m38\u001b[0m - \u001b[1m1905.96\u001b[0m\n",
      "\u001b[32m2023-08-11 19:39:00.637\u001b[0m | \u001b[1mINFO    \u001b[0m | \u001b[36msrc.co2_modells\u001b[0m:\u001b[36mco2_modell\u001b[0m:\u001b[36m71\u001b[0m - \u001b[1m6.331615384615384\u001b[0m\n"
     ]
    },
    {
     "name": "stdout",
     "output_type": "stream",
     "text": [
      "Total processing time: 5.75\n",
      "(257, 7)\n"
     ]
    },
    {
     "name": "stderr",
     "output_type": "stream",
     "text": [
      "C:\\Users\\marle\\OneDrive - tbs-education\\00_Masterarbeit\\Code\\notebooks\\..\\src\\create_solution.py:77: FutureWarning: Dropping of nuisance columns in DataFrame reductions (with 'numeric_only=None') is deprecated; in a future version this will raise TypeError.  Select only valid columns before calling the reduction.\n",
      "  distances['Dmin'] = distances.min(axis=1)\n",
      "\u001b[32m2023-08-11 19:39:01.874\u001b[0m | \u001b[1mINFO    \u001b[0m | \u001b[36msrc.co2_modells\u001b[0m:\u001b[36mco2_modell\u001b[0m:\u001b[36m112\u001b[0m - \u001b[1m[['C113', 'C196', 'C238', 'C239', 'C284', 'C338', 'C353', 'C365', 'C369', 'C498', 'C55', 'C584', 'C617', 'C661', 'C676', 'C697', 'C701', 'C77', 'C778', 'C847', 'C883'], ['C167', 'C24', 'C462', 'C508', 'C509', 'C635', 'C737', 'C755'], [], ['C100', 'C103', 'C1030', 'C1034', 'C106', 'C1071', 'C109', 'C1092', 'C1101', 'C1126', 'C1131', 'C1161', 'C1179', 'C119', 'C122', 'C1223', 'C125', 'C128', 'C129', 'C13', 'C1427', 'C151', 'C1584', 'C1595', 'C16', 'C160', 'C1609', 'C161', 'C1610', 'C1613', 'C1617', 'C164', 'C1641', 'C165', 'C1650', 'C168', 'C176', 'C177', 'C187', 'C194', 'C20', 'C21', 'C222', 'C224', 'C225', 'C227', 'C229', 'C234', 'C242', 'C243', 'C244', 'C246', 'C255', 'C258', 'C26', 'C27', 'C276', 'C298', 'C300', 'C301', 'C305', 'C31', 'C312', 'C316', 'C321', 'C327', 'C34', 'C372', 'C375', 'C392', 'C4', 'C427', 'C429', 'C431', 'C432', 'C446', 'C447', 'C453', 'C455', 'C459', 'C460', 'C464', 'C470', 'C471', 'C473', 'C477', 'C491', 'C494', 'C495', 'C500', 'C512', 'C514', 'C517', 'C52', 'C529', 'C531', 'C535', 'C538', 'C542', 'C543', 'C549', 'C551', 'C554', 'C557', 'C558', 'C56', 'C599', 'C625', 'C649', 'C656', 'C663', 'C665', 'C67', 'C68', 'C683', 'C696', 'C698', 'C702', 'C707', 'C713', 'C729', 'C730', 'C741', 'C743', 'C744', 'C759', 'C76', 'C768', 'C798', 'C84', 'C851', 'C855', 'C882', 'C89', 'C922', 'C93', 'C937', 'C94', 'C95', 'C986'], ['C1066', 'C1135', 'C15', 'C213', 'C23', 'C37', 'C42', 'C469', 'C511', 'C513', 'C682', 'C742', 'C98', 'C984'], ['C1043', 'C1048', 'C1183', 'C138', 'C139', 'C140', 'C142', 'C149', 'C155', 'C156', 'C185', 'C189', 'C190', 'C198', 'C200', 'C216', 'C240', 'C260', 'C268', 'C269', 'C270', 'C271', 'C275', 'C279', 'C290', 'C309', 'C322', 'C328', 'C344', 'C361', 'C382', 'C385', 'C415', 'C437', 'C443', 'C448', 'C475', 'C481', 'C595', 'C633', 'C640', 'C644', 'C653', 'C660', 'C686', 'C690', 'C693', 'C747', 'C750', 'C853', 'C907', 'C961', 'C991'], ['C105', 'C1447', 'C22', 'C248', 'C381'], [], ['C236', 'C32', 'C44', 'C479', 'C82'], ['C1062', 'C1096', 'C19', 'C235', 'C249', 'C277', 'C352', 'C379', 'C41', 'C502', 'C734']]\u001b[0m\n",
      "\u001b[32m2023-08-11 19:39:01.874\u001b[0m | \u001b[1mINFO    \u001b[0m | \u001b[36msrc.co2_modells\u001b[0m:\u001b[36mco2_modell\u001b[0m:\u001b[36m113\u001b[0m - \u001b[1mT4\u001b[0m\n"
     ]
    },
    {
     "name": "stdout",
     "output_type": "stream",
     "text": [
      "(44, 12)\n",
      "(89, 16)\n"
     ]
    },
    {
     "name": "stderr",
     "output_type": "stream",
     "text": [
      "C:\\Users\\marle\\AppData\\Local\\Temp\\ipykernel_26916\\3509140279.py:16: FutureWarning: The frame.append method is deprecated and will be removed from pandas in a future version. Use pandas.concat instead.\n",
      "  df_results = df_results.append(dict_results, ignore_index=True)\n",
      "C:\\Users\\marle\\OneDrive - tbs-education\\00_Masterarbeit\\Code\\notebooks\\..\\src\\co2_modells.py:29: SettingWithCopyWarning: \n",
      "A value is trying to be set on a copy of a slice from a DataFrame.\n",
      "Try using .loc[row_indexer,col_indexer] = value instead\n",
      "\n",
      "See the caveats in the documentation: https://pandas.pydata.org/pandas-docs/stable/user_guide/indexing.html#returning-a-view-versus-a-copy\n",
      "  df[\"Sender weight (kg)\"] = df[\"Sender weight (kg)\"]*volume\n",
      "\u001b[32m2023-08-11 19:39:10.081\u001b[0m | \u001b[1mINFO    \u001b[0m | \u001b[36msrc.co2_modells\u001b[0m:\u001b[36mpreprocessing_modelling\u001b[0m:\u001b[36m38\u001b[0m - \u001b[1m1927.5\u001b[0m\n",
      "\u001b[32m2023-08-11 19:39:10.112\u001b[0m | \u001b[1mINFO    \u001b[0m | \u001b[36msrc.co2_modells\u001b[0m:\u001b[36mco2_modell\u001b[0m:\u001b[36m71\u001b[0m - \u001b[1m7.909153846153846\u001b[0m\n"
     ]
    },
    {
     "name": "stdout",
     "output_type": "stream",
     "text": [
      "Total processing time: 4.890625\n",
      "(310, 7)\n"
     ]
    },
    {
     "name": "stderr",
     "output_type": "stream",
     "text": [
      "C:\\Users\\marle\\OneDrive - tbs-education\\00_Masterarbeit\\Code\\notebooks\\..\\src\\create_solution.py:77: FutureWarning: Dropping of nuisance columns in DataFrame reductions (with 'numeric_only=None') is deprecated; in a future version this will raise TypeError.  Select only valid columns before calling the reduction.\n",
      "  distances['Dmin'] = distances.min(axis=1)\n",
      "\u001b[32m2023-08-11 19:39:11.285\u001b[0m | \u001b[1mINFO    \u001b[0m | \u001b[36msrc.co2_modells\u001b[0m:\u001b[36mco2_modell\u001b[0m:\u001b[36m112\u001b[0m - \u001b[1m[['C1017', 'C1025', 'C1049', 'C113', 'C124', 'C196', 'C238', 'C239', 'C273', 'C284', 'C338', 'C353', 'C365', 'C410', 'C425', 'C55', 'C584', 'C617', 'C637', 'C661', 'C676', 'C694', 'C697', 'C701', 'C73', 'C77', 'C826', 'C847', 'C850', 'C883', 'C935'], ['C167', 'C24', 'C33', 'C488', 'C497', 'C508', 'C509', 'C635', 'C673', 'C72', 'C737'], [], ['C100', 'C102', 'C1024', 'C103', 'C104', 'C1050', 'C106', 'C1071', 'C109', 'C1092', 'C1097', 'C1126', 'C1131', 'C1164', 'C122', 'C1223', 'C125', 'C129', 'C13', 'C1365', 'C1427', 'C1431', 'C151', 'C154', 'C158', 'C16', 'C160', 'C1609', 'C161', 'C1617', 'C165', 'C177', 'C179', 'C182', 'C187', 'C194', 'C21', 'C212', 'C220', 'C222', 'C224', 'C225', 'C226', 'C230', 'C234', 'C237', 'C241', 'C242', 'C243', 'C246', 'C251', 'C255', 'C258', 'C26', 'C264', 'C27', 'C276', 'C286', 'C292', 'C298', 'C299', 'C300', 'C301', 'C303', 'C305', 'C31', 'C312', 'C316', 'C323', 'C327', 'C335', 'C34', 'C349', 'C357', 'C36', 'C366', 'C372', 'C375', 'C39', 'C392', 'C4', 'C419', 'C420', 'C427', 'C432', 'C439', 'C447', 'C451', 'C453', 'C459', 'C460', 'C464', 'C470', 'C471', 'C473', 'C478', 'C489', 'C494', 'C495', 'C500', 'C512', 'C514', 'C52', 'C529', 'C535', 'C542', 'C543', 'C551', 'C554', 'C557', 'C558', 'C56', 'C572', 'C599', 'C60', 'C600', 'C628', 'C64', 'C649', 'C651', 'C656', 'C662', 'C663', 'C665', 'C67', 'C68', 'C680', 'C683', 'C703', 'C707', 'C713', 'C722', 'C730', 'C741', 'C744', 'C75', 'C759', 'C76', 'C768', 'C798', 'C810', 'C841', 'C851', 'C862', 'C863', 'C882', 'C922', 'C939', 'C94', 'C95', 'C971', 'C998'], ['C1066', 'C1135', 'C15', 'C1775', 'C213', 'C23', 'C25', 'C304', 'C37', 'C461', 'C469', 'C50', 'C511', 'C513', 'C521', 'C682', 'C738', 'C742', 'C794', 'C860', 'C98', 'C984'], ['C1043', 'C1048', 'C1183', 'C1220', 'C1244', 'C1312', 'C138', 'C139', 'C140', 'C142', 'C1440', 'C149', 'C152', 'C156', 'C1680', 'C1705', 'C1707', 'C1774', 'C1779', 'C185', 'C189', 'C198', 'C200', 'C216', 'C217', 'C240', 'C260', 'C268', 'C269', 'C270', 'C271', 'C275', 'C279', 'C289', 'C302', 'C309', 'C311', 'C320', 'C322', 'C344', 'C361', 'C382', 'C385', 'C415', 'C43', 'C430', 'C437', 'C448', 'C472', 'C474', 'C475', 'C481', 'C595', 'C613', 'C640', 'C644', 'C660', 'C667', 'C686', 'C690', 'C691', 'C700', 'C745', 'C747', 'C750', 'C874', 'C927', 'C991'], ['C105', 'C126', 'C1322', 'C22', 'C248', 'C381', 'C404', 'C503'], [], ['C1704', 'C236', 'C32', 'C44', 'C479', 'C817', 'C82'], ['C1259', 'C19', 'C272', 'C277', 'C278', 'C352', 'C379', 'C41', 'C502', 'C527', 'C734']]\u001b[0m\n",
      "\u001b[32m2023-08-11 19:39:11.285\u001b[0m | \u001b[1mINFO    \u001b[0m | \u001b[36msrc.co2_modells\u001b[0m:\u001b[36mco2_modell\u001b[0m:\u001b[36m113\u001b[0m - \u001b[1mT4\u001b[0m\n"
     ]
    },
    {
     "name": "stdout",
     "output_type": "stream",
     "text": [
      "(51, 12)\n",
      "(103, 16)\n"
     ]
    },
    {
     "name": "stderr",
     "output_type": "stream",
     "text": [
      "C:\\Users\\marle\\AppData\\Local\\Temp\\ipykernel_26916\\3509140279.py:16: FutureWarning: The frame.append method is deprecated and will be removed from pandas in a future version. Use pandas.concat instead.\n",
      "  df_results = df_results.append(dict_results, ignore_index=True)\n",
      "C:\\Users\\marle\\OneDrive - tbs-education\\00_Masterarbeit\\Code\\notebooks\\..\\src\\co2_modells.py:29: SettingWithCopyWarning: \n",
      "A value is trying to be set on a copy of a slice from a DataFrame.\n",
      "Try using .loc[row_indexer,col_indexer] = value instead\n",
      "\n",
      "See the caveats in the documentation: https://pandas.pydata.org/pandas-docs/stable/user_guide/indexing.html#returning-a-view-versus-a-copy\n",
      "  df[\"Sender weight (kg)\"] = df[\"Sender weight (kg)\"]*volume\n",
      "\u001b[32m2023-08-11 19:39:19.489\u001b[0m | \u001b[1mINFO    \u001b[0m | \u001b[36msrc.co2_modells\u001b[0m:\u001b[36mpreprocessing_modelling\u001b[0m:\u001b[36m38\u001b[0m - \u001b[1m1560.0\u001b[0m\n",
      "\u001b[32m2023-08-11 19:39:19.521\u001b[0m | \u001b[1mINFO    \u001b[0m | \u001b[36msrc.co2_modells\u001b[0m:\u001b[36mco2_modell\u001b[0m:\u001b[36m71\u001b[0m - \u001b[1m5.324692307692308\u001b[0m\n"
     ]
    },
    {
     "name": "stdout",
     "output_type": "stream",
     "text": [
      "Total processing time: 5.9375\n",
      "(262, 7)\n"
     ]
    },
    {
     "name": "stderr",
     "output_type": "stream",
     "text": [
      "C:\\Users\\marle\\OneDrive - tbs-education\\00_Masterarbeit\\Code\\notebooks\\..\\src\\create_solution.py:77: FutureWarning: Dropping of nuisance columns in DataFrame reductions (with 'numeric_only=None') is deprecated; in a future version this will raise TypeError.  Select only valid columns before calling the reduction.\n",
      "  distances['Dmin'] = distances.min(axis=1)\n",
      "\u001b[32m2023-08-11 19:39:20.653\u001b[0m | \u001b[1mINFO    \u001b[0m | \u001b[36msrc.co2_modells\u001b[0m:\u001b[36mco2_modell\u001b[0m:\u001b[36m112\u001b[0m - \u001b[1m[['C1025', 'C113', 'C1181', 'C124', 'C196', 'C238', 'C239', 'C273', 'C284', 'C338', 'C341', 'C365', 'C410', 'C55', 'C584', 'C617', 'C637', 'C661', 'C676', 'C697', 'C701', 'C73', 'C850', 'C935'], ['C167', 'C509', 'C635', 'C737'], [], ['C100', 'C1024', 'C103', 'C1030', 'C104', 'C1044', 'C106', 'C1071', 'C1092', 'C1152', 'C1179', 'C119', 'C1210', 'C122', 'C125', 'C128', 'C1289', 'C1295', 'C1299', 'C13', 'C1431', 'C151', 'C158', 'C1584', 'C16', 'C160', 'C161', 'C1617', 'C165', 'C168', 'C176', 'C177', 'C179', 'C182', 'C194', 'C21', 'C222', 'C224', 'C225', 'C226', 'C229', 'C234', 'C237', 'C243', 'C245', 'C246', 'C251', 'C255', 'C258', 'C26', 'C264', 'C27', 'C276', 'C285', 'C298', 'C299', 'C300', 'C301', 'C305', 'C31', 'C312', 'C313', 'C316', 'C323', 'C327', 'C335', 'C34', 'C372', 'C375', 'C4', 'C429', 'C431', 'C439', 'C446', 'C447', 'C451', 'C453', 'C455', 'C459', 'C46', 'C460', 'C464', 'C470', 'C473', 'C477', 'C478', 'C482', 'C489', 'C494', 'C495', 'C500', 'C514', 'C52', 'C531', 'C534', 'C535', 'C542', 'C543', 'C551', 'C552', 'C557', 'C558', 'C56', 'C599', 'C600', 'C611', 'C649', 'C651', 'C664', 'C67', 'C68', 'C683', 'C698', 'C703', 'C707', 'C729', 'C730', 'C75', 'C759', 'C76', 'C768', 'C799', 'C80', 'C841', 'C851', 'C855', 'C87', 'C89', 'C922', 'C937', 'C940', 'C95', 'C998'], ['C1135', 'C1188', 'C1850', 'C213', 'C23', 'C37', 'C42', 'C461', 'C469', 'C50', 'C513', 'C521', 'C738', 'C98', 'C984'], ['C1043', 'C11', 'C1183', 'C1194', 'C1220', 'C1258', 'C1307', 'C138', 'C139', 'C140', 'C142', 'C149', 'C152', 'C156', 'C1707', 'C1774', 'C1779', 'C185', 'C189', 'C190', 'C200', 'C207', 'C214', 'C216', 'C217', 'C223', 'C240', 'C260', 'C268', 'C269', 'C271', 'C275', 'C279', 'C289', 'C302', 'C311', 'C322', 'C328', 'C344', 'C361', 'C382', 'C385', 'C43', 'C437', 'C443', 'C448', 'C472', 'C475', 'C481', 'C525', 'C545', 'C595', 'C597', 'C633', 'C640', 'C644', 'C653', 'C660', 'C667', 'C686', 'C691', 'C693', 'C700', 'C747', 'C750', 'C853', 'C874', 'C961'], ['C105', 'C126', 'C1447', 'C22', 'C381'], [], ['C143', 'C236', 'C32', 'C44', 'C479', 'C82'], ['C1259', 'C19', 'C249', 'C352', 'C379', 'C502', 'C734']]\u001b[0m\n",
      "\u001b[32m2023-08-11 19:39:20.653\u001b[0m | \u001b[1mINFO    \u001b[0m | \u001b[36msrc.co2_modells\u001b[0m:\u001b[36mco2_modell\u001b[0m:\u001b[36m113\u001b[0m - \u001b[1mT4\u001b[0m\n"
     ]
    },
    {
     "name": "stdout",
     "output_type": "stream",
     "text": [
      "(43, 12)\n",
      "(93, 16)\n"
     ]
    },
    {
     "name": "stderr",
     "output_type": "stream",
     "text": [
      "C:\\Users\\marle\\AppData\\Local\\Temp\\ipykernel_26916\\3509140279.py:16: FutureWarning: The frame.append method is deprecated and will be removed from pandas in a future version. Use pandas.concat instead.\n",
      "  df_results = df_results.append(dict_results, ignore_index=True)\n",
      "\u001b[32m2023-08-11 19:39:28.903\u001b[0m | \u001b[1mINFO    \u001b[0m | \u001b[36msrc.co2_modells\u001b[0m:\u001b[36mpreprocessing_modelling\u001b[0m:\u001b[36m38\u001b[0m - \u001b[1mnan\u001b[0m\n"
     ]
    },
    {
     "name": "stdout",
     "output_type": "stream",
     "text": [
      "Total processing time: 6.0625\n",
      "(0, 10)\n",
      "No deliveries from 2022-01-15 to 2022-01-16\n"
     ]
    },
    {
     "data": {
      "text/html": [
       "<div>\n",
       "<style scoped>\n",
       "    .dataframe tbody tr th:only-of-type {\n",
       "        vertical-align: middle;\n",
       "    }\n",
       "\n",
       "    .dataframe tbody tr th {\n",
       "        vertical-align: top;\n",
       "    }\n",
       "\n",
       "    .dataframe thead th {\n",
       "        text-align: right;\n",
       "    }\n",
       "</style>\n",
       "<table border=\"1\" class=\"dataframe\">\n",
       "  <thead>\n",
       "    <tr style=\"text-align: right;\">\n",
       "      <th></th>\n",
       "      <th>date from</th>\n",
       "      <th>date to</th>\n",
       "      <th>co2 road</th>\n",
       "      <th>distance road</th>\n",
       "      <th>routes road</th>\n",
       "      <th>processing time road</th>\n",
       "      <th>co2 railroad</th>\n",
       "      <th>distance railroad</th>\n",
       "      <th>terminal allocation</th>\n",
       "      <th>routes railroad</th>\n",
       "      <th>processing time railroad</th>\n",
       "      <th>volume</th>\n",
       "    </tr>\n",
       "  </thead>\n",
       "  <tbody>\n",
       "    <tr>\n",
       "      <th>0</th>\n",
       "      <td>2022-01-10 10:25:00</td>\n",
       "      <td>2022-01-10 16:11:00</td>\n",
       "      <td>9316.189512</td>\n",
       "      <td>10674197</td>\n",
       "      <td>[[DC1, C768, C464, C453, C119, C547, C34, C27,...</td>\n",
       "      <td>0.531250</td>\n",
       "      <td>11719.009037</td>\n",
       "      <td>16735682.0</td>\n",
       "      <td>[[C1025, C113, C124, C196, C238, C273, C284, C...</td>\n",
       "      <td>{'T1': [['T1', 'C196', 'C55', 'C637', 'C883', ...</td>\n",
       "      <td>5.656250</td>\n",
       "      <td>1.0</td>\n",
       "    </tr>\n",
       "    <tr>\n",
       "      <th>1</th>\n",
       "      <td>2022-01-11 07:44:00</td>\n",
       "      <td>2022-01-11 17:24:00</td>\n",
       "      <td>8409.540363</td>\n",
       "      <td>9765212</td>\n",
       "      <td>[[DC1, C464, C500, C529, C119, C547, C34, C27,...</td>\n",
       "      <td>0.656250</td>\n",
       "      <td>9852.644849</td>\n",
       "      <td>14079797.0</td>\n",
       "      <td>[[C1017, C113, C124, C196, C238, C239, C273, C...</td>\n",
       "      <td>{'T1': [['T1', 'C124', 'C697', 'C113', 'C565',...</td>\n",
       "      <td>5.031250</td>\n",
       "      <td>1.0</td>\n",
       "    </tr>\n",
       "    <tr>\n",
       "      <th>2</th>\n",
       "      <td>2022-01-12 05:07:00</td>\n",
       "      <td>2022-01-12 16:11:00</td>\n",
       "      <td>10077.126761</td>\n",
       "      <td>11492696</td>\n",
       "      <td>[[DC1, C768, C464, C500, C529, C119, C599, C27...</td>\n",
       "      <td>0.531250</td>\n",
       "      <td>11066.451578</td>\n",
       "      <td>15422839.0</td>\n",
       "      <td>[[C113, C196, C238, C239, C284, C338, C353, C3...</td>\n",
       "      <td>{'T1': [['T1', 'C284', 'C238', 'C55', 'C883', ...</td>\n",
       "      <td>4.515625</td>\n",
       "      <td>1.0</td>\n",
       "    </tr>\n",
       "    <tr>\n",
       "      <th>3</th>\n",
       "      <td>2022-01-13 07:17:00</td>\n",
       "      <td>2022-01-13 16:40:00</td>\n",
       "      <td>9713.142073</td>\n",
       "      <td>10884029</td>\n",
       "      <td>[[DC1, C464, C500, C529, C451, C453, C1126, C7...</td>\n",
       "      <td>0.531250</td>\n",
       "      <td>12129.506064</td>\n",
       "      <td>16576825.0</td>\n",
       "      <td>[[C1017, C1025, C1049, C113, C124, C196, C238,...</td>\n",
       "      <td>{'T1': [['T1', 'C55', 'C196', 'C338', 'C637', ...</td>\n",
       "      <td>5.531250</td>\n",
       "      <td>1.0</td>\n",
       "    </tr>\n",
       "    <tr>\n",
       "      <th>4</th>\n",
       "      <td>2022-01-14 10:47:00</td>\n",
       "      <td>2022-01-14 15:34:00</td>\n",
       "      <td>9668.144891</td>\n",
       "      <td>11119586</td>\n",
       "      <td>[[DC1, C768, C464, C500, C453, C451, C119, C34...</td>\n",
       "      <td>0.562500</td>\n",
       "      <td>10901.546920</td>\n",
       "      <td>15285292.0</td>\n",
       "      <td>[[C1025, C113, C1181, C124, C196, C238, C239, ...</td>\n",
       "      <td>{'T1': [['T1', 'C935', 'C284', 'C238', 'C55', ...</td>\n",
       "      <td>4.578125</td>\n",
       "      <td>1.0</td>\n",
       "    </tr>\n",
       "    <tr>\n",
       "      <th>5</th>\n",
       "      <td>2022-01-10 10:25:00</td>\n",
       "      <td>2022-01-10 16:11:00</td>\n",
       "      <td>11181.676858</td>\n",
       "      <td>12227104</td>\n",
       "      <td>[[DC1, C1427, C143, C817, C44, C32, C479, C489...</td>\n",
       "      <td>0.656250</td>\n",
       "      <td>11957.439587</td>\n",
       "      <td>16443984.0</td>\n",
       "      <td>[[C1025, C113, C124, C196, C238, C273, C284, C...</td>\n",
       "      <td>{'T1': [['T1', 'C196', 'C55', 'C637', 'C883', ...</td>\n",
       "      <td>5.062500</td>\n",
       "      <td>5.0</td>\n",
       "    </tr>\n",
       "    <tr>\n",
       "      <th>6</th>\n",
       "      <td>2022-01-11 07:44:00</td>\n",
       "      <td>2022-01-11 17:24:00</td>\n",
       "      <td>10051.277277</td>\n",
       "      <td>11192240</td>\n",
       "      <td>[[DC1, C151, C558, C514, C31, C264, C922, C627...</td>\n",
       "      <td>0.750000</td>\n",
       "      <td>10679.260280</td>\n",
       "      <td>14428469.0</td>\n",
       "      <td>[[C1017, C113, C124, C196, C238, C239, C273, C...</td>\n",
       "      <td>{'T1': [['T1', 'C124', 'C697', 'C113', 'C565',...</td>\n",
       "      <td>5.109375</td>\n",
       "      <td>5.0</td>\n",
       "    </tr>\n",
       "    <tr>\n",
       "      <th>7</th>\n",
       "      <td>2022-01-12 05:07:00</td>\n",
       "      <td>2022-01-12 16:11:00</td>\n",
       "      <td>11706.509838</td>\n",
       "      <td>12917517</td>\n",
       "      <td>[[DC1, C119, C305, C321, C4, C554, C479, C32, ...</td>\n",
       "      <td>0.562500</td>\n",
       "      <td>11685.853197</td>\n",
       "      <td>15526207.0</td>\n",
       "      <td>[[C113, C196, C238, C239, C284, C338, C353, C3...</td>\n",
       "      <td>{'T1': [['T1', 'C284', 'C238', 'C55', 'C883', ...</td>\n",
       "      <td>5.296875</td>\n",
       "      <td>5.0</td>\n",
       "    </tr>\n",
       "    <tr>\n",
       "      <th>8</th>\n",
       "      <td>2022-01-13 07:17:00</td>\n",
       "      <td>2022-01-13 16:40:00</td>\n",
       "      <td>13174.434037</td>\n",
       "      <td>14359241</td>\n",
       "      <td>[[DC1, C1126, C4, C305, C512, C542, C165, C543...</td>\n",
       "      <td>0.890625</td>\n",
       "      <td>12433.972495</td>\n",
       "      <td>16237202.0</td>\n",
       "      <td>[[C1017, C1025, C1049, C113, C124, C196, C238,...</td>\n",
       "      <td>{'T1': [['T1', 'C55', 'C196', 'C338', 'C637', ...</td>\n",
       "      <td>5.453125</td>\n",
       "      <td>5.0</td>\n",
       "    </tr>\n",
       "    <tr>\n",
       "      <th>9</th>\n",
       "      <td>2022-01-14 10:47:00</td>\n",
       "      <td>2022-01-14 15:34:00</td>\n",
       "      <td>11783.741041</td>\n",
       "      <td>12933017</td>\n",
       "      <td>[[DC1, C453, C730, C478, C75, C176, C482, C855...</td>\n",
       "      <td>0.750000</td>\n",
       "      <td>11856.488035</td>\n",
       "      <td>15576176.0</td>\n",
       "      <td>[[C1025, C113, C1181, C124, C196, C238, C239, ...</td>\n",
       "      <td>{'T1': [['T1', 'C935', 'C284', 'C238', 'C55', ...</td>\n",
       "      <td>4.984375</td>\n",
       "      <td>5.0</td>\n",
       "    </tr>\n",
       "    <tr>\n",
       "      <th>10</th>\n",
       "      <td>2022-01-10 10:25:00</td>\n",
       "      <td>2022-01-10 16:11:00</td>\n",
       "      <td>13219.937561</td>\n",
       "      <td>14517490</td>\n",
       "      <td>[[DC1, C189, C667, C448, C747, C382, C1220, C1...</td>\n",
       "      <td>0.734375</td>\n",
       "      <td>13663.369776</td>\n",
       "      <td>18110957.0</td>\n",
       "      <td>[[C1025, C113, C124, C196, C238, C273, C284, C...</td>\n",
       "      <td>{'T1': [['T1', 'C196', 'C55', 'C637', 'C883', ...</td>\n",
       "      <td>4.921875</td>\n",
       "      <td>10.0</td>\n",
       "    </tr>\n",
       "    <tr>\n",
       "      <th>11</th>\n",
       "      <td>2022-01-11 07:44:00</td>\n",
       "      <td>2022-01-11 17:24:00</td>\n",
       "      <td>11184.488167</td>\n",
       "      <td>12214523</td>\n",
       "      <td>[[DC1, C160, C1030, C189, C667, C1194, C1183, ...</td>\n",
       "      <td>0.640625</td>\n",
       "      <td>11619.328424</td>\n",
       "      <td>15464770.0</td>\n",
       "      <td>[[C1017, C113, C124, C196, C238, C239, C273, C...</td>\n",
       "      <td>{'T1': [['T1', 'C124', 'C697', 'C113', 'C565',...</td>\n",
       "      <td>5.109375</td>\n",
       "      <td>10.0</td>\n",
       "    </tr>\n",
       "    <tr>\n",
       "      <th>12</th>\n",
       "      <td>2022-01-12 05:07:00</td>\n",
       "      <td>2022-01-12 16:11:00</td>\n",
       "      <td>14519.834213</td>\n",
       "      <td>15980771</td>\n",
       "      <td>[[DC1, C1650, C665, C24, C508, C851, C128, C19...</td>\n",
       "      <td>0.390625</td>\n",
       "      <td>13159.408301</td>\n",
       "      <td>17036015.0</td>\n",
       "      <td>[[C113, C196, C238, C239, C284, C338, C353, C3...</td>\n",
       "      <td>{'T1': [['T1', 'C284', 'C238', 'C55', 'C883', ...</td>\n",
       "      <td>4.500000</td>\n",
       "      <td>10.0</td>\n",
       "    </tr>\n",
       "    <tr>\n",
       "      <th>13</th>\n",
       "      <td>2022-01-13 07:17:00</td>\n",
       "      <td>2022-01-13 16:40:00</td>\n",
       "      <td>16152.927104</td>\n",
       "      <td>17613925</td>\n",
       "      <td>[[DC1, C298, C322, C309, C1707, C260, C289, C6...</td>\n",
       "      <td>0.765625</td>\n",
       "      <td>14813.477590</td>\n",
       "      <td>18569438.0</td>\n",
       "      <td>[[C1017, C1025, C1049, C113, C124, C196, C238,...</td>\n",
       "      <td>{'T1': [['T1', 'C55', 'C196', 'C338', 'C637', ...</td>\n",
       "      <td>5.171875</td>\n",
       "      <td>10.0</td>\n",
       "    </tr>\n",
       "    <tr>\n",
       "      <th>14</th>\n",
       "      <td>2022-01-14 10:47:00</td>\n",
       "      <td>2022-01-14 15:34:00</td>\n",
       "      <td>13964.715072</td>\n",
       "      <td>15335696</td>\n",
       "      <td>[[DC1, C453, C1289, C600, C531, C16, C698, C66...</td>\n",
       "      <td>0.703125</td>\n",
       "      <td>12931.262070</td>\n",
       "      <td>16775423.0</td>\n",
       "      <td>[[C1025, C113, C1181, C124, C196, C238, C239, ...</td>\n",
       "      <td>{'T1': [['T1', 'C935', 'C284', 'C238', 'C55', ...</td>\n",
       "      <td>5.359375</td>\n",
       "      <td>10.0</td>\n",
       "    </tr>\n",
       "  </tbody>\n",
       "</table>\n",
       "</div>"
      ],
      "text/plain": [
       "             date from             date to      co2 road distance road  \\\n",
       "0  2022-01-10 10:25:00 2022-01-10 16:11:00   9316.189512      10674197   \n",
       "1  2022-01-11 07:44:00 2022-01-11 17:24:00   8409.540363       9765212   \n",
       "2  2022-01-12 05:07:00 2022-01-12 16:11:00  10077.126761      11492696   \n",
       "3  2022-01-13 07:17:00 2022-01-13 16:40:00   9713.142073      10884029   \n",
       "4  2022-01-14 10:47:00 2022-01-14 15:34:00   9668.144891      11119586   \n",
       "5  2022-01-10 10:25:00 2022-01-10 16:11:00  11181.676858      12227104   \n",
       "6  2022-01-11 07:44:00 2022-01-11 17:24:00  10051.277277      11192240   \n",
       "7  2022-01-12 05:07:00 2022-01-12 16:11:00  11706.509838      12917517   \n",
       "8  2022-01-13 07:17:00 2022-01-13 16:40:00  13174.434037      14359241   \n",
       "9  2022-01-14 10:47:00 2022-01-14 15:34:00  11783.741041      12933017   \n",
       "10 2022-01-10 10:25:00 2022-01-10 16:11:00  13219.937561      14517490   \n",
       "11 2022-01-11 07:44:00 2022-01-11 17:24:00  11184.488167      12214523   \n",
       "12 2022-01-12 05:07:00 2022-01-12 16:11:00  14519.834213      15980771   \n",
       "13 2022-01-13 07:17:00 2022-01-13 16:40:00  16152.927104      17613925   \n",
       "14 2022-01-14 10:47:00 2022-01-14 15:34:00  13964.715072      15335696   \n",
       "\n",
       "                                          routes road  processing time road  \\\n",
       "0   [[DC1, C768, C464, C453, C119, C547, C34, C27,...              0.531250   \n",
       "1   [[DC1, C464, C500, C529, C119, C547, C34, C27,...              0.656250   \n",
       "2   [[DC1, C768, C464, C500, C529, C119, C599, C27...              0.531250   \n",
       "3   [[DC1, C464, C500, C529, C451, C453, C1126, C7...              0.531250   \n",
       "4   [[DC1, C768, C464, C500, C453, C451, C119, C34...              0.562500   \n",
       "5   [[DC1, C1427, C143, C817, C44, C32, C479, C489...              0.656250   \n",
       "6   [[DC1, C151, C558, C514, C31, C264, C922, C627...              0.750000   \n",
       "7   [[DC1, C119, C305, C321, C4, C554, C479, C32, ...              0.562500   \n",
       "8   [[DC1, C1126, C4, C305, C512, C542, C165, C543...              0.890625   \n",
       "9   [[DC1, C453, C730, C478, C75, C176, C482, C855...              0.750000   \n",
       "10  [[DC1, C189, C667, C448, C747, C382, C1220, C1...              0.734375   \n",
       "11  [[DC1, C160, C1030, C189, C667, C1194, C1183, ...              0.640625   \n",
       "12  [[DC1, C1650, C665, C24, C508, C851, C128, C19...              0.390625   \n",
       "13  [[DC1, C298, C322, C309, C1707, C260, C289, C6...              0.765625   \n",
       "14  [[DC1, C453, C1289, C600, C531, C16, C698, C66...              0.703125   \n",
       "\n",
       "    co2 railroad  distance railroad  \\\n",
       "0   11719.009037         16735682.0   \n",
       "1    9852.644849         14079797.0   \n",
       "2   11066.451578         15422839.0   \n",
       "3   12129.506064         16576825.0   \n",
       "4   10901.546920         15285292.0   \n",
       "5   11957.439587         16443984.0   \n",
       "6   10679.260280         14428469.0   \n",
       "7   11685.853197         15526207.0   \n",
       "8   12433.972495         16237202.0   \n",
       "9   11856.488035         15576176.0   \n",
       "10  13663.369776         18110957.0   \n",
       "11  11619.328424         15464770.0   \n",
       "12  13159.408301         17036015.0   \n",
       "13  14813.477590         18569438.0   \n",
       "14  12931.262070         16775423.0   \n",
       "\n",
       "                                  terminal allocation  \\\n",
       "0   [[C1025, C113, C124, C196, C238, C273, C284, C...   \n",
       "1   [[C1017, C113, C124, C196, C238, C239, C273, C...   \n",
       "2   [[C113, C196, C238, C239, C284, C338, C353, C3...   \n",
       "3   [[C1017, C1025, C1049, C113, C124, C196, C238,...   \n",
       "4   [[C1025, C113, C1181, C124, C196, C238, C239, ...   \n",
       "5   [[C1025, C113, C124, C196, C238, C273, C284, C...   \n",
       "6   [[C1017, C113, C124, C196, C238, C239, C273, C...   \n",
       "7   [[C113, C196, C238, C239, C284, C338, C353, C3...   \n",
       "8   [[C1017, C1025, C1049, C113, C124, C196, C238,...   \n",
       "9   [[C1025, C113, C1181, C124, C196, C238, C239, ...   \n",
       "10  [[C1025, C113, C124, C196, C238, C273, C284, C...   \n",
       "11  [[C1017, C113, C124, C196, C238, C239, C273, C...   \n",
       "12  [[C113, C196, C238, C239, C284, C338, C353, C3...   \n",
       "13  [[C1017, C1025, C1049, C113, C124, C196, C238,...   \n",
       "14  [[C1025, C113, C1181, C124, C196, C238, C239, ...   \n",
       "\n",
       "                                      routes railroad  \\\n",
       "0   {'T1': [['T1', 'C196', 'C55', 'C637', 'C883', ...   \n",
       "1   {'T1': [['T1', 'C124', 'C697', 'C113', 'C565',...   \n",
       "2   {'T1': [['T1', 'C284', 'C238', 'C55', 'C883', ...   \n",
       "3   {'T1': [['T1', 'C55', 'C196', 'C338', 'C637', ...   \n",
       "4   {'T1': [['T1', 'C935', 'C284', 'C238', 'C55', ...   \n",
       "5   {'T1': [['T1', 'C196', 'C55', 'C637', 'C883', ...   \n",
       "6   {'T1': [['T1', 'C124', 'C697', 'C113', 'C565',...   \n",
       "7   {'T1': [['T1', 'C284', 'C238', 'C55', 'C883', ...   \n",
       "8   {'T1': [['T1', 'C55', 'C196', 'C338', 'C637', ...   \n",
       "9   {'T1': [['T1', 'C935', 'C284', 'C238', 'C55', ...   \n",
       "10  {'T1': [['T1', 'C196', 'C55', 'C637', 'C883', ...   \n",
       "11  {'T1': [['T1', 'C124', 'C697', 'C113', 'C565',...   \n",
       "12  {'T1': [['T1', 'C284', 'C238', 'C55', 'C883', ...   \n",
       "13  {'T1': [['T1', 'C55', 'C196', 'C338', 'C637', ...   \n",
       "14  {'T1': [['T1', 'C935', 'C284', 'C238', 'C55', ...   \n",
       "\n",
       "    processing time railroad  volume  \n",
       "0                   5.656250     1.0  \n",
       "1                   5.031250     1.0  \n",
       "2                   4.515625     1.0  \n",
       "3                   5.531250     1.0  \n",
       "4                   4.578125     1.0  \n",
       "5                   5.062500     5.0  \n",
       "6                   5.109375     5.0  \n",
       "7                   5.296875     5.0  \n",
       "8                   5.453125     5.0  \n",
       "9                   4.984375     5.0  \n",
       "10                  4.921875    10.0  \n",
       "11                  5.109375    10.0  \n",
       "12                  4.500000    10.0  \n",
       "13                  5.171875    10.0  \n",
       "14                  5.359375    10.0  "
      ]
     },
     "execution_count": 107,
     "metadata": {},
     "output_type": "execute_result"
    }
   ],
   "source": [
    "get_results_daily_per_week(df_dc1, week, truck_capacity = truck_capacity, mode = \"combined\", algorithm = \"client\")"
   ]
  },
  {
   "cell_type": "markdown",
   "id": "02466326",
   "metadata": {},
   "source": [
    "### modes"
   ]
  },
  {
   "cell_type": "code",
   "execution_count": 189,
   "id": "50868d4b",
   "metadata": {},
   "outputs": [
    {
     "name": "stderr",
     "output_type": "stream",
     "text": [
      "C:\\Users\\marle\\OneDrive - tbs-education\\00_Masterarbeit\\Code\\notebooks\\..\\src\\co2_modells.py:29: SettingWithCopyWarning: \n",
      "A value is trying to be set on a copy of a slice from a DataFrame.\n",
      "Try using .loc[row_indexer,col_indexer] = value instead\n",
      "\n",
      "See the caveats in the documentation: https://pandas.pydata.org/pandas-docs/stable/user_guide/indexing.html#returning-a-view-versus-a-copy\n",
      "  df[\"Sender weight (kg)\"] = df[\"Sender weight (kg)\"]*volume\n",
      "\u001b[32m2023-08-09 18:39:16.388\u001b[0m | \u001b[1mINFO    \u001b[0m | \u001b[36msrc.co2_modells\u001b[0m:\u001b[36mpreprocessing_modelling\u001b[0m:\u001b[36m38\u001b[0m - \u001b[1m193.298\u001b[0m\n",
      "\u001b[32m2023-08-09 18:39:16.404\u001b[0m | \u001b[1mINFO    \u001b[0m | \u001b[36msrc.co2_modells\u001b[0m:\u001b[36mco2_modell\u001b[0m:\u001b[36m71\u001b[0m - \u001b[1m0.5873846153846154\u001b[0m\n"
     ]
    },
    {
     "name": "stdout",
     "output_type": "stream",
     "text": [
      "(269, 7)\n"
     ]
    },
    {
     "name": "stderr",
     "output_type": "stream",
     "text": [
      "C:\\Users\\marle\\OneDrive - tbs-education\\00_Masterarbeit\\Code\\notebooks\\..\\src\\create_solution.py:52: FutureWarning: Dropping of nuisance columns in DataFrame reductions (with 'numeric_only=None') is deprecated; in a future version this will raise TypeError.  Select only valid columns before calling the reduction.\n",
      "  distances['Dmin'] = distances.min(axis=1)\n",
      "\u001b[32m2023-08-09 18:39:18.468\u001b[0m | \u001b[1mINFO    \u001b[0m | \u001b[36msrc.evaluation_multi\u001b[0m:\u001b[36mevaluate_solution_multi\u001b[0m:\u001b[36m263\u001b[0m - \u001b[1m98.96062086929153\u001b[0m\n",
      "\u001b[32m2023-08-09 18:39:19.477\u001b[0m | \u001b[1mINFO    \u001b[0m | \u001b[36msrc.evaluation_multi\u001b[0m:\u001b[36mevaluate_solution_multi\u001b[0m:\u001b[36m312\u001b[0m - \u001b[1m1060.209496706669\u001b[0m\n",
      "\u001b[32m2023-08-09 18:39:20.484\u001b[0m | \u001b[1mINFO    \u001b[0m | \u001b[36msrc.evaluation_multi\u001b[0m:\u001b[36mevaluate_solution_multi\u001b[0m:\u001b[36m312\u001b[0m - \u001b[1m1906.3309133686512\u001b[0m\n",
      "\u001b[32m2023-08-09 18:39:21.488\u001b[0m | \u001b[1mINFO    \u001b[0m | \u001b[36msrc.evaluation_multi\u001b[0m:\u001b[36mevaluate_solution_multi\u001b[0m:\u001b[36m312\u001b[0m - \u001b[1m2242.091385349238\u001b[0m\n",
      "\u001b[32m2023-08-09 18:39:21.488\u001b[0m | \u001b[1mINFO    \u001b[0m | \u001b[36msrc.evaluation_multi\u001b[0m:\u001b[36mevaluate_solution_multi\u001b[0m:\u001b[36m312\u001b[0m - \u001b[1m2242.091385349238\u001b[0m\n",
      "\u001b[32m2023-08-09 18:39:22.489\u001b[0m | \u001b[1mINFO    \u001b[0m | \u001b[36msrc.evaluation_multi\u001b[0m:\u001b[36mevaluate_solution_multi\u001b[0m:\u001b[36m312\u001b[0m - \u001b[1m3949.4840841870273\u001b[0m\n",
      "\u001b[32m2023-08-09 18:39:23.506\u001b[0m | \u001b[1mINFO    \u001b[0m | \u001b[36msrc.evaluation_multi\u001b[0m:\u001b[36mevaluate_solution_multi\u001b[0m:\u001b[36m312\u001b[0m - \u001b[1m5558.768764377766\u001b[0m\n",
      "\u001b[32m2023-08-09 18:39:24.508\u001b[0m | \u001b[1mINFO    \u001b[0m | \u001b[36msrc.evaluation_multi\u001b[0m:\u001b[36mevaluate_solution_multi\u001b[0m:\u001b[36m312\u001b[0m - \u001b[1m6246.448156029049\u001b[0m\n",
      "\u001b[32m2023-08-09 18:39:25.512\u001b[0m | \u001b[1mINFO    \u001b[0m | \u001b[36msrc.evaluation_multi\u001b[0m:\u001b[36mevaluate_solution_multi\u001b[0m:\u001b[36m312\u001b[0m - \u001b[1m6658.401724041912\u001b[0m\n",
      "\u001b[32m2023-08-09 18:39:26.530\u001b[0m | \u001b[1mINFO    \u001b[0m | \u001b[36msrc.evaluation_multi\u001b[0m:\u001b[36mevaluate_solution_multi\u001b[0m:\u001b[36m312\u001b[0m - \u001b[1m7352.6780199527875\u001b[0m\n",
      "\u001b[32m2023-08-09 18:39:27.537\u001b[0m | \u001b[1mINFO    \u001b[0m | \u001b[36msrc.evaluation_multi\u001b[0m:\u001b[36mevaluate_solution_multi\u001b[0m:\u001b[36m312\u001b[0m - \u001b[1m7950.913242876562\u001b[0m\n",
      "\u001b[32m2023-08-09 18:39:27.556\u001b[0m | \u001b[1mINFO    \u001b[0m | \u001b[36msrc.evaluation_multi\u001b[0m:\u001b[36mevaluate_solution_multi\u001b[0m:\u001b[36m320\u001b[0m - \u001b[1m9278.875995567578\u001b[0m\n",
      "C:\\Users\\marle\\AppData\\Local\\Temp\\ipykernel_27168\\2800501181.py:16: FutureWarning: The frame.append method is deprecated and will be removed from pandas in a future version. Use pandas.concat instead.\n",
      "  df_results = df_results.append(dict_results, ignore_index=True)\n",
      "C:\\Users\\marle\\OneDrive - tbs-education\\00_Masterarbeit\\Code\\notebooks\\..\\src\\co2_modells.py:29: SettingWithCopyWarning: \n",
      "A value is trying to be set on a copy of a slice from a DataFrame.\n",
      "Try using .loc[row_indexer,col_indexer] = value instead\n",
      "\n",
      "See the caveats in the documentation: https://pandas.pydata.org/pandas-docs/stable/user_guide/indexing.html#returning-a-view-versus-a-copy\n",
      "  df[\"Sender weight (kg)\"] = df[\"Sender weight (kg)\"]*volume\n",
      "\u001b[32m2023-08-09 18:39:27.578\u001b[0m | \u001b[1mINFO    \u001b[0m | \u001b[36msrc.co2_modells\u001b[0m:\u001b[36mpreprocessing_modelling\u001b[0m:\u001b[36m38\u001b[0m - \u001b[1m118.048\u001b[0m\n",
      "\u001b[32m2023-08-09 18:39:27.592\u001b[0m | \u001b[1mINFO    \u001b[0m | \u001b[36msrc.co2_modells\u001b[0m:\u001b[36mco2_modell\u001b[0m:\u001b[36m71\u001b[0m - \u001b[1m0.42853846153846153\u001b[0m\n"
     ]
    },
    {
     "name": "stdout",
     "output_type": "stream",
     "text": [
      "Total processing time: 9.828125\n",
      "(247, 7)\n"
     ]
    },
    {
     "name": "stderr",
     "output_type": "stream",
     "text": [
      "C:\\Users\\marle\\OneDrive - tbs-education\\00_Masterarbeit\\Code\\notebooks\\..\\src\\create_solution.py:52: FutureWarning: Dropping of nuisance columns in DataFrame reductions (with 'numeric_only=None') is deprecated; in a future version this will raise TypeError.  Select only valid columns before calling the reduction.\n",
      "  distances['Dmin'] = distances.min(axis=1)\n",
      "\u001b[32m2023-08-09 18:39:29.654\u001b[0m | \u001b[1mINFO    \u001b[0m | \u001b[36msrc.evaluation_multi\u001b[0m:\u001b[36mevaluate_solution_multi\u001b[0m:\u001b[36m263\u001b[0m - \u001b[1m95.34483496528242\u001b[0m\n",
      "\u001b[32m2023-08-09 18:39:30.667\u001b[0m | \u001b[1mINFO    \u001b[0m | \u001b[36msrc.evaluation_multi\u001b[0m:\u001b[36mevaluate_solution_multi\u001b[0m:\u001b[36m312\u001b[0m - \u001b[1m1150.4657152007053\u001b[0m\n",
      "\u001b[32m2023-08-09 18:39:31.660\u001b[0m | \u001b[1mINFO    \u001b[0m | \u001b[36msrc.evaluation_multi\u001b[0m:\u001b[36mevaluate_solution_multi\u001b[0m:\u001b[36m312\u001b[0m - \u001b[1m1888.9737779518068\u001b[0m\n",
      "\u001b[32m2023-08-09 18:39:31.676\u001b[0m | \u001b[1mINFO    \u001b[0m | \u001b[36msrc.evaluation_multi\u001b[0m:\u001b[36mevaluate_solution_multi\u001b[0m:\u001b[36m312\u001b[0m - \u001b[1m1888.9737779518068\u001b[0m\n",
      "\u001b[32m2023-08-09 18:39:31.676\u001b[0m | \u001b[1mINFO    \u001b[0m | \u001b[36msrc.evaluation_multi\u001b[0m:\u001b[36mevaluate_solution_multi\u001b[0m:\u001b[36m312\u001b[0m - \u001b[1m1888.9737779518068\u001b[0m\n",
      "\u001b[32m2023-08-09 18:39:32.682\u001b[0m | \u001b[1mINFO    \u001b[0m | \u001b[36msrc.evaluation_multi\u001b[0m:\u001b[36mevaluate_solution_multi\u001b[0m:\u001b[36m312\u001b[0m - \u001b[1m3528.091490178717\u001b[0m\n",
      "\u001b[32m2023-08-09 18:39:33.694\u001b[0m | \u001b[1mINFO    \u001b[0m | \u001b[36msrc.evaluation_multi\u001b[0m:\u001b[36mevaluate_solution_multi\u001b[0m:\u001b[36m312\u001b[0m - \u001b[1m4880.045090340312\u001b[0m\n",
      "\u001b[32m2023-08-09 18:39:34.696\u001b[0m | \u001b[1mINFO    \u001b[0m | \u001b[36msrc.evaluation_multi\u001b[0m:\u001b[36mevaluate_solution_multi\u001b[0m:\u001b[36m312\u001b[0m - \u001b[1m5579.939721181979\u001b[0m\n",
      "\u001b[32m2023-08-09 18:39:35.712\u001b[0m | \u001b[1mINFO    \u001b[0m | \u001b[36msrc.evaluation_multi\u001b[0m:\u001b[36mevaluate_solution_multi\u001b[0m:\u001b[36m312\u001b[0m - \u001b[1m5983.6704452202985\u001b[0m\n",
      "\u001b[32m2023-08-09 18:39:36.719\u001b[0m | \u001b[1mINFO    \u001b[0m | \u001b[36msrc.evaluation_multi\u001b[0m:\u001b[36mevaluate_solution_multi\u001b[0m:\u001b[36m312\u001b[0m - \u001b[1m6561.669492220921\u001b[0m\n",
      "\u001b[32m2023-08-09 18:39:37.740\u001b[0m | \u001b[1mINFO    \u001b[0m | \u001b[36msrc.evaluation_multi\u001b[0m:\u001b[36mevaluate_solution_multi\u001b[0m:\u001b[36m312\u001b[0m - \u001b[1m7285.650954338926\u001b[0m\n",
      "\u001b[32m2023-08-09 18:39:37.793\u001b[0m | \u001b[1mINFO    \u001b[0m | \u001b[36msrc.evaluation_multi\u001b[0m:\u001b[36mevaluate_solution_multi\u001b[0m:\u001b[36m320\u001b[0m - \u001b[1m8399.825826179866\u001b[0m\n",
      "C:\\Users\\marle\\AppData\\Local\\Temp\\ipykernel_27168\\2800501181.py:16: FutureWarning: The frame.append method is deprecated and will be removed from pandas in a future version. Use pandas.concat instead.\n",
      "  df_results = df_results.append(dict_results, ignore_index=True)\n",
      "C:\\Users\\marle\\OneDrive - tbs-education\\00_Masterarbeit\\Code\\notebooks\\..\\src\\co2_modells.py:29: SettingWithCopyWarning: \n",
      "A value is trying to be set on a copy of a slice from a DataFrame.\n",
      "Try using .loc[row_indexer,col_indexer] = value instead\n",
      "\n",
      "See the caveats in the documentation: https://pandas.pydata.org/pandas-docs/stable/user_guide/indexing.html#returning-a-view-versus-a-copy\n",
      "  df[\"Sender weight (kg)\"] = df[\"Sender weight (kg)\"]*volume\n",
      "\u001b[32m2023-08-09 18:39:37.818\u001b[0m | \u001b[1mINFO    \u001b[0m | \u001b[36msrc.co2_modells\u001b[0m:\u001b[36mpreprocessing_modelling\u001b[0m:\u001b[36m38\u001b[0m - \u001b[1m190.596\u001b[0m\n",
      "\u001b[32m2023-08-09 18:39:37.850\u001b[0m | \u001b[1mINFO    \u001b[0m | \u001b[36msrc.co2_modells\u001b[0m:\u001b[36mco2_modell\u001b[0m:\u001b[36m71\u001b[0m - \u001b[1m0.6247692307692307\u001b[0m\n"
     ]
    },
    {
     "name": "stdout",
     "output_type": "stream",
     "text": [
      "Total processing time: 7.375\n",
      "(257, 7)\n"
     ]
    },
    {
     "name": "stderr",
     "output_type": "stream",
     "text": [
      "C:\\Users\\marle\\OneDrive - tbs-education\\00_Masterarbeit\\Code\\notebooks\\..\\src\\create_solution.py:52: FutureWarning: Dropping of nuisance columns in DataFrame reductions (with 'numeric_only=None') is deprecated; in a future version this will raise TypeError.  Select only valid columns before calling the reduction.\n",
      "  distances['Dmin'] = distances.min(axis=1)\n",
      "\u001b[32m2023-08-09 18:39:39.954\u001b[0m | \u001b[1mINFO    \u001b[0m | \u001b[36msrc.evaluation_multi\u001b[0m:\u001b[36mevaluate_solution_multi\u001b[0m:\u001b[36m263\u001b[0m - \u001b[1m99.58539214202791\u001b[0m\n",
      "\u001b[32m2023-08-09 18:39:40.974\u001b[0m | \u001b[1mINFO    \u001b[0m | \u001b[36msrc.evaluation_multi\u001b[0m:\u001b[36mevaluate_solution_multi\u001b[0m:\u001b[36m312\u001b[0m - \u001b[1m1145.8327881357852\u001b[0m\n",
      "\u001b[32m2023-08-09 18:39:41.978\u001b[0m | \u001b[1mINFO    \u001b[0m | \u001b[36msrc.evaluation_multi\u001b[0m:\u001b[36mevaluate_solution_multi\u001b[0m:\u001b[36m312\u001b[0m - \u001b[1m1891.4695740314858\u001b[0m\n",
      "\u001b[32m2023-08-09 18:39:42.998\u001b[0m | \u001b[1mINFO    \u001b[0m | \u001b[36msrc.evaluation_multi\u001b[0m:\u001b[36mevaluate_solution_multi\u001b[0m:\u001b[36m312\u001b[0m - \u001b[1m2221.0347638853505\u001b[0m\n",
      "\u001b[32m2023-08-09 18:39:42.998\u001b[0m | \u001b[1mINFO    \u001b[0m | \u001b[36msrc.evaluation_multi\u001b[0m:\u001b[36mevaluate_solution_multi\u001b[0m:\u001b[36m312\u001b[0m - \u001b[1m2221.0347638853505\u001b[0m\n",
      "\u001b[32m2023-08-09 18:39:44.011\u001b[0m | \u001b[1mINFO    \u001b[0m | \u001b[36msrc.evaluation_multi\u001b[0m:\u001b[36mevaluate_solution_multi\u001b[0m:\u001b[36m312\u001b[0m - \u001b[1m3979.6888603373836\u001b[0m\n",
      "\u001b[32m2023-08-09 18:39:45.030\u001b[0m | \u001b[1mINFO    \u001b[0m | \u001b[36msrc.evaluation_multi\u001b[0m:\u001b[36mevaluate_solution_multi\u001b[0m:\u001b[36m312\u001b[0m - \u001b[1m5561.424169135739\u001b[0m\n",
      "\u001b[32m2023-08-09 18:39:46.034\u001b[0m | \u001b[1mINFO    \u001b[0m | \u001b[36msrc.evaluation_multi\u001b[0m:\u001b[36mevaluate_solution_multi\u001b[0m:\u001b[36m312\u001b[0m - \u001b[1m6254.935180859132\u001b[0m\n",
      "\u001b[32m2023-08-09 18:39:47.057\u001b[0m | \u001b[1mINFO    \u001b[0m | \u001b[36msrc.evaluation_multi\u001b[0m:\u001b[36mevaluate_solution_multi\u001b[0m:\u001b[36m312\u001b[0m - \u001b[1m6689.260843136484\u001b[0m\n",
      "\u001b[32m2023-08-09 18:39:48.059\u001b[0m | \u001b[1mINFO    \u001b[0m | \u001b[36msrc.evaluation_multi\u001b[0m:\u001b[36mevaluate_solution_multi\u001b[0m:\u001b[36m312\u001b[0m - \u001b[1m7261.947649801787\u001b[0m\n",
      "\u001b[32m2023-08-09 18:39:49.077\u001b[0m | \u001b[1mINFO    \u001b[0m | \u001b[36msrc.evaluation_multi\u001b[0m:\u001b[36mevaluate_solution_multi\u001b[0m:\u001b[36m312\u001b[0m - \u001b[1m8096.467910086944\u001b[0m\n",
      "\u001b[32m2023-08-09 18:39:49.108\u001b[0m | \u001b[1mINFO    \u001b[0m | \u001b[36msrc.evaluation_multi\u001b[0m:\u001b[36mevaluate_solution_multi\u001b[0m:\u001b[36m320\u001b[0m - \u001b[1m9424.608819190726\u001b[0m\n",
      "C:\\Users\\marle\\AppData\\Local\\Temp\\ipykernel_27168\\2800501181.py:16: FutureWarning: The frame.append method is deprecated and will be removed from pandas in a future version. Use pandas.concat instead.\n",
      "  df_results = df_results.append(dict_results, ignore_index=True)\n",
      "C:\\Users\\marle\\OneDrive - tbs-education\\00_Masterarbeit\\Code\\notebooks\\..\\src\\co2_modells.py:29: SettingWithCopyWarning: \n",
      "A value is trying to be set on a copy of a slice from a DataFrame.\n",
      "Try using .loc[row_indexer,col_indexer] = value instead\n",
      "\n",
      "See the caveats in the documentation: https://pandas.pydata.org/pandas-docs/stable/user_guide/indexing.html#returning-a-view-versus-a-copy\n",
      "  df[\"Sender weight (kg)\"] = df[\"Sender weight (kg)\"]*volume\n",
      "\u001b[32m2023-08-09 18:39:49.124\u001b[0m | \u001b[1mINFO    \u001b[0m | \u001b[36msrc.co2_modells\u001b[0m:\u001b[36mpreprocessing_modelling\u001b[0m:\u001b[36m38\u001b[0m - \u001b[1m192.75\u001b[0m\n",
      "\u001b[32m2023-08-09 18:39:49.155\u001b[0m | \u001b[1mINFO    \u001b[0m | \u001b[36msrc.co2_modells\u001b[0m:\u001b[36mco2_modell\u001b[0m:\u001b[36m71\u001b[0m - \u001b[1m0.7803076923076923\u001b[0m\n"
     ]
    },
    {
     "name": "stdout",
     "output_type": "stream",
     "text": [
      "Total processing time: 3.375\n",
      "(310, 7)\n"
     ]
    },
    {
     "name": "stderr",
     "output_type": "stream",
     "text": [
      "C:\\Users\\marle\\OneDrive - tbs-education\\00_Masterarbeit\\Code\\notebooks\\..\\src\\create_solution.py:52: FutureWarning: Dropping of nuisance columns in DataFrame reductions (with 'numeric_only=None') is deprecated; in a future version this will raise TypeError.  Select only valid columns before calling the reduction.\n",
      "  distances['Dmin'] = distances.min(axis=1)\n",
      "\u001b[32m2023-08-09 18:39:51.288\u001b[0m | \u001b[1mINFO    \u001b[0m | \u001b[36msrc.evaluation_multi\u001b[0m:\u001b[36mevaluate_solution_multi\u001b[0m:\u001b[36m263\u001b[0m - \u001b[1m103.73462062774215\u001b[0m\n",
      "\u001b[32m2023-08-09 18:39:52.308\u001b[0m | \u001b[1mINFO    \u001b[0m | \u001b[36msrc.evaluation_multi\u001b[0m:\u001b[36mevaluate_solution_multi\u001b[0m:\u001b[36m312\u001b[0m - \u001b[1m1143.0432513301866\u001b[0m\n",
      "\u001b[32m2023-08-09 18:39:53.318\u001b[0m | \u001b[1mINFO    \u001b[0m | \u001b[36msrc.evaluation_multi\u001b[0m:\u001b[36mevaluate_solution_multi\u001b[0m:\u001b[36m312\u001b[0m - \u001b[1m1944.5177862645305\u001b[0m\n",
      "\u001b[32m2023-08-09 18:39:53.318\u001b[0m | \u001b[1mINFO    \u001b[0m | \u001b[36msrc.evaluation_multi\u001b[0m:\u001b[36mevaluate_solution_multi\u001b[0m:\u001b[36m312\u001b[0m - \u001b[1m1944.5177862645305\u001b[0m\n",
      "\u001b[32m2023-08-09 18:39:53.318\u001b[0m | \u001b[1mINFO    \u001b[0m | \u001b[36msrc.evaluation_multi\u001b[0m:\u001b[36mevaluate_solution_multi\u001b[0m:\u001b[36m312\u001b[0m - \u001b[1m1944.5177862645305\u001b[0m\n",
      "\u001b[32m2023-08-09 18:39:54.337\u001b[0m | \u001b[1mINFO    \u001b[0m | \u001b[36msrc.evaluation_multi\u001b[0m:\u001b[36mevaluate_solution_multi\u001b[0m:\u001b[36m312\u001b[0m - \u001b[1m3800.3926874202957\u001b[0m\n",
      "\u001b[32m2023-08-09 18:39:55.356\u001b[0m | \u001b[1mINFO    \u001b[0m | \u001b[36msrc.evaluation_multi\u001b[0m:\u001b[36mevaluate_solution_multi\u001b[0m:\u001b[36m312\u001b[0m - \u001b[1m5235.7770342601325\u001b[0m\n",
      "\u001b[32m2023-08-09 18:39:56.376\u001b[0m | \u001b[1mINFO    \u001b[0m | \u001b[36msrc.evaluation_multi\u001b[0m:\u001b[36mevaluate_solution_multi\u001b[0m:\u001b[36m312\u001b[0m - \u001b[1m5918.886162633226\u001b[0m\n",
      "\u001b[32m2023-08-09 18:39:57.379\u001b[0m | \u001b[1mINFO    \u001b[0m | \u001b[36msrc.evaluation_multi\u001b[0m:\u001b[36mevaluate_solution_multi\u001b[0m:\u001b[36m312\u001b[0m - \u001b[1m6332.004780990957\u001b[0m\n",
      "\u001b[32m2023-08-09 18:39:58.399\u001b[0m | \u001b[1mINFO    \u001b[0m | \u001b[36msrc.evaluation_multi\u001b[0m:\u001b[36mevaluate_solution_multi\u001b[0m:\u001b[36m312\u001b[0m - \u001b[1m7061.216877997102\u001b[0m\n",
      "\u001b[32m2023-08-09 18:39:59.418\u001b[0m | \u001b[1mINFO    \u001b[0m | \u001b[36msrc.evaluation_multi\u001b[0m:\u001b[36mevaluate_solution_multi\u001b[0m:\u001b[36m312\u001b[0m - \u001b[1m7858.656357688909\u001b[0m\n",
      "\u001b[32m2023-08-09 18:39:59.434\u001b[0m | \u001b[1mINFO    \u001b[0m | \u001b[36msrc.evaluation_multi\u001b[0m:\u001b[36mevaluate_solution_multi\u001b[0m:\u001b[36m320\u001b[0m - \u001b[1m8975.199570962672\u001b[0m\n",
      "C:\\Users\\marle\\AppData\\Local\\Temp\\ipykernel_27168\\2800501181.py:16: FutureWarning: The frame.append method is deprecated and will be removed from pandas in a future version. Use pandas.concat instead.\n",
      "  df_results = df_results.append(dict_results, ignore_index=True)\n",
      "C:\\Users\\marle\\OneDrive - tbs-education\\00_Masterarbeit\\Code\\notebooks\\..\\src\\co2_modells.py:29: SettingWithCopyWarning: \n",
      "A value is trying to be set on a copy of a slice from a DataFrame.\n",
      "Try using .loc[row_indexer,col_indexer] = value instead\n",
      "\n",
      "See the caveats in the documentation: https://pandas.pydata.org/pandas-docs/stable/user_guide/indexing.html#returning-a-view-versus-a-copy\n",
      "  df[\"Sender weight (kg)\"] = df[\"Sender weight (kg)\"]*volume\n",
      "\u001b[32m2023-08-09 18:39:59.465\u001b[0m | \u001b[1mINFO    \u001b[0m | \u001b[36msrc.co2_modells\u001b[0m:\u001b[36mpreprocessing_modelling\u001b[0m:\u001b[36m38\u001b[0m - \u001b[1m156.0\u001b[0m\n",
      "\u001b[32m2023-08-09 18:39:59.480\u001b[0m | \u001b[1mINFO    \u001b[0m | \u001b[36msrc.co2_modells\u001b[0m:\u001b[36mco2_modell\u001b[0m:\u001b[36m71\u001b[0m - \u001b[1m0.5243076923076923\u001b[0m\n"
     ]
    },
    {
     "name": "stdout",
     "output_type": "stream",
     "text": [
      "Total processing time: 3.984375\n",
      "(262, 7)\n"
     ]
    },
    {
     "name": "stderr",
     "output_type": "stream",
     "text": [
      "C:\\Users\\marle\\OneDrive - tbs-education\\00_Masterarbeit\\Code\\notebooks\\..\\src\\create_solution.py:52: FutureWarning: Dropping of nuisance columns in DataFrame reductions (with 'numeric_only=None') is deprecated; in a future version this will raise TypeError.  Select only valid columns before calling the reduction.\n",
      "  distances['Dmin'] = distances.min(axis=1)\n",
      "\u001b[32m2023-08-09 18:40:01.598\u001b[0m | \u001b[1mINFO    \u001b[0m | \u001b[36msrc.evaluation_multi\u001b[0m:\u001b[36mevaluate_solution_multi\u001b[0m:\u001b[36m263\u001b[0m - \u001b[1m97.64673310968317\u001b[0m\n",
      "\u001b[32m2023-08-09 18:40:02.600\u001b[0m | \u001b[1mINFO    \u001b[0m | \u001b[36msrc.evaluation_multi\u001b[0m:\u001b[36mevaluate_solution_multi\u001b[0m:\u001b[36m312\u001b[0m - \u001b[1m1327.0095585435006\u001b[0m\n",
      "\u001b[32m2023-08-09 18:40:03.619\u001b[0m | \u001b[1mINFO    \u001b[0m | \u001b[36msrc.evaluation_multi\u001b[0m:\u001b[36mevaluate_solution_multi\u001b[0m:\u001b[36m312\u001b[0m - \u001b[1m2036.9625894323765\u001b[0m\n",
      "\u001b[32m2023-08-09 18:40:04.639\u001b[0m | \u001b[1mINFO    \u001b[0m | \u001b[36msrc.evaluation_multi\u001b[0m:\u001b[36mevaluate_solution_multi\u001b[0m:\u001b[36m312\u001b[0m - \u001b[1m2366.507919822189\u001b[0m\n",
      "\u001b[32m2023-08-09 18:40:04.639\u001b[0m | \u001b[1mINFO    \u001b[0m | \u001b[36msrc.evaluation_multi\u001b[0m:\u001b[36mevaluate_solution_multi\u001b[0m:\u001b[36m312\u001b[0m - \u001b[1m2366.507919822189\u001b[0m\n",
      "\u001b[32m2023-08-09 18:40:05.660\u001b[0m | \u001b[1mINFO    \u001b[0m | \u001b[36msrc.evaluation_multi\u001b[0m:\u001b[36mevaluate_solution_multi\u001b[0m:\u001b[36m312\u001b[0m - \u001b[1m4096.5118666361495\u001b[0m\n",
      "\u001b[32m2023-08-09 18:40:06.678\u001b[0m | \u001b[1mINFO    \u001b[0m | \u001b[36msrc.evaluation_multi\u001b[0m:\u001b[36mevaluate_solution_multi\u001b[0m:\u001b[36m312\u001b[0m - \u001b[1m5736.493315937803\u001b[0m\n",
      "\u001b[32m2023-08-09 18:40:07.695\u001b[0m | \u001b[1mINFO    \u001b[0m | \u001b[36msrc.evaluation_multi\u001b[0m:\u001b[36mevaluate_solution_multi\u001b[0m:\u001b[36m312\u001b[0m - \u001b[1m6310.927735215677\u001b[0m\n",
      "\u001b[32m2023-08-09 18:40:08.710\u001b[0m | \u001b[1mINFO    \u001b[0m | \u001b[36msrc.evaluation_multi\u001b[0m:\u001b[36mevaluate_solution_multi\u001b[0m:\u001b[36m312\u001b[0m - \u001b[1m6761.96239185669\u001b[0m\n",
      "\u001b[32m2023-08-09 18:40:09.719\u001b[0m | \u001b[1mINFO    \u001b[0m | \u001b[36msrc.evaluation_multi\u001b[0m:\u001b[36mevaluate_solution_multi\u001b[0m:\u001b[36m312\u001b[0m - \u001b[1m7335.306860943594\u001b[0m\n",
      "\u001b[32m2023-08-09 18:40:10.719\u001b[0m | \u001b[1mINFO    \u001b[0m | \u001b[36msrc.evaluation_multi\u001b[0m:\u001b[36mevaluate_solution_multi\u001b[0m:\u001b[36m312\u001b[0m - \u001b[1m7976.130166830502\u001b[0m\n",
      "\u001b[32m2023-08-09 18:40:10.775\u001b[0m | \u001b[1mINFO    \u001b[0m | \u001b[36msrc.evaluation_multi\u001b[0m:\u001b[36mevaluate_solution_multi\u001b[0m:\u001b[36m320\u001b[0m - \u001b[1m9303.825835640651\u001b[0m\n",
      "C:\\Users\\marle\\AppData\\Local\\Temp\\ipykernel_27168\\2800501181.py:16: FutureWarning: The frame.append method is deprecated and will be removed from pandas in a future version. Use pandas.concat instead.\n",
      "  df_results = df_results.append(dict_results, ignore_index=True)\n",
      "\u001b[32m2023-08-09 18:40:10.791\u001b[0m | \u001b[1mINFO    \u001b[0m | \u001b[36msrc.co2_modells\u001b[0m:\u001b[36mpreprocessing_modelling\u001b[0m:\u001b[36m38\u001b[0m - \u001b[1mnan\u001b[0m\n",
      "C:\\Users\\marle\\OneDrive - tbs-education\\00_Masterarbeit\\Code\\notebooks\\..\\src\\co2_modells.py:29: SettingWithCopyWarning: \n",
      "A value is trying to be set on a copy of a slice from a DataFrame.\n",
      "Try using .loc[row_indexer,col_indexer] = value instead\n",
      "\n",
      "See the caveats in the documentation: https://pandas.pydata.org/pandas-docs/stable/user_guide/indexing.html#returning-a-view-versus-a-copy\n",
      "  df[\"Sender weight (kg)\"] = df[\"Sender weight (kg)\"]*volume\n",
      "\u001b[32m2023-08-09 18:40:10.807\u001b[0m | \u001b[1mINFO    \u001b[0m | \u001b[36msrc.co2_modells\u001b[0m:\u001b[36mpreprocessing_modelling\u001b[0m:\u001b[36m38\u001b[0m - \u001b[1m966.49\u001b[0m\n",
      "\u001b[32m2023-08-09 18:40:10.838\u001b[0m | \u001b[1mINFO    \u001b[0m | \u001b[36msrc.co2_modells\u001b[0m:\u001b[36mco2_modell\u001b[0m:\u001b[36m71\u001b[0m - \u001b[1m2.9781538461538464\u001b[0m\n"
     ]
    },
    {
     "name": "stdout",
     "output_type": "stream",
     "text": [
      "Total processing time: 4.0625\n",
      "(0, 10)\n",
      "No deliveries from 2022-01-15 to 2022-01-16\n",
      "(269, 7)\n"
     ]
    },
    {
     "name": "stderr",
     "output_type": "stream",
     "text": [
      "C:\\Users\\marle\\OneDrive - tbs-education\\00_Masterarbeit\\Code\\notebooks\\..\\src\\create_solution.py:52: FutureWarning: Dropping of nuisance columns in DataFrame reductions (with 'numeric_only=None') is deprecated; in a future version this will raise TypeError.  Select only valid columns before calling the reduction.\n",
      "  distances['Dmin'] = distances.min(axis=1)\n",
      "\u001b[32m2023-08-09 18:40:12.941\u001b[0m | \u001b[1mINFO    \u001b[0m | \u001b[36msrc.evaluation_multi\u001b[0m:\u001b[36mevaluate_solution_multi\u001b[0m:\u001b[36m263\u001b[0m - \u001b[1m323.41907430865336\u001b[0m\n",
      "\u001b[32m2023-08-09 18:40:13.945\u001b[0m | \u001b[1mINFO    \u001b[0m | \u001b[36msrc.evaluation_multi\u001b[0m:\u001b[36mevaluate_solution_multi\u001b[0m:\u001b[36m312\u001b[0m - \u001b[1m1304.9277932986474\u001b[0m\n",
      "\u001b[32m2023-08-09 18:40:14.963\u001b[0m | \u001b[1mINFO    \u001b[0m | \u001b[36msrc.evaluation_multi\u001b[0m:\u001b[36mevaluate_solution_multi\u001b[0m:\u001b[36m312\u001b[0m - \u001b[1m2172.554561524111\u001b[0m\n",
      "\u001b[32m2023-08-09 18:40:15.966\u001b[0m | \u001b[1mINFO    \u001b[0m | \u001b[36msrc.evaluation_multi\u001b[0m:\u001b[36mevaluate_solution_multi\u001b[0m:\u001b[36m312\u001b[0m - \u001b[1m2509.38271771705\u001b[0m\n",
      "\u001b[32m2023-08-09 18:40:15.966\u001b[0m | \u001b[1mINFO    \u001b[0m | \u001b[36msrc.evaluation_multi\u001b[0m:\u001b[36mevaluate_solution_multi\u001b[0m:\u001b[36m312\u001b[0m - \u001b[1m2509.38271771705\u001b[0m\n",
      "\u001b[32m2023-08-09 18:40:16.986\u001b[0m | \u001b[1mINFO    \u001b[0m | \u001b[36msrc.evaluation_multi\u001b[0m:\u001b[36mevaluate_solution_multi\u001b[0m:\u001b[36m312\u001b[0m - \u001b[1m4396.438369372725\u001b[0m\n",
      "\u001b[32m2023-08-09 18:40:18.005\u001b[0m | \u001b[1mINFO    \u001b[0m | \u001b[36msrc.evaluation_multi\u001b[0m:\u001b[36mevaluate_solution_multi\u001b[0m:\u001b[36m312\u001b[0m - \u001b[1m6105.521040479547\u001b[0m\n",
      "\u001b[32m2023-08-09 18:40:19.017\u001b[0m | \u001b[1mINFO    \u001b[0m | \u001b[36msrc.evaluation_multi\u001b[0m:\u001b[36mevaluate_solution_multi\u001b[0m:\u001b[36m312\u001b[0m - \u001b[1m6823.219786244195\u001b[0m\n",
      "\u001b[32m2023-08-09 18:40:20.029\u001b[0m | \u001b[1mINFO    \u001b[0m | \u001b[36msrc.evaluation_multi\u001b[0m:\u001b[36mevaluate_solution_multi\u001b[0m:\u001b[36m312\u001b[0m - \u001b[1m7239.359351548694\u001b[0m\n",
      "\u001b[32m2023-08-09 18:40:21.033\u001b[0m | \u001b[1mINFO    \u001b[0m | \u001b[36msrc.evaluation_multi\u001b[0m:\u001b[36mevaluate_solution_multi\u001b[0m:\u001b[36m312\u001b[0m - \u001b[1m7946.6283216935435\u001b[0m\n",
      "\u001b[32m2023-08-09 18:40:22.052\u001b[0m | \u001b[1mINFO    \u001b[0m | \u001b[36msrc.evaluation_multi\u001b[0m:\u001b[36mevaluate_solution_multi\u001b[0m:\u001b[36m312\u001b[0m - \u001b[1m8551.511628263665\u001b[0m\n",
      "\u001b[32m2023-08-09 18:40:22.099\u001b[0m | \u001b[1mINFO    \u001b[0m | \u001b[36msrc.evaluation_multi\u001b[0m:\u001b[36mevaluate_solution_multi\u001b[0m:\u001b[36m320\u001b[0m - \u001b[1m9893.354459354941\u001b[0m\n",
      "C:\\Users\\marle\\AppData\\Local\\Temp\\ipykernel_27168\\2800501181.py:16: FutureWarning: The frame.append method is deprecated and will be removed from pandas in a future version. Use pandas.concat instead.\n",
      "  df_results = df_results.append(dict_results, ignore_index=True)\n",
      "C:\\Users\\marle\\OneDrive - tbs-education\\00_Masterarbeit\\Code\\notebooks\\..\\src\\co2_modells.py:29: SettingWithCopyWarning: \n",
      "A value is trying to be set on a copy of a slice from a DataFrame.\n",
      "Try using .loc[row_indexer,col_indexer] = value instead\n",
      "\n",
      "See the caveats in the documentation: https://pandas.pydata.org/pandas-docs/stable/user_guide/indexing.html#returning-a-view-versus-a-copy\n",
      "  df[\"Sender weight (kg)\"] = df[\"Sender weight (kg)\"]*volume\n",
      "\u001b[32m2023-08-09 18:40:22.123\u001b[0m | \u001b[1mINFO    \u001b[0m | \u001b[36msrc.co2_modells\u001b[0m:\u001b[36mpreprocessing_modelling\u001b[0m:\u001b[36m38\u001b[0m - \u001b[1m590.24\u001b[0m\n",
      "\u001b[32m2023-08-09 18:40:22.146\u001b[0m | \u001b[1mINFO    \u001b[0m | \u001b[36msrc.co2_modells\u001b[0m:\u001b[36mco2_modell\u001b[0m:\u001b[36m71\u001b[0m - \u001b[1m2.175307692307692\u001b[0m\n"
     ]
    },
    {
     "name": "stdout",
     "output_type": "stream",
     "text": [
      "Total processing time: 3.84375\n",
      "(247, 7)\n"
     ]
    },
    {
     "name": "stderr",
     "output_type": "stream",
     "text": [
      "C:\\Users\\marle\\OneDrive - tbs-education\\00_Masterarbeit\\Code\\notebooks\\..\\src\\create_solution.py:52: FutureWarning: Dropping of nuisance columns in DataFrame reductions (with 'numeric_only=None') is deprecated; in a future version this will raise TypeError.  Select only valid columns before calling the reduction.\n",
      "  distances['Dmin'] = distances.min(axis=1)\n",
      "\u001b[32m2023-08-09 18:40:24.249\u001b[0m | \u001b[1mINFO    \u001b[0m | \u001b[36msrc.evaluation_multi\u001b[0m:\u001b[36mevaluate_solution_multi\u001b[0m:\u001b[36m263\u001b[0m - \u001b[1m218.98703458576364\u001b[0m\n",
      "\u001b[32m2023-08-09 18:40:25.268\u001b[0m | \u001b[1mINFO    \u001b[0m | \u001b[36msrc.evaluation_multi\u001b[0m:\u001b[36mevaluate_solution_multi\u001b[0m:\u001b[36m312\u001b[0m - \u001b[1m1298.5001023400448\u001b[0m\n",
      "\u001b[32m2023-08-09 18:40:26.287\u001b[0m | \u001b[1mINFO    \u001b[0m | \u001b[36msrc.evaluation_multi\u001b[0m:\u001b[36mevaluate_solution_multi\u001b[0m:\u001b[36m312\u001b[0m - \u001b[1m2042.9384604664306\u001b[0m\n",
      "\u001b[32m2023-08-09 18:40:26.287\u001b[0m | \u001b[1mINFO    \u001b[0m | \u001b[36msrc.evaluation_multi\u001b[0m:\u001b[36mevaluate_solution_multi\u001b[0m:\u001b[36m312\u001b[0m - \u001b[1m2042.9384604664306\u001b[0m\n",
      "\u001b[32m2023-08-09 18:40:26.287\u001b[0m | \u001b[1mINFO    \u001b[0m | \u001b[36msrc.evaluation_multi\u001b[0m:\u001b[36mevaluate_solution_multi\u001b[0m:\u001b[36m312\u001b[0m - \u001b[1m2042.9384604664306\u001b[0m\n",
      "\u001b[32m2023-08-09 18:40:27.307\u001b[0m | \u001b[1mINFO    \u001b[0m | \u001b[36msrc.evaluation_multi\u001b[0m:\u001b[36mevaluate_solution_multi\u001b[0m:\u001b[36m312\u001b[0m - \u001b[1m3775.8054857527786\u001b[0m\n",
      "\u001b[32m2023-08-09 18:40:28.327\u001b[0m | \u001b[1mINFO    \u001b[0m | \u001b[36msrc.evaluation_multi\u001b[0m:\u001b[36mevaluate_solution_multi\u001b[0m:\u001b[36m312\u001b[0m - \u001b[1m5219.837777194663\u001b[0m\n",
      "\u001b[32m2023-08-09 18:40:29.339\u001b[0m | \u001b[1mINFO    \u001b[0m | \u001b[36msrc.evaluation_multi\u001b[0m:\u001b[36mevaluate_solution_multi\u001b[0m:\u001b[36m312\u001b[0m - \u001b[1m5935.033576690207\u001b[0m\n",
      "\u001b[32m2023-08-09 18:40:30.350\u001b[0m | \u001b[1mINFO    \u001b[0m | \u001b[36msrc.evaluation_multi\u001b[0m:\u001b[36mevaluate_solution_multi\u001b[0m:\u001b[36m312\u001b[0m - \u001b[1m6341.588007143178\u001b[0m\n",
      "\u001b[32m2023-08-09 18:40:31.353\u001b[0m | \u001b[1mINFO    \u001b[0m | \u001b[36msrc.evaluation_multi\u001b[0m:\u001b[36mevaluate_solution_multi\u001b[0m:\u001b[36m312\u001b[0m - \u001b[1m6926.098946946067\u001b[0m\n",
      "\u001b[32m2023-08-09 18:40:32.372\u001b[0m | \u001b[1mINFO    \u001b[0m | \u001b[36msrc.evaluation_multi\u001b[0m:\u001b[36mevaluate_solution_multi\u001b[0m:\u001b[36m312\u001b[0m - \u001b[1m7662.06071403773\u001b[0m\n",
      "\u001b[32m2023-08-09 18:40:32.418\u001b[0m | \u001b[1mINFO    \u001b[0m | \u001b[36msrc.evaluation_multi\u001b[0m:\u001b[36mevaluate_solution_multi\u001b[0m:\u001b[36m320\u001b[0m - \u001b[1m8785.949972758437\u001b[0m\n",
      "C:\\Users\\marle\\AppData\\Local\\Temp\\ipykernel_27168\\2800501181.py:16: FutureWarning: The frame.append method is deprecated and will be removed from pandas in a future version. Use pandas.concat instead.\n",
      "  df_results = df_results.append(dict_results, ignore_index=True)\n",
      "C:\\Users\\marle\\OneDrive - tbs-education\\00_Masterarbeit\\Code\\notebooks\\..\\src\\co2_modells.py:29: SettingWithCopyWarning: \n",
      "A value is trying to be set on a copy of a slice from a DataFrame.\n",
      "Try using .loc[row_indexer,col_indexer] = value instead\n",
      "\n",
      "See the caveats in the documentation: https://pandas.pydata.org/pandas-docs/stable/user_guide/indexing.html#returning-a-view-versus-a-copy\n",
      "  df[\"Sender weight (kg)\"] = df[\"Sender weight (kg)\"]*volume\n",
      "\u001b[32m2023-08-09 18:40:32.466\u001b[0m | \u001b[1mINFO    \u001b[0m | \u001b[36msrc.co2_modells\u001b[0m:\u001b[36mpreprocessing_modelling\u001b[0m:\u001b[36m38\u001b[0m - \u001b[1m952.98\u001b[0m\n",
      "\u001b[32m2023-08-09 18:40:32.513\u001b[0m | \u001b[1mINFO    \u001b[0m | \u001b[36msrc.co2_modells\u001b[0m:\u001b[36mco2_modell\u001b[0m:\u001b[36m71\u001b[0m - \u001b[1m3.161153846153846\u001b[0m\n"
     ]
    },
    {
     "name": "stdout",
     "output_type": "stream",
     "text": [
      "Total processing time: 2.28125\n",
      "(257, 7)\n"
     ]
    },
    {
     "name": "stderr",
     "output_type": "stream",
     "text": [
      "C:\\Users\\marle\\OneDrive - tbs-education\\00_Masterarbeit\\Code\\notebooks\\..\\src\\create_solution.py:52: FutureWarning: Dropping of nuisance columns in DataFrame reductions (with 'numeric_only=None') is deprecated; in a future version this will raise TypeError.  Select only valid columns before calling the reduction.\n",
      "  distances['Dmin'] = distances.min(axis=1)\n",
      "\u001b[32m2023-08-09 18:40:34.649\u001b[0m | \u001b[1mINFO    \u001b[0m | \u001b[36msrc.evaluation_multi\u001b[0m:\u001b[36mevaluate_solution_multi\u001b[0m:\u001b[36m263\u001b[0m - \u001b[1m326.43292111268397\u001b[0m\n",
      "\u001b[32m2023-08-09 18:40:35.666\u001b[0m | \u001b[1mINFO    \u001b[0m | \u001b[36msrc.evaluation_multi\u001b[0m:\u001b[36mevaluate_solution_multi\u001b[0m:\u001b[36m312\u001b[0m - \u001b[1m1406.5822473996482\u001b[0m\n",
      "\u001b[32m2023-08-09 18:40:36.685\u001b[0m | \u001b[1mINFO    \u001b[0m | \u001b[36msrc.evaluation_multi\u001b[0m:\u001b[36mevaluate_solution_multi\u001b[0m:\u001b[36m312\u001b[0m - \u001b[1m2161.7731571411473\u001b[0m\n",
      "\u001b[32m2023-08-09 18:40:37.689\u001b[0m | \u001b[1mINFO    \u001b[0m | \u001b[36msrc.evaluation_multi\u001b[0m:\u001b[36mevaluate_solution_multi\u001b[0m:\u001b[36m312\u001b[0m - \u001b[1m2491.509138385865\u001b[0m\n",
      "\u001b[32m2023-08-09 18:40:37.689\u001b[0m | \u001b[1mINFO    \u001b[0m | \u001b[36msrc.evaluation_multi\u001b[0m:\u001b[36mevaluate_solution_multi\u001b[0m:\u001b[36m312\u001b[0m - \u001b[1m2491.509138385865\u001b[0m\n",
      "\u001b[32m2023-08-09 18:40:38.708\u001b[0m | \u001b[1mINFO    \u001b[0m | \u001b[36msrc.evaluation_multi\u001b[0m:\u001b[36mevaluate_solution_multi\u001b[0m:\u001b[36m312\u001b[0m - \u001b[1m4393.288307392773\u001b[0m\n",
      "\u001b[32m2023-08-09 18:40:39.738\u001b[0m | \u001b[1mINFO    \u001b[0m | \u001b[36msrc.evaluation_multi\u001b[0m:\u001b[36mevaluate_solution_multi\u001b[0m:\u001b[36m312\u001b[0m - \u001b[1m6129.261857031472\u001b[0m\n",
      "\u001b[32m2023-08-09 18:40:40.747\u001b[0m | \u001b[1mINFO    \u001b[0m | \u001b[36msrc.evaluation_multi\u001b[0m:\u001b[36mevaluate_solution_multi\u001b[0m:\u001b[36m312\u001b[0m - \u001b[1m6844.097369217536\u001b[0m\n",
      "\u001b[32m2023-08-09 18:40:41.763\u001b[0m | \u001b[1mINFO    \u001b[0m | \u001b[36msrc.evaluation_multi\u001b[0m:\u001b[36mevaluate_solution_multi\u001b[0m:\u001b[36m312\u001b[0m - \u001b[1m7283.734514479287\u001b[0m\n",
      "\u001b[32m2023-08-09 18:40:42.771\u001b[0m | \u001b[1mINFO    \u001b[0m | \u001b[36msrc.evaluation_multi\u001b[0m:\u001b[36mevaluate_solution_multi\u001b[0m:\u001b[36m312\u001b[0m - \u001b[1m7862.50145645243\u001b[0m\n",
      "\u001b[32m2023-08-09 18:40:43.775\u001b[0m | \u001b[1mINFO    \u001b[0m | \u001b[36msrc.evaluation_multi\u001b[0m:\u001b[36mevaluate_solution_multi\u001b[0m:\u001b[36m312\u001b[0m - \u001b[1m8711.38234126765\u001b[0m\n",
      "\u001b[32m2023-08-09 18:40:43.822\u001b[0m | \u001b[1mINFO    \u001b[0m | \u001b[36msrc.evaluation_multi\u001b[0m:\u001b[36mevaluate_solution_multi\u001b[0m:\u001b[36m320\u001b[0m - \u001b[1m10054.11595442276\u001b[0m\n",
      "C:\\Users\\marle\\AppData\\Local\\Temp\\ipykernel_27168\\2800501181.py:16: FutureWarning: The frame.append method is deprecated and will be removed from pandas in a future version. Use pandas.concat instead.\n",
      "  df_results = df_results.append(dict_results, ignore_index=True)\n",
      "C:\\Users\\marle\\OneDrive - tbs-education\\00_Masterarbeit\\Code\\notebooks\\..\\src\\co2_modells.py:29: SettingWithCopyWarning: \n",
      "A value is trying to be set on a copy of a slice from a DataFrame.\n",
      "Try using .loc[row_indexer,col_indexer] = value instead\n",
      "\n",
      "See the caveats in the documentation: https://pandas.pydata.org/pandas-docs/stable/user_guide/indexing.html#returning-a-view-versus-a-copy\n",
      "  df[\"Sender weight (kg)\"] = df[\"Sender weight (kg)\"]*volume\n",
      "\u001b[32m2023-08-09 18:40:43.853\u001b[0m | \u001b[1mINFO    \u001b[0m | \u001b[36msrc.co2_modells\u001b[0m:\u001b[36mpreprocessing_modelling\u001b[0m:\u001b[36m38\u001b[0m - \u001b[1m963.75\u001b[0m\n",
      "\u001b[32m2023-08-09 18:40:43.902\u001b[0m | \u001b[1mINFO    \u001b[0m | \u001b[36msrc.co2_modells\u001b[0m:\u001b[36mco2_modell\u001b[0m:\u001b[36m71\u001b[0m - \u001b[1m3.948923076923077\u001b[0m\n"
     ]
    },
    {
     "name": "stdout",
     "output_type": "stream",
     "text": [
      "Total processing time: 2.734375\n",
      "(310, 7)\n"
     ]
    },
    {
     "name": "stderr",
     "output_type": "stream",
     "text": [
      "C:\\Users\\marle\\OneDrive - tbs-education\\00_Masterarbeit\\Code\\notebooks\\..\\src\\create_solution.py:52: FutureWarning: Dropping of nuisance columns in DataFrame reductions (with 'numeric_only=None') is deprecated; in a future version this will raise TypeError.  Select only valid columns before calling the reduction.\n",
      "  distances['Dmin'] = distances.min(axis=1)\n",
      "\u001b[32m2023-08-09 18:40:46.080\u001b[0m | \u001b[1mINFO    \u001b[0m | \u001b[36msrc.evaluation_multi\u001b[0m:\u001b[36mevaluate_solution_multi\u001b[0m:\u001b[36m263\u001b[0m - \u001b[1m433.5799137416838\u001b[0m\n",
      "\u001b[32m2023-08-09 18:40:47.083\u001b[0m | \u001b[1mINFO    \u001b[0m | \u001b[36msrc.evaluation_multi\u001b[0m:\u001b[36mevaluate_solution_multi\u001b[0m:\u001b[36m312\u001b[0m - \u001b[1m1511.9643327690537\u001b[0m\n",
      "\u001b[32m2023-08-09 18:40:48.087\u001b[0m | \u001b[1mINFO    \u001b[0m | \u001b[36msrc.evaluation_multi\u001b[0m:\u001b[36mevaluate_solution_multi\u001b[0m:\u001b[36m312\u001b[0m - \u001b[1m2337.389306570152\u001b[0m\n",
      "\u001b[32m2023-08-09 18:40:48.103\u001b[0m | \u001b[1mINFO    \u001b[0m | \u001b[36msrc.evaluation_multi\u001b[0m:\u001b[36mevaluate_solution_multi\u001b[0m:\u001b[36m312\u001b[0m - \u001b[1m2337.389306570152\u001b[0m\n",
      "\u001b[32m2023-08-09 18:40:48.103\u001b[0m | \u001b[1mINFO    \u001b[0m | \u001b[36msrc.evaluation_multi\u001b[0m:\u001b[36mevaluate_solution_multi\u001b[0m:\u001b[36m312\u001b[0m - \u001b[1m2337.389306570152\u001b[0m\n",
      "\u001b[32m2023-08-09 18:40:49.122\u001b[0m | \u001b[1mINFO    \u001b[0m | \u001b[36msrc.evaluation_multi\u001b[0m:\u001b[36mevaluate_solution_multi\u001b[0m:\u001b[36m312\u001b[0m - \u001b[1m4336.277945380575\u001b[0m\n",
      "\u001b[32m2023-08-09 18:40:50.143\u001b[0m | \u001b[1mINFO    \u001b[0m | \u001b[36msrc.evaluation_multi\u001b[0m:\u001b[36mevaluate_solution_multi\u001b[0m:\u001b[36m312\u001b[0m - \u001b[1m5928.304411854089\u001b[0m\n",
      "\u001b[32m2023-08-09 18:40:51.146\u001b[0m | \u001b[1mINFO    \u001b[0m | \u001b[36msrc.evaluation_multi\u001b[0m:\u001b[36mevaluate_solution_multi\u001b[0m:\u001b[36m312\u001b[0m - \u001b[1m6635.653867210203\u001b[0m\n",
      "\u001b[32m2023-08-09 18:40:52.164\u001b[0m | \u001b[1mINFO    \u001b[0m | \u001b[36msrc.evaluation_multi\u001b[0m:\u001b[36mevaluate_solution_multi\u001b[0m:\u001b[36m312\u001b[0m - \u001b[1m7054.994427676306\u001b[0m\n",
      "\u001b[32m2023-08-09 18:40:53.167\u001b[0m | \u001b[1mINFO    \u001b[0m | \u001b[36msrc.evaluation_multi\u001b[0m:\u001b[36mevaluate_solution_multi\u001b[0m:\u001b[36m312\u001b[0m - \u001b[1m7798.985147731757\u001b[0m\n",
      "\u001b[32m2023-08-09 18:40:54.187\u001b[0m | \u001b[1mINFO    \u001b[0m | \u001b[36msrc.evaluation_multi\u001b[0m:\u001b[36mevaluate_solution_multi\u001b[0m:\u001b[36m312\u001b[0m - \u001b[1m8612.456215130089\u001b[0m\n",
      "\u001b[32m2023-08-09 18:40:54.218\u001b[0m | \u001b[1mINFO    \u001b[0m | \u001b[36msrc.evaluation_multi\u001b[0m:\u001b[36mevaluate_solution_multi\u001b[0m:\u001b[36m320\u001b[0m - \u001b[1m9748.187181014899\u001b[0m\n",
      "C:\\Users\\marle\\AppData\\Local\\Temp\\ipykernel_27168\\2800501181.py:16: FutureWarning: The frame.append method is deprecated and will be removed from pandas in a future version. Use pandas.concat instead.\n",
      "  df_results = df_results.append(dict_results, ignore_index=True)\n",
      "C:\\Users\\marle\\OneDrive - tbs-education\\00_Masterarbeit\\Code\\notebooks\\..\\src\\co2_modells.py:29: SettingWithCopyWarning: \n",
      "A value is trying to be set on a copy of a slice from a DataFrame.\n",
      "Try using .loc[row_indexer,col_indexer] = value instead\n",
      "\n",
      "See the caveats in the documentation: https://pandas.pydata.org/pandas-docs/stable/user_guide/indexing.html#returning-a-view-versus-a-copy\n",
      "  df[\"Sender weight (kg)\"] = df[\"Sender weight (kg)\"]*volume\n",
      "\u001b[32m2023-08-09 18:40:54.288\u001b[0m | \u001b[1mINFO    \u001b[0m | \u001b[36msrc.co2_modells\u001b[0m:\u001b[36mpreprocessing_modelling\u001b[0m:\u001b[36m38\u001b[0m - \u001b[1m780.0\u001b[0m\n",
      "\u001b[32m2023-08-09 18:40:54.312\u001b[0m | \u001b[1mINFO    \u001b[0m | \u001b[36msrc.co2_modells\u001b[0m:\u001b[36mco2_modell\u001b[0m:\u001b[36m71\u001b[0m - \u001b[1m2.6573076923076924\u001b[0m\n"
     ]
    },
    {
     "name": "stdout",
     "output_type": "stream",
     "text": [
      "Total processing time: 3.015625\n",
      "(262, 7)\n"
     ]
    },
    {
     "name": "stderr",
     "output_type": "stream",
     "text": [
      "C:\\Users\\marle\\OneDrive - tbs-education\\00_Masterarbeit\\Code\\notebooks\\..\\src\\create_solution.py:52: FutureWarning: Dropping of nuisance columns in DataFrame reductions (with 'numeric_only=None') is deprecated; in a future version this will raise TypeError.  Select only valid columns before calling the reduction.\n",
      "  distances['Dmin'] = distances.min(axis=1)\n",
      "\u001b[32m2023-08-09 18:40:56.432\u001b[0m | \u001b[1mINFO    \u001b[0m | \u001b[36msrc.evaluation_multi\u001b[0m:\u001b[36mevaluate_solution_multi\u001b[0m:\u001b[36m263\u001b[0m - \u001b[1m316.69396160544466\u001b[0m\n",
      "\u001b[32m2023-08-09 18:40:57.450\u001b[0m | \u001b[1mINFO    \u001b[0m | \u001b[36msrc.evaluation_multi\u001b[0m:\u001b[36mevaluate_solution_multi\u001b[0m:\u001b[36m312\u001b[0m - \u001b[1m1599.7859614658328\u001b[0m\n",
      "\u001b[32m2023-08-09 18:40:58.468\u001b[0m | \u001b[1mINFO    \u001b[0m | \u001b[36msrc.evaluation_multi\u001b[0m:\u001b[36mevaluate_solution_multi\u001b[0m:\u001b[36m312\u001b[0m - \u001b[1m2315.896349372595\u001b[0m\n",
      "\u001b[32m2023-08-09 18:40:59.473\u001b[0m | \u001b[1mINFO    \u001b[0m | \u001b[36msrc.evaluation_multi\u001b[0m:\u001b[36mevaluate_solution_multi\u001b[0m:\u001b[36m312\u001b[0m - \u001b[1m2645.5330332970493\u001b[0m\n",
      "\u001b[32m2023-08-09 18:40:59.489\u001b[0m | \u001b[1mINFO    \u001b[0m | \u001b[36msrc.evaluation_multi\u001b[0m:\u001b[36mevaluate_solution_multi\u001b[0m:\u001b[36m312\u001b[0m - \u001b[1m2645.5330332970493\u001b[0m\n",
      "\u001b[32m2023-08-09 18:41:00.501\u001b[0m | \u001b[1mINFO    \u001b[0m | \u001b[36msrc.evaluation_multi\u001b[0m:\u001b[36mevaluate_solution_multi\u001b[0m:\u001b[36m312\u001b[0m - \u001b[1m4503.393396528731\u001b[0m\n",
      "\u001b[32m2023-08-09 18:41:01.511\u001b[0m | \u001b[1mINFO    \u001b[0m | \u001b[36msrc.evaluation_multi\u001b[0m:\u001b[36mevaluate_solution_multi\u001b[0m:\u001b[36m312\u001b[0m - \u001b[1m6283.463203850406\u001b[0m\n",
      "\u001b[32m2023-08-09 18:41:02.530\u001b[0m | \u001b[1mINFO    \u001b[0m | \u001b[36msrc.evaluation_multi\u001b[0m:\u001b[36mevaluate_solution_multi\u001b[0m:\u001b[36m312\u001b[0m - \u001b[1m6867.7609351826495\u001b[0m\n",
      "\u001b[32m2023-08-09 18:41:03.533\u001b[0m | \u001b[1mINFO    \u001b[0m | \u001b[36msrc.evaluation_multi\u001b[0m:\u001b[36mevaluate_solution_multi\u001b[0m:\u001b[36m312\u001b[0m - \u001b[1m7323.4764636935\u001b[0m\n",
      "\u001b[32m2023-08-09 18:41:04.539\u001b[0m | \u001b[1mINFO    \u001b[0m | \u001b[36msrc.evaluation_multi\u001b[0m:\u001b[36mevaluate_solution_multi\u001b[0m:\u001b[36m312\u001b[0m - \u001b[1m7905.392737806475\u001b[0m\n",
      "\u001b[32m2023-08-09 18:41:05.558\u001b[0m | \u001b[1mINFO    \u001b[0m | \u001b[36msrc.evaluation_multi\u001b[0m:\u001b[36mevaluate_solution_multi\u001b[0m:\u001b[36m312\u001b[0m - \u001b[1m8549.539365024502\u001b[0m\n",
      "\u001b[32m2023-08-09 18:41:05.622\u001b[0m | \u001b[1mINFO    \u001b[0m | \u001b[36msrc.evaluation_multi\u001b[0m:\u001b[36mevaluate_solution_multi\u001b[0m:\u001b[36m320\u001b[0m - \u001b[1m9890.046776711453\u001b[0m\n",
      "C:\\Users\\marle\\AppData\\Local\\Temp\\ipykernel_27168\\2800501181.py:16: FutureWarning: The frame.append method is deprecated and will be removed from pandas in a future version. Use pandas.concat instead.\n",
      "  df_results = df_results.append(dict_results, ignore_index=True)\n",
      "\u001b[32m2023-08-09 18:41:05.637\u001b[0m | \u001b[1mINFO    \u001b[0m | \u001b[36msrc.co2_modells\u001b[0m:\u001b[36mpreprocessing_modelling\u001b[0m:\u001b[36m38\u001b[0m - \u001b[1mnan\u001b[0m\n",
      "C:\\Users\\marle\\OneDrive - tbs-education\\00_Masterarbeit\\Code\\notebooks\\..\\src\\co2_modells.py:29: SettingWithCopyWarning: \n",
      "A value is trying to be set on a copy of a slice from a DataFrame.\n",
      "Try using .loc[row_indexer,col_indexer] = value instead\n",
      "\n",
      "See the caveats in the documentation: https://pandas.pydata.org/pandas-docs/stable/user_guide/indexing.html#returning-a-view-versus-a-copy\n",
      "  df[\"Sender weight (kg)\"] = df[\"Sender weight (kg)\"]*volume\n",
      "\u001b[32m2023-08-09 18:41:05.653\u001b[0m | \u001b[1mINFO    \u001b[0m | \u001b[36msrc.co2_modells\u001b[0m:\u001b[36mpreprocessing_modelling\u001b[0m:\u001b[36m38\u001b[0m - \u001b[1m1932.98\u001b[0m\n",
      "\u001b[32m2023-08-09 18:41:05.684\u001b[0m | \u001b[1mINFO    \u001b[0m | \u001b[36msrc.co2_modells\u001b[0m:\u001b[36mco2_modell\u001b[0m:\u001b[36m71\u001b[0m - \u001b[1m5.967076923076923\u001b[0m\n"
     ]
    },
    {
     "name": "stdout",
     "output_type": "stream",
     "text": [
      "Total processing time: 3.65625\n",
      "(0, 10)\n",
      "No deliveries from 2022-01-15 to 2022-01-16\n",
      "(269, 7)\n"
     ]
    },
    {
     "name": "stderr",
     "output_type": "stream",
     "text": [
      "C:\\Users\\marle\\OneDrive - tbs-education\\00_Masterarbeit\\Code\\notebooks\\..\\src\\create_solution.py:52: FutureWarning: Dropping of nuisance columns in DataFrame reductions (with 'numeric_only=None') is deprecated; in a future version this will raise TypeError.  Select only valid columns before calling the reduction.\n",
      "  distances['Dmin'] = distances.min(axis=1)\n",
      "\u001b[32m2023-08-09 18:41:07.817\u001b[0m | \u001b[1mINFO    \u001b[0m | \u001b[36msrc.evaluation_multi\u001b[0m:\u001b[36mevaluate_solution_multi\u001b[0m:\u001b[36m263\u001b[0m - \u001b[1m560.9188496968609\u001b[0m\n",
      "\u001b[32m2023-08-09 18:41:08.837\u001b[0m | \u001b[1mINFO    \u001b[0m | \u001b[36msrc.evaluation_multi\u001b[0m:\u001b[36mevaluate_solution_multi\u001b[0m:\u001b[36m312\u001b[0m - \u001b[1m1567.7073252926361\u001b[0m\n",
      "\u001b[32m2023-08-09 18:41:09.841\u001b[0m | \u001b[1mINFO    \u001b[0m | \u001b[36msrc.evaluation_multi\u001b[0m:\u001b[36mevaluate_solution_multi\u001b[0m:\u001b[36m312\u001b[0m - \u001b[1m2462.2159128332314\u001b[0m\n",
      "\u001b[32m2023-08-09 18:41:10.861\u001b[0m | \u001b[1mINFO    \u001b[0m | \u001b[36msrc.evaluation_multi\u001b[0m:\u001b[36mevaluate_solution_multi\u001b[0m:\u001b[36m312\u001b[0m - \u001b[1m2800.3606588142625\u001b[0m\n",
      "\u001b[32m2023-08-09 18:41:10.861\u001b[0m | \u001b[1mINFO    \u001b[0m | \u001b[36msrc.evaluation_multi\u001b[0m:\u001b[36mevaluate_solution_multi\u001b[0m:\u001b[36m312\u001b[0m - \u001b[1m2800.3606588142625\u001b[0m\n",
      "\u001b[32m2023-08-09 18:41:11.881\u001b[0m | \u001b[1mINFO    \u001b[0m | \u001b[36msrc.evaluation_multi\u001b[0m:\u001b[36mevaluate_solution_multi\u001b[0m:\u001b[36m312\u001b[0m - \u001b[1m4699.458118807815\u001b[0m\n",
      "\u001b[32m2023-08-09 18:41:12.921\u001b[0m | \u001b[1mINFO    \u001b[0m | \u001b[36msrc.evaluation_multi\u001b[0m:\u001b[36mevaluate_solution_multi\u001b[0m:\u001b[36m312\u001b[0m - \u001b[1m6427.374456750455\u001b[0m\n",
      "\u001b[32m2023-08-09 18:41:13.936\u001b[0m | \u001b[1mINFO    \u001b[0m | \u001b[36msrc.evaluation_multi\u001b[0m:\u001b[36mevaluate_solution_multi\u001b[0m:\u001b[36m312\u001b[0m - \u001b[1m7182.6213537044105\u001b[0m\n",
      "\u001b[32m2023-08-09 18:41:14.941\u001b[0m | \u001b[1mINFO    \u001b[0m | \u001b[36msrc.evaluation_multi\u001b[0m:\u001b[36mevaluate_solution_multi\u001b[0m:\u001b[36m312\u001b[0m - \u001b[1m7603.60950876217\u001b[0m\n",
      "\u001b[32m2023-08-09 18:41:15.944\u001b[0m | \u001b[1mINFO    \u001b[0m | \u001b[36msrc.evaluation_multi\u001b[0m:\u001b[36mevaluate_solution_multi\u001b[0m:\u001b[36m312\u001b[0m - \u001b[1m8327.121718090697\u001b[0m\n",
      "\u001b[32m2023-08-09 18:41:16.963\u001b[0m | \u001b[1mINFO    \u001b[0m | \u001b[36msrc.evaluation_multi\u001b[0m:\u001b[36mevaluate_solution_multi\u001b[0m:\u001b[36m312\u001b[0m - \u001b[1m8940.316693102975\u001b[0m\n",
      "\u001b[32m2023-08-09 18:41:17.010\u001b[0m | \u001b[1mINFO    \u001b[0m | \u001b[36msrc.evaluation_multi\u001b[0m:\u001b[36mevaluate_solution_multi\u001b[0m:\u001b[36m320\u001b[0m - \u001b[1m10302.778240773205\u001b[0m\n",
      "C:\\Users\\marle\\AppData\\Local\\Temp\\ipykernel_27168\\2800501181.py:16: FutureWarning: The frame.append method is deprecated and will be removed from pandas in a future version. Use pandas.concat instead.\n",
      "  df_results = df_results.append(dict_results, ignore_index=True)\n",
      "C:\\Users\\marle\\OneDrive - tbs-education\\00_Masterarbeit\\Code\\notebooks\\..\\src\\co2_modells.py:29: SettingWithCopyWarning: \n",
      "A value is trying to be set on a copy of a slice from a DataFrame.\n",
      "Try using .loc[row_indexer,col_indexer] = value instead\n",
      "\n",
      "See the caveats in the documentation: https://pandas.pydata.org/pandas-docs/stable/user_guide/indexing.html#returning-a-view-versus-a-copy\n",
      "  df[\"Sender weight (kg)\"] = df[\"Sender weight (kg)\"]*volume\n",
      "\u001b[32m2023-08-09 18:41:17.042\u001b[0m | \u001b[1mINFO    \u001b[0m | \u001b[36msrc.co2_modells\u001b[0m:\u001b[36mpreprocessing_modelling\u001b[0m:\u001b[36m38\u001b[0m - \u001b[1m1180.48\u001b[0m\n",
      "\u001b[32m2023-08-09 18:41:17.057\u001b[0m | \u001b[1mINFO    \u001b[0m | \u001b[36msrc.co2_modells\u001b[0m:\u001b[36mco2_modell\u001b[0m:\u001b[36m71\u001b[0m - \u001b[1m4.360230769230769\u001b[0m\n"
     ]
    },
    {
     "name": "stdout",
     "output_type": "stream",
     "text": [
      "Total processing time: 3.640625\n",
      "(247, 7)\n"
     ]
    },
    {
     "name": "stderr",
     "output_type": "stream",
     "text": [
      "C:\\Users\\marle\\OneDrive - tbs-education\\00_Masterarbeit\\Code\\notebooks\\..\\src\\create_solution.py:52: FutureWarning: Dropping of nuisance columns in DataFrame reductions (with 'numeric_only=None') is deprecated; in a future version this will raise TypeError.  Select only valid columns before calling the reduction.\n",
      "  distances['Dmin'] = distances.min(axis=1)\n",
      "\u001b[32m2023-08-09 18:41:19.174\u001b[0m | \u001b[1mINFO    \u001b[0m | \u001b[36msrc.evaluation_multi\u001b[0m:\u001b[36mevaluate_solution_multi\u001b[0m:\u001b[36m263\u001b[0m - \u001b[1m438.1837100304853\u001b[0m\n",
      "\u001b[32m2023-08-09 18:41:20.179\u001b[0m | \u001b[1mINFO    \u001b[0m | \u001b[36msrc.evaluation_multi\u001b[0m:\u001b[36mevaluate_solution_multi\u001b[0m:\u001b[36m312\u001b[0m - \u001b[1m1548.2327597092633\u001b[0m\n",
      "\u001b[32m2023-08-09 18:41:21.199\u001b[0m | \u001b[1mINFO    \u001b[0m | \u001b[36msrc.evaluation_multi\u001b[0m:\u001b[36mevaluate_solution_multi\u001b[0m:\u001b[36m312\u001b[0m - \u001b[1m2300.1109470977444\u001b[0m\n",
      "\u001b[32m2023-08-09 18:41:21.199\u001b[0m | \u001b[1mINFO    \u001b[0m | \u001b[36msrc.evaluation_multi\u001b[0m:\u001b[36mevaluate_solution_multi\u001b[0m:\u001b[36m312\u001b[0m - \u001b[1m2300.1109470977444\u001b[0m\n",
      "\u001b[32m2023-08-09 18:41:21.199\u001b[0m | \u001b[1mINFO    \u001b[0m | \u001b[36msrc.evaluation_multi\u001b[0m:\u001b[36mevaluate_solution_multi\u001b[0m:\u001b[36m312\u001b[0m - \u001b[1m2300.1109470977444\u001b[0m\n",
      "\u001b[32m2023-08-09 18:41:22.219\u001b[0m | \u001b[1mINFO    \u001b[0m | \u001b[36msrc.evaluation_multi\u001b[0m:\u001b[36mevaluate_solution_multi\u001b[0m:\u001b[36m312\u001b[0m - \u001b[1m4085.474390415185\u001b[0m\n",
      "\u001b[32m2023-08-09 18:41:23.238\u001b[0m | \u001b[1mINFO    \u001b[0m | \u001b[36msrc.evaluation_multi\u001b[0m:\u001b[36mevaluate_solution_multi\u001b[0m:\u001b[36m312\u001b[0m - \u001b[1m5629.881315747119\u001b[0m\n",
      "\u001b[32m2023-08-09 18:41:24.244\u001b[0m | \u001b[1mINFO    \u001b[0m | \u001b[36msrc.evaluation_multi\u001b[0m:\u001b[36mevaluate_solution_multi\u001b[0m:\u001b[36m312\u001b[0m - \u001b[1m6364.1600510746875\u001b[0m\n",
      "\u001b[32m2023-08-09 18:41:25.265\u001b[0m | \u001b[1mINFO    \u001b[0m | \u001b[36msrc.evaluation_multi\u001b[0m:\u001b[36mevaluate_solution_multi\u001b[0m:\u001b[36m312\u001b[0m - \u001b[1m6774.195911580743\u001b[0m\n",
      "\u001b[32m2023-08-09 18:41:26.268\u001b[0m | \u001b[1mINFO    \u001b[0m | \u001b[36msrc.evaluation_multi\u001b[0m:\u001b[36mevaluate_solution_multi\u001b[0m:\u001b[36m312\u001b[0m - \u001b[1m7366.862439800606\u001b[0m\n",
      "\u001b[32m2023-08-09 18:41:27.288\u001b[0m | \u001b[1mINFO    \u001b[0m | \u001b[36msrc.evaluation_multi\u001b[0m:\u001b[36mevaluate_solution_multi\u001b[0m:\u001b[36m312\u001b[0m - \u001b[1m8117.803528166637\u001b[0m\n",
      "\u001b[32m2023-08-09 18:41:27.328\u001b[0m | \u001b[1mINFO    \u001b[0m | \u001b[36msrc.evaluation_multi\u001b[0m:\u001b[36mevaluate_solution_multi\u001b[0m:\u001b[36m320\u001b[0m - \u001b[1m9255.494763880868\u001b[0m\n",
      "C:\\Users\\marle\\AppData\\Local\\Temp\\ipykernel_27168\\2800501181.py:16: FutureWarning: The frame.append method is deprecated and will be removed from pandas in a future version. Use pandas.concat instead.\n",
      "  df_results = df_results.append(dict_results, ignore_index=True)\n",
      "C:\\Users\\marle\\OneDrive - tbs-education\\00_Masterarbeit\\Code\\notebooks\\..\\src\\co2_modells.py:29: SettingWithCopyWarning: \n",
      "A value is trying to be set on a copy of a slice from a DataFrame.\n",
      "Try using .loc[row_indexer,col_indexer] = value instead\n",
      "\n",
      "See the caveats in the documentation: https://pandas.pydata.org/pandas-docs/stable/user_guide/indexing.html#returning-a-view-versus-a-copy\n",
      "  df[\"Sender weight (kg)\"] = df[\"Sender weight (kg)\"]*volume\n",
      "\u001b[32m2023-08-09 18:41:27.346\u001b[0m | \u001b[1mINFO    \u001b[0m | \u001b[36msrc.co2_modells\u001b[0m:\u001b[36mpreprocessing_modelling\u001b[0m:\u001b[36m38\u001b[0m - \u001b[1m1905.96\u001b[0m\n",
      "\u001b[32m2023-08-09 18:41:27.375\u001b[0m | \u001b[1mINFO    \u001b[0m | \u001b[36msrc.co2_modells\u001b[0m:\u001b[36mco2_modell\u001b[0m:\u001b[36m71\u001b[0m - \u001b[1m6.331615384615384\u001b[0m\n"
     ]
    },
    {
     "name": "stdout",
     "output_type": "stream",
     "text": [
      "Total processing time: 3.78125\n",
      "(257, 7)\n"
     ]
    },
    {
     "name": "stderr",
     "output_type": "stream",
     "text": [
      "C:\\Users\\marle\\OneDrive - tbs-education\\00_Masterarbeit\\Code\\notebooks\\..\\src\\create_solution.py:52: FutureWarning: Dropping of nuisance columns in DataFrame reductions (with 'numeric_only=None') is deprecated; in a future version this will raise TypeError.  Select only valid columns before calling the reduction.\n",
      "  distances['Dmin'] = distances.min(axis=1)\n",
      "\u001b[32m2023-08-09 18:41:29.495\u001b[0m | \u001b[1mINFO    \u001b[0m | \u001b[36msrc.evaluation_multi\u001b[0m:\u001b[36mevaluate_solution_multi\u001b[0m:\u001b[36m263\u001b[0m - \u001b[1m653.0858613446704\u001b[0m\n",
      "\u001b[32m2023-08-09 18:41:30.514\u001b[0m | \u001b[1mINFO    \u001b[0m | \u001b[36msrc.evaluation_multi\u001b[0m:\u001b[36mevaluate_solution_multi\u001b[0m:\u001b[36m312\u001b[0m - \u001b[1m1774.6275024150864\u001b[0m\n",
      "\u001b[32m2023-08-09 18:41:31.525\u001b[0m | \u001b[1mINFO    \u001b[0m | \u001b[36msrc.evaluation_multi\u001b[0m:\u001b[36mevaluate_solution_multi\u001b[0m:\u001b[36m312\u001b[0m - \u001b[1m2541.7805002459318\u001b[0m\n",
      "\u001b[32m2023-08-09 18:41:32.523\u001b[0m | \u001b[1mINFO    \u001b[0m | \u001b[36msrc.evaluation_multi\u001b[0m:\u001b[36mevaluate_solution_multi\u001b[0m:\u001b[36m312\u001b[0m - \u001b[1m2871.7269918096076\u001b[0m\n",
      "\u001b[32m2023-08-09 18:41:32.523\u001b[0m | \u001b[1mINFO    \u001b[0m | \u001b[36msrc.evaluation_multi\u001b[0m:\u001b[36mevaluate_solution_multi\u001b[0m:\u001b[36m312\u001b[0m - \u001b[1m2871.7269918096076\u001b[0m\n",
      "\u001b[32m2023-08-09 18:41:33.543\u001b[0m | \u001b[1mINFO    \u001b[0m | \u001b[36msrc.evaluation_multi\u001b[0m:\u001b[36mevaluate_solution_multi\u001b[0m:\u001b[36m312\u001b[0m - \u001b[1m4879.677469846831\u001b[0m\n",
      "\u001b[32m2023-08-09 18:41:34.562\u001b[0m | \u001b[1mINFO    \u001b[0m | \u001b[36msrc.evaluation_multi\u001b[0m:\u001b[36mevaluate_solution_multi\u001b[0m:\u001b[36m312\u001b[0m - \u001b[1m6684.502447250158\u001b[0m\n",
      "\u001b[32m2023-08-09 18:41:35.582\u001b[0m | \u001b[1mINFO    \u001b[0m | \u001b[36msrc.evaluation_multi\u001b[0m:\u001b[36mevaluate_solution_multi\u001b[0m:\u001b[36m312\u001b[0m - \u001b[1m7426.030239064244\u001b[0m\n",
      "\u001b[32m2023-08-09 18:41:36.586\u001b[0m | \u001b[1mINFO    \u001b[0m | \u001b[36msrc.evaluation_multi\u001b[0m:\u001b[36mevaluate_solution_multi\u001b[0m:\u001b[36m312\u001b[0m - \u001b[1m7872.316696153465\u001b[0m\n",
      "\u001b[32m2023-08-09 18:41:37.590\u001b[0m | \u001b[1mINFO    \u001b[0m | \u001b[36msrc.evaluation_multi\u001b[0m:\u001b[36mevaluate_solution_multi\u001b[0m:\u001b[36m312\u001b[0m - \u001b[1m8458.68371973083\u001b[0m\n",
      "\u001b[32m2023-08-09 18:41:38.610\u001b[0m | \u001b[1mINFO    \u001b[0m | \u001b[36msrc.evaluation_multi\u001b[0m:\u001b[36mevaluate_solution_multi\u001b[0m:\u001b[36m312\u001b[0m - \u001b[1m9325.518090368203\u001b[0m\n",
      "\u001b[32m2023-08-09 18:41:38.665\u001b[0m | \u001b[1mINFO    \u001b[0m | \u001b[36msrc.evaluation_multi\u001b[0m:\u001b[36mevaluate_solution_multi\u001b[0m:\u001b[36m320\u001b[0m - \u001b[1m10689.761202166097\u001b[0m\n",
      "C:\\Users\\marle\\AppData\\Local\\Temp\\ipykernel_27168\\2800501181.py:16: FutureWarning: The frame.append method is deprecated and will be removed from pandas in a future version. Use pandas.concat instead.\n",
      "  df_results = df_results.append(dict_results, ignore_index=True)\n",
      "C:\\Users\\marle\\OneDrive - tbs-education\\00_Masterarbeit\\Code\\notebooks\\..\\src\\co2_modells.py:29: SettingWithCopyWarning: \n",
      "A value is trying to be set on a copy of a slice from a DataFrame.\n",
      "Try using .loc[row_indexer,col_indexer] = value instead\n",
      "\n",
      "See the caveats in the documentation: https://pandas.pydata.org/pandas-docs/stable/user_guide/indexing.html#returning-a-view-versus-a-copy\n",
      "  df[\"Sender weight (kg)\"] = df[\"Sender weight (kg)\"]*volume\n",
      "\u001b[32m2023-08-09 18:41:38.704\u001b[0m | \u001b[1mINFO    \u001b[0m | \u001b[36msrc.co2_modells\u001b[0m:\u001b[36mpreprocessing_modelling\u001b[0m:\u001b[36m38\u001b[0m - \u001b[1m1927.5\u001b[0m\n",
      "\u001b[32m2023-08-09 18:41:38.735\u001b[0m | \u001b[1mINFO    \u001b[0m | \u001b[36msrc.co2_modells\u001b[0m:\u001b[36mco2_modell\u001b[0m:\u001b[36m71\u001b[0m - \u001b[1m7.909153846153846\u001b[0m\n"
     ]
    },
    {
     "name": "stdout",
     "output_type": "stream",
     "text": [
      "Total processing time: 4.09375\n",
      "(310, 7)\n"
     ]
    },
    {
     "name": "stderr",
     "output_type": "stream",
     "text": [
      "C:\\Users\\marle\\OneDrive - tbs-education\\00_Masterarbeit\\Code\\notebooks\\..\\src\\create_solution.py:52: FutureWarning: Dropping of nuisance columns in DataFrame reductions (with 'numeric_only=None') is deprecated; in a future version this will raise TypeError.  Select only valid columns before calling the reduction.\n",
      "  distances['Dmin'] = distances.min(axis=1)\n",
      "\u001b[32m2023-08-09 18:41:40.883\u001b[0m | \u001b[1mINFO    \u001b[0m | \u001b[36msrc.evaluation_multi\u001b[0m:\u001b[36mevaluate_solution_multi\u001b[0m:\u001b[36m263\u001b[0m - \u001b[1m781.2550581274041\u001b[0m\n",
      "\u001b[32m2023-08-09 18:41:41.902\u001b[0m | \u001b[1mINFO    \u001b[0m | \u001b[36msrc.evaluation_multi\u001b[0m:\u001b[36mevaluate_solution_multi\u001b[0m:\u001b[36m312\u001b[0m - \u001b[1m1908.4716622613978\u001b[0m\n",
      "\u001b[32m2023-08-09 18:41:42.922\u001b[0m | \u001b[1mINFO    \u001b[0m | \u001b[36msrc.evaluation_multi\u001b[0m:\u001b[36mevaluate_solution_multi\u001b[0m:\u001b[36m312\u001b[0m - \u001b[1m2763.8598885029696\u001b[0m\n",
      "\u001b[32m2023-08-09 18:41:42.922\u001b[0m | \u001b[1mINFO    \u001b[0m | \u001b[36msrc.evaluation_multi\u001b[0m:\u001b[36mevaluate_solution_multi\u001b[0m:\u001b[36m312\u001b[0m - \u001b[1m2763.8598885029696\u001b[0m\n",
      "\u001b[32m2023-08-09 18:41:42.922\u001b[0m | \u001b[1mINFO    \u001b[0m | \u001b[36msrc.evaluation_multi\u001b[0m:\u001b[36mevaluate_solution_multi\u001b[0m:\u001b[36m312\u001b[0m - \u001b[1m2763.8598885029696\u001b[0m\n",
      "\u001b[32m2023-08-09 18:41:43.942\u001b[0m | \u001b[1mINFO    \u001b[0m | \u001b[36msrc.evaluation_multi\u001b[0m:\u001b[36mevaluate_solution_multi\u001b[0m:\u001b[36m312\u001b[0m - \u001b[1m5106.5377636640305\u001b[0m\n",
      "\u001b[32m2023-08-09 18:41:44.961\u001b[0m | \u001b[1mINFO    \u001b[0m | \u001b[36msrc.evaluation_multi\u001b[0m:\u001b[36mevaluate_solution_multi\u001b[0m:\u001b[36m312\u001b[0m - \u001b[1m6716.932967006285\u001b[0m\n",
      "\u001b[32m2023-08-09 18:41:45.981\u001b[0m | \u001b[1mINFO    \u001b[0m | \u001b[36msrc.evaluation_multi\u001b[0m:\u001b[36mevaluate_solution_multi\u001b[0m:\u001b[36m312\u001b[0m - \u001b[1m7454.54855276549\u001b[0m\n",
      "\u001b[32m2023-08-09 18:41:46.985\u001b[0m | \u001b[1mINFO    \u001b[0m | \u001b[36msrc.evaluation_multi\u001b[0m:\u001b[36mevaluate_solution_multi\u001b[0m:\u001b[36m312\u001b[0m - \u001b[1m7881.661823158267\u001b[0m\n",
      "\u001b[32m2023-08-09 18:41:48.004\u001b[0m | \u001b[1mINFO    \u001b[0m | \u001b[36msrc.evaluation_multi\u001b[0m:\u001b[36mevaluate_solution_multi\u001b[0m:\u001b[36m312\u001b[0m - \u001b[1m8644.101050168725\u001b[0m\n",
      "\u001b[32m2023-08-09 18:41:49.007\u001b[0m | \u001b[1mINFO    \u001b[0m | \u001b[36msrc.evaluation_multi\u001b[0m:\u001b[36mevaluate_solution_multi\u001b[0m:\u001b[36m312\u001b[0m - \u001b[1m9477.596687115563\u001b[0m\n",
      "\u001b[32m2023-08-09 18:41:49.054\u001b[0m | \u001b[1mINFO    \u001b[0m | \u001b[36msrc.evaluation_multi\u001b[0m:\u001b[36mevaluate_solution_multi\u001b[0m:\u001b[36m320\u001b[0m - \u001b[1m10640.58096234281\u001b[0m\n",
      "C:\\Users\\marle\\AppData\\Local\\Temp\\ipykernel_27168\\2800501181.py:16: FutureWarning: The frame.append method is deprecated and will be removed from pandas in a future version. Use pandas.concat instead.\n",
      "  df_results = df_results.append(dict_results, ignore_index=True)\n",
      "C:\\Users\\marle\\OneDrive - tbs-education\\00_Masterarbeit\\Code\\notebooks\\..\\src\\co2_modells.py:29: SettingWithCopyWarning: \n",
      "A value is trying to be set on a copy of a slice from a DataFrame.\n",
      "Try using .loc[row_indexer,col_indexer] = value instead\n",
      "\n",
      "See the caveats in the documentation: https://pandas.pydata.org/pandas-docs/stable/user_guide/indexing.html#returning-a-view-versus-a-copy\n",
      "  df[\"Sender weight (kg)\"] = df[\"Sender weight (kg)\"]*volume\n",
      "\u001b[32m2023-08-09 18:41:49.069\u001b[0m | \u001b[1mINFO    \u001b[0m | \u001b[36msrc.co2_modells\u001b[0m:\u001b[36mpreprocessing_modelling\u001b[0m:\u001b[36m38\u001b[0m - \u001b[1m1560.0\u001b[0m\n",
      "\u001b[32m2023-08-09 18:41:49.085\u001b[0m | \u001b[1mINFO    \u001b[0m | \u001b[36msrc.co2_modells\u001b[0m:\u001b[36mco2_modell\u001b[0m:\u001b[36m71\u001b[0m - \u001b[1m5.324692307692308\u001b[0m\n"
     ]
    },
    {
     "name": "stdout",
     "output_type": "stream",
     "text": [
      "Total processing time: 3.8125\n",
      "(262, 7)\n"
     ]
    },
    {
     "name": "stderr",
     "output_type": "stream",
     "text": [
      "C:\\Users\\marle\\OneDrive - tbs-education\\00_Masterarbeit\\Code\\notebooks\\..\\src\\create_solution.py:52: FutureWarning: Dropping of nuisance columns in DataFrame reductions (with 'numeric_only=None') is deprecated; in a future version this will raise TypeError.  Select only valid columns before calling the reduction.\n",
      "  distances['Dmin'] = distances.min(axis=1)\n",
      "\u001b[32m2023-08-09 18:41:51.195\u001b[0m | \u001b[1mINFO    \u001b[0m | \u001b[36msrc.evaluation_multi\u001b[0m:\u001b[36mevaluate_solution_multi\u001b[0m:\u001b[36m263\u001b[0m - \u001b[1m547.4561703780303\u001b[0m\n",
      "\u001b[32m2023-08-09 18:41:52.214\u001b[0m | \u001b[1mINFO    \u001b[0m | \u001b[36msrc.evaluation_multi\u001b[0m:\u001b[36mevaluate_solution_multi\u001b[0m:\u001b[36m312\u001b[0m - \u001b[1m1897.7431386627102\u001b[0m\n",
      "\u001b[32m2023-08-09 18:41:53.219\u001b[0m | \u001b[1mINFO    \u001b[0m | \u001b[36msrc.evaluation_multi\u001b[0m:\u001b[36mevaluate_solution_multi\u001b[0m:\u001b[36m312\u001b[0m - \u001b[1m2621.5671579635346\u001b[0m\n",
      "\u001b[32m2023-08-09 18:41:54.239\u001b[0m | \u001b[1mINFO    \u001b[0m | \u001b[36msrc.evaluation_multi\u001b[0m:\u001b[36mevaluate_solution_multi\u001b[0m:\u001b[36m312\u001b[0m - \u001b[1m2951.315054886684\u001b[0m\n",
      "\u001b[32m2023-08-09 18:41:54.239\u001b[0m | \u001b[1mINFO    \u001b[0m | \u001b[36msrc.evaluation_multi\u001b[0m:\u001b[36mevaluate_solution_multi\u001b[0m:\u001b[36m312\u001b[0m - \u001b[1m2951.315054886684\u001b[0m\n",
      "\u001b[32m2023-08-09 18:41:55.258\u001b[0m | \u001b[1mINFO    \u001b[0m | \u001b[36msrc.evaluation_multi\u001b[0m:\u001b[36mevaluate_solution_multi\u001b[0m:\u001b[36m312\u001b[0m - \u001b[1m4949.422425794312\u001b[0m\n",
      "\u001b[32m2023-08-09 18:41:56.278\u001b[0m | \u001b[1mINFO    \u001b[0m | \u001b[36msrc.evaluation_multi\u001b[0m:\u001b[36mevaluate_solution_multi\u001b[0m:\u001b[36m312\u001b[0m - \u001b[1m6795.755452500368\u001b[0m\n",
      "\u001b[32m2023-08-09 18:41:57.298\u001b[0m | \u001b[1mINFO    \u001b[0m | \u001b[36msrc.evaluation_multi\u001b[0m:\u001b[36mevaluate_solution_multi\u001b[0m:\u001b[36m312\u001b[0m - \u001b[1m7392.365855904753\u001b[0m\n",
      "\u001b[32m2023-08-09 18:41:58.301\u001b[0m | \u001b[1mINFO    \u001b[0m | \u001b[36msrc.evaluation_multi\u001b[0m:\u001b[36mevaluate_solution_multi\u001b[0m:\u001b[36m312\u001b[0m - \u001b[1m7853.940586021865\u001b[0m\n",
      "\u001b[32m2023-08-09 18:41:59.321\u001b[0m | \u001b[1mINFO    \u001b[0m | \u001b[36msrc.evaluation_multi\u001b[0m:\u001b[36mevaluate_solution_multi\u001b[0m:\u001b[36m312\u001b[0m - \u001b[1m8446.579637341447\u001b[0m\n",
      "\u001b[32m2023-08-09 18:42:00.325\u001b[0m | \u001b[1mINFO    \u001b[0m | \u001b[36msrc.evaluation_multi\u001b[0m:\u001b[36mevaluate_solution_multi\u001b[0m:\u001b[36m312\u001b[0m - \u001b[1m9094.85747366407\u001b[0m\n",
      "\u001b[32m2023-08-09 18:42:00.372\u001b[0m | \u001b[1mINFO    \u001b[0m | \u001b[36msrc.evaluation_multi\u001b[0m:\u001b[36mevaluate_solution_multi\u001b[0m:\u001b[36m320\u001b[0m - \u001b[1m10454.648182525647\u001b[0m\n",
      "C:\\Users\\marle\\AppData\\Local\\Temp\\ipykernel_27168\\2800501181.py:16: FutureWarning: The frame.append method is deprecated and will be removed from pandas in a future version. Use pandas.concat instead.\n",
      "  df_results = df_results.append(dict_results, ignore_index=True)\n",
      "\u001b[32m2023-08-09 18:42:00.419\u001b[0m | \u001b[1mINFO    \u001b[0m | \u001b[36msrc.co2_modells\u001b[0m:\u001b[36mpreprocessing_modelling\u001b[0m:\u001b[36m38\u001b[0m - \u001b[1mnan\u001b[0m\n"
     ]
    },
    {
     "name": "stdout",
     "output_type": "stream",
     "text": [
      "Total processing time: 3.578125\n",
      "(0, 10)\n",
      "No deliveries from 2022-01-15 to 2022-01-16\n"
     ]
    },
    {
     "data": {
      "text/html": [
       "<div>\n",
       "<style scoped>\n",
       "    .dataframe tbody tr th:only-of-type {\n",
       "        vertical-align: middle;\n",
       "    }\n",
       "\n",
       "    .dataframe tbody tr th {\n",
       "        vertical-align: top;\n",
       "    }\n",
       "\n",
       "    .dataframe thead th {\n",
       "        text-align: right;\n",
       "    }\n",
       "</style>\n",
       "<table border=\"1\" class=\"dataframe\">\n",
       "  <thead>\n",
       "    <tr style=\"text-align: right;\">\n",
       "      <th></th>\n",
       "      <th>date from</th>\n",
       "      <th>date to</th>\n",
       "      <th>co2 road</th>\n",
       "      <th>distance road</th>\n",
       "      <th>routes road</th>\n",
       "      <th>processing time road</th>\n",
       "      <th>co2 railroad</th>\n",
       "      <th>distance railroad</th>\n",
       "      <th>terminal allocation</th>\n",
       "      <th>routes railroad</th>\n",
       "      <th>processing time railroad</th>\n",
       "      <th>volume</th>\n",
       "    </tr>\n",
       "  </thead>\n",
       "  <tbody>\n",
       "    <tr>\n",
       "      <th>0</th>\n",
       "      <td>2022-01-10 10:25:00</td>\n",
       "      <td>2022-01-10 16:11:00</td>\n",
       "      <td>9186.981177</td>\n",
       "      <td>10517752</td>\n",
       "      <td>[[DC1, C768, C464, C453, C119, C547, C34, C27,...</td>\n",
       "      <td>0.750000</td>\n",
       "      <td>9278.875996</td>\n",
       "      <td>14638247.4</td>\n",
       "      <td>[[C16, C300, C194, C124, C353, C113, C661, C69...</td>\n",
       "      <td>{'T1': [['T1', 'C935', 'C284', 'C238', 'C196',...</td>\n",
       "      <td>9.078125</td>\n",
       "      <td>1.0</td>\n",
       "    </tr>\n",
       "    <tr>\n",
       "      <th>1</th>\n",
       "      <td>2022-01-11 07:44:00</td>\n",
       "      <td>2022-01-11 17:24:00</td>\n",
       "      <td>8286.805958</td>\n",
       "      <td>9627526</td>\n",
       "      <td>[[DC1, C464, C500, C529, C119, C547, C34, C27,...</td>\n",
       "      <td>0.828125</td>\n",
       "      <td>8399.825826</td>\n",
       "      <td>13047622.4</td>\n",
       "      <td>[[C664, C16, C698, C300, C194, C124, C697, C77...</td>\n",
       "      <td>{'T1': [['T1', 'C284', 'C238', 'C55', 'C883', ...</td>\n",
       "      <td>6.546875</td>\n",
       "      <td>1.0</td>\n",
       "    </tr>\n",
       "    <tr>\n",
       "      <th>2</th>\n",
       "      <td>2022-01-12 05:07:00</td>\n",
       "      <td>2022-01-12 16:11:00</td>\n",
       "      <td>10092.565694</td>\n",
       "      <td>11510459</td>\n",
       "      <td>[[DC1, C768, C464, C500, C529, C119, C599, C27...</td>\n",
       "      <td>0.234375</td>\n",
       "      <td>9424.608819</td>\n",
       "      <td>14784544.4</td>\n",
       "      <td>[[C16, C698, C300, C194, C676, C697, C778, C35...</td>\n",
       "      <td>{'T1': [['T1', 'C676', 'C698', 'C16', 'C300', ...</td>\n",
       "      <td>3.140625</td>\n",
       "      <td>1.0</td>\n",
       "    </tr>\n",
       "    <tr>\n",
       "      <th>3</th>\n",
       "      <td>2022-01-13 07:17:00</td>\n",
       "      <td>2022-01-13 16:40:00</td>\n",
       "      <td>9713.142073</td>\n",
       "      <td>10884029</td>\n",
       "      <td>[[DC1, C464, C500, C529, C451, C453, C1126, C7...</td>\n",
       "      <td>0.453125</td>\n",
       "      <td>8975.199571</td>\n",
       "      <td>13688405.4</td>\n",
       "      <td>[[C16, C300, C194, C676, C850, C124, C697, C35...</td>\n",
       "      <td>{'T1': [['T1', 'C850', 'C676', 'C16', 'C300', ...</td>\n",
       "      <td>3.531250</td>\n",
       "      <td>1.0</td>\n",
       "    </tr>\n",
       "    <tr>\n",
       "      <th>4</th>\n",
       "      <td>2022-01-14 10:47:00</td>\n",
       "      <td>2022-01-14 15:34:00</td>\n",
       "      <td>9668.144891</td>\n",
       "      <td>11119586</td>\n",
       "      <td>[[DC1, C768, C464, C500, C453, C451, C119, C34...</td>\n",
       "      <td>0.437500</td>\n",
       "      <td>9303.825836</td>\n",
       "      <td>14656200.4</td>\n",
       "      <td>[[C664, C16, C698, C300, C194, C341, C676, C85...</td>\n",
       "      <td>{'T1': [['T1', 'C935', 'C284', 'C238', 'C55', ...</td>\n",
       "      <td>3.625000</td>\n",
       "      <td>1.0</td>\n",
       "    </tr>\n",
       "    <tr>\n",
       "      <th>5</th>\n",
       "      <td>2022-01-10 10:25:00</td>\n",
       "      <td>2022-01-10 16:11:00</td>\n",
       "      <td>11220.965424</td>\n",
       "      <td>12269337</td>\n",
       "      <td>[[DC1, C1427, C143, C817, C44, C32, C479, C489...</td>\n",
       "      <td>0.218750</td>\n",
       "      <td>9893.354459</td>\n",
       "      <td>14913063.2</td>\n",
       "      <td>[[C16, C300, C194, C124, C353, C113, C661, C69...</td>\n",
       "      <td>{'T1': [['T1', 'C935', 'C284', 'C238', 'C196',...</td>\n",
       "      <td>3.625000</td>\n",
       "      <td>5.0</td>\n",
       "    </tr>\n",
       "    <tr>\n",
       "      <th>6</th>\n",
       "      <td>2022-01-11 07:44:00</td>\n",
       "      <td>2022-01-11 17:24:00</td>\n",
       "      <td>10051.277277</td>\n",
       "      <td>11192240</td>\n",
       "      <td>[[DC1, C151, C558, C514, C31, C264, C922, C627...</td>\n",
       "      <td>0.203125</td>\n",
       "      <td>8785.949973</td>\n",
       "      <td>13170118.8</td>\n",
       "      <td>[[C664, C16, C698, C300, C194, C124, C697, C77...</td>\n",
       "      <td>{'T1': [['T1', 'C284', 'C238', 'C55', 'C883', ...</td>\n",
       "      <td>2.078125</td>\n",
       "      <td>5.0</td>\n",
       "    </tr>\n",
       "    <tr>\n",
       "      <th>7</th>\n",
       "      <td>2022-01-12 05:07:00</td>\n",
       "      <td>2022-01-12 16:11:00</td>\n",
       "      <td>11768.268345</td>\n",
       "      <td>13004380</td>\n",
       "      <td>[[DC1, C305, C321, C4, C554, C479, C32, C44, C...</td>\n",
       "      <td>0.265625</td>\n",
       "      <td>10054.115954</td>\n",
       "      <td>15010894.2</td>\n",
       "      <td>[[C16, C698, C300, C194, C676, C697, C778, C35...</td>\n",
       "      <td>{'T1': [['T1', 'C676', 'C698', 'C16', 'C300', ...</td>\n",
       "      <td>2.468750</td>\n",
       "      <td>5.0</td>\n",
       "    </tr>\n",
       "    <tr>\n",
       "      <th>8</th>\n",
       "      <td>2022-01-13 07:17:00</td>\n",
       "      <td>2022-01-13 16:40:00</td>\n",
       "      <td>13167.529064</td>\n",
       "      <td>14353315</td>\n",
       "      <td>[[DC1, C1126, C4, C305, C512, C542, C165, C543...</td>\n",
       "      <td>0.312500</td>\n",
       "      <td>9748.187181</td>\n",
       "      <td>14007327.6</td>\n",
       "      <td>[[C16, C300, C194, C676, C850, C124, C697, C35...</td>\n",
       "      <td>{'T1': [['T1', 'C850', 'C676', 'C16', 'C300', ...</td>\n",
       "      <td>2.703125</td>\n",
       "      <td>5.0</td>\n",
       "    </tr>\n",
       "    <tr>\n",
       "      <th>9</th>\n",
       "      <td>2022-01-14 10:47:00</td>\n",
       "      <td>2022-01-14 15:34:00</td>\n",
       "      <td>11561.431313</td>\n",
       "      <td>12657143</td>\n",
       "      <td>[[DC1, C453, C478, C730, C75, C482, C855, C42,...</td>\n",
       "      <td>0.328125</td>\n",
       "      <td>9890.046777</td>\n",
       "      <td>14868815.2</td>\n",
       "      <td>[[C664, C16, C698, C300, C194, C341, C676, C85...</td>\n",
       "      <td>{'T1': [['T1', 'C935', 'C284', 'C238', 'C55', ...</td>\n",
       "      <td>3.328125</td>\n",
       "      <td>5.0</td>\n",
       "    </tr>\n",
       "    <tr>\n",
       "      <th>10</th>\n",
       "      <td>2022-01-10 10:25:00</td>\n",
       "      <td>2022-01-10 16:11:00</td>\n",
       "      <td>13219.845849</td>\n",
       "      <td>14517382</td>\n",
       "      <td>[[DC1, C189, C667, C448, C747, C382, C1220, C1...</td>\n",
       "      <td>0.359375</td>\n",
       "      <td>10302.778241</td>\n",
       "      <td>15079013.0</td>\n",
       "      <td>[[C16, C300, C194, C124, C353, C113, C661, C69...</td>\n",
       "      <td>{'T1': [['T1', 'C935', 'C284', 'C238', 'C196',...</td>\n",
       "      <td>3.281250</td>\n",
       "      <td>10.0</td>\n",
       "    </tr>\n",
       "    <tr>\n",
       "      <th>11</th>\n",
       "      <td>2022-01-11 07:44:00</td>\n",
       "      <td>2022-01-11 17:24:00</td>\n",
       "      <td>10970.363384</td>\n",
       "      <td>12013438</td>\n",
       "      <td>[[DC1, C160, C1030, C189, C667, C1194, C1183, ...</td>\n",
       "      <td>0.359375</td>\n",
       "      <td>9255.494764</td>\n",
       "      <td>13418195.6</td>\n",
       "      <td>[[C664, C16, C698, C300, C194, C124, C697, C77...</td>\n",
       "      <td>{'T1': [['T1', 'C284', 'C238', 'C55', 'C883', ...</td>\n",
       "      <td>3.421875</td>\n",
       "      <td>10.0</td>\n",
       "    </tr>\n",
       "    <tr>\n",
       "      <th>12</th>\n",
       "      <td>2022-01-12 05:07:00</td>\n",
       "      <td>2022-01-12 16:11:00</td>\n",
       "      <td>14367.586847</td>\n",
       "      <td>15784174</td>\n",
       "      <td>[[DC1, C1126, C1650, C665, C24, C508, C851, C1...</td>\n",
       "      <td>0.265625</td>\n",
       "      <td>10689.761202</td>\n",
       "      <td>15514293.4</td>\n",
       "      <td>[[C16, C698, C300, C194, C676, C697, C778, C35...</td>\n",
       "      <td>{'T1': [['T1', 'C676', 'C698', 'C16', 'C300', ...</td>\n",
       "      <td>3.828125</td>\n",
       "      <td>10.0</td>\n",
       "    </tr>\n",
       "    <tr>\n",
       "      <th>13</th>\n",
       "      <td>2022-01-13 07:17:00</td>\n",
       "      <td>2022-01-13 16:40:00</td>\n",
       "      <td>16288.797901</td>\n",
       "      <td>17760072</td>\n",
       "      <td>[[DC1, C298, C322, C309, C1707, C260, C289, C6...</td>\n",
       "      <td>0.484375</td>\n",
       "      <td>10640.580962</td>\n",
       "      <td>14696223.8</td>\n",
       "      <td>[[C16, C300, C194, C676, C850, C124, C697, C35...</td>\n",
       "      <td>{'T1': [['T1', 'C850', 'C676', 'C16', 'C300', ...</td>\n",
       "      <td>3.328125</td>\n",
       "      <td>10.0</td>\n",
       "    </tr>\n",
       "    <tr>\n",
       "      <th>14</th>\n",
       "      <td>2022-01-14 10:47:00</td>\n",
       "      <td>2022-01-14 15:34:00</td>\n",
       "      <td>13801.035900</td>\n",
       "      <td>15147157</td>\n",
       "      <td>[[DC1, C453, C1289, C600, C531, C300, C16, C69...</td>\n",
       "      <td>0.484375</td>\n",
       "      <td>10454.648183</td>\n",
       "      <td>15233496.0</td>\n",
       "      <td>[[C664, C16, C698, C300, C194, C341, C676, C85...</td>\n",
       "      <td>{'T1': [['T1', 'C935', 'C284', 'C238', 'C55', ...</td>\n",
       "      <td>3.093750</td>\n",
       "      <td>10.0</td>\n",
       "    </tr>\n",
       "  </tbody>\n",
       "</table>\n",
       "</div>"
      ],
      "text/plain": [
       "             date from             date to      co2 road distance road  \\\n",
       "0  2022-01-10 10:25:00 2022-01-10 16:11:00   9186.981177      10517752   \n",
       "1  2022-01-11 07:44:00 2022-01-11 17:24:00   8286.805958       9627526   \n",
       "2  2022-01-12 05:07:00 2022-01-12 16:11:00  10092.565694      11510459   \n",
       "3  2022-01-13 07:17:00 2022-01-13 16:40:00   9713.142073      10884029   \n",
       "4  2022-01-14 10:47:00 2022-01-14 15:34:00   9668.144891      11119586   \n",
       "5  2022-01-10 10:25:00 2022-01-10 16:11:00  11220.965424      12269337   \n",
       "6  2022-01-11 07:44:00 2022-01-11 17:24:00  10051.277277      11192240   \n",
       "7  2022-01-12 05:07:00 2022-01-12 16:11:00  11768.268345      13004380   \n",
       "8  2022-01-13 07:17:00 2022-01-13 16:40:00  13167.529064      14353315   \n",
       "9  2022-01-14 10:47:00 2022-01-14 15:34:00  11561.431313      12657143   \n",
       "10 2022-01-10 10:25:00 2022-01-10 16:11:00  13219.845849      14517382   \n",
       "11 2022-01-11 07:44:00 2022-01-11 17:24:00  10970.363384      12013438   \n",
       "12 2022-01-12 05:07:00 2022-01-12 16:11:00  14367.586847      15784174   \n",
       "13 2022-01-13 07:17:00 2022-01-13 16:40:00  16288.797901      17760072   \n",
       "14 2022-01-14 10:47:00 2022-01-14 15:34:00  13801.035900      15147157   \n",
       "\n",
       "                                          routes road  processing time road  \\\n",
       "0   [[DC1, C768, C464, C453, C119, C547, C34, C27,...              0.750000   \n",
       "1   [[DC1, C464, C500, C529, C119, C547, C34, C27,...              0.828125   \n",
       "2   [[DC1, C768, C464, C500, C529, C119, C599, C27...              0.234375   \n",
       "3   [[DC1, C464, C500, C529, C451, C453, C1126, C7...              0.453125   \n",
       "4   [[DC1, C768, C464, C500, C453, C451, C119, C34...              0.437500   \n",
       "5   [[DC1, C1427, C143, C817, C44, C32, C479, C489...              0.218750   \n",
       "6   [[DC1, C151, C558, C514, C31, C264, C922, C627...              0.203125   \n",
       "7   [[DC1, C305, C321, C4, C554, C479, C32, C44, C...              0.265625   \n",
       "8   [[DC1, C1126, C4, C305, C512, C542, C165, C543...              0.312500   \n",
       "9   [[DC1, C453, C478, C730, C75, C482, C855, C42,...              0.328125   \n",
       "10  [[DC1, C189, C667, C448, C747, C382, C1220, C1...              0.359375   \n",
       "11  [[DC1, C160, C1030, C189, C667, C1194, C1183, ...              0.359375   \n",
       "12  [[DC1, C1126, C1650, C665, C24, C508, C851, C1...              0.265625   \n",
       "13  [[DC1, C298, C322, C309, C1707, C260, C289, C6...              0.484375   \n",
       "14  [[DC1, C453, C1289, C600, C531, C300, C16, C69...              0.484375   \n",
       "\n",
       "    co2 railroad  distance railroad  \\\n",
       "0    9278.875996         14638247.4   \n",
       "1    8399.825826         13047622.4   \n",
       "2    9424.608819         14784544.4   \n",
       "3    8975.199571         13688405.4   \n",
       "4    9303.825836         14656200.4   \n",
       "5    9893.354459         14913063.2   \n",
       "6    8785.949973         13170118.8   \n",
       "7   10054.115954         15010894.2   \n",
       "8    9748.187181         14007327.6   \n",
       "9    9890.046777         14868815.2   \n",
       "10  10302.778241         15079013.0   \n",
       "11   9255.494764         13418195.6   \n",
       "12  10689.761202         15514293.4   \n",
       "13  10640.580962         14696223.8   \n",
       "14  10454.648183         15233496.0   \n",
       "\n",
       "                                  terminal allocation  \\\n",
       "0   [[C16, C300, C194, C124, C353, C113, C661, C69...   \n",
       "1   [[C664, C16, C698, C300, C194, C124, C697, C77...   \n",
       "2   [[C16, C698, C300, C194, C676, C697, C778, C35...   \n",
       "3   [[C16, C300, C194, C676, C850, C124, C697, C35...   \n",
       "4   [[C664, C16, C698, C300, C194, C341, C676, C85...   \n",
       "5   [[C16, C300, C194, C124, C353, C113, C661, C69...   \n",
       "6   [[C664, C16, C698, C300, C194, C124, C697, C77...   \n",
       "7   [[C16, C698, C300, C194, C676, C697, C778, C35...   \n",
       "8   [[C16, C300, C194, C676, C850, C124, C697, C35...   \n",
       "9   [[C664, C16, C698, C300, C194, C341, C676, C85...   \n",
       "10  [[C16, C300, C194, C124, C353, C113, C661, C69...   \n",
       "11  [[C664, C16, C698, C300, C194, C124, C697, C77...   \n",
       "12  [[C16, C698, C300, C194, C676, C697, C778, C35...   \n",
       "13  [[C16, C300, C194, C676, C850, C124, C697, C35...   \n",
       "14  [[C664, C16, C698, C300, C194, C341, C676, C85...   \n",
       "\n",
       "                                      routes railroad  \\\n",
       "0   {'T1': [['T1', 'C935', 'C284', 'C238', 'C196',...   \n",
       "1   {'T1': [['T1', 'C284', 'C238', 'C55', 'C883', ...   \n",
       "2   {'T1': [['T1', 'C676', 'C698', 'C16', 'C300', ...   \n",
       "3   {'T1': [['T1', 'C850', 'C676', 'C16', 'C300', ...   \n",
       "4   {'T1': [['T1', 'C935', 'C284', 'C238', 'C55', ...   \n",
       "5   {'T1': [['T1', 'C935', 'C284', 'C238', 'C196',...   \n",
       "6   {'T1': [['T1', 'C284', 'C238', 'C55', 'C883', ...   \n",
       "7   {'T1': [['T1', 'C676', 'C698', 'C16', 'C300', ...   \n",
       "8   {'T1': [['T1', 'C850', 'C676', 'C16', 'C300', ...   \n",
       "9   {'T1': [['T1', 'C935', 'C284', 'C238', 'C55', ...   \n",
       "10  {'T1': [['T1', 'C935', 'C284', 'C238', 'C196',...   \n",
       "11  {'T1': [['T1', 'C284', 'C238', 'C55', 'C883', ...   \n",
       "12  {'T1': [['T1', 'C676', 'C698', 'C16', 'C300', ...   \n",
       "13  {'T1': [['T1', 'C850', 'C676', 'C16', 'C300', ...   \n",
       "14  {'T1': [['T1', 'C935', 'C284', 'C238', 'C55', ...   \n",
       "\n",
       "    processing time railroad  volume  \n",
       "0                   9.078125     1.0  \n",
       "1                   6.546875     1.0  \n",
       "2                   3.140625     1.0  \n",
       "3                   3.531250     1.0  \n",
       "4                   3.625000     1.0  \n",
       "5                   3.625000     5.0  \n",
       "6                   2.078125     5.0  \n",
       "7                   2.468750     5.0  \n",
       "8                   2.703125     5.0  \n",
       "9                   3.328125     5.0  \n",
       "10                  3.281250    10.0  \n",
       "11                  3.421875    10.0  \n",
       "12                  3.828125    10.0  \n",
       "13                  3.328125    10.0  \n",
       "14                  3.093750    10.0  "
      ]
     },
     "execution_count": 189,
     "metadata": {},
     "output_type": "execute_result"
    }
   ],
   "source": [
    "get_results_daily_per_week(df_dc1, 2, truck_capacity = truck_capacity, mode = \"multi\", algorithm = \"base\")"
   ]
  },
  {
   "cell_type": "code",
   "execution_count": 19,
   "id": "3152095f",
   "metadata": {
    "scrolled": false
   },
   "outputs": [],
   "source": [
    "df_results = load_results_modes(2, algorithm = \"base\")\n",
    "df_results[\"date from\"] = df_results[\"date from\"].dt.date\n",
    "df_test = df_results.groupby([\"volume\", \"mode\"])[[\"date from\", \"co2 railroad\"]].agg(lambda x: list(x))\n",
    "df_test[df_test[\"date from\"].iloc[0]] = df_test[\"co2 railroad\"].to_list()\n",
    "df_test = df_test.drop([\"date from\", \"co2 railroad\"], axis = 1)"
   ]
  },
  {
   "cell_type": "code",
   "execution_count": 22,
   "id": "6e23a419",
   "metadata": {},
   "outputs": [],
   "source": [
    "df_tosave = df_test/1000"
   ]
  },
  {
   "cell_type": "code",
   "execution_count": 23,
   "id": "4bff6030",
   "metadata": {},
   "outputs": [],
   "source": [
    "df_tosave.to_csv(\"results/modes/base_w2.csv\")"
   ]
  },
  {
   "cell_type": "markdown",
   "id": "0f2ff7c4",
   "metadata": {},
   "source": [
    "## Weekly"
   ]
  },
  {
   "cell_type": "code",
   "execution_count": 46,
   "id": "764ce9fc",
   "metadata": {},
   "outputs": [],
   "source": [
    "def get_results_weekly(df, list_week_numbers, truck_capacity = truck_capacity, mode = \"combined\", algorithm = \"base\"):\n",
    "    t = time.process_time()\n",
    "    df_results = pd.DataFrame(columns = [\"date from\", \"date to\", \"co2 road\", \"distance road\", \"routes road\", \"processing time road\",\"co2 railroad\", \"distance railroad\", \"terminal allocation\", \"routes railroad\", \"processing time railroad\"])\n",
    "    for volume in [1,5,10]:\n",
    "        for week_number in range(0,len(list_week_numbers)):\n",
    "            date_from = list_mondays[week_number-1]\n",
    "            date_to = list_mondays[week_number]\n",
    "            logger.info(week_number)\n",
    "            try: \n",
    "                dict_results, df_results_details = co2_modell(\n",
    "                df, df_distance_matrix, dict_terminals, date_from, date_to, \n",
    "                volume = volume, mode = mode, truck_capacity = truck_capacity, nb_trucks = 40)\n",
    "                dict_results[\"volume\"] = volume\n",
    "                df_results = df_results.append(dict_results, ignore_index=True)\n",
    "            except:\n",
    "                try: \n",
    "                    dict_results, df_results_details = co2_modell(\n",
    "                    df, df_distance_matrix, dict_terminals, date_from, date_to, \n",
    "                    volume = volume, mode = mode, truck_capacity = truck_capacity, nb_trucks = 60)\n",
    "                    dict_results[\"volume\"] = volume\n",
    "                    df_results = df_results.append(dict_results, ignore_index=True)\n",
    "                except:\n",
    "                    pass\n",
    "    df_results.to_csv(f\"results/algorithms/results_{mode}_{algorithm}_w{list_week_numbers}.csv\", index = False)\n",
    "    return df_results"
   ]
  },
  {
   "cell_type": "code",
   "execution_count": 47,
   "id": "f624598d",
   "metadata": {},
   "outputs": [
    {
     "name": "stderr",
     "output_type": "stream",
     "text": [
      "\u001b[32m2023-08-11 17:51:52.176\u001b[0m | \u001b[1mINFO    \u001b[0m | \u001b[36m__main__\u001b[0m:\u001b[36mget_results_weekly\u001b[0m:\u001b[36m8\u001b[0m - \u001b[1m0\u001b[0m\n",
      "\u001b[32m2023-08-11 17:51:52.196\u001b[0m | \u001b[1mINFO    \u001b[0m | \u001b[36msrc.co2_modells\u001b[0m:\u001b[36mpreprocessing_modelling\u001b[0m:\u001b[36m38\u001b[0m - \u001b[1mnan\u001b[0m\n",
      "\u001b[32m2023-08-11 17:51:52.203\u001b[0m | \u001b[1mINFO    \u001b[0m | \u001b[36msrc.co2_modells\u001b[0m:\u001b[36mpreprocessing_modelling\u001b[0m:\u001b[36m38\u001b[0m - \u001b[1mnan\u001b[0m\n",
      "\u001b[32m2023-08-11 17:51:52.204\u001b[0m | \u001b[1mINFO    \u001b[0m | \u001b[36m__main__\u001b[0m:\u001b[36mget_results_weekly\u001b[0m:\u001b[36m8\u001b[0m - \u001b[1m1\u001b[0m\n",
      "C:\\Users\\marle\\OneDrive - tbs-education\\00_Masterarbeit\\Code\\notebooks\\..\\src\\co2_modells.py:29: SettingWithCopyWarning: \n",
      "A value is trying to be set on a copy of a slice from a DataFrame.\n",
      "Try using .loc[row_indexer,col_indexer] = value instead\n",
      "\n",
      "See the caveats in the documentation: https://pandas.pydata.org/pandas-docs/stable/user_guide/indexing.html#returning-a-view-versus-a-copy\n",
      "  df[\"Sender weight (kg)\"] = df[\"Sender weight (kg)\"]*volume\n",
      "\u001b[32m2023-08-11 17:51:52.218\u001b[0m | \u001b[1mINFO    \u001b[0m | \u001b[36msrc.co2_modells\u001b[0m:\u001b[36mpreprocessing_modelling\u001b[0m:\u001b[36m38\u001b[0m - \u001b[1m547.512\u001b[0m\n",
      "\u001b[32m2023-08-11 17:51:52.246\u001b[0m | \u001b[1mINFO    \u001b[0m | \u001b[36msrc.co2_modells\u001b[0m:\u001b[36mco2_modell\u001b[0m:\u001b[36m71\u001b[0m - \u001b[1m2.7426153846153847\u001b[0m\n"
     ]
    },
    {
     "name": "stdout",
     "output_type": "stream",
     "text": [
      "(0, 10)\n",
      "No deliveries from 2023-01-02 to 2022-01-03\n",
      "(0, 10)\n",
      "No deliveries from 2023-01-02 to 2022-01-03\n",
      "(436, 7)\n"
     ]
    },
    {
     "name": "stderr",
     "output_type": "stream",
     "text": [
      "C:\\Users\\marle\\OneDrive - tbs-education\\00_Masterarbeit\\Code\\notebooks\\..\\src\\create_solution.py:74: FutureWarning: Dropping of nuisance columns in DataFrame reductions (with 'numeric_only=None') is deprecated; in a future version this will raise TypeError.  Select only valid columns before calling the reduction.\n",
      "  distances['Dmin'] = distances.min(axis=1)\n"
     ]
    },
    {
     "name": "stdout",
     "output_type": "stream",
     "text": [
      "(77, 12)\n",
      "(151, 16)\n"
     ]
    },
    {
     "name": "stderr",
     "output_type": "stream",
     "text": [
      "C:\\Users\\marle\\AppData\\Local\\Temp\\ipykernel_26916\\2310005215.py:14: FutureWarning: The frame.append method is deprecated and will be removed from pandas in a future version. Use pandas.concat instead.\n",
      "  df_results = df_results.append(dict_results, ignore_index=True)\n",
      "\u001b[32m2023-08-11 17:52:03.452\u001b[0m | \u001b[1mINFO    \u001b[0m | \u001b[36m__main__\u001b[0m:\u001b[36mget_results_weekly\u001b[0m:\u001b[36m8\u001b[0m - \u001b[1m0\u001b[0m\n",
      "\u001b[32m2023-08-11 17:52:03.464\u001b[0m | \u001b[1mINFO    \u001b[0m | \u001b[36msrc.co2_modells\u001b[0m:\u001b[36mpreprocessing_modelling\u001b[0m:\u001b[36m38\u001b[0m - \u001b[1mnan\u001b[0m\n",
      "\u001b[32m2023-08-11 17:52:03.471\u001b[0m | \u001b[1mINFO    \u001b[0m | \u001b[36msrc.co2_modells\u001b[0m:\u001b[36mpreprocessing_modelling\u001b[0m:\u001b[36m38\u001b[0m - \u001b[1mnan\u001b[0m\n",
      "\u001b[32m2023-08-11 17:52:03.472\u001b[0m | \u001b[1mINFO    \u001b[0m | \u001b[36m__main__\u001b[0m:\u001b[36mget_results_weekly\u001b[0m:\u001b[36m8\u001b[0m - \u001b[1m1\u001b[0m\n",
      "C:\\Users\\marle\\OneDrive - tbs-education\\00_Masterarbeit\\Code\\notebooks\\..\\src\\co2_modells.py:29: SettingWithCopyWarning: \n",
      "A value is trying to be set on a copy of a slice from a DataFrame.\n",
      "Try using .loc[row_indexer,col_indexer] = value instead\n",
      "\n",
      "See the caveats in the documentation: https://pandas.pydata.org/pandas-docs/stable/user_guide/indexing.html#returning-a-view-versus-a-copy\n",
      "  df[\"Sender weight (kg)\"] = df[\"Sender weight (kg)\"]*volume\n",
      "\u001b[32m2023-08-11 17:52:03.482\u001b[0m | \u001b[1mINFO    \u001b[0m | \u001b[36msrc.co2_modells\u001b[0m:\u001b[36mpreprocessing_modelling\u001b[0m:\u001b[36m38\u001b[0m - \u001b[1m2737.56\u001b[0m\n",
      "\u001b[32m2023-08-11 17:52:03.522\u001b[0m | \u001b[1mINFO    \u001b[0m | \u001b[36msrc.co2_modells\u001b[0m:\u001b[36mco2_modell\u001b[0m:\u001b[36m71\u001b[0m - \u001b[1m13.781615384615385\u001b[0m\n"
     ]
    },
    {
     "name": "stdout",
     "output_type": "stream",
     "text": [
      "Total processing time: 11.078125\n",
      "(0, 10)\n",
      "No deliveries from 2023-01-02 to 2022-01-03\n",
      "(0, 10)\n",
      "No deliveries from 2023-01-02 to 2022-01-03\n",
      "(436, 7)\n"
     ]
    },
    {
     "name": "stderr",
     "output_type": "stream",
     "text": [
      "C:\\Users\\marle\\OneDrive - tbs-education\\00_Masterarbeit\\Code\\notebooks\\..\\src\\create_solution.py:74: FutureWarning: Dropping of nuisance columns in DataFrame reductions (with 'numeric_only=None') is deprecated; in a future version this will raise TypeError.  Select only valid columns before calling the reduction.\n",
      "  distances['Dmin'] = distances.min(axis=1)\n"
     ]
    },
    {
     "name": "stdout",
     "output_type": "stream",
     "text": [
      "(77, 12)\n",
      "(151, 16)\n"
     ]
    },
    {
     "name": "stderr",
     "output_type": "stream",
     "text": [
      "C:\\Users\\marle\\AppData\\Local\\Temp\\ipykernel_26916\\2310005215.py:14: FutureWarning: The frame.append method is deprecated and will be removed from pandas in a future version. Use pandas.concat instead.\n",
      "  df_results = df_results.append(dict_results, ignore_index=True)\n",
      "\u001b[32m2023-08-11 17:52:14.798\u001b[0m | \u001b[1mINFO    \u001b[0m | \u001b[36m__main__\u001b[0m:\u001b[36mget_results_weekly\u001b[0m:\u001b[36m8\u001b[0m - \u001b[1m0\u001b[0m\n",
      "\u001b[32m2023-08-11 17:52:14.811\u001b[0m | \u001b[1mINFO    \u001b[0m | \u001b[36msrc.co2_modells\u001b[0m:\u001b[36mpreprocessing_modelling\u001b[0m:\u001b[36m38\u001b[0m - \u001b[1mnan\u001b[0m\n",
      "\u001b[32m2023-08-11 17:52:14.818\u001b[0m | \u001b[1mINFO    \u001b[0m | \u001b[36msrc.co2_modells\u001b[0m:\u001b[36mpreprocessing_modelling\u001b[0m:\u001b[36m38\u001b[0m - \u001b[1mnan\u001b[0m\n",
      "\u001b[32m2023-08-11 17:52:14.819\u001b[0m | \u001b[1mINFO    \u001b[0m | \u001b[36m__main__\u001b[0m:\u001b[36mget_results_weekly\u001b[0m:\u001b[36m8\u001b[0m - \u001b[1m1\u001b[0m\n",
      "C:\\Users\\marle\\OneDrive - tbs-education\\00_Masterarbeit\\Code\\notebooks\\..\\src\\co2_modells.py:29: SettingWithCopyWarning: \n",
      "A value is trying to be set on a copy of a slice from a DataFrame.\n",
      "Try using .loc[row_indexer,col_indexer] = value instead\n",
      "\n",
      "See the caveats in the documentation: https://pandas.pydata.org/pandas-docs/stable/user_guide/indexing.html#returning-a-view-versus-a-copy\n",
      "  df[\"Sender weight (kg)\"] = df[\"Sender weight (kg)\"]*volume\n",
      "\u001b[32m2023-08-11 17:52:14.829\u001b[0m | \u001b[1mINFO    \u001b[0m | \u001b[36msrc.co2_modells\u001b[0m:\u001b[36mpreprocessing_modelling\u001b[0m:\u001b[36m38\u001b[0m - \u001b[1m5475.12\u001b[0m\n",
      "\u001b[32m2023-08-11 17:52:14.867\u001b[0m | \u001b[1mINFO    \u001b[0m | \u001b[36msrc.co2_modells\u001b[0m:\u001b[36mco2_modell\u001b[0m:\u001b[36m71\u001b[0m - \u001b[1m27.578846153846154\u001b[0m\n"
     ]
    },
    {
     "name": "stdout",
     "output_type": "stream",
     "text": [
      "Total processing time: 11.0625\n",
      "(0, 10)\n",
      "No deliveries from 2023-01-02 to 2022-01-03\n",
      "(0, 10)\n",
      "No deliveries from 2023-01-02 to 2022-01-03\n",
      "(436, 7)\n"
     ]
    },
    {
     "name": "stderr",
     "output_type": "stream",
     "text": [
      "C:\\Users\\marle\\OneDrive - tbs-education\\00_Masterarbeit\\Code\\notebooks\\..\\src\\create_solution.py:74: FutureWarning: Dropping of nuisance columns in DataFrame reductions (with 'numeric_only=None') is deprecated; in a future version this will raise TypeError.  Select only valid columns before calling the reduction.\n",
      "  distances['Dmin'] = distances.min(axis=1)\n"
     ]
    },
    {
     "name": "stdout",
     "output_type": "stream",
     "text": [
      "(77, 12)\n",
      "(151, 16)\n",
      "Total processing time: 11.03125\n"
     ]
    },
    {
     "name": "stderr",
     "output_type": "stream",
     "text": [
      "C:\\Users\\marle\\AppData\\Local\\Temp\\ipykernel_26916\\2310005215.py:14: FutureWarning: The frame.append method is deprecated and will be removed from pandas in a future version. Use pandas.concat instead.\n",
      "  df_results = df_results.append(dict_results, ignore_index=True)\n"
     ]
    },
    {
     "data": {
      "text/html": [
       "<div>\n",
       "<style scoped>\n",
       "    .dataframe tbody tr th:only-of-type {\n",
       "        vertical-align: middle;\n",
       "    }\n",
       "\n",
       "    .dataframe tbody tr th {\n",
       "        vertical-align: top;\n",
       "    }\n",
       "\n",
       "    .dataframe thead th {\n",
       "        text-align: right;\n",
       "    }\n",
       "</style>\n",
       "<table border=\"1\" class=\"dataframe\">\n",
       "  <thead>\n",
       "    <tr style=\"text-align: right;\">\n",
       "      <th></th>\n",
       "      <th>date from</th>\n",
       "      <th>date to</th>\n",
       "      <th>co2 road</th>\n",
       "      <th>distance road</th>\n",
       "      <th>routes road</th>\n",
       "      <th>processing time road</th>\n",
       "      <th>co2 railroad</th>\n",
       "      <th>distance railroad</th>\n",
       "      <th>terminal allocation</th>\n",
       "      <th>routes railroad</th>\n",
       "      <th>processing time railroad</th>\n",
       "      <th>volume</th>\n",
       "    </tr>\n",
       "  </thead>\n",
       "  <tbody>\n",
       "    <tr>\n",
       "      <th>0</th>\n",
       "      <td>2022-01-03 11:59:00</td>\n",
       "      <td>2022-01-07 15:50:00</td>\n",
       "      <td>14529.498440</td>\n",
       "      <td>16219045</td>\n",
       "      <td>[[DC1, C768, C453, C1126, C451, C464, C227, C2...</td>\n",
       "      <td>1.000000</td>\n",
       "      <td>14669.145732</td>\n",
       "      <td>20119399.0</td>\n",
       "      <td>[[C163, C341, C676, C850, C697, C353, C113, C1...</td>\n",
       "      <td>{'T1': [['T1', 'C1181', 'C676', 'C850', 'C163'...</td>\n",
       "      <td>10.078125</td>\n",
       "      <td>1.0</td>\n",
       "    </tr>\n",
       "    <tr>\n",
       "      <th>1</th>\n",
       "      <td>2022-01-03 11:59:00</td>\n",
       "      <td>2022-01-07 15:50:00</td>\n",
       "      <td>23419.057272</td>\n",
       "      <td>25530396</td>\n",
       "      <td>[[DC1, C611, C285, C106, C286, C940, C234, C12...</td>\n",
       "      <td>0.953125</td>\n",
       "      <td>17429.738602</td>\n",
       "      <td>22453248.0</td>\n",
       "      <td>[[C163, C341, C676, C850, C697, C353, C113, C1...</td>\n",
       "      <td>{'T1': [['T1', 'C55', 'C1181', 'C676', 'C850',...</td>\n",
       "      <td>10.109375</td>\n",
       "      <td>5.0</td>\n",
       "    </tr>\n",
       "    <tr>\n",
       "      <th>2</th>\n",
       "      <td>2022-01-03 11:59:00</td>\n",
       "      <td>2022-01-07 15:50:00</td>\n",
       "      <td>38920.895960</td>\n",
       "      <td>42403353</td>\n",
       "      <td>[[DC1, C448, C377, C289, C597, C273, C661, C33...</td>\n",
       "      <td>1.000000</td>\n",
       "      <td>22492.878148</td>\n",
       "      <td>27724000.0</td>\n",
       "      <td>[[C163, C341, C676, C850, C697, C353, C113, C1...</td>\n",
       "      <td>{'T1': [['T1', 'C55', 'C637', 'C883', 'C694', ...</td>\n",
       "      <td>10.031250</td>\n",
       "      <td>10.0</td>\n",
       "    </tr>\n",
       "  </tbody>\n",
       "</table>\n",
       "</div>"
      ],
      "text/plain": [
       "            date from             date to      co2 road distance road  \\\n",
       "0 2022-01-03 11:59:00 2022-01-07 15:50:00  14529.498440      16219045   \n",
       "1 2022-01-03 11:59:00 2022-01-07 15:50:00  23419.057272      25530396   \n",
       "2 2022-01-03 11:59:00 2022-01-07 15:50:00  38920.895960      42403353   \n",
       "\n",
       "                                         routes road  processing time road  \\\n",
       "0  [[DC1, C768, C453, C1126, C451, C464, C227, C2...              1.000000   \n",
       "1  [[DC1, C611, C285, C106, C286, C940, C234, C12...              0.953125   \n",
       "2  [[DC1, C448, C377, C289, C597, C273, C661, C33...              1.000000   \n",
       "\n",
       "   co2 railroad  distance railroad  \\\n",
       "0  14669.145732         20119399.0   \n",
       "1  17429.738602         22453248.0   \n",
       "2  22492.878148         27724000.0   \n",
       "\n",
       "                                 terminal allocation  \\\n",
       "0  [[C163, C341, C676, C850, C697, C353, C113, C1...   \n",
       "1  [[C163, C341, C676, C850, C697, C353, C113, C1...   \n",
       "2  [[C163, C341, C676, C850, C697, C353, C113, C1...   \n",
       "\n",
       "                                     routes railroad  \\\n",
       "0  {'T1': [['T1', 'C1181', 'C676', 'C850', 'C163'...   \n",
       "1  {'T1': [['T1', 'C55', 'C1181', 'C676', 'C850',...   \n",
       "2  {'T1': [['T1', 'C55', 'C637', 'C883', 'C694', ...   \n",
       "\n",
       "   processing time railroad  volume  \n",
       "0                 10.078125     1.0  \n",
       "1                 10.109375     5.0  \n",
       "2                 10.031250    10.0  "
      ]
     },
     "execution_count": 47,
     "metadata": {},
     "output_type": "execute_result"
    }
   ],
   "source": [
    "get_results_weekly(df_dc1, [2,3,4,5], truck_capacity = truck_capacity, mode = \"combined\", algorithm = \"base\")"
   ]
  },
  {
   "cell_type": "code",
   "execution_count": 110,
   "id": "5f4c7051",
   "metadata": {},
   "outputs": [
    {
     "name": "stderr",
     "output_type": "stream",
     "text": [
      "\u001b[32m2023-08-11 19:40:40.079\u001b[0m | \u001b[1mINFO    \u001b[0m | \u001b[36m__main__\u001b[0m:\u001b[36mget_results_weekly\u001b[0m:\u001b[36m8\u001b[0m - \u001b[1m0\u001b[0m\n",
      "\u001b[32m2023-08-11 19:40:40.081\u001b[0m | \u001b[1mINFO    \u001b[0m | \u001b[36msrc.co2_modells\u001b[0m:\u001b[36mpreprocessing_modelling\u001b[0m:\u001b[36m38\u001b[0m - \u001b[1mnan\u001b[0m\n",
      "\u001b[32m2023-08-11 19:40:40.096\u001b[0m | \u001b[1mINFO    \u001b[0m | \u001b[36msrc.co2_modells\u001b[0m:\u001b[36mpreprocessing_modelling\u001b[0m:\u001b[36m38\u001b[0m - \u001b[1mnan\u001b[0m\n",
      "\u001b[32m2023-08-11 19:40:40.096\u001b[0m | \u001b[1mINFO    \u001b[0m | \u001b[36m__main__\u001b[0m:\u001b[36mget_results_weekly\u001b[0m:\u001b[36m8\u001b[0m - \u001b[1m1\u001b[0m\n",
      "C:\\Users\\marle\\OneDrive - tbs-education\\00_Masterarbeit\\Code\\notebooks\\..\\src\\co2_modells.py:29: SettingWithCopyWarning: \n",
      "A value is trying to be set on a copy of a slice from a DataFrame.\n",
      "Try using .loc[row_indexer,col_indexer] = value instead\n",
      "\n",
      "See the caveats in the documentation: https://pandas.pydata.org/pandas-docs/stable/user_guide/indexing.html#returning-a-view-versus-a-copy\n",
      "  df[\"Sender weight (kg)\"] = df[\"Sender weight (kg)\"]*volume\n",
      "\u001b[32m2023-08-11 19:40:40.144\u001b[0m | \u001b[1mINFO    \u001b[0m | \u001b[36msrc.co2_modells\u001b[0m:\u001b[36mpreprocessing_modelling\u001b[0m:\u001b[36m38\u001b[0m - \u001b[1m547.512\u001b[0m\n",
      "\u001b[32m2023-08-11 19:40:40.191\u001b[0m | \u001b[1mINFO    \u001b[0m | \u001b[36msrc.co2_modells\u001b[0m:\u001b[36mco2_modell\u001b[0m:\u001b[36m71\u001b[0m - \u001b[1m2.7426153846153847\u001b[0m\n"
     ]
    },
    {
     "name": "stdout",
     "output_type": "stream",
     "text": [
      "(0, 10)\n",
      "No deliveries from 2023-01-02 to 2022-01-03\n",
      "(0, 10)\n",
      "No deliveries from 2023-01-02 to 2022-01-03\n",
      "(436, 7)\n"
     ]
    },
    {
     "name": "stderr",
     "output_type": "stream",
     "text": [
      "C:\\Users\\marle\\OneDrive - tbs-education\\00_Masterarbeit\\Code\\notebooks\\..\\src\\create_solution.py:77: FutureWarning: Dropping of nuisance columns in DataFrame reductions (with 'numeric_only=None') is deprecated; in a future version this will raise TypeError.  Select only valid columns before calling the reduction.\n",
      "  distances['Dmin'] = distances.min(axis=1)\n"
     ]
    },
    {
     "name": "stdout",
     "output_type": "stream",
     "text": [
      "(77, 12)\n",
      "(151, 16)\n"
     ]
    },
    {
     "name": "stderr",
     "output_type": "stream",
     "text": [
      "C:\\Users\\marle\\AppData\\Local\\Temp\\ipykernel_26916\\2310005215.py:14: FutureWarning: The frame.append method is deprecated and will be removed from pandas in a future version. Use pandas.concat instead.\n",
      "  df_results = df_results.append(dict_results, ignore_index=True)\n",
      "\u001b[32m2023-08-11 19:40:51.780\u001b[0m | \u001b[1mINFO    \u001b[0m | \u001b[36m__main__\u001b[0m:\u001b[36mget_results_weekly\u001b[0m:\u001b[36m8\u001b[0m - \u001b[1m2\u001b[0m\n",
      "C:\\Users\\marle\\OneDrive - tbs-education\\00_Masterarbeit\\Code\\notebooks\\..\\src\\co2_modells.py:29: SettingWithCopyWarning: \n",
      "A value is trying to be set on a copy of a slice from a DataFrame.\n",
      "Try using .loc[row_indexer,col_indexer] = value instead\n",
      "\n",
      "See the caveats in the documentation: https://pandas.pydata.org/pandas-docs/stable/user_guide/indexing.html#returning-a-view-versus-a-copy\n",
      "  df[\"Sender weight (kg)\"] = df[\"Sender weight (kg)\"]*volume\n",
      "\u001b[32m2023-08-11 19:40:51.812\u001b[0m | \u001b[1mINFO    \u001b[0m | \u001b[36msrc.co2_modells\u001b[0m:\u001b[36mpreprocessing_modelling\u001b[0m:\u001b[36m38\u001b[0m - \u001b[1m523.0740000000001\u001b[0m\n"
     ]
    },
    {
     "name": "stdout",
     "output_type": "stream",
     "text": [
      "Total processing time: 5.375\n",
      "(450, 7)\n"
     ]
    },
    {
     "name": "stderr",
     "output_type": "stream",
     "text": [
      "\u001b[32m2023-08-11 19:40:52.127\u001b[0m | \u001b[1mINFO    \u001b[0m | \u001b[36msrc.co2_modells\u001b[0m:\u001b[36mco2_modell\u001b[0m:\u001b[36m71\u001b[0m - \u001b[1m2.977692307692308\u001b[0m\n",
      "C:\\Users\\marle\\OneDrive - tbs-education\\00_Masterarbeit\\Code\\notebooks\\..\\src\\create_solution.py:77: FutureWarning: Dropping of nuisance columns in DataFrame reductions (with 'numeric_only=None') is deprecated; in a future version this will raise TypeError.  Select only valid columns before calling the reduction.\n",
      "  distances['Dmin'] = distances.min(axis=1)\n"
     ]
    },
    {
     "name": "stdout",
     "output_type": "stream",
     "text": [
      "(77, 12)\n",
      "(149, 16)\n"
     ]
    },
    {
     "name": "stderr",
     "output_type": "stream",
     "text": [
      "C:\\Users\\marle\\AppData\\Local\\Temp\\ipykernel_26916\\2310005215.py:14: FutureWarning: The frame.append method is deprecated and will be removed from pandas in a future version. Use pandas.concat instead.\n",
      "  df_results = df_results.append(dict_results, ignore_index=True)\n",
      "\u001b[32m2023-08-11 19:41:03.519\u001b[0m | \u001b[1mINFO    \u001b[0m | \u001b[36m__main__\u001b[0m:\u001b[36mget_results_weekly\u001b[0m:\u001b[36m8\u001b[0m - \u001b[1m3\u001b[0m\n",
      "C:\\Users\\marle\\OneDrive - tbs-education\\00_Masterarbeit\\Code\\notebooks\\..\\src\\co2_modells.py:29: SettingWithCopyWarning: \n",
      "A value is trying to be set on a copy of a slice from a DataFrame.\n",
      "Try using .loc[row_indexer,col_indexer] = value instead\n",
      "\n",
      "See the caveats in the documentation: https://pandas.pydata.org/pandas-docs/stable/user_guide/indexing.html#returning-a-view-versus-a-copy\n",
      "  df[\"Sender weight (kg)\"] = df[\"Sender weight (kg)\"]*volume\n",
      "\u001b[32m2023-08-11 19:41:03.550\u001b[0m | \u001b[1mINFO    \u001b[0m | \u001b[36msrc.co2_modells\u001b[0m:\u001b[36mpreprocessing_modelling\u001b[0m:\u001b[36m38\u001b[0m - \u001b[1m726.5\u001b[0m\n",
      "\u001b[32m2023-08-11 19:41:03.582\u001b[0m | \u001b[1mINFO    \u001b[0m | \u001b[36msrc.co2_modells\u001b[0m:\u001b[36mco2_modell\u001b[0m:\u001b[36m71\u001b[0m - \u001b[1m3.040769230769231\u001b[0m\n"
     ]
    },
    {
     "name": "stdout",
     "output_type": "stream",
     "text": [
      "Total processing time: 5.78125\n",
      "(455, 7)\n"
     ]
    },
    {
     "name": "stderr",
     "output_type": "stream",
     "text": [
      "C:\\Users\\marle\\OneDrive - tbs-education\\00_Masterarbeit\\Code\\notebooks\\..\\src\\create_solution.py:77: FutureWarning: Dropping of nuisance columns in DataFrame reductions (with 'numeric_only=None') is deprecated; in a future version this will raise TypeError.  Select only valid columns before calling the reduction.\n",
      "  distances['Dmin'] = distances.min(axis=1)\n"
     ]
    },
    {
     "name": "stdout",
     "output_type": "stream",
     "text": [
      "(80, 12)\n",
      "(154, 16)\n"
     ]
    },
    {
     "name": "stderr",
     "output_type": "stream",
     "text": [
      "C:\\Users\\marle\\AppData\\Local\\Temp\\ipykernel_26916\\2310005215.py:14: FutureWarning: The frame.append method is deprecated and will be removed from pandas in a future version. Use pandas.concat instead.\n",
      "  df_results = df_results.append(dict_results, ignore_index=True)\n",
      "\u001b[32m2023-08-11 19:41:15.003\u001b[0m | \u001b[1mINFO    \u001b[0m | \u001b[36m__main__\u001b[0m:\u001b[36mget_results_weekly\u001b[0m:\u001b[36m8\u001b[0m - \u001b[1m0\u001b[0m\n",
      "\u001b[32m2023-08-11 19:41:15.003\u001b[0m | \u001b[1mINFO    \u001b[0m | \u001b[36msrc.co2_modells\u001b[0m:\u001b[36mpreprocessing_modelling\u001b[0m:\u001b[36m38\u001b[0m - \u001b[1mnan\u001b[0m\n",
      "\u001b[32m2023-08-11 19:41:15.021\u001b[0m | \u001b[1mINFO    \u001b[0m | \u001b[36msrc.co2_modells\u001b[0m:\u001b[36mpreprocessing_modelling\u001b[0m:\u001b[36m38\u001b[0m - \u001b[1mnan\u001b[0m\n",
      "\u001b[32m2023-08-11 19:41:15.035\u001b[0m | \u001b[1mINFO    \u001b[0m | \u001b[36m__main__\u001b[0m:\u001b[36mget_results_weekly\u001b[0m:\u001b[36m8\u001b[0m - \u001b[1m1\u001b[0m\n",
      "C:\\Users\\marle\\OneDrive - tbs-education\\00_Masterarbeit\\Code\\notebooks\\..\\src\\co2_modells.py:29: SettingWithCopyWarning: \n",
      "A value is trying to be set on a copy of a slice from a DataFrame.\n",
      "Try using .loc[row_indexer,col_indexer] = value instead\n",
      "\n",
      "See the caveats in the documentation: https://pandas.pydata.org/pandas-docs/stable/user_guide/indexing.html#returning-a-view-versus-a-copy\n",
      "  df[\"Sender weight (kg)\"] = df[\"Sender weight (kg)\"]*volume\n",
      "\u001b[32m2023-08-11 19:41:15.050\u001b[0m | \u001b[1mINFO    \u001b[0m | \u001b[36msrc.co2_modells\u001b[0m:\u001b[36mpreprocessing_modelling\u001b[0m:\u001b[36m38\u001b[0m - \u001b[1m2737.56\u001b[0m\n",
      "\u001b[32m2023-08-11 19:41:15.097\u001b[0m | \u001b[1mINFO    \u001b[0m | \u001b[36msrc.co2_modells\u001b[0m:\u001b[36mco2_modell\u001b[0m:\u001b[36m71\u001b[0m - \u001b[1m13.781615384615385\u001b[0m\n"
     ]
    },
    {
     "name": "stdout",
     "output_type": "stream",
     "text": [
      "Total processing time: 5.453125\n",
      "(0, 10)\n",
      "No deliveries from 2023-01-02 to 2022-01-03\n",
      "(0, 10)\n",
      "No deliveries from 2023-01-02 to 2022-01-03\n",
      "(436, 7)\n"
     ]
    },
    {
     "name": "stderr",
     "output_type": "stream",
     "text": [
      "C:\\Users\\marle\\OneDrive - tbs-education\\00_Masterarbeit\\Code\\notebooks\\..\\src\\create_solution.py:77: FutureWarning: Dropping of nuisance columns in DataFrame reductions (with 'numeric_only=None') is deprecated; in a future version this will raise TypeError.  Select only valid columns before calling the reduction.\n",
      "  distances['Dmin'] = distances.min(axis=1)\n"
     ]
    },
    {
     "name": "stdout",
     "output_type": "stream",
     "text": [
      "(77, 12)\n",
      "(151, 16)\n"
     ]
    },
    {
     "name": "stderr",
     "output_type": "stream",
     "text": [
      "C:\\Users\\marle\\AppData\\Local\\Temp\\ipykernel_26916\\2310005215.py:14: FutureWarning: The frame.append method is deprecated and will be removed from pandas in a future version. Use pandas.concat instead.\n",
      "  df_results = df_results.append(dict_results, ignore_index=True)\n",
      "\u001b[32m2023-08-11 19:41:26.563\u001b[0m | \u001b[1mINFO    \u001b[0m | \u001b[36m__main__\u001b[0m:\u001b[36mget_results_weekly\u001b[0m:\u001b[36m8\u001b[0m - \u001b[1m2\u001b[0m\n",
      "C:\\Users\\marle\\OneDrive - tbs-education\\00_Masterarbeit\\Code\\notebooks\\..\\src\\co2_modells.py:29: SettingWithCopyWarning: \n",
      "A value is trying to be set on a copy of a slice from a DataFrame.\n",
      "Try using .loc[row_indexer,col_indexer] = value instead\n",
      "\n",
      "See the caveats in the documentation: https://pandas.pydata.org/pandas-docs/stable/user_guide/indexing.html#returning-a-view-versus-a-copy\n",
      "  df[\"Sender weight (kg)\"] = df[\"Sender weight (kg)\"]*volume\n",
      "\u001b[32m2023-08-11 19:41:26.579\u001b[0m | \u001b[1mINFO    \u001b[0m | \u001b[36msrc.co2_modells\u001b[0m:\u001b[36mpreprocessing_modelling\u001b[0m:\u001b[36m38\u001b[0m - \u001b[1m2615.37\u001b[0m\n",
      "\u001b[32m2023-08-11 19:41:26.610\u001b[0m | \u001b[1mINFO    \u001b[0m | \u001b[36msrc.co2_modells\u001b[0m:\u001b[36mco2_modell\u001b[0m:\u001b[36m71\u001b[0m - \u001b[1m14.954692307692307\u001b[0m\n"
     ]
    },
    {
     "name": "stdout",
     "output_type": "stream",
     "text": [
      "Total processing time: 5.453125\n",
      "(450, 7)\n"
     ]
    },
    {
     "name": "stderr",
     "output_type": "stream",
     "text": [
      "C:\\Users\\marle\\OneDrive - tbs-education\\00_Masterarbeit\\Code\\notebooks\\..\\src\\create_solution.py:77: FutureWarning: Dropping of nuisance columns in DataFrame reductions (with 'numeric_only=None') is deprecated; in a future version this will raise TypeError.  Select only valid columns before calling the reduction.\n",
      "  distances['Dmin'] = distances.min(axis=1)\n"
     ]
    },
    {
     "name": "stdout",
     "output_type": "stream",
     "text": [
      "(77, 12)\n",
      "(149, 16)\n"
     ]
    },
    {
     "name": "stderr",
     "output_type": "stream",
     "text": [
      "C:\\Users\\marle\\AppData\\Local\\Temp\\ipykernel_26916\\2310005215.py:14: FutureWarning: The frame.append method is deprecated and will be removed from pandas in a future version. Use pandas.concat instead.\n",
      "  df_results = df_results.append(dict_results, ignore_index=True)\n",
      "\u001b[32m2023-08-11 19:41:38.201\u001b[0m | \u001b[1mINFO    \u001b[0m | \u001b[36m__main__\u001b[0m:\u001b[36mget_results_weekly\u001b[0m:\u001b[36m8\u001b[0m - \u001b[1m3\u001b[0m\n",
      "C:\\Users\\marle\\OneDrive - tbs-education\\00_Masterarbeit\\Code\\notebooks\\..\\src\\co2_modells.py:29: SettingWithCopyWarning: \n",
      "A value is trying to be set on a copy of a slice from a DataFrame.\n",
      "Try using .loc[row_indexer,col_indexer] = value instead\n",
      "\n",
      "See the caveats in the documentation: https://pandas.pydata.org/pandas-docs/stable/user_guide/indexing.html#returning-a-view-versus-a-copy\n",
      "  df[\"Sender weight (kg)\"] = df[\"Sender weight (kg)\"]*volume\n",
      "\u001b[32m2023-08-11 19:41:38.234\u001b[0m | \u001b[1mINFO    \u001b[0m | \u001b[36msrc.co2_modells\u001b[0m:\u001b[36mpreprocessing_modelling\u001b[0m:\u001b[36m38\u001b[0m - \u001b[1m3632.5\u001b[0m\n",
      "\u001b[32m2023-08-11 19:41:38.264\u001b[0m | \u001b[1mINFO    \u001b[0m | \u001b[36msrc.co2_modells\u001b[0m:\u001b[36mco2_modell\u001b[0m:\u001b[36m71\u001b[0m - \u001b[1m15.26776923076923\u001b[0m\n"
     ]
    },
    {
     "name": "stdout",
     "output_type": "stream",
     "text": [
      "Total processing time: 4.96875\n",
      "(455, 7)\n"
     ]
    },
    {
     "name": "stderr",
     "output_type": "stream",
     "text": [
      "C:\\Users\\marle\\OneDrive - tbs-education\\00_Masterarbeit\\Code\\notebooks\\..\\src\\create_solution.py:77: FutureWarning: Dropping of nuisance columns in DataFrame reductions (with 'numeric_only=None') is deprecated; in a future version this will raise TypeError.  Select only valid columns before calling the reduction.\n",
      "  distances['Dmin'] = distances.min(axis=1)\n"
     ]
    },
    {
     "name": "stdout",
     "output_type": "stream",
     "text": [
      "(80, 12)\n",
      "(154, 16)\n"
     ]
    },
    {
     "name": "stderr",
     "output_type": "stream",
     "text": [
      "C:\\Users\\marle\\AppData\\Local\\Temp\\ipykernel_26916\\2310005215.py:14: FutureWarning: The frame.append method is deprecated and will be removed from pandas in a future version. Use pandas.concat instead.\n",
      "  df_results = df_results.append(dict_results, ignore_index=True)\n",
      "\u001b[32m2023-08-11 19:41:49.727\u001b[0m | \u001b[1mINFO    \u001b[0m | \u001b[36m__main__\u001b[0m:\u001b[36mget_results_weekly\u001b[0m:\u001b[36m8\u001b[0m - \u001b[1m0\u001b[0m\n",
      "\u001b[32m2023-08-11 19:41:49.742\u001b[0m | \u001b[1mINFO    \u001b[0m | \u001b[36msrc.co2_modells\u001b[0m:\u001b[36mpreprocessing_modelling\u001b[0m:\u001b[36m38\u001b[0m - \u001b[1mnan\u001b[0m\n",
      "\u001b[32m2023-08-11 19:41:49.763\u001b[0m | \u001b[1mINFO    \u001b[0m | \u001b[36msrc.co2_modells\u001b[0m:\u001b[36mpreprocessing_modelling\u001b[0m:\u001b[36m38\u001b[0m - \u001b[1mnan\u001b[0m\n",
      "\u001b[32m2023-08-11 19:41:49.763\u001b[0m | \u001b[1mINFO    \u001b[0m | \u001b[36m__main__\u001b[0m:\u001b[36mget_results_weekly\u001b[0m:\u001b[36m8\u001b[0m - \u001b[1m1\u001b[0m\n",
      "C:\\Users\\marle\\OneDrive - tbs-education\\00_Masterarbeit\\Code\\notebooks\\..\\src\\co2_modells.py:29: SettingWithCopyWarning: \n",
      "A value is trying to be set on a copy of a slice from a DataFrame.\n",
      "Try using .loc[row_indexer,col_indexer] = value instead\n",
      "\n",
      "See the caveats in the documentation: https://pandas.pydata.org/pandas-docs/stable/user_guide/indexing.html#returning-a-view-versus-a-copy\n",
      "  df[\"Sender weight (kg)\"] = df[\"Sender weight (kg)\"]*volume\n",
      "\u001b[32m2023-08-11 19:41:49.774\u001b[0m | \u001b[1mINFO    \u001b[0m | \u001b[36msrc.co2_modells\u001b[0m:\u001b[36mpreprocessing_modelling\u001b[0m:\u001b[36m38\u001b[0m - \u001b[1m5475.12\u001b[0m\n",
      "\u001b[32m2023-08-11 19:41:49.821\u001b[0m | \u001b[1mINFO    \u001b[0m | \u001b[36msrc.co2_modells\u001b[0m:\u001b[36mco2_modell\u001b[0m:\u001b[36m71\u001b[0m - \u001b[1m27.578846153846154\u001b[0m\n"
     ]
    },
    {
     "name": "stdout",
     "output_type": "stream",
     "text": [
      "Total processing time: 5.25\n",
      "(0, 10)\n",
      "No deliveries from 2023-01-02 to 2022-01-03\n",
      "(0, 10)\n",
      "No deliveries from 2023-01-02 to 2022-01-03\n",
      "(436, 7)\n"
     ]
    },
    {
     "name": "stderr",
     "output_type": "stream",
     "text": [
      "C:\\Users\\marle\\OneDrive - tbs-education\\00_Masterarbeit\\Code\\notebooks\\..\\src\\create_solution.py:77: FutureWarning: Dropping of nuisance columns in DataFrame reductions (with 'numeric_only=None') is deprecated; in a future version this will raise TypeError.  Select only valid columns before calling the reduction.\n",
      "  distances['Dmin'] = distances.min(axis=1)\n"
     ]
    },
    {
     "name": "stdout",
     "output_type": "stream",
     "text": [
      "(77, 12)\n",
      "(151, 16)\n"
     ]
    },
    {
     "name": "stderr",
     "output_type": "stream",
     "text": [
      "C:\\Users\\marle\\AppData\\Local\\Temp\\ipykernel_26916\\2310005215.py:14: FutureWarning: The frame.append method is deprecated and will be removed from pandas in a future version. Use pandas.concat instead.\n",
      "  df_results = df_results.append(dict_results, ignore_index=True)\n",
      "\u001b[32m2023-08-11 19:42:01.627\u001b[0m | \u001b[1mINFO    \u001b[0m | \u001b[36m__main__\u001b[0m:\u001b[36mget_results_weekly\u001b[0m:\u001b[36m8\u001b[0m - \u001b[1m2\u001b[0m\n",
      "C:\\Users\\marle\\OneDrive - tbs-education\\00_Masterarbeit\\Code\\notebooks\\..\\src\\co2_modells.py:29: SettingWithCopyWarning: \n",
      "A value is trying to be set on a copy of a slice from a DataFrame.\n",
      "Try using .loc[row_indexer,col_indexer] = value instead\n",
      "\n",
      "See the caveats in the documentation: https://pandas.pydata.org/pandas-docs/stable/user_guide/indexing.html#returning-a-view-versus-a-copy\n",
      "  df[\"Sender weight (kg)\"] = df[\"Sender weight (kg)\"]*volume\n",
      "\u001b[32m2023-08-11 19:42:01.648\u001b[0m | \u001b[1mINFO    \u001b[0m | \u001b[36msrc.co2_modells\u001b[0m:\u001b[36mpreprocessing_modelling\u001b[0m:\u001b[36m38\u001b[0m - \u001b[1m5230.74\u001b[0m\n",
      "\u001b[32m2023-08-11 19:42:01.692\u001b[0m | \u001b[1mINFO    \u001b[0m | \u001b[36msrc.co2_modells\u001b[0m:\u001b[36mco2_modell\u001b[0m:\u001b[36m71\u001b[0m - \u001b[1m29.925384615384615\u001b[0m\n"
     ]
    },
    {
     "name": "stdout",
     "output_type": "stream",
     "text": [
      "Total processing time: 7.171875\n",
      "(450, 7)\n"
     ]
    },
    {
     "name": "stderr",
     "output_type": "stream",
     "text": [
      "C:\\Users\\marle\\OneDrive - tbs-education\\00_Masterarbeit\\Code\\notebooks\\..\\src\\create_solution.py:77: FutureWarning: Dropping of nuisance columns in DataFrame reductions (with 'numeric_only=None') is deprecated; in a future version this will raise TypeError.  Select only valid columns before calling the reduction.\n",
      "  distances['Dmin'] = distances.min(axis=1)\n"
     ]
    },
    {
     "name": "stdout",
     "output_type": "stream",
     "text": [
      "(77, 12)\n",
      "(149, 16)\n"
     ]
    },
    {
     "name": "stderr",
     "output_type": "stream",
     "text": [
      "C:\\Users\\marle\\AppData\\Local\\Temp\\ipykernel_26916\\2310005215.py:14: FutureWarning: The frame.append method is deprecated and will be removed from pandas in a future version. Use pandas.concat instead.\n",
      "  df_results = df_results.append(dict_results, ignore_index=True)\n",
      "\u001b[32m2023-08-11 19:42:13.174\u001b[0m | \u001b[1mINFO    \u001b[0m | \u001b[36m__main__\u001b[0m:\u001b[36mget_results_weekly\u001b[0m:\u001b[36m8\u001b[0m - \u001b[1m3\u001b[0m\n",
      "C:\\Users\\marle\\OneDrive - tbs-education\\00_Masterarbeit\\Code\\notebooks\\..\\src\\co2_modells.py:29: SettingWithCopyWarning: \n",
      "A value is trying to be set on a copy of a slice from a DataFrame.\n",
      "Try using .loc[row_indexer,col_indexer] = value instead\n",
      "\n",
      "See the caveats in the documentation: https://pandas.pydata.org/pandas-docs/stable/user_guide/indexing.html#returning-a-view-versus-a-copy\n",
      "  df[\"Sender weight (kg)\"] = df[\"Sender weight (kg)\"]*volume\n",
      "\u001b[32m2023-08-11 19:42:13.191\u001b[0m | \u001b[1mINFO    \u001b[0m | \u001b[36msrc.co2_modells\u001b[0m:\u001b[36mpreprocessing_modelling\u001b[0m:\u001b[36m38\u001b[0m - \u001b[1m7265.0\u001b[0m\n",
      "\u001b[32m2023-08-11 19:42:13.221\u001b[0m | \u001b[1mINFO    \u001b[0m | \u001b[36msrc.co2_modells\u001b[0m:\u001b[36mco2_modell\u001b[0m:\u001b[36m71\u001b[0m - \u001b[1m30.553153846153847\u001b[0m\n"
     ]
    },
    {
     "name": "stdout",
     "output_type": "stream",
     "text": [
      "Total processing time: 5.4375\n",
      "(455, 7)\n"
     ]
    },
    {
     "name": "stderr",
     "output_type": "stream",
     "text": [
      "C:\\Users\\marle\\OneDrive - tbs-education\\00_Masterarbeit\\Code\\notebooks\\..\\src\\create_solution.py:77: FutureWarning: Dropping of nuisance columns in DataFrame reductions (with 'numeric_only=None') is deprecated; in a future version this will raise TypeError.  Select only valid columns before calling the reduction.\n",
      "  distances['Dmin'] = distances.min(axis=1)\n"
     ]
    },
    {
     "name": "stdout",
     "output_type": "stream",
     "text": [
      "(80, 12)\n",
      "(154, 16)\n",
      "Total processing time: 4.5625\n"
     ]
    },
    {
     "name": "stderr",
     "output_type": "stream",
     "text": [
      "C:\\Users\\marle\\AppData\\Local\\Temp\\ipykernel_26916\\2310005215.py:14: FutureWarning: The frame.append method is deprecated and will be removed from pandas in a future version. Use pandas.concat instead.\n",
      "  df_results = df_results.append(dict_results, ignore_index=True)\n"
     ]
    },
    {
     "data": {
      "text/html": [
       "<div>\n",
       "<style scoped>\n",
       "    .dataframe tbody tr th:only-of-type {\n",
       "        vertical-align: middle;\n",
       "    }\n",
       "\n",
       "    .dataframe tbody tr th {\n",
       "        vertical-align: top;\n",
       "    }\n",
       "\n",
       "    .dataframe thead th {\n",
       "        text-align: right;\n",
       "    }\n",
       "</style>\n",
       "<table border=\"1\" class=\"dataframe\">\n",
       "  <thead>\n",
       "    <tr style=\"text-align: right;\">\n",
       "      <th></th>\n",
       "      <th>date from</th>\n",
       "      <th>date to</th>\n",
       "      <th>co2 road</th>\n",
       "      <th>distance road</th>\n",
       "      <th>routes road</th>\n",
       "      <th>processing time road</th>\n",
       "      <th>co2 railroad</th>\n",
       "      <th>distance railroad</th>\n",
       "      <th>terminal allocation</th>\n",
       "      <th>routes railroad</th>\n",
       "      <th>processing time railroad</th>\n",
       "      <th>volume</th>\n",
       "    </tr>\n",
       "  </thead>\n",
       "  <tbody>\n",
       "    <tr>\n",
       "      <th>0</th>\n",
       "      <td>2022-01-03 11:59:00</td>\n",
       "      <td>2022-01-07 15:50:00</td>\n",
       "      <td>15018.727981</td>\n",
       "      <td>16903469</td>\n",
       "      <td>[[DC1, C768, C1126, C451, C464, C446, C549, C1...</td>\n",
       "      <td>0.656250</td>\n",
       "      <td>15041.986593</td>\n",
       "      <td>20763836.0</td>\n",
       "      <td>[[C163, C341, C676, C850, C697, C353, C113, C1...</td>\n",
       "      <td>{'T1': [['T1', 'C1181', 'C676', 'C850', 'C163'...</td>\n",
       "      <td>4.718750</td>\n",
       "      <td>1.0</td>\n",
       "    </tr>\n",
       "    <tr>\n",
       "      <th>1</th>\n",
       "      <td>2022-01-10 10:25:00</td>\n",
       "      <td>2022-01-14 15:34:00</td>\n",
       "      <td>14860.219402</td>\n",
       "      <td>16506627</td>\n",
       "      <td>[[DC1, C104, C1161, C473, C1164, C455, C103, C...</td>\n",
       "      <td>0.781250</td>\n",
       "      <td>16129.213684</td>\n",
       "      <td>22054300.0</td>\n",
       "      <td>[[C341, C676, C850, C124, C697, C778, C353, C1...</td>\n",
       "      <td>{'T1': [['T1', 'C1181', 'C676', 'C850', 'C124'...</td>\n",
       "      <td>5.000000</td>\n",
       "      <td>1.0</td>\n",
       "    </tr>\n",
       "    <tr>\n",
       "      <th>2</th>\n",
       "      <td>2022-01-17 08:16:00</td>\n",
       "      <td>2022-01-21 15:29:00</td>\n",
       "      <td>16141.646953</td>\n",
       "      <td>17930914</td>\n",
       "      <td>[[DC1, C4, C1279, C229, C771, C316, C182, C937...</td>\n",
       "      <td>0.578125</td>\n",
       "      <td>16443.258941</td>\n",
       "      <td>22618843.0</td>\n",
       "      <td>[[C163, C341, C676, C850, C124, C697, C778, C3...</td>\n",
       "      <td>{'T1': [['T1', 'C935', 'C284', 'C238', 'C196',...</td>\n",
       "      <td>4.875000</td>\n",
       "      <td>1.0</td>\n",
       "    </tr>\n",
       "    <tr>\n",
       "      <th>3</th>\n",
       "      <td>2022-01-03 11:59:00</td>\n",
       "      <td>2022-01-07 15:50:00</td>\n",
       "      <td>25159.206213</td>\n",
       "      <td>27701995</td>\n",
       "      <td>[[DC1, C611, C285, C106, C276, C234, C940, C28...</td>\n",
       "      <td>0.734375</td>\n",
       "      <td>17429.738602</td>\n",
       "      <td>22453248.0</td>\n",
       "      <td>[[C163, C341, C676, C850, C697, C353, C113, C1...</td>\n",
       "      <td>{'T1': [['T1', 'C55', 'C1181', 'C676', 'C850',...</td>\n",
       "      <td>4.718750</td>\n",
       "      <td>5.0</td>\n",
       "    </tr>\n",
       "    <tr>\n",
       "      <th>4</th>\n",
       "      <td>2022-01-10 10:25:00</td>\n",
       "      <td>2022-01-14 15:34:00</td>\n",
       "      <td>27602.798327</td>\n",
       "      <td>30790409</td>\n",
       "      <td>[[DC1, C320, C322, C309, C778, C676, C850, C56...</td>\n",
       "      <td>0.531250</td>\n",
       "      <td>19310.273375</td>\n",
       "      <td>24616850.0</td>\n",
       "      <td>[[C341, C676, C850, C124, C697, C778, C353, C1...</td>\n",
       "      <td>{'T1': [['T1', 'C867', 'C1025', 'C565', 'C73',...</td>\n",
       "      <td>4.437500</td>\n",
       "      <td>5.0</td>\n",
       "    </tr>\n",
       "    <tr>\n",
       "      <th>5</th>\n",
       "      <td>2022-01-17 08:16:00</td>\n",
       "      <td>2022-01-21 15:29:00</td>\n",
       "      <td>27999.160465</td>\n",
       "      <td>31210863</td>\n",
       "      <td>[[DC1, C352, C472, C545, C778, C850, C338, C69...</td>\n",
       "      <td>0.562500</td>\n",
       "      <td>19670.781792</td>\n",
       "      <td>25164223.0</td>\n",
       "      <td>[[C163, C341, C676, C850, C124, C697, C778, C3...</td>\n",
       "      <td>{'T1': [['T1', 'C163', 'C341', 'C124', 'C697',...</td>\n",
       "      <td>4.687500</td>\n",
       "      <td>5.0</td>\n",
       "    </tr>\n",
       "    <tr>\n",
       "      <th>6</th>\n",
       "      <td>2022-01-03 11:59:00</td>\n",
       "      <td>2022-01-07 15:50:00</td>\n",
       "      <td>41070.640565</td>\n",
       "      <td>45385325</td>\n",
       "      <td>[[DC1, C448, C377, C289, C597, C273, C661, C84...</td>\n",
       "      <td>0.718750</td>\n",
       "      <td>22651.687601</td>\n",
       "      <td>27962689.0</td>\n",
       "      <td>[[C163, C341, C676, C850, C697, C353, C113, C1...</td>\n",
       "      <td>{'T1': [['T1', 'C55', 'C637', 'C883', 'C694', ...</td>\n",
       "      <td>6.453125</td>\n",
       "      <td>10.0</td>\n",
       "    </tr>\n",
       "    <tr>\n",
       "      <th>7</th>\n",
       "      <td>2022-01-10 10:25:00</td>\n",
       "      <td>2022-01-14 15:34:00</td>\n",
       "      <td>45955.009414</td>\n",
       "      <td>51276880</td>\n",
       "      <td>[[DC1, C448, C415, C385, C545, C361, C219, C32...</td>\n",
       "      <td>0.921875</td>\n",
       "      <td>25660.526978</td>\n",
       "      <td>31206115.0</td>\n",
       "      <td>[[C341, C676, C850, C124, C697, C778, C353, C1...</td>\n",
       "      <td>{'T1': [['T1', 'C284', 'C238', 'C1049', 'C212'...</td>\n",
       "      <td>4.515625</td>\n",
       "      <td>10.0</td>\n",
       "    </tr>\n",
       "    <tr>\n",
       "      <th>8</th>\n",
       "      <td>2022-01-17 08:16:00</td>\n",
       "      <td>2022-01-21 15:29:00</td>\n",
       "      <td>42482.277434</td>\n",
       "      <td>46815536</td>\n",
       "      <td>[[DC1, C584, C676, C113, C565, C73, C1017, C36...</td>\n",
       "      <td>0.593750</td>\n",
       "      <td>25231.353938</td>\n",
       "      <td>30793533.0</td>\n",
       "      <td>[[C163, C341, C676, C850, C124, C697, C778, C3...</td>\n",
       "      <td>{'T1': [['T1', 'C55', 'C2098', 'C273', 'C701',...</td>\n",
       "      <td>3.968750</td>\n",
       "      <td>10.0</td>\n",
       "    </tr>\n",
       "  </tbody>\n",
       "</table>\n",
       "</div>"
      ],
      "text/plain": [
       "            date from             date to      co2 road distance road  \\\n",
       "0 2022-01-03 11:59:00 2022-01-07 15:50:00  15018.727981      16903469   \n",
       "1 2022-01-10 10:25:00 2022-01-14 15:34:00  14860.219402      16506627   \n",
       "2 2022-01-17 08:16:00 2022-01-21 15:29:00  16141.646953      17930914   \n",
       "3 2022-01-03 11:59:00 2022-01-07 15:50:00  25159.206213      27701995   \n",
       "4 2022-01-10 10:25:00 2022-01-14 15:34:00  27602.798327      30790409   \n",
       "5 2022-01-17 08:16:00 2022-01-21 15:29:00  27999.160465      31210863   \n",
       "6 2022-01-03 11:59:00 2022-01-07 15:50:00  41070.640565      45385325   \n",
       "7 2022-01-10 10:25:00 2022-01-14 15:34:00  45955.009414      51276880   \n",
       "8 2022-01-17 08:16:00 2022-01-21 15:29:00  42482.277434      46815536   \n",
       "\n",
       "                                         routes road  processing time road  \\\n",
       "0  [[DC1, C768, C1126, C451, C464, C446, C549, C1...              0.656250   \n",
       "1  [[DC1, C104, C1161, C473, C1164, C455, C103, C...              0.781250   \n",
       "2  [[DC1, C4, C1279, C229, C771, C316, C182, C937...              0.578125   \n",
       "3  [[DC1, C611, C285, C106, C276, C234, C940, C28...              0.734375   \n",
       "4  [[DC1, C320, C322, C309, C778, C676, C850, C56...              0.531250   \n",
       "5  [[DC1, C352, C472, C545, C778, C850, C338, C69...              0.562500   \n",
       "6  [[DC1, C448, C377, C289, C597, C273, C661, C84...              0.718750   \n",
       "7  [[DC1, C448, C415, C385, C545, C361, C219, C32...              0.921875   \n",
       "8  [[DC1, C584, C676, C113, C565, C73, C1017, C36...              0.593750   \n",
       "\n",
       "   co2 railroad  distance railroad  \\\n",
       "0  15041.986593         20763836.0   \n",
       "1  16129.213684         22054300.0   \n",
       "2  16443.258941         22618843.0   \n",
       "3  17429.738602         22453248.0   \n",
       "4  19310.273375         24616850.0   \n",
       "5  19670.781792         25164223.0   \n",
       "6  22651.687601         27962689.0   \n",
       "7  25660.526978         31206115.0   \n",
       "8  25231.353938         30793533.0   \n",
       "\n",
       "                                 terminal allocation  \\\n",
       "0  [[C163, C341, C676, C850, C697, C353, C113, C1...   \n",
       "1  [[C341, C676, C850, C124, C697, C778, C353, C1...   \n",
       "2  [[C163, C341, C676, C850, C124, C697, C778, C3...   \n",
       "3  [[C163, C341, C676, C850, C697, C353, C113, C1...   \n",
       "4  [[C341, C676, C850, C124, C697, C778, C353, C1...   \n",
       "5  [[C163, C341, C676, C850, C124, C697, C778, C3...   \n",
       "6  [[C163, C341, C676, C850, C697, C353, C113, C1...   \n",
       "7  [[C341, C676, C850, C124, C697, C778, C353, C1...   \n",
       "8  [[C163, C341, C676, C850, C124, C697, C778, C3...   \n",
       "\n",
       "                                     routes railroad  \\\n",
       "0  {'T1': [['T1', 'C1181', 'C676', 'C850', 'C163'...   \n",
       "1  {'T1': [['T1', 'C1181', 'C676', 'C850', 'C124'...   \n",
       "2  {'T1': [['T1', 'C935', 'C284', 'C238', 'C196',...   \n",
       "3  {'T1': [['T1', 'C55', 'C1181', 'C676', 'C850',...   \n",
       "4  {'T1': [['T1', 'C867', 'C1025', 'C565', 'C73',...   \n",
       "5  {'T1': [['T1', 'C163', 'C341', 'C124', 'C697',...   \n",
       "6  {'T1': [['T1', 'C55', 'C637', 'C883', 'C694', ...   \n",
       "7  {'T1': [['T1', 'C284', 'C238', 'C1049', 'C212'...   \n",
       "8  {'T1': [['T1', 'C55', 'C2098', 'C273', 'C701',...   \n",
       "\n",
       "   processing time railroad  volume  \n",
       "0                  4.718750     1.0  \n",
       "1                  5.000000     1.0  \n",
       "2                  4.875000     1.0  \n",
       "3                  4.718750     5.0  \n",
       "4                  4.437500     5.0  \n",
       "5                  4.687500     5.0  \n",
       "6                  6.453125    10.0  \n",
       "7                  4.515625    10.0  \n",
       "8                  3.968750    10.0  "
      ]
     },
     "execution_count": 110,
     "metadata": {},
     "output_type": "execute_result"
    }
   ],
   "source": [
    "get_results_weekly(df_dc1, [2,3,4,5], truck_capacity = truck_capacity, mode = \"combined\", algorithm = \"client\")"
   ]
  },
  {
   "cell_type": "code",
   "execution_count": 190,
   "id": "d7487738",
   "metadata": {},
   "outputs": [
    {
     "name": "stderr",
     "output_type": "stream",
     "text": [
      "\u001b[32m2023-08-09 18:42:01.193\u001b[0m | \u001b[1mINFO    \u001b[0m | \u001b[36m__main__\u001b[0m:\u001b[36mget_results_weekly\u001b[0m:\u001b[36m8\u001b[0m - \u001b[1m0\u001b[0m\n",
      "\u001b[32m2023-08-09 18:42:01.206\u001b[0m | \u001b[1mINFO    \u001b[0m | \u001b[36msrc.co2_modells\u001b[0m:\u001b[36mpreprocessing_modelling\u001b[0m:\u001b[36m38\u001b[0m - \u001b[1mnan\u001b[0m\n",
      "\u001b[32m2023-08-09 18:42:01.219\u001b[0m | \u001b[1mINFO    \u001b[0m | \u001b[36msrc.co2_modells\u001b[0m:\u001b[36mpreprocessing_modelling\u001b[0m:\u001b[36m38\u001b[0m - \u001b[1mnan\u001b[0m\n",
      "\u001b[32m2023-08-09 18:42:01.219\u001b[0m | \u001b[1mINFO    \u001b[0m | \u001b[36m__main__\u001b[0m:\u001b[36mget_results_weekly\u001b[0m:\u001b[36m8\u001b[0m - \u001b[1m1\u001b[0m\n",
      "C:\\Users\\marle\\OneDrive - tbs-education\\00_Masterarbeit\\Code\\notebooks\\..\\src\\co2_modells.py:29: SettingWithCopyWarning: \n",
      "A value is trying to be set on a copy of a slice from a DataFrame.\n",
      "Try using .loc[row_indexer,col_indexer] = value instead\n",
      "\n",
      "See the caveats in the documentation: https://pandas.pydata.org/pandas-docs/stable/user_guide/indexing.html#returning-a-view-versus-a-copy\n",
      "  df[\"Sender weight (kg)\"] = df[\"Sender weight (kg)\"]*volume\n",
      "\u001b[32m2023-08-09 18:42:01.235\u001b[0m | \u001b[1mINFO    \u001b[0m | \u001b[36msrc.co2_modells\u001b[0m:\u001b[36mpreprocessing_modelling\u001b[0m:\u001b[36m38\u001b[0m - \u001b[1m547.512\u001b[0m\n",
      "\u001b[32m2023-08-09 18:42:01.282\u001b[0m | \u001b[1mINFO    \u001b[0m | \u001b[36msrc.co2_modells\u001b[0m:\u001b[36mco2_modell\u001b[0m:\u001b[36m71\u001b[0m - \u001b[1m2.7426153846153847\u001b[0m\n"
     ]
    },
    {
     "name": "stdout",
     "output_type": "stream",
     "text": [
      "(0, 10)\n",
      "No deliveries from 2023-01-02 to 2022-01-03\n",
      "(0, 10)\n",
      "No deliveries from 2023-01-02 to 2022-01-03\n",
      "(436, 7)\n"
     ]
    },
    {
     "name": "stderr",
     "output_type": "stream",
     "text": [
      "C:\\Users\\marle\\OneDrive - tbs-education\\00_Masterarbeit\\Code\\notebooks\\..\\src\\create_solution.py:52: FutureWarning: Dropping of nuisance columns in DataFrame reductions (with 'numeric_only=None') is deprecated; in a future version this will raise TypeError.  Select only valid columns before calling the reduction.\n",
      "  distances['Dmin'] = distances.min(axis=1)\n",
      "\u001b[32m2023-08-09 18:42:03.494\u001b[0m | \u001b[1mINFO    \u001b[0m | \u001b[36msrc.evaluation_multi\u001b[0m:\u001b[36mevaluate_solution_multi\u001b[0m:\u001b[36m263\u001b[0m - \u001b[1m318.5558215112404\u001b[0m\n",
      "\u001b[32m2023-08-09 18:42:04.530\u001b[0m | \u001b[1mINFO    \u001b[0m | \u001b[36msrc.evaluation_multi\u001b[0m:\u001b[36mevaluate_solution_multi\u001b[0m:\u001b[36m312\u001b[0m - \u001b[1m1663.686889662284\u001b[0m\n",
      "\u001b[32m2023-08-09 18:42:05.534\u001b[0m | \u001b[1mINFO    \u001b[0m | \u001b[36msrc.evaluation_multi\u001b[0m:\u001b[36mevaluate_solution_multi\u001b[0m:\u001b[36m312\u001b[0m - \u001b[1m2710.4227800707085\u001b[0m\n",
      "\u001b[32m2023-08-09 18:42:06.537\u001b[0m | \u001b[1mINFO    \u001b[0m | \u001b[36msrc.evaluation_multi\u001b[0m:\u001b[36mevaluate_solution_multi\u001b[0m:\u001b[36m312\u001b[0m - \u001b[1m3047.317647802444\u001b[0m\n",
      "\u001b[32m2023-08-09 18:42:06.553\u001b[0m | \u001b[1mINFO    \u001b[0m | \u001b[36msrc.evaluation_multi\u001b[0m:\u001b[36mevaluate_solution_multi\u001b[0m:\u001b[36m312\u001b[0m - \u001b[1m3047.317647802444\u001b[0m\n",
      "\u001b[32m2023-08-09 18:42:07.572\u001b[0m | \u001b[1mINFO    \u001b[0m | \u001b[36msrc.evaluation_multi\u001b[0m:\u001b[36mevaluate_solution_multi\u001b[0m:\u001b[36m312\u001b[0m - \u001b[1m5218.190402439077\u001b[0m\n",
      "\u001b[32m2023-08-09 18:42:08.576\u001b[0m | \u001b[1mINFO    \u001b[0m | \u001b[36msrc.evaluation_multi\u001b[0m:\u001b[36mevaluate_solution_multi\u001b[0m:\u001b[36m312\u001b[0m - \u001b[1m7042.615088216405\u001b[0m\n",
      "\u001b[32m2023-08-09 18:42:09.597\u001b[0m | \u001b[1mINFO    \u001b[0m | \u001b[36msrc.evaluation_multi\u001b[0m:\u001b[36mevaluate_solution_multi\u001b[0m:\u001b[36m312\u001b[0m - \u001b[1m7759.26269158033\u001b[0m\n",
      "\u001b[32m2023-08-09 18:42:10.604\u001b[0m | \u001b[1mINFO    \u001b[0m | \u001b[36msrc.evaluation_multi\u001b[0m:\u001b[36mevaluate_solution_multi\u001b[0m:\u001b[36m312\u001b[0m - \u001b[1m8200.879002659942\u001b[0m\n",
      "\u001b[32m2023-08-09 18:42:11.608\u001b[0m | \u001b[1mINFO    \u001b[0m | \u001b[36msrc.evaluation_multi\u001b[0m:\u001b[36mevaluate_solution_multi\u001b[0m:\u001b[36m312\u001b[0m - \u001b[1m8902.749251413967\u001b[0m\n",
      "\u001b[32m2023-08-09 18:42:12.471\u001b[0m | \u001b[1mINFO    \u001b[0m | \u001b[36msrc.evaluation_multi\u001b[0m:\u001b[36mevaluate_solution_multi\u001b[0m:\u001b[36m312\u001b[0m - \u001b[1m10090.184032641126\u001b[0m\n",
      "\u001b[32m2023-08-09 18:42:12.518\u001b[0m | \u001b[1mINFO    \u001b[0m | \u001b[36msrc.evaluation_multi\u001b[0m:\u001b[36mevaluate_solution_multi\u001b[0m:\u001b[36m320\u001b[0m - \u001b[1m11430.986654941944\u001b[0m\n",
      "C:\\Users\\marle\\AppData\\Local\\Temp\\ipykernel_27168\\2310005215.py:14: FutureWarning: The frame.append method is deprecated and will be removed from pandas in a future version. Use pandas.concat instead.\n",
      "  df_results = df_results.append(dict_results, ignore_index=True)\n",
      "\u001b[32m2023-08-09 18:42:12.533\u001b[0m | \u001b[1mINFO    \u001b[0m | \u001b[36m__main__\u001b[0m:\u001b[36mget_results_weekly\u001b[0m:\u001b[36m8\u001b[0m - \u001b[1m2\u001b[0m\n",
      "C:\\Users\\marle\\OneDrive - tbs-education\\00_Masterarbeit\\Code\\notebooks\\..\\src\\co2_modells.py:29: SettingWithCopyWarning: \n",
      "A value is trying to be set on a copy of a slice from a DataFrame.\n",
      "Try using .loc[row_indexer,col_indexer] = value instead\n",
      "\n",
      "See the caveats in the documentation: https://pandas.pydata.org/pandas-docs/stable/user_guide/indexing.html#returning-a-view-versus-a-copy\n",
      "  df[\"Sender weight (kg)\"] = df[\"Sender weight (kg)\"]*volume\n",
      "\u001b[32m2023-08-09 18:42:12.549\u001b[0m | \u001b[1mINFO    \u001b[0m | \u001b[36msrc.co2_modells\u001b[0m:\u001b[36mpreprocessing_modelling\u001b[0m:\u001b[36m38\u001b[0m - \u001b[1m523.0740000000001\u001b[0m\n",
      "\u001b[32m2023-08-09 18:42:12.596\u001b[0m | \u001b[1mINFO    \u001b[0m | \u001b[36msrc.co2_modells\u001b[0m:\u001b[36mco2_modell\u001b[0m:\u001b[36m71\u001b[0m - \u001b[1m2.977692307692308\u001b[0m\n"
     ]
    },
    {
     "name": "stdout",
     "output_type": "stream",
     "text": [
      "Total processing time: 3.265625\n",
      "(450, 7)\n"
     ]
    },
    {
     "name": "stderr",
     "output_type": "stream",
     "text": [
      "C:\\Users\\marle\\OneDrive - tbs-education\\00_Masterarbeit\\Code\\notebooks\\..\\src\\create_solution.py:52: FutureWarning: Dropping of nuisance columns in DataFrame reductions (with 'numeric_only=None') is deprecated; in a future version this will raise TypeError.  Select only valid columns before calling the reduction.\n",
      "  distances['Dmin'] = distances.min(axis=1)\n",
      "\u001b[32m2023-08-09 18:42:14.809\u001b[0m | \u001b[1mINFO    \u001b[0m | \u001b[36msrc.evaluation_multi\u001b[0m:\u001b[36mevaluate_solution_multi\u001b[0m:\u001b[36m263\u001b[0m - \u001b[1m323.67230386105814\u001b[0m\n",
      "\u001b[32m2023-08-09 18:42:15.835\u001b[0m | \u001b[1mINFO    \u001b[0m | \u001b[36msrc.evaluation_multi\u001b[0m:\u001b[36mevaluate_solution_multi\u001b[0m:\u001b[36m312\u001b[0m - \u001b[1m1747.7275289311751\u001b[0m\n",
      "\u001b[32m2023-08-09 18:42:16.848\u001b[0m | \u001b[1mINFO    \u001b[0m | \u001b[36msrc.evaluation_multi\u001b[0m:\u001b[36mevaluate_solution_multi\u001b[0m:\u001b[36m312\u001b[0m - \u001b[1m2717.077605762515\u001b[0m\n",
      "\u001b[32m2023-08-09 18:42:17.872\u001b[0m | \u001b[1mINFO    \u001b[0m | \u001b[36msrc.evaluation_multi\u001b[0m:\u001b[36mevaluate_solution_multi\u001b[0m:\u001b[36m312\u001b[0m - \u001b[1m3052.9055999208804\u001b[0m\n",
      "\u001b[32m2023-08-09 18:42:17.874\u001b[0m | \u001b[1mINFO    \u001b[0m | \u001b[36msrc.evaluation_multi\u001b[0m:\u001b[36mevaluate_solution_multi\u001b[0m:\u001b[36m312\u001b[0m - \u001b[1m3052.9055999208804\u001b[0m\n",
      "\u001b[32m2023-08-09 18:42:18.888\u001b[0m | \u001b[1mINFO    \u001b[0m | \u001b[36msrc.evaluation_multi\u001b[0m:\u001b[36mevaluate_solution_multi\u001b[0m:\u001b[36m312\u001b[0m - \u001b[1m5276.684404276761\u001b[0m\n",
      "\u001b[32m2023-08-09 18:42:19.906\u001b[0m | \u001b[1mINFO    \u001b[0m | \u001b[36msrc.evaluation_multi\u001b[0m:\u001b[36mevaluate_solution_multi\u001b[0m:\u001b[36m312\u001b[0m - \u001b[1m7149.345953880296\u001b[0m\n",
      "\u001b[32m2023-08-09 18:42:20.926\u001b[0m | \u001b[1mINFO    \u001b[0m | \u001b[36msrc.evaluation_multi\u001b[0m:\u001b[36mevaluate_solution_multi\u001b[0m:\u001b[36m312\u001b[0m - \u001b[1m7901.826809733362\u001b[0m\n",
      "\u001b[32m2023-08-09 18:42:21.930\u001b[0m | \u001b[1mINFO    \u001b[0m | \u001b[36msrc.evaluation_multi\u001b[0m:\u001b[36mevaluate_solution_multi\u001b[0m:\u001b[36m312\u001b[0m - \u001b[1m8358.604479937308\u001b[0m\n",
      "\u001b[32m2023-08-09 18:42:22.948\u001b[0m | \u001b[1mINFO    \u001b[0m | \u001b[36msrc.evaluation_multi\u001b[0m:\u001b[36mevaluate_solution_multi\u001b[0m:\u001b[36m312\u001b[0m - \u001b[1m9095.342225135457\u001b[0m\n",
      "\u001b[32m2023-08-09 18:42:23.957\u001b[0m | \u001b[1mINFO    \u001b[0m | \u001b[36msrc.evaluation_multi\u001b[0m:\u001b[36mevaluate_solution_multi\u001b[0m:\u001b[36m312\u001b[0m - \u001b[1m9977.28321699166\u001b[0m\n",
      "\u001b[32m2023-08-09 18:42:24.063\u001b[0m | \u001b[1mINFO    \u001b[0m | \u001b[36msrc.evaluation_multi\u001b[0m:\u001b[36mevaluate_solution_multi\u001b[0m:\u001b[36m320\u001b[0m - \u001b[1m11319.32261628741\u001b[0m\n",
      "C:\\Users\\marle\\AppData\\Local\\Temp\\ipykernel_27168\\2310005215.py:14: FutureWarning: The frame.append method is deprecated and will be removed from pandas in a future version. Use pandas.concat instead.\n",
      "  df_results = df_results.append(dict_results, ignore_index=True)\n",
      "\u001b[32m2023-08-09 18:42:24.173\u001b[0m | \u001b[1mINFO    \u001b[0m | \u001b[36m__main__\u001b[0m:\u001b[36mget_results_weekly\u001b[0m:\u001b[36m8\u001b[0m - \u001b[1m3\u001b[0m\n",
      "C:\\Users\\marle\\OneDrive - tbs-education\\00_Masterarbeit\\Code\\notebooks\\..\\src\\co2_modells.py:29: SettingWithCopyWarning: \n",
      "A value is trying to be set on a copy of a slice from a DataFrame.\n",
      "Try using .loc[row_indexer,col_indexer] = value instead\n",
      "\n",
      "See the caveats in the documentation: https://pandas.pydata.org/pandas-docs/stable/user_guide/indexing.html#returning-a-view-versus-a-copy\n",
      "  df[\"Sender weight (kg)\"] = df[\"Sender weight (kg)\"]*volume\n",
      "\u001b[32m2023-08-09 18:42:24.189\u001b[0m | \u001b[1mINFO    \u001b[0m | \u001b[36msrc.co2_modells\u001b[0m:\u001b[36mpreprocessing_modelling\u001b[0m:\u001b[36m38\u001b[0m - \u001b[1m726.5\u001b[0m\n",
      "\u001b[32m2023-08-09 18:42:24.251\u001b[0m | \u001b[1mINFO    \u001b[0m | \u001b[36msrc.co2_modells\u001b[0m:\u001b[36mco2_modell\u001b[0m:\u001b[36m71\u001b[0m - \u001b[1m3.040769230769231\u001b[0m\n"
     ]
    },
    {
     "name": "stdout",
     "output_type": "stream",
     "text": [
      "Total processing time: 3.8125\n",
      "(455, 7)\n"
     ]
    },
    {
     "name": "stderr",
     "output_type": "stream",
     "text": [
      "C:\\Users\\marle\\OneDrive - tbs-education\\00_Masterarbeit\\Code\\notebooks\\..\\src\\create_solution.py:52: FutureWarning: Dropping of nuisance columns in DataFrame reductions (with 'numeric_only=None') is deprecated; in a future version this will raise TypeError.  Select only valid columns before calling the reduction.\n",
      "  distances['Dmin'] = distances.min(axis=1)\n",
      "\u001b[32m2023-08-09 18:42:26.818\u001b[0m | \u001b[1mINFO    \u001b[0m | \u001b[36msrc.evaluation_multi\u001b[0m:\u001b[36mevaluate_solution_multi\u001b[0m:\u001b[36m263\u001b[0m - \u001b[1m325.75418288615634\u001b[0m\n",
      "\u001b[32m2023-08-09 18:42:27.839\u001b[0m | \u001b[1mINFO    \u001b[0m | \u001b[36msrc.evaluation_multi\u001b[0m:\u001b[36mevaluate_solution_multi\u001b[0m:\u001b[36m312\u001b[0m - \u001b[1m1675.2827708062034\u001b[0m\n",
      "\u001b[32m2023-08-09 18:42:28.842\u001b[0m | \u001b[1mINFO    \u001b[0m | \u001b[36msrc.evaluation_multi\u001b[0m:\u001b[36mevaluate_solution_multi\u001b[0m:\u001b[36m312\u001b[0m - \u001b[1m2568.7434424726735\u001b[0m\n",
      "\u001b[32m2023-08-09 18:42:29.861\u001b[0m | \u001b[1mINFO    \u001b[0m | \u001b[36msrc.evaluation_multi\u001b[0m:\u001b[36mevaluate_solution_multi\u001b[0m:\u001b[36m312\u001b[0m - \u001b[1m2907.7363654356827\u001b[0m\n",
      "\u001b[32m2023-08-09 18:42:29.861\u001b[0m | \u001b[1mINFO    \u001b[0m | \u001b[36msrc.evaluation_multi\u001b[0m:\u001b[36mevaluate_solution_multi\u001b[0m:\u001b[36m312\u001b[0m - \u001b[1m2907.7363654356827\u001b[0m\n",
      "\u001b[32m2023-08-09 18:42:30.880\u001b[0m | \u001b[1mINFO    \u001b[0m | \u001b[36msrc.evaluation_multi\u001b[0m:\u001b[36mevaluate_solution_multi\u001b[0m:\u001b[36m312\u001b[0m - \u001b[1m5219.779625912937\u001b[0m\n",
      "\u001b[32m2023-08-09 18:42:31.915\u001b[0m | \u001b[1mINFO    \u001b[0m | \u001b[36msrc.evaluation_multi\u001b[0m:\u001b[36mevaluate_solution_multi\u001b[0m:\u001b[36m312\u001b[0m - \u001b[1m7214.228337826121\u001b[0m\n",
      "\u001b[32m2023-08-09 18:42:32.919\u001b[0m | \u001b[1mINFO    \u001b[0m | \u001b[36msrc.evaluation_multi\u001b[0m:\u001b[36mevaluate_solution_multi\u001b[0m:\u001b[36m312\u001b[0m - \u001b[1m7959.219655466343\u001b[0m\n",
      "\u001b[32m2023-08-09 18:42:33.938\u001b[0m | \u001b[1mINFO    \u001b[0m | \u001b[36msrc.evaluation_multi\u001b[0m:\u001b[36mevaluate_solution_multi\u001b[0m:\u001b[36m312\u001b[0m - \u001b[1m8425.107905682418\u001b[0m\n",
      "\u001b[32m2023-08-09 18:42:34.943\u001b[0m | \u001b[1mINFO    \u001b[0m | \u001b[36msrc.evaluation_multi\u001b[0m:\u001b[36mevaluate_solution_multi\u001b[0m:\u001b[36m312\u001b[0m - \u001b[1m9132.673939054028\u001b[0m\n",
      "\u001b[32m2023-08-09 18:42:35.963\u001b[0m | \u001b[1mINFO    \u001b[0m | \u001b[36msrc.evaluation_multi\u001b[0m:\u001b[36mevaluate_solution_multi\u001b[0m:\u001b[36m312\u001b[0m - \u001b[1m10024.072617916543\u001b[0m\n",
      "\u001b[32m2023-08-09 18:42:36.010\u001b[0m | \u001b[1mINFO    \u001b[0m | \u001b[36msrc.evaluation_multi\u001b[0m:\u001b[36mevaluate_solution_multi\u001b[0m:\u001b[36m320\u001b[0m - \u001b[1m11366.523895339218\u001b[0m\n",
      "C:\\Users\\marle\\AppData\\Local\\Temp\\ipykernel_27168\\2310005215.py:14: FutureWarning: The frame.append method is deprecated and will be removed from pandas in a future version. Use pandas.concat instead.\n",
      "  df_results = df_results.append(dict_results, ignore_index=True)\n",
      "\u001b[32m2023-08-09 18:42:36.025\u001b[0m | \u001b[1mINFO    \u001b[0m | \u001b[36m__main__\u001b[0m:\u001b[36mget_results_weekly\u001b[0m:\u001b[36m8\u001b[0m - \u001b[1m0\u001b[0m\n",
      "\u001b[32m2023-08-09 18:42:36.057\u001b[0m | \u001b[1mINFO    \u001b[0m | \u001b[36msrc.co2_modells\u001b[0m:\u001b[36mpreprocessing_modelling\u001b[0m:\u001b[36m38\u001b[0m - \u001b[1mnan\u001b[0m\n",
      "\u001b[32m2023-08-09 18:42:36.072\u001b[0m | \u001b[1mINFO    \u001b[0m | \u001b[36msrc.co2_modells\u001b[0m:\u001b[36mpreprocessing_modelling\u001b[0m:\u001b[36m38\u001b[0m - \u001b[1mnan\u001b[0m\n",
      "\u001b[32m2023-08-09 18:42:36.073\u001b[0m | \u001b[1mINFO    \u001b[0m | \u001b[36m__main__\u001b[0m:\u001b[36mget_results_weekly\u001b[0m:\u001b[36m8\u001b[0m - \u001b[1m1\u001b[0m\n",
      "C:\\Users\\marle\\OneDrive - tbs-education\\00_Masterarbeit\\Code\\notebooks\\..\\src\\co2_modells.py:29: SettingWithCopyWarning: \n",
      "A value is trying to be set on a copy of a slice from a DataFrame.\n",
      "Try using .loc[row_indexer,col_indexer] = value instead\n",
      "\n",
      "See the caveats in the documentation: https://pandas.pydata.org/pandas-docs/stable/user_guide/indexing.html#returning-a-view-versus-a-copy\n",
      "  df[\"Sender weight (kg)\"] = df[\"Sender weight (kg)\"]*volume\n",
      "\u001b[32m2023-08-09 18:42:36.088\u001b[0m | \u001b[1mINFO    \u001b[0m | \u001b[36msrc.co2_modells\u001b[0m:\u001b[36mpreprocessing_modelling\u001b[0m:\u001b[36m38\u001b[0m - \u001b[1m2737.56\u001b[0m\n",
      "\u001b[32m2023-08-09 18:42:36.119\u001b[0m | \u001b[1mINFO    \u001b[0m | \u001b[36msrc.co2_modells\u001b[0m:\u001b[36mco2_modell\u001b[0m:\u001b[36m71\u001b[0m - \u001b[1m13.781615384615385\u001b[0m\n"
     ]
    },
    {
     "name": "stdout",
     "output_type": "stream",
     "text": [
      "Total processing time: 3.703125\n",
      "(0, 10)\n",
      "No deliveries from 2023-01-02 to 2022-01-03\n",
      "(0, 10)\n",
      "No deliveries from 2023-01-02 to 2022-01-03\n",
      "(436, 7)\n"
     ]
    },
    {
     "name": "stderr",
     "output_type": "stream",
     "text": [
      "C:\\Users\\marle\\OneDrive - tbs-education\\00_Masterarbeit\\Code\\notebooks\\..\\src\\create_solution.py:52: FutureWarning: Dropping of nuisance columns in DataFrame reductions (with 'numeric_only=None') is deprecated; in a future version this will raise TypeError.  Select only valid columns before calling the reduction.\n",
      "  distances['Dmin'] = distances.min(axis=1)\n",
      "\u001b[32m2023-08-09 18:42:38.344\u001b[0m | \u001b[1mINFO    \u001b[0m | \u001b[36msrc.evaluation_multi\u001b[0m:\u001b[36mevaluate_solution_multi\u001b[0m:\u001b[36m263\u001b[0m - \u001b[1m1335.7975046686302\u001b[0m\n",
      "\u001b[32m2023-08-09 18:42:39.364\u001b[0m | \u001b[1mINFO    \u001b[0m | \u001b[36msrc.evaluation_multi\u001b[0m:\u001b[36mevaluate_solution_multi\u001b[0m:\u001b[36m312\u001b[0m - \u001b[1m2828.8338006829663\u001b[0m\n",
      "\u001b[32m2023-08-09 18:42:40.368\u001b[0m | \u001b[1mINFO    \u001b[0m | \u001b[36msrc.evaluation_multi\u001b[0m:\u001b[36mevaluate_solution_multi\u001b[0m:\u001b[36m312\u001b[0m - \u001b[1m3974.015927300043\u001b[0m\n",
      "\u001b[32m2023-08-09 18:42:41.383\u001b[0m | \u001b[1mINFO    \u001b[0m | \u001b[36msrc.evaluation_multi\u001b[0m:\u001b[36mevaluate_solution_multi\u001b[0m:\u001b[36m312\u001b[0m - \u001b[1m4314.0109676932325\u001b[0m\n",
      "\u001b[32m2023-08-09 18:42:41.387\u001b[0m | \u001b[1mINFO    \u001b[0m | \u001b[36msrc.evaluation_multi\u001b[0m:\u001b[36mevaluate_solution_multi\u001b[0m:\u001b[36m312\u001b[0m - \u001b[1m4314.0109676932325\u001b[0m\n",
      "\u001b[32m2023-08-09 18:42:42.406\u001b[0m | \u001b[1mINFO    \u001b[0m | \u001b[36msrc.evaluation_multi\u001b[0m:\u001b[36mevaluate_solution_multi\u001b[0m:\u001b[36m312\u001b[0m - \u001b[1m7569.934172840157\u001b[0m\n",
      "\u001b[32m2023-08-09 18:42:43.425\u001b[0m | \u001b[1mINFO    \u001b[0m | \u001b[36msrc.evaluation_multi\u001b[0m:\u001b[36mevaluate_solution_multi\u001b[0m:\u001b[36m312\u001b[0m - \u001b[1m9588.53198074613\u001b[0m\n",
      "\u001b[32m2023-08-09 18:42:44.445\u001b[0m | \u001b[1mINFO    \u001b[0m | \u001b[36msrc.evaluation_multi\u001b[0m:\u001b[36mevaluate_solution_multi\u001b[0m:\u001b[36m312\u001b[0m - \u001b[1m10405.042508555036\u001b[0m\n",
      "\u001b[32m2023-08-09 18:42:45.448\u001b[0m | \u001b[1mINFO    \u001b[0m | \u001b[36msrc.evaluation_multi\u001b[0m:\u001b[36mevaluate_solution_multi\u001b[0m:\u001b[36m312\u001b[0m - \u001b[1m10862.31914189179\u001b[0m\n",
      "\u001b[32m2023-08-09 18:42:46.468\u001b[0m | \u001b[1mINFO    \u001b[0m | \u001b[36msrc.evaluation_multi\u001b[0m:\u001b[36mevaluate_solution_multi\u001b[0m:\u001b[36m312\u001b[0m - \u001b[1m11607.663923755925\u001b[0m\n",
      "\u001b[32m2023-08-09 18:42:47.486\u001b[0m | \u001b[1mINFO    \u001b[0m | \u001b[36msrc.evaluation_multi\u001b[0m:\u001b[36mevaluate_solution_multi\u001b[0m:\u001b[36m312\u001b[0m - \u001b[1m12575.232993157988\u001b[0m\n",
      "\u001b[32m2023-08-09 18:42:47.534\u001b[0m | \u001b[1mINFO    \u001b[0m | \u001b[36msrc.evaluation_multi\u001b[0m:\u001b[36mevaluate_solution_multi\u001b[0m:\u001b[36m320\u001b[0m - \u001b[1m13993.511459505607\u001b[0m\n",
      "C:\\Users\\marle\\AppData\\Local\\Temp\\ipykernel_27168\\2310005215.py:14: FutureWarning: The frame.append method is deprecated and will be removed from pandas in a future version. Use pandas.concat instead.\n",
      "  df_results = df_results.append(dict_results, ignore_index=True)\n",
      "\u001b[32m2023-08-09 18:42:47.549\u001b[0m | \u001b[1mINFO    \u001b[0m | \u001b[36m__main__\u001b[0m:\u001b[36mget_results_weekly\u001b[0m:\u001b[36m8\u001b[0m - \u001b[1m2\u001b[0m\n",
      "C:\\Users\\marle\\OneDrive - tbs-education\\00_Masterarbeit\\Code\\notebooks\\..\\src\\co2_modells.py:29: SettingWithCopyWarning: \n",
      "A value is trying to be set on a copy of a slice from a DataFrame.\n",
      "Try using .loc[row_indexer,col_indexer] = value instead\n",
      "\n",
      "See the caveats in the documentation: https://pandas.pydata.org/pandas-docs/stable/user_guide/indexing.html#returning-a-view-versus-a-copy\n",
      "  df[\"Sender weight (kg)\"] = df[\"Sender weight (kg)\"]*volume\n",
      "\u001b[32m2023-08-09 18:42:47.565\u001b[0m | \u001b[1mINFO    \u001b[0m | \u001b[36msrc.co2_modells\u001b[0m:\u001b[36mpreprocessing_modelling\u001b[0m:\u001b[36m38\u001b[0m - \u001b[1m2615.37\u001b[0m\n",
      "\u001b[32m2023-08-09 18:42:47.612\u001b[0m | \u001b[1mINFO    \u001b[0m | \u001b[36msrc.co2_modells\u001b[0m:\u001b[36mco2_modell\u001b[0m:\u001b[36m71\u001b[0m - \u001b[1m14.954692307692307\u001b[0m\n"
     ]
    },
    {
     "name": "stdout",
     "output_type": "stream",
     "text": [
      "Total processing time: 4.4375\n",
      "(450, 7)\n"
     ]
    },
    {
     "name": "stderr",
     "output_type": "stream",
     "text": [
      "C:\\Users\\marle\\OneDrive - tbs-education\\00_Masterarbeit\\Code\\notebooks\\..\\src\\create_solution.py:52: FutureWarning: Dropping of nuisance columns in DataFrame reductions (with 'numeric_only=None') is deprecated; in a future version this will raise TypeError.  Select only valid columns before calling the reduction.\n",
      "  distances['Dmin'] = distances.min(axis=1)\n",
      "\u001b[32m2023-08-09 18:42:49.854\u001b[0m | \u001b[1mINFO    \u001b[0m | \u001b[36msrc.evaluation_multi\u001b[0m:\u001b[36mevaluate_solution_multi\u001b[0m:\u001b[36m263\u001b[0m - \u001b[1m1447.556596194707\u001b[0m\n",
      "\u001b[32m2023-08-09 18:42:50.874\u001b[0m | \u001b[1mINFO    \u001b[0m | \u001b[36msrc.evaluation_multi\u001b[0m:\u001b[36mevaluate_solution_multi\u001b[0m:\u001b[36m312\u001b[0m - \u001b[1m2999.1220607976556\u001b[0m\n",
      "\u001b[32m2023-08-09 18:42:51.877\u001b[0m | \u001b[1mINFO    \u001b[0m | \u001b[36msrc.evaluation_multi\u001b[0m:\u001b[36mevaluate_solution_multi\u001b[0m:\u001b[36m312\u001b[0m - \u001b[1m4041.5499643848048\u001b[0m\n",
      "\u001b[32m2023-08-09 18:42:52.897\u001b[0m | \u001b[1mINFO    \u001b[0m | \u001b[36msrc.evaluation_multi\u001b[0m:\u001b[36mevaluate_solution_multi\u001b[0m:\u001b[36m312\u001b[0m - \u001b[1m4378.699843895397\u001b[0m\n",
      "\u001b[32m2023-08-09 18:42:52.897\u001b[0m | \u001b[1mINFO    \u001b[0m | \u001b[36msrc.evaluation_multi\u001b[0m:\u001b[36mevaluate_solution_multi\u001b[0m:\u001b[36m312\u001b[0m - \u001b[1m4378.699843895397\u001b[0m\n",
      "\u001b[32m2023-08-09 18:42:53.917\u001b[0m | \u001b[1mINFO    \u001b[0m | \u001b[36msrc.evaluation_multi\u001b[0m:\u001b[36mevaluate_solution_multi\u001b[0m:\u001b[36m312\u001b[0m - \u001b[1m7152.634434494704\u001b[0m\n",
      "\u001b[32m2023-08-09 18:42:54.937\u001b[0m | \u001b[1mINFO    \u001b[0m | \u001b[36msrc.evaluation_multi\u001b[0m:\u001b[36mevaluate_solution_multi\u001b[0m:\u001b[36m312\u001b[0m - \u001b[1m9316.392351444463\u001b[0m\n",
      "\u001b[32m2023-08-09 18:42:55.956\u001b[0m | \u001b[1mINFO    \u001b[0m | \u001b[36msrc.evaluation_multi\u001b[0m:\u001b[36mevaluate_solution_multi\u001b[0m:\u001b[36m312\u001b[0m - \u001b[1m10272.113430734276\u001b[0m\n",
      "\u001b[32m2023-08-09 18:42:56.975\u001b[0m | \u001b[1mINFO    \u001b[0m | \u001b[36msrc.evaluation_multi\u001b[0m:\u001b[36mevaluate_solution_multi\u001b[0m:\u001b[36m312\u001b[0m - \u001b[1m10752.206851733576\u001b[0m\n",
      "\u001b[32m2023-08-09 18:42:57.979\u001b[0m | \u001b[1mINFO    \u001b[0m | \u001b[36msrc.evaluation_multi\u001b[0m:\u001b[36mevaluate_solution_multi\u001b[0m:\u001b[36m312\u001b[0m - \u001b[1m11524.51839575886\u001b[0m\n",
      "\u001b[32m2023-08-09 18:42:58.998\u001b[0m | \u001b[1mINFO    \u001b[0m | \u001b[36msrc.evaluation_multi\u001b[0m:\u001b[36mevaluate_solution_multi\u001b[0m:\u001b[36m312\u001b[0m - \u001b[1m12468.726475995716\u001b[0m\n",
      "\u001b[32m2023-08-09 18:42:59.046\u001b[0m | \u001b[1mINFO    \u001b[0m | \u001b[36msrc.evaluation_multi\u001b[0m:\u001b[36mevaluate_solution_multi\u001b[0m:\u001b[36m320\u001b[0m - \u001b[1m13939.941442818414\u001b[0m\n",
      "C:\\Users\\marle\\AppData\\Local\\Temp\\ipykernel_27168\\2310005215.py:14: FutureWarning: The frame.append method is deprecated and will be removed from pandas in a future version. Use pandas.concat instead.\n",
      "  df_results = df_results.append(dict_results, ignore_index=True)\n",
      "\u001b[32m2023-08-09 18:42:59.068\u001b[0m | \u001b[1mINFO    \u001b[0m | \u001b[36m__main__\u001b[0m:\u001b[36mget_results_weekly\u001b[0m:\u001b[36m8\u001b[0m - \u001b[1m3\u001b[0m\n",
      "C:\\Users\\marle\\OneDrive - tbs-education\\00_Masterarbeit\\Code\\notebooks\\..\\src\\co2_modells.py:29: SettingWithCopyWarning: \n",
      "A value is trying to be set on a copy of a slice from a DataFrame.\n",
      "Try using .loc[row_indexer,col_indexer] = value instead\n",
      "\n",
      "See the caveats in the documentation: https://pandas.pydata.org/pandas-docs/stable/user_guide/indexing.html#returning-a-view-versus-a-copy\n",
      "  df[\"Sender weight (kg)\"] = df[\"Sender weight (kg)\"]*volume\n",
      "\u001b[32m2023-08-09 18:42:59.077\u001b[0m | \u001b[1mINFO    \u001b[0m | \u001b[36msrc.co2_modells\u001b[0m:\u001b[36mpreprocessing_modelling\u001b[0m:\u001b[36m38\u001b[0m - \u001b[1m3632.5\u001b[0m\n",
      "\u001b[32m2023-08-09 18:42:59.124\u001b[0m | \u001b[1mINFO    \u001b[0m | \u001b[36msrc.co2_modells\u001b[0m:\u001b[36mco2_modell\u001b[0m:\u001b[36m71\u001b[0m - \u001b[1m15.26776923076923\u001b[0m\n"
     ]
    },
    {
     "name": "stdout",
     "output_type": "stream",
     "text": [
      "Total processing time: 3.96875\n",
      "(455, 7)\n"
     ]
    },
    {
     "name": "stderr",
     "output_type": "stream",
     "text": [
      "C:\\Users\\marle\\OneDrive - tbs-education\\00_Masterarbeit\\Code\\notebooks\\..\\src\\create_solution.py:52: FutureWarning: Dropping of nuisance columns in DataFrame reductions (with 'numeric_only=None') is deprecated; in a future version this will raise TypeError.  Select only valid columns before calling the reduction.\n",
      "  distances['Dmin'] = distances.min(axis=1)\n",
      "\u001b[32m2023-08-09 18:43:01.399\u001b[0m | \u001b[1mINFO    \u001b[0m | \u001b[36msrc.evaluation_multi\u001b[0m:\u001b[36mevaluate_solution_multi\u001b[0m:\u001b[36m263\u001b[0m - \u001b[1m1457.8663600208913\u001b[0m\n",
      "\u001b[32m2023-08-09 18:43:02.424\u001b[0m | \u001b[1mINFO    \u001b[0m | \u001b[36msrc.evaluation_multi\u001b[0m:\u001b[36mevaluate_solution_multi\u001b[0m:\u001b[36m312\u001b[0m - \u001b[1m2932.4745730121585\u001b[0m\n",
      "\u001b[32m2023-08-09 18:43:03.437\u001b[0m | \u001b[1mINFO    \u001b[0m | \u001b[36msrc.evaluation_multi\u001b[0m:\u001b[36mevaluate_solution_multi\u001b[0m:\u001b[36m312\u001b[0m - \u001b[1m3873.207622203985\u001b[0m\n",
      "\u001b[32m2023-08-09 18:43:04.457\u001b[0m | \u001b[1mINFO    \u001b[0m | \u001b[36msrc.evaluation_multi\u001b[0m:\u001b[36mevaluate_solution_multi\u001b[0m:\u001b[36m312\u001b[0m - \u001b[1m4216.096031983534\u001b[0m\n",
      "\u001b[32m2023-08-09 18:43:04.457\u001b[0m | \u001b[1mINFO    \u001b[0m | \u001b[36msrc.evaluation_multi\u001b[0m:\u001b[36mevaluate_solution_multi\u001b[0m:\u001b[36m312\u001b[0m - \u001b[1m4216.096031983534\u001b[0m\n",
      "\u001b[32m2023-08-09 18:43:05.491\u001b[0m | \u001b[1mINFO    \u001b[0m | \u001b[36msrc.evaluation_multi\u001b[0m:\u001b[36mevaluate_solution_multi\u001b[0m:\u001b[36m312\u001b[0m - \u001b[1m7262.336813565549\u001b[0m\n",
      "\u001b[32m2023-08-09 18:43:06.513\u001b[0m | \u001b[1mINFO    \u001b[0m | \u001b[36msrc.evaluation_multi\u001b[0m:\u001b[36mevaluate_solution_multi\u001b[0m:\u001b[36m312\u001b[0m - \u001b[1m9434.511650309496\u001b[0m\n",
      "\u001b[32m2023-08-09 18:43:07.533\u001b[0m | \u001b[1mINFO    \u001b[0m | \u001b[36msrc.evaluation_multi\u001b[0m:\u001b[36mevaluate_solution_multi\u001b[0m:\u001b[36m312\u001b[0m - \u001b[1m10379.912065538187\u001b[0m\n",
      "\u001b[32m2023-08-09 18:43:08.546\u001b[0m | \u001b[1mINFO    \u001b[0m | \u001b[36msrc.evaluation_multi\u001b[0m:\u001b[36mevaluate_solution_multi\u001b[0m:\u001b[36m312\u001b[0m - \u001b[1m10869.006266887625\u001b[0m\n",
      "\u001b[32m2023-08-09 18:43:09.550\u001b[0m | \u001b[1mINFO    \u001b[0m | \u001b[36msrc.evaluation_multi\u001b[0m:\u001b[36mevaluate_solution_multi\u001b[0m:\u001b[36m312\u001b[0m - \u001b[1m11634.986695690994\u001b[0m\n",
      "\u001b[32m2023-08-09 18:43:10.569\u001b[0m | \u001b[1mINFO    \u001b[0m | \u001b[36msrc.evaluation_multi\u001b[0m:\u001b[36mevaluate_solution_multi\u001b[0m:\u001b[36m312\u001b[0m - \u001b[1m12591.595649218485\u001b[0m\n",
      "\u001b[32m2023-08-09 18:43:10.585\u001b[0m | \u001b[1mINFO    \u001b[0m | \u001b[36msrc.evaluation_multi\u001b[0m:\u001b[36mevaluate_solution_multi\u001b[0m:\u001b[36m320\u001b[0m - \u001b[1m14064.870006675807\u001b[0m\n",
      "C:\\Users\\marle\\AppData\\Local\\Temp\\ipykernel_27168\\2310005215.py:14: FutureWarning: The frame.append method is deprecated and will be removed from pandas in a future version. Use pandas.concat instead.\n",
      "  df_results = df_results.append(dict_results, ignore_index=True)\n",
      "\u001b[32m2023-08-09 18:43:10.600\u001b[0m | \u001b[1mINFO    \u001b[0m | \u001b[36m__main__\u001b[0m:\u001b[36mget_results_weekly\u001b[0m:\u001b[36m8\u001b[0m - \u001b[1m0\u001b[0m\n",
      "\u001b[32m2023-08-09 18:43:10.616\u001b[0m | \u001b[1mINFO    \u001b[0m | \u001b[36msrc.co2_modells\u001b[0m:\u001b[36mpreprocessing_modelling\u001b[0m:\u001b[36m38\u001b[0m - \u001b[1mnan\u001b[0m\n",
      "\u001b[32m2023-08-09 18:43:10.632\u001b[0m | \u001b[1mINFO    \u001b[0m | \u001b[36msrc.co2_modells\u001b[0m:\u001b[36mpreprocessing_modelling\u001b[0m:\u001b[36m38\u001b[0m - \u001b[1mnan\u001b[0m\n",
      "\u001b[32m2023-08-09 18:43:10.632\u001b[0m | \u001b[1mINFO    \u001b[0m | \u001b[36m__main__\u001b[0m:\u001b[36mget_results_weekly\u001b[0m:\u001b[36m8\u001b[0m - \u001b[1m1\u001b[0m\n",
      "C:\\Users\\marle\\OneDrive - tbs-education\\00_Masterarbeit\\Code\\notebooks\\..\\src\\co2_modells.py:29: SettingWithCopyWarning: \n",
      "A value is trying to be set on a copy of a slice from a DataFrame.\n",
      "Try using .loc[row_indexer,col_indexer] = value instead\n",
      "\n",
      "See the caveats in the documentation: https://pandas.pydata.org/pandas-docs/stable/user_guide/indexing.html#returning-a-view-versus-a-copy\n",
      "  df[\"Sender weight (kg)\"] = df[\"Sender weight (kg)\"]*volume\n",
      "\u001b[32m2023-08-09 18:43:10.639\u001b[0m | \u001b[1mINFO    \u001b[0m | \u001b[36msrc.co2_modells\u001b[0m:\u001b[36mpreprocessing_modelling\u001b[0m:\u001b[36m38\u001b[0m - \u001b[1m5475.12\u001b[0m\n",
      "\u001b[32m2023-08-09 18:43:10.663\u001b[0m | \u001b[1mINFO    \u001b[0m | \u001b[36msrc.co2_modells\u001b[0m:\u001b[36mco2_modell\u001b[0m:\u001b[36m71\u001b[0m - \u001b[1m27.578846153846154\u001b[0m\n"
     ]
    },
    {
     "name": "stdout",
     "output_type": "stream",
     "text": [
      "Total processing time: 3.328125\n",
      "(0, 10)\n",
      "No deliveries from 2023-01-02 to 2022-01-03\n",
      "(0, 10)\n",
      "No deliveries from 2023-01-02 to 2022-01-03\n",
      "(436, 7)\n"
     ]
    },
    {
     "name": "stderr",
     "output_type": "stream",
     "text": [
      "C:\\Users\\marle\\OneDrive - tbs-education\\00_Masterarbeit\\Code\\notebooks\\..\\src\\create_solution.py:52: FutureWarning: Dropping of nuisance columns in DataFrame reductions (with 'numeric_only=None') is deprecated; in a future version this will raise TypeError.  Select only valid columns before calling the reduction.\n",
      "  distances['Dmin'] = distances.min(axis=1)\n",
      "\u001b[32m2023-08-09 18:43:13.345\u001b[0m | \u001b[1mINFO    \u001b[0m | \u001b[36msrc.evaluation_multi\u001b[0m:\u001b[36mevaluate_solution_multi\u001b[0m:\u001b[36m263\u001b[0m - \u001b[1m2585.7836443243964\u001b[0m\n",
      "\u001b[32m2023-08-09 18:43:14.362\u001b[0m | \u001b[1mINFO    \u001b[0m | \u001b[36msrc.evaluation_multi\u001b[0m:\u001b[36mevaluate_solution_multi\u001b[0m:\u001b[36m312\u001b[0m - \u001b[1m4182.891717958197\u001b[0m\n",
      "\u001b[32m2023-08-09 18:43:15.381\u001b[0m | \u001b[1mINFO    \u001b[0m | \u001b[36msrc.evaluation_multi\u001b[0m:\u001b[36mevaluate_solution_multi\u001b[0m:\u001b[36m312\u001b[0m - \u001b[1m5556.658748163665\u001b[0m\n",
      "\u001b[32m2023-08-09 18:43:16.400\u001b[0m | \u001b[1mINFO    \u001b[0m | \u001b[36msrc.evaluation_multi\u001b[0m:\u001b[36mevaluate_solution_multi\u001b[0m:\u001b[36m312\u001b[0m - \u001b[1m5900.530083702848\u001b[0m\n",
      "\u001b[32m2023-08-09 18:43:16.400\u001b[0m | \u001b[1mINFO    \u001b[0m | \u001b[36msrc.evaluation_multi\u001b[0m:\u001b[36mevaluate_solution_multi\u001b[0m:\u001b[36m312\u001b[0m - \u001b[1m5900.530083702848\u001b[0m\n",
      "\u001b[32m2023-08-09 18:43:17.435\u001b[0m | \u001b[1mINFO    \u001b[0m | \u001b[36msrc.evaluation_multi\u001b[0m:\u001b[36mevaluate_solution_multi\u001b[0m:\u001b[36m312\u001b[0m - \u001b[1m10631.646098416526\u001b[0m\n",
      "\u001b[32m2023-08-09 18:43:18.463\u001b[0m | \u001b[1mINFO    \u001b[0m | \u001b[36msrc.evaluation_multi\u001b[0m:\u001b[36mevaluate_solution_multi\u001b[0m:\u001b[36m312\u001b[0m - \u001b[1m13531.640345939899\u001b[0m\n",
      "\u001b[32m2023-08-09 18:43:19.483\u001b[0m | \u001b[1mINFO    \u001b[0m | \u001b[36msrc.evaluation_multi\u001b[0m:\u001b[36mevaluate_solution_multi\u001b[0m:\u001b[36m312\u001b[0m - \u001b[1m14587.093073427215\u001b[0m\n",
      "\u001b[32m2023-08-09 18:43:20.501\u001b[0m | \u001b[1mINFO    \u001b[0m | \u001b[36msrc.evaluation_multi\u001b[0m:\u001b[36mevaluate_solution_multi\u001b[0m:\u001b[36m312\u001b[0m - \u001b[1m15063.927276933577\u001b[0m\n",
      "\u001b[32m2023-08-09 18:43:21.522\u001b[0m | \u001b[1mINFO    \u001b[0m | \u001b[36msrc.evaluation_multi\u001b[0m:\u001b[36mevaluate_solution_multi\u001b[0m:\u001b[36m312\u001b[0m - \u001b[1m15861.897104316336\u001b[0m\n",
      "\u001b[32m2023-08-09 18:43:22.606\u001b[0m | \u001b[1mINFO    \u001b[0m | \u001b[36msrc.evaluation_multi\u001b[0m:\u001b[36mevaluate_solution_multi\u001b[0m:\u001b[36m312\u001b[0m - \u001b[1m16893.240376850965\u001b[0m\n",
      "\u001b[32m2023-08-09 18:43:22.653\u001b[0m | \u001b[1mINFO    \u001b[0m | \u001b[36msrc.evaluation_multi\u001b[0m:\u001b[36mevaluate_solution_multi\u001b[0m:\u001b[36m320\u001b[0m - \u001b[1m18490.41097590806\u001b[0m\n",
      "C:\\Users\\marle\\AppData\\Local\\Temp\\ipykernel_27168\\2310005215.py:14: FutureWarning: The frame.append method is deprecated and will be removed from pandas in a future version. Use pandas.concat instead.\n",
      "  df_results = df_results.append(dict_results, ignore_index=True)\n",
      "\u001b[32m2023-08-09 18:43:22.669\u001b[0m | \u001b[1mINFO    \u001b[0m | \u001b[36m__main__\u001b[0m:\u001b[36mget_results_weekly\u001b[0m:\u001b[36m8\u001b[0m - \u001b[1m2\u001b[0m\n",
      "C:\\Users\\marle\\OneDrive - tbs-education\\00_Masterarbeit\\Code\\notebooks\\..\\src\\co2_modells.py:29: SettingWithCopyWarning: \n",
      "A value is trying to be set on a copy of a slice from a DataFrame.\n",
      "Try using .loc[row_indexer,col_indexer] = value instead\n",
      "\n",
      "See the caveats in the documentation: https://pandas.pydata.org/pandas-docs/stable/user_guide/indexing.html#returning-a-view-versus-a-copy\n",
      "  df[\"Sender weight (kg)\"] = df[\"Sender weight (kg)\"]*volume\n",
      "\u001b[32m2023-08-09 18:43:22.684\u001b[0m | \u001b[1mINFO    \u001b[0m | \u001b[36msrc.co2_modells\u001b[0m:\u001b[36mpreprocessing_modelling\u001b[0m:\u001b[36m38\u001b[0m - \u001b[1m5230.74\u001b[0m\n",
      "\u001b[32m2023-08-09 18:43:22.747\u001b[0m | \u001b[1mINFO    \u001b[0m | \u001b[36msrc.co2_modells\u001b[0m:\u001b[36mco2_modell\u001b[0m:\u001b[36m71\u001b[0m - \u001b[1m29.925384615384615\u001b[0m\n"
     ]
    },
    {
     "name": "stdout",
     "output_type": "stream",
     "text": [
      "Total processing time: 3.78125\n",
      "(450, 7)\n"
     ]
    },
    {
     "name": "stderr",
     "output_type": "stream",
     "text": [
      "C:\\Users\\marle\\OneDrive - tbs-education\\00_Masterarbeit\\Code\\notebooks\\..\\src\\create_solution.py:52: FutureWarning: Dropping of nuisance columns in DataFrame reductions (with 'numeric_only=None') is deprecated; in a future version this will raise TypeError.  Select only valid columns before calling the reduction.\n",
      "  distances['Dmin'] = distances.min(axis=1)\n",
      "\u001b[32m2023-08-09 18:43:25.037\u001b[0m | \u001b[1mINFO    \u001b[0m | \u001b[36msrc.evaluation_multi\u001b[0m:\u001b[36mevaluate_solution_multi\u001b[0m:\u001b[36m263\u001b[0m - \u001b[1m2809.3101299848267\u001b[0m\n",
      "\u001b[32m2023-08-09 18:43:26.056\u001b[0m | \u001b[1mINFO    \u001b[0m | \u001b[36msrc.evaluation_multi\u001b[0m:\u001b[36mevaluate_solution_multi\u001b[0m:\u001b[36m312\u001b[0m - \u001b[1m4560.362795023509\u001b[0m\n",
      "\u001b[32m2023-08-09 18:43:27.079\u001b[0m | \u001b[1mINFO    \u001b[0m | \u001b[36msrc.evaluation_multi\u001b[0m:\u001b[36mevaluate_solution_multi\u001b[0m:\u001b[36m312\u001b[0m - \u001b[1m5852.196329362795\u001b[0m\n",
      "\u001b[32m2023-08-09 18:43:28.089\u001b[0m | \u001b[1mINFO    \u001b[0m | \u001b[36msrc.evaluation_multi\u001b[0m:\u001b[36mevaluate_solution_multi\u001b[0m:\u001b[36m312\u001b[0m - \u001b[1m6191.002537456481\u001b[0m\n",
      "\u001b[32m2023-08-09 18:43:28.091\u001b[0m | \u001b[1mINFO    \u001b[0m | \u001b[36msrc.evaluation_multi\u001b[0m:\u001b[36mevaluate_solution_multi\u001b[0m:\u001b[36m312\u001b[0m - \u001b[1m6191.002537456481\u001b[0m\n",
      "\u001b[32m2023-08-09 18:43:29.115\u001b[0m | \u001b[1mINFO    \u001b[0m | \u001b[36msrc.evaluation_multi\u001b[0m:\u001b[36mevaluate_solution_multi\u001b[0m:\u001b[36m312\u001b[0m - \u001b[1m10283.776505243171\u001b[0m\n",
      "\u001b[32m2023-08-09 18:43:30.150\u001b[0m | \u001b[1mINFO    \u001b[0m | \u001b[36msrc.evaluation_multi\u001b[0m:\u001b[36mevaluate_solution_multi\u001b[0m:\u001b[36m312\u001b[0m - \u001b[1m13147.338164547045\u001b[0m\n",
      "\u001b[32m2023-08-09 18:43:31.169\u001b[0m | \u001b[1mINFO    \u001b[0m | \u001b[36msrc.evaluation_multi\u001b[0m:\u001b[36mevaluate_solution_multi\u001b[0m:\u001b[36m312\u001b[0m - \u001b[1m14316.547427481008\u001b[0m\n",
      "\u001b[32m2023-08-09 18:43:32.183\u001b[0m | \u001b[1mINFO    \u001b[0m | \u001b[36msrc.evaluation_multi\u001b[0m:\u001b[36mevaluate_solution_multi\u001b[0m:\u001b[36m312\u001b[0m - \u001b[1m14825.772938389637\u001b[0m\n",
      "\u001b[32m2023-08-09 18:43:33.194\u001b[0m | \u001b[1mINFO    \u001b[0m | \u001b[36msrc.evaluation_multi\u001b[0m:\u001b[36mevaluate_solution_multi\u001b[0m:\u001b[36m312\u001b[0m - \u001b[1m15645.487825095886\u001b[0m\n",
      "\u001b[32m2023-08-09 18:43:34.213\u001b[0m | \u001b[1mINFO    \u001b[0m | \u001b[36msrc.evaluation_multi\u001b[0m:\u001b[36mevaluate_solution_multi\u001b[0m:\u001b[36m312\u001b[0m - \u001b[1m16613.66261348099\u001b[0m\n",
      "\u001b[32m2023-08-09 18:43:34.245\u001b[0m | \u001b[1mINFO    \u001b[0m | \u001b[36msrc.evaluation_multi\u001b[0m:\u001b[36mevaluate_solution_multi\u001b[0m:\u001b[36m320\u001b[0m - \u001b[1m18272.655303926138\u001b[0m\n",
      "C:\\Users\\marle\\AppData\\Local\\Temp\\ipykernel_27168\\2310005215.py:14: FutureWarning: The frame.append method is deprecated and will be removed from pandas in a future version. Use pandas.concat instead.\n",
      "  df_results = df_results.append(dict_results, ignore_index=True)\n",
      "\u001b[32m2023-08-09 18:43:34.260\u001b[0m | \u001b[1mINFO    \u001b[0m | \u001b[36m__main__\u001b[0m:\u001b[36mget_results_weekly\u001b[0m:\u001b[36m8\u001b[0m - \u001b[1m3\u001b[0m\n",
      "C:\\Users\\marle\\OneDrive - tbs-education\\00_Masterarbeit\\Code\\notebooks\\..\\src\\co2_modells.py:29: SettingWithCopyWarning: \n",
      "A value is trying to be set on a copy of a slice from a DataFrame.\n",
      "Try using .loc[row_indexer,col_indexer] = value instead\n",
      "\n",
      "See the caveats in the documentation: https://pandas.pydata.org/pandas-docs/stable/user_guide/indexing.html#returning-a-view-versus-a-copy\n",
      "  df[\"Sender weight (kg)\"] = df[\"Sender weight (kg)\"]*volume\n",
      "\u001b[32m2023-08-09 18:43:34.260\u001b[0m | \u001b[1mINFO    \u001b[0m | \u001b[36msrc.co2_modells\u001b[0m:\u001b[36mpreprocessing_modelling\u001b[0m:\u001b[36m38\u001b[0m - \u001b[1m7265.0\u001b[0m\n",
      "\u001b[32m2023-08-09 18:43:34.292\u001b[0m | \u001b[1mINFO    \u001b[0m | \u001b[36msrc.co2_modells\u001b[0m:\u001b[36mco2_modell\u001b[0m:\u001b[36m71\u001b[0m - \u001b[1m30.553153846153847\u001b[0m\n"
     ]
    },
    {
     "name": "stdout",
     "output_type": "stream",
     "text": [
      "Total processing time: 4.21875\n",
      "(455, 7)\n"
     ]
    },
    {
     "name": "stderr",
     "output_type": "stream",
     "text": [
      "C:\\Users\\marle\\OneDrive - tbs-education\\00_Masterarbeit\\Code\\notebooks\\..\\src\\create_solution.py:52: FutureWarning: Dropping of nuisance columns in DataFrame reductions (with 'numeric_only=None') is deprecated; in a future version this will raise TypeError.  Select only valid columns before calling the reduction.\n",
      "  distances['Dmin'] = distances.min(axis=1)\n",
      "\u001b[32m2023-08-09 18:43:36.627\u001b[0m | \u001b[1mINFO    \u001b[0m | \u001b[36msrc.evaluation_multi\u001b[0m:\u001b[36mevaluate_solution_multi\u001b[0m:\u001b[36m263\u001b[0m - \u001b[1m2916.1229426307336\u001b[0m\n",
      "\u001b[32m2023-08-09 18:43:37.646\u001b[0m | \u001b[1mINFO    \u001b[0m | \u001b[36msrc.evaluation_multi\u001b[0m:\u001b[36mevaluate_solution_multi\u001b[0m:\u001b[36m312\u001b[0m - \u001b[1m4733.738333098394\u001b[0m\n",
      "\u001b[32m2023-08-09 18:43:38.666\u001b[0m | \u001b[1mINFO    \u001b[0m | \u001b[36msrc.evaluation_multi\u001b[0m:\u001b[36mevaluate_solution_multi\u001b[0m:\u001b[36m312\u001b[0m - \u001b[1m5737.7409506511385\u001b[0m\n",
      "\u001b[32m2023-08-09 18:43:39.670\u001b[0m | \u001b[1mINFO    \u001b[0m | \u001b[36msrc.evaluation_multi\u001b[0m:\u001b[36mevaluate_solution_multi\u001b[0m:\u001b[36m312\u001b[0m - \u001b[1m6084.410916895026\u001b[0m\n",
      "\u001b[32m2023-08-09 18:43:39.670\u001b[0m | \u001b[1mINFO    \u001b[0m | \u001b[36msrc.evaluation_multi\u001b[0m:\u001b[36mevaluate_solution_multi\u001b[0m:\u001b[36m312\u001b[0m - \u001b[1m6084.410916895026\u001b[0m\n",
      "\u001b[32m2023-08-09 18:43:40.706\u001b[0m | \u001b[1mINFO    \u001b[0m | \u001b[36msrc.evaluation_multi\u001b[0m:\u001b[36mevaluate_solution_multi\u001b[0m:\u001b[36m312\u001b[0m - \u001b[1m10351.622440457419\u001b[0m\n",
      "\u001b[32m2023-08-09 18:43:41.726\u001b[0m | \u001b[1mINFO    \u001b[0m | \u001b[36msrc.evaluation_multi\u001b[0m:\u001b[36mevaluate_solution_multi\u001b[0m:\u001b[36m312\u001b[0m - \u001b[1m13049.147795851663\u001b[0m\n",
      "\u001b[32m2023-08-09 18:43:42.746\u001b[0m | \u001b[1mINFO    \u001b[0m | \u001b[36msrc.evaluation_multi\u001b[0m:\u001b[36mevaluate_solution_multi\u001b[0m:\u001b[36m312\u001b[0m - \u001b[1m14242.924849409854\u001b[0m\n",
      "\u001b[32m2023-08-09 18:43:43.765\u001b[0m | \u001b[1mINFO    \u001b[0m | \u001b[36msrc.evaluation_multi\u001b[0m:\u001b[36mevaluate_solution_multi\u001b[0m:\u001b[36m312\u001b[0m - \u001b[1m14761.043522593549\u001b[0m\n",
      "\u001b[32m2023-08-09 18:43:44.768\u001b[0m | \u001b[1mINFO    \u001b[0m | \u001b[36msrc.evaluation_multi\u001b[0m:\u001b[36mevaluate_solution_multi\u001b[0m:\u001b[36m312\u001b[0m - \u001b[1m15558.734152060806\u001b[0m\n",
      "\u001b[32m2023-08-09 18:43:45.788\u001b[0m | \u001b[1mINFO    \u001b[0m | \u001b[36msrc.evaluation_multi\u001b[0m:\u001b[36mevaluate_solution_multi\u001b[0m:\u001b[36m312\u001b[0m - \u001b[1m16581.776014458956\u001b[0m\n",
      "\u001b[32m2023-08-09 18:43:45.835\u001b[0m | \u001b[1mINFO    \u001b[0m | \u001b[36msrc.evaluation_multi\u001b[0m:\u001b[36mevaluate_solution_multi\u001b[0m:\u001b[36m320\u001b[0m - \u001b[1m18209.820295571008\u001b[0m\n",
      "C:\\Users\\marle\\AppData\\Local\\Temp\\ipykernel_27168\\2310005215.py:14: FutureWarning: The frame.append method is deprecated and will be removed from pandas in a future version. Use pandas.concat instead.\n",
      "  df_results = df_results.append(dict_results, ignore_index=True)\n"
     ]
    },
    {
     "name": "stdout",
     "output_type": "stream",
     "text": [
      "Total processing time: 4.0625\n"
     ]
    },
    {
     "data": {
      "text/html": [
       "<div>\n",
       "<style scoped>\n",
       "    .dataframe tbody tr th:only-of-type {\n",
       "        vertical-align: middle;\n",
       "    }\n",
       "\n",
       "    .dataframe tbody tr th {\n",
       "        vertical-align: top;\n",
       "    }\n",
       "\n",
       "    .dataframe thead th {\n",
       "        text-align: right;\n",
       "    }\n",
       "</style>\n",
       "<table border=\"1\" class=\"dataframe\">\n",
       "  <thead>\n",
       "    <tr style=\"text-align: right;\">\n",
       "      <th></th>\n",
       "      <th>date from</th>\n",
       "      <th>date to</th>\n",
       "      <th>co2 road</th>\n",
       "      <th>distance road</th>\n",
       "      <th>routes road</th>\n",
       "      <th>processing time road</th>\n",
       "      <th>co2 railroad</th>\n",
       "      <th>distance railroad</th>\n",
       "      <th>terminal allocation</th>\n",
       "      <th>routes railroad</th>\n",
       "      <th>processing time railroad</th>\n",
       "      <th>volume</th>\n",
       "    </tr>\n",
       "  </thead>\n",
       "  <tbody>\n",
       "    <tr>\n",
       "      <th>0</th>\n",
       "      <td>2022-01-03 11:59:00</td>\n",
       "      <td>2022-01-07 15:50:00</td>\n",
       "      <td>15024.945162</td>\n",
       "      <td>16909668</td>\n",
       "      <td>[[DC1, C1126, C451, C446, C549, C164, C538, C7...</td>\n",
       "      <td>0.203125</td>\n",
       "      <td>11430.986655</td>\n",
       "      <td>16818070.2</td>\n",
       "      <td>[[C664, C16, C698, C300, C194, C163, C341, C67...</td>\n",
       "      <td>{'T1': [['T1', 'C935', 'C284', 'C238', 'C196',...</td>\n",
       "      <td>3.062500</td>\n",
       "      <td>1.0</td>\n",
       "    </tr>\n",
       "    <tr>\n",
       "      <th>1</th>\n",
       "      <td>2022-01-10 10:25:00</td>\n",
       "      <td>2022-01-14 15:34:00</td>\n",
       "      <td>14860.219402</td>\n",
       "      <td>16506627</td>\n",
       "      <td>[[DC1, C104, C1161, C473, C1164, C455, C103, C...</td>\n",
       "      <td>0.250000</td>\n",
       "      <td>11319.322616</td>\n",
       "      <td>16558212.2</td>\n",
       "      <td>[[C664, C16, C698, C300, C194, C341, C676, C85...</td>\n",
       "      <td>{'T1': [['T1', 'C1181', 'C694', 'C661', 'C273'...</td>\n",
       "      <td>3.562500</td>\n",
       "      <td>1.0</td>\n",
       "    </tr>\n",
       "    <tr>\n",
       "      <th>2</th>\n",
       "      <td>2022-01-17 08:16:00</td>\n",
       "      <td>2022-01-21 15:29:00</td>\n",
       "      <td>16123.271615</td>\n",
       "      <td>17880752</td>\n",
       "      <td>[[DC1, C4, C1279, C229, C771, C316, C182, C937...</td>\n",
       "      <td>0.390625</td>\n",
       "      <td>11366.523895</td>\n",
       "      <td>16558210.2</td>\n",
       "      <td>[[C664, C16, C698, C300, C194, C163, C341, C67...</td>\n",
       "      <td>{'T1': [['T1', 'C935', 'C284', 'C238', 'C196',...</td>\n",
       "      <td>3.312500</td>\n",
       "      <td>1.0</td>\n",
       "    </tr>\n",
       "    <tr>\n",
       "      <th>3</th>\n",
       "      <td>2022-01-03 11:59:00</td>\n",
       "      <td>2022-01-07 15:50:00</td>\n",
       "      <td>24318.565573</td>\n",
       "      <td>26563031</td>\n",
       "      <td>[[DC1, C611, C285, C106, C276, C234, C940, C28...</td>\n",
       "      <td>0.468750</td>\n",
       "      <td>13993.511460</td>\n",
       "      <td>18665553.8</td>\n",
       "      <td>[[C664, C16, C698, C300, C194, C163, C341, C67...</td>\n",
       "      <td>{'T1': [['T1', 'C935', 'C284', 'C238', 'C1049'...</td>\n",
       "      <td>3.968750</td>\n",
       "      <td>5.0</td>\n",
       "    </tr>\n",
       "    <tr>\n",
       "      <th>4</th>\n",
       "      <td>2022-01-10 10:25:00</td>\n",
       "      <td>2022-01-14 15:34:00</td>\n",
       "      <td>27383.152713</td>\n",
       "      <td>30486872</td>\n",
       "      <td>[[DC1, C320, C322, C309, C778, C676, C850, C56...</td>\n",
       "      <td>0.390625</td>\n",
       "      <td>13939.941443</td>\n",
       "      <td>18675878.2</td>\n",
       "      <td>[[C664, C16, C698, C300, C194, C341, C676, C85...</td>\n",
       "      <td>{'T1': [['T1', 'C55', 'C196', 'C338', 'C637', ...</td>\n",
       "      <td>3.578125</td>\n",
       "      <td>5.0</td>\n",
       "    </tr>\n",
       "    <tr>\n",
       "      <th>5</th>\n",
       "      <td>2022-01-17 08:16:00</td>\n",
       "      <td>2022-01-21 15:29:00</td>\n",
       "      <td>27762.924206</td>\n",
       "      <td>30968522</td>\n",
       "      <td>[[DC1, C691, C352, C472, C545, C778, C850, C33...</td>\n",
       "      <td>0.281250</td>\n",
       "      <td>14064.870007</td>\n",
       "      <td>18729374.2</td>\n",
       "      <td>[[C664, C16, C698, C300, C194, C163, C341, C67...</td>\n",
       "      <td>{'T1': [['T1', 'C850', 'C676', 'C300', 'C698',...</td>\n",
       "      <td>3.046875</td>\n",
       "      <td>5.0</td>\n",
       "    </tr>\n",
       "    <tr>\n",
       "      <th>6</th>\n",
       "      <td>2022-01-03 11:59:00</td>\n",
       "      <td>2022-01-07 15:50:00</td>\n",
       "      <td>39879.535168</td>\n",
       "      <td>43648932</td>\n",
       "      <td>[[DC1, C448, C377, C289, C597, C273, C661, C84...</td>\n",
       "      <td>0.609375</td>\n",
       "      <td>18490.410976</td>\n",
       "      <td>23124537.2</td>\n",
       "      <td>[[C664, C16, C698, C300, C194, C163, C341, C67...</td>\n",
       "      <td>{'T1': [['T1', 'C284', 'C55', 'T1'], ['T1', 'C...</td>\n",
       "      <td>3.171875</td>\n",
       "      <td>10.0</td>\n",
       "    </tr>\n",
       "    <tr>\n",
       "      <th>7</th>\n",
       "      <td>2022-01-10 10:25:00</td>\n",
       "      <td>2022-01-14 15:34:00</td>\n",
       "      <td>45343.699226</td>\n",
       "      <td>50454816</td>\n",
       "      <td>[[DC1, C448, C415, C385, C545, C361, C219, C32...</td>\n",
       "      <td>0.359375</td>\n",
       "      <td>18272.655304</td>\n",
       "      <td>22855238.0</td>\n",
       "      <td>[[C664, C16, C698, C300, C194, C341, C676, C85...</td>\n",
       "      <td>{'T1': [['T1', 'C850', 'C676', 'C300', 'C698',...</td>\n",
       "      <td>3.859375</td>\n",
       "      <td>10.0</td>\n",
       "    </tr>\n",
       "    <tr>\n",
       "      <th>8</th>\n",
       "      <td>2022-01-17 08:16:00</td>\n",
       "      <td>2022-01-21 15:29:00</td>\n",
       "      <td>43952.036719</td>\n",
       "      <td>48783349</td>\n",
       "      <td>[[DC1, C584, C676, C113, C565, C73, C1017, C36...</td>\n",
       "      <td>0.343750</td>\n",
       "      <td>18209.820296</td>\n",
       "      <td>22755662.4</td>\n",
       "      <td>[[C664, C16, C698, C300, C194, C163, C341, C67...</td>\n",
       "      <td>{'T1': [['T1', 'C935', 'C284', 'C55', 'C196', ...</td>\n",
       "      <td>3.718750</td>\n",
       "      <td>10.0</td>\n",
       "    </tr>\n",
       "  </tbody>\n",
       "</table>\n",
       "</div>"
      ],
      "text/plain": [
       "            date from             date to      co2 road distance road  \\\n",
       "0 2022-01-03 11:59:00 2022-01-07 15:50:00  15024.945162      16909668   \n",
       "1 2022-01-10 10:25:00 2022-01-14 15:34:00  14860.219402      16506627   \n",
       "2 2022-01-17 08:16:00 2022-01-21 15:29:00  16123.271615      17880752   \n",
       "3 2022-01-03 11:59:00 2022-01-07 15:50:00  24318.565573      26563031   \n",
       "4 2022-01-10 10:25:00 2022-01-14 15:34:00  27383.152713      30486872   \n",
       "5 2022-01-17 08:16:00 2022-01-21 15:29:00  27762.924206      30968522   \n",
       "6 2022-01-03 11:59:00 2022-01-07 15:50:00  39879.535168      43648932   \n",
       "7 2022-01-10 10:25:00 2022-01-14 15:34:00  45343.699226      50454816   \n",
       "8 2022-01-17 08:16:00 2022-01-21 15:29:00  43952.036719      48783349   \n",
       "\n",
       "                                         routes road  processing time road  \\\n",
       "0  [[DC1, C1126, C451, C446, C549, C164, C538, C7...              0.203125   \n",
       "1  [[DC1, C104, C1161, C473, C1164, C455, C103, C...              0.250000   \n",
       "2  [[DC1, C4, C1279, C229, C771, C316, C182, C937...              0.390625   \n",
       "3  [[DC1, C611, C285, C106, C276, C234, C940, C28...              0.468750   \n",
       "4  [[DC1, C320, C322, C309, C778, C676, C850, C56...              0.390625   \n",
       "5  [[DC1, C691, C352, C472, C545, C778, C850, C33...              0.281250   \n",
       "6  [[DC1, C448, C377, C289, C597, C273, C661, C84...              0.609375   \n",
       "7  [[DC1, C448, C415, C385, C545, C361, C219, C32...              0.359375   \n",
       "8  [[DC1, C584, C676, C113, C565, C73, C1017, C36...              0.343750   \n",
       "\n",
       "   co2 railroad  distance railroad  \\\n",
       "0  11430.986655         16818070.2   \n",
       "1  11319.322616         16558212.2   \n",
       "2  11366.523895         16558210.2   \n",
       "3  13993.511460         18665553.8   \n",
       "4  13939.941443         18675878.2   \n",
       "5  14064.870007         18729374.2   \n",
       "6  18490.410976         23124537.2   \n",
       "7  18272.655304         22855238.0   \n",
       "8  18209.820296         22755662.4   \n",
       "\n",
       "                                 terminal allocation  \\\n",
       "0  [[C664, C16, C698, C300, C194, C163, C341, C67...   \n",
       "1  [[C664, C16, C698, C300, C194, C341, C676, C85...   \n",
       "2  [[C664, C16, C698, C300, C194, C163, C341, C67...   \n",
       "3  [[C664, C16, C698, C300, C194, C163, C341, C67...   \n",
       "4  [[C664, C16, C698, C300, C194, C341, C676, C85...   \n",
       "5  [[C664, C16, C698, C300, C194, C163, C341, C67...   \n",
       "6  [[C664, C16, C698, C300, C194, C163, C341, C67...   \n",
       "7  [[C664, C16, C698, C300, C194, C341, C676, C85...   \n",
       "8  [[C664, C16, C698, C300, C194, C163, C341, C67...   \n",
       "\n",
       "                                     routes railroad  \\\n",
       "0  {'T1': [['T1', 'C935', 'C284', 'C238', 'C196',...   \n",
       "1  {'T1': [['T1', 'C1181', 'C694', 'C661', 'C273'...   \n",
       "2  {'T1': [['T1', 'C935', 'C284', 'C238', 'C196',...   \n",
       "3  {'T1': [['T1', 'C935', 'C284', 'C238', 'C1049'...   \n",
       "4  {'T1': [['T1', 'C55', 'C196', 'C338', 'C637', ...   \n",
       "5  {'T1': [['T1', 'C850', 'C676', 'C300', 'C698',...   \n",
       "6  {'T1': [['T1', 'C284', 'C55', 'T1'], ['T1', 'C...   \n",
       "7  {'T1': [['T1', 'C850', 'C676', 'C300', 'C698',...   \n",
       "8  {'T1': [['T1', 'C935', 'C284', 'C55', 'C196', ...   \n",
       "\n",
       "   processing time railroad  volume  \n",
       "0                  3.062500     1.0  \n",
       "1                  3.562500     1.0  \n",
       "2                  3.312500     1.0  \n",
       "3                  3.968750     5.0  \n",
       "4                  3.578125     5.0  \n",
       "5                  3.046875     5.0  \n",
       "6                  3.171875    10.0  \n",
       "7                  3.859375    10.0  \n",
       "8                  3.718750    10.0  "
      ]
     },
     "execution_count": 190,
     "metadata": {},
     "output_type": "execute_result"
    }
   ],
   "source": [
    "get_results_weekly(df_dc1, [2,3,4,5], 5, truck_capacity = truck_capacity, mode = \"multi\", algorithm = \"base\")"
   ]
  },
  {
   "cell_type": "code",
   "execution_count": 124,
   "id": "ed8c7d9a",
   "metadata": {},
   "outputs": [],
   "source": [
    "df_results = load_results_algorithms([2,3,4,5], mode = \"combined\")\n",
    "df_results[\"date from\"] = df_results[\"date from\"].dt.date\n",
    "df_test = df_results.groupby([\"volume\", \"algorithm\"])[[\"date from\", \"co2 railroad\"]].agg(lambda x: list(x))\n",
    "df_test[df_test[\"date from\"].iloc[0]] = df_test[\"co2 railroad\"].to_list()\n",
    "df_test = df_test.drop([\"date from\", \"co2 railroad\"], axis = 1)"
   ]
  },
  {
   "cell_type": "code",
   "execution_count": 121,
   "id": "156a6995",
   "metadata": {},
   "outputs": [],
   "source": [
    "df_co2_railroad = create_df_test(load_results_algorithms([2,3,4,5], mode = \"combined\"), \"co2 railroad\")\n",
    "df_co2_road = create_df_test(load_results_algorithms([2,3,4,5], mode = \"combined\"), \"co2 road\")\n",
    "df_processing_time = create_df_test(load_results_algorithms([2,3,4,5], mode = \"combined\"), \"processing time railroad\")"
   ]
  },
  {
   "cell_type": "code",
   "execution_count": 65,
   "id": "a11c012c",
   "metadata": {},
   "outputs": [
    {
     "data": {
      "text/html": [
       "<div>\n",
       "<style scoped>\n",
       "    .dataframe tbody tr th:only-of-type {\n",
       "        vertical-align: middle;\n",
       "    }\n",
       "\n",
       "    .dataframe tbody tr th {\n",
       "        vertical-align: top;\n",
       "    }\n",
       "\n",
       "    .dataframe thead th {\n",
       "        text-align: right;\n",
       "    }\n",
       "</style>\n",
       "<table border=\"1\" class=\"dataframe\">\n",
       "  <thead>\n",
       "    <tr style=\"text-align: right;\">\n",
       "      <th></th>\n",
       "      <th></th>\n",
       "      <th>2022-01-03</th>\n",
       "      <th>2022-01-10</th>\n",
       "      <th>2022-01-17</th>\n",
       "    </tr>\n",
       "    <tr>\n",
       "      <th>volume</th>\n",
       "      <th>algorithm</th>\n",
       "      <th></th>\n",
       "      <th></th>\n",
       "      <th></th>\n",
       "    </tr>\n",
       "  </thead>\n",
       "  <tbody>\n",
       "    <tr>\n",
       "      <th rowspan=\"3\" valign=\"top\">1.0</th>\n",
       "      <th>base</th>\n",
       "      <td>15357.617758</td>\n",
       "      <td>14860.219402</td>\n",
       "      <td>16002.873666</td>\n",
       "    </tr>\n",
       "    <tr>\n",
       "      <th>client</th>\n",
       "      <td>14529.498440</td>\n",
       "      <td>14605.647838</td>\n",
       "      <td>15768.507115</td>\n",
       "    </tr>\n",
       "    <tr>\n",
       "      <th>drop</th>\n",
       "      <td>14529.498440</td>\n",
       "      <td>14661.144506</td>\n",
       "      <td>16176.168460</td>\n",
       "    </tr>\n",
       "    <tr>\n",
       "      <th rowspan=\"3\" valign=\"top\">5.0</th>\n",
       "      <th>base</th>\n",
       "      <td>24827.370725</td>\n",
       "      <td>27530.994235</td>\n",
       "      <td>26468.363771</td>\n",
       "    </tr>\n",
       "    <tr>\n",
       "      <th>client</th>\n",
       "      <td>23511.540003</td>\n",
       "      <td>24783.313407</td>\n",
       "      <td>28280.489632</td>\n",
       "    </tr>\n",
       "    <tr>\n",
       "      <th>drop</th>\n",
       "      <td>24037.173941</td>\n",
       "      <td>25258.801036</td>\n",
       "      <td>26746.235734</td>\n",
       "    </tr>\n",
       "    <tr>\n",
       "      <th rowspan=\"3\" valign=\"top\">10.0</th>\n",
       "      <th>base</th>\n",
       "      <td>39899.210990</td>\n",
       "      <td>46666.456771</td>\n",
       "      <td>43328.493146</td>\n",
       "    </tr>\n",
       "    <tr>\n",
       "      <th>client</th>\n",
       "      <td>39188.856523</td>\n",
       "      <td>41705.506952</td>\n",
       "      <td>40232.694373</td>\n",
       "    </tr>\n",
       "    <tr>\n",
       "      <th>drop</th>\n",
       "      <td>41711.543698</td>\n",
       "      <td>45945.748599</td>\n",
       "      <td>42574.035321</td>\n",
       "    </tr>\n",
       "  </tbody>\n",
       "</table>\n",
       "</div>"
      ],
      "text/plain": [
       "                    2022-01-03    2022-01-10    2022-01-17\n",
       "volume algorithm                                          \n",
       "1.0    base       15357.617758  14860.219402  16002.873666\n",
       "       client     14529.498440  14605.647838  15768.507115\n",
       "       drop       14529.498440  14661.144506  16176.168460\n",
       "5.0    base       24827.370725  27530.994235  26468.363771\n",
       "       client     23511.540003  24783.313407  28280.489632\n",
       "       drop       24037.173941  25258.801036  26746.235734\n",
       "10.0   base       39899.210990  46666.456771  43328.493146\n",
       "       client     39188.856523  41705.506952  40232.694373\n",
       "       drop       41711.543698  45945.748599  42574.035321"
      ]
     },
     "execution_count": 65,
     "metadata": {},
     "output_type": "execute_result"
    }
   ],
   "source": [
    "df_results = load_results_algorithms([2,3,4,5], mode = \"combined\")\n",
    "df_results[\"date from\"] = df_results[\"date from\"].dt.date\n",
    "df_test = df_results.groupby([\"volume\", \"algorithm\"])[[\"date from\", \"co2 road\"]].agg(lambda x: list(x))\n",
    "df_test[df_test[\"date from\"].iloc[0]] = df_test[\"co2 road\"].to_list()\n",
    "df_test = df_test.drop([\"date from\", \"co2 road\"], axis = 1)\n",
    "df_test"
   ]
  },
  {
   "cell_type": "code",
   "execution_count": null,
   "id": "175f61b9",
   "metadata": {},
   "outputs": [],
   "source": [
    "df_results = load_results_algorithms([2,3,4,5], mode = \"combined\")\n",
    "df_results[\"date from\"] = df_results[\"date from\"].dt.date\n",
    "df_test = df_results.groupby([\"volume\", \"algorithm\"])[[\"date from\", \"co2 road\"]].agg(lambda x: list(x))\n",
    "df_test[df_test[\"date from\"].iloc[0]] = df_test[\"co2 road\"].to_list()\n",
    "df_test = df_test.drop([\"date from\", \"co2 road\"], axis = 1)\n",
    "df_test"
   ]
  },
  {
   "cell_type": "code",
   "execution_count": 29,
   "id": "a016e191",
   "metadata": {
    "scrolled": true
   },
   "outputs": [
    {
     "data": {
      "text/plain": [
       "numpy.datetime64('2022-01-10T10:25:00.000000000')"
      ]
     },
     "execution_count": 29,
     "metadata": {},
     "output_type": "execute_result"
    }
   ],
   "source": [
    "df_results = load_results_modes([2,3,4,5], algorithm = \"base\")\n",
    "df_results[\"date from\"].unique()[1]"
   ]
  },
  {
   "cell_type": "code",
   "execution_count": 33,
   "id": "e6a93223",
   "metadata": {},
   "outputs": [
    {
     "name": "stderr",
     "output_type": "stream",
     "text": [
      "C:\\Users\\marle\\AppData\\Local\\Temp\\ipykernel_22796\\712077092.py:1: FutureWarning: The default value of numeric_only in DataFrameGroupBy.sum is deprecated. In a future version, numeric_only will default to False. Either specify numeric_only or select only columns which should be valid for the function.\n",
      "  df_results[df_results[\"date from\"]=='2022-01-10T10:25:00.000000000'].groupby([\"volume\", \"mode\"]).sum()\n"
     ]
    },
    {
     "data": {
      "text/html": [
       "<div>\n",
       "<style scoped>\n",
       "    .dataframe tbody tr th:only-of-type {\n",
       "        vertical-align: middle;\n",
       "    }\n",
       "\n",
       "    .dataframe tbody tr th {\n",
       "        vertical-align: top;\n",
       "    }\n",
       "\n",
       "    .dataframe thead th {\n",
       "        text-align: right;\n",
       "    }\n",
       "</style>\n",
       "<table border=\"1\" class=\"dataframe\">\n",
       "  <thead>\n",
       "    <tr style=\"text-align: right;\">\n",
       "      <th></th>\n",
       "      <th></th>\n",
       "      <th>co2 road</th>\n",
       "      <th>distance road</th>\n",
       "      <th>processing time road</th>\n",
       "      <th>co2 railroad</th>\n",
       "      <th>distance railroad</th>\n",
       "      <th>processing time railroad</th>\n",
       "    </tr>\n",
       "    <tr>\n",
       "      <th>volume</th>\n",
       "      <th>mode</th>\n",
       "      <th></th>\n",
       "      <th></th>\n",
       "      <th></th>\n",
       "      <th></th>\n",
       "      <th></th>\n",
       "      <th></th>\n",
       "    </tr>\n",
       "  </thead>\n",
       "  <tbody>\n",
       "    <tr>\n",
       "      <th rowspan=\"3\" valign=\"top\">1.0</th>\n",
       "      <th>combined</th>\n",
       "      <td>14860.219402</td>\n",
       "      <td>16506627</td>\n",
       "      <td>0.921875</td>\n",
       "      <td>19152.904846</td>\n",
       "      <td>25365869.0</td>\n",
       "      <td>8.343750</td>\n",
       "    </tr>\n",
       "    <tr>\n",
       "      <th>intermodal</th>\n",
       "      <td>14860.219402</td>\n",
       "      <td>16506627</td>\n",
       "      <td>0.953125</td>\n",
       "      <td>13680.004216</td>\n",
       "      <td>19348827.0</td>\n",
       "      <td>10.296875</td>\n",
       "    </tr>\n",
       "    <tr>\n",
       "      <th>multi</th>\n",
       "      <td>14860.219402</td>\n",
       "      <td>16506627</td>\n",
       "      <td>0.250000</td>\n",
       "      <td>11319.322616</td>\n",
       "      <td>16558212.2</td>\n",
       "      <td>3.562500</td>\n",
       "    </tr>\n",
       "    <tr>\n",
       "      <th rowspan=\"3\" valign=\"top\">5.0</th>\n",
       "      <th>combined</th>\n",
       "      <td>27530.994235</td>\n",
       "      <td>30670707</td>\n",
       "      <td>1.031250</td>\n",
       "      <td>19279.014731</td>\n",
       "      <td>24585541.0</td>\n",
       "      <td>9.796875</td>\n",
       "    </tr>\n",
       "    <tr>\n",
       "      <th>intermodal</th>\n",
       "      <td>27702.132404</td>\n",
       "      <td>30908523</td>\n",
       "      <td>1.187500</td>\n",
       "      <td>16383.224963</td>\n",
       "      <td>21401773.0</td>\n",
       "      <td>9.921875</td>\n",
       "    </tr>\n",
       "    <tr>\n",
       "      <th>multi</th>\n",
       "      <td>27383.152713</td>\n",
       "      <td>30486872</td>\n",
       "      <td>0.390625</td>\n",
       "      <td>13939.941443</td>\n",
       "      <td>18675878.2</td>\n",
       "      <td>3.578125</td>\n",
       "    </tr>\n",
       "    <tr>\n",
       "      <th rowspan=\"3\" valign=\"top\">10.0</th>\n",
       "      <th>combined</th>\n",
       "      <td>46666.456771</td>\n",
       "      <td>52351443</td>\n",
       "      <td>1.296875</td>\n",
       "      <td>25098.567814</td>\n",
       "      <td>30629984.0</td>\n",
       "      <td>10.156250</td>\n",
       "    </tr>\n",
       "    <tr>\n",
       "      <th>intermodal</th>\n",
       "      <td>44866.909097</td>\n",
       "      <td>49803750</td>\n",
       "      <td>1.000000</td>\n",
       "      <td>21413.213834</td>\n",
       "      <td>26342476.0</td>\n",
       "      <td>10.015625</td>\n",
       "    </tr>\n",
       "    <tr>\n",
       "      <th>multi</th>\n",
       "      <td>45343.699226</td>\n",
       "      <td>50454816</td>\n",
       "      <td>0.359375</td>\n",
       "      <td>18272.655304</td>\n",
       "      <td>22855238.0</td>\n",
       "      <td>3.859375</td>\n",
       "    </tr>\n",
       "  </tbody>\n",
       "</table>\n",
       "</div>"
      ],
      "text/plain": [
       "                       co2 road  distance road  processing time road  \\\n",
       "volume mode                                                            \n",
       "1.0    combined    14860.219402       16506627              0.921875   \n",
       "       intermodal  14860.219402       16506627              0.953125   \n",
       "       multi       14860.219402       16506627              0.250000   \n",
       "5.0    combined    27530.994235       30670707              1.031250   \n",
       "       intermodal  27702.132404       30908523              1.187500   \n",
       "       multi       27383.152713       30486872              0.390625   \n",
       "10.0   combined    46666.456771       52351443              1.296875   \n",
       "       intermodal  44866.909097       49803750              1.000000   \n",
       "       multi       45343.699226       50454816              0.359375   \n",
       "\n",
       "                   co2 railroad  distance railroad  processing time railroad  \n",
       "volume mode                                                                   \n",
       "1.0    combined    19152.904846         25365869.0                  8.343750  \n",
       "       intermodal  13680.004216         19348827.0                 10.296875  \n",
       "       multi       11319.322616         16558212.2                  3.562500  \n",
       "5.0    combined    19279.014731         24585541.0                  9.796875  \n",
       "       intermodal  16383.224963         21401773.0                  9.921875  \n",
       "       multi       13939.941443         18675878.2                  3.578125  \n",
       "10.0   combined    25098.567814         30629984.0                 10.156250  \n",
       "       intermodal  21413.213834         26342476.0                 10.015625  \n",
       "       multi       18272.655304         22855238.0                  3.859375  "
      ]
     },
     "execution_count": 33,
     "metadata": {},
     "output_type": "execute_result"
    }
   ],
   "source": [
    "df_results[df_results[\"date from\"]=='2022-01-10T10:25:00.000000000'].groupby([\"volume\", \"mode\"]).sum()"
   ]
  },
  {
   "cell_type": "code",
   "execution_count": 41,
   "id": "55f03c29",
   "metadata": {},
   "outputs": [
    {
     "data": {
      "text/html": [
       "<div>\n",
       "<style scoped>\n",
       "    .dataframe tbody tr th:only-of-type {\n",
       "        vertical-align: middle;\n",
       "    }\n",
       "\n",
       "    .dataframe tbody tr th {\n",
       "        vertical-align: top;\n",
       "    }\n",
       "\n",
       "    .dataframe thead th {\n",
       "        text-align: right;\n",
       "    }\n",
       "</style>\n",
       "<table border=\"1\" class=\"dataframe\">\n",
       "  <thead>\n",
       "    <tr style=\"text-align: right;\">\n",
       "      <th></th>\n",
       "      <th></th>\n",
       "      <th></th>\n",
       "      <th>co2 railroad</th>\n",
       "      <th>co2 road</th>\n",
       "    </tr>\n",
       "    <tr>\n",
       "      <th>date from</th>\n",
       "      <th>volume</th>\n",
       "      <th>mode</th>\n",
       "      <th></th>\n",
       "      <th></th>\n",
       "    </tr>\n",
       "  </thead>\n",
       "  <tbody>\n",
       "    <tr>\n",
       "      <th rowspan=\"9\" valign=\"top\">2022-01-03 11:59:00</th>\n",
       "      <th rowspan=\"3\" valign=\"top\">1.0</th>\n",
       "      <th>combined</th>\n",
       "      <td>15103.672787</td>\n",
       "      <td>15357.617758</td>\n",
       "    </tr>\n",
       "    <tr>\n",
       "      <th>intermodal</th>\n",
       "      <td>13494.199665</td>\n",
       "      <td>15024.945162</td>\n",
       "    </tr>\n",
       "    <tr>\n",
       "      <th>multi</th>\n",
       "      <td>11430.986655</td>\n",
       "      <td>15024.945162</td>\n",
       "    </tr>\n",
       "    <tr>\n",
       "      <th rowspan=\"3\" valign=\"top\">5.0</th>\n",
       "      <th>combined</th>\n",
       "      <td>17421.255567</td>\n",
       "      <td>24827.370725</td>\n",
       "    </tr>\n",
       "    <tr>\n",
       "      <th>intermodal</th>\n",
       "      <td>16516.420377</td>\n",
       "      <td>23700.580214</td>\n",
       "    </tr>\n",
       "    <tr>\n",
       "      <th>multi</th>\n",
       "      <td>13993.511460</td>\n",
       "      <td>24318.565573</td>\n",
       "    </tr>\n",
       "    <tr>\n",
       "      <th rowspan=\"3\" valign=\"top\">10.0</th>\n",
       "      <th>combined</th>\n",
       "      <td>22381.597427</td>\n",
       "      <td>39899.210990</td>\n",
       "    </tr>\n",
       "    <tr>\n",
       "      <th>intermodal</th>\n",
       "      <td>21886.887836</td>\n",
       "      <td>39554.456000</td>\n",
       "    </tr>\n",
       "    <tr>\n",
       "      <th>multi</th>\n",
       "      <td>18490.410976</td>\n",
       "      <td>39879.535168</td>\n",
       "    </tr>\n",
       "    <tr>\n",
       "      <th rowspan=\"9\" valign=\"top\">2022-01-10 10:25:00</th>\n",
       "      <th rowspan=\"3\" valign=\"top\">1.0</th>\n",
       "      <th>combined</th>\n",
       "      <td>19152.904846</td>\n",
       "      <td>14860.219402</td>\n",
       "    </tr>\n",
       "    <tr>\n",
       "      <th>intermodal</th>\n",
       "      <td>13680.004216</td>\n",
       "      <td>14860.219402</td>\n",
       "    </tr>\n",
       "    <tr>\n",
       "      <th>multi</th>\n",
       "      <td>11319.322616</td>\n",
       "      <td>14860.219402</td>\n",
       "    </tr>\n",
       "    <tr>\n",
       "      <th rowspan=\"3\" valign=\"top\">5.0</th>\n",
       "      <th>combined</th>\n",
       "      <td>19279.014731</td>\n",
       "      <td>27530.994235</td>\n",
       "    </tr>\n",
       "    <tr>\n",
       "      <th>intermodal</th>\n",
       "      <td>16383.224963</td>\n",
       "      <td>27702.132404</td>\n",
       "    </tr>\n",
       "    <tr>\n",
       "      <th>multi</th>\n",
       "      <td>13939.941443</td>\n",
       "      <td>27383.152713</td>\n",
       "    </tr>\n",
       "    <tr>\n",
       "      <th rowspan=\"3\" valign=\"top\">10.0</th>\n",
       "      <th>combined</th>\n",
       "      <td>25098.567814</td>\n",
       "      <td>46666.456771</td>\n",
       "    </tr>\n",
       "    <tr>\n",
       "      <th>intermodal</th>\n",
       "      <td>21413.213834</td>\n",
       "      <td>44866.909097</td>\n",
       "    </tr>\n",
       "    <tr>\n",
       "      <th>multi</th>\n",
       "      <td>18272.655304</td>\n",
       "      <td>45343.699226</td>\n",
       "    </tr>\n",
       "    <tr>\n",
       "      <th rowspan=\"9\" valign=\"top\">2022-01-17 08:16:00</th>\n",
       "      <th rowspan=\"3\" valign=\"top\">1.0</th>\n",
       "      <th>combined</th>\n",
       "      <td>16424.826133</td>\n",
       "      <td>16002.873666</td>\n",
       "    </tr>\n",
       "    <tr>\n",
       "      <th>intermodal</th>\n",
       "      <td>13844.085460</td>\n",
       "      <td>15995.439750</td>\n",
       "    </tr>\n",
       "    <tr>\n",
       "      <th>multi</th>\n",
       "      <td>11366.523895</td>\n",
       "      <td>16123.271615</td>\n",
       "    </tr>\n",
       "    <tr>\n",
       "      <th rowspan=\"3\" valign=\"top\">5.0</th>\n",
       "      <th>combined</th>\n",
       "      <td>18111.371756</td>\n",
       "      <td>26468.363771</td>\n",
       "    </tr>\n",
       "    <tr>\n",
       "      <th>intermodal</th>\n",
       "      <td>16592.491971</td>\n",
       "      <td>27127.345164</td>\n",
       "    </tr>\n",
       "    <tr>\n",
       "      <th>multi</th>\n",
       "      <td>14064.870007</td>\n",
       "      <td>27762.924206</td>\n",
       "    </tr>\n",
       "    <tr>\n",
       "      <th rowspan=\"3\" valign=\"top\">10.0</th>\n",
       "      <th>combined</th>\n",
       "      <td>25785.616010</td>\n",
       "      <td>43328.493146</td>\n",
       "    </tr>\n",
       "    <tr>\n",
       "      <th>intermodal</th>\n",
       "      <td>21221.081100</td>\n",
       "      <td>42928.805633</td>\n",
       "    </tr>\n",
       "    <tr>\n",
       "      <th>multi</th>\n",
       "      <td>18209.820296</td>\n",
       "      <td>43952.036719</td>\n",
       "    </tr>\n",
       "  </tbody>\n",
       "</table>\n",
       "</div>"
      ],
      "text/plain": [
       "                                       co2 railroad      co2 road\n",
       "date from           volume mode                                  \n",
       "2022-01-03 11:59:00 1.0    combined    15103.672787  15357.617758\n",
       "                           intermodal  13494.199665  15024.945162\n",
       "                           multi       11430.986655  15024.945162\n",
       "                    5.0    combined    17421.255567  24827.370725\n",
       "                           intermodal  16516.420377  23700.580214\n",
       "                           multi       13993.511460  24318.565573\n",
       "                    10.0   combined    22381.597427  39899.210990\n",
       "                           intermodal  21886.887836  39554.456000\n",
       "                           multi       18490.410976  39879.535168\n",
       "2022-01-10 10:25:00 1.0    combined    19152.904846  14860.219402\n",
       "                           intermodal  13680.004216  14860.219402\n",
       "                           multi       11319.322616  14860.219402\n",
       "                    5.0    combined    19279.014731  27530.994235\n",
       "                           intermodal  16383.224963  27702.132404\n",
       "                           multi       13939.941443  27383.152713\n",
       "                    10.0   combined    25098.567814  46666.456771\n",
       "                           intermodal  21413.213834  44866.909097\n",
       "                           multi       18272.655304  45343.699226\n",
       "2022-01-17 08:16:00 1.0    combined    16424.826133  16002.873666\n",
       "                           intermodal  13844.085460  15995.439750\n",
       "                           multi       11366.523895  16123.271615\n",
       "                    5.0    combined    18111.371756  26468.363771\n",
       "                           intermodal  16592.491971  27127.345164\n",
       "                           multi       14064.870007  27762.924206\n",
       "                    10.0   combined    25785.616010  43328.493146\n",
       "                           intermodal  21221.081100  42928.805633\n",
       "                           multi       18209.820296  43952.036719"
      ]
     },
     "execution_count": 41,
     "metadata": {},
     "output_type": "execute_result"
    }
   ],
   "source": [
    "df_results.groupby([\"date from\", \"volume\", \"mode\"])[[\"co2 railroad\", \"co2 road\"]].sum()"
   ]
  },
  {
   "cell_type": "markdown",
   "id": "e641ae25",
   "metadata": {},
   "source": [
    "## Scenario 3: Combining two DC's"
   ]
  },
  {
   "cell_type": "markdown",
   "id": "9890d000",
   "metadata": {},
   "source": [
    "### Daily"
   ]
  },
  {
   "cell_type": "code",
   "execution_count": 134,
   "id": "e515096f",
   "metadata": {},
   "outputs": [],
   "source": [
    "from src.evaluation_multi import co2_modell_multi"
   ]
  },
  {
   "cell_type": "code",
   "execution_count": 137,
   "id": "68017995",
   "metadata": {
    "scrolled": true
   },
   "outputs": [],
   "source": [
    "df_combined = pd.concat([df_dc1, df_dc2]).head(1000)"
   ]
  },
  {
   "cell_type": "code",
   "execution_count": 27,
   "id": "05ca4745",
   "metadata": {
    "scrolled": true
   },
   "outputs": [
    {
     "name": "stderr",
     "output_type": "stream",
     "text": [
      "C:\\Users\\marle\\OneDrive - tbs-education\\00_Masterarbeit\\Code\\notebooks\\..\\src\\co2_modells.py:29: SettingWithCopyWarning: \n",
      "A value is trying to be set on a copy of a slice from a DataFrame.\n",
      "Try using .loc[row_indexer,col_indexer] = value instead\n",
      "\n",
      "See the caveats in the documentation: https://pandas.pydata.org/pandas-docs/stable/user_guide/indexing.html#returning-a-view-versus-a-copy\n",
      "  df[\"Sender weight (kg)\"] = df[\"Sender weight (kg)\"]*volume\n",
      "\u001b[32m2023-08-12 07:46:47.537\u001b[0m | \u001b[1mINFO    \u001b[0m | \u001b[36msrc.co2_modells\u001b[0m:\u001b[36mpreprocessing_modelling\u001b[0m:\u001b[36m38\u001b[0m - \u001b[1m193.298\u001b[0m\n",
      "\u001b[32m2023-08-12 07:46:47.546\u001b[0m | \u001b[1mINFO    \u001b[0m | \u001b[36msrc.co2_modells\u001b[0m:\u001b[36mco2_modell\u001b[0m:\u001b[36m71\u001b[0m - \u001b[1m0.5873846153846154\u001b[0m\n"
     ]
    },
    {
     "name": "stdout",
     "output_type": "stream",
     "text": [
      "(269, 7)\n"
     ]
    },
    {
     "name": "stderr",
     "output_type": "stream",
     "text": [
      "C:\\Users\\marle\\OneDrive - tbs-education\\00_Masterarbeit\\Code\\notebooks\\..\\src\\create_solution.py:55: FutureWarning: Dropping of nuisance columns in DataFrame reductions (with 'numeric_only=None') is deprecated; in a future version this will raise TypeError.  Select only valid columns before calling the reduction.\n",
      "  distances['Dmin'] = distances.min(axis=1)\n",
      "C:\\Users\\marle\\AppData\\Local\\Temp\\ipykernel_9392\\3509140279.py:16: FutureWarning: The frame.append method is deprecated and will be removed from pandas in a future version. Use pandas.concat instead.\n",
      "  df_results = df_results.append(dict_results, ignore_index=True)\n",
      "C:\\Users\\marle\\OneDrive - tbs-education\\00_Masterarbeit\\Code\\notebooks\\..\\src\\co2_modells.py:29: SettingWithCopyWarning: \n",
      "A value is trying to be set on a copy of a slice from a DataFrame.\n",
      "Try using .loc[row_indexer,col_indexer] = value instead\n",
      "\n",
      "See the caveats in the documentation: https://pandas.pydata.org/pandas-docs/stable/user_guide/indexing.html#returning-a-view-versus-a-copy\n",
      "  df[\"Sender weight (kg)\"] = df[\"Sender weight (kg)\"]*volume\n",
      "\u001b[32m2023-08-12 07:46:58.463\u001b[0m | \u001b[1mINFO    \u001b[0m | \u001b[36msrc.co2_modells\u001b[0m:\u001b[36mpreprocessing_modelling\u001b[0m:\u001b[36m38\u001b[0m - \u001b[1m118.048\u001b[0m\n",
      "\u001b[32m2023-08-12 07:46:58.483\u001b[0m | \u001b[1mINFO    \u001b[0m | \u001b[36msrc.co2_modells\u001b[0m:\u001b[36mco2_modell\u001b[0m:\u001b[36m71\u001b[0m - \u001b[1m0.42853846153846153\u001b[0m\n"
     ]
    },
    {
     "name": "stdout",
     "output_type": "stream",
     "text": [
      "Total processing time: 10.640625\n",
      "(247, 7)\n"
     ]
    },
    {
     "name": "stderr",
     "output_type": "stream",
     "text": [
      "C:\\Users\\marle\\OneDrive - tbs-education\\00_Masterarbeit\\Code\\notebooks\\..\\src\\create_solution.py:55: FutureWarning: Dropping of nuisance columns in DataFrame reductions (with 'numeric_only=None') is deprecated; in a future version this will raise TypeError.  Select only valid columns before calling the reduction.\n",
      "  distances['Dmin'] = distances.min(axis=1)\n",
      "C:\\Users\\marle\\AppData\\Local\\Temp\\ipykernel_9392\\3509140279.py:16: FutureWarning: The frame.append method is deprecated and will be removed from pandas in a future version. Use pandas.concat instead.\n",
      "  df_results = df_results.append(dict_results, ignore_index=True)\n",
      "C:\\Users\\marle\\OneDrive - tbs-education\\00_Masterarbeit\\Code\\notebooks\\..\\src\\co2_modells.py:29: SettingWithCopyWarning: \n",
      "A value is trying to be set on a copy of a slice from a DataFrame.\n",
      "Try using .loc[row_indexer,col_indexer] = value instead\n",
      "\n",
      "See the caveats in the documentation: https://pandas.pydata.org/pandas-docs/stable/user_guide/indexing.html#returning-a-view-versus-a-copy\n",
      "  df[\"Sender weight (kg)\"] = df[\"Sender weight (kg)\"]*volume\n",
      "\u001b[32m2023-08-12 07:47:08.619\u001b[0m | \u001b[1mINFO    \u001b[0m | \u001b[36msrc.co2_modells\u001b[0m:\u001b[36mpreprocessing_modelling\u001b[0m:\u001b[36m38\u001b[0m - \u001b[1m190.596\u001b[0m\n",
      "\u001b[32m2023-08-12 07:47:08.644\u001b[0m | \u001b[1mINFO    \u001b[0m | \u001b[36msrc.co2_modells\u001b[0m:\u001b[36mco2_modell\u001b[0m:\u001b[36m71\u001b[0m - \u001b[1m0.6247692307692307\u001b[0m\n"
     ]
    },
    {
     "name": "stdout",
     "output_type": "stream",
     "text": [
      "Total processing time: 9.96875\n",
      "(257, 7)\n"
     ]
    },
    {
     "name": "stderr",
     "output_type": "stream",
     "text": [
      "C:\\Users\\marle\\OneDrive - tbs-education\\00_Masterarbeit\\Code\\notebooks\\..\\src\\create_solution.py:55: FutureWarning: Dropping of nuisance columns in DataFrame reductions (with 'numeric_only=None') is deprecated; in a future version this will raise TypeError.  Select only valid columns before calling the reduction.\n",
      "  distances['Dmin'] = distances.min(axis=1)\n",
      "C:\\Users\\marle\\AppData\\Local\\Temp\\ipykernel_9392\\3509140279.py:16: FutureWarning: The frame.append method is deprecated and will be removed from pandas in a future version. Use pandas.concat instead.\n",
      "  df_results = df_results.append(dict_results, ignore_index=True)\n",
      "C:\\Users\\marle\\OneDrive - tbs-education\\00_Masterarbeit\\Code\\notebooks\\..\\src\\co2_modells.py:29: SettingWithCopyWarning: \n",
      "A value is trying to be set on a copy of a slice from a DataFrame.\n",
      "Try using .loc[row_indexer,col_indexer] = value instead\n",
      "\n",
      "See the caveats in the documentation: https://pandas.pydata.org/pandas-docs/stable/user_guide/indexing.html#returning-a-view-versus-a-copy\n",
      "  df[\"Sender weight (kg)\"] = df[\"Sender weight (kg)\"]*volume\n",
      "\u001b[32m2023-08-12 07:47:19.813\u001b[0m | \u001b[1mINFO    \u001b[0m | \u001b[36msrc.co2_modells\u001b[0m:\u001b[36mpreprocessing_modelling\u001b[0m:\u001b[36m38\u001b[0m - \u001b[1m192.75\u001b[0m\n",
      "\u001b[32m2023-08-12 07:47:19.829\u001b[0m | \u001b[1mINFO    \u001b[0m | \u001b[36msrc.co2_modells\u001b[0m:\u001b[36mco2_modell\u001b[0m:\u001b[36m71\u001b[0m - \u001b[1m0.7803076923076923\u001b[0m\n"
     ]
    },
    {
     "name": "stdout",
     "output_type": "stream",
     "text": [
      "Total processing time: 10.734375\n",
      "(310, 7)\n"
     ]
    },
    {
     "name": "stderr",
     "output_type": "stream",
     "text": [
      "C:\\Users\\marle\\OneDrive - tbs-education\\00_Masterarbeit\\Code\\notebooks\\..\\src\\create_solution.py:55: FutureWarning: Dropping of nuisance columns in DataFrame reductions (with 'numeric_only=None') is deprecated; in a future version this will raise TypeError.  Select only valid columns before calling the reduction.\n",
      "  distances['Dmin'] = distances.min(axis=1)\n",
      "C:\\Users\\marle\\AppData\\Local\\Temp\\ipykernel_9392\\3509140279.py:16: FutureWarning: The frame.append method is deprecated and will be removed from pandas in a future version. Use pandas.concat instead.\n",
      "  df_results = df_results.append(dict_results, ignore_index=True)\n",
      "C:\\Users\\marle\\OneDrive - tbs-education\\00_Masterarbeit\\Code\\notebooks\\..\\src\\co2_modells.py:29: SettingWithCopyWarning: \n",
      "A value is trying to be set on a copy of a slice from a DataFrame.\n",
      "Try using .loc[row_indexer,col_indexer] = value instead\n",
      "\n",
      "See the caveats in the documentation: https://pandas.pydata.org/pandas-docs/stable/user_guide/indexing.html#returning-a-view-versus-a-copy\n",
      "  df[\"Sender weight (kg)\"] = df[\"Sender weight (kg)\"]*volume\n",
      "\u001b[32m2023-08-12 07:47:30.022\u001b[0m | \u001b[1mINFO    \u001b[0m | \u001b[36msrc.co2_modells\u001b[0m:\u001b[36mpreprocessing_modelling\u001b[0m:\u001b[36m38\u001b[0m - \u001b[1m156.0\u001b[0m\n",
      "\u001b[32m2023-08-12 07:47:30.032\u001b[0m | \u001b[1mINFO    \u001b[0m | \u001b[36msrc.co2_modells\u001b[0m:\u001b[36mco2_modell\u001b[0m:\u001b[36m71\u001b[0m - \u001b[1m0.5243076923076923\u001b[0m\n"
     ]
    },
    {
     "name": "stdout",
     "output_type": "stream",
     "text": [
      "Total processing time: 8.5625\n",
      "(262, 7)\n"
     ]
    },
    {
     "name": "stderr",
     "output_type": "stream",
     "text": [
      "C:\\Users\\marle\\OneDrive - tbs-education\\00_Masterarbeit\\Code\\notebooks\\..\\src\\create_solution.py:55: FutureWarning: Dropping of nuisance columns in DataFrame reductions (with 'numeric_only=None') is deprecated; in a future version this will raise TypeError.  Select only valid columns before calling the reduction.\n",
      "  distances['Dmin'] = distances.min(axis=1)\n",
      "C:\\Users\\marle\\AppData\\Local\\Temp\\ipykernel_9392\\3509140279.py:16: FutureWarning: The frame.append method is deprecated and will be removed from pandas in a future version. Use pandas.concat instead.\n",
      "  df_results = df_results.append(dict_results, ignore_index=True)\n",
      "\u001b[32m2023-08-12 07:47:41.228\u001b[0m | \u001b[1mINFO    \u001b[0m | \u001b[36msrc.co2_modells\u001b[0m:\u001b[36mpreprocessing_modelling\u001b[0m:\u001b[36m38\u001b[0m - \u001b[1mnan\u001b[0m\n",
      "C:\\Users\\marle\\OneDrive - tbs-education\\00_Masterarbeit\\Code\\notebooks\\..\\src\\co2_modells.py:29: SettingWithCopyWarning: \n",
      "A value is trying to be set on a copy of a slice from a DataFrame.\n",
      "Try using .loc[row_indexer,col_indexer] = value instead\n",
      "\n",
      "See the caveats in the documentation: https://pandas.pydata.org/pandas-docs/stable/user_guide/indexing.html#returning-a-view-versus-a-copy\n",
      "  df[\"Sender weight (kg)\"] = df[\"Sender weight (kg)\"]*volume\n",
      "\u001b[32m2023-08-12 07:47:41.245\u001b[0m | \u001b[1mINFO    \u001b[0m | \u001b[36msrc.co2_modells\u001b[0m:\u001b[36mpreprocessing_modelling\u001b[0m:\u001b[36m38\u001b[0m - \u001b[1m966.49\u001b[0m\n",
      "\u001b[32m2023-08-12 07:47:41.267\u001b[0m | \u001b[1mINFO    \u001b[0m | \u001b[36msrc.co2_modells\u001b[0m:\u001b[36mco2_modell\u001b[0m:\u001b[36m71\u001b[0m - \u001b[1m2.9781538461538464\u001b[0m\n"
     ]
    },
    {
     "name": "stdout",
     "output_type": "stream",
     "text": [
      "Total processing time: 10.46875\n",
      "(0, 10)\n",
      "No deliveries from 2022-01-15 to 2022-01-16\n",
      "(269, 7)\n"
     ]
    },
    {
     "name": "stderr",
     "output_type": "stream",
     "text": [
      "C:\\Users\\marle\\OneDrive - tbs-education\\00_Masterarbeit\\Code\\notebooks\\..\\src\\create_solution.py:55: FutureWarning: Dropping of nuisance columns in DataFrame reductions (with 'numeric_only=None') is deprecated; in a future version this will raise TypeError.  Select only valid columns before calling the reduction.\n",
      "  distances['Dmin'] = distances.min(axis=1)\n",
      "C:\\Users\\marle\\AppData\\Local\\Temp\\ipykernel_9392\\3509140279.py:16: FutureWarning: The frame.append method is deprecated and will be removed from pandas in a future version. Use pandas.concat instead.\n",
      "  df_results = df_results.append(dict_results, ignore_index=True)\n",
      "C:\\Users\\marle\\OneDrive - tbs-education\\00_Masterarbeit\\Code\\notebooks\\..\\src\\co2_modells.py:29: SettingWithCopyWarning: \n",
      "A value is trying to be set on a copy of a slice from a DataFrame.\n",
      "Try using .loc[row_indexer,col_indexer] = value instead\n",
      "\n",
      "See the caveats in the documentation: https://pandas.pydata.org/pandas-docs/stable/user_guide/indexing.html#returning-a-view-versus-a-copy\n",
      "  df[\"Sender weight (kg)\"] = df[\"Sender weight (kg)\"]*volume\n",
      "\u001b[32m2023-08-12 07:47:52.500\u001b[0m | \u001b[1mINFO    \u001b[0m | \u001b[36msrc.co2_modells\u001b[0m:\u001b[36mpreprocessing_modelling\u001b[0m:\u001b[36m38\u001b[0m - \u001b[1m590.24\u001b[0m\n",
      "\u001b[32m2023-08-12 07:47:52.512\u001b[0m | \u001b[1mINFO    \u001b[0m | \u001b[36msrc.co2_modells\u001b[0m:\u001b[36mco2_modell\u001b[0m:\u001b[36m71\u001b[0m - \u001b[1m2.175307692307692\u001b[0m\n"
     ]
    },
    {
     "name": "stdout",
     "output_type": "stream",
     "text": [
      "Total processing time: 10.90625\n",
      "(247, 7)\n"
     ]
    },
    {
     "name": "stderr",
     "output_type": "stream",
     "text": [
      "C:\\Users\\marle\\OneDrive - tbs-education\\00_Masterarbeit\\Code\\notebooks\\..\\src\\create_solution.py:55: FutureWarning: Dropping of nuisance columns in DataFrame reductions (with 'numeric_only=None') is deprecated; in a future version this will raise TypeError.  Select only valid columns before calling the reduction.\n",
      "  distances['Dmin'] = distances.min(axis=1)\n",
      "C:\\Users\\marle\\AppData\\Local\\Temp\\ipykernel_9392\\3509140279.py:16: FutureWarning: The frame.append method is deprecated and will be removed from pandas in a future version. Use pandas.concat instead.\n",
      "  df_results = df_results.append(dict_results, ignore_index=True)\n",
      "C:\\Users\\marle\\OneDrive - tbs-education\\00_Masterarbeit\\Code\\notebooks\\..\\src\\co2_modells.py:29: SettingWithCopyWarning: \n",
      "A value is trying to be set on a copy of a slice from a DataFrame.\n",
      "Try using .loc[row_indexer,col_indexer] = value instead\n",
      "\n",
      "See the caveats in the documentation: https://pandas.pydata.org/pandas-docs/stable/user_guide/indexing.html#returning-a-view-versus-a-copy\n",
      "  df[\"Sender weight (kg)\"] = df[\"Sender weight (kg)\"]*volume\n",
      "\u001b[32m2023-08-12 07:48:02.676\u001b[0m | \u001b[1mINFO    \u001b[0m | \u001b[36msrc.co2_modells\u001b[0m:\u001b[36mpreprocessing_modelling\u001b[0m:\u001b[36m38\u001b[0m - \u001b[1m952.98\u001b[0m\n",
      "\u001b[32m2023-08-12 07:48:02.696\u001b[0m | \u001b[1mINFO    \u001b[0m | \u001b[36msrc.co2_modells\u001b[0m:\u001b[36mco2_modell\u001b[0m:\u001b[36m71\u001b[0m - \u001b[1m3.161153846153846\u001b[0m\n"
     ]
    },
    {
     "name": "stdout",
     "output_type": "stream",
     "text": [
      "Total processing time: 9.703125\n",
      "(257, 7)\n"
     ]
    },
    {
     "name": "stderr",
     "output_type": "stream",
     "text": [
      "C:\\Users\\marle\\OneDrive - tbs-education\\00_Masterarbeit\\Code\\notebooks\\..\\src\\create_solution.py:55: FutureWarning: Dropping of nuisance columns in DataFrame reductions (with 'numeric_only=None') is deprecated; in a future version this will raise TypeError.  Select only valid columns before calling the reduction.\n",
      "  distances['Dmin'] = distances.min(axis=1)\n",
      "C:\\Users\\marle\\AppData\\Local\\Temp\\ipykernel_9392\\3509140279.py:16: FutureWarning: The frame.append method is deprecated and will be removed from pandas in a future version. Use pandas.concat instead.\n",
      "  df_results = df_results.append(dict_results, ignore_index=True)\n",
      "C:\\Users\\marle\\OneDrive - tbs-education\\00_Masterarbeit\\Code\\notebooks\\..\\src\\co2_modells.py:29: SettingWithCopyWarning: \n",
      "A value is trying to be set on a copy of a slice from a DataFrame.\n",
      "Try using .loc[row_indexer,col_indexer] = value instead\n",
      "\n",
      "See the caveats in the documentation: https://pandas.pydata.org/pandas-docs/stable/user_guide/indexing.html#returning-a-view-versus-a-copy\n",
      "  df[\"Sender weight (kg)\"] = df[\"Sender weight (kg)\"]*volume\n",
      "\u001b[32m2023-08-12 07:48:14.000\u001b[0m | \u001b[1mINFO    \u001b[0m | \u001b[36msrc.co2_modells\u001b[0m:\u001b[36mpreprocessing_modelling\u001b[0m:\u001b[36m38\u001b[0m - \u001b[1m963.75\u001b[0m\n",
      "\u001b[32m2023-08-12 07:48:14.027\u001b[0m | \u001b[1mINFO    \u001b[0m | \u001b[36msrc.co2_modells\u001b[0m:\u001b[36mco2_modell\u001b[0m:\u001b[36m71\u001b[0m - \u001b[1m3.948923076923077\u001b[0m\n"
     ]
    },
    {
     "name": "stdout",
     "output_type": "stream",
     "text": [
      "Total processing time: 10.546875\n",
      "(310, 7)\n"
     ]
    },
    {
     "name": "stderr",
     "output_type": "stream",
     "text": [
      "C:\\Users\\marle\\OneDrive - tbs-education\\00_Masterarbeit\\Code\\notebooks\\..\\src\\create_solution.py:55: FutureWarning: Dropping of nuisance columns in DataFrame reductions (with 'numeric_only=None') is deprecated; in a future version this will raise TypeError.  Select only valid columns before calling the reduction.\n",
      "  distances['Dmin'] = distances.min(axis=1)\n",
      "C:\\Users\\marle\\AppData\\Local\\Temp\\ipykernel_9392\\3509140279.py:16: FutureWarning: The frame.append method is deprecated and will be removed from pandas in a future version. Use pandas.concat instead.\n",
      "  df_results = df_results.append(dict_results, ignore_index=True)\n",
      "C:\\Users\\marle\\OneDrive - tbs-education\\00_Masterarbeit\\Code\\notebooks\\..\\src\\co2_modells.py:29: SettingWithCopyWarning: \n",
      "A value is trying to be set on a copy of a slice from a DataFrame.\n",
      "Try using .loc[row_indexer,col_indexer] = value instead\n",
      "\n",
      "See the caveats in the documentation: https://pandas.pydata.org/pandas-docs/stable/user_guide/indexing.html#returning-a-view-versus-a-copy\n",
      "  df[\"Sender weight (kg)\"] = df[\"Sender weight (kg)\"]*volume\n",
      "\u001b[32m2023-08-12 07:48:24.340\u001b[0m | \u001b[1mINFO    \u001b[0m | \u001b[36msrc.co2_modells\u001b[0m:\u001b[36mpreprocessing_modelling\u001b[0m:\u001b[36m38\u001b[0m - \u001b[1m780.0\u001b[0m\n",
      "\u001b[32m2023-08-12 07:48:24.356\u001b[0m | \u001b[1mINFO    \u001b[0m | \u001b[36msrc.co2_modells\u001b[0m:\u001b[36mco2_modell\u001b[0m:\u001b[36m71\u001b[0m - \u001b[1m2.6573076923076924\u001b[0m\n"
     ]
    },
    {
     "name": "stdout",
     "output_type": "stream",
     "text": [
      "Total processing time: 10.0\n",
      "(262, 7)\n"
     ]
    },
    {
     "name": "stderr",
     "output_type": "stream",
     "text": [
      "C:\\Users\\marle\\OneDrive - tbs-education\\00_Masterarbeit\\Code\\notebooks\\..\\src\\create_solution.py:55: FutureWarning: Dropping of nuisance columns in DataFrame reductions (with 'numeric_only=None') is deprecated; in a future version this will raise TypeError.  Select only valid columns before calling the reduction.\n",
      "  distances['Dmin'] = distances.min(axis=1)\n",
      "C:\\Users\\marle\\AppData\\Local\\Temp\\ipykernel_9392\\3509140279.py:16: FutureWarning: The frame.append method is deprecated and will be removed from pandas in a future version. Use pandas.concat instead.\n",
      "  df_results = df_results.append(dict_results, ignore_index=True)\n",
      "\u001b[32m2023-08-12 07:48:35.762\u001b[0m | \u001b[1mINFO    \u001b[0m | \u001b[36msrc.co2_modells\u001b[0m:\u001b[36mpreprocessing_modelling\u001b[0m:\u001b[36m38\u001b[0m - \u001b[1mnan\u001b[0m\n",
      "C:\\Users\\marle\\OneDrive - tbs-education\\00_Masterarbeit\\Code\\notebooks\\..\\src\\co2_modells.py:29: SettingWithCopyWarning: \n",
      "A value is trying to be set on a copy of a slice from a DataFrame.\n",
      "Try using .loc[row_indexer,col_indexer] = value instead\n",
      "\n",
      "See the caveats in the documentation: https://pandas.pydata.org/pandas-docs/stable/user_guide/indexing.html#returning-a-view-versus-a-copy\n",
      "  df[\"Sender weight (kg)\"] = df[\"Sender weight (kg)\"]*volume\n",
      "\u001b[32m2023-08-12 07:48:35.796\u001b[0m | \u001b[1mINFO    \u001b[0m | \u001b[36msrc.co2_modells\u001b[0m:\u001b[36mpreprocessing_modelling\u001b[0m:\u001b[36m38\u001b[0m - \u001b[1m1932.98\u001b[0m\n",
      "\u001b[32m2023-08-12 07:48:35.815\u001b[0m | \u001b[1mINFO    \u001b[0m | \u001b[36msrc.co2_modells\u001b[0m:\u001b[36mco2_modell\u001b[0m:\u001b[36m71\u001b[0m - \u001b[1m5.967076923076923\u001b[0m\n"
     ]
    },
    {
     "name": "stdout",
     "output_type": "stream",
     "text": [
      "Total processing time: 10.25\n",
      "(0, 10)\n",
      "No deliveries from 2022-01-15 to 2022-01-16\n",
      "(269, 7)\n"
     ]
    },
    {
     "name": "stderr",
     "output_type": "stream",
     "text": [
      "C:\\Users\\marle\\OneDrive - tbs-education\\00_Masterarbeit\\Code\\notebooks\\..\\src\\create_solution.py:55: FutureWarning: Dropping of nuisance columns in DataFrame reductions (with 'numeric_only=None') is deprecated; in a future version this will raise TypeError.  Select only valid columns before calling the reduction.\n",
      "  distances['Dmin'] = distances.min(axis=1)\n",
      "C:\\Users\\marle\\AppData\\Local\\Temp\\ipykernel_9392\\3509140279.py:16: FutureWarning: The frame.append method is deprecated and will be removed from pandas in a future version. Use pandas.concat instead.\n",
      "  df_results = df_results.append(dict_results, ignore_index=True)\n",
      "C:\\Users\\marle\\OneDrive - tbs-education\\00_Masterarbeit\\Code\\notebooks\\..\\src\\co2_modells.py:29: SettingWithCopyWarning: \n",
      "A value is trying to be set on a copy of a slice from a DataFrame.\n",
      "Try using .loc[row_indexer,col_indexer] = value instead\n",
      "\n",
      "See the caveats in the documentation: https://pandas.pydata.org/pandas-docs/stable/user_guide/indexing.html#returning-a-view-versus-a-copy\n",
      "  df[\"Sender weight (kg)\"] = df[\"Sender weight (kg)\"]*volume\n",
      "\u001b[32m2023-08-12 07:48:47.118\u001b[0m | \u001b[1mINFO    \u001b[0m | \u001b[36msrc.co2_modells\u001b[0m:\u001b[36mpreprocessing_modelling\u001b[0m:\u001b[36m38\u001b[0m - \u001b[1m1180.48\u001b[0m\n",
      "\u001b[32m2023-08-12 07:48:47.137\u001b[0m | \u001b[1mINFO    \u001b[0m | \u001b[36msrc.co2_modells\u001b[0m:\u001b[36mco2_modell\u001b[0m:\u001b[36m71\u001b[0m - \u001b[1m4.360230769230769\u001b[0m\n"
     ]
    },
    {
     "name": "stdout",
     "output_type": "stream",
     "text": [
      "Total processing time: 10.171875\n",
      "(247, 7)\n"
     ]
    },
    {
     "name": "stderr",
     "output_type": "stream",
     "text": [
      "C:\\Users\\marle\\OneDrive - tbs-education\\00_Masterarbeit\\Code\\notebooks\\..\\src\\create_solution.py:55: FutureWarning: Dropping of nuisance columns in DataFrame reductions (with 'numeric_only=None') is deprecated; in a future version this will raise TypeError.  Select only valid columns before calling the reduction.\n",
      "  distances['Dmin'] = distances.min(axis=1)\n",
      "C:\\Users\\marle\\AppData\\Local\\Temp\\ipykernel_9392\\3509140279.py:16: FutureWarning: The frame.append method is deprecated and will be removed from pandas in a future version. Use pandas.concat instead.\n",
      "  df_results = df_results.append(dict_results, ignore_index=True)\n",
      "C:\\Users\\marle\\OneDrive - tbs-education\\00_Masterarbeit\\Code\\notebooks\\..\\src\\co2_modells.py:29: SettingWithCopyWarning: \n",
      "A value is trying to be set on a copy of a slice from a DataFrame.\n",
      "Try using .loc[row_indexer,col_indexer] = value instead\n",
      "\n",
      "See the caveats in the documentation: https://pandas.pydata.org/pandas-docs/stable/user_guide/indexing.html#returning-a-view-versus-a-copy\n",
      "  df[\"Sender weight (kg)\"] = df[\"Sender weight (kg)\"]*volume\n",
      "\u001b[32m2023-08-12 07:48:57.350\u001b[0m | \u001b[1mINFO    \u001b[0m | \u001b[36msrc.co2_modells\u001b[0m:\u001b[36mpreprocessing_modelling\u001b[0m:\u001b[36m38\u001b[0m - \u001b[1m1905.96\u001b[0m\n",
      "\u001b[32m2023-08-12 07:48:57.373\u001b[0m | \u001b[1mINFO    \u001b[0m | \u001b[36msrc.co2_modells\u001b[0m:\u001b[36mco2_modell\u001b[0m:\u001b[36m71\u001b[0m - \u001b[1m6.331615384615384\u001b[0m\n"
     ]
    },
    {
     "name": "stdout",
     "output_type": "stream",
     "text": [
      "Total processing time: 9.9375\n",
      "(257, 7)\n"
     ]
    },
    {
     "name": "stderr",
     "output_type": "stream",
     "text": [
      "C:\\Users\\marle\\OneDrive - tbs-education\\00_Masterarbeit\\Code\\notebooks\\..\\src\\create_solution.py:55: FutureWarning: Dropping of nuisance columns in DataFrame reductions (with 'numeric_only=None') is deprecated; in a future version this will raise TypeError.  Select only valid columns before calling the reduction.\n",
      "  distances['Dmin'] = distances.min(axis=1)\n",
      "C:\\Users\\marle\\AppData\\Local\\Temp\\ipykernel_9392\\3509140279.py:16: FutureWarning: The frame.append method is deprecated and will be removed from pandas in a future version. Use pandas.concat instead.\n",
      "  df_results = df_results.append(dict_results, ignore_index=True)\n",
      "C:\\Users\\marle\\OneDrive - tbs-education\\00_Masterarbeit\\Code\\notebooks\\..\\src\\co2_modells.py:29: SettingWithCopyWarning: \n",
      "A value is trying to be set on a copy of a slice from a DataFrame.\n",
      "Try using .loc[row_indexer,col_indexer] = value instead\n",
      "\n",
      "See the caveats in the documentation: https://pandas.pydata.org/pandas-docs/stable/user_guide/indexing.html#returning-a-view-versus-a-copy\n",
      "  df[\"Sender weight (kg)\"] = df[\"Sender weight (kg)\"]*volume\n",
      "\u001b[32m2023-08-12 07:49:08.621\u001b[0m | \u001b[1mINFO    \u001b[0m | \u001b[36msrc.co2_modells\u001b[0m:\u001b[36mpreprocessing_modelling\u001b[0m:\u001b[36m38\u001b[0m - \u001b[1m1927.5\u001b[0m\n",
      "\u001b[32m2023-08-12 07:49:08.652\u001b[0m | \u001b[1mINFO    \u001b[0m | \u001b[36msrc.co2_modells\u001b[0m:\u001b[36mco2_modell\u001b[0m:\u001b[36m71\u001b[0m - \u001b[1m7.909153846153846\u001b[0m\n"
     ]
    },
    {
     "name": "stdout",
     "output_type": "stream",
     "text": [
      "Total processing time: 10.34375\n",
      "(310, 7)\n"
     ]
    },
    {
     "name": "stderr",
     "output_type": "stream",
     "text": [
      "C:\\Users\\marle\\OneDrive - tbs-education\\00_Masterarbeit\\Code\\notebooks\\..\\src\\create_solution.py:55: FutureWarning: Dropping of nuisance columns in DataFrame reductions (with 'numeric_only=None') is deprecated; in a future version this will raise TypeError.  Select only valid columns before calling the reduction.\n",
      "  distances['Dmin'] = distances.min(axis=1)\n",
      "C:\\Users\\marle\\AppData\\Local\\Temp\\ipykernel_9392\\3509140279.py:16: FutureWarning: The frame.append method is deprecated and will be removed from pandas in a future version. Use pandas.concat instead.\n",
      "  df_results = df_results.append(dict_results, ignore_index=True)\n",
      "C:\\Users\\marle\\OneDrive - tbs-education\\00_Masterarbeit\\Code\\notebooks\\..\\src\\co2_modells.py:29: SettingWithCopyWarning: \n",
      "A value is trying to be set on a copy of a slice from a DataFrame.\n",
      "Try using .loc[row_indexer,col_indexer] = value instead\n",
      "\n",
      "See the caveats in the documentation: https://pandas.pydata.org/pandas-docs/stable/user_guide/indexing.html#returning-a-view-versus-a-copy\n",
      "  df[\"Sender weight (kg)\"] = df[\"Sender weight (kg)\"]*volume\n",
      "\u001b[32m2023-08-12 07:49:18.803\u001b[0m | \u001b[1mINFO    \u001b[0m | \u001b[36msrc.co2_modells\u001b[0m:\u001b[36mpreprocessing_modelling\u001b[0m:\u001b[36m38\u001b[0m - \u001b[1m1560.0\u001b[0m\n",
      "\u001b[32m2023-08-12 07:49:18.825\u001b[0m | \u001b[1mINFO    \u001b[0m | \u001b[36msrc.co2_modells\u001b[0m:\u001b[36mco2_modell\u001b[0m:\u001b[36m71\u001b[0m - \u001b[1m5.324692307692308\u001b[0m\n"
     ]
    },
    {
     "name": "stdout",
     "output_type": "stream",
     "text": [
      "Total processing time: 9.9375\n",
      "(262, 7)\n"
     ]
    },
    {
     "name": "stderr",
     "output_type": "stream",
     "text": [
      "C:\\Users\\marle\\OneDrive - tbs-education\\00_Masterarbeit\\Code\\notebooks\\..\\src\\create_solution.py:55: FutureWarning: Dropping of nuisance columns in DataFrame reductions (with 'numeric_only=None') is deprecated; in a future version this will raise TypeError.  Select only valid columns before calling the reduction.\n",
      "  distances['Dmin'] = distances.min(axis=1)\n",
      "C:\\Users\\marle\\AppData\\Local\\Temp\\ipykernel_9392\\3509140279.py:16: FutureWarning: The frame.append method is deprecated and will be removed from pandas in a future version. Use pandas.concat instead.\n",
      "  df_results = df_results.append(dict_results, ignore_index=True)\n",
      "\u001b[32m2023-08-12 07:49:30.010\u001b[0m | \u001b[1mINFO    \u001b[0m | \u001b[36msrc.co2_modells\u001b[0m:\u001b[36mpreprocessing_modelling\u001b[0m:\u001b[36m38\u001b[0m - \u001b[1mnan\u001b[0m\n"
     ]
    },
    {
     "name": "stdout",
     "output_type": "stream",
     "text": [
      "Total processing time: 10.828125\n",
      "(0, 10)\n",
      "No deliveries from 2022-01-15 to 2022-01-16\n"
     ]
    },
    {
     "data": {
      "text/html": [
       "<div>\n",
       "<style scoped>\n",
       "    .dataframe tbody tr th:only-of-type {\n",
       "        vertical-align: middle;\n",
       "    }\n",
       "\n",
       "    .dataframe tbody tr th {\n",
       "        vertical-align: top;\n",
       "    }\n",
       "\n",
       "    .dataframe thead th {\n",
       "        text-align: right;\n",
       "    }\n",
       "</style>\n",
       "<table border=\"1\" class=\"dataframe\">\n",
       "  <thead>\n",
       "    <tr style=\"text-align: right;\">\n",
       "      <th></th>\n",
       "      <th>date from</th>\n",
       "      <th>date to</th>\n",
       "      <th>co2 road</th>\n",
       "      <th>distance road</th>\n",
       "      <th>routes road</th>\n",
       "      <th>processing time road</th>\n",
       "      <th>co2 railroad</th>\n",
       "      <th>distance railroad</th>\n",
       "      <th>terminal allocation</th>\n",
       "      <th>routes railroad</th>\n",
       "      <th>processing time railroad</th>\n",
       "      <th>volume</th>\n",
       "    </tr>\n",
       "  </thead>\n",
       "  <tbody>\n",
       "    <tr>\n",
       "      <th>0</th>\n",
       "      <td>2022-01-10 10:25:00</td>\n",
       "      <td>2022-01-10 16:11:00</td>\n",
       "      <td>9186.981177</td>\n",
       "      <td>10517752</td>\n",
       "      <td>[[DC1, C768, C464, C453, C119, C547, C34, C27,...</td>\n",
       "      <td>0.890625</td>\n",
       "      <td>11464.743290</td>\n",
       "      <td>17311396.0</td>\n",
       "      <td>[[C16, C300, C194, C124, C353, C113, C661, C69...</td>\n",
       "      <td>{'T1': [['T1', 'C935', 'C284', 'C238', 'C196',...</td>\n",
       "      <td>9.750000</td>\n",
       "      <td>1.0</td>\n",
       "    </tr>\n",
       "    <tr>\n",
       "      <th>1</th>\n",
       "      <td>2022-01-11 07:44:00</td>\n",
       "      <td>2022-01-11 17:24:00</td>\n",
       "      <td>8286.805958</td>\n",
       "      <td>9627526</td>\n",
       "      <td>[[DC1, C464, C500, C529, C119, C547, C34, C27,...</td>\n",
       "      <td>0.937500</td>\n",
       "      <td>10277.345097</td>\n",
       "      <td>15348692.0</td>\n",
       "      <td>[[C664, C16, C698, C300, C194, C124, C697, C77...</td>\n",
       "      <td>{'T1': [['T1', 'C284', 'C238', 'C55', 'C883', ...</td>\n",
       "      <td>9.031250</td>\n",
       "      <td>1.0</td>\n",
       "    </tr>\n",
       "    <tr>\n",
       "      <th>2</th>\n",
       "      <td>2022-01-12 05:07:00</td>\n",
       "      <td>2022-01-12 16:11:00</td>\n",
       "      <td>10077.126761</td>\n",
       "      <td>11492696</td>\n",
       "      <td>[[DC1, C768, C464, C500, C529, C119, C599, C27...</td>\n",
       "      <td>0.906250</td>\n",
       "      <td>11497.024239</td>\n",
       "      <td>17319089.0</td>\n",
       "      <td>[[C16, C698, C300, C194, C676, C697, C778, C35...</td>\n",
       "      <td>{'T1': [['T1', 'C284', 'C238', 'C617', 'C369',...</td>\n",
       "      <td>9.828125</td>\n",
       "      <td>1.0</td>\n",
       "    </tr>\n",
       "    <tr>\n",
       "      <th>3</th>\n",
       "      <td>2022-01-13 07:17:00</td>\n",
       "      <td>2022-01-13 16:40:00</td>\n",
       "      <td>9659.940215</td>\n",
       "      <td>10821807</td>\n",
       "      <td>[[DC1, C464, C500, C529, C451, C453, C1126, C7...</td>\n",
       "      <td>0.953125</td>\n",
       "      <td>10974.386166</td>\n",
       "      <td>16126498.0</td>\n",
       "      <td>[[C16, C300, C194, C676, C850, C124, C697, C35...</td>\n",
       "      <td>{'T1': [['T1', 'C850', 'C676', 'C16', 'C300', ...</td>\n",
       "      <td>7.609375</td>\n",
       "      <td>1.0</td>\n",
       "    </tr>\n",
       "    <tr>\n",
       "      <th>4</th>\n",
       "      <td>2022-01-14 10:47:00</td>\n",
       "      <td>2022-01-14 15:34:00</td>\n",
       "      <td>9712.639811</td>\n",
       "      <td>11173433</td>\n",
       "      <td>[[DC1, C500, C464, C453, C451, C119, C34, C27,...</td>\n",
       "      <td>0.875000</td>\n",
       "      <td>11286.926399</td>\n",
       "      <td>17084124.0</td>\n",
       "      <td>[[C664, C16, C698, C300, C194, C341, C676, C85...</td>\n",
       "      <td>{'T1': [['T1', 'C935', 'C284', 'C238', 'C55', ...</td>\n",
       "      <td>9.593750</td>\n",
       "      <td>1.0</td>\n",
       "    </tr>\n",
       "    <tr>\n",
       "      <th>5</th>\n",
       "      <td>2022-01-10 10:25:00</td>\n",
       "      <td>2022-01-10 16:11:00</td>\n",
       "      <td>11181.676858</td>\n",
       "      <td>12227104</td>\n",
       "      <td>[[DC1, C1427, C143, C817, C44, C32, C479, C489...</td>\n",
       "      <td>0.875000</td>\n",
       "      <td>11677.392995</td>\n",
       "      <td>17011709.0</td>\n",
       "      <td>[[C16, C300, C194, C124, C353, C113, C661, C69...</td>\n",
       "      <td>{'T1': [['T1', 'C935', 'C284', 'C238', 'C196',...</td>\n",
       "      <td>10.031250</td>\n",
       "      <td>5.0</td>\n",
       "    </tr>\n",
       "    <tr>\n",
       "      <th>6</th>\n",
       "      <td>2022-01-11 07:44:00</td>\n",
       "      <td>2022-01-11 17:24:00</td>\n",
       "      <td>9957.152277</td>\n",
       "      <td>11041756</td>\n",
       "      <td>[[DC1, C151, C558, C514, C31, C264, C922, C627...</td>\n",
       "      <td>0.875000</td>\n",
       "      <td>10616.292880</td>\n",
       "      <td>15348692.0</td>\n",
       "      <td>[[C664, C16, C698, C300, C194, C124, C697, C77...</td>\n",
       "      <td>{'T1': [['T1', 'C284', 'C238', 'C55', 'C883', ...</td>\n",
       "      <td>8.828125</td>\n",
       "      <td>5.0</td>\n",
       "    </tr>\n",
       "    <tr>\n",
       "      <th>7</th>\n",
       "      <td>2022-01-12 05:07:00</td>\n",
       "      <td>2022-01-12 16:11:00</td>\n",
       "      <td>11957.960639</td>\n",
       "      <td>13251572</td>\n",
       "      <td>[[DC1, C529, C305, C321, C4, C554, C27, C599, ...</td>\n",
       "      <td>1.000000</td>\n",
       "      <td>12055.508230</td>\n",
       "      <td>17359914.0</td>\n",
       "      <td>[[C16, C698, C300, C194, C676, C697, C778, C35...</td>\n",
       "      <td>{'T1': [['T1', 'C676', 'C698', 'C16', 'C300', ...</td>\n",
       "      <td>9.546875</td>\n",
       "      <td>5.0</td>\n",
       "    </tr>\n",
       "    <tr>\n",
       "      <th>8</th>\n",
       "      <td>2022-01-13 07:17:00</td>\n",
       "      <td>2022-01-13 16:40:00</td>\n",
       "      <td>13111.109579</td>\n",
       "      <td>14277916</td>\n",
       "      <td>[[DC1, C1126, C4, C305, C512, C542, C165, C543...</td>\n",
       "      <td>0.875000</td>\n",
       "      <td>11799.785397</td>\n",
       "      <td>16411650.0</td>\n",
       "      <td>[[C16, C300, C194, C676, C850, C124, C697, C35...</td>\n",
       "      <td>{'T1': [['T1', 'C850', 'C676', 'C16', 'C300', ...</td>\n",
       "      <td>9.125000</td>\n",
       "      <td>5.0</td>\n",
       "    </tr>\n",
       "    <tr>\n",
       "      <th>9</th>\n",
       "      <td>2022-01-14 10:47:00</td>\n",
       "      <td>2022-01-14 15:34:00</td>\n",
       "      <td>11254.005618</td>\n",
       "      <td>12367379</td>\n",
       "      <td>[[DC1, C453, C478, C730, C75, C482, C855, C42,...</td>\n",
       "      <td>1.000000</td>\n",
       "      <td>11762.817153</td>\n",
       "      <td>17084370.0</td>\n",
       "      <td>[[C664, C16, C698, C300, C194, C341, C676, C85...</td>\n",
       "      <td>{'T1': [['T1', 'C1181', 'C850', 'C676', 'C300'...</td>\n",
       "      <td>9.250000</td>\n",
       "      <td>5.0</td>\n",
       "    </tr>\n",
       "    <tr>\n",
       "      <th>10</th>\n",
       "      <td>2022-01-10 10:25:00</td>\n",
       "      <td>2022-01-10 16:11:00</td>\n",
       "      <td>13279.452097</td>\n",
       "      <td>14632680</td>\n",
       "      <td>[[DC1, C189, C667, C448, C747, C382, C1220, C1...</td>\n",
       "      <td>0.890625</td>\n",
       "      <td>12089.018394</td>\n",
       "      <td>17167896.0</td>\n",
       "      <td>[[C16, C300, C194, C124, C353, C113, C661, C69...</td>\n",
       "      <td>{'T1': [['T1', 'C935', 'C284', 'C238', 'C196',...</td>\n",
       "      <td>9.281250</td>\n",
       "      <td>10.0</td>\n",
       "    </tr>\n",
       "    <tr>\n",
       "      <th>11</th>\n",
       "      <td>2022-01-11 07:44:00</td>\n",
       "      <td>2022-01-11 17:24:00</td>\n",
       "      <td>10893.890929</td>\n",
       "      <td>11946720</td>\n",
       "      <td>[[DC1, C160, C1030, C189, C667, C1194, C1183, ...</td>\n",
       "      <td>0.953125</td>\n",
       "      <td>11301.211581</td>\n",
       "      <td>15748504.0</td>\n",
       "      <td>[[C664, C16, C698, C300, C194, C124, C697, C77...</td>\n",
       "      <td>{'T1': [['T1', 'C284', 'C238', 'C55', 'C883', ...</td>\n",
       "      <td>8.984375</td>\n",
       "      <td>10.0</td>\n",
       "    </tr>\n",
       "    <tr>\n",
       "      <th>12</th>\n",
       "      <td>2022-01-12 05:07:00</td>\n",
       "      <td>2022-01-12 16:11:00</td>\n",
       "      <td>14139.911640</td>\n",
       "      <td>15540783</td>\n",
       "      <td>[[DC1, C1650, C665, C24, C508, C851, C128, C27...</td>\n",
       "      <td>0.843750</td>\n",
       "      <td>12607.992725</td>\n",
       "      <td>17762728.0</td>\n",
       "      <td>[[C16, C698, C300, C194, C676, C697, C778, C35...</td>\n",
       "      <td>{'T1': [['T1', 'C284', 'C238', 'C617', 'C369',...</td>\n",
       "      <td>9.500000</td>\n",
       "      <td>10.0</td>\n",
       "    </tr>\n",
       "    <tr>\n",
       "      <th>13</th>\n",
       "      <td>2022-01-13 07:17:00</td>\n",
       "      <td>2022-01-13 16:40:00</td>\n",
       "      <td>16051.736577</td>\n",
       "      <td>17460269</td>\n",
       "      <td>[[DC1, C298, C322, C309, C1707, C260, C289, C6...</td>\n",
       "      <td>0.984375</td>\n",
       "      <td>12522.187608</td>\n",
       "      <td>16812969.0</td>\n",
       "      <td>[[C16, C300, C194, C676, C850, C124, C697, C35...</td>\n",
       "      <td>{'T1': [['T1', 'C850', 'C676', 'C16', 'C300', ...</td>\n",
       "      <td>8.953125</td>\n",
       "      <td>10.0</td>\n",
       "    </tr>\n",
       "    <tr>\n",
       "      <th>14</th>\n",
       "      <td>2022-01-14 10:47:00</td>\n",
       "      <td>2022-01-14 15:34:00</td>\n",
       "      <td>13768.112092</td>\n",
       "      <td>15113989</td>\n",
       "      <td>[[DC1, C453, C1289, C600, C531, C664, C16, C69...</td>\n",
       "      <td>0.921875</td>\n",
       "      <td>12268.303360</td>\n",
       "      <td>17419790.0</td>\n",
       "      <td>[[C664, C16, C698, C300, C194, C341, C676, C85...</td>\n",
       "      <td>{'T1': [['T1', 'C1181', 'C850', 'C676', 'C300'...</td>\n",
       "      <td>9.906250</td>\n",
       "      <td>10.0</td>\n",
       "    </tr>\n",
       "  </tbody>\n",
       "</table>\n",
       "</div>"
      ],
      "text/plain": [
       "             date from             date to      co2 road distance road  \\\n",
       "0  2022-01-10 10:25:00 2022-01-10 16:11:00   9186.981177      10517752   \n",
       "1  2022-01-11 07:44:00 2022-01-11 17:24:00   8286.805958       9627526   \n",
       "2  2022-01-12 05:07:00 2022-01-12 16:11:00  10077.126761      11492696   \n",
       "3  2022-01-13 07:17:00 2022-01-13 16:40:00   9659.940215      10821807   \n",
       "4  2022-01-14 10:47:00 2022-01-14 15:34:00   9712.639811      11173433   \n",
       "5  2022-01-10 10:25:00 2022-01-10 16:11:00  11181.676858      12227104   \n",
       "6  2022-01-11 07:44:00 2022-01-11 17:24:00   9957.152277      11041756   \n",
       "7  2022-01-12 05:07:00 2022-01-12 16:11:00  11957.960639      13251572   \n",
       "8  2022-01-13 07:17:00 2022-01-13 16:40:00  13111.109579      14277916   \n",
       "9  2022-01-14 10:47:00 2022-01-14 15:34:00  11254.005618      12367379   \n",
       "10 2022-01-10 10:25:00 2022-01-10 16:11:00  13279.452097      14632680   \n",
       "11 2022-01-11 07:44:00 2022-01-11 17:24:00  10893.890929      11946720   \n",
       "12 2022-01-12 05:07:00 2022-01-12 16:11:00  14139.911640      15540783   \n",
       "13 2022-01-13 07:17:00 2022-01-13 16:40:00  16051.736577      17460269   \n",
       "14 2022-01-14 10:47:00 2022-01-14 15:34:00  13768.112092      15113989   \n",
       "\n",
       "                                          routes road  processing time road  \\\n",
       "0   [[DC1, C768, C464, C453, C119, C547, C34, C27,...              0.890625   \n",
       "1   [[DC1, C464, C500, C529, C119, C547, C34, C27,...              0.937500   \n",
       "2   [[DC1, C768, C464, C500, C529, C119, C599, C27...              0.906250   \n",
       "3   [[DC1, C464, C500, C529, C451, C453, C1126, C7...              0.953125   \n",
       "4   [[DC1, C500, C464, C453, C451, C119, C34, C27,...              0.875000   \n",
       "5   [[DC1, C1427, C143, C817, C44, C32, C479, C489...              0.875000   \n",
       "6   [[DC1, C151, C558, C514, C31, C264, C922, C627...              0.875000   \n",
       "7   [[DC1, C529, C305, C321, C4, C554, C27, C599, ...              1.000000   \n",
       "8   [[DC1, C1126, C4, C305, C512, C542, C165, C543...              0.875000   \n",
       "9   [[DC1, C453, C478, C730, C75, C482, C855, C42,...              1.000000   \n",
       "10  [[DC1, C189, C667, C448, C747, C382, C1220, C1...              0.890625   \n",
       "11  [[DC1, C160, C1030, C189, C667, C1194, C1183, ...              0.953125   \n",
       "12  [[DC1, C1650, C665, C24, C508, C851, C128, C27...              0.843750   \n",
       "13  [[DC1, C298, C322, C309, C1707, C260, C289, C6...              0.984375   \n",
       "14  [[DC1, C453, C1289, C600, C531, C664, C16, C69...              0.921875   \n",
       "\n",
       "    co2 railroad  distance railroad  \\\n",
       "0   11464.743290         17311396.0   \n",
       "1   10277.345097         15348692.0   \n",
       "2   11497.024239         17319089.0   \n",
       "3   10974.386166         16126498.0   \n",
       "4   11286.926399         17084124.0   \n",
       "5   11677.392995         17011709.0   \n",
       "6   10616.292880         15348692.0   \n",
       "7   12055.508230         17359914.0   \n",
       "8   11799.785397         16411650.0   \n",
       "9   11762.817153         17084370.0   \n",
       "10  12089.018394         17167896.0   \n",
       "11  11301.211581         15748504.0   \n",
       "12  12607.992725         17762728.0   \n",
       "13  12522.187608         16812969.0   \n",
       "14  12268.303360         17419790.0   \n",
       "\n",
       "                                  terminal allocation  \\\n",
       "0   [[C16, C300, C194, C124, C353, C113, C661, C69...   \n",
       "1   [[C664, C16, C698, C300, C194, C124, C697, C77...   \n",
       "2   [[C16, C698, C300, C194, C676, C697, C778, C35...   \n",
       "3   [[C16, C300, C194, C676, C850, C124, C697, C35...   \n",
       "4   [[C664, C16, C698, C300, C194, C341, C676, C85...   \n",
       "5   [[C16, C300, C194, C124, C353, C113, C661, C69...   \n",
       "6   [[C664, C16, C698, C300, C194, C124, C697, C77...   \n",
       "7   [[C16, C698, C300, C194, C676, C697, C778, C35...   \n",
       "8   [[C16, C300, C194, C676, C850, C124, C697, C35...   \n",
       "9   [[C664, C16, C698, C300, C194, C341, C676, C85...   \n",
       "10  [[C16, C300, C194, C124, C353, C113, C661, C69...   \n",
       "11  [[C664, C16, C698, C300, C194, C124, C697, C77...   \n",
       "12  [[C16, C698, C300, C194, C676, C697, C778, C35...   \n",
       "13  [[C16, C300, C194, C676, C850, C124, C697, C35...   \n",
       "14  [[C664, C16, C698, C300, C194, C341, C676, C85...   \n",
       "\n",
       "                                      routes railroad  \\\n",
       "0   {'T1': [['T1', 'C935', 'C284', 'C238', 'C196',...   \n",
       "1   {'T1': [['T1', 'C284', 'C238', 'C55', 'C883', ...   \n",
       "2   {'T1': [['T1', 'C284', 'C238', 'C617', 'C369',...   \n",
       "3   {'T1': [['T1', 'C850', 'C676', 'C16', 'C300', ...   \n",
       "4   {'T1': [['T1', 'C935', 'C284', 'C238', 'C55', ...   \n",
       "5   {'T1': [['T1', 'C935', 'C284', 'C238', 'C196',...   \n",
       "6   {'T1': [['T1', 'C284', 'C238', 'C55', 'C883', ...   \n",
       "7   {'T1': [['T1', 'C676', 'C698', 'C16', 'C300', ...   \n",
       "8   {'T1': [['T1', 'C850', 'C676', 'C16', 'C300', ...   \n",
       "9   {'T1': [['T1', 'C1181', 'C850', 'C676', 'C300'...   \n",
       "10  {'T1': [['T1', 'C935', 'C284', 'C238', 'C196',...   \n",
       "11  {'T1': [['T1', 'C284', 'C238', 'C55', 'C883', ...   \n",
       "12  {'T1': [['T1', 'C284', 'C238', 'C617', 'C369',...   \n",
       "13  {'T1': [['T1', 'C850', 'C676', 'C16', 'C300', ...   \n",
       "14  {'T1': [['T1', 'C1181', 'C850', 'C676', 'C300'...   \n",
       "\n",
       "    processing time railroad  volume  \n",
       "0                   9.750000     1.0  \n",
       "1                   9.031250     1.0  \n",
       "2                   9.828125     1.0  \n",
       "3                   7.609375     1.0  \n",
       "4                   9.593750     1.0  \n",
       "5                  10.031250     5.0  \n",
       "6                   8.828125     5.0  \n",
       "7                   9.546875     5.0  \n",
       "8                   9.125000     5.0  \n",
       "9                   9.250000     5.0  \n",
       "10                  9.281250    10.0  \n",
       "11                  8.984375    10.0  \n",
       "12                  9.500000    10.0  \n",
       "13                  8.953125    10.0  \n",
       "14                  9.906250    10.0  "
      ]
     },
     "execution_count": 27,
     "metadata": {},
     "output_type": "execute_result"
    }
   ],
   "source": [
    "get_results_daily_per_week(df_dc1, 2, truck_capacity = truck_capacity, mode = \"intermodal\", algorithm = \"base\")"
   ]
  },
  {
   "cell_type": "code",
   "execution_count": 35,
   "id": "defef15c",
   "metadata": {},
   "outputs": [
    {
     "name": "stderr",
     "output_type": "stream",
     "text": [
      "C:\\Users\\marle\\OneDrive - tbs-education\\00_Masterarbeit\\Code\\notebooks\\..\\src\\co2_modells.py:29: SettingWithCopyWarning: \n",
      "A value is trying to be set on a copy of a slice from a DataFrame.\n",
      "Try using .loc[row_indexer,col_indexer] = value instead\n",
      "\n",
      "See the caveats in the documentation: https://pandas.pydata.org/pandas-docs/stable/user_guide/indexing.html#returning-a-view-versus-a-copy\n",
      "  df[\"Sender weight (kg)\"] = df[\"Sender weight (kg)\"]*volume\n",
      "\u001b[32m2023-08-12 07:57:33.012\u001b[0m | \u001b[1mINFO    \u001b[0m | \u001b[36msrc.co2_modells\u001b[0m:\u001b[36mpreprocessing_modelling\u001b[0m:\u001b[36m38\u001b[0m - \u001b[1m977.1800000000001\u001b[0m\n",
      "\u001b[32m2023-08-12 07:57:33.033\u001b[0m | \u001b[1mINFO    \u001b[0m | \u001b[36msrc.co2_modells\u001b[0m:\u001b[36mco2_modell\u001b[0m:\u001b[36m71\u001b[0m - \u001b[1m3.471076923076923\u001b[0m\n"
     ]
    },
    {
     "name": "stdout",
     "output_type": "stream",
     "text": [
      "(272, 7)\n"
     ]
    },
    {
     "name": "stderr",
     "output_type": "stream",
     "text": [
      "C:\\Users\\marle\\OneDrive - tbs-education\\00_Masterarbeit\\Code\\notebooks\\..\\src\\create_solution.py:55: FutureWarning: Dropping of nuisance columns in DataFrame reductions (with 'numeric_only=None') is deprecated; in a future version this will raise TypeError.  Select only valid columns before calling the reduction.\n",
      "  distances['Dmin'] = distances.min(axis=1)\n"
     ]
    },
    {
     "name": "stdout",
     "output_type": "stream",
     "text": [
      "Total processing time: 9.65625\n"
     ]
    }
   ],
   "source": [
    "dict_results_intermodal, df_results_intermodal = co2_modell(\n",
    "                df_dc1, df_distance_matrix, dict_terminals, list_days[5], list_days[6], \n",
    "                volume = 5, mode = \"intermodal\", truck_capacity = truck_capacity, nb_trucks = 40)"
   ]
  },
  {
   "cell_type": "code",
   "execution_count": 41,
   "id": "4e77673d",
   "metadata": {},
   "outputs": [],
   "source": [
    "from src.evaluation_multi import co2_modell_multi"
   ]
  },
  {
   "cell_type": "code",
   "execution_count": 58,
   "id": "af903081",
   "metadata": {
    "scrolled": true
   },
   "outputs": [
    {
     "name": "stderr",
     "output_type": "stream",
     "text": [
      "C:\\Users\\marle\\OneDrive - tbs-education\\00_Masterarbeit\\Code\\notebooks\\..\\src\\evaluation_multi.py:29: SettingWithCopyWarning: \n",
      "A value is trying to be set on a copy of a slice from a DataFrame.\n",
      "Try using .loc[row_indexer,col_indexer] = value instead\n",
      "\n",
      "See the caveats in the documentation: https://pandas.pydata.org/pandas-docs/stable/user_guide/indexing.html#returning-a-view-versus-a-copy\n",
      "  df[\"Sender weight (kg)\"] = df[\"Sender weight (kg)\"]*volume\n",
      "\u001b[32m2023-08-12 12:08:18.585\u001b[0m | \u001b[1mINFO    \u001b[0m | \u001b[36msrc.evaluation_multi\u001b[0m:\u001b[36mpreprocessing_modelling\u001b[0m:\u001b[36m38\u001b[0m - \u001b[1m195.436\u001b[0m\n",
      "C:\\Users\\marle\\OneDrive - tbs-education\\00_Masterarbeit\\Code\\notebooks\\..\\src\\create_solution.py:55: FutureWarning: Dropping of nuisance columns in DataFrame reductions (with 'numeric_only=None') is deprecated; in a future version this will raise TypeError.  Select only valid columns before calling the reduction.\n",
      "  distances['Dmin'] = distances.min(axis=1)\n"
     ]
    },
    {
     "name": "stdout",
     "output_type": "stream",
     "text": [
      "Bin number 0\n",
      "  Items packed: [0, 1, 2, 3, 4, 5, 6, 7, 8, 9, 10, 11, 12, 13, 14, 15, 16, 17, 18, 19, 20, 21, 22, 23, 24, 25, 26]\n",
      "  Total weight: 879.5040000000002\n",
      "\n",
      "\n",
      "Number of bins used: 1\n",
      "Time =  45  milliseconds\n",
      "Bin number 0\n",
      "  Items packed: [0, 1, 2, 3, 4, 5, 6, 7, 8, 9, 10, 11, 12, 13, 14, 15, 16, 17, 18]\n",
      "  Total weight: 792.6560000000002\n",
      "\n",
      "\n",
      "Number of bins used: 1\n",
      "Time =  20  milliseconds\n",
      "Bin number 0\n",
      "  Items packed: [0, 1, 2, 3, 4, 5, 6, 7, 8, 9, 10, 11, 12, 13, 14, 15, 16, 17, 18, 19, 20, 21, 22, 23, 24, 25, 26, 27, 28, 29, 30, 31, 32, 33, 34, 35, 36, 37, 38, 39, 40, 41, 42, 43, 44, 45, 46, 47, 48, 49, 50, 51, 52, 53, 54, 55, 56, 57, 58, 59, 60, 61, 62]\n",
      "  Total weight: 1960.2600000000002\n",
      "\n",
      "\n",
      "Number of bins used: 1\n",
      "Time =  409  milliseconds\n",
      "Bin number 0\n",
      "  Items packed: [0, 1, 2, 3, 4, 5, 6, 7, 8, 9, 10, 11, 12, 13, 14, 15, 16, 17, 18, 19, 20, 21, 22, 23, 24, 25, 26, 27, 28, 29, 30, 31, 32, 33, 34, 35, 36, 37, 38, 39, 40, 41, 42, 43, 44, 45, 46, 47, 48, 49, 50, 51, 52, 53, 54, 55, 56, 57, 58, 59, 60, 61, 62, 63, 64, 65, 66, 67]\n",
      "  Total weight: 2307.9260000000004\n",
      "\n",
      "\n",
      "Number of bins used: 1\n",
      "Time =  163  milliseconds\n",
      "Bin number 0\n",
      "  Items packed: [0, 1, 2, 3, 4, 5, 6, 7, 8, 9, 10, 11, 12, 13, 14, 15, 16, 17]\n",
      "  Total weight: 610.8639999999999\n",
      "\n",
      "\n",
      "Number of bins used: 1\n",
      "Time =  18  milliseconds\n",
      "Bin number 0\n",
      "  Items packed: [0, 1, 2, 3]\n",
      "  Total weight: 100.19000000000001\n",
      "\n",
      "\n",
      "Number of bins used: 1\n",
      "Time =  3  milliseconds\n",
      "Bin number 0\n",
      "  Items packed: [0, 1, 2, 3, 4, 5, 6, 7, 8, 9]\n",
      "  Total weight: 221.644\n",
      "\n",
      "\n",
      "Number of bins used: 1\n",
      "Time =  6  milliseconds\n",
      "Bin number 0\n",
      "  Items packed: [0, 1, 2, 3, 4, 5, 6, 7, 8, 9, 10, 11, 12, 13]\n",
      "  Total weight: 539.11\n",
      "\n",
      "\n",
      "Number of bins used: 1\n",
      "Time =  13  milliseconds\n"
     ]
    },
    {
     "name": "stderr",
     "output_type": "stream",
     "text": [
      "C:\\Users\\marle\\OneDrive - tbs-education\\00_Masterarbeit\\Code\\notebooks\\..\\src\\create_solution.py:55: FutureWarning: Dropping of nuisance columns in DataFrame reductions (with 'numeric_only=None') is deprecated; in a future version this will raise TypeError.  Select only valid columns before calling the reduction.\n",
      "  distances['Dmin'] = distances.min(axis=1)\n"
     ]
    },
    {
     "name": "stdout",
     "output_type": "stream",
     "text": [
      "Bin number 0\n",
      "  Items packed: [0, 1, 2, 3, 4, 5, 6, 7, 8, 9, 10, 11, 12, 13, 14, 15]\n",
      "  Total weight: 285.92600000000004\n",
      "\n",
      "\n",
      "Number of bins used: 1\n",
      "Time =  14  milliseconds\n",
      "Bin number 0\n",
      "  Items packed: [0, 1, 2, 3, 4, 5, 6, 7, 8, 9, 10, 11, 12]\n",
      "  Total weight: 361.424\n",
      "\n",
      "\n",
      "Number of bins used: 1\n",
      "Time =  9  milliseconds\n",
      "Bin number 0\n",
      "  Items packed: [0, 1, 2, 3, 4, 5, 6, 7, 8, 9, 10, 11, 12, 13, 14, 15, 16, 17, 18, 19, 20, 21, 22, 23, 24, 25, 26, 27, 28, 29, 30, 31]\n",
      "  Total weight: 700.0100000000001\n",
      "\n",
      "\n",
      "Number of bins used: 1\n",
      "Time =  67  milliseconds\n",
      "Bin number 0\n",
      "  Items packed: [0, 1, 2, 3, 4, 5, 6, 7, 8, 9, 10, 11, 12, 13, 14, 15, 16, 17, 18, 19, 20, 21, 22, 23]\n",
      "  Total weight: 752.4100000000001\n",
      "\n",
      "\n",
      "Number of bins used: 1\n",
      "Time =  35  milliseconds\n",
      "Bin number 0\n",
      "  Items packed: [0, 1, 2, 3, 4, 5, 6, 7, 8, 9]\n",
      "  Total weight: 420.40599999999995\n",
      "\n",
      "\n",
      "Number of bins used: 1\n",
      "Time =  6  milliseconds\n",
      "Bin number 0\n",
      "  Items packed: [0, 1, 2, 3, 4, 5, 6, 7, 8, 9]\n",
      "  Total weight: 262.62\n",
      "\n",
      "\n",
      "Number of bins used: 1\n",
      "Time =  6  milliseconds\n",
      "Bin number 0\n",
      "  Items packed: [0, 1, 2, 3, 4]\n",
      "  Total weight: 270.92\n",
      "\n",
      "\n",
      "Number of bins used: 1\n",
      "Time =  3  milliseconds\n",
      "Bin number 0\n",
      "  Items packed: [0, 1, 2, 3, 4]\n",
      "  Total weight: 46.934\n",
      "\n",
      "\n",
      "Number of bins used: 1\n",
      "Time =  3  milliseconds\n"
     ]
    }
   ],
   "source": [
    "dict_results_multi_combined, df_results_multi_combined = co2_modell_multi([\"DC1\", \"DC2\"], df, df_distance_matrix, dict_terminals, list_days[5], list_days[6], \n",
    "                     algorithm = \"base\", volume = 1, power = \"electric\", country = \"france\", \n",
    "                     truck_capacity = 30000, nb_trucks = 10)"
   ]
  },
  {
   "cell_type": "code",
   "execution_count": 46,
   "id": "6a612353",
   "metadata": {
    "scrolled": true
   },
   "outputs": [
    {
     "name": "stderr",
     "output_type": "stream",
     "text": [
      "C:\\Users\\marle\\OneDrive - tbs-education\\00_Masterarbeit\\Code\\notebooks\\..\\src\\co2_modells.py:29: SettingWithCopyWarning: \n",
      "A value is trying to be set on a copy of a slice from a DataFrame.\n",
      "Try using .loc[row_indexer,col_indexer] = value instead\n",
      "\n",
      "See the caveats in the documentation: https://pandas.pydata.org/pandas-docs/stable/user_guide/indexing.html#returning-a-view-versus-a-copy\n",
      "  df[\"Sender weight (kg)\"] = df[\"Sender weight (kg)\"]*volume\n",
      "\u001b[32m2023-08-12 12:00:49.865\u001b[0m | \u001b[1mINFO    \u001b[0m | \u001b[36msrc.co2_modells\u001b[0m:\u001b[36mpreprocessing_modelling\u001b[0m:\u001b[36m38\u001b[0m - \u001b[1m977.1800000000001\u001b[0m\n",
      "\u001b[32m2023-08-12 12:00:49.880\u001b[0m | \u001b[1mINFO    \u001b[0m | \u001b[36msrc.co2_modells\u001b[0m:\u001b[36mco2_modell\u001b[0m:\u001b[36m71\u001b[0m - \u001b[1m3.471076923076923\u001b[0m\n"
     ]
    },
    {
     "name": "stdout",
     "output_type": "stream",
     "text": [
      "(272, 7)\n"
     ]
    },
    {
     "name": "stderr",
     "output_type": "stream",
     "text": [
      "C:\\Users\\marle\\OneDrive - tbs-education\\00_Masterarbeit\\Code\\notebooks\\..\\src\\create_solution.py:55: FutureWarning: Dropping of nuisance columns in DataFrame reductions (with 'numeric_only=None') is deprecated; in a future version this will raise TypeError.  Select only valid columns before calling the reduction.\n",
      "  distances['Dmin'] = distances.min(axis=1)\n",
      "\u001b[32m2023-08-12 12:00:50.926\u001b[0m | \u001b[1mINFO    \u001b[0m | \u001b[36msrc.co2_modells\u001b[0m:\u001b[36mco2_modell\u001b[0m:\u001b[36m100\u001b[0m - \u001b[1m[['C664', 'C194', 'C163', 'C850', 'C697', 'C113', 'C1181', 'C273', 'C826', 'C935', 'C637', 'C55', 'C196', 'C73', 'C701', 'C338', 'C1025', 'C617', 'C847', 'C425', 'C584', 'C1049', 'C369', 'C365', 'C498', 'C212', 'C68'], ['C72', 'C24', 'C63', 'C635', 'C509', 'C755', 'C167', 'C33', 'C508', 'C462', 'C339', 'C737', 'C471', 'C558', 'C514', 'C656', 'C264', 'C600', 'C531'], [], ['C84', 'C746', 'C535', 'C453', 'C1126', 'C34', 'C547', 'C27', 'C762', 'C119', 'C464', 'C500', 'C599', 'C151', 'C1029', 'C129', 'C255', 'C103', 'C473', 'C1164', 'C455', 'C725', 'C1161', 'C104', 'C154', 'C1044', 'C1092', 'C557', 'C109', 'C495', 'C100', 'C161', 'C160', 'C375', 'C225', 'C572', 'C13', 'C220', 'C227', 'C1030', 'C237', 'C1097', 'C372', 'C419', 'C258', 'C1071', 'C446', 'C549', 'C1081'], ['C229', 'C937', 'C182', 'C222', 'C316', 'C312', 'C771', 'C299', 'C224', 'C1095', 'C187', 'C1131', 'C447', 'C742', 'C835', 'C1188', 'C42', 'C304', 'C37', 'C534', 'C628', 'C682', 'C741', 'C855', 'C482', 'C663', 'C15', 'C98', 'C461', 'C469', 'C513', 'C1059', 'C1056', 'C165', 'C1066', 'C1135', 'C521', 'C313', 'C213', 'C512', 'C23', 'C542', 'C75', 'C94', 'C998', 'C89', 'C305', 'C76', 'C939', 'C93', 'C459', 'C244', 'C730', 'C1050', 'C274', 'C665', 'C1104', 'C102', 'C323', 'C21', 'C431', 'C841', 'C158'], ['C922', 'C251', 'C203', 'C250', 'C1101', 'C683', 'C298', 'C667', 'C691', 'C309', 'C320', 'C1194', 'C344', 'C1183', 'C200', 'C296', 'C361', 'C240', 'C874', 'C11', 'C686', 'C1155', 'C140', 'C448', 'C382', 'C747', 'C644', 'C1031', 'C545', 'C385', 'C660', 'C1043', 'C437', 'C216', 'C156', 'C138', 'C142', 'C636', 'C525', 'C991', 'C430', 'C653', 'C139', 'C377', 'C149', 'C217', 'C289', 'C613', 'C190', 'C700', 'C152', 'C269', 'C271', 'C640', 'C270', 'C595', 'C279', 'C185', 'C275', 'C311', 'C268', 'C290', 'C618', 'C836', 'C443', 'C1048', 'C481', 'C1179'], ['C327', 'C432', 'C246', 'C64', 'C649', 'C122', 'C494', 'C1107', 'C56', 'C503', 'C381', 'C22', 'C105', 'C404', 'C95', 'C248', 'C126', 'C610'], ['C125', 'C301', 'C286', 'C234'], ['C36', 'C489', 'C470', 'C479', 'C32', 'C44', 'C143', 'C82', 'C236', 'C551'], ['C439', 'C52', 'C743', 'C538', 'C41', 'C502', 'C1062', 'C352', 'C235', 'C19', 'C1096', 'C1028', 'C1129', 'C379']]\u001b[0m\n",
      "\u001b[32m2023-08-12 12:00:50.927\u001b[0m | \u001b[1mINFO    \u001b[0m | \u001b[36msrc.evaluation_multi\u001b[0m:\u001b[36mevaluate_solution_multi\u001b[0m:\u001b[36m239\u001b[0m - \u001b[1mT4\u001b[0m\n",
      "\u001b[32m2023-08-12 12:00:50.928\u001b[0m | \u001b[1mINFO    \u001b[0m | \u001b[36msrc.evaluation_multi\u001b[0m:\u001b[36mevaluate_solution_multi\u001b[0m:\u001b[36m240\u001b[0m - \u001b[1m[['C664', 'C194', 'C163', 'C850', 'C697', 'C113', 'C1181', 'C273', 'C826', 'C935', 'C637', 'C55', 'C196', 'C73', 'C701', 'C338', 'C1025', 'C617', 'C847', 'C425', 'C584', 'C1049', 'C369', 'C365', 'C498', 'C212', 'C68'], ['C72', 'C24', 'C63', 'C635', 'C509', 'C755', 'C167', 'C33', 'C508', 'C462', 'C339', 'C737', 'C471', 'C558', 'C514', 'C656', 'C264', 'C600', 'C531'], [], ['C84', 'C746', 'C535', 'C453', 'C1126', 'C34', 'C547', 'C27', 'C762', 'C119', 'C464', 'C500', 'C599', 'C151', 'C1029', 'C129', 'C255', 'C103', 'C473', 'C1164', 'C455', 'C725', 'C1161', 'C104', 'C154', 'C1044', 'C1092', 'C557', 'C109', 'C495', 'C100', 'C161', 'C160', 'C375', 'C225', 'C572', 'C13', 'C220', 'C227', 'C1030', 'C237', 'C1097', 'C372', 'C419', 'C258', 'C1071', 'C446', 'C549', 'C1081'], ['C229', 'C937', 'C182', 'C222', 'C316', 'C312', 'C771', 'C299', 'C224', 'C1095', 'C187', 'C1131', 'C447', 'C742', 'C835', 'C1188', 'C42', 'C304', 'C37', 'C534', 'C628', 'C682', 'C741', 'C855', 'C482', 'C663', 'C15', 'C98', 'C461', 'C469', 'C513', 'C1059', 'C1056', 'C165', 'C1066', 'C1135', 'C521', 'C313', 'C213', 'C512', 'C23', 'C542', 'C75', 'C94', 'C998', 'C89', 'C305', 'C76', 'C939', 'C93', 'C459', 'C244', 'C730', 'C1050', 'C274', 'C665', 'C1104', 'C102', 'C323', 'C21', 'C431', 'C841', 'C158'], ['C922', 'C251', 'C203', 'C250', 'C1101', 'C683', 'C298', 'C667', 'C691', 'C309', 'C320', 'C1194', 'C344', 'C1183', 'C200', 'C296', 'C361', 'C240', 'C874', 'C11', 'C686', 'C1155', 'C140', 'C448', 'C382', 'C747', 'C644', 'C1031', 'C545', 'C385', 'C660', 'C1043', 'C437', 'C216', 'C156', 'C138', 'C142', 'C636', 'C525', 'C991', 'C430', 'C653', 'C139', 'C377', 'C149', 'C217', 'C289', 'C613', 'C190', 'C700', 'C152', 'C269', 'C271', 'C640', 'C270', 'C595', 'C279', 'C185', 'C275', 'C311', 'C268', 'C290', 'C618', 'C836', 'C443', 'C1048', 'C481', 'C1179'], ['C327', 'C432', 'C246', 'C64', 'C649', 'C122', 'C494', 'C1107', 'C56', 'C503', 'C381', 'C22', 'C105', 'C404', 'C95', 'C248', 'C126', 'C610'], ['C125', 'C301', 'C286', 'C234'], ['C36', 'C489', 'C470', 'C479', 'C32', 'C44', 'C143', 'C82', 'C236', 'C551'], ['C439', 'C52', 'C743', 'C538', 'C41', 'C502', 'C1062', 'C352', 'C235', 'C19', 'C1096', 'C1028', 'C1129', 'C379']]\u001b[0m\n",
      "\u001b[32m2023-08-12 12:00:51.965\u001b[0m | \u001b[1mINFO    \u001b[0m | \u001b[36msrc.evaluation_multi\u001b[0m:\u001b[36mevaluate_solution_multi\u001b[0m:\u001b[36m252\u001b[0m - \u001b[1m335.19424849547516\u001b[0m\n",
      "\u001b[32m2023-08-12 12:00:52.982\u001b[0m | \u001b[1mINFO    \u001b[0m | \u001b[36msrc.evaluation_multi\u001b[0m:\u001b[36mevaluate_solution_multi\u001b[0m:\u001b[36m302\u001b[0m - \u001b[1m1387.8433283909935\u001b[0m\n",
      "\u001b[32m2023-08-12 12:00:53.983\u001b[0m | \u001b[1mINFO    \u001b[0m | \u001b[36msrc.evaluation_multi\u001b[0m:\u001b[36mevaluate_solution_multi\u001b[0m:\u001b[36m302\u001b[0m - \u001b[1m2224.8621943326707\u001b[0m\n",
      "\u001b[32m2023-08-12 12:00:53.983\u001b[0m | \u001b[1mINFO    \u001b[0m | \u001b[36msrc.evaluation_multi\u001b[0m:\u001b[36mevaluate_solution_multi\u001b[0m:\u001b[36m302\u001b[0m - \u001b[1m2224.8621943326707\u001b[0m\n",
      "\u001b[32m2023-08-12 12:00:54.992\u001b[0m | \u001b[1mINFO    \u001b[0m | \u001b[36msrc.evaluation_multi\u001b[0m:\u001b[36mevaluate_solution_multi\u001b[0m:\u001b[36m302\u001b[0m - \u001b[1m3810.2827657506095\u001b[0m\n",
      "\u001b[32m2023-08-12 12:00:56.030\u001b[0m | \u001b[1mINFO    \u001b[0m | \u001b[36msrc.evaluation_multi\u001b[0m:\u001b[36mevaluate_solution_multi\u001b[0m:\u001b[36m302\u001b[0m - \u001b[1m5581.964041283718\u001b[0m\n",
      "\u001b[32m2023-08-12 12:00:57.033\u001b[0m | \u001b[1mINFO    \u001b[0m | \u001b[36msrc.evaluation_multi\u001b[0m:\u001b[36mevaluate_solution_multi\u001b[0m:\u001b[36m302\u001b[0m - \u001b[1m7246.685083023259\u001b[0m\n",
      "\u001b[32m2023-08-12 12:00:58.047\u001b[0m | \u001b[1mINFO    \u001b[0m | \u001b[36msrc.evaluation_multi\u001b[0m:\u001b[36mevaluate_solution_multi\u001b[0m:\u001b[36m302\u001b[0m - \u001b[1m7908.305614370334\u001b[0m\n",
      "\u001b[32m2023-08-12 12:00:59.064\u001b[0m | \u001b[1mINFO    \u001b[0m | \u001b[36msrc.evaluation_multi\u001b[0m:\u001b[36mevaluate_solution_multi\u001b[0m:\u001b[36m302\u001b[0m - \u001b[1m8301.065526829589\u001b[0m\n",
      "\u001b[32m2023-08-12 12:01:00.055\u001b[0m | \u001b[1mINFO    \u001b[0m | \u001b[36msrc.evaluation_multi\u001b[0m:\u001b[36mevaluate_solution_multi\u001b[0m:\u001b[36m302\u001b[0m - \u001b[1m9015.975933730453\u001b[0m\n",
      "\u001b[32m2023-08-12 12:01:01.068\u001b[0m | \u001b[1mINFO    \u001b[0m | \u001b[36msrc.evaluation_multi\u001b[0m:\u001b[36mevaluate_solution_multi\u001b[0m:\u001b[36m302\u001b[0m - \u001b[1m9707.660886529819\u001b[0m\n",
      "\u001b[32m2023-08-12 12:01:01.100\u001b[0m | \u001b[1mINFO    \u001b[0m | \u001b[36msrc.evaluation_multi\u001b[0m:\u001b[36mevaluate_solution_multi\u001b[0m:\u001b[36m309\u001b[0m - \u001b[1m10839.699761629015\u001b[0m\n",
      "\u001b[32m2023-08-12 12:01:01.109\u001b[0m | \u001b[1mINFO    \u001b[0m | \u001b[36msrc.co2_modells\u001b[0m:\u001b[36mco2_modell\u001b[0m:\u001b[36m103\u001b[0m - \u001b[1m[['C664', 'C194', 'C163', 'C850', 'C697', 'C113', 'C1181', 'C273', 'C826', 'C935', 'C637', 'C55', 'C196', 'C73', 'C701', 'C338', 'C1025', 'C617', 'C847', 'C425', 'C584', 'C1049', 'C369', 'C365', 'C498', 'C212', 'C68'], ['C72', 'C24', 'C63', 'C635', 'C509', 'C755', 'C167', 'C33', 'C508', 'C462', 'C339', 'C737', 'C471', 'C558', 'C514', 'C656', 'C264', 'C600', 'C531'], [], ['C84', 'C746', 'C535', 'C453', 'C1126', 'C34', 'C547', 'C27', 'C762', 'C119', 'C464', 'C500', 'C599', 'C151', 'C1029', 'C129', 'C255', 'C103', 'C473', 'C1164', 'C455', 'C725', 'C1161', 'C104', 'C154', 'C1044', 'C1092', 'C557', 'C109', 'C495', 'C100', 'C161', 'C160', 'C375', 'C225', 'C572', 'C13', 'C220', 'C227', 'C1030', 'C237', 'C1097', 'C372', 'C419', 'C258', 'C1071', 'C446', 'C549', 'C1081'], ['C229', 'C937', 'C182', 'C222', 'C316', 'C312', 'C771', 'C299', 'C224', 'C1095', 'C187', 'C1131', 'C447', 'C742', 'C835', 'C1188', 'C42', 'C304', 'C37', 'C534', 'C628', 'C682', 'C741', 'C855', 'C482', 'C663', 'C15', 'C98', 'C461', 'C469', 'C513', 'C1059', 'C1056', 'C165', 'C1066', 'C1135', 'C521', 'C313', 'C213', 'C512', 'C23', 'C542', 'C75', 'C94', 'C998', 'C89', 'C305', 'C76', 'C939', 'C93', 'C459', 'C244', 'C730', 'C1050', 'C274', 'C665', 'C1104', 'C102', 'C323', 'C21', 'C431', 'C841', 'C158'], ['C922', 'C251', 'C203', 'C250', 'C1101', 'C683', 'C298', 'C667', 'C691', 'C309', 'C320', 'C1194', 'C344', 'C1183', 'C200', 'C296', 'C361', 'C240', 'C874', 'C11', 'C686', 'C1155', 'C140', 'C448', 'C382', 'C747', 'C644', 'C1031', 'C545', 'C385', 'C660', 'C1043', 'C437', 'C216', 'C156', 'C138', 'C142', 'C636', 'C525', 'C991', 'C430', 'C653', 'C139', 'C377', 'C149', 'C217', 'C289', 'C613', 'C190', 'C700', 'C152', 'C269', 'C271', 'C640', 'C270', 'C595', 'C279', 'C185', 'C275', 'C311', 'C268', 'C290', 'C618', 'C836', 'C443', 'C1048', 'C481', 'C1179'], ['C327', 'C432', 'C246', 'C64', 'C649', 'C122', 'C494', 'C1107', 'C56', 'C503', 'C381', 'C22', 'C105', 'C404', 'C95', 'C248', 'C126', 'C610'], ['C125', 'C301', 'C286', 'C234'], ['C36', 'C489', 'C470', 'C479', 'C32', 'C44', 'C143', 'C82', 'C236', 'C551'], ['C439', 'C52', 'C743', 'C538', 'C41', 'C502', 'C1062', 'C352', 'C235', 'C19', 'C1096', 'C1028', 'C1129', 'C379']]\u001b[0m\n"
     ]
    },
    {
     "name": "stdout",
     "output_type": "stream",
     "text": [
      "Total processing time: 10.21875\n"
     ]
    }
   ],
   "source": [
    "dict_results_multi_dc1, df_results_multi_dc1 = co2_modell(\n",
    "                df_dc1, df_distance_matrix, dict_terminals, list_days[5], list_days[6], \n",
    "                volume = 5, mode = \"multi\", truck_capacity = truck_capacity, nb_trucks = 40)"
   ]
  },
  {
   "cell_type": "code",
   "execution_count": 47,
   "id": "41c58579",
   "metadata": {},
   "outputs": [
    {
     "name": "stderr",
     "output_type": "stream",
     "text": [
      "C:\\Users\\marle\\OneDrive - tbs-education\\00_Masterarbeit\\Code\\notebooks\\..\\src\\co2_modells.py:29: SettingWithCopyWarning: \n",
      "A value is trying to be set on a copy of a slice from a DataFrame.\n",
      "Try using .loc[row_indexer,col_indexer] = value instead\n",
      "\n",
      "See the caveats in the documentation: https://pandas.pydata.org/pandas-docs/stable/user_guide/indexing.html#returning-a-view-versus-a-copy\n",
      "  df[\"Sender weight (kg)\"] = df[\"Sender weight (kg)\"]*volume\n",
      "\u001b[32m2023-08-12 12:01:01.896\u001b[0m | \u001b[1mINFO    \u001b[0m | \u001b[36msrc.co2_modells\u001b[0m:\u001b[36mpreprocessing_modelling\u001b[0m:\u001b[36m38\u001b[0m - \u001b[1m910.84\u001b[0m\n",
      "\u001b[32m2023-08-12 12:01:01.907\u001b[0m | \u001b[1mINFO    \u001b[0m | \u001b[36msrc.co2_modells\u001b[0m:\u001b[36mco2_modell\u001b[0m:\u001b[36m71\u001b[0m - \u001b[1m1.378923076923077\u001b[0m\n"
     ]
    },
    {
     "name": "stdout",
     "output_type": "stream",
     "text": [
      "(135, 7)\n"
     ]
    },
    {
     "name": "stderr",
     "output_type": "stream",
     "text": [
      "C:\\Users\\marle\\OneDrive - tbs-education\\00_Masterarbeit\\Code\\notebooks\\..\\src\\create_solution.py:55: FutureWarning: Dropping of nuisance columns in DataFrame reductions (with 'numeric_only=None') is deprecated; in a future version this will raise TypeError.  Select only valid columns before calling the reduction.\n",
      "  distances['Dmin'] = distances.min(axis=1)\n",
      "\u001b[32m2023-08-12 12:01:02.923\u001b[0m | \u001b[1mINFO    \u001b[0m | \u001b[36msrc.co2_modells\u001b[0m:\u001b[36mco2_modell\u001b[0m:\u001b[36m100\u001b[0m - \u001b[1m[['C16', 'C341', 'C676', 'C353', 'C113', 'C273', 'C196', 'C73', 'C701', 'C77', 'C425', 'C584', 'C369', 'C365', 'C790', 'C68'], ['C72', 'C24', 'C63', 'C673', 'C108', 'C339', 'C803', 'C1127', 'C514', 'C656', 'C31', 'C264', 'C402'], [], ['C823', 'C74', 'C554', 'C80', 'C535', 'C591', 'C1126', 'C27', 'C590', 'C291', 'C255', 'C810', 'C695', 'C103', 'C725', 'C722', 'C1120', 'C109', 'C560', 'C100', 'C161', 'C160', 'C1073', 'C363', 'C13', 'C220', 'C1210', 'C372', 'C258', 'C78', 'C446', 'C549'], ['C242', 'C299', 'C742', 'C42', 'C37', 'C1206', 'C15', 'C98', 'C392', 'C4', 'C1057', 'C513', 'C1214', 'C213', 'C23', 'C75', 'C76', 'C93', 'C574', 'C86', 'C99', 'C1016', 'C21', 'C431'], ['C922', 'C788', 'C1203', 'C683', 'C1183', 'C415', 'C140', 'C448', 'C435', 'C385', 'C660', 'C1220', 'C994', 'C953', 'C1051', 'C693', 'C289', 'C271', 'C270', 'C311'], ['C60', 'C246', 'C122', 'C22', 'C105', 'C404', 'C95', 'C248', 'C126', 'C601'], ['C125', 'C301', 'C20', 'C106', 'C234', 'C65', 'C1124', 'C111', 'C607', 'C1140'], ['C32', 'C120', 'C44', 'C82', 'C551'], ['C52', 'C945', 'C502', 'C19', 'C1114']]\u001b[0m\n",
      "\u001b[32m2023-08-12 12:01:02.923\u001b[0m | \u001b[1mINFO    \u001b[0m | \u001b[36msrc.evaluation_multi\u001b[0m:\u001b[36mevaluate_solution_multi\u001b[0m:\u001b[36m239\u001b[0m - \u001b[1mT6\u001b[0m\n",
      "\u001b[32m2023-08-12 12:01:02.923\u001b[0m | \u001b[1mINFO    \u001b[0m | \u001b[36msrc.evaluation_multi\u001b[0m:\u001b[36mevaluate_solution_multi\u001b[0m:\u001b[36m240\u001b[0m - \u001b[1m[['C16', 'C341', 'C676', 'C353', 'C113', 'C273', 'C196', 'C73', 'C701', 'C77', 'C425', 'C584', 'C369', 'C365', 'C790', 'C68'], ['C72', 'C24', 'C63', 'C673', 'C108', 'C339', 'C803', 'C1127', 'C514', 'C656', 'C31', 'C264', 'C402'], [], ['C823', 'C74', 'C554', 'C80', 'C535', 'C591', 'C1126', 'C27', 'C590', 'C291', 'C255', 'C810', 'C695', 'C103', 'C725', 'C722', 'C1120', 'C109', 'C560', 'C100', 'C161', 'C160', 'C1073', 'C363', 'C13', 'C220', 'C1210', 'C372', 'C258', 'C78', 'C446', 'C549'], ['C242', 'C299', 'C742', 'C42', 'C37', 'C1206', 'C15', 'C98', 'C392', 'C4', 'C1057', 'C513', 'C1214', 'C213', 'C23', 'C75', 'C76', 'C93', 'C574', 'C86', 'C99', 'C1016', 'C21', 'C431'], ['C922', 'C788', 'C1203', 'C683', 'C1183', 'C415', 'C140', 'C448', 'C435', 'C385', 'C660', 'C1220', 'C994', 'C953', 'C1051', 'C693', 'C289', 'C271', 'C270', 'C311'], ['C60', 'C246', 'C122', 'C22', 'C105', 'C404', 'C95', 'C248', 'C126', 'C601'], ['C125', 'C301', 'C20', 'C106', 'C234', 'C65', 'C1124', 'C111', 'C607', 'C1140'], ['C32', 'C120', 'C44', 'C82', 'C551'], ['C52', 'C945', 'C502', 'C19', 'C1114']]\u001b[0m\n",
      "\u001b[32m2023-08-12 12:01:03.952\u001b[0m | \u001b[1mINFO    \u001b[0m | \u001b[36msrc.evaluation_multi\u001b[0m:\u001b[36mevaluate_solution_multi\u001b[0m:\u001b[36m252\u001b[0m - \u001b[1m47.24219439111583\u001b[0m\n",
      "\u001b[32m2023-08-12 12:01:04.972\u001b[0m | \u001b[1mINFO    \u001b[0m | \u001b[36msrc.evaluation_multi\u001b[0m:\u001b[36mevaluate_solution_multi\u001b[0m:\u001b[36m302\u001b[0m - \u001b[1m1041.9346217560674\u001b[0m\n",
      "\u001b[32m2023-08-12 12:01:06.003\u001b[0m | \u001b[1mINFO    \u001b[0m | \u001b[36msrc.evaluation_multi\u001b[0m:\u001b[36mevaluate_solution_multi\u001b[0m:\u001b[36m302\u001b[0m - \u001b[1m1847.8468024835486\u001b[0m\n",
      "\u001b[32m2023-08-12 12:01:06.003\u001b[0m | \u001b[1mINFO    \u001b[0m | \u001b[36msrc.evaluation_multi\u001b[0m:\u001b[36mevaluate_solution_multi\u001b[0m:\u001b[36m302\u001b[0m - \u001b[1m1847.8468024835486\u001b[0m\n",
      "\u001b[32m2023-08-12 12:01:07.039\u001b[0m | \u001b[1mINFO    \u001b[0m | \u001b[36msrc.evaluation_multi\u001b[0m:\u001b[36mevaluate_solution_multi\u001b[0m:\u001b[36m302\u001b[0m - \u001b[1m3218.459709397446\u001b[0m\n",
      "\u001b[32m2023-08-12 12:01:08.069\u001b[0m | \u001b[1mINFO    \u001b[0m | \u001b[36msrc.evaluation_multi\u001b[0m:\u001b[36mevaluate_solution_multi\u001b[0m:\u001b[36m302\u001b[0m - \u001b[1m4647.863612312641\u001b[0m\n",
      "\u001b[32m2023-08-12 12:01:09.115\u001b[0m | \u001b[1mINFO    \u001b[0m | \u001b[36msrc.evaluation_multi\u001b[0m:\u001b[36mevaluate_solution_multi\u001b[0m:\u001b[36m302\u001b[0m - \u001b[1m5578.2372719597015\u001b[0m\n",
      "\u001b[32m2023-08-12 12:01:10.121\u001b[0m | \u001b[1mINFO    \u001b[0m | \u001b[36msrc.evaluation_multi\u001b[0m:\u001b[36mevaluate_solution_multi\u001b[0m:\u001b[36m302\u001b[0m - \u001b[1m6189.423637875308\u001b[0m\n",
      "\u001b[32m2023-08-12 12:01:11.139\u001b[0m | \u001b[1mINFO    \u001b[0m | \u001b[36msrc.evaluation_multi\u001b[0m:\u001b[36mevaluate_solution_multi\u001b[0m:\u001b[36m302\u001b[0m - \u001b[1m6794.597125953472\u001b[0m\n",
      "\u001b[32m2023-08-12 12:01:12.149\u001b[0m | \u001b[1mINFO    \u001b[0m | \u001b[36msrc.evaluation_multi\u001b[0m:\u001b[36mevaluate_solution_multi\u001b[0m:\u001b[36m302\u001b[0m - \u001b[1m7180.652641777112\u001b[0m\n",
      "\u001b[32m2023-08-12 12:01:13.164\u001b[0m | \u001b[1mINFO    \u001b[0m | \u001b[36msrc.evaluation_multi\u001b[0m:\u001b[36mevaluate_solution_multi\u001b[0m:\u001b[36m302\u001b[0m - \u001b[1m7839.033399725902\u001b[0m\n",
      "\u001b[32m2023-08-12 12:01:13.207\u001b[0m | \u001b[1mINFO    \u001b[0m | \u001b[36msrc.evaluation_multi\u001b[0m:\u001b[36mevaluate_solution_multi\u001b[0m:\u001b[36m309\u001b[0m - \u001b[1m8953.835280533713\u001b[0m\n",
      "\u001b[32m2023-08-12 12:01:13.213\u001b[0m | \u001b[1mINFO    \u001b[0m | \u001b[36msrc.co2_modells\u001b[0m:\u001b[36mco2_modell\u001b[0m:\u001b[36m103\u001b[0m - \u001b[1m[['C16', 'C341', 'C676', 'C353', 'C113', 'C273', 'C196', 'C73', 'C701', 'C77', 'C425', 'C584', 'C369', 'C365', 'C790', 'C68'], ['C72', 'C24', 'C63', 'C673', 'C108', 'C339', 'C803', 'C1127', 'C514', 'C656', 'C31', 'C264', 'C402'], [], ['C823', 'C74', 'C554', 'C80', 'C535', 'C591', 'C1126', 'C27', 'C590', 'C291', 'C255', 'C810', 'C695', 'C103', 'C725', 'C722', 'C1120', 'C109', 'C560', 'C100', 'C161', 'C160', 'C1073', 'C363', 'C13', 'C220', 'C1210', 'C372', 'C258', 'C78', 'C446', 'C549'], ['C242', 'C299', 'C742', 'C42', 'C37', 'C1206', 'C15', 'C98', 'C392', 'C4', 'C1057', 'C513', 'C1214', 'C213', 'C23', 'C75', 'C76', 'C93', 'C574', 'C86', 'C99', 'C1016', 'C21', 'C431'], ['C922', 'C788', 'C1203', 'C683', 'C1183', 'C415', 'C140', 'C448', 'C435', 'C385', 'C660', 'C1220', 'C994', 'C953', 'C1051', 'C693', 'C289', 'C271', 'C270', 'C311'], ['C60', 'C246', 'C122', 'C22', 'C105', 'C404', 'C95', 'C248', 'C126', 'C601'], ['C125', 'C301', 'C20', 'C106', 'C234', 'C65', 'C1124', 'C111', 'C607', 'C1140'], ['C32', 'C120', 'C44', 'C82', 'C551'], ['C52', 'C945', 'C502', 'C19', 'C1114']]\u001b[0m\n"
     ]
    },
    {
     "name": "stdout",
     "output_type": "stream",
     "text": [
      "Total processing time: 9.546875\n"
     ]
    }
   ],
   "source": [
    "dict_results_multi_dc2, df_results_multi_dc2 = co2_modell(\n",
    "                df_dc2, df_distance_matrix, dict_terminals, list_days[5], list_days[6], \n",
    "                volume = 5, mode = \"multi\", truck_capacity = truck_capacity, nb_trucks = 40)"
   ]
  },
  {
   "cell_type": "code",
   "execution_count": 61,
   "id": "3b9784ac",
   "metadata": {},
   "outputs": [
    {
     "data": {
      "text/html": [
       "<div>\n",
       "<style scoped>\n",
       "    .dataframe tbody tr th:only-of-type {\n",
       "        vertical-align: middle;\n",
       "    }\n",
       "\n",
       "    .dataframe tbody tr th {\n",
       "        vertical-align: top;\n",
       "    }\n",
       "\n",
       "    .dataframe thead th {\n",
       "        text-align: right;\n",
       "    }\n",
       "</style>\n",
       "<table border=\"1\" class=\"dataframe\">\n",
       "  <thead>\n",
       "    <tr style=\"text-align: right;\">\n",
       "      <th></th>\n",
       "      <th>Rail/road</th>\n",
       "      <th>Leg</th>\n",
       "      <th>Route</th>\n",
       "      <th>Payload</th>\n",
       "      <th>Distance</th>\n",
       "      <th>GHG Emissions</th>\n",
       "      <th>DC</th>\n",
       "    </tr>\n",
       "  </thead>\n",
       "  <tbody>\n",
       "    <tr>\n",
       "      <th>0</th>\n",
       "      <td>Railroad</td>\n",
       "      <td>T1 Endhaul Container 1</td>\n",
       "      <td>T1-C1181-C850-C676-C16-C664-C194-C163-C341-C69...</td>\n",
       "      <td>1143</td>\n",
       "      <td>1403153</td>\n",
       "      <td>1149.134644</td>\n",
       "      <td>NaN</td>\n",
       "    </tr>\n",
       "    <tr>\n",
       "      <th>1</th>\n",
       "      <td>Railroad</td>\n",
       "      <td>T2 Endhaul Container 1</td>\n",
       "      <td>T2-C72-C72-C24-C24-C673-C63-C63-C635-C509-C755...</td>\n",
       "      <td>1137</td>\n",
       "      <td>1178830</td>\n",
       "      <td>963.811151</td>\n",
       "      <td>NaN</td>\n",
       "    </tr>\n",
       "    <tr>\n",
       "      <th>2</th>\n",
       "      <td>Railroad</td>\n",
       "      <td>T4 Endhaul Container 1</td>\n",
       "      <td>T4-C363-C13-C13-C220-C220-C1210-C78-C446-C446-...</td>\n",
       "      <td>1318</td>\n",
       "      <td>1686489</td>\n",
       "      <td>1386.137252</td>\n",
       "      <td>NaN</td>\n",
       "    </tr>\n",
       "    <tr>\n",
       "      <th>3</th>\n",
       "      <td>Railroad</td>\n",
       "      <td>T5 Endhaul Container 1</td>\n",
       "      <td>T5-C98-C98-C461-C469-C1057-C1214-C1059-C1135-C...</td>\n",
       "      <td>2665</td>\n",
       "      <td>2272118</td>\n",
       "      <td>1890.010101</td>\n",
       "      <td>NaN</td>\n",
       "    </tr>\n",
       "    <tr>\n",
       "      <th>4</th>\n",
       "      <td>Railroad</td>\n",
       "      <td>T6 Endhaul Container 1</td>\n",
       "      <td>T6-C525-C138-C636-C653-C430-C377-C139-C700-C27...</td>\n",
       "      <td>2474</td>\n",
       "      <td>1806619</td>\n",
       "      <td>1510.034348</td>\n",
       "      <td>NaN</td>\n",
       "    </tr>\n",
       "    <tr>\n",
       "      <th>5</th>\n",
       "      <td>Railroad</td>\n",
       "      <td>T7 Endhaul Container 1</td>\n",
       "      <td>T7-C601-C248-C248-C404-C95-C95-C404-C381-C503-...</td>\n",
       "      <td>1017</td>\n",
       "      <td>791744</td>\n",
       "      <td>650.278090</td>\n",
       "      <td>NaN</td>\n",
       "    </tr>\n",
       "    <tr>\n",
       "      <th>6</th>\n",
       "      <td>Railroad</td>\n",
       "      <td>T8 Endhaul Container 1</td>\n",
       "      <td>T8-C607-C1140-C1124-C111-C106-C301-C301-C125-C...</td>\n",
       "      <td>357</td>\n",
       "      <td>737737</td>\n",
       "      <td>600.242323</td>\n",
       "      <td>NaN</td>\n",
       "    </tr>\n",
       "    <tr>\n",
       "      <th>7</th>\n",
       "      <td>Railroad</td>\n",
       "      <td>T9 Endhaul Container 1</td>\n",
       "      <td>T9-C44-C551-C551-C236-C82-C82-C470-C36-C489-C4...</td>\n",
       "      <td>484</td>\n",
       "      <td>867118</td>\n",
       "      <td>708.672975</td>\n",
       "      <td>NaN</td>\n",
       "    </tr>\n",
       "    <tr>\n",
       "      <th>8</th>\n",
       "      <td>Railroad</td>\n",
       "      <td>T10 Endhaul Container 1</td>\n",
       "      <td>T10-C352-C1062-C502-C502-C945-C1129-C1028-C379...</td>\n",
       "      <td>578</td>\n",
       "      <td>974925</td>\n",
       "      <td>795.016901</td>\n",
       "      <td>NaN</td>\n",
       "    </tr>\n",
       "    <tr>\n",
       "      <th>9</th>\n",
       "      <td>Road</td>\n",
       "      <td>Truck 1</td>\n",
       "      <td>DC1-C464-C500-C547-C34-C27-C599-C119-C762-C453...</td>\n",
       "      <td>1616</td>\n",
       "      <td>1787720</td>\n",
       "      <td>1480.202780</td>\n",
       "      <td>DC1</td>\n",
       "    </tr>\n",
       "    <tr>\n",
       "      <th>10</th>\n",
       "      <td>Railroad</td>\n",
       "      <td>T1 Rail</td>\n",
       "      <td>T4-T1</td>\n",
       "      <td>879.504</td>\n",
       "      <td>669410.0</td>\n",
       "      <td>179.405590</td>\n",
       "      <td>DC1</td>\n",
       "    </tr>\n",
       "    <tr>\n",
       "      <th>11</th>\n",
       "      <td>Railroad</td>\n",
       "      <td>T1 Load &amp; Unload</td>\n",
       "      <td>T4-T1</td>\n",
       "      <td>1.0</td>\n",
       "      <td>669410.0</td>\n",
       "      <td>0.677600</td>\n",
       "      <td>DC1</td>\n",
       "    </tr>\n",
       "    <tr>\n",
       "      <th>12</th>\n",
       "      <td>Railroad</td>\n",
       "      <td>T2 Rail</td>\n",
       "      <td>T4-T2</td>\n",
       "      <td>792.656</td>\n",
       "      <td>597040.0</td>\n",
       "      <td>159.952043</td>\n",
       "      <td>DC1</td>\n",
       "    </tr>\n",
       "    <tr>\n",
       "      <th>13</th>\n",
       "      <td>Railroad</td>\n",
       "      <td>T2 Load &amp; Unload</td>\n",
       "      <td>T4-T2</td>\n",
       "      <td>1.0</td>\n",
       "      <td>597040.0</td>\n",
       "      <td>0.677600</td>\n",
       "      <td>DC1</td>\n",
       "    </tr>\n",
       "    <tr>\n",
       "      <th>14</th>\n",
       "      <td>Railroad</td>\n",
       "      <td>T5 Rail</td>\n",
       "      <td>T4-T5</td>\n",
       "      <td>1960.26</td>\n",
       "      <td>471730.0</td>\n",
       "      <td>126.996398</td>\n",
       "      <td>DC1</td>\n",
       "    </tr>\n",
       "    <tr>\n",
       "      <th>15</th>\n",
       "      <td>Railroad</td>\n",
       "      <td>T5 Load &amp; Unload</td>\n",
       "      <td>T4-T5</td>\n",
       "      <td>1.0</td>\n",
       "      <td>471730.0</td>\n",
       "      <td>0.677600</td>\n",
       "      <td>DC1</td>\n",
       "    </tr>\n",
       "    <tr>\n",
       "      <th>16</th>\n",
       "      <td>Railroad</td>\n",
       "      <td>T6 Rail</td>\n",
       "      <td>T4-T6</td>\n",
       "      <td>2307.926</td>\n",
       "      <td>448000.0</td>\n",
       "      <td>120.782128</td>\n",
       "      <td>DC1</td>\n",
       "    </tr>\n",
       "    <tr>\n",
       "      <th>17</th>\n",
       "      <td>Railroad</td>\n",
       "      <td>T6 Load &amp; Unload</td>\n",
       "      <td>T4-T6</td>\n",
       "      <td>1.0</td>\n",
       "      <td>448000.0</td>\n",
       "      <td>0.677600</td>\n",
       "      <td>DC1</td>\n",
       "    </tr>\n",
       "    <tr>\n",
       "      <th>18</th>\n",
       "      <td>Railroad</td>\n",
       "      <td>T7 Rail</td>\n",
       "      <td>T4-T7</td>\n",
       "      <td>610.864</td>\n",
       "      <td>495820.0</td>\n",
       "      <td>132.733552</td>\n",
       "      <td>DC1</td>\n",
       "    </tr>\n",
       "    <tr>\n",
       "      <th>19</th>\n",
       "      <td>Railroad</td>\n",
       "      <td>T7 Load &amp; Unload</td>\n",
       "      <td>T4-T7</td>\n",
       "      <td>1.0</td>\n",
       "      <td>495820.0</td>\n",
       "      <td>0.677600</td>\n",
       "      <td>DC1</td>\n",
       "    </tr>\n",
       "    <tr>\n",
       "      <th>20</th>\n",
       "      <td>Railroad</td>\n",
       "      <td>T8 Rail</td>\n",
       "      <td>T4-T8</td>\n",
       "      <td>100.19</td>\n",
       "      <td>954370.0</td>\n",
       "      <td>254.944700</td>\n",
       "      <td>DC1</td>\n",
       "    </tr>\n",
       "    <tr>\n",
       "      <th>21</th>\n",
       "      <td>Railroad</td>\n",
       "      <td>T8 Load &amp; Unload</td>\n",
       "      <td>T4-T8</td>\n",
       "      <td>1.0</td>\n",
       "      <td>954370.0</td>\n",
       "      <td>0.677600</td>\n",
       "      <td>DC1</td>\n",
       "    </tr>\n",
       "    <tr>\n",
       "      <th>22</th>\n",
       "      <td>Railroad</td>\n",
       "      <td>T9 Rail</td>\n",
       "      <td>T4-T9</td>\n",
       "      <td>221.644</td>\n",
       "      <td>199230.0</td>\n",
       "      <td>53.248172</td>\n",
       "      <td>DC1</td>\n",
       "    </tr>\n",
       "    <tr>\n",
       "      <th>23</th>\n",
       "      <td>Railroad</td>\n",
       "      <td>T9 Load &amp; Unload</td>\n",
       "      <td>T4-T9</td>\n",
       "      <td>1.0</td>\n",
       "      <td>199230.0</td>\n",
       "      <td>0.677600</td>\n",
       "      <td>DC1</td>\n",
       "    </tr>\n",
       "    <tr>\n",
       "      <th>24</th>\n",
       "      <td>Railroad</td>\n",
       "      <td>T10 Rail</td>\n",
       "      <td>T4-T10</td>\n",
       "      <td>539.11</td>\n",
       "      <td>307600.0</td>\n",
       "      <td>82.321412</td>\n",
       "      <td>DC1</td>\n",
       "    </tr>\n",
       "    <tr>\n",
       "      <th>25</th>\n",
       "      <td>Railroad</td>\n",
       "      <td>T10 Load &amp; Unload</td>\n",
       "      <td>T4-T10</td>\n",
       "      <td>1.0</td>\n",
       "      <td>307600.0</td>\n",
       "      <td>0.677600</td>\n",
       "      <td>DC1</td>\n",
       "    </tr>\n",
       "    <tr>\n",
       "      <th>26</th>\n",
       "      <td>Railroad</td>\n",
       "      <td>Prehaul Container 1</td>\n",
       "      <td>DC1-C36-C470-C143-C44-C32-C479-C489-C82-C236-C...</td>\n",
       "      <td>7294</td>\n",
       "      <td>106307.4</td>\n",
       "      <td>101.306108</td>\n",
       "      <td>DC1</td>\n",
       "    </tr>\n",
       "    <tr>\n",
       "      <th>27</th>\n",
       "      <td>Road</td>\n",
       "      <td>Truck 1</td>\n",
       "      <td>DC2-C953-C385-C415-C660-C1220-C448-C435-C788-C...</td>\n",
       "      <td>487</td>\n",
       "      <td>1115130</td>\n",
       "      <td>909.529995</td>\n",
       "      <td>DC2</td>\n",
       "    </tr>\n",
       "    <tr>\n",
       "      <th>28</th>\n",
       "      <td>Railroad</td>\n",
       "      <td>T1 Rail</td>\n",
       "      <td>T6-T1</td>\n",
       "      <td>285.926</td>\n",
       "      <td>235180.0</td>\n",
       "      <td>62.873430</td>\n",
       "      <td>DC2</td>\n",
       "    </tr>\n",
       "    <tr>\n",
       "      <th>29</th>\n",
       "      <td>Railroad</td>\n",
       "      <td>T1 Load &amp; Unload</td>\n",
       "      <td>T6-T1</td>\n",
       "      <td>1.0</td>\n",
       "      <td>235180.0</td>\n",
       "      <td>0.677600</td>\n",
       "      <td>DC2</td>\n",
       "    </tr>\n",
       "    <tr>\n",
       "      <th>30</th>\n",
       "      <td>Railroad</td>\n",
       "      <td>T2 Rail</td>\n",
       "      <td>T6-T2</td>\n",
       "      <td>361.424</td>\n",
       "      <td>828600.0</td>\n",
       "      <td>221.589322</td>\n",
       "      <td>DC2</td>\n",
       "    </tr>\n",
       "    <tr>\n",
       "      <th>31</th>\n",
       "      <td>Railroad</td>\n",
       "      <td>T2 Load &amp; Unload</td>\n",
       "      <td>T6-T2</td>\n",
       "      <td>1.0</td>\n",
       "      <td>828600.0</td>\n",
       "      <td>0.677600</td>\n",
       "      <td>DC2</td>\n",
       "    </tr>\n",
       "    <tr>\n",
       "      <th>32</th>\n",
       "      <td>Railroad</td>\n",
       "      <td>T4 Rail</td>\n",
       "      <td>T6-T4</td>\n",
       "      <td>700.01</td>\n",
       "      <td>448000.0</td>\n",
       "      <td>119.976556</td>\n",
       "      <td>DC2</td>\n",
       "    </tr>\n",
       "    <tr>\n",
       "      <th>33</th>\n",
       "      <td>Railroad</td>\n",
       "      <td>T4 Load &amp; Unload</td>\n",
       "      <td>T6-T4</td>\n",
       "      <td>1.0</td>\n",
       "      <td>448000.0</td>\n",
       "      <td>0.677600</td>\n",
       "      <td>DC2</td>\n",
       "    </tr>\n",
       "    <tr>\n",
       "      <th>34</th>\n",
       "      <td>Railroad</td>\n",
       "      <td>T5 Rail</td>\n",
       "      <td>T6-T5</td>\n",
       "      <td>752.41</td>\n",
       "      <td>755780.0</td>\n",
       "      <td>202.445809</td>\n",
       "      <td>DC2</td>\n",
       "    </tr>\n",
       "    <tr>\n",
       "      <th>35</th>\n",
       "      <td>Railroad</td>\n",
       "      <td>T5 Load &amp; Unload</td>\n",
       "      <td>T6-T5</td>\n",
       "      <td>1.0</td>\n",
       "      <td>755780.0</td>\n",
       "      <td>0.677600</td>\n",
       "      <td>DC2</td>\n",
       "    </tr>\n",
       "    <tr>\n",
       "      <th>36</th>\n",
       "      <td>Railroad</td>\n",
       "      <td>T7 Rail</td>\n",
       "      <td>T6-T7</td>\n",
       "      <td>420.406</td>\n",
       "      <td>499860.0</td>\n",
       "      <td>133.708615</td>\n",
       "      <td>DC2</td>\n",
       "    </tr>\n",
       "    <tr>\n",
       "      <th>37</th>\n",
       "      <td>Railroad</td>\n",
       "      <td>T7 Load &amp; Unload</td>\n",
       "      <td>T6-T7</td>\n",
       "      <td>1.0</td>\n",
       "      <td>499860.0</td>\n",
       "      <td>0.677600</td>\n",
       "      <td>DC2</td>\n",
       "    </tr>\n",
       "    <tr>\n",
       "      <th>38</th>\n",
       "      <td>Railroad</td>\n",
       "      <td>T8 Rail</td>\n",
       "      <td>T6-T8</td>\n",
       "      <td>262.62</td>\n",
       "      <td>520140.0</td>\n",
       "      <td>139.041574</td>\n",
       "      <td>DC2</td>\n",
       "    </tr>\n",
       "    <tr>\n",
       "      <th>39</th>\n",
       "      <td>Railroad</td>\n",
       "      <td>T8 Load &amp; Unload</td>\n",
       "      <td>T6-T8</td>\n",
       "      <td>1.0</td>\n",
       "      <td>520140.0</td>\n",
       "      <td>0.677600</td>\n",
       "      <td>DC2</td>\n",
       "    </tr>\n",
       "    <tr>\n",
       "      <th>40</th>\n",
       "      <td>Railroad</td>\n",
       "      <td>T9 Rail</td>\n",
       "      <td>T6-T9</td>\n",
       "      <td>270.92</td>\n",
       "      <td>631600.0</td>\n",
       "      <td>168.842442</td>\n",
       "      <td>DC2</td>\n",
       "    </tr>\n",
       "    <tr>\n",
       "      <th>41</th>\n",
       "      <td>Railroad</td>\n",
       "      <td>T9 Load &amp; Unload</td>\n",
       "      <td>T6-T9</td>\n",
       "      <td>1.0</td>\n",
       "      <td>631600.0</td>\n",
       "      <td>0.677600</td>\n",
       "      <td>DC2</td>\n",
       "    </tr>\n",
       "    <tr>\n",
       "      <th>42</th>\n",
       "      <td>Railroad</td>\n",
       "      <td>T10 Rail</td>\n",
       "      <td>T6-T10</td>\n",
       "      <td>46.934</td>\n",
       "      <td>198290.0</td>\n",
       "      <td>52.958196</td>\n",
       "      <td>DC2</td>\n",
       "    </tr>\n",
       "    <tr>\n",
       "      <th>43</th>\n",
       "      <td>Railroad</td>\n",
       "      <td>T10 Load &amp; Unload</td>\n",
       "      <td>T6-T10</td>\n",
       "      <td>1.0</td>\n",
       "      <td>198290.0</td>\n",
       "      <td>0.677600</td>\n",
       "      <td>DC2</td>\n",
       "    </tr>\n",
       "    <tr>\n",
       "      <th>44</th>\n",
       "      <td>Railroad</td>\n",
       "      <td>Prehaul Container 1</td>\n",
       "      <td>DC2-C52-C446-C549-C372-C258-C363-C13-C220-C121...</td>\n",
       "      <td>3045</td>\n",
       "      <td>24572.0</td>\n",
       "      <td>21.377461</td>\n",
       "      <td>DC2</td>\n",
       "    </tr>\n",
       "  </tbody>\n",
       "</table>\n",
       "</div>"
      ],
      "text/plain": [
       "   Rail/road                      Leg  \\\n",
       "0   Railroad   T1 Endhaul Container 1   \n",
       "1   Railroad   T2 Endhaul Container 1   \n",
       "2   Railroad   T4 Endhaul Container 1   \n",
       "3   Railroad   T5 Endhaul Container 1   \n",
       "4   Railroad   T6 Endhaul Container 1   \n",
       "5   Railroad   T7 Endhaul Container 1   \n",
       "6   Railroad   T8 Endhaul Container 1   \n",
       "7   Railroad   T9 Endhaul Container 1   \n",
       "8   Railroad  T10 Endhaul Container 1   \n",
       "9       Road                  Truck 1   \n",
       "10  Railroad                  T1 Rail   \n",
       "11  Railroad         T1 Load & Unload   \n",
       "12  Railroad                  T2 Rail   \n",
       "13  Railroad         T2 Load & Unload   \n",
       "14  Railroad                  T5 Rail   \n",
       "15  Railroad         T5 Load & Unload   \n",
       "16  Railroad                  T6 Rail   \n",
       "17  Railroad         T6 Load & Unload   \n",
       "18  Railroad                  T7 Rail   \n",
       "19  Railroad         T7 Load & Unload   \n",
       "20  Railroad                  T8 Rail   \n",
       "21  Railroad         T8 Load & Unload   \n",
       "22  Railroad                  T9 Rail   \n",
       "23  Railroad         T9 Load & Unload   \n",
       "24  Railroad                 T10 Rail   \n",
       "25  Railroad        T10 Load & Unload   \n",
       "26  Railroad      Prehaul Container 1   \n",
       "27      Road                  Truck 1   \n",
       "28  Railroad                  T1 Rail   \n",
       "29  Railroad         T1 Load & Unload   \n",
       "30  Railroad                  T2 Rail   \n",
       "31  Railroad         T2 Load & Unload   \n",
       "32  Railroad                  T4 Rail   \n",
       "33  Railroad         T4 Load & Unload   \n",
       "34  Railroad                  T5 Rail   \n",
       "35  Railroad         T5 Load & Unload   \n",
       "36  Railroad                  T7 Rail   \n",
       "37  Railroad         T7 Load & Unload   \n",
       "38  Railroad                  T8 Rail   \n",
       "39  Railroad         T8 Load & Unload   \n",
       "40  Railroad                  T9 Rail   \n",
       "41  Railroad         T9 Load & Unload   \n",
       "42  Railroad                 T10 Rail   \n",
       "43  Railroad        T10 Load & Unload   \n",
       "44  Railroad      Prehaul Container 1   \n",
       "\n",
       "                                                Route   Payload  Distance  \\\n",
       "0   T1-C1181-C850-C676-C16-C664-C194-C163-C341-C69...      1143   1403153   \n",
       "1   T2-C72-C72-C24-C24-C673-C63-C63-C635-C509-C755...      1137   1178830   \n",
       "2   T4-C363-C13-C13-C220-C220-C1210-C78-C446-C446-...      1318   1686489   \n",
       "3   T5-C98-C98-C461-C469-C1057-C1214-C1059-C1135-C...      2665   2272118   \n",
       "4   T6-C525-C138-C636-C653-C430-C377-C139-C700-C27...      2474   1806619   \n",
       "5   T7-C601-C248-C248-C404-C95-C95-C404-C381-C503-...      1017    791744   \n",
       "6   T8-C607-C1140-C1124-C111-C106-C301-C301-C125-C...       357    737737   \n",
       "7   T9-C44-C551-C551-C236-C82-C82-C470-C36-C489-C4...       484    867118   \n",
       "8   T10-C352-C1062-C502-C502-C945-C1129-C1028-C379...       578    974925   \n",
       "9   DC1-C464-C500-C547-C34-C27-C599-C119-C762-C453...      1616   1787720   \n",
       "10                                              T4-T1   879.504  669410.0   \n",
       "11                                              T4-T1       1.0  669410.0   \n",
       "12                                              T4-T2   792.656  597040.0   \n",
       "13                                              T4-T2       1.0  597040.0   \n",
       "14                                              T4-T5   1960.26  471730.0   \n",
       "15                                              T4-T5       1.0  471730.0   \n",
       "16                                              T4-T6  2307.926  448000.0   \n",
       "17                                              T4-T6       1.0  448000.0   \n",
       "18                                              T4-T7   610.864  495820.0   \n",
       "19                                              T4-T7       1.0  495820.0   \n",
       "20                                              T4-T8    100.19  954370.0   \n",
       "21                                              T4-T8       1.0  954370.0   \n",
       "22                                              T4-T9   221.644  199230.0   \n",
       "23                                              T4-T9       1.0  199230.0   \n",
       "24                                             T4-T10    539.11  307600.0   \n",
       "25                                             T4-T10       1.0  307600.0   \n",
       "26  DC1-C36-C470-C143-C44-C32-C479-C489-C82-C236-C...      7294  106307.4   \n",
       "27  DC2-C953-C385-C415-C660-C1220-C448-C435-C788-C...       487   1115130   \n",
       "28                                              T6-T1   285.926  235180.0   \n",
       "29                                              T6-T1       1.0  235180.0   \n",
       "30                                              T6-T2   361.424  828600.0   \n",
       "31                                              T6-T2       1.0  828600.0   \n",
       "32                                              T6-T4    700.01  448000.0   \n",
       "33                                              T6-T4       1.0  448000.0   \n",
       "34                                              T6-T5    752.41  755780.0   \n",
       "35                                              T6-T5       1.0  755780.0   \n",
       "36                                              T6-T7   420.406  499860.0   \n",
       "37                                              T6-T7       1.0  499860.0   \n",
       "38                                              T6-T8    262.62  520140.0   \n",
       "39                                              T6-T8       1.0  520140.0   \n",
       "40                                              T6-T9    270.92  631600.0   \n",
       "41                                              T6-T9       1.0  631600.0   \n",
       "42                                             T6-T10    46.934  198290.0   \n",
       "43                                             T6-T10       1.0  198290.0   \n",
       "44  DC2-C52-C446-C549-C372-C258-C363-C13-C220-C121...      3045   24572.0   \n",
       "\n",
       "    GHG Emissions   DC  \n",
       "0     1149.134644  NaN  \n",
       "1      963.811151  NaN  \n",
       "2     1386.137252  NaN  \n",
       "3     1890.010101  NaN  \n",
       "4     1510.034348  NaN  \n",
       "5      650.278090  NaN  \n",
       "6      600.242323  NaN  \n",
       "7      708.672975  NaN  \n",
       "8      795.016901  NaN  \n",
       "9     1480.202780  DC1  \n",
       "10     179.405590  DC1  \n",
       "11       0.677600  DC1  \n",
       "12     159.952043  DC1  \n",
       "13       0.677600  DC1  \n",
       "14     126.996398  DC1  \n",
       "15       0.677600  DC1  \n",
       "16     120.782128  DC1  \n",
       "17       0.677600  DC1  \n",
       "18     132.733552  DC1  \n",
       "19       0.677600  DC1  \n",
       "20     254.944700  DC1  \n",
       "21       0.677600  DC1  \n",
       "22      53.248172  DC1  \n",
       "23       0.677600  DC1  \n",
       "24      82.321412  DC1  \n",
       "25       0.677600  DC1  \n",
       "26     101.306108  DC1  \n",
       "27     909.529995  DC2  \n",
       "28      62.873430  DC2  \n",
       "29       0.677600  DC2  \n",
       "30     221.589322  DC2  \n",
       "31       0.677600  DC2  \n",
       "32     119.976556  DC2  \n",
       "33       0.677600  DC2  \n",
       "34     202.445809  DC2  \n",
       "35       0.677600  DC2  \n",
       "36     133.708615  DC2  \n",
       "37       0.677600  DC2  \n",
       "38     139.041574  DC2  \n",
       "39       0.677600  DC2  \n",
       "40     168.842442  DC2  \n",
       "41       0.677600  DC2  \n",
       "42      52.958196  DC2  \n",
       "43       0.677600  DC2  \n",
       "44      21.377461  DC2  "
      ]
     },
     "execution_count": 61,
     "metadata": {},
     "output_type": "execute_result"
    }
   ],
   "source": [
    "df_results_multi_combined"
   ]
  },
  {
   "cell_type": "code",
   "execution_count": 60,
   "id": "124eaf16",
   "metadata": {},
   "outputs": [
    {
     "data": {
      "text/plain": [
       "19793.53504216273"
      ]
     },
     "execution_count": 60,
     "metadata": {},
     "output_type": "execute_result"
    }
   ],
   "source": [
    "dict_results_multi_dc1[\"co2 railroad\"]+dict_results_multi_dc2[\"co2 railroad\"]"
   ]
  },
  {
   "cell_type": "code",
   "execution_count": 24,
   "id": "7f8c1018",
   "metadata": {},
   "outputs": [],
   "source": [
    "dict_points = create_dict_points(df_dc1, \"Shipper name\", \"Shipper latitude\", \"Shipper longitude\")       \n",
    "dict_points.update(create_dict_points(df_dc1, \"Receiver name\", \"Receiver latitude\", \"Receiver longitude\"))"
   ]
  }
 ],
 "metadata": {
  "kernelspec": {
   "display_name": "Python 3 (ipykernel)",
   "language": "python",
   "name": "python3"
  },
  "language_info": {
   "codemirror_mode": {
    "name": "ipython",
    "version": 3
   },
   "file_extension": ".py",
   "mimetype": "text/x-python",
   "name": "python",
   "nbconvert_exporter": "python",
   "pygments_lexer": "ipython3",
   "version": "3.10.9"
  }
 },
 "nbformat": 4,
 "nbformat_minor": 5
}
