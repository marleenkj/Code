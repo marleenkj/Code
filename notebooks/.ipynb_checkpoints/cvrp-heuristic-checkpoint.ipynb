{
 "cells": [
  {
   "cell_type": "code",
   "execution_count": 1,
   "id": "052b90ae",
   "metadata": {},
   "outputs": [],
   "source": [
    "# Distance matrixes"
   ]
  },
  {
   "cell_type": "code",
   "execution_count": 2,
   "id": "a9238937",
   "metadata": {},
   "outputs": [
    {
     "name": "stdout",
     "output_type": "stream",
     "text": [
      "Requirement already satisfied: haversine in c:\\users\\marle\\anaconda3\\lib\\site-packages (2.8.0)\n",
      "Note: you may need to restart the kernel to use updated packages.\n"
     ]
    }
   ],
   "source": [
    "pip install haversine"
   ]
  },
  {
   "cell_type": "code",
   "execution_count": 3,
   "id": "cc16b1ad",
   "metadata": {},
   "outputs": [],
   "source": [
    "import haversine"
   ]
  },
  {
   "cell_type": "code",
   "execution_count": 12,
   "id": "39005a85",
   "metadata": {},
   "outputs": [],
   "source": [
    "import pandas as pd\n",
    "import json\n",
    "import requests\n",
    "import numpy as np\n",
    "import datetime as dt\n",
    "\n",
    "%reload_ext autoreload\n",
    "%autoreload 2\n",
    "\n",
    "import sys\n",
    "sys.path.append('..')\n",
    "from src.distance import get_haversine_distance, get_distance_aws\n",
    "\n",
    "from src.co2 import co2_truck, co2_train\n",
    "from src.data_matrix import create_data_model, create_dict_points\n",
    "from src.cvrp_heuristic import find_nearest_customer, construct_initial_solution, local_search, evaluate_cvrp\n",
    "from src.alns_heuristic import plot_solution"
   ]
  },
  {
   "cell_type": "markdown",
   "id": "d7009b8a",
   "metadata": {},
   "source": [
    "## Functions"
   ]
  },
  {
   "cell_type": "code",
   "execution_count": 5,
   "id": "840feefb",
   "metadata": {},
   "outputs": [],
   "source": [
    "def calculate_distance(point1, point2, data):\n",
    "    # Calculate the distance between two points considering the current load\n",
    "    # Modify this function to include your own cost calculation logic based on load\n",
    "    # For example, you can define a function that calculates a cost function based on load-dependent factors\n",
    "    distance = data['distance_matrix']\n",
    "    # Modify the distance based on the current load\n",
    "    # For example, you can add a load-dependent factor to the distance calculation\n",
    "    modified_distance = distance * (1 + current_load)  # Example modification, adjust as per your requirements\n",
    "    return modified_distance\n",
    "\n",
    "def calculate_total_distance(route, data):\n",
    "    # Calculate the total distance of a route\n",
    "    total_distance = 0\n",
    "    for i in range(len(route) - 1):\n",
    "        total_distance += data[\"distance_matrix\"][data[\"customers\"].index(route[i])][data[\"customers\"].index(route[i+1])]\n",
    "    return total_distance\n",
    "\n",
    "def total_distance(solution):\n",
    "    total_distance = 0\n",
    "    for route in solution:\n",
    "        route_distance = 0\n",
    "        for i in range(len(route) - 1):\n",
    "            distance_arc = data[\"distance_matrix\"][data[\"customers\"].index(route[i])][data[\"customers\"].index(route[i+1])]\n",
    "            route_distance += distance_arc\n",
    "        total_distance += route_distance\n",
    "    return total_distance"
   ]
  },
  {
   "cell_type": "markdown",
   "id": "126a2734",
   "metadata": {},
   "source": [
    "## Data Import"
   ]
  },
  {
   "cell_type": "code",
   "execution_count": 6,
   "id": "03fee6c9",
   "metadata": {
    "scrolled": false
   },
   "outputs": [
    {
     "name": "stderr",
     "output_type": "stream",
     "text": [
      "C:\\Users\\marle\\AppData\\Local\\Temp\\ipykernel_15920\\3938569011.py:1: DtypeWarning: Columns (1,5,14) have mixed types. Specify dtype option on import or set low_memory=False.\n",
      "  df = pd.read_csv('../data/processed/poc3.csv', parse_dates = [\"Pickup date\"])\n"
     ]
    }
   ],
   "source": [
    "df = pd.read_csv('../data/processed/poc3.csv', parse_dates = [\"Pickup date\"])\n",
    "\n",
    "df_clients = df[['Receiver longitude', 'Receiver latitude']].drop_duplicates().reset_index()\n",
    "df_clients.index += 1\n",
    "df_clients= df_clients.reset_index().drop([\"index\"], axis = 1).rename({\"level_0\":\"Receiver name\"}, axis = 1)\n",
    "df_clients[\"Receiver name\"] = \"C\"+df_clients[\"Receiver name\"].astype(str)\n",
    "\n",
    "df_dc = df[['Shipper longitude', 'Shipper latitude', \"DC country\"]].drop_duplicates().reset_index()\n",
    "df_dc.index += 1\n",
    "df_dc = df_dc.reset_index().drop([\"index\"], axis = 1).rename({\"level_0\":\"Shipper name\"}, axis = 1)\n",
    "df_dc[\"Shipper name\"] = \"DC\"+df_dc[\"Shipper name\"].astype(str)\n",
    "\n",
    "df = df[['Pickup date','Country', 'Sender weight (kg)','Shipper longitude','Shipper latitude', 'Receiver longitude', 'Receiver latitude']].merge(df_clients, on = ['Receiver longitude', 'Receiver latitude'], how = \"left\").merge(df_dc, on = ['Shipper longitude', 'Shipper latitude'], how = \"left\")"
   ]
  },
  {
   "cell_type": "markdown",
   "id": "925853f2",
   "metadata": {},
   "source": [
    "## Eröffnungsverfahren"
   ]
  },
  {
   "cell_type": "code",
   "execution_count": 7,
   "id": "7fbac84b",
   "metadata": {},
   "outputs": [],
   "source": [
    "date = \"2022-01-03\"\n",
    "dc = \"DC2\"\n",
    "df_test = df[(df[\"Shipper name\"]==dc)&(df[\"Pickup date\"]>pd.to_datetime(\"2022-01-02\"))&(df[\"Pickup date\"]<pd.to_datetime(\"2022-01-04\"))]\n",
    "df_test = df_test[df_test[\"Sender weight (kg)\"]>30]"
   ]
  },
  {
   "cell_type": "code",
   "execution_count": 8,
   "id": "46a8bdce",
   "metadata": {},
   "outputs": [
    {
     "data": {
      "text/plain": [
       "92"
      ]
     },
     "execution_count": 8,
     "metadata": {},
     "output_type": "execute_result"
    }
   ],
   "source": [
    "len(df_test[\"Receiver name\"].unique())"
   ]
  },
  {
   "cell_type": "code",
   "execution_count": 13,
   "id": "da564c39",
   "metadata": {},
   "outputs": [],
   "source": [
    "dict_points = create_dict_points(df_test, \"Shipper name\", \"Shipper latitude\", \"Shipper longitude\")       \n",
    "dict_points.update(create_dict_points(df_test, \"Receiver name\", \"Receiver latitude\", \"Receiver longitude\")  )"
   ]
  },
  {
   "cell_type": "code",
   "execution_count": 14,
   "id": "9b267b30",
   "metadata": {
    "scrolled": true
   },
   "outputs": [],
   "source": [
    "data = create_data_model(df_test, dict_points, 10)"
   ]
  },
  {
   "cell_type": "code",
   "execution_count": 15,
   "id": "17d38985",
   "metadata": {},
   "outputs": [],
   "source": [
    "solution = construct_initial_solution(data, 17000)"
   ]
  },
  {
   "cell_type": "code",
   "execution_count": 17,
   "id": "38c1c752",
   "metadata": {},
   "outputs": [],
   "source": [
    "total_cost = evaluate_cvrp(data, solution)"
   ]
  },
  {
   "cell_type": "code",
   "execution_count": 18,
   "id": "90f50228",
   "metadata": {},
   "outputs": [
    {
     "data": {
      "text/plain": [
       "7574.5635130502815"
      ]
     },
     "execution_count": 18,
     "metadata": {},
     "output_type": "execute_result"
    }
   ],
   "source": [
    "total_cost"
   ]
  },
  {
   "cell_type": "code",
   "execution_count": null,
   "id": "0809e199",
   "metadata": {},
   "outputs": [],
   "source": []
  },
  {
   "cell_type": "markdown",
   "id": "9dd5ccac",
   "metadata": {},
   "source": [
    "# Verbesserungsheuristiken"
   ]
  },
  {
   "cell_type": "code",
   "execution_count": null,
   "id": "27cff599",
   "metadata": {},
   "outputs": [],
   "source": [
    "local_search(solution)"
   ]
  },
  {
   "cell_type": "code",
   "execution_count": null,
   "id": "84d7d0e1",
   "metadata": {},
   "outputs": [],
   "source": [
    "#Heuristik laufen lassen"
   ]
  },
  {
   "cell_type": "code",
   "execution_count": null,
   "id": "f16691c3",
   "metadata": {},
   "outputs": [],
   "source": []
  }
 ],
 "metadata": {
  "kernelspec": {
   "display_name": "Python 3 (ipykernel)",
   "language": "python",
   "name": "python3"
  },
  "language_info": {
   "codemirror_mode": {
    "name": "ipython",
    "version": 3
   },
   "file_extension": ".py",
   "mimetype": "text/x-python",
   "name": "python",
   "nbconvert_exporter": "python",
   "pygments_lexer": "ipython3",
   "version": "3.10.9"
  }
 },
 "nbformat": 4,
 "nbformat_minor": 5
}
