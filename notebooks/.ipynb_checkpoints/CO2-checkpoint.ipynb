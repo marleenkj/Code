{
 "cells": [
  {
   "cell_type": "markdown",
   "id": "813ba4e1",
   "metadata": {},
   "source": [
    "CO2 model"
   ]
  },
  {
   "cell_type": "code",
   "execution_count": 1,
   "id": "824a6d7c",
   "metadata": {},
   "outputs": [],
   "source": [
    "import math\n",
    "import sys\n",
    "sys.path.append('..')\n",
    "from src.co2 import co2_truck, co2_train"
   ]
  },
  {
   "cell_type": "code",
   "execution_count": 3,
   "id": "1c035edd",
   "metadata": {},
   "outputs": [
    {
     "data": {
      "text/plain": [
       "339.83085950470104"
      ]
     },
     "execution_count": 3,
     "metadata": {},
     "output_type": "execute_result"
    }
   ],
   "source": [
    "co2_truck(17, 768)"
   ]
  },
  {
   "cell_type": "code",
   "execution_count": 2,
   "id": "f986379c",
   "metadata": {},
   "outputs": [
    {
     "data": {
      "text/plain": [
       "2920.4083242754214"
      ]
     },
     "execution_count": 2,
     "metadata": {},
     "output_type": "execute_result"
    }
   ],
   "source": [
    "co2_train(17, 768)"
   ]
  },
  {
   "cell_type": "code",
   "execution_count": 52,
   "id": "bae783eb",
   "metadata": {},
   "outputs": [],
   "source": [
    "class train:\n",
    "    c_air_car = 2\n",
    "    c_air_loc = 3\n",
    "    c_roll_loc = 2\n",
    "    c_roll_car = 2\n",
    "    c_roll_aux_1 = 2\n",
    "    c_roll_aux_2 = 3\n",
    "    front_surface = 2\n",
    "    weight_locomotive_ton = 3\n",
    "    weight_car_ton = 20\n",
    "    capacity_car_ton = 60\n",
    "    capacity_loc_cars = 30\n",
    "    axles_per_car = 4\n",
    "    engine_efficiency = 2"
   ]
  },
  {
   "cell_type": "code",
   "execution_count": 36,
   "id": "b18baa07",
   "metadata": {},
   "outputs": [],
   "source": [
    "class trip:\n",
    "    \"trip specific parameters\"\n",
    "    def __init__(self, payload_ton, distance_km):\n",
    "        self.payload_ton = payload_ton\n",
    "        self.distance_km = distance_km\n",
    "    gradient_abs = 0\n",
    "    speed_kmh = 83\n",
    "    speed_ms = (83*1000)/3600\n",
    "    number_of_acc_processes_per_km = 0.2"
   ]
  },
  {
   "cell_type": "code",
   "execution_count": 64,
   "id": "cc182d64",
   "metadata": {},
   "outputs": [],
   "source": [
    "def mesoscopic_train(train, trip, k):\n",
    "    \n",
    "    number_of_total_wagons = math.ceil(trip.payload_ton / train.capacity_car_ton)\n",
    "    number_of_trains = math.ceil(number_of_total_wagons / train.capacity_loc_cars)\n",
    "    payload_ton_total = trip.payload_ton\n",
    "    \n",
    "    i = 0\n",
    "    while i < number_of_trains:\n",
    "        payload_ton = min(payload_ton_total, train.capacity_car_ton*train.capacity_loc_cars)\n",
    "        number_of_wagons = math.ceil(payload_ton / train.capacity_car_ton)\n",
    "        weight_total_train_ton = train.weight_locomotive_ton + train.weight_car_ton * number_of_wagons + payload_ton\n",
    "\n",
    "        # physical parameters\n",
    "        rho = 1.2\n",
    "        g = 9.81\n",
    "\n",
    "        # air resistance\n",
    "        c_air = train.c_air_loc + number_of_wagons * train.c_air_car\n",
    "        p_air = (1/2000) * c_air * rho * train.front_surface * pow(trip.speed_ms, 3)\n",
    "\n",
    "        # rolling resistance\n",
    "        c_roll = train.c_roll_loc * (train.weight_locomotive_ton / weight_total_train_ton)\n",
    "        c_roll += train.c_roll_car * ((train.weight_car_ton * number_of_wagons) / weight_total_train_ton)\n",
    "        c_roll += (train.axles_per_car * number_of_wagons) / (10 * weight_total_train_ton * g)\n",
    "        c_roll += train.c_roll_aux_1 * (trip.speed_kmh / 100)\n",
    "        c_roll += train.c_roll_aux_2 * pow((trip.speed_kmh / 100), 2)\n",
    "        p_roll = c_roll * g * weight_total_train_ton * trip.speed_ms\n",
    "\n",
    "        # gradient resistance\n",
    "        p_gradient = weight_total_train_ton * g * trip.speed_ms * trip.gradient_abs\n",
    "\n",
    "        # acceleration resistance\n",
    "        w_inert = (0.52/(2*3600)) * weight_total_train_ton * pow(trip.speed_ms, 2)\n",
    "\n",
    "        # total energy demand\n",
    "        p_drive = p_air + p_roll + p_gradient\n",
    "        energy_in_kwh = (trip.distance_km / trip.speed_kmh) * p_drive\n",
    "        energy_in_kwh += trip.number_of_acc_processes_per_km * trip.distance_km * w_inert\n",
    "\n",
    "        # consider locomotive efficiency => results in the actual energy demand\n",
    "        energy_in_kwh = energy_in_kwh / train.engine_efficiency\n",
    "        \n",
    "        print(f\"Train {i+1}: {payload_ton} {number_of_wagons}\")\n",
    "        payload_ton_total -= payload_ton\n",
    "        number_of_total_wagons -= number_of_wagons\n",
    "        i+=1\n",
    "    print(i)\n",
    "\n",
    "    return energy_in_kwh"
   ]
  },
  {
   "cell_type": "code",
   "execution_count": 66,
   "id": "00a5f14a",
   "metadata": {},
   "outputs": [
    {
     "name": "stdout",
     "output_type": "stream",
     "text": [
      "Train 1: 1800 30\n",
      "Train 2: 220 4\n",
      "2\n"
     ]
    },
    {
     "data": {
      "text/plain": [
       "3534.1129702880667"
      ]
     },
     "execution_count": 66,
     "metadata": {},
     "output_type": "execute_result"
    }
   ],
   "source": [
    "mesoscopic_train(train, trip(2020,2), 2)"
   ]
  },
  {
   "cell_type": "code",
   "execution_count": 72,
   "id": "25a15232",
   "metadata": {},
   "outputs": [],
   "source": [
    "def co2_train(payload, distance):\n",
    "    k = 0.574\n",
    "    \n",
    "    class trip:\n",
    "        \"trip specific parameters\"\n",
    "        def __init__(self, payload_ton, distance_km):\n",
    "            self.payload_ton = payload_ton\n",
    "            self.distance_km = distance_km\n",
    "        gradient_abs = 0\n",
    "        speed_kmh = 83\n",
    "        speed_ms = (speed_kmh*1000)/3600\n",
    "        number_of_acc_processes_per_km = 0.2\n",
    "        \n",
    "    class train:\n",
    "        \"technical parameters\"\n",
    "        c_air_car = 0.218\n",
    "        c_air_loc =0.8\n",
    "        c_roll_loc = 0.8\n",
    "        c_roll_car = 0.0006\n",
    "        c_roll_aux_1 = 0.0006\n",
    "        c_roll_aux_2 = 0.0005\n",
    "        front_surface = 2\n",
    "        weight_locomotive_ton = 83\n",
    "        weight_car_ton = 20\n",
    "        capacity_car_ton = 60\n",
    "        capacity_loc_cars = 30\n",
    "        axles_per_car = 4\n",
    "        engine_efficiency = 0.65\n",
    "    \n",
    "    def mesoscopic_train(train, trip, k):\n",
    "    \n",
    "        number_of_total_wagons = math.ceil(trip.payload_ton / train.capacity_car_ton)\n",
    "        number_of_trains = math.ceil(number_of_total_wagons / train.capacity_loc_cars)\n",
    "        payload_ton_total = trip.payload_ton\n",
    "\n",
    "        i = 0\n",
    "        while i < number_of_trains:\n",
    "            payload_ton = min(payload_ton_total, train.capacity_car_ton*train.capacity_loc_cars)\n",
    "            number_of_wagons = math.ceil(payload_ton / train.capacity_car_ton)\n",
    "            weight_total_train_ton = train.weight_locomotive_ton + train.weight_car_ton * number_of_wagons + payload_ton\n",
    "\n",
    "            # physical parameters\n",
    "            rho = 1.2\n",
    "            g = 9.81\n",
    "\n",
    "            # air resistance\n",
    "            c_air = train.c_air_loc + number_of_wagons * train.c_air_car\n",
    "            p_air = (1/2000) * c_air * rho * train.front_surface * pow(trip.speed_ms, 3)\n",
    "\n",
    "            # rolling resistance\n",
    "            c_roll = train.c_roll_loc * (train.weight_locomotive_ton / weight_total_train_ton)\n",
    "            c_roll += train.c_roll_car * ((train.weight_car_ton * number_of_wagons) / weight_total_train_ton)\n",
    "            c_roll += (train.axles_per_car * number_of_wagons) / (10 * weight_total_train_ton * g)\n",
    "            c_roll += train.c_roll_aux_1 * (trip.speed_kmh / 100)\n",
    "            c_roll += train.c_roll_aux_2 * pow((trip.speed_kmh / 100), 2)\n",
    "            p_roll = c_roll * g * weight_total_train_ton * trip.speed_ms\n",
    "\n",
    "            # gradient resistance\n",
    "            p_gradient = weight_total_train_ton * g * trip.speed_ms * trip.gradient_abs\n",
    "\n",
    "            # acceleration resistance\n",
    "            w_inert = (0.52/(2*3600)) * weight_total_train_ton * pow(trip.speed_ms, 2)\n",
    "\n",
    "            # total energy demand\n",
    "            p_drive = p_air + p_roll + p_gradient\n",
    "            energy_in_kwh = (trip.distance_km / trip.speed_kmh) * p_drive\n",
    "            energy_in_kwh += trip.number_of_acc_processes_per_km * trip.distance_km * w_inert\n",
    "\n",
    "            # consider locomotive efficiency => results in the actual energy demand\n",
    "            energy_in_kwh = k * (energy_in_kwh / train.engine_efficiency)\n",
    "\n",
    "            payload_ton_total -= payload_ton\n",
    "            number_of_total_wagons -= number_of_wagons\n",
    "            i+=1\n",
    "\n",
    "        return energy_in_kwh\n",
    "    \n",
    "    return mesoscopic_train(train, trip(distance, payload), k)\n"
   ]
  },
  {
   "cell_type": "code",
   "execution_count": 73,
   "id": "74f0d64a",
   "metadata": {},
   "outputs": [
    {
     "data": {
      "text/plain": [
       "290076.3956325745"
      ]
     },
     "execution_count": 73,
     "metadata": {},
     "output_type": "execute_result"
    }
   ],
   "source": [
    "co2_train(1800, 20)"
   ]
  },
  {
   "cell_type": "code",
   "execution_count": 235,
   "id": "2e7b5260",
   "metadata": {},
   "outputs": [],
   "source": [
    "from loguru import logger\n",
    "import numpy as np\n",
    "import math\n",
    "\n",
    "def co2_truck(payload_ton, distance_km):\n",
    "    print(payload_ton)\n",
    "    print(distance_km)\n",
    "    k = 3.24\n",
    "    \n",
    "    class trip_truck:\n",
    "        \"trip specific parameters\"\n",
    "        gradient_abs = 0\n",
    "        speed_kmh = 83\n",
    "        speed_ms = (speed_kmh*1000)/3600\n",
    "        number_of_acc_processes_per_km = 0.2\n",
    "        \n",
    "    class truck:\n",
    "        \"technical parameters\"\n",
    "        c_air = 0.6\n",
    "        c_roll = 0.006\n",
    "        front_surface = 9 #m3\n",
    "        empty_weight_ton = 8 #t\n",
    "        max_capacity = 40 #t\n",
    "        energy_efficiency = 0.88 \n",
    "        max_power = 300\n",
    "        r_idle = 3\n",
    "        r_full = 68\n",
    "        idle_fuel_consumption_rate = 3\n",
    "        max_fuel_consumption_rate = 68\n",
    "    \n",
    "    def mesoscopic_truck(truck, trip, k):\n",
    "\n",
    "        weight_total_truck_ton = payload_ton + truck.empty_weight_ton\n",
    "        print(weight_total_truck_ton, payload_ton , truck.empty_weight_ton)\n",
    "\n",
    "        # physical parameters\n",
    "        rho = 1.2\n",
    "        g = 9.81\n",
    "\n",
    "        # air resistance\n",
    "        p_air = (1/2000) * truck.c_air * rho * truck.front_surface * pow(trip.speed_ms, 3)\n",
    "\n",
    "        # rolling resistance\n",
    "        p_roll = truck.c_roll * g * weight_total_truck_ton * trip.speed_ms\n",
    "        print(p_roll)\n",
    "        \n",
    "        # gradient resistance\n",
    "        p_gradient = weight_total_truck_ton * g * trip.speed_ms * trip.gradient_abs\n",
    "\n",
    "        # acceleration resistance\n",
    "        w_inert = (0.504/(2*3600)) * weight_total_truck_ton * pow(trip.speed_ms, 2)\n",
    "\n",
    "        # total energy demand\n",
    "        p_drive = p_air + p_roll + p_gradient\n",
    "        energy_in_kwh = (distance_km / trip.speed_kmh) * p_drive\n",
    "        energy_in_kwh += trip.number_of_acc_processes_per_km * distance_km * w_inert\n",
    "\n",
    "        # consider trucks efficiency => results in the actual energy demand\n",
    "        co2 = k*(distance_km / trip.speed_kmh)*truck.r_idle + k*((truck.r_full-truck.r_idle)/(truck.max_power))*(energy_in_kwh/truck.energy_efficiency)\n",
    "\n",
    "        return co2\n",
    "    \n",
    "    return mesoscopic_truck(truck, trip_truck, k)\n",
    "\n",
    "def co2_train(payload_ton, distance_km):\n",
    "    print(payload_ton)\n",
    "    print(distance_km)\n",
    "    k = 0.574 #kgco2/kwh\n",
    "    \n",
    "    class trip_train:\n",
    "        \"trip specific parameters\"\n",
    "        gradient_abs = 0\n",
    "        speed_kmh = 73\n",
    "        speed_ms = (speed_kmh*1000)/3600\n",
    "        number_of_acc_processes_per_km = 0.2\n",
    "        \n",
    "    class train:\n",
    "        \"technical parameters\"\n",
    "        c_air_car = 0.22\n",
    "        c_air_loc = 0.8\n",
    "        c_roll_loc = 0.003\n",
    "        c_roll_car = 0.0006\n",
    "        c_roll_aux_1 = 0.0005\n",
    "        c_roll_aux_2 = 0.0006\n",
    "        front_surface = 9\n",
    "        weight_locomotive_ton = 110\n",
    "        weight_car_ton = 25\n",
    "        capacity_car_ton = 60\n",
    "        capacity_loc_cars = 30\n",
    "        axles_per_car = 4\n",
    "        engine_efficiency = 0.65\n",
    "    \n",
    "    def mesoscopic_train(train, trip, k):\n",
    "        \n",
    "        number_of_wagons = math.ceil(payload_ton / train.capacity_car_ton)\n",
    "        weight_total_train_ton = train.weight_locomotive_ton + train.weight_car_ton * number_of_wagons + payload_ton\n",
    "        \n",
    "        # physical parameters\n",
    "        rho = 1.2\n",
    "        g = 9.81\n",
    "        \n",
    "        print(number_of_wagons)\n",
    "\n",
    "        # air resistance\n",
    "        c_air = train.c_air_loc + number_of_wagons * train.c_air_car\n",
    "        p_air = (1/2000) * c_air * rho * train.front_surface * pow(trip.speed_ms, 3)\n",
    "\n",
    "        # rolling resistance\n",
    "        c_roll = train.c_roll_loc * (train.weight_locomotive_ton / weight_total_train_ton)\n",
    "        print(c_roll)\n",
    "        c_roll += train.c_roll_car * ((train.weight_car_ton * number_of_wagons+payload_ton) / weight_total_train_ton)\n",
    "        print(c_roll)\n",
    "        c_roll += (train.axles_per_car * number_of_wagons) / (10 * weight_total_train_ton * g)\n",
    "        print(c_roll)\n",
    "        c_roll += train.c_roll_aux_1 * (trip.speed_kmh / 100)\n",
    "        print(c_roll)\n",
    "        c_roll += train.c_roll_aux_2 * pow((trip.speed_kmh / 100), 2)\n",
    "        print(c_roll)\n",
    "        p_roll = c_roll * g * weight_total_train_ton * trip.speed_ms\n",
    "\n",
    "        # gradient resistance\n",
    "        p_gradient = weight_total_train_ton * g * trip.speed_ms * trip.gradient_abs\n",
    "\n",
    "        # acceleration resistance\n",
    "        w_inert = (0.52/(2*3600)) * weight_total_train_ton * pow(trip.speed_ms, 2)\n",
    "\n",
    "        # total energy demand\n",
    "        p_drive = p_air + p_roll + p_gradient\n",
    "        energy_in_kwh = (distance_km / trip.speed_kmh) * p_drive\n",
    "        energy_in_kwh += trip.number_of_acc_processes_per_km * distance_km * w_inert\n",
    "\n",
    "        # consider locomotive efficiency => results in the actual energy demand\n",
    "        co2 = k * (1/train.engine_efficiency) * energy_in_kwh\n",
    "\n",
    "        return co2\n",
    "    \n",
    "    return mesoscopic_train(train, trip_train, k)"
   ]
  },
  {
   "cell_type": "code",
   "execution_count": 236,
   "id": "5cc96c3b",
   "metadata": {
    "scrolled": false
   },
   "outputs": [
    {
     "name": "stdout",
     "output_type": "stream",
     "text": [
      "16\n",
      "1\n",
      "24 16 8\n",
      "32.5692\n"
     ]
    },
    {
     "data": {
      "text/plain": [
       "59640.53776184283"
      ]
     },
     "execution_count": 236,
     "metadata": {},
     "output_type": "execute_result"
    }
   ],
   "source": [
    "co2_truck(16, 1)*1000*62.5"
   ]
  },
  {
   "cell_type": "code",
   "execution_count": 237,
   "id": "fd49633b",
   "metadata": {},
   "outputs": [
    {
     "data": {
      "text/plain": [
       "62.5"
      ]
     },
     "execution_count": 237,
     "metadata": {},
     "output_type": "execute_result"
    }
   ],
   "source": [
    "1000/16"
   ]
  },
  {
   "cell_type": "code",
   "execution_count": 238,
   "id": "a1397af2",
   "metadata": {},
   "outputs": [
    {
     "data": {
      "text/plain": [
       "16.666666666666668"
      ]
     },
     "execution_count": 238,
     "metadata": {},
     "output_type": "execute_result"
    }
   ],
   "source": [
    "1000/60"
   ]
  },
  {
   "cell_type": "code",
   "execution_count": 239,
   "id": "d46b6483",
   "metadata": {},
   "outputs": [
    {
     "name": "stdout",
     "output_type": "stream",
     "text": [
      "1000\n",
      "100\n",
      "17\n",
      "0.00021498371335504888\n",
      "0.0007719869706840391\n",
      "0.0012235636706544875\n",
      "0.0015885636706544875\n",
      "0.0019083036706544875\n"
     ]
    },
    {
     "data": {
      "text/plain": [
       "17.57265286533727"
      ]
     },
     "execution_count": 239,
     "metadata": {},
     "output_type": "execute_result"
    }
   ],
   "source": [
    "co2_train(1000, 100)/100"
   ]
  },
  {
   "cell_type": "code",
   "execution_count": 208,
   "id": "7fe44491",
   "metadata": {},
   "outputs": [],
   "source": [
    "# richtige lösung 17kgco2/km"
   ]
  },
  {
   "cell_type": "code",
   "execution_count": null,
   "id": "46a173cc",
   "metadata": {},
   "outputs": [],
   "source": []
  }
 ],
 "metadata": {
  "kernelspec": {
   "display_name": "Python 3 (ipykernel)",
   "language": "python",
   "name": "python3"
  },
  "language_info": {
   "codemirror_mode": {
    "name": "ipython",
    "version": 3
   },
   "file_extension": ".py",
   "mimetype": "text/x-python",
   "name": "python",
   "nbconvert_exporter": "python",
   "pygments_lexer": "ipython3",
   "version": "3.10.9"
  }
 },
 "nbformat": 4,
 "nbformat_minor": 5
}
