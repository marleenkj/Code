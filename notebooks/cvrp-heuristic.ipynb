{
 "cells": [
  {
   "cell_type": "code",
   "execution_count": 1,
   "id": "052b90ae",
   "metadata": {},
   "outputs": [],
   "source": [
    "# Distance matrixes"
   ]
  },
  {
   "cell_type": "code",
   "execution_count": 2,
   "id": "a9238937",
   "metadata": {},
   "outputs": [
    {
     "name": "stdout",
     "output_type": "stream",
     "text": [
      "Requirement already satisfied: haversine in c:\\users\\marle\\anaconda3\\lib\\site-packages (2.8.0)\n",
      "Note: you may need to restart the kernel to use updated packages.\n"
     ]
    }
   ],
   "source": [
    "pip install haversine"
   ]
  },
  {
   "cell_type": "code",
   "execution_count": 21,
   "id": "2e136575",
   "metadata": {},
   "outputs": [
    {
     "name": "stdout",
     "output_type": "stream",
     "text": [
      "Collecting vrplib\n",
      "  Downloading vrplib-1.1.0-py3-none-any.whl (21 kB)\n",
      "Requirement already satisfied: numpy<2.0,>=1.19 in c:\\users\\marle\\anaconda3\\lib\\site-packages (from vrplib) (1.23.5)\n",
      "Collecting codecov<3.0.0,>=2.1.13\n",
      "  Downloading codecov-2.1.13-py2.py3-none-any.whl (16 kB)\n",
      "Requirement already satisfied: requests>=2.7.9 in c:\\users\\marle\\anaconda3\\lib\\site-packages (from codecov<3.0.0,>=2.1.13->vrplib) (2.28.1)\n",
      "Collecting coverage\n",
      "  Downloading coverage-7.2.7-cp310-cp310-win_amd64.whl (204 kB)\n",
      "     -------------------------------------- 204.1/204.1 kB 4.2 MB/s eta 0:00:00\n",
      "Requirement already satisfied: charset-normalizer<3,>=2 in c:\\users\\marle\\anaconda3\\lib\\site-packages (from requests>=2.7.9->codecov<3.0.0,>=2.1.13->vrplib) (2.0.4)\n",
      "Requirement already satisfied: urllib3<1.27,>=1.21.1 in c:\\users\\marle\\anaconda3\\lib\\site-packages (from requests>=2.7.9->codecov<3.0.0,>=2.1.13->vrplib) (1.26.14)\n",
      "Requirement already satisfied: idna<4,>=2.5 in c:\\users\\marle\\anaconda3\\lib\\site-packages (from requests>=2.7.9->codecov<3.0.0,>=2.1.13->vrplib) (3.4)\n",
      "Requirement already satisfied: certifi>=2017.4.17 in c:\\users\\marle\\anaconda3\\lib\\site-packages (from requests>=2.7.9->codecov<3.0.0,>=2.1.13->vrplib) (2023.5.7)\n",
      "Installing collected packages: coverage, codecov, vrplib\n",
      "Successfully installed codecov-2.1.13 coverage-7.2.7 vrplib-1.1.0\n",
      "Note: you may need to restart the kernel to use updated packages.\n"
     ]
    }
   ],
   "source": [
    "pip install vrplib"
   ]
  },
  {
   "cell_type": "code",
   "execution_count": 3,
   "id": "cc16b1ad",
   "metadata": {},
   "outputs": [],
   "source": [
    "import haversine"
   ]
  },
  {
   "cell_type": "code",
   "execution_count": 22,
   "id": "39005a85",
   "metadata": {},
   "outputs": [],
   "source": [
    "import pandas as pd\n",
    "import json\n",
    "import requests\n",
    "import numpy as np\n",
    "import datetime as dt\n",
    "\n",
    "%reload_ext autoreload\n",
    "%autoreload 2\n",
    "\n",
    "import sys\n",
    "sys.path.append('..')\n",
    "from src.distance import get_haversine_distance, get_distance_aws\n",
    "\n",
    "from src.co2 import co2_truck, co2_train\n",
    "from src.data_matrix import create_data_model, create_dict_points\n",
    "from src.cvrp_heuristic import find_nearest_customer, construct_initial_solution, local_search, evaluate_cvrp\n",
    "from src.alns_heuristic import plot_solution"
   ]
  },
  {
   "cell_type": "markdown",
   "id": "d7009b8a",
   "metadata": {},
   "source": [
    "## Functions"
   ]
  },
  {
   "cell_type": "code",
   "execution_count": 5,
   "id": "840feefb",
   "metadata": {},
   "outputs": [],
   "source": [
    "def calculate_distance(point1, point2, data):\n",
    "    # Calculate the distance between two points considering the current load\n",
    "    # Modify this function to include your own cost calculation logic based on load\n",
    "    # For example, you can define a function that calculates a cost function based on load-dependent factors\n",
    "    distance = data['distance_matrix']\n",
    "    # Modify the distance based on the current load\n",
    "    # For example, you can add a load-dependent factor to the distance calculation\n",
    "    modified_distance = distance * (1 + current_load)  # Example modification, adjust as per your requirements\n",
    "    return modified_distance\n",
    "\n",
    "def calculate_total_distance(route, data):\n",
    "    # Calculate the total distance of a route\n",
    "    total_distance = 0\n",
    "    for i in range(len(route) - 1):\n",
    "        total_distance += data[\"distance_matrix\"][data[\"customers\"].index(route[i])][data[\"customers\"].index(route[i+1])]\n",
    "    return total_distance\n",
    "\n",
    "def total_distance(solution):\n",
    "    total_distance = 0\n",
    "    for route in solution:\n",
    "        route_distance = 0\n",
    "        for i in range(len(route) - 1):\n",
    "            distance_arc = data[\"distance_matrix\"][data[\"customers\"].index(route[i])][data[\"customers\"].index(route[i+1])]\n",
    "            route_distance += distance_arc\n",
    "        total_distance += route_distance\n",
    "    return total_distance"
   ]
  },
  {
   "cell_type": "code",
   "execution_count": 23,
   "id": "2b3bcaaf",
   "metadata": {},
   "outputs": [],
   "source": [
    "class CvrpState:\n",
    "    \"\"\"\n",
    "    Solution state for CVRP. It has two data members, routes and unassigned.\n",
    "    Routes is a list of list of integers, where each inner list corresponds to\n",
    "    a single route denoting the sequence of customers to be visited. A route\n",
    "    does not contain the start and end depot. Unassigned is a list of integers, \n",
    "    each integer representing an unassigned customer.\n",
    "    \"\"\"\n",
    "\n",
    "    def __init__(self, routes, unassigned=None):\n",
    "        self.routes = routes\n",
    "        self.unassigned = unassigned if unassigned is not None else []\n",
    "\n",
    "    def copy(self):\n",
    "        return CvrpState(copy.deepcopy(self.routes), self.unassigned.copy())\n",
    "\n",
    "    def objective(self):\n",
    "        \"\"\"\n",
    "        Computes the total route costs.\n",
    "        \"\"\"\n",
    "        return sum(route_cost(route) for route in self.routes)\n",
    "    \n",
    "    @property\n",
    "    def cost(self):\n",
    "        \"\"\"\n",
    "        Alias for objective method. Used for plotting.\n",
    "        \"\"\"\n",
    "        return self.objective()\n",
    "\n",
    "    def find_route(self, customer):\n",
    "        \"\"\"\n",
    "        Return the route that contains the passed-in customer.\n",
    "        \"\"\"\n",
    "        for route in self.routes:\n",
    "            if customer in route:\n",
    "                return route\n",
    "\n",
    "        raise ValueError(f\"Solution does not contain customer {customer}.\")"
   ]
  },
  {
   "cell_type": "markdown",
   "id": "126a2734",
   "metadata": {},
   "source": [
    "## Data Import"
   ]
  },
  {
   "cell_type": "code",
   "execution_count": 6,
   "id": "03fee6c9",
   "metadata": {
    "scrolled": false
   },
   "outputs": [
    {
     "name": "stderr",
     "output_type": "stream",
     "text": [
      "C:\\Users\\marle\\AppData\\Local\\Temp\\ipykernel_15920\\3938569011.py:1: DtypeWarning: Columns (1,5,14) have mixed types. Specify dtype option on import or set low_memory=False.\n",
      "  df = pd.read_csv('../data/processed/poc3.csv', parse_dates = [\"Pickup date\"])\n"
     ]
    }
   ],
   "source": [
    "df = pd.read_csv('../data/processed/poc3.csv', parse_dates = [\"Pickup date\"])\n",
    "\n",
    "df_clients = df[['Receiver longitude', 'Receiver latitude']].drop_duplicates().reset_index()\n",
    "df_clients.index += 1\n",
    "df_clients= df_clients.reset_index().drop([\"index\"], axis = 1).rename({\"level_0\":\"Receiver name\"}, axis = 1)\n",
    "df_clients[\"Receiver name\"] = \"C\"+df_clients[\"Receiver name\"].astype(str)\n",
    "\n",
    "df_dc = df[['Shipper longitude', 'Shipper latitude', \"DC country\"]].drop_duplicates().reset_index()\n",
    "df_dc.index += 1\n",
    "df_dc = df_dc.reset_index().drop([\"index\"], axis = 1).rename({\"level_0\":\"Shipper name\"}, axis = 1)\n",
    "df_dc[\"Shipper name\"] = \"DC\"+df_dc[\"Shipper name\"].astype(str)\n",
    "\n",
    "df = df[['Pickup date','Country', 'Sender weight (kg)','Shipper longitude','Shipper latitude', 'Receiver longitude', 'Receiver latitude']].merge(df_clients, on = ['Receiver longitude', 'Receiver latitude'], how = \"left\").merge(df_dc, on = ['Shipper longitude', 'Shipper latitude'], how = \"left\")"
   ]
  },
  {
   "cell_type": "markdown",
   "id": "925853f2",
   "metadata": {},
   "source": [
    "## Eröffnungsverfahren"
   ]
  },
  {
   "cell_type": "code",
   "execution_count": 7,
   "id": "7fbac84b",
   "metadata": {},
   "outputs": [],
   "source": [
    "date = \"2022-01-03\"\n",
    "dc = \"DC2\"\n",
    "df_test = df[(df[\"Shipper name\"]==dc)&(df[\"Pickup date\"]>pd.to_datetime(\"2022-01-02\"))&(df[\"Pickup date\"]<pd.to_datetime(\"2022-01-04\"))]\n",
    "df_test = df_test[df_test[\"Sender weight (kg)\"]>30]"
   ]
  },
  {
   "cell_type": "code",
   "execution_count": 8,
   "id": "46a8bdce",
   "metadata": {},
   "outputs": [
    {
     "data": {
      "text/plain": [
       "92"
      ]
     },
     "execution_count": 8,
     "metadata": {},
     "output_type": "execute_result"
    }
   ],
   "source": [
    "len(df_test[\"Receiver name\"].unique())"
   ]
  },
  {
   "cell_type": "code",
   "execution_count": 13,
   "id": "02e8e53c",
   "metadata": {},
   "outputs": [],
   "source": [
    "dict_points = create_dict_points(df_test, \"Shipper name\", \"Shipper latitude\", \"Shipper longitude\")       \n",
    "dict_points.update(create_dict_points(df_test, \"Receiver name\", \"Receiver latitude\", \"Receiver longitude\")  )"
   ]
  },
  {
   "cell_type": "code",
   "execution_count": 14,
   "id": "9b267b30",
   "metadata": {
    "scrolled": true
   },
   "outputs": [],
   "source": [
    "data = create_data_model(df_test, dict_points, 10)"
   ]
  },
  {
   "cell_type": "code",
   "execution_count": 15,
   "id": "17d38985",
   "metadata": {},
   "outputs": [],
   "source": [
    "solution = construct_initial_solution(data, 17000)"
   ]
  },
  {
   "cell_type": "code",
   "execution_count": 17,
   "id": "38c1c752",
   "metadata": {},
   "outputs": [],
   "source": [
    "total_cost = evaluate_cvrp(data, solution)"
   ]
  },
  {
   "cell_type": "code",
   "execution_count": 18,
   "id": "90f50228",
   "metadata": {},
   "outputs": [
    {
     "data": {
      "text/plain": [
       "7574.5635130502815"
      ]
     },
     "execution_count": 18,
     "metadata": {},
     "output_type": "execute_result"
    }
   ],
   "source": [
    "total_cost"
   ]
  },
  {
   "cell_type": "code",
   "execution_count": 24,
   "id": "2d10ef17",
   "metadata": {},
   "outputs": [
    {
     "data": {
      "text/plain": [
       "<__main__.CvrpState at 0x16c30b304f0>"
      ]
     },
     "execution_count": 24,
     "metadata": {},
     "output_type": "execute_result"
    }
   ],
   "source": [
    "CvrpState(solution)"
   ]
  },
  {
   "cell_type": "code",
   "execution_count": 28,
   "id": "4459ff73",
   "metadata": {
    "scrolled": true
   },
   "outputs": [
    {
     "data": {
      "text/plain": [
       "array([[     0, 853612, 623696, ..., 648565, 648323, 648565],\n",
       "       [851746,      0, 635855, ..., 646397, 646155, 646397],\n",
       "       [625082, 635435,      0, ...,  27502,  27259,  27502],\n",
       "       ...,\n",
       "       [649110, 646039,  28240, ...,      0,   2674,      0],\n",
       "       [648617, 645546,  27747, ...,   2714,      0,   2714],\n",
       "       [649110, 646039,  28240, ...,      0,   2674,      0]])"
      ]
     },
     "execution_count": 28,
     "metadata": {},
     "output_type": "execute_result"
    }
   ],
   "source": [
    "data[\"distance_matrix\"]"
   ]
  },
  {
   "cell_type": "code",
   "execution_count": 98,
   "id": "c7c9e78d",
   "metadata": {
    "scrolled": true
   },
   "outputs": [
    {
     "data": {
      "application/vnd.plotly.v1+json": {
       "config": {
        "plotlyServerURL": "https://plot.ly"
       },
       "data": [
        {
         "lat": [
          49.00551373
         ],
         "lon": [
          1.179093518
         ],
         "marker": {
          "size": 8
         },
         "mode": "markers+lines",
         "type": "scattermapbox"
        },
        {
         "lat": [
          49.00551373,
          48.7512831012985,
          48.95910998096085,
          48.704239008344814,
          48.704239008344814,
          48.62450265338876,
          48.62450265338876,
          48.75773208592692,
          48.42101626656434,
          47.826073446197135,
          47.74714103057763,
          47.411070017801165,
          47.411070017801165,
          47.411070017801165,
          46.55073798100963,
          46.64337999263935,
          46.64892645617046,
          46.91424026288908,
          47.190289672991945,
          47.03775601789252,
          47.03775601789252,
          47.17777000000007,
          47.170885000000055,
          47.23423453961157,
          47.23423453961157,
          47.23423453961157,
          47.23423453961157,
          47.64442299848628,
          48.10041369077872,
          48.16253198690831,
          48.09450500556012,
          48.09008000000006,
          48.185055000000034,
          48.55294200990019,
          48.20230833488456,
          48.4297040190686,
          48.42601099443903,
          47.32335499363177,
          46.71785800099272,
          47.51384698670071,
          48.72624800015532,
          49.52606001381113,
          49.86527400085018,
          49.30887699384348,
          49.22539599203756,
          49.8194778127141,
          49.8194778127141,
          49.852737580874326,
          49.852737580874326,
          49.852737580874326,
          50.401485633161855,
          50.43249000000003,
          50.43249000000003,
          50.43249000000003,
          50.407288009490486,
          49.61279808525592,
          48.74418699124092,
          48.74418699124092,
          48.74418699124092,
          48.18538801194418,
          48.19584742271584,
          47.819189996374405,
          48.375435009773554,
          48.56010501671588,
          48.825650266543,
          48.2677040008212,
          48.3144450133268,
          48.3144450133268,
          46.00158694320681,
          45.85541699354323,
          45.85541699354323,
          45.64106499107604,
          45.66462300050287,
          45.72176398510194,
          45.72605099330008,
          45.75263201992615,
          45.72185501257045,
          45.789780000000064,
          45.64535068171385,
          44.92464998034976,
          44.891822005106064,
          43.987270986655375,
          43.987270986655375,
          43.987270986655375,
          43.93436500054523,
          43.93436500054523,
          44.03604800535183,
          43.4843339973522,
          43.28813401203982,
          43.2890610086215,
          43.6575940128684,
          43.6575940128684,
          43.54362768965141,
          43.54362768965141,
          43.54362768965141,
          43.68383093193556,
          44.06283401142005,
          44.45525684054221,
          45.13764398877399,
          45.8114290171356,
          45.962178576739504,
          45.784350985560735,
          45.784350985560735,
          45.7814130027692,
          44.56365000203422,
          44.54509128460924,
          42.61301000000003,
          43.2204383104834,
          43.2295720202275,
          43.24002901243048,
          44.76524998655788,
          44.773578370758806,
          49.00551373
         ],
         "lon": [
          1.179093518,
          1.353073393291904,
          1.81896984838719,
          2.303411030351839,
          2.303411030351839,
          2.356350511450959,
          2.356350511450959,
          2.4521019261153163,
          1.8828958164232752,
          1.673623253211009,
          0.8636809124853077,
          0.6241210366711698,
          0.6241210366711698,
          0.6241210366711698,
          0.305046038844182,
          -0.22898001606994,
          -0.2363831310847347,
          -0.4672095034215028,
          -0.5146693719555461,
          -0.9200329803489352,
          -0.9200329803489352,
          -1.2603199999999788,
          -1.613651023999978,
          -1.6542563064403342,
          -1.6542563064403342,
          -1.6542563064403342,
          -1.6542563064403342,
          -1.6628349766427846,
          -1.6301779695316203,
          -1.6490660242964736,
          -1.4182499942454712,
          -1.3723699999999326,
          -1.9342101209999785,
          -3.1160450089331846,
          -4.234494313276556,
          -4.462656008295085,
          -4.487368038151118,
          -2.408362013478012,
          -1.3260380371129372,
          -0.4694020005266281,
          -0.5868140238275714,
          1.0398180042578815,
          1.0511420392669493,
          2.32744374505534,
          2.909787997095748,
          3.2891042916017663,
          3.2891042916017663,
          3.254816127898563,
          3.254816127898563,
          3.254816127898563,
          2.977070703105354,
          2.975786546000052,
          2.975786546000052,
          2.975786546000052,
          3.663695009268679,
          6.16987793993664,
          6.173715007572298,
          6.173715007572298,
          6.173715007572298,
          6.437900022807497,
          6.425362176330132,
          7.312981024064584,
          7.59879302587305,
          7.64665897360382,
          7.765764791523622,
          4.042772028615133,
          4.083410009780636,
          4.083410009780636,
          5.03013016368055,
          5.282961020843572,
          5.282961020843572,
          5.103532972328139,
          5.00521199079472,
          4.97727896318645,
          4.969133010585381,
          4.9070080206296325,
          4.873171031881668,
          4.927436387000057,
          4.869619129679231,
          4.919864016082073,
          4.888962034550019,
          4.861877004085983,
          4.861877004085983,
          4.861877004085983,
          4.778656021123112,
          4.778656021123112,
          5.035480970998975,
          5.386983959650138,
          5.488697013579639,
          5.601160025969676,
          3.9006820059850327,
          3.9006820059850327,
          2.2548045755193526,
          2.2548045755193526,
          2.2548045755193526,
          1.4064828185316456,
          1.099907029932325,
          1.4392211725955537,
          1.467956985099221,
          1.275866982189882,
          2.189091130611202,
          3.1409799974136945,
          3.1409799974136945,
          3.125086986983689,
          6.098436967515596,
          6.064806451549244,
          9.43931218700004,
          0.032838685965529,
          0.044666378676641,
          0.010262969886071,
          -0.5617150015019376,
          -0.6277461011231843,
          1.179093518
         ],
         "marker": {
          "size": 8
         },
         "mode": "markers+lines",
         "type": "scattermapbox"
        },
        {
         "lat": [
          49.00551373,
          45.71932598283482,
          44.83250998185599,
          44.855890001568895,
          44.71249399460504,
          44.71249399460504,
          44.71249399460504,
          44.72738500000003,
          44.72738500000003,
          44.72738500000003,
          44.72738500000003,
          49.00551373
         ],
         "lon": [
          1.179093518,
          -0.6484400390872906,
          -0.539142033336276,
          -0.6672239679224958,
          -0.7306359991108309,
          -0.7306359991108309,
          -0.7306359991108309,
          -0.7340960359999258,
          -0.7340960359999258,
          -0.7340960359999258,
          -0.7340960359999258,
          1.179093518
         ],
         "marker": {
          "size": 8
         },
         "mode": "markers+lines",
         "type": "scattermapbox"
        }
       ],
       "layout": {
        "mapbox": {
         "center": {
          "lat": 44,
          "lon": 0
         },
         "style": "open-street-map",
         "zoom": 5
        },
        "margin": {
         "b": 40,
         "l": 0,
         "r": 0,
         "t": 40
        },
        "template": {
         "data": {
          "bar": [
           {
            "error_x": {
             "color": "#2a3f5f"
            },
            "error_y": {
             "color": "#2a3f5f"
            },
            "marker": {
             "line": {
              "color": "#E5ECF6",
              "width": 0.5
             },
             "pattern": {
              "fillmode": "overlay",
              "size": 10,
              "solidity": 0.2
             }
            },
            "type": "bar"
           }
          ],
          "barpolar": [
           {
            "marker": {
             "line": {
              "color": "#E5ECF6",
              "width": 0.5
             },
             "pattern": {
              "fillmode": "overlay",
              "size": 10,
              "solidity": 0.2
             }
            },
            "type": "barpolar"
           }
          ],
          "carpet": [
           {
            "aaxis": {
             "endlinecolor": "#2a3f5f",
             "gridcolor": "white",
             "linecolor": "white",
             "minorgridcolor": "white",
             "startlinecolor": "#2a3f5f"
            },
            "baxis": {
             "endlinecolor": "#2a3f5f",
             "gridcolor": "white",
             "linecolor": "white",
             "minorgridcolor": "white",
             "startlinecolor": "#2a3f5f"
            },
            "type": "carpet"
           }
          ],
          "choropleth": [
           {
            "colorbar": {
             "outlinewidth": 0,
             "ticks": ""
            },
            "type": "choropleth"
           }
          ],
          "contour": [
           {
            "colorbar": {
             "outlinewidth": 0,
             "ticks": ""
            },
            "colorscale": [
             [
              0,
              "#0d0887"
             ],
             [
              0.1111111111111111,
              "#46039f"
             ],
             [
              0.2222222222222222,
              "#7201a8"
             ],
             [
              0.3333333333333333,
              "#9c179e"
             ],
             [
              0.4444444444444444,
              "#bd3786"
             ],
             [
              0.5555555555555556,
              "#d8576b"
             ],
             [
              0.6666666666666666,
              "#ed7953"
             ],
             [
              0.7777777777777778,
              "#fb9f3a"
             ],
             [
              0.8888888888888888,
              "#fdca26"
             ],
             [
              1,
              "#f0f921"
             ]
            ],
            "type": "contour"
           }
          ],
          "contourcarpet": [
           {
            "colorbar": {
             "outlinewidth": 0,
             "ticks": ""
            },
            "type": "contourcarpet"
           }
          ],
          "heatmap": [
           {
            "colorbar": {
             "outlinewidth": 0,
             "ticks": ""
            },
            "colorscale": [
             [
              0,
              "#0d0887"
             ],
             [
              0.1111111111111111,
              "#46039f"
             ],
             [
              0.2222222222222222,
              "#7201a8"
             ],
             [
              0.3333333333333333,
              "#9c179e"
             ],
             [
              0.4444444444444444,
              "#bd3786"
             ],
             [
              0.5555555555555556,
              "#d8576b"
             ],
             [
              0.6666666666666666,
              "#ed7953"
             ],
             [
              0.7777777777777778,
              "#fb9f3a"
             ],
             [
              0.8888888888888888,
              "#fdca26"
             ],
             [
              1,
              "#f0f921"
             ]
            ],
            "type": "heatmap"
           }
          ],
          "heatmapgl": [
           {
            "colorbar": {
             "outlinewidth": 0,
             "ticks": ""
            },
            "colorscale": [
             [
              0,
              "#0d0887"
             ],
             [
              0.1111111111111111,
              "#46039f"
             ],
             [
              0.2222222222222222,
              "#7201a8"
             ],
             [
              0.3333333333333333,
              "#9c179e"
             ],
             [
              0.4444444444444444,
              "#bd3786"
             ],
             [
              0.5555555555555556,
              "#d8576b"
             ],
             [
              0.6666666666666666,
              "#ed7953"
             ],
             [
              0.7777777777777778,
              "#fb9f3a"
             ],
             [
              0.8888888888888888,
              "#fdca26"
             ],
             [
              1,
              "#f0f921"
             ]
            ],
            "type": "heatmapgl"
           }
          ],
          "histogram": [
           {
            "marker": {
             "pattern": {
              "fillmode": "overlay",
              "size": 10,
              "solidity": 0.2
             }
            },
            "type": "histogram"
           }
          ],
          "histogram2d": [
           {
            "colorbar": {
             "outlinewidth": 0,
             "ticks": ""
            },
            "colorscale": [
             [
              0,
              "#0d0887"
             ],
             [
              0.1111111111111111,
              "#46039f"
             ],
             [
              0.2222222222222222,
              "#7201a8"
             ],
             [
              0.3333333333333333,
              "#9c179e"
             ],
             [
              0.4444444444444444,
              "#bd3786"
             ],
             [
              0.5555555555555556,
              "#d8576b"
             ],
             [
              0.6666666666666666,
              "#ed7953"
             ],
             [
              0.7777777777777778,
              "#fb9f3a"
             ],
             [
              0.8888888888888888,
              "#fdca26"
             ],
             [
              1,
              "#f0f921"
             ]
            ],
            "type": "histogram2d"
           }
          ],
          "histogram2dcontour": [
           {
            "colorbar": {
             "outlinewidth": 0,
             "ticks": ""
            },
            "colorscale": [
             [
              0,
              "#0d0887"
             ],
             [
              0.1111111111111111,
              "#46039f"
             ],
             [
              0.2222222222222222,
              "#7201a8"
             ],
             [
              0.3333333333333333,
              "#9c179e"
             ],
             [
              0.4444444444444444,
              "#bd3786"
             ],
             [
              0.5555555555555556,
              "#d8576b"
             ],
             [
              0.6666666666666666,
              "#ed7953"
             ],
             [
              0.7777777777777778,
              "#fb9f3a"
             ],
             [
              0.8888888888888888,
              "#fdca26"
             ],
             [
              1,
              "#f0f921"
             ]
            ],
            "type": "histogram2dcontour"
           }
          ],
          "mesh3d": [
           {
            "colorbar": {
             "outlinewidth": 0,
             "ticks": ""
            },
            "type": "mesh3d"
           }
          ],
          "parcoords": [
           {
            "line": {
             "colorbar": {
              "outlinewidth": 0,
              "ticks": ""
             }
            },
            "type": "parcoords"
           }
          ],
          "pie": [
           {
            "automargin": true,
            "type": "pie"
           }
          ],
          "scatter": [
           {
            "fillpattern": {
             "fillmode": "overlay",
             "size": 10,
             "solidity": 0.2
            },
            "type": "scatter"
           }
          ],
          "scatter3d": [
           {
            "line": {
             "colorbar": {
              "outlinewidth": 0,
              "ticks": ""
             }
            },
            "marker": {
             "colorbar": {
              "outlinewidth": 0,
              "ticks": ""
             }
            },
            "type": "scatter3d"
           }
          ],
          "scattercarpet": [
           {
            "marker": {
             "colorbar": {
              "outlinewidth": 0,
              "ticks": ""
             }
            },
            "type": "scattercarpet"
           }
          ],
          "scattergeo": [
           {
            "marker": {
             "colorbar": {
              "outlinewidth": 0,
              "ticks": ""
             }
            },
            "type": "scattergeo"
           }
          ],
          "scattergl": [
           {
            "marker": {
             "colorbar": {
              "outlinewidth": 0,
              "ticks": ""
             }
            },
            "type": "scattergl"
           }
          ],
          "scattermapbox": [
           {
            "marker": {
             "colorbar": {
              "outlinewidth": 0,
              "ticks": ""
             }
            },
            "type": "scattermapbox"
           }
          ],
          "scatterpolar": [
           {
            "marker": {
             "colorbar": {
              "outlinewidth": 0,
              "ticks": ""
             }
            },
            "type": "scatterpolar"
           }
          ],
          "scatterpolargl": [
           {
            "marker": {
             "colorbar": {
              "outlinewidth": 0,
              "ticks": ""
             }
            },
            "type": "scatterpolargl"
           }
          ],
          "scatterternary": [
           {
            "marker": {
             "colorbar": {
              "outlinewidth": 0,
              "ticks": ""
             }
            },
            "type": "scatterternary"
           }
          ],
          "surface": [
           {
            "colorbar": {
             "outlinewidth": 0,
             "ticks": ""
            },
            "colorscale": [
             [
              0,
              "#0d0887"
             ],
             [
              0.1111111111111111,
              "#46039f"
             ],
             [
              0.2222222222222222,
              "#7201a8"
             ],
             [
              0.3333333333333333,
              "#9c179e"
             ],
             [
              0.4444444444444444,
              "#bd3786"
             ],
             [
              0.5555555555555556,
              "#d8576b"
             ],
             [
              0.6666666666666666,
              "#ed7953"
             ],
             [
              0.7777777777777778,
              "#fb9f3a"
             ],
             [
              0.8888888888888888,
              "#fdca26"
             ],
             [
              1,
              "#f0f921"
             ]
            ],
            "type": "surface"
           }
          ],
          "table": [
           {
            "cells": {
             "fill": {
              "color": "#EBF0F8"
             },
             "line": {
              "color": "white"
             }
            },
            "header": {
             "fill": {
              "color": "#C8D4E3"
             },
             "line": {
              "color": "white"
             }
            },
            "type": "table"
           }
          ]
         },
         "layout": {
          "annotationdefaults": {
           "arrowcolor": "#2a3f5f",
           "arrowhead": 0,
           "arrowwidth": 1
          },
          "autotypenumbers": "strict",
          "coloraxis": {
           "colorbar": {
            "outlinewidth": 0,
            "ticks": ""
           }
          },
          "colorscale": {
           "diverging": [
            [
             0,
             "#8e0152"
            ],
            [
             0.1,
             "#c51b7d"
            ],
            [
             0.2,
             "#de77ae"
            ],
            [
             0.3,
             "#f1b6da"
            ],
            [
             0.4,
             "#fde0ef"
            ],
            [
             0.5,
             "#f7f7f7"
            ],
            [
             0.6,
             "#e6f5d0"
            ],
            [
             0.7,
             "#b8e186"
            ],
            [
             0.8,
             "#7fbc41"
            ],
            [
             0.9,
             "#4d9221"
            ],
            [
             1,
             "#276419"
            ]
           ],
           "sequential": [
            [
             0,
             "#0d0887"
            ],
            [
             0.1111111111111111,
             "#46039f"
            ],
            [
             0.2222222222222222,
             "#7201a8"
            ],
            [
             0.3333333333333333,
             "#9c179e"
            ],
            [
             0.4444444444444444,
             "#bd3786"
            ],
            [
             0.5555555555555556,
             "#d8576b"
            ],
            [
             0.6666666666666666,
             "#ed7953"
            ],
            [
             0.7777777777777778,
             "#fb9f3a"
            ],
            [
             0.8888888888888888,
             "#fdca26"
            ],
            [
             1,
             "#f0f921"
            ]
           ],
           "sequentialminus": [
            [
             0,
             "#0d0887"
            ],
            [
             0.1111111111111111,
             "#46039f"
            ],
            [
             0.2222222222222222,
             "#7201a8"
            ],
            [
             0.3333333333333333,
             "#9c179e"
            ],
            [
             0.4444444444444444,
             "#bd3786"
            ],
            [
             0.5555555555555556,
             "#d8576b"
            ],
            [
             0.6666666666666666,
             "#ed7953"
            ],
            [
             0.7777777777777778,
             "#fb9f3a"
            ],
            [
             0.8888888888888888,
             "#fdca26"
            ],
            [
             1,
             "#f0f921"
            ]
           ]
          },
          "colorway": [
           "#636efa",
           "#EF553B",
           "#00cc96",
           "#ab63fa",
           "#FFA15A",
           "#19d3f3",
           "#FF6692",
           "#B6E880",
           "#FF97FF",
           "#FECB52"
          ],
          "font": {
           "color": "#2a3f5f"
          },
          "geo": {
           "bgcolor": "white",
           "lakecolor": "white",
           "landcolor": "#E5ECF6",
           "showlakes": true,
           "showland": true,
           "subunitcolor": "white"
          },
          "hoverlabel": {
           "align": "left"
          },
          "hovermode": "closest",
          "mapbox": {
           "style": "light"
          },
          "paper_bgcolor": "white",
          "plot_bgcolor": "#E5ECF6",
          "polar": {
           "angularaxis": {
            "gridcolor": "white",
            "linecolor": "white",
            "ticks": ""
           },
           "bgcolor": "#E5ECF6",
           "radialaxis": {
            "gridcolor": "white",
            "linecolor": "white",
            "ticks": ""
           }
          },
          "scene": {
           "xaxis": {
            "backgroundcolor": "#E5ECF6",
            "gridcolor": "white",
            "gridwidth": 2,
            "linecolor": "white",
            "showbackground": true,
            "ticks": "",
            "zerolinecolor": "white"
           },
           "yaxis": {
            "backgroundcolor": "#E5ECF6",
            "gridcolor": "white",
            "gridwidth": 2,
            "linecolor": "white",
            "showbackground": true,
            "ticks": "",
            "zerolinecolor": "white"
           },
           "zaxis": {
            "backgroundcolor": "#E5ECF6",
            "gridcolor": "white",
            "gridwidth": 2,
            "linecolor": "white",
            "showbackground": true,
            "ticks": "",
            "zerolinecolor": "white"
           }
          },
          "shapedefaults": {
           "line": {
            "color": "#2a3f5f"
           }
          },
          "ternary": {
           "aaxis": {
            "gridcolor": "white",
            "linecolor": "white",
            "ticks": ""
           },
           "baxis": {
            "gridcolor": "white",
            "linecolor": "white",
            "ticks": ""
           },
           "bgcolor": "#E5ECF6",
           "caxis": {
            "gridcolor": "white",
            "linecolor": "white",
            "ticks": ""
           }
          },
          "title": {
           "x": 0.05
          },
          "xaxis": {
           "automargin": true,
           "gridcolor": "white",
           "linecolor": "white",
           "ticks": "",
           "title": {
            "standoff": 15
           },
           "zerolinecolor": "white",
           "zerolinewidth": 2
          },
          "yaxis": {
           "automargin": true,
           "gridcolor": "white",
           "linecolor": "white",
           "ticks": "",
           "title": {
            "standoff": 15
           },
           "zerolinecolor": "white",
           "zerolinewidth": 2
          }
         }
        }
       }
      },
      "text/html": [
       "<div>                            <div id=\"58f9ba69-dcc6-402e-b568-2af289d73fd1\" class=\"plotly-graph-div\" style=\"height:525px; width:100%;\"></div>            <script type=\"text/javascript\">                require([\"plotly\"], function(Plotly) {                    window.PLOTLYENV=window.PLOTLYENV || {};                                    if (document.getElementById(\"58f9ba69-dcc6-402e-b568-2af289d73fd1\")) {                    Plotly.newPlot(                        \"58f9ba69-dcc6-402e-b568-2af289d73fd1\",                        [{\"lat\":[49.00551373],\"lon\":[1.179093518],\"marker\":{\"size\":8},\"mode\":\"markers+lines\",\"type\":\"scattermapbox\"},{\"lat\":[49.00551373,48.7512831012985,48.95910998096085,48.704239008344814,48.704239008344814,48.62450265338876,48.62450265338876,48.75773208592692,48.42101626656434,47.826073446197135,47.74714103057763,47.411070017801165,47.411070017801165,47.411070017801165,46.55073798100963,46.64337999263935,46.64892645617046,46.91424026288908,47.190289672991945,47.03775601789252,47.03775601789252,47.17777000000007,47.170885000000055,47.23423453961157,47.23423453961157,47.23423453961157,47.23423453961157,47.64442299848628,48.10041369077872,48.16253198690831,48.09450500556012,48.09008000000006,48.185055000000034,48.55294200990019,48.20230833488456,48.4297040190686,48.42601099443903,47.32335499363177,46.71785800099272,47.51384698670071,48.72624800015532,49.52606001381113,49.86527400085018,49.30887699384348,49.22539599203756,49.8194778127141,49.8194778127141,49.852737580874326,49.852737580874326,49.852737580874326,50.401485633161855,50.43249000000003,50.43249000000003,50.43249000000003,50.407288009490486,49.61279808525592,48.74418699124092,48.74418699124092,48.74418699124092,48.18538801194418,48.19584742271584,47.819189996374405,48.375435009773554,48.56010501671588,48.825650266543,48.2677040008212,48.3144450133268,48.3144450133268,46.00158694320681,45.85541699354323,45.85541699354323,45.64106499107604,45.66462300050287,45.72176398510194,45.72605099330008,45.75263201992615,45.72185501257045,45.789780000000064,45.64535068171385,44.92464998034976,44.891822005106064,43.987270986655375,43.987270986655375,43.987270986655375,43.93436500054523,43.93436500054523,44.03604800535183,43.4843339973522,43.28813401203982,43.2890610086215,43.6575940128684,43.6575940128684,43.54362768965141,43.54362768965141,43.54362768965141,43.68383093193556,44.06283401142005,44.45525684054221,45.13764398877399,45.8114290171356,45.962178576739504,45.784350985560735,45.784350985560735,45.7814130027692,44.56365000203422,44.54509128460924,42.61301000000003,43.2204383104834,43.2295720202275,43.24002901243048,44.76524998655788,44.773578370758806,49.00551373],\"lon\":[1.179093518,1.353073393291904,1.81896984838719,2.303411030351839,2.303411030351839,2.356350511450959,2.356350511450959,2.4521019261153163,1.8828958164232752,1.673623253211009,0.8636809124853077,0.6241210366711698,0.6241210366711698,0.6241210366711698,0.305046038844182,-0.22898001606994,-0.2363831310847347,-0.4672095034215028,-0.5146693719555461,-0.9200329803489352,-0.9200329803489352,-1.2603199999999788,-1.613651023999978,-1.6542563064403342,-1.6542563064403342,-1.6542563064403342,-1.6542563064403342,-1.6628349766427846,-1.6301779695316203,-1.6490660242964736,-1.4182499942454712,-1.3723699999999326,-1.9342101209999785,-3.1160450089331846,-4.234494313276556,-4.462656008295085,-4.487368038151118,-2.408362013478012,-1.3260380371129372,-0.4694020005266281,-0.5868140238275714,1.0398180042578815,1.0511420392669493,2.32744374505534,2.909787997095748,3.2891042916017663,3.2891042916017663,3.254816127898563,3.254816127898563,3.254816127898563,2.977070703105354,2.975786546000052,2.975786546000052,2.975786546000052,3.663695009268679,6.16987793993664,6.173715007572298,6.173715007572298,6.173715007572298,6.437900022807497,6.425362176330132,7.312981024064584,7.59879302587305,7.64665897360382,7.765764791523622,4.042772028615133,4.083410009780636,4.083410009780636,5.03013016368055,5.282961020843572,5.282961020843572,5.103532972328139,5.00521199079472,4.97727896318645,4.969133010585381,4.9070080206296325,4.873171031881668,4.927436387000057,4.869619129679231,4.919864016082073,4.888962034550019,4.861877004085983,4.861877004085983,4.861877004085983,4.778656021123112,4.778656021123112,5.035480970998975,5.386983959650138,5.488697013579639,5.601160025969676,3.9006820059850327,3.9006820059850327,2.2548045755193526,2.2548045755193526,2.2548045755193526,1.4064828185316456,1.099907029932325,1.4392211725955537,1.467956985099221,1.275866982189882,2.189091130611202,3.1409799974136945,3.1409799974136945,3.125086986983689,6.098436967515596,6.064806451549244,9.43931218700004,0.032838685965529,0.044666378676641,0.010262969886071,-0.5617150015019376,-0.6277461011231843,1.179093518],\"marker\":{\"size\":8},\"mode\":\"markers+lines\",\"type\":\"scattermapbox\"},{\"lat\":[49.00551373,45.71932598283482,44.83250998185599,44.855890001568895,44.71249399460504,44.71249399460504,44.71249399460504,44.72738500000003,44.72738500000003,44.72738500000003,44.72738500000003,49.00551373],\"lon\":[1.179093518,-0.6484400390872906,-0.539142033336276,-0.6672239679224958,-0.7306359991108309,-0.7306359991108309,-0.7306359991108309,-0.7340960359999258,-0.7340960359999258,-0.7340960359999258,-0.7340960359999258,1.179093518],\"marker\":{\"size\":8},\"mode\":\"markers+lines\",\"type\":\"scattermapbox\"}],                        {\"template\":{\"data\":{\"histogram2dcontour\":[{\"type\":\"histogram2dcontour\",\"colorbar\":{\"outlinewidth\":0,\"ticks\":\"\"},\"colorscale\":[[0.0,\"#0d0887\"],[0.1111111111111111,\"#46039f\"],[0.2222222222222222,\"#7201a8\"],[0.3333333333333333,\"#9c179e\"],[0.4444444444444444,\"#bd3786\"],[0.5555555555555556,\"#d8576b\"],[0.6666666666666666,\"#ed7953\"],[0.7777777777777778,\"#fb9f3a\"],[0.8888888888888888,\"#fdca26\"],[1.0,\"#f0f921\"]]}],\"choropleth\":[{\"type\":\"choropleth\",\"colorbar\":{\"outlinewidth\":0,\"ticks\":\"\"}}],\"histogram2d\":[{\"type\":\"histogram2d\",\"colorbar\":{\"outlinewidth\":0,\"ticks\":\"\"},\"colorscale\":[[0.0,\"#0d0887\"],[0.1111111111111111,\"#46039f\"],[0.2222222222222222,\"#7201a8\"],[0.3333333333333333,\"#9c179e\"],[0.4444444444444444,\"#bd3786\"],[0.5555555555555556,\"#d8576b\"],[0.6666666666666666,\"#ed7953\"],[0.7777777777777778,\"#fb9f3a\"],[0.8888888888888888,\"#fdca26\"],[1.0,\"#f0f921\"]]}],\"heatmap\":[{\"type\":\"heatmap\",\"colorbar\":{\"outlinewidth\":0,\"ticks\":\"\"},\"colorscale\":[[0.0,\"#0d0887\"],[0.1111111111111111,\"#46039f\"],[0.2222222222222222,\"#7201a8\"],[0.3333333333333333,\"#9c179e\"],[0.4444444444444444,\"#bd3786\"],[0.5555555555555556,\"#d8576b\"],[0.6666666666666666,\"#ed7953\"],[0.7777777777777778,\"#fb9f3a\"],[0.8888888888888888,\"#fdca26\"],[1.0,\"#f0f921\"]]}],\"heatmapgl\":[{\"type\":\"heatmapgl\",\"colorbar\":{\"outlinewidth\":0,\"ticks\":\"\"},\"colorscale\":[[0.0,\"#0d0887\"],[0.1111111111111111,\"#46039f\"],[0.2222222222222222,\"#7201a8\"],[0.3333333333333333,\"#9c179e\"],[0.4444444444444444,\"#bd3786\"],[0.5555555555555556,\"#d8576b\"],[0.6666666666666666,\"#ed7953\"],[0.7777777777777778,\"#fb9f3a\"],[0.8888888888888888,\"#fdca26\"],[1.0,\"#f0f921\"]]}],\"contourcarpet\":[{\"type\":\"contourcarpet\",\"colorbar\":{\"outlinewidth\":0,\"ticks\":\"\"}}],\"contour\":[{\"type\":\"contour\",\"colorbar\":{\"outlinewidth\":0,\"ticks\":\"\"},\"colorscale\":[[0.0,\"#0d0887\"],[0.1111111111111111,\"#46039f\"],[0.2222222222222222,\"#7201a8\"],[0.3333333333333333,\"#9c179e\"],[0.4444444444444444,\"#bd3786\"],[0.5555555555555556,\"#d8576b\"],[0.6666666666666666,\"#ed7953\"],[0.7777777777777778,\"#fb9f3a\"],[0.8888888888888888,\"#fdca26\"],[1.0,\"#f0f921\"]]}],\"surface\":[{\"type\":\"surface\",\"colorbar\":{\"outlinewidth\":0,\"ticks\":\"\"},\"colorscale\":[[0.0,\"#0d0887\"],[0.1111111111111111,\"#46039f\"],[0.2222222222222222,\"#7201a8\"],[0.3333333333333333,\"#9c179e\"],[0.4444444444444444,\"#bd3786\"],[0.5555555555555556,\"#d8576b\"],[0.6666666666666666,\"#ed7953\"],[0.7777777777777778,\"#fb9f3a\"],[0.8888888888888888,\"#fdca26\"],[1.0,\"#f0f921\"]]}],\"mesh3d\":[{\"type\":\"mesh3d\",\"colorbar\":{\"outlinewidth\":0,\"ticks\":\"\"}}],\"scatter\":[{\"fillpattern\":{\"fillmode\":\"overlay\",\"size\":10,\"solidity\":0.2},\"type\":\"scatter\"}],\"parcoords\":[{\"type\":\"parcoords\",\"line\":{\"colorbar\":{\"outlinewidth\":0,\"ticks\":\"\"}}}],\"scatterpolargl\":[{\"type\":\"scatterpolargl\",\"marker\":{\"colorbar\":{\"outlinewidth\":0,\"ticks\":\"\"}}}],\"bar\":[{\"error_x\":{\"color\":\"#2a3f5f\"},\"error_y\":{\"color\":\"#2a3f5f\"},\"marker\":{\"line\":{\"color\":\"#E5ECF6\",\"width\":0.5},\"pattern\":{\"fillmode\":\"overlay\",\"size\":10,\"solidity\":0.2}},\"type\":\"bar\"}],\"scattergeo\":[{\"type\":\"scattergeo\",\"marker\":{\"colorbar\":{\"outlinewidth\":0,\"ticks\":\"\"}}}],\"scatterpolar\":[{\"type\":\"scatterpolar\",\"marker\":{\"colorbar\":{\"outlinewidth\":0,\"ticks\":\"\"}}}],\"histogram\":[{\"marker\":{\"pattern\":{\"fillmode\":\"overlay\",\"size\":10,\"solidity\":0.2}},\"type\":\"histogram\"}],\"scattergl\":[{\"type\":\"scattergl\",\"marker\":{\"colorbar\":{\"outlinewidth\":0,\"ticks\":\"\"}}}],\"scatter3d\":[{\"type\":\"scatter3d\",\"line\":{\"colorbar\":{\"outlinewidth\":0,\"ticks\":\"\"}},\"marker\":{\"colorbar\":{\"outlinewidth\":0,\"ticks\":\"\"}}}],\"scattermapbox\":[{\"type\":\"scattermapbox\",\"marker\":{\"colorbar\":{\"outlinewidth\":0,\"ticks\":\"\"}}}],\"scatterternary\":[{\"type\":\"scatterternary\",\"marker\":{\"colorbar\":{\"outlinewidth\":0,\"ticks\":\"\"}}}],\"scattercarpet\":[{\"type\":\"scattercarpet\",\"marker\":{\"colorbar\":{\"outlinewidth\":0,\"ticks\":\"\"}}}],\"carpet\":[{\"aaxis\":{\"endlinecolor\":\"#2a3f5f\",\"gridcolor\":\"white\",\"linecolor\":\"white\",\"minorgridcolor\":\"white\",\"startlinecolor\":\"#2a3f5f\"},\"baxis\":{\"endlinecolor\":\"#2a3f5f\",\"gridcolor\":\"white\",\"linecolor\":\"white\",\"minorgridcolor\":\"white\",\"startlinecolor\":\"#2a3f5f\"},\"type\":\"carpet\"}],\"table\":[{\"cells\":{\"fill\":{\"color\":\"#EBF0F8\"},\"line\":{\"color\":\"white\"}},\"header\":{\"fill\":{\"color\":\"#C8D4E3\"},\"line\":{\"color\":\"white\"}},\"type\":\"table\"}],\"barpolar\":[{\"marker\":{\"line\":{\"color\":\"#E5ECF6\",\"width\":0.5},\"pattern\":{\"fillmode\":\"overlay\",\"size\":10,\"solidity\":0.2}},\"type\":\"barpolar\"}],\"pie\":[{\"automargin\":true,\"type\":\"pie\"}]},\"layout\":{\"autotypenumbers\":\"strict\",\"colorway\":[\"#636efa\",\"#EF553B\",\"#00cc96\",\"#ab63fa\",\"#FFA15A\",\"#19d3f3\",\"#FF6692\",\"#B6E880\",\"#FF97FF\",\"#FECB52\"],\"font\":{\"color\":\"#2a3f5f\"},\"hovermode\":\"closest\",\"hoverlabel\":{\"align\":\"left\"},\"paper_bgcolor\":\"white\",\"plot_bgcolor\":\"#E5ECF6\",\"polar\":{\"bgcolor\":\"#E5ECF6\",\"angularaxis\":{\"gridcolor\":\"white\",\"linecolor\":\"white\",\"ticks\":\"\"},\"radialaxis\":{\"gridcolor\":\"white\",\"linecolor\":\"white\",\"ticks\":\"\"}},\"ternary\":{\"bgcolor\":\"#E5ECF6\",\"aaxis\":{\"gridcolor\":\"white\",\"linecolor\":\"white\",\"ticks\":\"\"},\"baxis\":{\"gridcolor\":\"white\",\"linecolor\":\"white\",\"ticks\":\"\"},\"caxis\":{\"gridcolor\":\"white\",\"linecolor\":\"white\",\"ticks\":\"\"}},\"coloraxis\":{\"colorbar\":{\"outlinewidth\":0,\"ticks\":\"\"}},\"colorscale\":{\"sequential\":[[0.0,\"#0d0887\"],[0.1111111111111111,\"#46039f\"],[0.2222222222222222,\"#7201a8\"],[0.3333333333333333,\"#9c179e\"],[0.4444444444444444,\"#bd3786\"],[0.5555555555555556,\"#d8576b\"],[0.6666666666666666,\"#ed7953\"],[0.7777777777777778,\"#fb9f3a\"],[0.8888888888888888,\"#fdca26\"],[1.0,\"#f0f921\"]],\"sequentialminus\":[[0.0,\"#0d0887\"],[0.1111111111111111,\"#46039f\"],[0.2222222222222222,\"#7201a8\"],[0.3333333333333333,\"#9c179e\"],[0.4444444444444444,\"#bd3786\"],[0.5555555555555556,\"#d8576b\"],[0.6666666666666666,\"#ed7953\"],[0.7777777777777778,\"#fb9f3a\"],[0.8888888888888888,\"#fdca26\"],[1.0,\"#f0f921\"]],\"diverging\":[[0,\"#8e0152\"],[0.1,\"#c51b7d\"],[0.2,\"#de77ae\"],[0.3,\"#f1b6da\"],[0.4,\"#fde0ef\"],[0.5,\"#f7f7f7\"],[0.6,\"#e6f5d0\"],[0.7,\"#b8e186\"],[0.8,\"#7fbc41\"],[0.9,\"#4d9221\"],[1,\"#276419\"]]},\"xaxis\":{\"gridcolor\":\"white\",\"linecolor\":\"white\",\"ticks\":\"\",\"title\":{\"standoff\":15},\"zerolinecolor\":\"white\",\"automargin\":true,\"zerolinewidth\":2},\"yaxis\":{\"gridcolor\":\"white\",\"linecolor\":\"white\",\"ticks\":\"\",\"title\":{\"standoff\":15},\"zerolinecolor\":\"white\",\"automargin\":true,\"zerolinewidth\":2},\"scene\":{\"xaxis\":{\"backgroundcolor\":\"#E5ECF6\",\"gridcolor\":\"white\",\"linecolor\":\"white\",\"showbackground\":true,\"ticks\":\"\",\"zerolinecolor\":\"white\",\"gridwidth\":2},\"yaxis\":{\"backgroundcolor\":\"#E5ECF6\",\"gridcolor\":\"white\",\"linecolor\":\"white\",\"showbackground\":true,\"ticks\":\"\",\"zerolinecolor\":\"white\",\"gridwidth\":2},\"zaxis\":{\"backgroundcolor\":\"#E5ECF6\",\"gridcolor\":\"white\",\"linecolor\":\"white\",\"showbackground\":true,\"ticks\":\"\",\"zerolinecolor\":\"white\",\"gridwidth\":2}},\"shapedefaults\":{\"line\":{\"color\":\"#2a3f5f\"}},\"annotationdefaults\":{\"arrowcolor\":\"#2a3f5f\",\"arrowhead\":0,\"arrowwidth\":1},\"geo\":{\"bgcolor\":\"white\",\"landcolor\":\"#E5ECF6\",\"subunitcolor\":\"white\",\"showland\":true,\"showlakes\":true,\"lakecolor\":\"white\"},\"title\":{\"x\":0.05},\"mapbox\":{\"style\":\"light\"}}},\"margin\":{\"r\":0,\"t\":40,\"l\":0,\"b\":40},\"mapbox\":{\"center\":{\"lat\":44,\"lon\":0},\"zoom\":5,\"style\":\"open-street-map\"}},                        {\"responsive\": true}                    ).then(function(){\n",
       "                            \n",
       "var gd = document.getElementById('58f9ba69-dcc6-402e-b568-2af289d73fd1');\n",
       "var x = new MutationObserver(function (mutations, observer) {{\n",
       "        var display = window.getComputedStyle(gd).display;\n",
       "        if (!display || display === 'none') {{\n",
       "            console.log([gd, 'removed!']);\n",
       "            Plotly.purge(gd);\n",
       "            observer.disconnect();\n",
       "        }}\n",
       "}});\n",
       "\n",
       "// Listen for the removal of the full notebook cells\n",
       "var notebookContainer = gd.closest('#notebook-container');\n",
       "if (notebookContainer) {{\n",
       "    x.observe(notebookContainer, {childList: true});\n",
       "}}\n",
       "\n",
       "// Listen for the clearing of the current output cell\n",
       "var outputEl = gd.closest('.output');\n",
       "if (outputEl) {{\n",
       "    x.observe(outputEl, {childList: true});\n",
       "}}\n",
       "\n",
       "                        })                };                });            </script>        </div>"
      ]
     },
     "metadata": {},
     "output_type": "display_data"
    }
   ],
   "source": [
    "show_map(solution)"
   ]
  },
  {
   "cell_type": "code",
   "execution_count": 43,
   "id": "5b7666b4",
   "metadata": {
    "scrolled": true
   },
   "outputs": [
    {
     "ename": "IndexError",
     "evalue": "list index out of range",
     "output_type": "error",
     "traceback": [
      "\u001b[1;31m---------------------------------------------------------------------------\u001b[0m",
      "\u001b[1;31mIndexError\u001b[0m                                Traceback (most recent call last)",
      "Cell \u001b[1;32mIn[43], line 1\u001b[0m\n\u001b[1;32m----> 1\u001b[0m [{k: v \u001b[38;5;28;01mfor\u001b[39;00m v, k \u001b[38;5;129;01min\u001b[39;00m \u001b[38;5;28menumerate\u001b[39m(data[\u001b[38;5;124m\"\u001b[39m\u001b[38;5;124mcustomers\u001b[39m\u001b[38;5;124m\"\u001b[39m])}\u001b[38;5;241m.\u001b[39mget(a) \u001b[38;5;28;01mfor\u001b[39;00m a \u001b[38;5;129;01min\u001b[39;00m \u001b[43msolution\u001b[49m\u001b[43m[\u001b[49m\u001b[38;5;241;43m2\u001b[39;49m\u001b[43m]\u001b[49m]\n",
      "\u001b[1;31mIndexError\u001b[0m: list index out of range"
     ]
    }
   ],
   "source": [
    "[{k: v for v, k in enumerate(data[\"customers\"])}.get(a) for a in solution[2]]"
   ]
  },
  {
   "cell_type": "markdown",
   "id": "9dd5ccac",
   "metadata": {},
   "source": [
    "# Verbesserungsheuristiken"
   ]
  },
  {
   "cell_type": "code",
   "execution_count": null,
   "id": "27cff599",
   "metadata": {},
   "outputs": [],
   "source": [
    "local_search(solution)"
   ]
  },
  {
   "cell_type": "code",
   "execution_count": null,
   "id": "84d7d0e1",
   "metadata": {},
   "outputs": [],
   "source": [
    "#Heuristik laufen lassen"
   ]
  },
  {
   "cell_type": "code",
   "execution_count": null,
   "id": "f16691c3",
   "metadata": {},
   "outputs": [],
   "source": [
    "alns = ALNS(rnd.RandomState(SEED))\n",
    "alns.add_destroy_operator(random_removal)\n",
    "alns.add_repair_operator(greedy_repair)"
   ]
  },
  {
   "cell_type": "code",
   "execution_count": 99,
   "id": "b33a66e6",
   "metadata": {
    "scrolled": true
   },
   "outputs": [
    {
     "ename": "NameError",
     "evalue": "name 'nearest_neighbor' is not defined",
     "output_type": "error",
     "traceback": [
      "\u001b[1;31m---------------------------------------------------------------------------\u001b[0m",
      "\u001b[1;31mNameError\u001b[0m                                 Traceback (most recent call last)",
      "Cell \u001b[1;32mIn[99], line 1\u001b[0m\n\u001b[1;32m----> 1\u001b[0m init \u001b[38;5;241m=\u001b[39m \u001b[43mnearest_neighbor\u001b[49m()\n\u001b[0;32m      2\u001b[0m select \u001b[38;5;241m=\u001b[39m RouletteWheel([\u001b[38;5;241m25\u001b[39m, \u001b[38;5;241m5\u001b[39m, \u001b[38;5;241m1\u001b[39m, \u001b[38;5;241m0\u001b[39m], \u001b[38;5;241m0.8\u001b[39m, \u001b[38;5;241m1\u001b[39m, \u001b[38;5;241m1\u001b[39m)\n\u001b[0;32m      3\u001b[0m accept \u001b[38;5;241m=\u001b[39m RecordToRecordTravel\u001b[38;5;241m.\u001b[39mautofit(init\u001b[38;5;241m.\u001b[39mobjective(), \u001b[38;5;241m0.02\u001b[39m, \u001b[38;5;241m0\u001b[39m, \u001b[38;5;241m9000\u001b[39m)\n",
      "\u001b[1;31mNameError\u001b[0m: name 'nearest_neighbor' is not defined"
     ]
    }
   ],
   "source": [
    "init = nearest_neighbor()\n",
    "select = RouletteWheel([25, 5, 1, 0], 0.8, 1, 1)\n",
    "accept = RecordToRecordTravel.autofit(init.objective(), 0.02, 0, 9000)\n",
    "stop = MaxRuntime(60)\n",
    "\n",
    "result = alns.iterate(init, select, accept, stop)"
   ]
  },
  {
   "cell_type": "code",
   "execution_count": null,
   "id": "f697e49d",
   "metadata": {},
   "outputs": [],
   "source": [
    "solution = result.best_state\n",
    "objective = solution.objective()\n",
    "pct_diff = 100 * (objective - bks.cost) / bks.cost\n",
    "\n",
    "print(f\"Best heuristic objective is {objective}.\")\n",
    "print(f\"This is {pct_diff:.1f}% worse than the optimal solution, which is {bks.cost}.\")"
   ]
  }
 ],
 "metadata": {
  "kernelspec": {
   "display_name": "Python 3 (ipykernel)",
   "language": "python",
   "name": "python3"
  },
  "language_info": {
   "codemirror_mode": {
    "name": "ipython",
    "version": 3
   },
   "file_extension": ".py",
   "mimetype": "text/x-python",
   "name": "python",
   "nbconvert_exporter": "python",
   "pygments_lexer": "ipython3",
   "version": "3.10.9"
  }
 },
 "nbformat": 4,
 "nbformat_minor": 5
}
