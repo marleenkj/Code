{
 "cells": [
  {
   "cell_type": "code",
   "execution_count": 90,
   "metadata": {},
   "outputs": [
    {
     "name": "stdout",
     "output_type": "stream",
     "text": [
      "<!DOCTYPE html><html><head><meta charset=utf-8><meta http-equiv=X-UA-Compatible content=\"IE=edge\"><meta name=viewport content=\"width=device-width,initial-scale=1\"><link rel=\"shortcut icon\" href=/favicon.ico><link rel=stylesheet href=\"https://fonts.googleapis.com/css?family=Roboto:100,300,400,500,700,900\"><link rel=stylesheet href=\"https://fonts.googleapis.com/css?family=Material+Icons\"><meta name=description content=\"European web portal for information on all kinds of rail service facilities such as freight terminals, marshalling yards, maintenance facilities and fuelling stations. \"><title>Rail Facilities Portal</title><link href=/css/chunk-057df44f.6abe774c.css rel=prefetch><link href=/css/chunk-0fde3e15.07aab14e.css rel=prefetch><link href=/css/chunk-27a4b330.8f4fb86f.css rel=prefetch><link href=/css/chunk-2ccbe090.3cad2015.css rel=prefetch><link href=/css/chunk-6234f08d.dc2133e9.css rel=prefetch><link href=/css/chunk-68d5e876.b57ed621.css rel=prefetch><link href=/css/chunk-6f79a64a.e23d4c56.css rel=prefetch><link href=/css/chunk-7361893c.5068bb6d.css rel=prefetch><link href=/css/chunk-b8a10ecc.f0d5e051.css rel=prefetch><link href=/js/chunk-057df44f.ae1ea0a4.js rel=prefetch><link href=/js/chunk-0fde3e15.018f2f7d.js rel=prefetch><link href=/js/chunk-27a4b330.25a0f8e6.js rel=prefetch><link href=/js/chunk-2ccbe090.8c1f7871.js rel=prefetch><link href=/js/chunk-2d216214.a631c492.js rel=prefetch><link href=/js/chunk-2d237543.1efc250e.js rel=prefetch><link href=/js/chunk-4ddc8f6a.abd793f5.js rel=prefetch><link href=/js/chunk-6234f08d.f99a9d82.js rel=prefetch><link href=/js/chunk-68d5e876.66e70230.js rel=prefetch><link href=/js/chunk-6f79a64a.2553cd62.js rel=prefetch><link href=/js/chunk-7361893c.7928aa1c.js rel=prefetch><link href=/js/chunk-8e6d4daa.49ccd6ae.js rel=prefetch><link href=/js/chunk-b8a10ecc.6c33fbec.js rel=prefetch><link href=/js/chunk-e5abd1b2.0607528b.js rel=prefetch><link href=/css/app~9ecf4e23.f51ceec4.css rel=preload as=style><link href=/css/app~c714bc7b.30201842.css rel=preload as=style><link href=/css/app~d0ae3f07.c8a4fa26.css rel=preload as=style><link href=/css/app~f71cff67.cf9edbf3.css rel=preload as=style><link href=/css/chunk-vendors~5068d5f8.26233943.css rel=preload as=style><link href=/css/chunk-vendors~5b24e925.a226ef93.css rel=preload as=style><link href=/css/chunk-vendors~f377e93a.d2c19747.css rel=preload as=style><link href=/js/app~91f4305a.e9a53e4e.js rel=preload as=script><link href=/js/app~9ecf4e23.9782a771.js rel=preload as=script><link href=/js/app~c714bc7b.a3bee93a.js rel=preload as=script><link href=/js/app~d0ae3f07.0a403bc2.js rel=preload as=script><link href=/js/app~f71cff67.9e217523.js rel=preload as=script><link href=/js/chunk-vendors~0a56fd24.29c3f240.js rel=preload as=script><link href=/js/chunk-vendors~15f0789d.0ac021b8.js rel=preload as=script><link href=/js/chunk-vendors~19b1efc4.b15ede23.js rel=preload as=script><link href=/js/chunk-vendors~1ccf8e8a.bec3d938.js rel=preload as=script><link href=/js/chunk-vendors~205977d4.21655202.js rel=preload as=script><link href=/js/chunk-vendors~253ae210.2ff01bcd.js rel=preload as=script><link href=/js/chunk-vendors~2930ad93.aff16316.js rel=preload as=script><link href=/js/chunk-vendors~4572b388.a14ea9a8.js rel=preload as=script><link href=/js/chunk-vendors~46fbf940.ff47ef83.js rel=preload as=script><link href=/js/chunk-vendors~4b106089.58d5e69e.js rel=preload as=script><link href=/js/chunk-vendors~5068d5f8.b14c2d9c.js rel=preload as=script><link href=/js/chunk-vendors~5b24e925.728848b0.js rel=preload as=script><link href=/js/chunk-vendors~5d5f8003.5767f088.js rel=preload as=script><link href=/js/chunk-vendors~69023aca.34c7abb6.js rel=preload as=script><link href=/js/chunk-vendors~690b702c.d1559636.js rel=preload as=script><link href=/js/chunk-vendors~6fdebd6f.c4f835c2.js rel=preload as=script><link href=/js/chunk-vendors~7db804d5.a0cde782.js rel=preload as=script><link href=/js/chunk-vendors~8eeb4602.d193cb6b.js rel=preload as=script><link href=/js/chunk-vendors~b5906859.fff1b6c6.js rel=preload as=script><link href=/js/chunk-vendors~cbc997cd.bbdfb1ec.js rel=preload as=script><link href=/js/chunk-vendors~cc99a214.0d242913.js rel=preload as=script><link href=/js/chunk-vendors~e1ee825c.7e049ecd.js rel=preload as=script><link href=/js/chunk-vendors~e258e298.6919f86d.js rel=preload as=script><link href=/js/chunk-vendors~ef41839a.3705e9eb.js rel=preload as=script><link href=/js/chunk-vendors~f377e93a.fee5257a.js rel=preload as=script><link href=/js/chunk-vendors~f9ca8911.1b9b24ce.js rel=preload as=script><link href=/js/chunk-vendors~fdc6512a.355d42d0.js rel=preload as=script><link href=/css/chunk-vendors~5b24e925.a226ef93.css rel=stylesheet><link href=/css/chunk-vendors~5068d5f8.26233943.css rel=stylesheet><link href=/css/chunk-vendors~f377e93a.d2c19747.css rel=stylesheet><link href=/css/app~d0ae3f07.c8a4fa26.css rel=stylesheet><link href=/css/app~f71cff67.cf9edbf3.css rel=stylesheet><link href=/css/app~9ecf4e23.f51ceec4.css rel=stylesheet><link href=/css/app~c714bc7b.30201842.css rel=stylesheet></head><body><noscript><strong>We're sorry but Rail Facilities Portal doesn't work properly without JavaScript enabled. Please enable it to continue.</strong></noscript><div id=app>Loading application...</div><script src=/js/chunk-vendors~253ae210.2ff01bcd.js></script><script src=/js/chunk-vendors~5d5f8003.5767f088.js></script><script src=/js/chunk-vendors~46fbf940.ff47ef83.js></script><script src=/js/chunk-vendors~6fdebd6f.c4f835c2.js></script><script src=/js/chunk-vendors~4572b388.a14ea9a8.js></script><script src=/js/chunk-vendors~b5906859.fff1b6c6.js></script><script src=/js/chunk-vendors~cbc997cd.bbdfb1ec.js></script><script src=/js/chunk-vendors~19b1efc4.b15ede23.js></script><script src=/js/chunk-vendors~ef41839a.3705e9eb.js></script><script src=/js/chunk-vendors~690b702c.d1559636.js></script><script src=/js/chunk-vendors~5b24e925.728848b0.js></script><script src=/js/chunk-vendors~1ccf8e8a.bec3d938.js></script><script src=/js/chunk-vendors~2930ad93.aff16316.js></script><script src=/js/chunk-vendors~e258e298.6919f86d.js></script><script src=/js/chunk-vendors~8eeb4602.d193cb6b.js></script><script src=/js/chunk-vendors~7db804d5.a0cde782.js></script><script src=/js/chunk-vendors~15f0789d.0ac021b8.js></script><script src=/js/chunk-vendors~cc99a214.0d242913.js></script><script src=/js/chunk-vendors~0a56fd24.29c3f240.js></script><script src=/js/chunk-vendors~f9ca8911.1b9b24ce.js></script><script src=/js/chunk-vendors~4b106089.58d5e69e.js></script><script src=/js/chunk-vendors~fdc6512a.355d42d0.js></script><script src=/js/chunk-vendors~5068d5f8.b14c2d9c.js></script><script src=/js/chunk-vendors~205977d4.21655202.js></script><script src=/js/chunk-vendors~e1ee825c.7e049ecd.js></script><script src=/js/chunk-vendors~69023aca.34c7abb6.js></script><script src=/js/chunk-vendors~f377e93a.fee5257a.js></script><script src=/js/app~d0ae3f07.0a403bc2.js></script><script src=/js/app~f71cff67.9e217523.js></script><script src=/js/app~9ecf4e23.9782a771.js></script><script src=/js/app~91f4305a.e9a53e4e.js></script><script src=/js/app~c714bc7b.a3bee93a.js></script></body></html>\n"
     ]
    }
   ],
   "source": [
    "import requests \n",
    "from selenium import webdriver \n",
    "from selenium.webdriver.chrome.service import Service as ChromeService \n",
    "from webdriver_manager.chrome import ChromeDriverManager \n",
    "from selenium.webdriver.support import expected_conditions as EC\n",
    "from selenium.webdriver.support.ui import WebDriverWait\n",
    "from selenium.webdriver.common.by import By\n",
    "from selenium.webdriver.support.ui import WebDriverWait\n",
    "from selenium.webdriver.common.by import By\n",
    "from selenium.webdriver.support import expected_conditions as EC\n",
    " \n",
    "url = 'https://railfacilitiesportal.eu/'\n",
    " \n",
    "response = requests.get(url) \n",
    " \n",
    "html = response.text \n",
    " \n",
    "print(html)"
   ]
  },
  {
   "cell_type": "code",
   "execution_count": 95,
   "metadata": {},
   "outputs": [],
   "source": [
    "driver = webdriver.Chrome(service=ChromeService( \n",
    "\tChromeDriverManager().install())) \n",
    "\n",
    "driver.get(url) \n",
    "\n",
    "welcome_card = driver.find_element(By.CLASS_NAME, 'welcome-message')"
   ]
  },
  {
   "cell_type": "code",
   "execution_count": 77,
   "metadata": {},
   "outputs": [
    {
     "name": "stdout",
     "output_type": "stream",
     "text": [
      "[<selenium.webdriver.remote.webelement.WebElement (session=\"b70b43777f673414befc481f30e6206f\", element=\"444cbc65-ac3f-4beb-b58a-90925b671abb\")>]\n"
     ]
    }
   ],
   "source": [
    "driver = webdriver.Chrome(service=ChromeService( \n",
    "\tChromeDriverManager().install())) \n",
    "\n",
    "driver.get(url)\n",
    "\n",
    "search_button = driver.find_element(By.XPATH, '/html/body/div[1]/div[1]/div[4]/a[2]')\n",
    "search_button.click()\n",
    "\n",
    "input_field = driver.find_elements(By.TAG_NAME, 'body')\n",
    "print(input_field)\n",
    "input = driver.find_elements(By.TAG_NAME, 'input')"
   ]
  },
  {
   "cell_type": "code",
   "execution_count": 89,
   "metadata": {},
   "outputs": [],
   "source": [
    "input_field[0].get_property(\"class\")"
   ]
  },
  {
   "cell_type": "code",
   "execution_count": 85,
   "metadata": {},
   "outputs": [
    {
     "name": "stdout",
     "output_type": "stream",
     "text": [
      "CybotCookiebotDialogBodyContentCheckboxPersonalInformation\n",
      "CybotCookiebotDialogBodyLevelButtonNecessary\n",
      "CybotCookiebotDialogBodyLevelButtonPreferences\n",
      "CybotCookiebotDialogBodyLevelButtonStatistics\n",
      "CybotCookiebotDialogBodyLevelButtonMarketing\n"
     ]
    }
   ],
   "source": [
    "for i in input:\n",
    "    print(i.get_property(\"id\"))"
   ]
  }
 ],
 "metadata": {
  "kernelspec": {
   "display_name": "sustainable-transport",
   "language": "python",
   "name": "python3"
  },
  "language_info": {
   "codemirror_mode": {
    "name": "ipython",
    "version": 3
   },
   "file_extension": ".py",
   "mimetype": "text/x-python",
   "name": "python",
   "nbconvert_exporter": "python",
   "pygments_lexer": "ipython3",
   "version": "3.10.10"
  },
  "orig_nbformat": 4
 },
 "nbformat": 4,
 "nbformat_minor": 2
}
