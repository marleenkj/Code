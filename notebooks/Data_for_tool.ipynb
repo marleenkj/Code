{
 "cells": [
  {
   "cell_type": "code",
   "execution_count": 22,
   "id": "39005a85",
   "metadata": {},
   "outputs": [],
   "source": [
    "from datetime import timedelta\n",
    "import pandas as pd\n",
    "import json\n",
    "import requests\n",
    "import numpy as np\n",
    "\n",
    "import itertools\n",
    "\n",
    "from datetime import date, timedelta\n",
    "import plotly.express as px\n",
    "from plotly.subplots import make_subplots\n",
    "import datetime as dt\n",
    "\n",
    "import math\n",
    "import time\n",
    "\n",
    "import haversine\n",
    "\n",
    "%reload_ext autoreload\n",
    "%autoreload 2\n",
    "\n",
    "import plotly.graph_objects as go\n",
    "\n",
    "import sys\n",
    "sys.path.append('..')\n",
    "#from src.distance import get_haversine_distance, get_waypoints_osrm\n",
    "#from src.co2 import co2_truck, co2_train\n",
    "#from src.cvrp_ortools import cvrp_ortools\n",
    "#from src.data_matrix import create_data_model, create_dict_points, create_distance_matrix, osrm_matrix\n",
    "#from src.evaluation_unimodal import evaluate_cvrp\n",
    "from src.co2_modells import co2_modell, co2_modell_direct\n",
    "from src.data_matrix import create_dict_points, create_df_distance_matrix\n",
    "from src.data_for_tool import data_import, create_limited_dataset, remove_nan_distance_matrix\n",
    "from src.plots import show_clients, show_clients_dc, show_clients_per_dc, show_clients_per_dc_and_both, template\n",
    "from src.data_matrix import get_distance_osrm_dc_clients, create_dict_points\n",
    "import src.plots\n",
    "from src.create_solution import create_df_analysis_150_20\n",
    "from src.data_for_tool import data_for_tool, create_table_daily_mean, create_table_total, create_lists_days_weeks_months\n",
    "import plotly.io as pio\n",
    "pio.templates.default = template\n",
    "\n",
    "from src.co2_modells import co2_modell_direct\n",
    "\n",
    "from src.distance import get_waypoints_osrm"
   ]
  },
  {
   "cell_type": "code",
   "execution_count": 23,
   "id": "59807605",
   "metadata": {},
   "outputs": [],
   "source": [
    "# maybe legend inside\n",
    "# Farbgebung und font anpassne"
   ]
  },
  {
   "cell_type": "code",
   "execution_count": 24,
   "id": "2f43c2bd",
   "metadata": {},
   "outputs": [],
   "source": [
    "def outlier_removal(dummy_df, cols):\n",
    "    q1 = dummy_df[cols].quantile(0.25) # Same as np.percentile but maps (0,1) and not (0,100)\n",
    "    q3 = dummy_df[cols].quantile(0.75)\n",
    "    iqr = q3 - q1\n",
    "    upper_limit = (q3+1.5*iqr)\n",
    "    lower_limit = (q3-1.5*iqr)\n",
    "    print(upper_limit, lower_limit)\n",
    "    # Filter our dataframe based on condition\n",
    "    filtered_df = dummy_df[(dummy_df[cols] < upper_limit)&(dummy_df[cols] > lower_limit)]\n",
    "    return filtered_df\n",
    "\n",
    "import scipy.stats as stats\n",
    "def outlier_removal_z(col):\n",
    "    #find absolute value of z-score for each observation\n",
    "    z = np.abs(stats.zscore(col))\n",
    "    idx_non_outliers = np.where(z<3, True, False)\n",
    "    return pd.Series(idx_non_outliers, index = col.index)"
   ]
  },
  {
   "cell_type": "code",
   "execution_count": 25,
   "id": "f4e43c6c",
   "metadata": {},
   "outputs": [],
   "source": [
    "list_days, list_mondays, list_bi_daily, list_months = create_lists_days_weeks_months(2022)"
   ]
  },
  {
   "cell_type": "markdown",
   "id": "d58a102d",
   "metadata": {},
   "source": [
    "# Data Import"
   ]
  },
  {
   "cell_type": "code",
   "execution_count": 26,
   "id": "a20712b6",
   "metadata": {},
   "outputs": [
    {
     "name": "stderr",
     "output_type": "stream",
     "text": [
      "C:\\Users\\marle\\OneDrive - tbs-education\\00_Masterarbeit\\Code\\notebooks\\..\\src\\data_for_tool.py:161: DtypeWarning:\n",
      "\n",
      "Columns (1,5,14) have mixed types. Specify dtype option on import or set low_memory=False.\n",
      "\n"
     ]
    }
   ],
   "source": [
    "df, df_terminal, dict_terminals = data_import()\n",
    "df[\"Sender weight (kg)\"] = df[\"Sender weight (kg)\"]*2"
   ]
  },
  {
   "cell_type": "code",
   "execution_count": 27,
   "id": "d13ebac9",
   "metadata": {},
   "outputs": [
    {
     "name": "stderr",
     "output_type": "stream",
     "text": [
      "C:\\Users\\marle\\OneDrive - tbs-education\\00_Masterarbeit\\Code\\notebooks\\..\\src\\plots.py:348: FutureWarning:\n",
      "\n",
      "The default value of numeric_only in DataFrameGroupBy.sum is deprecated. In a future version, numeric_only will default to False. Either specify numeric_only or select only columns which should be valid for the function.\n",
      "\n",
      "C:\\Users\\marle\\OneDrive - tbs-education\\00_Masterarbeit\\Code\\notebooks\\..\\src\\plots.py:368: FutureWarning:\n",
      "\n",
      "The default value of numeric_only in DataFrameGroupBy.sum is deprecated. In a future version, numeric_only will default to False. Either specify numeric_only or select only columns which should be valid for the function.\n",
      "\n",
      "C:\\Users\\marle\\OneDrive - tbs-education\\00_Masterarbeit\\Code\\notebooks\\..\\src\\plots.py:386: FutureWarning:\n",
      "\n",
      "The default value of numeric_only in DataFrameGroupBy.sum is deprecated. In a future version, numeric_only will default to False. Either specify numeric_only or select only columns which should be valid for the function.\n",
      "\n"
     ]
    }
   ],
   "source": [
    "show_clients_dc(df, \"output/plots/show_clients_dc.html\")\n",
    "show_clients_per_dc(df, \"output/plots/show_clients_per_dc.html\")\n",
    "show_clients_per_dc_and_both(df, \"output/plots/show_clients_per_dc_and_both.html\")"
   ]
  },
  {
   "cell_type": "markdown",
   "id": "ec9a8973",
   "metadata": {},
   "source": [
    "### only France mainland"
   ]
  },
  {
   "cell_type": "code",
   "execution_count": 28,
   "id": "c1c8d896",
   "metadata": {
    "scrolled": false
   },
   "outputs": [],
   "source": [
    "# Scope only France mainland\n",
    "# Corsica filter\n",
    "df = df[~((df[\"Receiver longitude\"]>7)&(df[\"Receiver latitude\"]<43))]\n",
    "# Spanien filter\n",
    "df = df[~((df[\"Receiver longitude\"]<0)&(df[\"Receiver latitude\"]<41))]\n",
    "df = df[df[\"Receiver name\"]!=\"C4460\"]\n",
    "df = df[df[\"Receiver name\"]!=\"C1454\"]\n",
    "df = df[df[\"Receiver name\"]!=\"C758\"]"
   ]
  },
  {
   "cell_type": "code",
   "execution_count": 29,
   "id": "6a51ba37",
   "metadata": {},
   "outputs": [],
   "source": [
    "df = df.drop_duplicates()"
   ]
  },
  {
   "cell_type": "code",
   "execution_count": 30,
   "id": "e23fc751",
   "metadata": {
    "scrolled": true
   },
   "outputs": [
    {
     "data": {
      "text/plain": [
       "8580"
      ]
     },
     "execution_count": 30,
     "metadata": {},
     "output_type": "execute_result"
    }
   ],
   "source": [
    "len(df[\"Receiver name\"].unique())"
   ]
  },
  {
   "cell_type": "code",
   "execution_count": 31,
   "id": "4ac4c67d",
   "metadata": {
    "scrolled": false
   },
   "outputs": [
    {
     "name": "stderr",
     "output_type": "stream",
     "text": [
      "C:\\Users\\marle\\OneDrive - tbs-education\\00_Masterarbeit\\Code\\notebooks\\..\\src\\plots.py:348: FutureWarning:\n",
      "\n",
      "The default value of numeric_only in DataFrameGroupBy.sum is deprecated. In a future version, numeric_only will default to False. Either specify numeric_only or select only columns which should be valid for the function.\n",
      "\n",
      "C:\\Users\\marle\\OneDrive - tbs-education\\00_Masterarbeit\\Code\\notebooks\\..\\src\\plots.py:368: FutureWarning:\n",
      "\n",
      "The default value of numeric_only in DataFrameGroupBy.sum is deprecated. In a future version, numeric_only will default to False. Either specify numeric_only or select only columns which should be valid for the function.\n",
      "\n",
      "C:\\Users\\marle\\OneDrive - tbs-education\\00_Masterarbeit\\Code\\notebooks\\..\\src\\plots.py:386: FutureWarning:\n",
      "\n",
      "The default value of numeric_only in DataFrameGroupBy.sum is deprecated. In a future version, numeric_only will default to False. Either specify numeric_only or select only columns which should be valid for the function.\n",
      "\n"
     ]
    }
   ],
   "source": [
    "show_clients_dc(df, \"output/plots/show_clients_dc_mainland.html\")\n",
    "show_clients_per_dc(df, \"output/plots/show_clients_per_dc_mainland.html\")\n",
    "show_clients_per_dc_and_both(df, \"output/plots/show_clients_per_dc_and_both_mainland.html\")"
   ]
  },
  {
   "cell_type": "markdown",
   "id": "aa046692",
   "metadata": {},
   "source": [
    "### Outlier removal with IQR"
   ]
  },
  {
   "cell_type": "code",
   "execution_count": 32,
   "id": "0383d7b3",
   "metadata": {},
   "outputs": [],
   "source": [
    "# Outlier removal with IQR\n",
    "def plot_outlier_removal(df, path_plot = False):\n",
    "    fig = go.Figure()\n",
    "    fig.add_trace(go.Box(x = df[\"Sender weight (kg)\"], name = \"All points\"))\n",
    "    df = outlier_removal(df, \"Sender weight (kg)\")\n",
    "    fig.add_trace(go.Box(x = df[\"Sender weight (kg)\"], boxpoints = False, name = \"After removal\"))\n",
    "    fig.update_layout(xaxis_title='Sender weight (kg)')\n",
    "    if path_plot == False:\n",
    "            fig.show()\n",
    "    else:\n",
    "        fig.write_html(path_plot, auto_open = False)\n",
    "    return df"
   ]
  },
  {
   "cell_type": "code",
   "execution_count": 33,
   "id": "0168db6d",
   "metadata": {},
   "outputs": [
    {
     "name": "stdout",
     "output_type": "stream",
     "text": [
      "96.70625000000001 -16.173250000000003\n"
     ]
    }
   ],
   "source": [
    "df = plot_outlier_removal(df, \"output/plots/plot_outlier_removal.html\")"
   ]
  },
  {
   "cell_type": "markdown",
   "id": "2df1272e",
   "metadata": {},
   "source": [
    "## Data Exploration"
   ]
  },
  {
   "cell_type": "code",
   "execution_count": 34,
   "id": "9d073da7",
   "metadata": {
    "scrolled": true
   },
   "outputs": [],
   "source": [
    "def boxplot_distribution(df, path_plot = False):\n",
    "    fig = go.Figure()\n",
    "    fig.add_trace(go.Box(x = df[df[\"Shipper name\"]==\"DC2\"][\"Sender weight (kg)\"], name = \"DC2\"))\n",
    "    fig.add_trace(go.Box(x = df[df[\"Shipper name\"]==\"DC1\"][\"Sender weight (kg)\"], name = \"DC1\"))\n",
    "    fig.add_trace(go.Box(x = df[\"Sender weight (kg)\"],  name = \"both DCs\"))\n",
    "    fig.update_traces(boxpoints = False)\n",
    "    fig.update_layout(xaxis_title='Sender weight (kg)')\n",
    "    if path_plot == False:\n",
    "            fig.show()\n",
    "    else:\n",
    "        fig.write_html(path_plot, auto_open = False)"
   ]
  },
  {
   "cell_type": "code",
   "execution_count": 35,
   "id": "f4ecbccd",
   "metadata": {},
   "outputs": [],
   "source": [
    "boxplot_distribution(df, \"output/plots/boxplot_distribution.html\")"
   ]
  },
  {
   "cell_type": "code",
   "execution_count": 36,
   "id": "769ea460",
   "metadata": {},
   "outputs": [],
   "source": [
    "df = df[df[\"Sender weight (kg)\"]>1]"
   ]
  },
  {
   "cell_type": "code",
   "execution_count": 37,
   "id": "3f52041c",
   "metadata": {},
   "outputs": [
    {
     "data": {
      "text/plain": [
       "7305"
      ]
     },
     "execution_count": 37,
     "metadata": {},
     "output_type": "execute_result"
    }
   ],
   "source": [
    "len(df[\"Receiver name\"].unique())"
   ]
  },
  {
   "cell_type": "markdown",
   "id": "310f97f8",
   "metadata": {},
   "source": [
    "### 80% Rule"
   ]
  },
  {
   "cell_type": "code",
   "execution_count": 38,
   "id": "c22a09be",
   "metadata": {},
   "outputs": [],
   "source": [
    "def plot_80_20_rule(data, dc, path_plot = False):\n",
    "    title_font=dict(size=12)\n",
    "    fig = make_subplots(rows=2, cols=1, shared_xaxes=True,vertical_spacing=0.05, row_heights = [0.5, 0.5])\n",
    "    df_dc = data[data[\"Shipper name\"]==dc]\n",
    "    df_dc[\"Sender weight (kg)\"] = df_dc[\"Sender weight (kg)\"]/1000\n",
    "\n",
    "    weight = df_dc.groupby([\"Receiver name\"])[\"Sender weight (kg)\"].sum().reset_index().sort_values(by = \"Sender weight (kg)\", ascending=False).reset_index()\n",
    "    weight[\"Sender weight cum\"] = weight[\"Sender weight (kg)\"].cumsum()\n",
    "\n",
    "    # Row 1\n",
    "    fig.add_trace(go.Scatter(x = weight.index, y = weight[\"Sender weight (kg)\"], name = \"weight per client\"), row = 1, col = 1)\n",
    "    fig.update_yaxes(title_text = \"Sender weight (t)\", row = 1, col = 1)\n",
    "\n",
    "    # Row 2\n",
    "    fig.add_trace(go.Scatter(x = weight.index, y = weight[\"Sender weight cum\"]), row = 2, col = 1)\n",
    "    x_add = 0\n",
    "    for i in [0.8,0.9,1]:\n",
    "        y1 = df_dc[\"Sender weight (kg)\"].sum()*i\n",
    "        x1 = len(weight[weight[\"Sender weight cum\"]<df_dc[\"Sender weight (kg)\"].sum()*i].index)\n",
    "        print(x1)\n",
    "        fig.add_shape(type = \"rect\", y0=0, y1=y1, x0 = 0, x1 = x1, line_width=0, fillcolor=\"red\", opacity=0.2, row = 2, col = 1)\n",
    "        fig.add_trace(go.Scatter(x=[(x1+x_add)/2],y=[y1/2],text=[f\"{i*100:.0f}%\"],mode=\"text\"), row = 2, col = 1)\n",
    "        x_add = x1\n",
    "    fig.update_xaxes(\n",
    "        #showticklabels=False, \n",
    "        title = \"Number of clients sorted by sender weight\", row = 2, col = 1)\n",
    "    fig.update_yaxes(title = \"Cumulated<br>sender weight (t)\", row = 2, col = 1)\n",
    "    fig.update_traces(showlegend = False)\n",
    "    fig.update_yaxes(title_font=title_font)\n",
    "    fig.update_xaxes(title_font=title_font)\n",
    "    fig.update_layout(height = 800)\n",
    "    if path_plot == False:\n",
    "            fig.show()\n",
    "    else:\n",
    "        fig.write_html(path_plot, auto_open = False)"
   ]
  },
  {
   "cell_type": "code",
   "execution_count": 39,
   "id": "51e93d9b",
   "metadata": {
    "scrolled": false
   },
   "outputs": [
    {
     "name": "stderr",
     "output_type": "stream",
     "text": [
      "C:\\Users\\marle\\AppData\\Local\\Temp\\ipykernel_16580\\3376088496.py:5: SettingWithCopyWarning:\n",
      "\n",
      "\n",
      "A value is trying to be set on a copy of a slice from a DataFrame.\n",
      "Try using .loc[row_indexer,col_indexer] = value instead\n",
      "\n",
      "See the caveats in the documentation: https://pandas.pydata.org/pandas-docs/stable/user_guide/indexing.html#returning-a-view-versus-a-copy\n",
      "\n"
     ]
    },
    {
     "name": "stdout",
     "output_type": "stream",
     "text": [
      "522\n",
      "893\n",
      "5211\n",
      "567\n",
      "1090\n",
      "4608\n"
     ]
    },
    {
     "name": "stderr",
     "output_type": "stream",
     "text": [
      "C:\\Users\\marle\\AppData\\Local\\Temp\\ipykernel_16580\\3376088496.py:5: SettingWithCopyWarning:\n",
      "\n",
      "\n",
      "A value is trying to be set on a copy of a slice from a DataFrame.\n",
      "Try using .loc[row_indexer,col_indexer] = value instead\n",
      "\n",
      "See the caveats in the documentation: https://pandas.pydata.org/pandas-docs/stable/user_guide/indexing.html#returning-a-view-versus-a-copy\n",
      "\n"
     ]
    }
   ],
   "source": [
    "plot_80_20_rule(df, \"DC1\", \"output/plots/boxplot_distribution_dc1.html\")\n",
    "plot_80_20_rule(df, \"DC2\", \"output/plots/boxplot_distribution_dc2.html\")"
   ]
  },
  {
   "cell_type": "markdown",
   "id": "1c49c27f",
   "metadata": {},
   "source": [
    "### Final dataset and distance matrix"
   ]
  },
  {
   "cell_type": "code",
   "execution_count": 40,
   "id": "2c433af3",
   "metadata": {},
   "outputs": [
    {
     "name": "stdout",
     "output_type": "stream",
     "text": [
      "522\n",
      "567\n"
     ]
    }
   ],
   "source": [
    "# Limited dataset\n",
    "df_limited = pd.concat([create_limited_dataset(df, 0.8, \"DC1\"), create_limited_dataset(df, 0.8, \"DC2\")])"
   ]
  },
  {
   "cell_type": "markdown",
   "id": "918fda39",
   "metadata": {},
   "source": [
    "> Cleaning done"
   ]
  },
  {
   "cell_type": "markdown",
   "id": "4e5a967c",
   "metadata": {},
   "source": [
    "#### df distance matrix"
   ]
  },
  {
   "cell_type": "code",
   "execution_count": 41,
   "id": "4c18b066",
   "metadata": {
    "scrolled": true
   },
   "outputs": [
    {
     "name": "stdout",
     "output_type": "stream",
     "text": [
      "1\n",
      "2\n",
      "3\n",
      "4\n",
      "5\n",
      "6\n",
      "7\n",
      "8\n"
     ]
    }
   ],
   "source": [
    "df_distance_matrix = create_df_distance_matrix(df_limited, dict_terminals)"
   ]
  },
  {
   "cell_type": "code",
   "execution_count": 42,
   "id": "b297d461",
   "metadata": {},
   "outputs": [],
   "source": [
    "df_distance_matrix.to_csv(\"results/df_distance_matrix.csv\")"
   ]
  },
  {
   "cell_type": "code",
   "execution_count": 43,
   "id": "f2eaee8b",
   "metadata": {},
   "outputs": [],
   "source": [
    "dict_points = create_dict_points(df_limited, \"Shipper name\", \"Shipper latitude\", \"Shipper longitude\")       \n",
    "dict_points.update(create_dict_points(df_limited, \"Receiver name\", \"Receiver latitude\", \"Receiver longitude\"))\n",
    "dict_points.update(dict_terminals)\n",
    "with open(\"../data/processed/dict_points.json\", \"w\") as fp:\n",
    "    json.dump(dict_points , fp) "
   ]
  },
  {
   "cell_type": "code",
   "execution_count": 1,
   "id": "bffa1841",
   "metadata": {},
   "outputs": [
    {
     "ename": "NameError",
     "evalue": "name 'df_distance_matrix' is not defined",
     "output_type": "error",
     "traceback": [
      "\u001b[1;31m---------------------------------------------------------------------------\u001b[0m",
      "\u001b[1;31mNameError\u001b[0m                                 Traceback (most recent call last)",
      "Cell \u001b[1;32mIn[1], line 1\u001b[0m\n\u001b[1;32m----> 1\u001b[0m \u001b[43mdf_distance_matrix\u001b[49m\u001b[38;5;241m.\u001b[39mloc[\u001b[38;5;124m\"\u001b[39m\u001b[38;5;124mDC1\u001b[39m\u001b[38;5;124m\"\u001b[39m][dict_terminals\u001b[38;5;241m.\u001b[39mkeys()]\u001b[38;5;241m.\u001b[39mminidx()\n",
      "\u001b[1;31mNameError\u001b[0m: name 'df_distance_matrix' is not defined"
     ]
    }
   ],
   "source": []
  },
  {
   "cell_type": "code",
   "execution_count": 44,
   "id": "d3d094f2",
   "metadata": {},
   "outputs": [],
   "source": [
    "with open(\"../data/processed/dict_points.json\", \"w\") as fp:\n",
    "    json.dump(dict_points , fp) "
   ]
  },
  {
   "cell_type": "markdown",
   "id": "027cfac4",
   "metadata": {},
   "source": [
    "#### final dataset"
   ]
  },
  {
   "cell_type": "code",
   "execution_count": 45,
   "id": "cd3d5ccf",
   "metadata": {},
   "outputs": [],
   "source": [
    "df_limited.to_csv(\"results/df_limited.csv\", index = False)"
   ]
  },
  {
   "cell_type": "markdown",
   "id": "fc9666ac",
   "metadata": {},
   "source": [
    "## Terminals "
   ]
  },
  {
   "cell_type": "code",
   "execution_count": 46,
   "id": "c7f78751",
   "metadata": {},
   "outputs": [],
   "source": [
    "from src.plots import poi_poly"
   ]
  },
  {
   "cell_type": "code",
   "execution_count": 47,
   "id": "6203e06a",
   "metadata": {},
   "outputs": [],
   "source": [
    "def show_terminals_150(dict_terminals, path_plot = False):\n",
    "    list_dict_circle = [{\n",
    "        \"source\": json.loads(\n",
    "            poi_poly(None, poi={\"Latitude\": dict_terminals[i][0],\"Longitude\": dict_terminals[i][1]}, \n",
    "                     radius=150000).to_json()),\n",
    "        \"below\": \"traces\",\n",
    "        \"type\": \"fill\",\n",
    "        \"color\": \"green\",\n",
    "        \"line\": {\"width\": 1.5},\n",
    "        \"opacity\": 0.2\n",
    "        #\"fillcolor\": \"red\"\n",
    "        } for i in dict_terminals.keys()]\n",
    "\n",
    "    fig = go.Figure()\n",
    "    fig.add_trace(go.Scattermapbox(lat=[i[0] for i in list(dict_terminals.values())], lon=[i[1] for i in list(dict_terminals.values())], \n",
    "                                   mode = 'markers', marker = {'size': 12, \"color\": \"green\"}, name = f\"Terminals\"))\n",
    "    fig.update_layout(margin={\"r\": 0, \"t\": 40, \"l\": 0, \"b\": 40}, mapbox={\n",
    "                      'zoom': 4, \"center\": {'lat': 45, 'lon': 3}})\n",
    "    fig.update_layout(mapbox={\n",
    "                \"style\": \"open-street-map\",\n",
    "                \"layers\": list_dict_circle\n",
    "            })\n",
    "    fig.update_layout(height = 500)\n",
    "    if path_plot == False:\n",
    "        fig.show()\n",
    "    else:\n",
    "        fig.write_html(path_plot, auto_open = False)"
   ]
  },
  {
   "cell_type": "code",
   "execution_count": 48,
   "id": "3e072be6",
   "metadata": {},
   "outputs": [],
   "source": [
    "def show_clients_terminals_150(df, dict_terminals, path_plot = False):\n",
    "    dict_colors = {\n",
    "        \"No\": \"green\",\n",
    "        \"Yes\": \"red\",\n",
    "        \"Road\": \"blue\"\n",
    "    }\n",
    "    dict_legend = {\n",
    "        \"No\": \"with suitable terminal\",\n",
    "        \"Yes\": \"with no suitable terminal\",\n",
    "        \"Road\": \"assigned to allroad\"\n",
    "    }\n",
    "    list_dict_circle = [{\n",
    "        \"source\": json.loads(\n",
    "            poi_poly(None, poi={\"Latitude\": dict_terminals[i][0],\"Longitude\": dict_terminals[i][1]}, \n",
    "                     radius=150000).to_json()),\n",
    "        \"below\": \"traces\",\n",
    "        \"type\": \"fill\",\n",
    "        \"color\": \"green\",\n",
    "        \"line\": {\"width\": 1.5},\n",
    "        \"opacity\": 0.2\n",
    "        #\"fillcolor\": \"red\"\n",
    "        } for i in dict_terminals.keys()]\n",
    "    dict_points = create_dict_points(df, \"Shipper name\", \"Shipper latitude\", \"Shipper longitude\") \n",
    "    dict_points.update(create_dict_points(df, \"Receiver name\", \"Receiver latitude\", \"Receiver longitude\"))\n",
    "    df_150_20 = create_df_analysis_150_20(df, dict_terminals, dict_points)\n",
    "    \n",
    "    df = df.merge(df_150_20[[\"More than 150km\"]].reset_index(names = \"Receiver name\"), \n",
    "                                  on = [\"Receiver name\"], how = \"left\")\n",
    "    fig = go.Figure()\n",
    "    for i in list(df[\"More than 150km\"].unique()):\n",
    "        df_temp = df[(df[\"More than 150km\"]==i)]\n",
    "        fig.add_trace(go.Scattermapbox(lat=df_temp['Receiver latitude'].to_list(), lon=df_temp['Receiver longitude'].to_list(), \n",
    "                                   mode = 'markers', marker = {'size': 4, 'color': dict_colors[i]}, name = f\"Clients {dict_legend[i]}\",\n",
    "                                   customdata=df_temp[[\"Receiver name\", \"Sender weight (kg)\"]],\n",
    "                                   hovertemplate='''<br>%{customdata[0]}: %{customdata[1]}kg<br><extra></extra>'''))\n",
    "    fig.add_trace(go.Scattermapbox(lat=[i[0] for i in list(dict_terminals.values())], lon=[i[1] for i in list(dict_terminals.values())], \n",
    "                                   mode = 'markers', marker = {'size': 12}, name = f\"Terminals\"))\n",
    "    fig.add_trace(go.Scattermapbox(lat=[df[\"Shipper latitude\"].iloc[0]], lon=[df[\"Shipper longitude\"].iloc[0]], \n",
    "                                   mode = 'markers', marker = {'size': 12}, name = f'{df[\"Shipper name\"].iloc[0]}'))\n",
    "    fig.update_layout(margin={\"r\": 0, \"t\": 40, \"l\": 0, \"b\": 40}, mapbox={\n",
    "                      'zoom': 4, \"center\": {'lat': 45, 'lon': 3}})\n",
    "    fig.update_layout(legend=dict(\n",
    "        yanchor=\"top\",\n",
    "        y=0.99,\n",
    "        xanchor=\"left\",\n",
    "        x=0.01\n",
    "    ))\n",
    "    fig.update_layout(mapbox={\n",
    "                \"style\": \"open-street-map\",\n",
    "                \"layers\": list_dict_circle\n",
    "            })\n",
    "    fig.update_layout(mapbox_style=\"open-street-map\", height = 500)\n",
    "    if path_plot == False:\n",
    "        fig.show()\n",
    "    else:\n",
    "        fig.write_html(path_plot, auto_open = False)"
   ]
  },
  {
   "cell_type": "code",
   "execution_count": 49,
   "id": "9e2742b5",
   "metadata": {},
   "outputs": [],
   "source": [
    "def show_clients_terminals_150_outliers(df, dict_terminals, path_plot = False):\n",
    "    dict_colors = {\n",
    "        \"No\": \"green\",\n",
    "        \"Yes\": \"red\",\n",
    "        \"Road\": \"blue\"\n",
    "    }\n",
    "    list_dict_circle = [{\n",
    "        \"source\": json.loads(\n",
    "            poi_poly(None, poi={\"Latitude\": dict_terminals[i][0],\"Longitude\": dict_terminals[i][1]}, \n",
    "                     radius=150000).to_json()),\n",
    "        \"below\": \"traces\",\n",
    "        \"type\": \"fill\",\n",
    "        \"color\": \"green\",\n",
    "        \"line\": {\"width\": 1.5},\n",
    "        \"opacity\": 0.2\n",
    "        #\"fillcolor\": \"red\"\n",
    "        } for i in dict_terminals.keys()]\n",
    "    dict_points = create_dict_points(df, \"Shipper name\", \"Shipper latitude\", \"Shipper longitude\") \n",
    "    dict_points.update(create_dict_points(df, \"Receiver name\", \"Receiver latitude\", \"Receiver longitude\"))\n",
    "    df_150_20 = create_df_analysis_150_20(df, dict_terminals, dict_points)\n",
    "    df = df.merge(df_150_20[[\"More than 150km\"]].reset_index(names = \"Receiver name\"), on = [\"Receiver name\"], how = \"left\")\n",
    "    fig = go.Figure()\n",
    "    df_temp = df[(df[\"More than 150km\"]==\"Yes\")]\n",
    "    fig.add_trace(go.Scattermapbox(lat=df_temp['Receiver latitude'].to_list(), lon=df_temp['Receiver longitude'].to_list(), \n",
    "                               mode = 'markers', marker = {'size': 4, 'color': \"red\"}, name = f\"Clients with no suitable terminal\",\n",
    "                               customdata=df_temp[[\"Receiver name\", \"Sender weight (kg)\"]],\n",
    "                               hovertemplate='''<br>%{customdata[0]}: %{customdata[1]}kg<br><extra></extra>'''))\n",
    "    fig.add_trace(go.Scattermapbox(lat=[i[0] for i in list(dict_terminals.values())], lon=[i[1] for i in list(dict_terminals.values())], \n",
    "                                   mode = 'markers', marker = {'size': 12, \"color\": \"green\"}, name = f\"Terminals\"))\n",
    "    fig.update_layout(margin={\"r\": 0, \"t\": 40, \"l\": 0, \"b\": 40}, mapbox={\n",
    "                      'zoom': 4, \"center\": {'lat': 45, 'lon': 3}})\n",
    "    fig.update_layout(mapbox={\n",
    "                \"style\": \"open-street-map\",\n",
    "                \"layers\": list_dict_circle\n",
    "            })\n",
    "    fig.update_layout(legend=dict(\n",
    "        yanchor=\"top\",\n",
    "        y=0.99,\n",
    "        xanchor=\"left\",\n",
    "        x=0.01\n",
    "    ))\n",
    "    fig.update_layout(mapbox_style=\"open-street-map\", height = 500)\n",
    "    if path_plot == False:\n",
    "        fig.show()\n",
    "    else:\n",
    "        fig.write_html(path_plot, auto_open = False)"
   ]
  },
  {
   "cell_type": "code",
   "execution_count": 50,
   "id": "d060ce94",
   "metadata": {},
   "outputs": [
    {
     "name": "stderr",
     "output_type": "stream",
     "text": [
      "C:\\Users\\marle\\OneDrive - tbs-education\\00_Masterarbeit\\Code\\notebooks\\..\\src\\create_solution.py:122: FutureWarning:\n",
      "\n",
      "Dropping of nuisance columns in DataFrame reductions (with 'numeric_only=None') is deprecated; in a future version this will raise TypeError.  Select only valid columns before calling the reduction.\n",
      "\n"
     ]
    },
    {
     "name": "stdout",
     "output_type": "stream",
     "text": [
      "(1626, 12)\n"
     ]
    },
    {
     "ename": "NameError",
     "evalue": "name 'df_dc1' is not defined",
     "output_type": "error",
     "traceback": [
      "\u001b[1;31m---------------------------------------------------------------------------\u001b[0m",
      "\u001b[1;31mNameError\u001b[0m                                 Traceback (most recent call last)",
      "Cell \u001b[1;32mIn[50], line 3\u001b[0m\n\u001b[0;32m      1\u001b[0m show_terminals_150(dict_terminals, \u001b[38;5;124m\"\u001b[39m\u001b[38;5;124moutput/plots/terminals_150.html\u001b[39m\u001b[38;5;124m\"\u001b[39m)\n\u001b[0;32m      2\u001b[0m show_clients_terminals_150_outliers(df, dict_terminals, \u001b[38;5;124m\"\u001b[39m\u001b[38;5;124moutput/plots/clients_terminals_150_outliers.html\u001b[39m\u001b[38;5;124m\"\u001b[39m)\n\u001b[1;32m----> 3\u001b[0m show_clients_terminals_150(\u001b[43mdf_dc1\u001b[49m, dict_terminals, \u001b[38;5;124m\"\u001b[39m\u001b[38;5;124moutput/plots/clients_terminals_150.html\u001b[39m\u001b[38;5;124m\"\u001b[39m)\n",
      "\u001b[1;31mNameError\u001b[0m: name 'df_dc1' is not defined"
     ]
    }
   ],
   "source": [
    "show_terminals_150(dict_terminals, \"output/plots/terminals_150.html\")\n",
    "show_clients_terminals_150_outliers(df, dict_terminals, \"output/plots/clients_terminals_150_outliers.html\")\n",
    "show_clients_terminals_150(df_dc1, dict_terminals, \"output/plots/clients_terminals_150.html\")"
   ]
  },
  {
   "cell_type": "markdown",
   "id": "822fbc73",
   "metadata": {},
   "source": [
    "****"
   ]
  },
  {
   "cell_type": "code",
   "execution_count": null,
   "id": "b23206ad",
   "metadata": {},
   "outputs": [],
   "source": [
    "def plot_all_planning_horizons(df_plot):\n",
    "    fig = make_subplots(rows=3, cols=2, shared_yaxes=True, horizontal_spacing=0.02, column_widths=[0.9, 0.1])\n",
    "    i = 1\n",
    "    df_plot[\"Planning date\"] = df_plot[\"Delivery date\"].dt.date\n",
    "    df_grouped = df_plot.groupby([\"Planning date\"]).sum(numeric_only = True)\n",
    "    title_xaxes = \"Days\"\n",
    "    fig.add_trace(go.Bar(x = df_grouped.index, y=df_grouped[\"Sender weight (kg)\"], \n",
    "                             hovertemplate='''<br>%{x}<br>Weight: %{y:,.0f} kg<br><extra></extra>'''),i, 1)\n",
    "    fig.add_trace(go.Box(y=df_grouped[df_grouped[\"Sender weight (kg)\"]>0][\"Sender weight (kg)\"],\n",
    "                         customdata = df_grouped[df_grouped[\"Sender weight (kg)\"]>0].index,\n",
    "                        hovertemplate='''<br>%{customdata}<br>Weight: %{y:,.0f} kg<br><extra></extra>''', name = \"Distribution\"), i, 2)\n",
    "    fig.update_yaxes(title = \"sum of sender weight (kg)\", col = 1, row = i)\n",
    "    fig.update_xaxes(title = title_xaxes, col = 1, row = i)\n",
    "    \n",
    "    i = 2\n",
    "    df_plot[\"Planning date\"] = np.where(\n",
    "                                (df_plot[\"Delivery date\"].dt.weekday == 0)|\n",
    "                                (df_plot[\"Delivery date\"].dt.weekday == 1), \"M\", \n",
    "                                np.where(\n",
    "                                    (df_plot[\"Delivery date\"].dt.weekday == 2)|\n",
    "                                    (df_plot[\"Delivery date\"].dt.weekday == 3), \"W\", \"F\"))\n",
    "    df_plot[\"Planning week\"] = df_plot[\"Delivery date\"].dt.isocalendar().week.astype(str)\n",
    "    df_plot[\"Planning date\"] = df_plot[\"Planning date\"] + \" W\"+ df_plot[\"Planning week\"]\n",
    "    df_grouped = df_plot.groupby([\"Planning date\"]).sum(numeric_only = True)\n",
    "    title_xaxes = \"Days\"\n",
    "    fig.add_trace(go.Bar(x = df_grouped.index, y=df_grouped[\"Sender weight (kg)\"], \n",
    "                             hovertemplate='''<br>%{x}<br>Weight: %{y:,.0f} kg<br><extra></extra>'''),i, 1)\n",
    "    fig.add_trace(go.Box(y=df_grouped[df_grouped[\"Sender weight (kg)\"]>0][\"Sender weight (kg)\"],\n",
    "                         customdata = df_grouped[df_grouped[\"Sender weight (kg)\"]>0].index,\n",
    "                        hovertemplate='''<br>%{customdata}<br>Weight: %{y:,.0f} kg<br><extra></extra>''', name = \"Distribution\"), i, 2)\n",
    "    fig.update_yaxes(title = \"sum of sender weight (kg)\", col = 1, row = i)\n",
    "    fig.update_xaxes(title = title_xaxes, col = 1, row = i)\n",
    "    fig.update_xaxes(categoryorder='array', categoryarray= list(df_plot[\"Planning date\"].unique()), col = 1, row = i)\n",
    "    \n",
    "    i = 3\n",
    "    df_plot[\"Planning date\"] = df_plot[\"Delivery date\"].dt.isocalendar().week\n",
    "    df_grouped = df_plot.groupby([\"Planning date\"]).sum(numeric_only = True)\n",
    "    title_xaxes = \"Weeks\"\n",
    "    fig.add_trace(go.Bar(x = df_grouped.index, y=df_grouped[\"Sender weight (kg)\"], \n",
    "                             hovertemplate='''<br>%{x}<br>Weight: %{y:,.0f} kg<br><extra></extra>'''),i, 1)\n",
    "    fig.add_trace(go.Box(y=df_grouped[df_grouped[\"Sender weight (kg)\"]>0][\"Sender weight (kg)\"],\n",
    "                         customdata = df_grouped[df_grouped[\"Sender weight (kg)\"]>0].index,\n",
    "                        hovertemplate='''<br>%{customdata}<br>Weight: %{y:,.0f} kg<br><extra></extra>''', name = \"Distribution\"), i, 2)\n",
    "    fig.update_yaxes(title = \"sum of sender weight (kg)\", col = 1, row = i)\n",
    "    fig.update_xaxes(title = title_xaxes, col = 1, row = i)\n",
    "    \n",
    "    \n",
    "    \n",
    "    fig.update_layout(showlegend = False, height = 1000)\n",
    "    fig.show()"
   ]
  },
  {
   "cell_type": "code",
   "execution_count": null,
   "id": "ff696389",
   "metadata": {},
   "outputs": [],
   "source": [
    "# Anhang\n",
    "plot_all_planning_horizons(df_dc2)"
   ]
  }
 ],
 "metadata": {
  "kernelspec": {
   "display_name": "Python 3 (ipykernel)",
   "language": "python",
   "name": "python3"
  },
  "language_info": {
   "codemirror_mode": {
    "name": "ipython",
    "version": 3
   },
   "file_extension": ".py",
   "mimetype": "text/x-python",
   "name": "python",
   "nbconvert_exporter": "python",
   "pygments_lexer": "ipython3",
   "version": "3.10.9"
  }
 },
 "nbformat": 4,
 "nbformat_minor": 5
}
